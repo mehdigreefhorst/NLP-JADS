{
 "cells": [
  {
   "cell_type": "code",
   "execution_count": 1,
   "id": "initial_id",
   "metadata": {
    "collapsed": true,
    "ExecuteTime": {
     "end_time": "2024-11-01T14:51:13.090093200Z",
     "start_time": "2024-11-01T14:51:11.323908700Z"
    }
   },
   "outputs": [],
   "source": [
    "import Assignment2.df_filter_nvida\n",
    "from nltk.tokenize import word_tokenize\n",
    "import re\n",
    "from unidecode import unidecode\n",
    "import pandas as pd\n",
    "from nltk.corpus import stopwords\n",
    "from collections import Counter"
   ]
  },
  {
   "cell_type": "code",
   "execution_count": 2,
   "outputs": [],
   "source": [
    "stop_words = set(stopwords.words('english'))\n"
   ],
   "metadata": {
    "collapsed": false,
    "ExecuteTime": {
     "end_time": "2024-11-01T14:51:13.099510400Z",
     "start_time": "2024-11-01T14:51:13.090093200Z"
    }
   },
   "id": "262abf150e19239e"
  },
  {
   "cell_type": "code",
   "execution_count": 4,
   "outputs": [],
   "source": [
    "news_articles_data = pd.read_csv(\"../data/us_equities_news_dataset.csv\")\n"
   ],
   "metadata": {
    "collapsed": false,
    "ExecuteTime": {
     "end_time": "2024-11-01T14:51:41.688578800Z",
     "start_time": "2024-11-01T14:51:33.069349300Z"
    }
   },
   "id": "83565cf8daf5c5f"
  },
  {
   "cell_type": "code",
   "execution_count": 5,
   "outputs": [],
   "source": [
    "# Sample keywords related to NVIDIA and associated companies\n",
    "nvidia_keywords = [\n",
    "    'NVDA', 'NVIDIA']\n",
    "\n",
    "'''\n",
    "\n",
    "More keywords can be added to the list to improve the filtering process. But adding all those increases the document number significantly making processing slower and creating memory issues that are unsolvable by my mere laptop. \n",
    "\n",
    "nvidia_keywords = [\n",
    "    'NVDA', 'NVIDIA', 'NIO', 'UBER', 'AMZN', 'AMAZON', 'TESLA', 'AI', 'GPU', 'GRAPHICS',\n",
    "    'CHIP', 'SEMICONDUCTOR', 'AUTONOMOUS', 'DRIVING', 'DEEP LEARNING', 'MACHINE LEARNING'\n",
    "]\n",
    "\n",
    "'''\n",
    "\n",
    "# Compile a regex pattern from the keywords list\n",
    "nvidia_pattern = '|'.join(nvidia_keywords)  # Combines the keywords into a regex pattern\n",
    "\n",
    "# Filter articles where the content or ticker column contains any of the keywords\n",
    "df_news = news_articles_data[\n",
    "    news_articles_data['content'].str.contains(nvidia_pattern, case=False, na=False)\n",
    "]"
   ],
   "metadata": {
    "collapsed": false,
    "ExecuteTime": {
     "end_time": "2024-11-01T14:51:48.649095400Z",
     "start_time": "2024-11-01T14:51:41.700957700Z"
    }
   },
   "id": "9aa06a8ed9ff0586"
  },
  {
   "cell_type": "code",
   "execution_count": 6,
   "outputs": [
    {
     "data": {
      "text/plain": "          id ticker                                              title  \\\n0     221539    NIO  A Central Bank War Just Started And Its Good F...   \n1     221547    NIO         6 Stocks To Watch  Nivida Could Be Falling   \n2     221572    NIO  Stocks   Dow Drops Nearly 400 Points as Apple ...   \n3     221593   UBER  The Zacks Analyst Blog Highlights  Advanced Mi...   \n4     221597   UBER                     The Best Of CES 2020  Revised    \n...      ...    ...                                                ...   \n3436  442657    AMD    Here s Why Nvidia  NVDA  Stock Is Gaining Today   \n3437  442682    AMD      4 Stocks To Watch Today  ATW  CWEI  MXL  SLCA   \n3438  442705    AMD  Here s What The Buy Side Expects From AMD Thur...   \n3439  442984      T  Zacks com Featured Highlights  AT T  Nu Skin E...   \n3440  442987      T  5 Dividend Growth Stocks To Sail Through Uncer...   \n\n     category                                            content release_date  \\\n0     opinion  ECB Effects\\nThe move in the euro was huge  fa...   2019-03-07   \n1     opinion  6 Stocks To Watch  March 6 Trading Session\\nSt...   2019-03-06   \n2        news  Investing com   A rout in Apple and Facebook  ...   2018-11-19   \n3     opinion  For Immediate ReleaseChicago  IL   January 13 ...   2020-01-12   \n4     opinion  With 4 500 companies bringing their innovation...   2020-01-16   \n...       ...                                                ...          ...   \n3436  opinion  Shares of Nvidia   NASDAQ NVDA   are up nearly...   2016-09-27   \n3437  opinion  It was a pretty good start to the week on Mond...   2016-05-17   \n3438  opinion  Advanced Micro Devices Inc   NYSE AMD  is set ...   2014-04-17   \n3439  opinion  For Immediate Release\\n\\nChicago  IL   July 22...   2016-07-21   \n3440  opinion  With uncertainty ruling the markets since the ...   2016-07-20   \n\n                       provider  \\\n0                Michael Kramer   \n1                Michael Kramer   \n2                 Investing.com   \n3     Zacks Investment Research   \n4     Zacks Investment Research   \n...                         ...   \n3436  Zacks Investment Research   \n3437                Harry Boxer   \n3438                   Estimize   \n3439  Zacks Investment Research   \n3440  Zacks Investment Research   \n\n                                                    url  article_id  \n0     https://www.investing.com/analysis/a-central-b...   200395687  \n1     https://www.investing.com/analysis/6-stocks-to...   200394931  \n2     https://www.investing.com/news/stock-market-ne...     1694042  \n3     https://www.investing.com/analysis/the-zacks-a...   200498277  \n4     https://www.investing.com/analysis/the-best-of...   200499164  \n...                                                 ...         ...  \n3436  https://www.investing.com/analysis/here's-why-...   200155860  \n3437  https://www.investing.com/analysis/atw,-cwei,-...   200130262  \n3438  https://www.investing.com/analysis/here’s-what...      209915  \n3439  https://www.investing.com/analysis/zacks.com-f...   200143537  \n3440  https://www.investing.com/analysis/5-dividend-...   200143306  \n\n[3441 rows x 9 columns]",
      "text/html": "<div>\n<style scoped>\n    .dataframe tbody tr th:only-of-type {\n        vertical-align: middle;\n    }\n\n    .dataframe tbody tr th {\n        vertical-align: top;\n    }\n\n    .dataframe thead th {\n        text-align: right;\n    }\n</style>\n<table border=\"1\" class=\"dataframe\">\n  <thead>\n    <tr style=\"text-align: right;\">\n      <th></th>\n      <th>id</th>\n      <th>ticker</th>\n      <th>title</th>\n      <th>category</th>\n      <th>content</th>\n      <th>release_date</th>\n      <th>provider</th>\n      <th>url</th>\n      <th>article_id</th>\n    </tr>\n  </thead>\n  <tbody>\n    <tr>\n      <th>0</th>\n      <td>221539</td>\n      <td>NIO</td>\n      <td>A Central Bank War Just Started And Its Good F...</td>\n      <td>opinion</td>\n      <td>ECB Effects\\nThe move in the euro was huge  fa...</td>\n      <td>2019-03-07</td>\n      <td>Michael Kramer</td>\n      <td>https://www.investing.com/analysis/a-central-b...</td>\n      <td>200395687</td>\n    </tr>\n    <tr>\n      <th>1</th>\n      <td>221547</td>\n      <td>NIO</td>\n      <td>6 Stocks To Watch  Nivida Could Be Falling</td>\n      <td>opinion</td>\n      <td>6 Stocks To Watch  March 6 Trading Session\\nSt...</td>\n      <td>2019-03-06</td>\n      <td>Michael Kramer</td>\n      <td>https://www.investing.com/analysis/6-stocks-to...</td>\n      <td>200394931</td>\n    </tr>\n    <tr>\n      <th>2</th>\n      <td>221572</td>\n      <td>NIO</td>\n      <td>Stocks   Dow Drops Nearly 400 Points as Apple ...</td>\n      <td>news</td>\n      <td>Investing com   A rout in Apple and Facebook  ...</td>\n      <td>2018-11-19</td>\n      <td>Investing.com</td>\n      <td>https://www.investing.com/news/stock-market-ne...</td>\n      <td>1694042</td>\n    </tr>\n    <tr>\n      <th>3</th>\n      <td>221593</td>\n      <td>UBER</td>\n      <td>The Zacks Analyst Blog Highlights  Advanced Mi...</td>\n      <td>opinion</td>\n      <td>For Immediate ReleaseChicago  IL   January 13 ...</td>\n      <td>2020-01-12</td>\n      <td>Zacks Investment Research</td>\n      <td>https://www.investing.com/analysis/the-zacks-a...</td>\n      <td>200498277</td>\n    </tr>\n    <tr>\n      <th>4</th>\n      <td>221597</td>\n      <td>UBER</td>\n      <td>The Best Of CES 2020  Revised</td>\n      <td>opinion</td>\n      <td>With 4 500 companies bringing their innovation...</td>\n      <td>2020-01-16</td>\n      <td>Zacks Investment Research</td>\n      <td>https://www.investing.com/analysis/the-best-of...</td>\n      <td>200499164</td>\n    </tr>\n    <tr>\n      <th>...</th>\n      <td>...</td>\n      <td>...</td>\n      <td>...</td>\n      <td>...</td>\n      <td>...</td>\n      <td>...</td>\n      <td>...</td>\n      <td>...</td>\n      <td>...</td>\n    </tr>\n    <tr>\n      <th>3436</th>\n      <td>442657</td>\n      <td>AMD</td>\n      <td>Here s Why Nvidia  NVDA  Stock Is Gaining Today</td>\n      <td>opinion</td>\n      <td>Shares of Nvidia   NASDAQ NVDA   are up nearly...</td>\n      <td>2016-09-27</td>\n      <td>Zacks Investment Research</td>\n      <td>https://www.investing.com/analysis/here's-why-...</td>\n      <td>200155860</td>\n    </tr>\n    <tr>\n      <th>3437</th>\n      <td>442682</td>\n      <td>AMD</td>\n      <td>4 Stocks To Watch Today  ATW  CWEI  MXL  SLCA</td>\n      <td>opinion</td>\n      <td>It was a pretty good start to the week on Mond...</td>\n      <td>2016-05-17</td>\n      <td>Harry Boxer</td>\n      <td>https://www.investing.com/analysis/atw,-cwei,-...</td>\n      <td>200130262</td>\n    </tr>\n    <tr>\n      <th>3438</th>\n      <td>442705</td>\n      <td>AMD</td>\n      <td>Here s What The Buy Side Expects From AMD Thur...</td>\n      <td>opinion</td>\n      <td>Advanced Micro Devices Inc   NYSE AMD  is set ...</td>\n      <td>2014-04-17</td>\n      <td>Estimize</td>\n      <td>https://www.investing.com/analysis/here’s-what...</td>\n      <td>209915</td>\n    </tr>\n    <tr>\n      <th>3439</th>\n      <td>442984</td>\n      <td>T</td>\n      <td>Zacks com Featured Highlights  AT T  Nu Skin E...</td>\n      <td>opinion</td>\n      <td>For Immediate Release\\n\\nChicago  IL   July 22...</td>\n      <td>2016-07-21</td>\n      <td>Zacks Investment Research</td>\n      <td>https://www.investing.com/analysis/zacks.com-f...</td>\n      <td>200143537</td>\n    </tr>\n    <tr>\n      <th>3440</th>\n      <td>442987</td>\n      <td>T</td>\n      <td>5 Dividend Growth Stocks To Sail Through Uncer...</td>\n      <td>opinion</td>\n      <td>With uncertainty ruling the markets since the ...</td>\n      <td>2016-07-20</td>\n      <td>Zacks Investment Research</td>\n      <td>https://www.investing.com/analysis/5-dividend-...</td>\n      <td>200143306</td>\n    </tr>\n  </tbody>\n</table>\n<p>3441 rows × 9 columns</p>\n</div>"
     },
     "execution_count": 6,
     "metadata": {},
     "output_type": "execute_result"
    }
   ],
   "source": [
    "df_news = df_news.drop_duplicates(subset='content', keep='first').reset_index(drop=True)\n",
    "df_news"
   ],
   "metadata": {
    "collapsed": false,
    "ExecuteTime": {
     "end_time": "2024-11-01T14:51:48.692070900Z",
     "start_time": "2024-11-01T14:51:48.649095400Z"
    }
   },
   "id": "fee0178741b44435"
  },
  {
   "cell_type": "markdown",
   "source": [
    "## Preprocessing takes places in the following steps:\n",
    "- Lowercasing the text\n",
    "- Removing non-alphabetic characters\n",
    "- Removing accents\n",
    "- Tokenization\n",
    "- Removing stopwords\n",
    "- Removing top and bottom n% of words"
   ],
   "metadata": {
    "collapsed": false
   },
   "id": "ac7477b432981d59"
  },
  {
   "cell_type": "code",
   "execution_count": 9,
   "outputs": [],
   "source": [
    "def preprocess_texts_v1(texts, n=0):\n",
    "    processed_texts = []\n",
    "    stop_words = set(stopwords.words('english'))  # Load stopwords once\n",
    "\n",
    "    for text in texts:\n",
    "        # Lowercasing, keep text only, remove accents, tokenization\n",
    "        tokens = [word for word in word_tokenize(re.sub(r'[^a-zA-Z\\s]', '', unidecode(text.lower())))]\n",
    "\n",
    "        # Stopword removal using a set for faster lookup\n",
    "        tokens = [token for token in tokens if token not in stop_words]\n",
    "        processed_texts.append(tokens)\n",
    "\n",
    "    if n > 0:\n",
    "        word_freq = Counter([word for sentence in processed_texts for word in sentence])\n",
    "        top_n = set(word for word, _ in word_freq.most_common(int(n / 100 * len(word_freq))))\n",
    "        bottom_n = set(word for word, _ in word_freq.most_common()[:-int(n / 100 * len(word_freq)) - 1:-1])\n",
    "        \n",
    "        processed_texts = [\n",
    "            [word for word in sentence if word not in top_n and word not in bottom_n]\n",
    "            for sentence in processed_texts\n",
    "        ]\n",
    "\n",
    "    return processed_texts"
   ],
   "metadata": {
    "collapsed": false,
    "ExecuteTime": {
     "end_time": "2024-11-01T14:52:20.496770900Z",
     "start_time": "2024-11-01T14:52:20.476530500Z"
    }
   },
   "id": "d3ed441d691d63e3"
  },
  {
   "cell_type": "code",
   "execution_count": 10,
   "outputs": [],
   "source": [
    "# Preprocess the filtered news content\n",
    "processed_content = preprocess_texts_v1(df_news['content'].tolist())"
   ],
   "metadata": {
    "collapsed": false,
    "ExecuteTime": {
     "end_time": "2024-11-01T14:52:26.641026100Z",
     "start_time": "2024-11-01T14:52:21.116459400Z"
    }
   },
   "id": "6bdf1554a4cd4045"
  },
  {
   "cell_type": "code",
   "execution_count": 11,
   "outputs": [],
   "source": [
    "# Save the processed content to a CSV file\n",
    "processed_df = pd.DataFrame({'processed_content': [' '.join(content) for content in processed_content]})\n",
    "processed_df.to_csv('../data/lda_processed_content.csv', index=False)"
   ],
   "metadata": {
    "collapsed": false,
    "ExecuteTime": {
     "end_time": "2024-11-01T14:52:26.871474200Z",
     "start_time": "2024-11-01T14:52:26.641026100Z"
    }
   },
   "id": "f7ed46545a1e6712"
  },
  {
   "cell_type": "code",
   "execution_count": null,
   "outputs": [],
   "source": [],
   "metadata": {
    "collapsed": false
   },
   "id": "1f70ab3b52800f6c"
  }
 ],
 "metadata": {
  "kernelspec": {
   "display_name": "Python 3",
   "language": "python",
   "name": "python3"
  },
  "language_info": {
   "codemirror_mode": {
    "name": "ipython",
    "version": 2
   },
   "file_extension": ".py",
   "mimetype": "text/x-python",
   "name": "python",
   "nbconvert_exporter": "python",
   "pygments_lexer": "ipython2",
   "version": "2.7.6"
  }
 },
 "nbformat": 4,
 "nbformat_minor": 5
}
