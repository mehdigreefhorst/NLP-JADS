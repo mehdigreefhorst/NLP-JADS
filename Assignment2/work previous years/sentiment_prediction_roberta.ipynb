{
 "cells": [
  {
   "cell_type": "code",
   "execution_count": 17,
   "metadata": {
    "collapsed": true,
    "ExecuteTime": {
     "start_time": "2023-12-28T15:20:25.146600Z",
     "end_time": "2023-12-28T15:20:25.255537Z"
    }
   },
   "outputs": [],
   "source": [
    "import numpy as np\n",
    "import pandas as pd\n",
    "import matplotlib.pyplot as plt\n",
    "import seaborn as sns\n",
    "import pyreadr\n",
    "import os\n",
    "import category_encoders as ce\n",
    "\n",
    "\n",
    "# Load data\n",
    "def get_pandas_frame(path):\n",
    "    return pyreadr.read_r(path)[None]\n",
    "\n",
    "\n",
    "def get_pandas_r_file(week_nr, file_type):\n",
    "    week_nr = str(week_nr)\n",
    "    week_folder = f\"Kickstarter/2019_week{week_nr}\"\n",
    "    pledge_name = os.path.join(week_folder, f\"{file_type}.rds\")\n",
    "    return get_pandas_frame(pledge_name)\n",
    "\n",
    "\n",
    "def select_all_project_id_from_category(df, category):\n",
    "    \"\"\"\n",
    "    take all the project id with the column Category == category\n",
    "    :param df:\n",
    "    :param category:\n",
    "    :return:\n",
    "    \"\"\"\n",
    "    df = df[df[\"Category\"] == category]\n",
    "    return df[\"my_id\"].unique()\n",
    "\n",
    "def get_np_array_only_project_id_software_animation_videogames(df_info):\n",
    "    project_id_software19, project_id_animation19, project_id_videogames19 = [select_all_project_id_from_category(df_info, category) for category in [\"Software\", \"Animation\", \"Video Games\"]]\n",
    "    return np.concatenate((project_id_software19, project_id_animation19, project_id_videogames19))\n",
    "\n",
    "def select_dataframes_from_the_available_project_ids(posts_df, all_projects_df, info_df, pledge_df, project_ids):\n",
    "    \"\"\"\n",
    "    select all the posts from the project ids\n",
    "    :param posts_df:\n",
    "    :param project_ids:\n",
    "    :return:\n",
    "    \"\"\"\n",
    "    selected_posts = posts_df[posts_df[\"Project_my_id\"].isin(project_ids)]\n",
    "    selected_all_projects = all_projects_df[all_projects_df[\"my_id\"].isin(project_ids)]\n",
    "    selected_info = info_df[info_df[\"my_id\"].isin(project_ids)]\n",
    "    selected_pledge = pledge_df[pledge_df[\"Project_my_id\"].isin(project_ids)]\n",
    "    return selected_posts, selected_all_projects, selected_info, selected_pledge\n",
    "\n",
    "def get_important_posts_animation_videogames_software():\n",
    "\n",
    "\n",
    "    all_project_week19, info_week19, pledge_week19, posts_week19 = [get_pandas_r_file(19, file_type) for file_type in [\"all_projects\", \"info\", \"pledge\", \"posts\"]]\n",
    "    selected_ids = get_np_array_only_project_id_software_animation_videogames(info_week19)\n",
    "    selected_post19, selected_all_projects19, selected_info19, selected_pledge19 = select_dataframes_from_the_available_project_ids(posts_week19, all_project_week19, info_week19, pledge_week19, selected_ids)\n",
    "    return selected_post19, selected_all_projects19, selected_info19, selected_pledge19"
   ]
  },
  {
   "cell_type": "code",
   "execution_count": 47,
   "outputs": [],
   "source": [
    "important_posts, important_all_projects, important_info, important_pledge = get_important_posts_animation_videogames_software()\n"
   ],
   "metadata": {
    "collapsed": false,
    "ExecuteTime": {
     "start_time": "2023-12-28T15:39:30.196109Z",
     "end_time": "2023-12-28T15:39:39.789350Z"
    }
   }
  },
  {
   "cell_type": "markdown",
   "source": [
    "# Initiate the label column"
   ],
   "metadata": {
    "collapsed": false
   }
  },
  {
   "cell_type": "code",
   "execution_count": 48,
   "outputs": [],
   "source": [
    "important_posts[\"Predicted_Label\"] = 3"
   ],
   "metadata": {
    "collapsed": false,
    "ExecuteTime": {
     "start_time": "2023-12-28T15:39:40.771402Z",
     "end_time": "2023-12-28T15:39:40.776729Z"
    }
   }
  },
  {
   "cell_type": "code",
   "execution_count": 49,
   "outputs": [
    {
     "data": {
      "text/plain": "        Project_my_id creator_slug           project_slug    Post_Nb  \\\n38385  project_005539   damicareer        purpose-connect  Update #2   \n38386  project_005539   damicareer        purpose-connect  Update #1   \n38387  project_005546    kidunot89  wpgraphql-woocommerce  Update #1   \n38388  project_005547    465222059       table-university  Update #2   \n38389  project_005547    465222059       table-university  Update #1   \n\n                                 Post_Title     Post_Date  \\\n38385                            The WHY...  Apr 23, 2019   \n38386  Timeline Expectations - Day 2 Update  Apr 20, 2019   \n38387                   Release v0.0.3-beta  Apr 25, 2019   \n38388             new collaboration started   Apr 9, 2019   \n38389               additional information!   Apr 5, 2019   \n\n                                               Post_Text          Post_id  \\\n38385  I received this from one of my clients last ye...  project_0055392   \n38386  Hey guys, itâs Day 2 and I just want to firs...  project_0055391   \n38387  Version 0.0.3   was released.   Full Changelog...  project_0055461   \n38388  We started a new collaboration with tesilike. ...  project_0055472   \n38389  Hi all!  I would add just an information to be...  project_0055471   \n\n       Predicted_Label  \n38385                3  \n38386                3  \n38387                3  \n38388                3  \n38389                3  ",
      "text/html": "<div>\n<style scoped>\n    .dataframe tbody tr th:only-of-type {\n        vertical-align: middle;\n    }\n\n    .dataframe tbody tr th {\n        vertical-align: top;\n    }\n\n    .dataframe thead th {\n        text-align: right;\n    }\n</style>\n<table border=\"1\" class=\"dataframe\">\n  <thead>\n    <tr style=\"text-align: right;\">\n      <th></th>\n      <th>Project_my_id</th>\n      <th>creator_slug</th>\n      <th>project_slug</th>\n      <th>Post_Nb</th>\n      <th>Post_Title</th>\n      <th>Post_Date</th>\n      <th>Post_Text</th>\n      <th>Post_id</th>\n      <th>Predicted_Label</th>\n    </tr>\n  </thead>\n  <tbody>\n    <tr>\n      <th>38385</th>\n      <td>project_005539</td>\n      <td>damicareer</td>\n      <td>purpose-connect</td>\n      <td>Update #2</td>\n      <td>The WHY...</td>\n      <td>Apr 23, 2019</td>\n      <td>I received this from one of my clients last ye...</td>\n      <td>project_0055392</td>\n      <td>3</td>\n    </tr>\n    <tr>\n      <th>38386</th>\n      <td>project_005539</td>\n      <td>damicareer</td>\n      <td>purpose-connect</td>\n      <td>Update #1</td>\n      <td>Timeline Expectations - Day 2 Update</td>\n      <td>Apr 20, 2019</td>\n      <td>Hey guys, itâs Day 2 and I just want to firs...</td>\n      <td>project_0055391</td>\n      <td>3</td>\n    </tr>\n    <tr>\n      <th>38387</th>\n      <td>project_005546</td>\n      <td>kidunot89</td>\n      <td>wpgraphql-woocommerce</td>\n      <td>Update #1</td>\n      <td>Release v0.0.3-beta</td>\n      <td>Apr 25, 2019</td>\n      <td>Version 0.0.3   was released.   Full Changelog...</td>\n      <td>project_0055461</td>\n      <td>3</td>\n    </tr>\n    <tr>\n      <th>38388</th>\n      <td>project_005547</td>\n      <td>465222059</td>\n      <td>table-university</td>\n      <td>Update #2</td>\n      <td>new collaboration started</td>\n      <td>Apr 9, 2019</td>\n      <td>We started a new collaboration with tesilike. ...</td>\n      <td>project_0055472</td>\n      <td>3</td>\n    </tr>\n    <tr>\n      <th>38389</th>\n      <td>project_005547</td>\n      <td>465222059</td>\n      <td>table-university</td>\n      <td>Update #1</td>\n      <td>additional information!</td>\n      <td>Apr 5, 2019</td>\n      <td>Hi all!  I would add just an information to be...</td>\n      <td>project_0055471</td>\n      <td>3</td>\n    </tr>\n  </tbody>\n</table>\n</div>"
     },
     "execution_count": 49,
     "metadata": {},
     "output_type": "execute_result"
    }
   ],
   "source": [
    "important_posts.head()"
   ],
   "metadata": {
    "collapsed": false,
    "ExecuteTime": {
     "start_time": "2023-12-28T15:39:41.725073Z",
     "end_time": "2023-12-28T15:39:41.729108Z"
    }
   }
  },
  {
   "cell_type": "markdown",
   "source": [
    "# Setup the torch device"
   ],
   "metadata": {
    "collapsed": false
   }
  },
  {
   "cell_type": "code",
   "execution_count": 50,
   "outputs": [
    {
     "name": "stdout",
     "output_type": "stream",
     "text": [
      "No GPU available, using the CPU instead.\n"
     ]
    }
   ],
   "source": [
    "import torch\n",
    "\n",
    "# If there's a GPU available...\n",
    "if torch.cuda.is_available():\n",
    "\n",
    "    # Tell PyTorch to use the GPU.\n",
    "    device = torch.device(\"cuda\")\n",
    "\n",
    "    print('There are %d GPU(s) available.' % torch.cuda.device_count())\n",
    "\n",
    "    print('We will use the GPU:', torch.cuda.get_device_name(0))\n",
    "\n",
    "# If not...\n",
    "else:\n",
    "    print('No GPU available, using the CPU instead.')\n",
    "    device = torch.device(\"cpu\")"
   ],
   "metadata": {
    "collapsed": false,
    "ExecuteTime": {
     "start_time": "2023-12-28T15:39:48.192280Z",
     "end_time": "2023-12-28T15:39:48.198372Z"
    }
   }
  },
  {
   "cell_type": "markdown",
   "source": [
    "# Setup the model that is trained on twitter tweets for sentiment"
   ],
   "metadata": {
    "collapsed": false
   }
  },
  {
   "cell_type": "code",
   "execution_count": 15,
   "outputs": [
    {
     "name": "stderr",
     "output_type": "stream",
     "text": [
      "Some weights of the model checkpoint at twitter-roberta-base-sentiment-latest were not used when initializing RobertaForSequenceClassification: ['roberta.pooler.dense.weight', 'roberta.pooler.dense.bias']\n",
      "- This IS expected if you are initializing RobertaForSequenceClassification from the checkpoint of a model trained on another task or with another architecture (e.g. initializing a BertForSequenceClassification model from a BertForPreTraining model).\n",
      "- This IS NOT expected if you are initializing RobertaForSequenceClassification from the checkpoint of a model that you expect to be exactly identical (initializing a BertForSequenceClassification model from a BertForSequenceClassification model).\n"
     ]
    },
    {
     "name": "stdout",
     "output_type": "stream",
     "text": [
      "1) negative 0.914\n",
      "2) neutral 0.0759\n",
      "3) positive 0.0101\n"
     ]
    }
   ],
   "source": [
    "from transformers import AutoModelForSequenceClassification\n",
    "from transformers import TFAutoModelForSequenceClassification\n",
    "from transformers import AutoTokenizer, AutoConfig\n",
    "import numpy as np\n",
    "from scipy.special import softmax\n",
    "# Preprocess text (username and link placeholders)\n",
    "def preprocess(text):\n",
    "    new_text = []\n",
    "    for t in text.split(\" \"):\n",
    "        t = '@user' if t.startswith('@') and len(t) > 1 else t\n",
    "        t = 'http' if t.startswith('http') else t\n",
    "        new_text.append(t)\n",
    "    return \" \".join(new_text)\n",
    "MODEL = f\"twitter-roberta-base-sentiment-latest\"\n",
    "tokenizer = AutoTokenizer.from_pretrained(MODEL)\n",
    "config = AutoConfig.from_pretrained(MODEL)\n",
    "# PT\n",
    "model = AutoModelForSequenceClassification.from_pretrained(MODEL)\n",
    "#model.save_pretrained(MODEL)\n",
    "text = \"\"\"\"I hate your\"\"\"\n",
    "#text = preprocess(text)\n",
    "encoded_input = tokenizer(text, return_tensors='pt')\n",
    "output = model(**encoded_input)\n",
    "scores = output[0][0].detach().numpy()\n",
    "scores = softmax(scores)\n",
    "# # TF\n",
    "# model = TFAutoModelForSequenceClassification.from_pretrained(MODEL)\n",
    "# model.save_pretrained(MODEL)\n",
    "# text = \"Covid cases are increasing fast!\"\n",
    "# encoded_input = tokenizer(text, return_tensors='tf')\n",
    "# output = model(encoded_input)\n",
    "# scores = output[0][0].numpy()\n",
    "# scores = softmax(scores)\n",
    "# Print labels and scores\n",
    "ranking = np.argsort(scores)\n",
    "ranking = ranking[::-1]\n",
    "for i in range(scores.shape[0]):\n",
    "    l = config.id2label[ranking[i]]\n",
    "    s = scores[ranking[i]]\n",
    "    print(f\"{i+1}) {l} {np.round(float(s), 4)}\")\n",
    "\n"
   ],
   "metadata": {
    "collapsed": false,
    "ExecuteTime": {
     "start_time": "2023-12-28T15:17:00.326305Z",
     "end_time": "2023-12-28T15:17:01.464952Z"
    }
   }
  },
  {
   "cell_type": "code",
   "execution_count": 14,
   "outputs": [
    {
     "name": "stdout",
     "output_type": "stream",
     "text": [
      "negative 0.9140185\n",
      "2\n"
     ]
    }
   ],
   "source": [
    "l = config.id2label[ranking[0]]\n",
    "s = scores[ranking[0]]\n",
    "print(l, s)\n",
    "print(ranking[2])"
   ],
   "metadata": {
    "collapsed": false,
    "ExecuteTime": {
     "start_time": "2023-12-28T15:16:32.716107Z",
     "end_time": "2023-12-28T15:16:32.720730Z"
    }
   }
  },
  {
   "cell_type": "markdown",
   "source": [
    "# Predict the labels for the post content"
   ],
   "metadata": {
    "collapsed": false
   }
  },
  {
   "cell_type": "code",
   "execution_count": 67,
   "outputs": [],
   "source": [
    "def preprocess(text):\n",
    "    new_text = []\n",
    "    for t in text.split(\" \"):\n",
    "        t = '@user' if t.startswith('@') and len(t) > 1 else t\n",
    "        t = 'http' if t.startswith('http') else t\n",
    "        new_text.append(t)\n",
    "    return \" \".join(new_text)\n",
    "# For every sentence...\n",
    "for index, row in important_posts.iterrows():\n",
    "    text = row[\"Post_Text\"]\n",
    "    text = preprocess(text)\n",
    "\n",
    "    #encoded_input = tokenizer(text, return_tensors='pt')\n",
    "    encoded_input = tokenizer.encode_plus(text, return_tensors='pt', max_length=512, truncation=True)\n",
    "    if len(encoded_input[\"input_ids\"][0]) > 512:\n",
    "        print(\"Too long\")\n",
    "        continue\n",
    "\n",
    "    output = model(**encoded_input)\n",
    "    scores = output[0][0].detach().numpy()\n",
    "    scores = softmax(scores)\n",
    "    ranking = np.argsort(scores)\n",
    "    ranking = ranking[::-1]\n",
    "    predicted_label = ranking[0]\n",
    "    important_posts.at[index, \"Predicted_Label\"] = predicted_label\n",
    "\n",
    "\n",
    "    #print(f\"{text} \\n {predicted_label} \\n {scores} \\n\")\n"
   ],
   "metadata": {
    "collapsed": false,
    "ExecuteTime": {
     "start_time": "2023-12-28T15:54:03.805112Z",
     "end_time": "2023-12-28T16:55:31.484527Z"
    }
   }
  },
  {
   "cell_type": "markdown",
   "source": [
    "# Write out the posts with predicted labels for safety in a csv file"
   ],
   "metadata": {
    "collapsed": false
   }
  },
  {
   "cell_type": "code",
   "execution_count": 83,
   "outputs": [
    {
     "data": {
      "text/plain": "         Project_my_id   creator_slug  \\\n38385   project_005539     damicareer   \n38386   project_005539     damicareer   \n38387   project_005546      kidunot89   \n38388   project_005547      465222059   \n38389   project_005547      465222059   \n...                ...            ...   \n377750  project_058917     2079547763   \n446816  project_073338  timseastudios   \n446817  project_073338  timseastudios   \n446818  project_073338  timseastudios   \n446819  project_073338  timseastudios   \n\n                                             project_slug     Post_Nb  \\\n38385                                     purpose-connect   Update #2   \n38386                                     purpose-connect   Update #1   \n38387                               wpgraphql-woocommerce   Update #1   \n38388                                    table-university   Update #2   \n38389                                    table-university   Update #1   \n...                                                   ...         ...   \n377750                          jagged-alliance-flashback  Update #36   \n446816  adome-action-platformer-and-exploration-adventure   Update #4   \n446817  adome-action-platformer-and-exploration-adventure   Update #3   \n446818  adome-action-platformer-and-exploration-adventure   Update #2   \n446819  adome-action-platformer-and-exploration-adventure   Update #1   \n\n                                               Post_Title     Post_Date  \\\n38385                                          The WHY...  Apr 23, 2019   \n38386                Timeline Expectations - Day 2 Update  Apr 20, 2019   \n38387                                 Release v0.0.3-beta  Apr 25, 2019   \n38388                           new collaboration started   Apr 9, 2019   \n38389                             additional information!   Apr 5, 2019   \n...                                                   ...           ...   \n377750         Developer Diary 1 on Character Development  Nov 15, 2013   \n446816                       Timsea Studios announcement.  Apr 26, 2019   \n446817                   Working the art of displacement!  Apr 22, 2019   \n446818                                          Gameplay!  Apr 18, 2019   \n446819  Adome: Aventura de acciÃ³n, plataformas y expl...  Apr 16, 2019   \n\n                                                Post_Text           Post_id  \\\n38385   I received this from one of my clients last ye...   project_0055392   \n38386   Hey guys, itâs Day 2 and I just want to firs...   project_0055391   \n38387   Version 0.0.3   was released.   Full Changelog...   project_0055461   \n38388   We started a new collaboration with tesilike. ...   project_0055472   \n38389   Hi all!  I would add just an information to be...   project_0055471   \n...                                                   ...               ...   \n377750  Dear Backers,  Today we have a real treat for ...  project_05891736   \n446816  In Timsea Studios we have made the decision to...   project_0733384   \n446817  In Timsea Studios we are paying special attent...   project_0733383   \n446818  Adome gameplay is based on a satisfying sense ...   project_0733382   \n446819  ADOME es una aventura de acciÃ³n, plataformas ...   project_0733381   \n\n        Predicted_Label  \n38385                 2  \n38386                 2  \n38387                 1  \n38388                 2  \n38389                 2  \n...                 ...  \n377750                2  \n446816                2  \n446817                2  \n446818                2  \n446819                1  \n\n[40953 rows x 9 columns]",
      "text/html": "<div>\n<style scoped>\n    .dataframe tbody tr th:only-of-type {\n        vertical-align: middle;\n    }\n\n    .dataframe tbody tr th {\n        vertical-align: top;\n    }\n\n    .dataframe thead th {\n        text-align: right;\n    }\n</style>\n<table border=\"1\" class=\"dataframe\">\n  <thead>\n    <tr style=\"text-align: right;\">\n      <th></th>\n      <th>Project_my_id</th>\n      <th>creator_slug</th>\n      <th>project_slug</th>\n      <th>Post_Nb</th>\n      <th>Post_Title</th>\n      <th>Post_Date</th>\n      <th>Post_Text</th>\n      <th>Post_id</th>\n      <th>Predicted_Label</th>\n    </tr>\n  </thead>\n  <tbody>\n    <tr>\n      <th>38385</th>\n      <td>project_005539</td>\n      <td>damicareer</td>\n      <td>purpose-connect</td>\n      <td>Update #2</td>\n      <td>The WHY...</td>\n      <td>Apr 23, 2019</td>\n      <td>I received this from one of my clients last ye...</td>\n      <td>project_0055392</td>\n      <td>2</td>\n    </tr>\n    <tr>\n      <th>38386</th>\n      <td>project_005539</td>\n      <td>damicareer</td>\n      <td>purpose-connect</td>\n      <td>Update #1</td>\n      <td>Timeline Expectations - Day 2 Update</td>\n      <td>Apr 20, 2019</td>\n      <td>Hey guys, itâs Day 2 and I just want to firs...</td>\n      <td>project_0055391</td>\n      <td>2</td>\n    </tr>\n    <tr>\n      <th>38387</th>\n      <td>project_005546</td>\n      <td>kidunot89</td>\n      <td>wpgraphql-woocommerce</td>\n      <td>Update #1</td>\n      <td>Release v0.0.3-beta</td>\n      <td>Apr 25, 2019</td>\n      <td>Version 0.0.3   was released.   Full Changelog...</td>\n      <td>project_0055461</td>\n      <td>1</td>\n    </tr>\n    <tr>\n      <th>38388</th>\n      <td>project_005547</td>\n      <td>465222059</td>\n      <td>table-university</td>\n      <td>Update #2</td>\n      <td>new collaboration started</td>\n      <td>Apr 9, 2019</td>\n      <td>We started a new collaboration with tesilike. ...</td>\n      <td>project_0055472</td>\n      <td>2</td>\n    </tr>\n    <tr>\n      <th>38389</th>\n      <td>project_005547</td>\n      <td>465222059</td>\n      <td>table-university</td>\n      <td>Update #1</td>\n      <td>additional information!</td>\n      <td>Apr 5, 2019</td>\n      <td>Hi all!  I would add just an information to be...</td>\n      <td>project_0055471</td>\n      <td>2</td>\n    </tr>\n    <tr>\n      <th>...</th>\n      <td>...</td>\n      <td>...</td>\n      <td>...</td>\n      <td>...</td>\n      <td>...</td>\n      <td>...</td>\n      <td>...</td>\n      <td>...</td>\n      <td>...</td>\n    </tr>\n    <tr>\n      <th>377750</th>\n      <td>project_058917</td>\n      <td>2079547763</td>\n      <td>jagged-alliance-flashback</td>\n      <td>Update #36</td>\n      <td>Developer Diary 1 on Character Development</td>\n      <td>Nov 15, 2013</td>\n      <td>Dear Backers,  Today we have a real treat for ...</td>\n      <td>project_05891736</td>\n      <td>2</td>\n    </tr>\n    <tr>\n      <th>446816</th>\n      <td>project_073338</td>\n      <td>timseastudios</td>\n      <td>adome-action-platformer-and-exploration-adventure</td>\n      <td>Update #4</td>\n      <td>Timsea Studios announcement.</td>\n      <td>Apr 26, 2019</td>\n      <td>In Timsea Studios we have made the decision to...</td>\n      <td>project_0733384</td>\n      <td>2</td>\n    </tr>\n    <tr>\n      <th>446817</th>\n      <td>project_073338</td>\n      <td>timseastudios</td>\n      <td>adome-action-platformer-and-exploration-adventure</td>\n      <td>Update #3</td>\n      <td>Working the art of displacement!</td>\n      <td>Apr 22, 2019</td>\n      <td>In Timsea Studios we are paying special attent...</td>\n      <td>project_0733383</td>\n      <td>2</td>\n    </tr>\n    <tr>\n      <th>446818</th>\n      <td>project_073338</td>\n      <td>timseastudios</td>\n      <td>adome-action-platformer-and-exploration-adventure</td>\n      <td>Update #2</td>\n      <td>Gameplay!</td>\n      <td>Apr 18, 2019</td>\n      <td>Adome gameplay is based on a satisfying sense ...</td>\n      <td>project_0733382</td>\n      <td>2</td>\n    </tr>\n    <tr>\n      <th>446819</th>\n      <td>project_073338</td>\n      <td>timseastudios</td>\n      <td>adome-action-platformer-and-exploration-adventure</td>\n      <td>Update #1</td>\n      <td>Adome: Aventura de acciÃ³n, plataformas y expl...</td>\n      <td>Apr 16, 2019</td>\n      <td>ADOME es una aventura de acciÃ³n, plataformas ...</td>\n      <td>project_0733381</td>\n      <td>1</td>\n    </tr>\n  </tbody>\n</table>\n<p>40953 rows × 9 columns</p>\n</div>"
     },
     "execution_count": 83,
     "metadata": {},
     "output_type": "execute_result"
    }
   ],
   "source": [
    "important_posts"
   ],
   "metadata": {
    "collapsed": false,
    "ExecuteTime": {
     "start_time": "2023-12-28T18:24:33.291865Z",
     "end_time": "2023-12-28T18:24:33.299341Z"
    }
   }
  },
  {
   "cell_type": "code",
   "execution_count": 68,
   "outputs": [],
   "source": [
    "important_posts.to_csv('Data_posts_with_labels_sentiment.csv', index=False)"
   ],
   "metadata": {
    "collapsed": false,
    "ExecuteTime": {
     "start_time": "2023-12-28T16:55:31.485731Z",
     "end_time": "2023-12-28T16:55:32.242854Z"
    }
   }
  },
  {
   "cell_type": "code",
   "execution_count": 113,
   "outputs": [
    {
     "data": {
      "text/plain": "        Project_my_id   creator_slug  \\\n38385  project_005539     damicareer   \n38386  project_005539     damicareer   \n38387  project_005546      kidunot89   \n38388  project_005547      465222059   \n38389  project_005547      465222059   \n38390  project_005548      182057119   \n38391  project_005548      182057119   \n38392  project_005548      182057119   \n38393  project_005548      182057119   \n38398  project_005560  armandosomoza   \n\n                                            project_slug     Post_Nb  \\\n38385                                    purpose-connect   Update #2   \n38386                                    purpose-connect   Update #1   \n38387                              wpgraphql-woocommerce   Update #1   \n38388                                   table-university   Update #2   \n38389                                   table-university   Update #1   \n38390                                              gimli   Update #4   \n38391                                              gimli   Update #3   \n38392                                              gimli   Update #2   \n38393                                              gimli   Update #1   \n38398  codescty-like-schoolhouse-rock-for-computer-sc...  Update #13   \n\n                                              Post_Title     Post_Date  \\\n38385                                         The WHY...  Apr 23, 2019   \n38386               Timeline Expectations - Day 2 Update  Apr 20, 2019   \n38387                                Release v0.0.3-beta  Apr 25, 2019   \n38388                          new collaboration started   Apr 9, 2019   \n38389                            additional information!   Apr 5, 2019   \n38390                           Ionic Framework snippets  Apr 26, 2019   \n38391                                Silly experiment #2  Apr 12, 2019   \n38392  Just a silly experiment, about 30 lines of css...  Apr 12, 2019   \n38393                              First project update!  Apr 10, 2019   \n38398                   You did it $51,600!! Thank you!!  Apr 22, 2019   \n\n                                               Post_Text           Post_id  \\\n38385  I received this from one of my clients last ye...   project_0055392   \n38386  Hey guys, itâs Day 2 and I just want to firs...   project_0055391   \n38387  Version 0.0.3   was released.   Full Changelog...   project_0055461   \n38388  We started a new collaboration with tesilike. ...   project_0055472   \n38389  Hi all!  I would add just an information to be...   project_0055471   \n38390  Playing around with Ionic Framework snippets. ...   project_0055484   \n38391  Code at:  https://codepen.io/gimli_app/pen/VNW...   project_0055483   \n38392  View code at: https://twitter.com/gimli_app/st...   project_0055482   \n38393  Check out the medium post below where I will d...   project_0055481   \n38398  !!!!!! Â $51,600 - $51,600 - $51,600 !!!!!!Â  ...  project_00556013   \n\n       Predicted_Label  \n38385                2  \n38386                2  \n38387                1  \n38388                2  \n38389                2  \n38390                1  \n38391                1  \n38392                1  \n38393                1  \n38398                2  ",
      "text/html": "<div>\n<style scoped>\n    .dataframe tbody tr th:only-of-type {\n        vertical-align: middle;\n    }\n\n    .dataframe tbody tr th {\n        vertical-align: top;\n    }\n\n    .dataframe thead th {\n        text-align: right;\n    }\n</style>\n<table border=\"1\" class=\"dataframe\">\n  <thead>\n    <tr style=\"text-align: right;\">\n      <th></th>\n      <th>Project_my_id</th>\n      <th>creator_slug</th>\n      <th>project_slug</th>\n      <th>Post_Nb</th>\n      <th>Post_Title</th>\n      <th>Post_Date</th>\n      <th>Post_Text</th>\n      <th>Post_id</th>\n      <th>Predicted_Label</th>\n    </tr>\n  </thead>\n  <tbody>\n    <tr>\n      <th>38385</th>\n      <td>project_005539</td>\n      <td>damicareer</td>\n      <td>purpose-connect</td>\n      <td>Update #2</td>\n      <td>The WHY...</td>\n      <td>Apr 23, 2019</td>\n      <td>I received this from one of my clients last ye...</td>\n      <td>project_0055392</td>\n      <td>2</td>\n    </tr>\n    <tr>\n      <th>38386</th>\n      <td>project_005539</td>\n      <td>damicareer</td>\n      <td>purpose-connect</td>\n      <td>Update #1</td>\n      <td>Timeline Expectations - Day 2 Update</td>\n      <td>Apr 20, 2019</td>\n      <td>Hey guys, itâs Day 2 and I just want to firs...</td>\n      <td>project_0055391</td>\n      <td>2</td>\n    </tr>\n    <tr>\n      <th>38387</th>\n      <td>project_005546</td>\n      <td>kidunot89</td>\n      <td>wpgraphql-woocommerce</td>\n      <td>Update #1</td>\n      <td>Release v0.0.3-beta</td>\n      <td>Apr 25, 2019</td>\n      <td>Version 0.0.3   was released.   Full Changelog...</td>\n      <td>project_0055461</td>\n      <td>1</td>\n    </tr>\n    <tr>\n      <th>38388</th>\n      <td>project_005547</td>\n      <td>465222059</td>\n      <td>table-university</td>\n      <td>Update #2</td>\n      <td>new collaboration started</td>\n      <td>Apr 9, 2019</td>\n      <td>We started a new collaboration with tesilike. ...</td>\n      <td>project_0055472</td>\n      <td>2</td>\n    </tr>\n    <tr>\n      <th>38389</th>\n      <td>project_005547</td>\n      <td>465222059</td>\n      <td>table-university</td>\n      <td>Update #1</td>\n      <td>additional information!</td>\n      <td>Apr 5, 2019</td>\n      <td>Hi all!  I would add just an information to be...</td>\n      <td>project_0055471</td>\n      <td>2</td>\n    </tr>\n    <tr>\n      <th>38390</th>\n      <td>project_005548</td>\n      <td>182057119</td>\n      <td>gimli</td>\n      <td>Update #4</td>\n      <td>Ionic Framework snippets</td>\n      <td>Apr 26, 2019</td>\n      <td>Playing around with Ionic Framework snippets. ...</td>\n      <td>project_0055484</td>\n      <td>1</td>\n    </tr>\n    <tr>\n      <th>38391</th>\n      <td>project_005548</td>\n      <td>182057119</td>\n      <td>gimli</td>\n      <td>Update #3</td>\n      <td>Silly experiment #2</td>\n      <td>Apr 12, 2019</td>\n      <td>Code at:  https://codepen.io/gimli_app/pen/VNW...</td>\n      <td>project_0055483</td>\n      <td>1</td>\n    </tr>\n    <tr>\n      <th>38392</th>\n      <td>project_005548</td>\n      <td>182057119</td>\n      <td>gimli</td>\n      <td>Update #2</td>\n      <td>Just a silly experiment, about 30 lines of css...</td>\n      <td>Apr 12, 2019</td>\n      <td>View code at: https://twitter.com/gimli_app/st...</td>\n      <td>project_0055482</td>\n      <td>1</td>\n    </tr>\n    <tr>\n      <th>38393</th>\n      <td>project_005548</td>\n      <td>182057119</td>\n      <td>gimli</td>\n      <td>Update #1</td>\n      <td>First project update!</td>\n      <td>Apr 10, 2019</td>\n      <td>Check out the medium post below where I will d...</td>\n      <td>project_0055481</td>\n      <td>1</td>\n    </tr>\n    <tr>\n      <th>38398</th>\n      <td>project_005560</td>\n      <td>armandosomoza</td>\n      <td>codescty-like-schoolhouse-rock-for-computer-sc...</td>\n      <td>Update #13</td>\n      <td>You did it $51,600!! Thank you!!</td>\n      <td>Apr 22, 2019</td>\n      <td>!!!!!! Â $51,600 - $51,600 - $51,600 !!!!!!Â  ...</td>\n      <td>project_00556013</td>\n      <td>2</td>\n    </tr>\n  </tbody>\n</table>\n</div>"
     },
     "execution_count": 113,
     "metadata": {},
     "output_type": "execute_result"
    }
   ],
   "source": [
    "important_posts.head(10)"
   ],
   "metadata": {
    "collapsed": false,
    "ExecuteTime": {
     "start_time": "2023-12-30T14:38:36.561308Z",
     "end_time": "2023-12-30T14:38:36.563284Z"
    }
   }
  },
  {
   "cell_type": "code",
   "execution_count": 114,
   "outputs": [
    {
     "data": {
      "text/plain": "         Project_my_id  creator_slug  \\\n38461   project_005566      34257246   \n38502   project_005571    1100657250   \n38508   project_005573  stephenhaney   \n38511   project_005573  stephenhaney   \n38516   project_005574   pablofarias   \n...                ...           ...   \n377732  project_058917    2079547763   \n377733  project_058917    2079547763   \n377734  project_058917    2079547763   \n377735  project_058917    2079547763   \n377739  project_058917    2079547763   \n\n                                             project_slug     Post_Nb  \\\n38461        create-gui-applications-with-python-wxpython  Update #21   \n38502             blenderxr-modeling-features-development   Update #2   \n38508                modulzthe-next-step-in-visual-coding   Update #6   \n38511                modulzthe-next-step-in-visual-coding   Update #3   \n38516   data-science-mini-degree-learn-python-and-data...   Update #7   \n...                                                   ...         ...   \n377732                          jagged-alliance-flashback  Update #54   \n377733                          jagged-alliance-flashback  Update #53   \n377734                          jagged-alliance-flashback  Update #52   \n377735                          jagged-alliance-flashback  Update #51   \n377739                          jagged-alliance-flashback  Update #47   \n\n                                               Post_Title     Post_Date  \\\n38461                                    Getting the book  Apr 16, 2019   \n38502                  An early announce for our backers!   Dec 3, 2018   \n38508                                   ðModulz Update  Feb 13, 2019   \n38511                        Modulz is #4 on ProductHunt!  Oct 26, 2018   \n38516              The Data Science Mini-Degree is READY!   Dec 6, 2018   \n...                                                   ...           ...   \n377732                 Good news on the physical rewards!  Jul 23, 2015   \n377733            June update - things are moving again!!  Jun 19, 2015   \n377734                     Quick status update March 2015  Mar 11, 2015   \n377735         THANKS! And more on rewards, mods, updates  Jan 20, 2015   \n377739  Reflections on the development of Jagged Allia...   Oct 3, 2014   \n\n               Post_Text           Post_id  Predicted_Label  \n38461   ONLY FOR BACKERS  project_00556621                1  \n38502   ONLY FOR BACKERS   project_0055712                1  \n38508   ONLY FOR BACKERS   project_0055736                1  \n38511   ONLY FOR BACKERS   project_0055733                1  \n38516   ONLY FOR BACKERS   project_0055747                1  \n...                  ...               ...              ...  \n377732  ONLY FOR BACKERS  project_05891754                1  \n377733  ONLY FOR BACKERS  project_05891753                1  \n377734  ONLY FOR BACKERS  project_05891752                1  \n377735  ONLY FOR BACKERS  project_05891751                1  \n377739  ONLY FOR BACKERS  project_05891747                1  \n\n[6008 rows x 9 columns]",
      "text/html": "<div>\n<style scoped>\n    .dataframe tbody tr th:only-of-type {\n        vertical-align: middle;\n    }\n\n    .dataframe tbody tr th {\n        vertical-align: top;\n    }\n\n    .dataframe thead th {\n        text-align: right;\n    }\n</style>\n<table border=\"1\" class=\"dataframe\">\n  <thead>\n    <tr style=\"text-align: right;\">\n      <th></th>\n      <th>Project_my_id</th>\n      <th>creator_slug</th>\n      <th>project_slug</th>\n      <th>Post_Nb</th>\n      <th>Post_Title</th>\n      <th>Post_Date</th>\n      <th>Post_Text</th>\n      <th>Post_id</th>\n      <th>Predicted_Label</th>\n    </tr>\n  </thead>\n  <tbody>\n    <tr>\n      <th>38461</th>\n      <td>project_005566</td>\n      <td>34257246</td>\n      <td>create-gui-applications-with-python-wxpython</td>\n      <td>Update #21</td>\n      <td>Getting the book</td>\n      <td>Apr 16, 2019</td>\n      <td>ONLY FOR BACKERS</td>\n      <td>project_00556621</td>\n      <td>1</td>\n    </tr>\n    <tr>\n      <th>38502</th>\n      <td>project_005571</td>\n      <td>1100657250</td>\n      <td>blenderxr-modeling-features-development</td>\n      <td>Update #2</td>\n      <td>An early announce for our backers!</td>\n      <td>Dec 3, 2018</td>\n      <td>ONLY FOR BACKERS</td>\n      <td>project_0055712</td>\n      <td>1</td>\n    </tr>\n    <tr>\n      <th>38508</th>\n      <td>project_005573</td>\n      <td>stephenhaney</td>\n      <td>modulzthe-next-step-in-visual-coding</td>\n      <td>Update #6</td>\n      <td>ðModulz Update</td>\n      <td>Feb 13, 2019</td>\n      <td>ONLY FOR BACKERS</td>\n      <td>project_0055736</td>\n      <td>1</td>\n    </tr>\n    <tr>\n      <th>38511</th>\n      <td>project_005573</td>\n      <td>stephenhaney</td>\n      <td>modulzthe-next-step-in-visual-coding</td>\n      <td>Update #3</td>\n      <td>Modulz is #4 on ProductHunt!</td>\n      <td>Oct 26, 2018</td>\n      <td>ONLY FOR BACKERS</td>\n      <td>project_0055733</td>\n      <td>1</td>\n    </tr>\n    <tr>\n      <th>38516</th>\n      <td>project_005574</td>\n      <td>pablofarias</td>\n      <td>data-science-mini-degree-learn-python-and-data...</td>\n      <td>Update #7</td>\n      <td>The Data Science Mini-Degree is READY!</td>\n      <td>Dec 6, 2018</td>\n      <td>ONLY FOR BACKERS</td>\n      <td>project_0055747</td>\n      <td>1</td>\n    </tr>\n    <tr>\n      <th>...</th>\n      <td>...</td>\n      <td>...</td>\n      <td>...</td>\n      <td>...</td>\n      <td>...</td>\n      <td>...</td>\n      <td>...</td>\n      <td>...</td>\n      <td>...</td>\n    </tr>\n    <tr>\n      <th>377732</th>\n      <td>project_058917</td>\n      <td>2079547763</td>\n      <td>jagged-alliance-flashback</td>\n      <td>Update #54</td>\n      <td>Good news on the physical rewards!</td>\n      <td>Jul 23, 2015</td>\n      <td>ONLY FOR BACKERS</td>\n      <td>project_05891754</td>\n      <td>1</td>\n    </tr>\n    <tr>\n      <th>377733</th>\n      <td>project_058917</td>\n      <td>2079547763</td>\n      <td>jagged-alliance-flashback</td>\n      <td>Update #53</td>\n      <td>June update - things are moving again!!</td>\n      <td>Jun 19, 2015</td>\n      <td>ONLY FOR BACKERS</td>\n      <td>project_05891753</td>\n      <td>1</td>\n    </tr>\n    <tr>\n      <th>377734</th>\n      <td>project_058917</td>\n      <td>2079547763</td>\n      <td>jagged-alliance-flashback</td>\n      <td>Update #52</td>\n      <td>Quick status update March 2015</td>\n      <td>Mar 11, 2015</td>\n      <td>ONLY FOR BACKERS</td>\n      <td>project_05891752</td>\n      <td>1</td>\n    </tr>\n    <tr>\n      <th>377735</th>\n      <td>project_058917</td>\n      <td>2079547763</td>\n      <td>jagged-alliance-flashback</td>\n      <td>Update #51</td>\n      <td>THANKS! And more on rewards, mods, updates</td>\n      <td>Jan 20, 2015</td>\n      <td>ONLY FOR BACKERS</td>\n      <td>project_05891751</td>\n      <td>1</td>\n    </tr>\n    <tr>\n      <th>377739</th>\n      <td>project_058917</td>\n      <td>2079547763</td>\n      <td>jagged-alliance-flashback</td>\n      <td>Update #47</td>\n      <td>Reflections on the development of Jagged Allia...</td>\n      <td>Oct 3, 2014</td>\n      <td>ONLY FOR BACKERS</td>\n      <td>project_05891747</td>\n      <td>1</td>\n    </tr>\n  </tbody>\n</table>\n<p>6008 rows × 9 columns</p>\n</div>"
     },
     "execution_count": 114,
     "metadata": {},
     "output_type": "execute_result"
    }
   ],
   "source": [
    "important_posts[important_posts[\"Post_Text\"] == \"ONLY FOR BACKERS\"]"
   ],
   "metadata": {
    "collapsed": false,
    "ExecuteTime": {
     "start_time": "2023-12-30T14:39:42.847597Z",
     "end_time": "2023-12-30T14:39:42.873430Z"
    }
   }
  },
  {
   "cell_type": "markdown",
   "source": [
    "# Create average Post length, total nr of posts, average nr of posts per project"
   ],
   "metadata": {
    "collapsed": false
   }
  },
  {
   "cell_type": "code",
   "execution_count": 126,
   "outputs": [
    {
     "name": "stdout",
     "output_type": "stream",
     "text": [
      "100\n",
      "200\n",
      "300\n",
      "400\n",
      "500\n",
      "600\n",
      "700\n",
      "800\n",
      "900\n",
      "1000\n",
      "1100\n",
      "1200\n",
      "1300\n",
      "1400\n",
      "1500\n",
      "1600\n",
      "1700\n",
      "1800\n",
      "1900\n",
      "2000\n",
      "2100\n",
      "2200\n",
      "2300\n",
      "2400\n",
      "2500\n",
      "2600\n",
      "2700\n",
      "2800\n",
      "2900\n",
      "3000\n",
      "3100\n",
      "3200\n",
      "3300\n",
      "3400\n",
      "3500\n",
      "3600\n",
      "3700\n",
      "3800\n",
      "3900\n",
      "4000\n",
      "4100\n",
      "4200\n",
      "4300\n",
      "4400\n",
      "4500\n",
      "4600\n",
      "4700\n",
      "4800\n",
      "4900\n",
      "5000\n",
      "5100\n",
      "5200\n",
      "5300\n",
      "5400\n",
      "5500\n",
      "5600\n",
      "5700\n",
      "5800\n",
      "5900\n",
      "6000\n",
      "6100\n",
      "6200\n",
      "6300\n",
      "6400\n",
      "6500\n",
      "6600\n",
      "6700\n",
      "6800\n",
      "6900\n",
      "7000\n",
      "7100\n",
      "7200\n",
      "7300\n",
      "7400\n",
      "7500\n",
      "7600\n",
      "7700\n",
      "7800\n",
      "7900\n",
      "8000\n",
      "8100\n",
      "8200\n",
      "8300\n",
      "8400\n",
      "8500\n",
      "8600\n",
      "8700\n",
      "8800\n",
      "8900\n",
      "9000\n",
      "9100\n",
      "9200\n",
      "9300\n",
      "9400\n",
      "9500\n",
      "9600\n",
      "9700\n",
      "9800\n",
      "9900\n",
      "10000\n",
      "10100\n",
      "10200\n",
      "10300\n",
      "10400\n",
      "10500\n",
      "10600\n",
      "10700\n",
      "10800\n",
      "10900\n",
      "11000\n",
      "11100\n",
      "11200\n",
      "11300\n",
      "11400\n",
      "11500\n",
      "11600\n",
      "11700\n",
      "11800\n",
      "11900\n",
      "12000\n",
      "12100\n",
      "12200\n",
      "12300\n",
      "12400\n",
      "12500\n",
      "12600\n",
      "12700\n",
      "12800\n",
      "12900\n",
      "13000\n",
      "13100\n",
      "13200\n",
      "13300\n",
      "13400\n",
      "13500\n",
      "13600\n",
      "13700\n",
      "13800\n",
      "13900\n",
      "14000\n",
      "14100\n",
      "14200\n",
      "14300\n",
      "14400\n",
      "14500\n",
      "14600\n",
      "14700\n",
      "14800\n",
      "14900\n",
      "15000\n",
      "15100\n",
      "15200\n",
      "15300\n",
      "15400\n",
      "15500\n",
      "15600\n",
      "15700\n",
      "15800\n",
      "15900\n",
      "16000\n",
      "16100\n",
      "16200\n",
      "16300\n",
      "16400\n",
      "16500\n",
      "16600\n",
      "16700\n",
      "16800\n",
      "16900\n",
      "17000\n",
      "17100\n",
      "17200\n",
      "17300\n",
      "17400\n",
      "17500\n",
      "17600\n",
      "17700\n",
      "17800\n",
      "17900\n",
      "18000\n",
      "18100\n",
      "18200\n",
      "18300\n",
      "18400\n",
      "18500\n",
      "18600\n",
      "18700\n",
      "18800\n",
      "18900\n",
      "19000\n",
      "19100\n",
      "19200\n",
      "19300\n",
      "19400\n",
      "19500\n",
      "19600\n",
      "19700\n",
      "19800\n",
      "19900\n",
      "20000\n",
      "20100\n",
      "20200\n",
      "20300\n",
      "20400\n",
      "20500\n",
      "20600\n",
      "20700\n",
      "20800\n",
      "20900\n",
      "21000\n",
      "21100\n",
      "21200\n",
      "21300\n",
      "21400\n",
      "21500\n",
      "21600\n",
      "21700\n",
      "21800\n",
      "21900\n",
      "22000\n",
      "22100\n",
      "22200\n",
      "22300\n",
      "22400\n",
      "22500\n",
      "22600\n",
      "22700\n",
      "22800\n",
      "22900\n",
      "23000\n",
      "23100\n",
      "23200\n",
      "23300\n",
      "23400\n",
      "23500\n",
      "23600\n",
      "23700\n",
      "23800\n",
      "23900\n",
      "24000\n",
      "24100\n",
      "24200\n",
      "24300\n",
      "24400\n",
      "24500\n",
      "24600\n",
      "24700\n",
      "24800\n",
      "24900\n",
      "25000\n",
      "25100\n",
      "25200\n",
      "25300\n",
      "25400\n",
      "25500\n",
      "25600\n",
      "25700\n",
      "25800\n",
      "25900\n",
      "26000\n",
      "26100\n",
      "26200\n",
      "26300\n",
      "26400\n",
      "26500\n",
      "26600\n",
      "26700\n",
      "26800\n",
      "26900\n",
      "27000\n",
      "27100\n",
      "27200\n",
      "27300\n",
      "27400\n",
      "27500\n",
      "27600\n",
      "27700\n",
      "27800\n",
      "27900\n",
      "28000\n",
      "28100\n",
      "28200\n",
      "28300\n",
      "28400\n",
      "28500\n",
      "28600\n",
      "28700\n",
      "28800\n",
      "28900\n",
      "29000\n",
      "29100\n",
      "29200\n",
      "29300\n",
      "29400\n",
      "29500\n",
      "29600\n",
      "29700\n",
      "29800\n",
      "29900\n",
      "30000\n",
      "30100\n",
      "30200\n",
      "30300\n",
      "30400\n",
      "30500\n",
      "30600\n",
      "30700\n",
      "30800\n",
      "30900\n",
      "31000\n",
      "31100\n",
      "31200\n",
      "31300\n",
      "31400\n",
      "31500\n",
      "31600\n",
      "31700\n",
      "31800\n",
      "31900\n",
      "32000\n",
      "32100\n",
      "32200\n",
      "32300\n",
      "32400\n",
      "32500\n",
      "32600\n",
      "32700\n",
      "32800\n",
      "32900\n",
      "33000\n",
      "33100\n",
      "33200\n",
      "33300\n",
      "33400\n",
      "33500\n",
      "33600\n",
      "33700\n",
      "33800\n",
      "33900\n",
      "34000\n",
      "34100\n",
      "34200\n",
      "34300\n",
      "34400\n",
      "34500\n",
      "34600\n",
      "34700\n",
      "34800\n",
      "34900\n",
      "35000\n",
      "35100\n",
      "35200\n",
      "35300\n",
      "35400\n",
      "35500\n",
      "35600\n",
      "35700\n",
      "35800\n",
      "35900\n",
      "36000\n",
      "36100\n",
      "36200\n",
      "36300\n",
      "36400\n",
      "36500\n",
      "36600\n",
      "36700\n",
      "36800\n",
      "36900\n",
      "37000\n",
      "37100\n",
      "37200\n",
      "37300\n",
      "37400\n",
      "37500\n",
      "37600\n",
      "37700\n",
      "37800\n",
      "37900\n",
      "38000\n",
      "38100\n",
      "38200\n",
      "38300\n",
      "38400\n",
      "38500\n",
      "38600\n",
      "38700\n",
      "38800\n",
      "38900\n",
      "39000\n",
      "39100\n",
      "39200\n",
      "39300\n",
      "39400\n",
      "39500\n",
      "39600\n",
      "39700\n",
      "39800\n",
      "39900\n",
      "40000\n",
      "40100\n",
      "40200\n",
      "40300\n",
      "40400\n",
      "40500\n",
      "40600\n",
      "40700\n",
      "40800\n",
      "40900\n"
     ]
    },
    {
     "data": {
      "text/plain": "                my_id    creator_slug  \\\n5538   project_005539      damicareer   \n5539   project_005540       carnostic   \n5540   project_005541  bharatbhardwaj   \n5541   project_005542     sacoconnect   \n5542   project_005543             hlx   \n...               ...             ...   \n59202  project_058915       432712414   \n59203  project_058916     tripleslash   \n59204  project_058917      2079547763   \n73697  project_073338   timseastudios   \n73721  project_073362   imanradmanesh   \n\n                                            project_slug  \\\n5538                                     purpose-connect   \n5539         carnostic-your-car-is-talking-to-you-listen   \n5540                                     bugs-utf8-email   \n5541         saco-innovative-contact-management-software   \n5542                       zentail-to-newegg-integration   \n...                                                  ...   \n59202           ar-k-an-old-school-game-with-a-new-twist   \n59203                                 magnetic-by-nature   \n59204                          jagged-alliance-flashback   \n73697  adome-action-platformer-and-exploration-adventure   \n73721                                              kalat   \n\n                                                   Blurb     Category  \\\n5538         A job match engine that is non-resume based     Software   \n5539   Using Artificial Intelligence to provide all d...     Software   \n5540   Email service for internationalized domain nam...     Software   \n5541   The first automated contact information manage...     Software   \n5542              Zentail to NewEgg software integration     Software   \n...                                                  ...          ...   \n59202  Filled with mystery, humor, and suspense, and ...  Video Games   \n59203  Wield the power of magnetism on a journey thro...  Video Games   \n59204  The Godfather of turn-based RPG action is maki...  Video Games   \n73697  ADOME is an action, platformer and first-perso...  Video Games   \n73721  This is a story of people who didnât want to...  Video Games   \n\n                  Location Staff_recommended     Goal_USD       Pledge_USD  \\\n5538      Springfield | US             FALSE        10000               37   \n5539          Toronto | CA             FALSE  18717.74475  7166.1185259291   \n5540      Los Angeles | US             FALSE        33666               11   \n5541      Mexico City | MX             FALSE    159943.71     51.651155416   \n5542         Brooklyn | US             FALSE         5000               11   \n...                    ...               ...          ...              ...   \n59202         Corunna | ES              TRUE        1e+05        101564.23   \n59203  Salt Lake City | US             FALSE        10000         11285.02   \n59204      Copenhagen | DK              TRUE       350000        368614.44   \n73697          Murcia | ES             FALSE        50000             1343   \n73721       Melbourne | AU             FALSE  20957.65845      0.937766412   \n\n      Number_Backers  ... Positive_Post_count Negative_Post_count  \\\n5538               5  ...                   2                   0   \n5539              31  ...                   0                   0   \n5540               2  ...                   0                   0   \n5541               2  ...                   0                   0   \n5542               2  ...                   0                   0   \n...              ...  ...                 ...                 ...   \n59202            879  ...                  13                   0   \n59203            416  ...                   1                   0   \n59204           7167  ...                  12                   0   \n73697             38  ...                   3                   0   \n73721              1  ...                   0                   0   \n\n      Neutral_Post_count Total_nr_posts total_words_all_posts  \\\n5538                   0              2                   601   \n5539                   0              0                     0   \n5540                   0              0                     0   \n5541                   0              0                     0   \n5542                   0              0                     0   \n...                  ...            ...                   ...   \n59202                  7             20                  4581   \n59203                 19             20                   143   \n59204                  8             20                 12183   \n73697                  1              4                  1627   \n73721                  0              0                     0   \n\n      has_only_backers Positive_Post_percentage Negative_Post_percentage  \\\n5538                 0                     1.00                      0.0   \n5539                 0                     0.00                      0.0   \n5540                 0                     0.00                      0.0   \n5541                 0                     0.00                      0.0   \n5542                 0                     0.00                      0.0   \n...                ...                      ...                      ...   \n59202                1                     0.65                      0.0   \n59203                1                     0.05                      0.0   \n59204                1                     0.60                      0.0   \n73697                0                     0.75                      0.0   \n73721                0                     0.00                      0.0   \n\n      Neutral_Post_percentage average_words_posts  \n5538                     0.00              300.50  \n5539                     0.00                0.00  \n5540                     0.00                0.00  \n5541                     0.00                0.00  \n5542                     0.00                0.00  \n...                       ...                 ...  \n59202                    0.35              229.05  \n59203                    0.95                7.15  \n59204                    0.40              609.15  \n73697                    0.25              406.75  \n73721                    0.00                0.00  \n\n[5797 rows x 38 columns]",
      "text/html": "<div>\n<style scoped>\n    .dataframe tbody tr th:only-of-type {\n        vertical-align: middle;\n    }\n\n    .dataframe tbody tr th {\n        vertical-align: top;\n    }\n\n    .dataframe thead th {\n        text-align: right;\n    }\n</style>\n<table border=\"1\" class=\"dataframe\">\n  <thead>\n    <tr style=\"text-align: right;\">\n      <th></th>\n      <th>my_id</th>\n      <th>creator_slug</th>\n      <th>project_slug</th>\n      <th>Blurb</th>\n      <th>Category</th>\n      <th>Location</th>\n      <th>Staff_recommended</th>\n      <th>Goal_USD</th>\n      <th>Pledge_USD</th>\n      <th>Number_Backers</th>\n      <th>...</th>\n      <th>Positive_Post_count</th>\n      <th>Negative_Post_count</th>\n      <th>Neutral_Post_count</th>\n      <th>Total_nr_posts</th>\n      <th>total_words_all_posts</th>\n      <th>has_only_backers</th>\n      <th>Positive_Post_percentage</th>\n      <th>Negative_Post_percentage</th>\n      <th>Neutral_Post_percentage</th>\n      <th>average_words_posts</th>\n    </tr>\n  </thead>\n  <tbody>\n    <tr>\n      <th>5538</th>\n      <td>project_005539</td>\n      <td>damicareer</td>\n      <td>purpose-connect</td>\n      <td>A job match engine that is non-resume based</td>\n      <td>Software</td>\n      <td>Springfield | US</td>\n      <td>FALSE</td>\n      <td>10000</td>\n      <td>37</td>\n      <td>5</td>\n      <td>...</td>\n      <td>2</td>\n      <td>0</td>\n      <td>0</td>\n      <td>2</td>\n      <td>601</td>\n      <td>0</td>\n      <td>1.00</td>\n      <td>0.0</td>\n      <td>0.00</td>\n      <td>300.50</td>\n    </tr>\n    <tr>\n      <th>5539</th>\n      <td>project_005540</td>\n      <td>carnostic</td>\n      <td>carnostic-your-car-is-talking-to-you-listen</td>\n      <td>Using Artificial Intelligence to provide all d...</td>\n      <td>Software</td>\n      <td>Toronto | CA</td>\n      <td>FALSE</td>\n      <td>18717.74475</td>\n      <td>7166.1185259291</td>\n      <td>31</td>\n      <td>...</td>\n      <td>0</td>\n      <td>0</td>\n      <td>0</td>\n      <td>0</td>\n      <td>0</td>\n      <td>0</td>\n      <td>0.00</td>\n      <td>0.0</td>\n      <td>0.00</td>\n      <td>0.00</td>\n    </tr>\n    <tr>\n      <th>5540</th>\n      <td>project_005541</td>\n      <td>bharatbhardwaj</td>\n      <td>bugs-utf8-email</td>\n      <td>Email service for internationalized domain nam...</td>\n      <td>Software</td>\n      <td>Los Angeles | US</td>\n      <td>FALSE</td>\n      <td>33666</td>\n      <td>11</td>\n      <td>2</td>\n      <td>...</td>\n      <td>0</td>\n      <td>0</td>\n      <td>0</td>\n      <td>0</td>\n      <td>0</td>\n      <td>0</td>\n      <td>0.00</td>\n      <td>0.0</td>\n      <td>0.00</td>\n      <td>0.00</td>\n    </tr>\n    <tr>\n      <th>5541</th>\n      <td>project_005542</td>\n      <td>sacoconnect</td>\n      <td>saco-innovative-contact-management-software</td>\n      <td>The first automated contact information manage...</td>\n      <td>Software</td>\n      <td>Mexico City | MX</td>\n      <td>FALSE</td>\n      <td>159943.71</td>\n      <td>51.651155416</td>\n      <td>2</td>\n      <td>...</td>\n      <td>0</td>\n      <td>0</td>\n      <td>0</td>\n      <td>0</td>\n      <td>0</td>\n      <td>0</td>\n      <td>0.00</td>\n      <td>0.0</td>\n      <td>0.00</td>\n      <td>0.00</td>\n    </tr>\n    <tr>\n      <th>5542</th>\n      <td>project_005543</td>\n      <td>hlx</td>\n      <td>zentail-to-newegg-integration</td>\n      <td>Zentail to NewEgg software integration</td>\n      <td>Software</td>\n      <td>Brooklyn | US</td>\n      <td>FALSE</td>\n      <td>5000</td>\n      <td>11</td>\n      <td>2</td>\n      <td>...</td>\n      <td>0</td>\n      <td>0</td>\n      <td>0</td>\n      <td>0</td>\n      <td>0</td>\n      <td>0</td>\n      <td>0.00</td>\n      <td>0.0</td>\n      <td>0.00</td>\n      <td>0.00</td>\n    </tr>\n    <tr>\n      <th>...</th>\n      <td>...</td>\n      <td>...</td>\n      <td>...</td>\n      <td>...</td>\n      <td>...</td>\n      <td>...</td>\n      <td>...</td>\n      <td>...</td>\n      <td>...</td>\n      <td>...</td>\n      <td>...</td>\n      <td>...</td>\n      <td>...</td>\n      <td>...</td>\n      <td>...</td>\n      <td>...</td>\n      <td>...</td>\n      <td>...</td>\n      <td>...</td>\n      <td>...</td>\n      <td>...</td>\n    </tr>\n    <tr>\n      <th>59202</th>\n      <td>project_058915</td>\n      <td>432712414</td>\n      <td>ar-k-an-old-school-game-with-a-new-twist</td>\n      <td>Filled with mystery, humor, and suspense, and ...</td>\n      <td>Video Games</td>\n      <td>Corunna | ES</td>\n      <td>TRUE</td>\n      <td>1e+05</td>\n      <td>101564.23</td>\n      <td>879</td>\n      <td>...</td>\n      <td>13</td>\n      <td>0</td>\n      <td>7</td>\n      <td>20</td>\n      <td>4581</td>\n      <td>1</td>\n      <td>0.65</td>\n      <td>0.0</td>\n      <td>0.35</td>\n      <td>229.05</td>\n    </tr>\n    <tr>\n      <th>59203</th>\n      <td>project_058916</td>\n      <td>tripleslash</td>\n      <td>magnetic-by-nature</td>\n      <td>Wield the power of magnetism on a journey thro...</td>\n      <td>Video Games</td>\n      <td>Salt Lake City | US</td>\n      <td>FALSE</td>\n      <td>10000</td>\n      <td>11285.02</td>\n      <td>416</td>\n      <td>...</td>\n      <td>1</td>\n      <td>0</td>\n      <td>19</td>\n      <td>20</td>\n      <td>143</td>\n      <td>1</td>\n      <td>0.05</td>\n      <td>0.0</td>\n      <td>0.95</td>\n      <td>7.15</td>\n    </tr>\n    <tr>\n      <th>59204</th>\n      <td>project_058917</td>\n      <td>2079547763</td>\n      <td>jagged-alliance-flashback</td>\n      <td>The Godfather of turn-based RPG action is maki...</td>\n      <td>Video Games</td>\n      <td>Copenhagen | DK</td>\n      <td>TRUE</td>\n      <td>350000</td>\n      <td>368614.44</td>\n      <td>7167</td>\n      <td>...</td>\n      <td>12</td>\n      <td>0</td>\n      <td>8</td>\n      <td>20</td>\n      <td>12183</td>\n      <td>1</td>\n      <td>0.60</td>\n      <td>0.0</td>\n      <td>0.40</td>\n      <td>609.15</td>\n    </tr>\n    <tr>\n      <th>73697</th>\n      <td>project_073338</td>\n      <td>timseastudios</td>\n      <td>adome-action-platformer-and-exploration-adventure</td>\n      <td>ADOME is an action, platformer and first-perso...</td>\n      <td>Video Games</td>\n      <td>Murcia | ES</td>\n      <td>FALSE</td>\n      <td>50000</td>\n      <td>1343</td>\n      <td>38</td>\n      <td>...</td>\n      <td>3</td>\n      <td>0</td>\n      <td>1</td>\n      <td>4</td>\n      <td>1627</td>\n      <td>0</td>\n      <td>0.75</td>\n      <td>0.0</td>\n      <td>0.25</td>\n      <td>406.75</td>\n    </tr>\n    <tr>\n      <th>73721</th>\n      <td>project_073362</td>\n      <td>imanradmanesh</td>\n      <td>kalat</td>\n      <td>This is a story of people who didnât want to...</td>\n      <td>Video Games</td>\n      <td>Melbourne | AU</td>\n      <td>FALSE</td>\n      <td>20957.65845</td>\n      <td>0.937766412</td>\n      <td>1</td>\n      <td>...</td>\n      <td>0</td>\n      <td>0</td>\n      <td>0</td>\n      <td>0</td>\n      <td>0</td>\n      <td>0</td>\n      <td>0.00</td>\n      <td>0.0</td>\n      <td>0.00</td>\n      <td>0.00</td>\n    </tr>\n  </tbody>\n</table>\n<p>5797 rows × 38 columns</p>\n</div>"
     },
     "execution_count": 126,
     "metadata": {},
     "output_type": "execute_result"
    }
   ],
   "source": [
    "def iterate_over_posts_with_label_and_add_to_info(posts_with_label_df, info_df ):\n",
    "    \"\"\"\n",
    "    iterates over the posts, then for each post it adds the count to the corresponding project id in the info_df\n",
    "    ::TODO:: make it work with tokens instead of words\n",
    "    :param posts_with_label_df:\n",
    "    :param info_df:\n",
    "    :return:\n",
    "    \"\"\"\n",
    "    info_df[\"Positive_Post_count\"] = 0\n",
    "    info_df[\"Negative_Post_count\"] = 0\n",
    "    info_df[\"Neutral_Post_count\"] = 0\n",
    "    info_df[\"Total_nr_posts\"] = 0\n",
    "    info_df[\"total_words_all_posts\"] = 0\n",
    "    info_df[\"has_only_backers\"] = 0\n",
    "    i = 0\n",
    "    for index, row in posts_with_label_df.iterrows():\n",
    "        i+=1\n",
    "        project_id = row[\"Project_my_id\"]\n",
    "        post_text = row[\"Post_Text\"]\n",
    "        label = row[\"Predicted_Label\"]\n",
    "        if 'ONLY FOR BACKERS' in post_text:\n",
    "            info_df.loc[info_df[\"my_id\"] == project_id, \"has_only_backers\"] = 1\n",
    "        info_df.loc[info_df[\"my_id\"] == project_id, \"Total_nr_posts\"] += 1\n",
    "        info_df.loc[info_df[\"my_id\"] == project_id, \"total_words_all_posts\"] += len(post_text.split())\n",
    "\n",
    "        if label == 2:\n",
    "            info_df.loc[info_df[\"my_id\"] == project_id, \"Positive_Post_count\"] += 1\n",
    "        elif label == 0:\n",
    "            info_df.loc[info_df[\"my_id\"] == project_id, \"Negative_Post_count\"] += 1\n",
    "        elif label == 1:\n",
    "            info_df.loc[info_df[\"my_id\"] == project_id, \"Neutral_Post_count\"] += 1\n",
    "        if i % 100 == 0:\n",
    "            print(i)\n",
    "    return info_df\n",
    "\n",
    "#important_info_new = iterate_over_posts_with_label_and_add_to_info(merged_posts_df, important_info)\n",
    "important_info_new = iterate_over_posts_with_label_and_add_to_info(important_posts, important_info)\n",
    "important_info_new"
   ],
   "metadata": {
    "collapsed": false,
    "ExecuteTime": {
     "start_time": "2023-12-30T17:54:19.023678Z",
     "end_time": "2023-12-30T17:55:05.613847Z"
    }
   }
  },
  {
   "cell_type": "markdown",
   "source": [
    "# make an average post percentage"
   ],
   "metadata": {
    "collapsed": false
   }
  },
  {
   "cell_type": "code",
   "execution_count": 127,
   "outputs": [
    {
     "data": {
      "text/plain": "                my_id    creator_slug  \\\n5538   project_005539      damicareer   \n5539   project_005540       carnostic   \n5540   project_005541  bharatbhardwaj   \n5541   project_005542     sacoconnect   \n5542   project_005543             hlx   \n...               ...             ...   \n59202  project_058915       432712414   \n59203  project_058916     tripleslash   \n59204  project_058917      2079547763   \n73697  project_073338   timseastudios   \n73721  project_073362   imanradmanesh   \n\n                                            project_slug  \\\n5538                                     purpose-connect   \n5539         carnostic-your-car-is-talking-to-you-listen   \n5540                                     bugs-utf8-email   \n5541         saco-innovative-contact-management-software   \n5542                       zentail-to-newegg-integration   \n...                                                  ...   \n59202           ar-k-an-old-school-game-with-a-new-twist   \n59203                                 magnetic-by-nature   \n59204                          jagged-alliance-flashback   \n73697  adome-action-platformer-and-exploration-adventure   \n73721                                              kalat   \n\n                                                   Blurb     Category  \\\n5538         A job match engine that is non-resume based     Software   \n5539   Using Artificial Intelligence to provide all d...     Software   \n5540   Email service for internationalized domain nam...     Software   \n5541   The first automated contact information manage...     Software   \n5542              Zentail to NewEgg software integration     Software   \n...                                                  ...          ...   \n59202  Filled with mystery, humor, and suspense, and ...  Video Games   \n59203  Wield the power of magnetism on a journey thro...  Video Games   \n59204  The Godfather of turn-based RPG action is maki...  Video Games   \n73697  ADOME is an action, platformer and first-perso...  Video Games   \n73721  This is a story of people who didnât want to...  Video Games   \n\n                  Location Staff_recommended     Goal_USD       Pledge_USD  \\\n5538      Springfield | US             FALSE        10000               37   \n5539          Toronto | CA             FALSE  18717.74475  7166.1185259291   \n5540      Los Angeles | US             FALSE        33666               11   \n5541      Mexico City | MX             FALSE    159943.71     51.651155416   \n5542         Brooklyn | US             FALSE         5000               11   \n...                    ...               ...          ...              ...   \n59202         Corunna | ES              TRUE        1e+05        101564.23   \n59203  Salt Lake City | US             FALSE        10000         11285.02   \n59204      Copenhagen | DK              TRUE       350000        368614.44   \n73697          Murcia | ES             FALSE        50000             1343   \n73721       Melbourne | AU             FALSE  20957.65845      0.937766412   \n\n      Number_Backers  ...                                Project_description  \\\n5538               5  ...  For the past couple of years, DAMI Career and ...   \n5539              31  ...  You'll need an HTML5 capable browser to see th...   \n5540               2  ...  à¤¸à¤¬ à¤à¥à¤ #à¤¹à¤¿à¤à¤¦à¥à¤®à¥à¤ à¤\n...   \n5541               2  ...  Our story:   We (the owners) own a couple of c...   \n5542               2  ...  If you are in eCommerce, you know the perks of...   \n...              ...  ...                                                ...   \n59202            879  ...  Check out the Updates  #16  and  #17  for the ...   \n59203            416  ...  \"It's like Limbo, but with magnets!\"   - Kotak...   \n59204           7167  ...  We would like to thank all the backers for mak...   \n73697             38  ...  This campaign is also available in Â  Spanish ...   \n73721              1  ...  Imagine having a calm and nice dinner with you...   \n\n      Positive_Post_count Negative_Post_count Neutral_Post_count  \\\n5538                    2                   0                  0   \n5539                    0                   0                  0   \n5540                    0                   0                  0   \n5541                    0                   0                  0   \n5542                    0                   0                  0   \n...                   ...                 ...                ...   \n59202                  13                   0                  7   \n59203                   1                   0                 19   \n59204                  12                   0                  8   \n73697                   3                   0                  1   \n73721                   0                   0                  0   \n\n      Total_nr_posts has_only_backers Positive_Post_percentage  \\\n5538               2                0                     1.00   \n5539               0                0                     0.00   \n5540               0                0                     0.00   \n5541               0                0                     0.00   \n5542               0                0                     0.00   \n...              ...              ...                      ...   \n59202             20                1                     0.65   \n59203             20                1                     0.05   \n59204             20                1                     0.60   \n73697              4                0                     0.75   \n73721              0                0                     0.00   \n\n      Negative_Post_percentage Neutral_Post_percentage average_words_posts  \n5538                       0.0                    0.00              300.50  \n5539                       0.0                    0.00                0.00  \n5540                       0.0                    0.00                0.00  \n5541                       0.0                    0.00                0.00  \n5542                       0.0                    0.00                0.00  \n...                        ...                     ...                 ...  \n59202                      0.0                    0.35              229.05  \n59203                      0.0                    0.95                7.15  \n59204                      0.0                    0.40              609.15  \n73697                      0.0                    0.25              406.75  \n73721                      0.0                    0.00                0.00  \n\n[5797 rows x 37 columns]",
      "text/html": "<div>\n<style scoped>\n    .dataframe tbody tr th:only-of-type {\n        vertical-align: middle;\n    }\n\n    .dataframe tbody tr th {\n        vertical-align: top;\n    }\n\n    .dataframe thead th {\n        text-align: right;\n    }\n</style>\n<table border=\"1\" class=\"dataframe\">\n  <thead>\n    <tr style=\"text-align: right;\">\n      <th></th>\n      <th>my_id</th>\n      <th>creator_slug</th>\n      <th>project_slug</th>\n      <th>Blurb</th>\n      <th>Category</th>\n      <th>Location</th>\n      <th>Staff_recommended</th>\n      <th>Goal_USD</th>\n      <th>Pledge_USD</th>\n      <th>Number_Backers</th>\n      <th>...</th>\n      <th>Project_description</th>\n      <th>Positive_Post_count</th>\n      <th>Negative_Post_count</th>\n      <th>Neutral_Post_count</th>\n      <th>Total_nr_posts</th>\n      <th>has_only_backers</th>\n      <th>Positive_Post_percentage</th>\n      <th>Negative_Post_percentage</th>\n      <th>Neutral_Post_percentage</th>\n      <th>average_words_posts</th>\n    </tr>\n  </thead>\n  <tbody>\n    <tr>\n      <th>5538</th>\n      <td>project_005539</td>\n      <td>damicareer</td>\n      <td>purpose-connect</td>\n      <td>A job match engine that is non-resume based</td>\n      <td>Software</td>\n      <td>Springfield | US</td>\n      <td>FALSE</td>\n      <td>10000</td>\n      <td>37</td>\n      <td>5</td>\n      <td>...</td>\n      <td>For the past couple of years, DAMI Career and ...</td>\n      <td>2</td>\n      <td>0</td>\n      <td>0</td>\n      <td>2</td>\n      <td>0</td>\n      <td>1.00</td>\n      <td>0.0</td>\n      <td>0.00</td>\n      <td>300.50</td>\n    </tr>\n    <tr>\n      <th>5539</th>\n      <td>project_005540</td>\n      <td>carnostic</td>\n      <td>carnostic-your-car-is-talking-to-you-listen</td>\n      <td>Using Artificial Intelligence to provide all d...</td>\n      <td>Software</td>\n      <td>Toronto | CA</td>\n      <td>FALSE</td>\n      <td>18717.74475</td>\n      <td>7166.1185259291</td>\n      <td>31</td>\n      <td>...</td>\n      <td>You'll need an HTML5 capable browser to see th...</td>\n      <td>0</td>\n      <td>0</td>\n      <td>0</td>\n      <td>0</td>\n      <td>0</td>\n      <td>0.00</td>\n      <td>0.0</td>\n      <td>0.00</td>\n      <td>0.00</td>\n    </tr>\n    <tr>\n      <th>5540</th>\n      <td>project_005541</td>\n      <td>bharatbhardwaj</td>\n      <td>bugs-utf8-email</td>\n      <td>Email service for internationalized domain nam...</td>\n      <td>Software</td>\n      <td>Los Angeles | US</td>\n      <td>FALSE</td>\n      <td>33666</td>\n      <td>11</td>\n      <td>2</td>\n      <td>...</td>\n      <td>à¤¸à¤¬ à¤à¥à¤ #à¤¹à¤¿à¤à¤¦à¥à¤®à¥à¤ à¤...</td>\n      <td>0</td>\n      <td>0</td>\n      <td>0</td>\n      <td>0</td>\n      <td>0</td>\n      <td>0.00</td>\n      <td>0.0</td>\n      <td>0.00</td>\n      <td>0.00</td>\n    </tr>\n    <tr>\n      <th>5541</th>\n      <td>project_005542</td>\n      <td>sacoconnect</td>\n      <td>saco-innovative-contact-management-software</td>\n      <td>The first automated contact information manage...</td>\n      <td>Software</td>\n      <td>Mexico City | MX</td>\n      <td>FALSE</td>\n      <td>159943.71</td>\n      <td>51.651155416</td>\n      <td>2</td>\n      <td>...</td>\n      <td>Our story:   We (the owners) own a couple of c...</td>\n      <td>0</td>\n      <td>0</td>\n      <td>0</td>\n      <td>0</td>\n      <td>0</td>\n      <td>0.00</td>\n      <td>0.0</td>\n      <td>0.00</td>\n      <td>0.00</td>\n    </tr>\n    <tr>\n      <th>5542</th>\n      <td>project_005543</td>\n      <td>hlx</td>\n      <td>zentail-to-newegg-integration</td>\n      <td>Zentail to NewEgg software integration</td>\n      <td>Software</td>\n      <td>Brooklyn | US</td>\n      <td>FALSE</td>\n      <td>5000</td>\n      <td>11</td>\n      <td>2</td>\n      <td>...</td>\n      <td>If you are in eCommerce, you know the perks of...</td>\n      <td>0</td>\n      <td>0</td>\n      <td>0</td>\n      <td>0</td>\n      <td>0</td>\n      <td>0.00</td>\n      <td>0.0</td>\n      <td>0.00</td>\n      <td>0.00</td>\n    </tr>\n    <tr>\n      <th>...</th>\n      <td>...</td>\n      <td>...</td>\n      <td>...</td>\n      <td>...</td>\n      <td>...</td>\n      <td>...</td>\n      <td>...</td>\n      <td>...</td>\n      <td>...</td>\n      <td>...</td>\n      <td>...</td>\n      <td>...</td>\n      <td>...</td>\n      <td>...</td>\n      <td>...</td>\n      <td>...</td>\n      <td>...</td>\n      <td>...</td>\n      <td>...</td>\n      <td>...</td>\n      <td>...</td>\n    </tr>\n    <tr>\n      <th>59202</th>\n      <td>project_058915</td>\n      <td>432712414</td>\n      <td>ar-k-an-old-school-game-with-a-new-twist</td>\n      <td>Filled with mystery, humor, and suspense, and ...</td>\n      <td>Video Games</td>\n      <td>Corunna | ES</td>\n      <td>TRUE</td>\n      <td>1e+05</td>\n      <td>101564.23</td>\n      <td>879</td>\n      <td>...</td>\n      <td>Check out the Updates  #16  and  #17  for the ...</td>\n      <td>13</td>\n      <td>0</td>\n      <td>7</td>\n      <td>20</td>\n      <td>1</td>\n      <td>0.65</td>\n      <td>0.0</td>\n      <td>0.35</td>\n      <td>229.05</td>\n    </tr>\n    <tr>\n      <th>59203</th>\n      <td>project_058916</td>\n      <td>tripleslash</td>\n      <td>magnetic-by-nature</td>\n      <td>Wield the power of magnetism on a journey thro...</td>\n      <td>Video Games</td>\n      <td>Salt Lake City | US</td>\n      <td>FALSE</td>\n      <td>10000</td>\n      <td>11285.02</td>\n      <td>416</td>\n      <td>...</td>\n      <td>\"It's like Limbo, but with magnets!\"   - Kotak...</td>\n      <td>1</td>\n      <td>0</td>\n      <td>19</td>\n      <td>20</td>\n      <td>1</td>\n      <td>0.05</td>\n      <td>0.0</td>\n      <td>0.95</td>\n      <td>7.15</td>\n    </tr>\n    <tr>\n      <th>59204</th>\n      <td>project_058917</td>\n      <td>2079547763</td>\n      <td>jagged-alliance-flashback</td>\n      <td>The Godfather of turn-based RPG action is maki...</td>\n      <td>Video Games</td>\n      <td>Copenhagen | DK</td>\n      <td>TRUE</td>\n      <td>350000</td>\n      <td>368614.44</td>\n      <td>7167</td>\n      <td>...</td>\n      <td>We would like to thank all the backers for mak...</td>\n      <td>12</td>\n      <td>0</td>\n      <td>8</td>\n      <td>20</td>\n      <td>1</td>\n      <td>0.60</td>\n      <td>0.0</td>\n      <td>0.40</td>\n      <td>609.15</td>\n    </tr>\n    <tr>\n      <th>73697</th>\n      <td>project_073338</td>\n      <td>timseastudios</td>\n      <td>adome-action-platformer-and-exploration-adventure</td>\n      <td>ADOME is an action, platformer and first-perso...</td>\n      <td>Video Games</td>\n      <td>Murcia | ES</td>\n      <td>FALSE</td>\n      <td>50000</td>\n      <td>1343</td>\n      <td>38</td>\n      <td>...</td>\n      <td>This campaign is also available in Â  Spanish ...</td>\n      <td>3</td>\n      <td>0</td>\n      <td>1</td>\n      <td>4</td>\n      <td>0</td>\n      <td>0.75</td>\n      <td>0.0</td>\n      <td>0.25</td>\n      <td>406.75</td>\n    </tr>\n    <tr>\n      <th>73721</th>\n      <td>project_073362</td>\n      <td>imanradmanesh</td>\n      <td>kalat</td>\n      <td>This is a story of people who didnât want to...</td>\n      <td>Video Games</td>\n      <td>Melbourne | AU</td>\n      <td>FALSE</td>\n      <td>20957.65845</td>\n      <td>0.937766412</td>\n      <td>1</td>\n      <td>...</td>\n      <td>Imagine having a calm and nice dinner with you...</td>\n      <td>0</td>\n      <td>0</td>\n      <td>0</td>\n      <td>0</td>\n      <td>0</td>\n      <td>0.00</td>\n      <td>0.0</td>\n      <td>0.00</td>\n      <td>0.00</td>\n    </tr>\n  </tbody>\n</table>\n<p>5797 rows × 37 columns</p>\n</div>"
     },
     "execution_count": 127,
     "metadata": {},
     "output_type": "execute_result"
    }
   ],
   "source": [
    "def turn_positive_post_count_into_percentage(info_df):\n",
    "    \"\"\"\n",
    "    turns the positive post count into a percentage\n",
    "    also it turns the NaN values of the proportion into a 0\n",
    "    also turns_tokens_all_posts into an an average tokens per post\n",
    "    :param info_df:\n",
    "    :return:\n",
    "    \"\"\"\n",
    "    for index, row in info_df.iterrows():\n",
    "        if row[\"Total_nr_posts\"] == 0:\n",
    "            info_df.loc[index, \"Positive_Post_percentage\"] = 0\n",
    "            info_df.loc[index, \"Negative_Post_percentage\"] = 0\n",
    "            info_df.loc[index, \"Neutral_Post_percentage\"] = 0\n",
    "            info_df.loc[index, \"average_words_posts\"] = 0\n",
    "        else:\n",
    "            info_df.loc[index, \"Positive_Post_percentage\"] = row[\"Positive_Post_count\"] / row[\"Total_nr_posts\"]\n",
    "            info_df.loc[index, \"Negative_Post_percentage\"] = row[\"Negative_Post_count\"] / row[\"Total_nr_posts\"]\n",
    "            info_df.loc[index, \"Neutral_Post_percentage\"] = row[\"Neutral_Post_count\"] / row[\"Total_nr_posts\"]\n",
    "            info_df.loc[index, \"average_words_posts\"] = row[\"total_words_all_posts\"] / row[\"Total_nr_posts\"]\n",
    "\n",
    "\n",
    "    return info_df.drop(columns=[\"total_words_all_posts\"])\n",
    "\n",
    "important_info_new = turn_positive_post_count_into_percentage(important_info_new)\n",
    "important_info_new"
   ],
   "metadata": {
    "collapsed": false,
    "ExecuteTime": {
     "start_time": "2023-12-30T17:55:05.613175Z",
     "end_time": "2023-12-30T17:55:06.160341Z"
    }
   }
  },
  {
   "cell_type": "markdown",
   "source": [
    "# Take only important columns"
   ],
   "metadata": {
    "collapsed": false
   }
  },
  {
   "cell_type": "code",
   "execution_count": 128,
   "outputs": [],
   "source": [
    "def take_useful_columns_from_dataframe(df):\n",
    "    \"\"\"\n",
    "    takes the columns that are useful for the model\n",
    "    :param df:\n",
    "    :return:\n",
    "    \"\"\"\n",
    "    return df[['Category', 'Goal_USD', 'Pledge_USD', 'Project_nb_updates', 'Location', 'Number_Backers', 'Creator_nb_projects', 'has_only_backers',\"Total_nr_posts\", \"Positive_Post_count\",\"Neutral_Post_count\",\"Negative_Post_count\", \"Positive_Post_percentage\", \"Negative_Post_percentage\", \"Neutral_Post_percentage\", \"average_words_posts\"]]\n",
    "important_info_new = take_useful_columns_from_dataframe(important_info_new)"
   ],
   "metadata": {
    "collapsed": false,
    "ExecuteTime": {
     "start_time": "2023-12-30T17:55:08.153914Z",
     "end_time": "2023-12-30T17:55:08.158656Z"
    }
   }
  },
  {
   "cell_type": "markdown",
   "source": [],
   "metadata": {
    "collapsed": false
   }
  },
  {
   "cell_type": "markdown",
   "source": [
    "# Remove missing values"
   ],
   "metadata": {
    "collapsed": false
   }
  },
  {
   "cell_type": "code",
   "execution_count": 121,
   "outputs": [],
   "source": [
    "def remove_missing_values(df_combine):\n",
    "    df_combine_cleaned = df_combine.dropna()\n",
    "\n",
    "    return df_combine_cleaned\n",
    "important_info_new = remove_missing_values(important_info_new)"
   ],
   "metadata": {
    "collapsed": false,
    "ExecuteTime": {
     "start_time": "2023-12-30T17:35:04.507694Z",
     "end_time": "2023-12-30T17:35:04.518967Z"
    }
   }
  },
  {
   "cell_type": "markdown",
   "source": [
    "# Encoding the labels and the categorical variables"
   ],
   "metadata": {
    "collapsed": false
   }
  },
  {
   "cell_type": "code",
   "execution_count": 130,
   "outputs": [
    {
     "name": "stderr",
     "output_type": "stream",
     "text": [
      "/var/folders/f3/ykt1vfz96xz48try_trwdn440000gn/T/ipykernel_23850/3365103014.py:5: SettingWithCopyWarning: \n",
      "A value is trying to be set on a copy of a slice from a DataFrame.\n",
      "Try using .loc[row_indexer,col_indexer] = value instead\n",
      "\n",
      "See the caveats in the documentation: https://pandas.pydata.org/pandas-docs/stable/user_guide/indexing.html#returning-a-view-versus-a-copy\n",
      "  df_combine_cleaned['Pledge_USD'] = pd.to_numeric(df_combine_cleaned['Pledge_USD'], errors='coerce')\n",
      "/var/folders/f3/ykt1vfz96xz48try_trwdn440000gn/T/ipykernel_23850/3365103014.py:6: SettingWithCopyWarning: \n",
      "A value is trying to be set on a copy of a slice from a DataFrame.\n",
      "Try using .loc[row_indexer,col_indexer] = value instead\n",
      "\n",
      "See the caveats in the documentation: https://pandas.pydata.org/pandas-docs/stable/user_guide/indexing.html#returning-a-view-versus-a-copy\n",
      "  df_combine_cleaned.loc[:, 'has_reached_goal'] = np.where(df_combine_cleaned['Goal_USD'] <= df_combine_cleaned['Pledge_USD'], 1, 0)\n",
      "/var/folders/f3/ykt1vfz96xz48try_trwdn440000gn/T/ipykernel_23850/3365103014.py:10: SettingWithCopyWarning: \n",
      "A value is trying to be set on a copy of a slice from a DataFrame.\n",
      "Try using .loc[row_indexer,col_indexer] = value instead\n",
      "\n",
      "See the caveats in the documentation: https://pandas.pydata.org/pandas-docs/stable/user_guide/indexing.html#returning-a-view-versus-a-copy\n",
      "  df_combine_cleaned ['Country'] = location_split[1]\n"
     ]
    },
    {
     "data": {
      "text/plain": "          Goal_USD     Pledge_USD Project_nb_updates             Location  \\\n5538       10000.0      37.000000                  2     Springfield | US   \n5539   18717.74475    7166.118526                  0         Toronto | CA   \n5540       33666.0      11.000000                  0     Los Angeles | US   \n5541     159943.71      51.651155                  0     Mexico City | MX   \n5542        5000.0      11.000000                  0        Brooklyn | US   \n...            ...            ...                ...                  ...   \n59202     100000.0  101564.230000                 44         Corunna | ES   \n59203      10000.0   11285.020000                 45  Salt Lake City | US   \n59204     350000.0  368614.440000                 55      Copenhagen | DK   \n73697      50000.0    1343.000000                  4          Murcia | ES   \n73721  20957.65845       0.937766                  0       Melbourne | AU   \n\n      Number_Backers Creator_nb_projects  has_only_backers  Total_nr_posts  \\\n5538               5                   1                 0               2   \n5539              31                   1                 0               0   \n5540               2                   1                 0               0   \n5541               2                   1                 0               0   \n5542               2                   1                 0               0   \n...              ...                 ...               ...             ...   \n59202            879                   3                 1              20   \n59203            416                   1                 1              20   \n59204           7167                   1                 1              20   \n73697             38                   1                 0               4   \n73721              1                   1                 0               0   \n\n       Positive_Post_count  Neutral_Post_count  ...  Country_TW  Country_UA  \\\n5538                     2                   0  ...           0           0   \n5539                     0                   0  ...           0           0   \n5540                     0                   0  ...           0           0   \n5541                     0                   0  ...           0           0   \n5542                     0                   0  ...           0           0   \n...                    ...                 ...  ...         ...         ...   \n59202                   13                   7  ...           0           0   \n59203                    1                  19  ...           0           0   \n59204                   12                   8  ...           0           0   \n73697                    3                   1  ...           0           0   \n73721                    0                   0  ...           0           0   \n\n       Country_US  Country_VE  Country_VN  Country_ZA  Country_ZM  \\\n5538            1           0           0           0           0   \n5539            0           0           0           0           0   \n5540            1           0           0           0           0   \n5541            0           0           0           0           0   \n5542            1           0           0           0           0   \n...           ...         ...         ...         ...         ...   \n59202           0           0           0           0           0   \n59203           1           0           0           0           0   \n59204           0           0           0           0           0   \n73697           0           0           0           0           0   \n73721           0           0           0           0           0   \n\n       Cat_Animation  Cat_Software  Cat_Video Games  \n5538               0             1                0  \n5539               0             1                0  \n5540               0             1                0  \n5541               0             1                0  \n5542               0             1                0  \n...              ...           ...              ...  \n59202              0             0                1  \n59203              0             0                1  \n59204              0             0                1  \n73697              0             0                1  \n73721              0             0                1  \n\n[5797 rows x 94 columns]",
      "text/html": "<div>\n<style scoped>\n    .dataframe tbody tr th:only-of-type {\n        vertical-align: middle;\n    }\n\n    .dataframe tbody tr th {\n        vertical-align: top;\n    }\n\n    .dataframe thead th {\n        text-align: right;\n    }\n</style>\n<table border=\"1\" class=\"dataframe\">\n  <thead>\n    <tr style=\"text-align: right;\">\n      <th></th>\n      <th>Goal_USD</th>\n      <th>Pledge_USD</th>\n      <th>Project_nb_updates</th>\n      <th>Location</th>\n      <th>Number_Backers</th>\n      <th>Creator_nb_projects</th>\n      <th>has_only_backers</th>\n      <th>Total_nr_posts</th>\n      <th>Positive_Post_count</th>\n      <th>Neutral_Post_count</th>\n      <th>...</th>\n      <th>Country_TW</th>\n      <th>Country_UA</th>\n      <th>Country_US</th>\n      <th>Country_VE</th>\n      <th>Country_VN</th>\n      <th>Country_ZA</th>\n      <th>Country_ZM</th>\n      <th>Cat_Animation</th>\n      <th>Cat_Software</th>\n      <th>Cat_Video Games</th>\n    </tr>\n  </thead>\n  <tbody>\n    <tr>\n      <th>5538</th>\n      <td>10000.0</td>\n      <td>37.000000</td>\n      <td>2</td>\n      <td>Springfield | US</td>\n      <td>5</td>\n      <td>1</td>\n      <td>0</td>\n      <td>2</td>\n      <td>2</td>\n      <td>0</td>\n      <td>...</td>\n      <td>0</td>\n      <td>0</td>\n      <td>1</td>\n      <td>0</td>\n      <td>0</td>\n      <td>0</td>\n      <td>0</td>\n      <td>0</td>\n      <td>1</td>\n      <td>0</td>\n    </tr>\n    <tr>\n      <th>5539</th>\n      <td>18717.74475</td>\n      <td>7166.118526</td>\n      <td>0</td>\n      <td>Toronto | CA</td>\n      <td>31</td>\n      <td>1</td>\n      <td>0</td>\n      <td>0</td>\n      <td>0</td>\n      <td>0</td>\n      <td>...</td>\n      <td>0</td>\n      <td>0</td>\n      <td>0</td>\n      <td>0</td>\n      <td>0</td>\n      <td>0</td>\n      <td>0</td>\n      <td>0</td>\n      <td>1</td>\n      <td>0</td>\n    </tr>\n    <tr>\n      <th>5540</th>\n      <td>33666.0</td>\n      <td>11.000000</td>\n      <td>0</td>\n      <td>Los Angeles | US</td>\n      <td>2</td>\n      <td>1</td>\n      <td>0</td>\n      <td>0</td>\n      <td>0</td>\n      <td>0</td>\n      <td>...</td>\n      <td>0</td>\n      <td>0</td>\n      <td>1</td>\n      <td>0</td>\n      <td>0</td>\n      <td>0</td>\n      <td>0</td>\n      <td>0</td>\n      <td>1</td>\n      <td>0</td>\n    </tr>\n    <tr>\n      <th>5541</th>\n      <td>159943.71</td>\n      <td>51.651155</td>\n      <td>0</td>\n      <td>Mexico City | MX</td>\n      <td>2</td>\n      <td>1</td>\n      <td>0</td>\n      <td>0</td>\n      <td>0</td>\n      <td>0</td>\n      <td>...</td>\n      <td>0</td>\n      <td>0</td>\n      <td>0</td>\n      <td>0</td>\n      <td>0</td>\n      <td>0</td>\n      <td>0</td>\n      <td>0</td>\n      <td>1</td>\n      <td>0</td>\n    </tr>\n    <tr>\n      <th>5542</th>\n      <td>5000.0</td>\n      <td>11.000000</td>\n      <td>0</td>\n      <td>Brooklyn | US</td>\n      <td>2</td>\n      <td>1</td>\n      <td>0</td>\n      <td>0</td>\n      <td>0</td>\n      <td>0</td>\n      <td>...</td>\n      <td>0</td>\n      <td>0</td>\n      <td>1</td>\n      <td>0</td>\n      <td>0</td>\n      <td>0</td>\n      <td>0</td>\n      <td>0</td>\n      <td>1</td>\n      <td>0</td>\n    </tr>\n    <tr>\n      <th>...</th>\n      <td>...</td>\n      <td>...</td>\n      <td>...</td>\n      <td>...</td>\n      <td>...</td>\n      <td>...</td>\n      <td>...</td>\n      <td>...</td>\n      <td>...</td>\n      <td>...</td>\n      <td>...</td>\n      <td>...</td>\n      <td>...</td>\n      <td>...</td>\n      <td>...</td>\n      <td>...</td>\n      <td>...</td>\n      <td>...</td>\n      <td>...</td>\n      <td>...</td>\n      <td>...</td>\n    </tr>\n    <tr>\n      <th>59202</th>\n      <td>100000.0</td>\n      <td>101564.230000</td>\n      <td>44</td>\n      <td>Corunna | ES</td>\n      <td>879</td>\n      <td>3</td>\n      <td>1</td>\n      <td>20</td>\n      <td>13</td>\n      <td>7</td>\n      <td>...</td>\n      <td>0</td>\n      <td>0</td>\n      <td>0</td>\n      <td>0</td>\n      <td>0</td>\n      <td>0</td>\n      <td>0</td>\n      <td>0</td>\n      <td>0</td>\n      <td>1</td>\n    </tr>\n    <tr>\n      <th>59203</th>\n      <td>10000.0</td>\n      <td>11285.020000</td>\n      <td>45</td>\n      <td>Salt Lake City | US</td>\n      <td>416</td>\n      <td>1</td>\n      <td>1</td>\n      <td>20</td>\n      <td>1</td>\n      <td>19</td>\n      <td>...</td>\n      <td>0</td>\n      <td>0</td>\n      <td>1</td>\n      <td>0</td>\n      <td>0</td>\n      <td>0</td>\n      <td>0</td>\n      <td>0</td>\n      <td>0</td>\n      <td>1</td>\n    </tr>\n    <tr>\n      <th>59204</th>\n      <td>350000.0</td>\n      <td>368614.440000</td>\n      <td>55</td>\n      <td>Copenhagen | DK</td>\n      <td>7167</td>\n      <td>1</td>\n      <td>1</td>\n      <td>20</td>\n      <td>12</td>\n      <td>8</td>\n      <td>...</td>\n      <td>0</td>\n      <td>0</td>\n      <td>0</td>\n      <td>0</td>\n      <td>0</td>\n      <td>0</td>\n      <td>0</td>\n      <td>0</td>\n      <td>0</td>\n      <td>1</td>\n    </tr>\n    <tr>\n      <th>73697</th>\n      <td>50000.0</td>\n      <td>1343.000000</td>\n      <td>4</td>\n      <td>Murcia | ES</td>\n      <td>38</td>\n      <td>1</td>\n      <td>0</td>\n      <td>4</td>\n      <td>3</td>\n      <td>1</td>\n      <td>...</td>\n      <td>0</td>\n      <td>0</td>\n      <td>0</td>\n      <td>0</td>\n      <td>0</td>\n      <td>0</td>\n      <td>0</td>\n      <td>0</td>\n      <td>0</td>\n      <td>1</td>\n    </tr>\n    <tr>\n      <th>73721</th>\n      <td>20957.65845</td>\n      <td>0.937766</td>\n      <td>0</td>\n      <td>Melbourne | AU</td>\n      <td>1</td>\n      <td>1</td>\n      <td>0</td>\n      <td>0</td>\n      <td>0</td>\n      <td>0</td>\n      <td>...</td>\n      <td>0</td>\n      <td>0</td>\n      <td>0</td>\n      <td>0</td>\n      <td>0</td>\n      <td>0</td>\n      <td>0</td>\n      <td>0</td>\n      <td>0</td>\n      <td>1</td>\n    </tr>\n  </tbody>\n</table>\n<p>5797 rows × 94 columns</p>\n</div>"
     },
     "execution_count": 130,
     "metadata": {},
     "output_type": "execute_result"
    }
   ],
   "source": [
    "def encoding(df_combine_cleaned):\n",
    "    df_combine_cleaned.loc[:, 'has_only_backers'] = np.where(df_combine_cleaned['has_only_backers'] == True, 1, 0)\n",
    "\n",
    "    df_combine_cleaned.loc[:, 'Goal_USD'] = df_combine_cleaned['Goal_USD'].astype('float')\n",
    "    df_combine_cleaned['Pledge_USD'] = pd.to_numeric(df_combine_cleaned['Pledge_USD'], errors='coerce')\n",
    "    df_combine_cleaned.loc[:, 'has_reached_goal'] = np.where(df_combine_cleaned['Goal_USD'] <= df_combine_cleaned['Pledge_USD'], 1, 0)\n",
    "\n",
    "    df_combine_cleaned.loc[:, 'Total_nr_posts'] = df_combine_cleaned['Total_nr_posts'].fillna(0)\n",
    "    location_split = df_combine_cleaned ['Location'].str.split(' \\| ', expand=True)\n",
    "    df_combine_cleaned ['Country'] = location_split[1]\n",
    "    #encoder = ce.BinaryEncoder(cols=['Country'])\n",
    "    #df_combine_cleaned = encoder.fit_transform(df_combine_cleaned)\n",
    "    df_combine_cleaned = pd.get_dummies(df_combine_cleaned, columns=['Country'], prefix='Country')\n",
    "    for col in df_combine_cleaned.columns:\n",
    "        if 'Country_' in col:  # or any other prefix you have used\n",
    "            df_combine_cleaned[col] = df_combine_cleaned[col].astype(int)\n",
    "\n",
    "    df_combine_cleaned = pd.get_dummies(df_combine_cleaned, prefix=[\"Cat\"], columns=['Category'])\n",
    "    df_combine_cleaned[\"Cat_Animation\"] = df_combine_cleaned[\"Cat_Animation\"].astype(int)\n",
    "    df_combine_cleaned[\"Cat_Video Games\"] = df_combine_cleaned[\"Cat_Video Games\"].astype(int)\n",
    "    df_combine_cleaned[\"Cat_Software\"] = df_combine_cleaned[\"Cat_Software\"].astype(int)\n",
    "\n",
    "    #encoder = ce.BinaryEncoder(cols=['Category'])\n",
    "    #df_combine_cleaned = encoder.fit_transform(df_combine_cleaned)\n",
    "    df_combine_encoded = df_combine_cleaned\n",
    "\n",
    "    return df_combine_encoded\n",
    "important_info_new = encoding(important_info_new)\n",
    "important_info_new"
   ],
   "metadata": {
    "collapsed": false,
    "ExecuteTime": {
     "start_time": "2023-12-30T17:57:29.582247Z",
     "end_time": "2023-12-30T17:57:29.620584Z"
    }
   }
  },
  {
   "cell_type": "code",
   "execution_count": 131,
   "outputs": [],
   "source": [
    "def to_num(df_combine_encoded):\n",
    "    # Dropping the 'Project_nb_updates' and 'Location' columns\n",
    "    df_combine_encoded = df_combine_encoded.drop(['Project_nb_updates', 'Location'], axis=1)\n",
    "\n",
    "    # Converting 'has_only_backers' to numeric\n",
    "    df_combine_encoded['has_only_backers'] = pd.to_numeric(df_combine_encoded['has_only_backers'], errors='coerce')\n",
    "    df_combine_encoded['Goal_USD'] = pd.to_numeric(df_combine_encoded['Goal_USD'], errors='coerce')\n",
    "    df_combine_encoded['Creator_nb_projects'] = pd.to_numeric(df_combine_encoded['Creator_nb_projects'], errors='coerce')\n",
    "\n",
    "    df_combine_ready = df_combine_encoded\n",
    "\n",
    "    return df_combine_ready\n",
    "important_info_new = to_num(important_info_new)"
   ],
   "metadata": {
    "collapsed": false,
    "ExecuteTime": {
     "start_time": "2023-12-30T17:57:53.025660Z",
     "end_time": "2023-12-30T17:57:53.036111Z"
    }
   }
  },
  {
   "cell_type": "code",
   "execution_count": 132,
   "outputs": [
    {
     "data": {
      "text/plain": "           Goal_USD     Pledge_USD Number_Backers  Creator_nb_projects  \\\n5538    10000.00000      37.000000              5                  1.0   \n5539    18717.74475    7166.118526             31                  1.0   \n5540    33666.00000      11.000000              2                  1.0   \n5541   159943.71000      51.651155              2                  1.0   \n5542     5000.00000      11.000000              2                  1.0   \n...             ...            ...            ...                  ...   \n59202  100000.00000  101564.230000            879                  3.0   \n59203   10000.00000   11285.020000            416                  1.0   \n59204  350000.00000  368614.440000           7167                  1.0   \n73697   50000.00000    1343.000000             38                  1.0   \n73721   20957.65845       0.937766              1                  1.0   \n\n       has_only_backers  Total_nr_posts  Positive_Post_count  \\\n5538                  0               2                    2   \n5539                  0               0                    0   \n5540                  0               0                    0   \n5541                  0               0                    0   \n5542                  0               0                    0   \n...                 ...             ...                  ...   \n59202                 1              20                   13   \n59203                 1              20                    1   \n59204                 1              20                   12   \n73697                 0               4                    3   \n73721                 0               0                    0   \n\n       Neutral_Post_count  Negative_Post_count  Positive_Post_percentage  ...  \\\n5538                    0                    0                      1.00  ...   \n5539                    0                    0                      0.00  ...   \n5540                    0                    0                      0.00  ...   \n5541                    0                    0                      0.00  ...   \n5542                    0                    0                      0.00  ...   \n...                   ...                  ...                       ...  ...   \n59202                   7                    0                      0.65  ...   \n59203                  19                    0                      0.05  ...   \n59204                   8                    0                      0.60  ...   \n73697                   1                    0                      0.75  ...   \n73721                   0                    0                      0.00  ...   \n\n       Country_TW  Country_UA  Country_US  Country_VE  Country_VN  Country_ZA  \\\n5538            0           0           1           0           0           0   \n5539            0           0           0           0           0           0   \n5540            0           0           1           0           0           0   \n5541            0           0           0           0           0           0   \n5542            0           0           1           0           0           0   \n...           ...         ...         ...         ...         ...         ...   \n59202           0           0           0           0           0           0   \n59203           0           0           1           0           0           0   \n59204           0           0           0           0           0           0   \n73697           0           0           0           0           0           0   \n73721           0           0           0           0           0           0   \n\n       Country_ZM  Cat_Animation  Cat_Software  Cat_Video Games  \n5538            0              0             1                0  \n5539            0              0             1                0  \n5540            0              0             1                0  \n5541            0              0             1                0  \n5542            0              0             1                0  \n...           ...            ...           ...              ...  \n59202           0              0             0                1  \n59203           0              0             0                1  \n59204           0              0             0                1  \n73697           0              0             0                1  \n73721           0              0             0                1  \n\n[5797 rows x 92 columns]",
      "text/html": "<div>\n<style scoped>\n    .dataframe tbody tr th:only-of-type {\n        vertical-align: middle;\n    }\n\n    .dataframe tbody tr th {\n        vertical-align: top;\n    }\n\n    .dataframe thead th {\n        text-align: right;\n    }\n</style>\n<table border=\"1\" class=\"dataframe\">\n  <thead>\n    <tr style=\"text-align: right;\">\n      <th></th>\n      <th>Goal_USD</th>\n      <th>Pledge_USD</th>\n      <th>Number_Backers</th>\n      <th>Creator_nb_projects</th>\n      <th>has_only_backers</th>\n      <th>Total_nr_posts</th>\n      <th>Positive_Post_count</th>\n      <th>Neutral_Post_count</th>\n      <th>Negative_Post_count</th>\n      <th>Positive_Post_percentage</th>\n      <th>...</th>\n      <th>Country_TW</th>\n      <th>Country_UA</th>\n      <th>Country_US</th>\n      <th>Country_VE</th>\n      <th>Country_VN</th>\n      <th>Country_ZA</th>\n      <th>Country_ZM</th>\n      <th>Cat_Animation</th>\n      <th>Cat_Software</th>\n      <th>Cat_Video Games</th>\n    </tr>\n  </thead>\n  <tbody>\n    <tr>\n      <th>5538</th>\n      <td>10000.00000</td>\n      <td>37.000000</td>\n      <td>5</td>\n      <td>1.0</td>\n      <td>0</td>\n      <td>2</td>\n      <td>2</td>\n      <td>0</td>\n      <td>0</td>\n      <td>1.00</td>\n      <td>...</td>\n      <td>0</td>\n      <td>0</td>\n      <td>1</td>\n      <td>0</td>\n      <td>0</td>\n      <td>0</td>\n      <td>0</td>\n      <td>0</td>\n      <td>1</td>\n      <td>0</td>\n    </tr>\n    <tr>\n      <th>5539</th>\n      <td>18717.74475</td>\n      <td>7166.118526</td>\n      <td>31</td>\n      <td>1.0</td>\n      <td>0</td>\n      <td>0</td>\n      <td>0</td>\n      <td>0</td>\n      <td>0</td>\n      <td>0.00</td>\n      <td>...</td>\n      <td>0</td>\n      <td>0</td>\n      <td>0</td>\n      <td>0</td>\n      <td>0</td>\n      <td>0</td>\n      <td>0</td>\n      <td>0</td>\n      <td>1</td>\n      <td>0</td>\n    </tr>\n    <tr>\n      <th>5540</th>\n      <td>33666.00000</td>\n      <td>11.000000</td>\n      <td>2</td>\n      <td>1.0</td>\n      <td>0</td>\n      <td>0</td>\n      <td>0</td>\n      <td>0</td>\n      <td>0</td>\n      <td>0.00</td>\n      <td>...</td>\n      <td>0</td>\n      <td>0</td>\n      <td>1</td>\n      <td>0</td>\n      <td>0</td>\n      <td>0</td>\n      <td>0</td>\n      <td>0</td>\n      <td>1</td>\n      <td>0</td>\n    </tr>\n    <tr>\n      <th>5541</th>\n      <td>159943.71000</td>\n      <td>51.651155</td>\n      <td>2</td>\n      <td>1.0</td>\n      <td>0</td>\n      <td>0</td>\n      <td>0</td>\n      <td>0</td>\n      <td>0</td>\n      <td>0.00</td>\n      <td>...</td>\n      <td>0</td>\n      <td>0</td>\n      <td>0</td>\n      <td>0</td>\n      <td>0</td>\n      <td>0</td>\n      <td>0</td>\n      <td>0</td>\n      <td>1</td>\n      <td>0</td>\n    </tr>\n    <tr>\n      <th>5542</th>\n      <td>5000.00000</td>\n      <td>11.000000</td>\n      <td>2</td>\n      <td>1.0</td>\n      <td>0</td>\n      <td>0</td>\n      <td>0</td>\n      <td>0</td>\n      <td>0</td>\n      <td>0.00</td>\n      <td>...</td>\n      <td>0</td>\n      <td>0</td>\n      <td>1</td>\n      <td>0</td>\n      <td>0</td>\n      <td>0</td>\n      <td>0</td>\n      <td>0</td>\n      <td>1</td>\n      <td>0</td>\n    </tr>\n    <tr>\n      <th>...</th>\n      <td>...</td>\n      <td>...</td>\n      <td>...</td>\n      <td>...</td>\n      <td>...</td>\n      <td>...</td>\n      <td>...</td>\n      <td>...</td>\n      <td>...</td>\n      <td>...</td>\n      <td>...</td>\n      <td>...</td>\n      <td>...</td>\n      <td>...</td>\n      <td>...</td>\n      <td>...</td>\n      <td>...</td>\n      <td>...</td>\n      <td>...</td>\n      <td>...</td>\n      <td>...</td>\n    </tr>\n    <tr>\n      <th>59202</th>\n      <td>100000.00000</td>\n      <td>101564.230000</td>\n      <td>879</td>\n      <td>3.0</td>\n      <td>1</td>\n      <td>20</td>\n      <td>13</td>\n      <td>7</td>\n      <td>0</td>\n      <td>0.65</td>\n      <td>...</td>\n      <td>0</td>\n      <td>0</td>\n      <td>0</td>\n      <td>0</td>\n      <td>0</td>\n      <td>0</td>\n      <td>0</td>\n      <td>0</td>\n      <td>0</td>\n      <td>1</td>\n    </tr>\n    <tr>\n      <th>59203</th>\n      <td>10000.00000</td>\n      <td>11285.020000</td>\n      <td>416</td>\n      <td>1.0</td>\n      <td>1</td>\n      <td>20</td>\n      <td>1</td>\n      <td>19</td>\n      <td>0</td>\n      <td>0.05</td>\n      <td>...</td>\n      <td>0</td>\n      <td>0</td>\n      <td>1</td>\n      <td>0</td>\n      <td>0</td>\n      <td>0</td>\n      <td>0</td>\n      <td>0</td>\n      <td>0</td>\n      <td>1</td>\n    </tr>\n    <tr>\n      <th>59204</th>\n      <td>350000.00000</td>\n      <td>368614.440000</td>\n      <td>7167</td>\n      <td>1.0</td>\n      <td>1</td>\n      <td>20</td>\n      <td>12</td>\n      <td>8</td>\n      <td>0</td>\n      <td>0.60</td>\n      <td>...</td>\n      <td>0</td>\n      <td>0</td>\n      <td>0</td>\n      <td>0</td>\n      <td>0</td>\n      <td>0</td>\n      <td>0</td>\n      <td>0</td>\n      <td>0</td>\n      <td>1</td>\n    </tr>\n    <tr>\n      <th>73697</th>\n      <td>50000.00000</td>\n      <td>1343.000000</td>\n      <td>38</td>\n      <td>1.0</td>\n      <td>0</td>\n      <td>4</td>\n      <td>3</td>\n      <td>1</td>\n      <td>0</td>\n      <td>0.75</td>\n      <td>...</td>\n      <td>0</td>\n      <td>0</td>\n      <td>0</td>\n      <td>0</td>\n      <td>0</td>\n      <td>0</td>\n      <td>0</td>\n      <td>0</td>\n      <td>0</td>\n      <td>1</td>\n    </tr>\n    <tr>\n      <th>73721</th>\n      <td>20957.65845</td>\n      <td>0.937766</td>\n      <td>1</td>\n      <td>1.0</td>\n      <td>0</td>\n      <td>0</td>\n      <td>0</td>\n      <td>0</td>\n      <td>0</td>\n      <td>0.00</td>\n      <td>...</td>\n      <td>0</td>\n      <td>0</td>\n      <td>0</td>\n      <td>0</td>\n      <td>0</td>\n      <td>0</td>\n      <td>0</td>\n      <td>0</td>\n      <td>0</td>\n      <td>1</td>\n    </tr>\n  </tbody>\n</table>\n<p>5797 rows × 92 columns</p>\n</div>"
     },
     "execution_count": 132,
     "metadata": {},
     "output_type": "execute_result"
    }
   ],
   "source": [
    "important_info_new\n"
   ],
   "metadata": {
    "collapsed": false,
    "ExecuteTime": {
     "start_time": "2023-12-30T17:57:54.390218Z",
     "end_time": "2023-12-30T17:57:54.406853Z"
    }
   }
  },
  {
   "cell_type": "code",
   "execution_count": 110,
   "outputs": [],
   "source": [
    "\n"
   ],
   "metadata": {
    "collapsed": false,
    "ExecuteTime": {
     "start_time": "2023-12-29T12:56:47.135175Z",
     "end_time": "2023-12-29T12:56:47.144771Z"
    }
   }
  },
  {
   "cell_type": "markdown",
   "source": [
    "# Write the created dataframe to a csv file"
   ],
   "metadata": {
    "collapsed": false
   }
  },
  {
   "cell_type": "code",
   "execution_count": 133,
   "outputs": [],
   "source": [
    "important_info_new.to_csv('Data_with_labels_sentiment_final.csv', index=False)"
   ],
   "metadata": {
    "collapsed": false,
    "ExecuteTime": {
     "start_time": "2023-12-30T17:57:59.738864Z",
     "end_time": "2023-12-30T17:57:59.804047Z"
    }
   }
  },
  {
   "cell_type": "code",
   "execution_count": 85,
   "outputs": [],
   "source": [
    "count_has_only_backers = important_info_new[\"has_only_backers\"].value_counts()\n",
    "count_has_not_only_backers = important_info_new[\"has_only_backers\"].value_counts()"
   ],
   "metadata": {
    "collapsed": false,
    "ExecuteTime": {
     "start_time": "2023-12-28T18:28:51.189843Z",
     "end_time": "2023-12-28T18:28:51.193060Z"
    }
   }
  },
  {
   "cell_type": "code",
   "execution_count": 94,
   "outputs": [
    {
     "data": {
      "text/plain": "has_only_backers\n0    4216\n1    1577\nName: count, dtype: int64"
     },
     "execution_count": 94,
     "metadata": {},
     "output_type": "execute_result"
    }
   ],
   "source": [
    "count_has_only_backers"
   ],
   "metadata": {
    "collapsed": false,
    "ExecuteTime": {
     "start_time": "2023-12-29T12:23:08.497934Z",
     "end_time": "2023-12-29T12:23:08.502438Z"
    }
   }
  },
  {
   "cell_type": "code",
   "execution_count": 93,
   "outputs": [
    {
     "name": "stderr",
     "output_type": "stream",
     "text": [
      "/var/folders/f3/ykt1vfz96xz48try_trwdn440000gn/T/ipykernel_23850/2886949425.py:3: FutureWarning: \n",
      "\n",
      "Passing `palette` without assigning `hue` is deprecated and will be removed in v0.14.0. Assign the `x` variable to `hue` and set `legend=False` for the same effect.\n",
      "\n",
      "  sns.countplot(x=important_info_new.has_only_backers, palette='gray')\n"
     ]
    },
    {
     "data": {
      "text/plain": "[Text(0.5, 1.0, 'Projects that have posts with only backers'),\n Text(0, 0.5, 'Number of Posts'),\n Text(0.5, 0, '0 = for all,  1= has only for backers posts')]"
     },
     "execution_count": 93,
     "metadata": {},
     "output_type": "execute_result"
    },
    {
     "data": {
      "text/plain": "<Figure size 500x300 with 1 Axes>",
      "image/png": "[encoded data removed]"
     },
     "metadata": {},
     "output_type": "display_data"
    }
   ],
   "source": [
    "#make a plot with the number of posts that have only backers compared to where it is 0\n",
    "plt.figure(figsize=(5, 3))\n",
    "sns.countplot(x=important_info_new.has_only_backers, palette='gray')\n",
    "plt.gca().set(title='Projects that have posts with only backers', ylabel=\"Number of Projects\", xlabel='0 = for all,  1= has only for backers posts')"
   ],
   "metadata": {
    "collapsed": false,
    "ExecuteTime": {
     "start_time": "2023-12-28T18:32:39.545326Z",
     "end_time": "2023-12-28T18:32:39.626703Z"
    }
   }
  },
  {
   "cell_type": "code",
   "execution_count": 88,
   "outputs": [
    {
     "name": "stderr",
     "output_type": "stream",
     "text": [
      "/var/folders/f3/ykt1vfz96xz48try_trwdn440000gn/T/ipykernel_23850/2436478492.py:2: FutureWarning: \n",
      "\n",
      "Passing `palette` without assigning `hue` is deprecated and will be removed in v0.14.0. Assign the `y` variable to `hue` and set `legend=False` for the same effect.\n",
      "\n",
      "  sns.countplot(y=count_has_only_backers, palette='gray')\n"
     ]
    },
    {
     "data": {
      "text/plain": "[Text(0.5, 1.0, 'Positive Kickstarter posts | Gaming, Art, Software'),\n Text(0, 0.5, 'Number of Posts'),\n Text(0.5, 0, '0 = Negative,  1= Neutral, 2= Positive')]"
     },
     "execution_count": 88,
     "metadata": {},
     "output_type": "execute_result"
    },
    {
     "data": {
      "text/plain": "<Figure size 500x300 with 1 Axes>",
      "image/png": "[encoded data removed]"
     },
     "metadata": {},
     "output_type": "display_data"
    }
   ],
   "source": [
    "plt.figure(figsize=(5, 3))\n",
    "sns.countplot(x=count_has_only_backers, palette='gray')\n",
    "plt.gca().set(title='Positive Kickstarter posts | Gaming, Art, Software', ylabel=\"Number of Posts\", xlabel='0 = Negative,  1= Neutral, 2= Positive')\n"
   ],
   "metadata": {
    "collapsed": false,
    "ExecuteTime": {
     "start_time": "2023-12-28T18:29:19.673280Z",
     "end_time": "2023-12-28T18:29:19.749828Z"
    }
   }
  },
  {
   "cell_type": "code",
   "execution_count": 92,
   "outputs": [
    {
     "data": {
      "text/plain": "38385     2\n38386     2\n38387     1\n38388     2\n38389     2\n         ..\n377750    2\n446816    2\n446817    2\n446818    2\n446819    1\nName: Predicted_Label, Length: 40953, dtype: int64"
     },
     "execution_count": 92,
     "metadata": {},
     "output_type": "execute_result"
    }
   ],
   "source": [
    "important_posts.Predicted_Label"
   ],
   "metadata": {
    "collapsed": false,
    "ExecuteTime": {
     "start_time": "2023-12-28T18:31:06.156728Z",
     "end_time": "2023-12-28T18:31:06.160013Z"
    }
   }
  },
  {
   "cell_type": "code",
   "execution_count": 87,
   "outputs": [
    {
     "name": "stderr",
     "output_type": "stream",
     "text": [
      "/var/folders/f3/ykt1vfz96xz48try_trwdn440000gn/T/ipykernel_23850/1046454318.py:2: FutureWarning: \n",
      "\n",
      "Passing `palette` without assigning `hue` is deprecated and will be removed in v0.14.0. Assign the `x` variable to `hue` and set `legend=False` for the same effect.\n",
      "\n",
      "  sns.countplot(x=important_posts.Predicted_Label, palette='gray')\n"
     ]
    },
    {
     "data": {
      "text/plain": "[Text(0.5, 1.0, 'Positive Kickstarter posts | Gaming, Art, Software'),\n Text(0, 0.5, 'Number of Posts'),\n Text(0.5, 0, '0 = Negative,  1= Neutral, 2= Positive')]"
     },
     "execution_count": 87,
     "metadata": {},
     "output_type": "execute_result"
    },
    {
     "data": {
      "text/plain": "<Figure size 500x300 with 1 Axes>",
      "image/png": "[encoded data removed]"
     },
     "metadata": {},
     "output_type": "display_data"
    }
   ],
   "source": [
    "plt.figure(figsize=(5, 3))\n",
    "sns.countplot(x=important_posts.Predicted_Label, palette='gray')\n",
    "plt.gca().set(title='Positive Kickstarter posts | Gaming, Art, Software', ylabel=\"Number of Posts\", xlabel='0 = Negative,  1= Neutral, 2= Positive')\n"
   ],
   "metadata": {
    "collapsed": false,
    "ExecuteTime": {
     "start_time": "2023-12-28T18:29:09.697798Z",
     "end_time": "2023-12-28T18:29:09.817483Z"
    }
   }
  },
  {
   "cell_type": "code",
   "execution_count": 134,
   "outputs": [
    {
     "data": {
      "text/plain": "Predicted_Label\n2    25935\n1    14344\n0      674\nName: count, dtype: int64"
     },
     "execution_count": 134,
     "metadata": {},
     "output_type": "execute_result"
    }
   ],
   "source": [
    "important_posts[\"Predicted_Label\"].value_counts()"
   ],
   "metadata": {
    "collapsed": false,
    "ExecuteTime": {
     "start_time": "2023-12-30T22:02:03.846899Z",
     "end_time": "2023-12-30T22:02:03.880945Z"
    }
   }
  },
  {
   "cell_type": "code",
   "execution_count": 135,
   "outputs": [
    {
     "data": {
      "text/plain": "38385     2\n38386     2\n38387     1\n38388     2\n38389     2\n         ..\n377750    2\n446816    2\n446817    2\n446818    2\n446819    1\nName: Predicted_Label, Length: 40953, dtype: int64"
     },
     "execution_count": 135,
     "metadata": {},
     "output_type": "execute_result"
    }
   ],
   "source": [
    "important_posts[\"Predicted_Label\"]"
   ],
   "metadata": {
    "collapsed": false,
    "ExecuteTime": {
     "start_time": "2023-12-30T22:02:27.707144Z",
     "end_time": "2023-12-30T22:02:27.760318Z"
    }
   }
  },
  {
   "cell_type": "code",
   "execution_count": null,
   "outputs": [],
   "source": [],
   "metadata": {
    "collapsed": false
   }
  }
 ],
 "metadata": {
  "kernelspec": {
   "display_name": "Python 3",
   "language": "python",
   "name": "python3"
  },
  "language_info": {
   "codemirror_mode": {
    "name": "ipython",
    "version": 2
   },
   "file_extension": ".py",
   "mimetype": "text/x-python",
   "name": "python",
   "nbconvert_exporter": "python",
   "pygments_lexer": "ipython2",
   "version": "2.7.6"
  }
 },
 "nbformat": 4,
 "nbformat_minor": 0
}
