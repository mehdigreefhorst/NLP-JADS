{
 "cells": [
  {
   "cell_type": "code",
   "execution_count": 16,
   "id": "initial_id",
   "metadata": {
    "collapsed": true,
    "ExecuteTime": {
     "end_time": "2024-10-31T12:36:28.321707700Z",
     "start_time": "2024-10-31T12:36:28.321707700Z"
    }
   },
   "outputs": [],
   "source": [
    "import df_filter_nvida\n",
    "import numpy as np\n",
    "import pandas as pd\n",
    "import matplotlib.pyplot as plt\n",
    "import seaborn as sns\n",
    "from nltk.tokenize import word_tokenize\n",
    "import re\n",
    "from unidecode import unidecode\n",
    "import pandas as pd\n",
    "from nltk.corpus import stopwords\n",
    "from collections import Counter\n",
    "\n",
    "import gensim\n",
    "from gensim import corpora\n",
    "from gensim.models.ldamodel import LdaModel\n",
    "from gensim.models import CoherenceModel"
   ]
  },
  {
   "cell_type": "code",
   "execution_count": 2,
   "outputs": [],
   "source": [
    "stop_words = set(stopwords.words('english'))"
   ],
   "metadata": {
    "collapsed": false,
    "ExecuteTime": {
     "end_time": "2024-10-31T12:18:45.627712400Z",
     "start_time": "2024-10-31T12:18:45.621089400Z"
    }
   },
   "id": "ad6ad78338b7cc5"
  },
  {
   "cell_type": "code",
   "execution_count": 6,
   "outputs": [],
   "source": [
    "news_articles_data = pd.read_csv(\"data/us_equities_news_dataset.csv\")"
   ],
   "metadata": {
    "collapsed": false,
    "ExecuteTime": {
     "end_time": "2024-10-31T12:20:25.109162600Z",
     "start_time": "2024-10-31T12:20:10.038576400Z"
    }
   },
   "id": "5e5d81983e8f55c3"
  },
  {
   "cell_type": "code",
   "execution_count": 10,
   "outputs": [],
   "source": [
    "# Sample keywords related to NVIDIA and associated companies\n",
    "nvidia_keywords = [\n",
    "    'NVDA', 'NVIDIA']\n",
    "\n",
    "'''\n",
    "\n",
    "More keywords can be added to the list to improve the filtering process. But adding all those increases the document number significantly making processing slower and creating memory issues that are unsolvable by my mere laptop. \n",
    "\n",
    "nvidia_keywords = [\n",
    "    'NVDA', 'NVIDIA', 'NIO', 'UBER', 'AMZN', 'AMAZON', 'TESLA', 'AI', 'GPU', 'GRAPHICS',\n",
    "    'CHIP', 'SEMICONDUCTOR', 'AUTONOMOUS', 'DRIVING', 'DEEP LEARNING', 'MACHINE LEARNING'\n",
    "]\n",
    "\n",
    "'''\n",
    "\n",
    "# Compile a regex pattern from the keywords list\n",
    "nvidia_pattern = '|'.join(nvidia_keywords)  # Combines the keywords into a regex pattern\n",
    "\n",
    "# Filter articles where the content or ticker column contains any of the keywords\n",
    "df_news = news_articles_data[\n",
    "    news_articles_data['content'].str.contains(nvidia_pattern, case=False, na=False)\n",
    "]"
   ],
   "metadata": {
    "collapsed": false,
    "ExecuteTime": {
     "end_time": "2024-10-31T12:25:10.856052700Z",
     "start_time": "2024-10-31T12:24:45.447457900Z"
    }
   },
   "id": "78422d245f4e849b"
  },
  {
   "cell_type": "code",
   "execution_count": 11,
   "outputs": [
    {
     "data": {
      "text/plain": "          id ticker  ticker_NVDA_improved  \\\n0     221539    NIO                  True   \n1     221547    NIO                  True   \n2     221572    NIO                  True   \n3     221593   UBER                  True   \n4     221597   UBER                  True   \n...      ...    ...                   ...   \n3436  442657    AMD                  True   \n3437  442682    AMD                  True   \n3438  442705    AMD                  True   \n3439  442984      T                  True   \n3440  442987      T                  True   \n\n                                                  title  title_NVIDIA_topic  \\\n0     A Central Bank War Just Started And Its Good F...               False   \n1            6 Stocks To Watch  Nivida Could Be Falling               False   \n2     Stocks   Dow Drops Nearly 400 Points as Apple ...               False   \n3     The Zacks Analyst Blog Highlights  Advanced Mi...                True   \n4                        The Best Of CES 2020  Revised                False   \n...                                                 ...                 ...   \n3436    Here s Why Nvidia  NVDA  Stock Is Gaining Today                True   \n3437      4 Stocks To Watch Today  ATW  CWEI  MXL  SLCA               False   \n3438  Here s What The Buy Side Expects From AMD Thur...               False   \n3439  Zacks com Featured Highlights  AT T  Nu Skin E...                True   \n3440  5 Dividend Growth Stocks To Sail Through Uncer...               False   \n\n     category                                            content  \\\n0     opinion  ECB Effects\\nThe move in the euro was huge  fa...   \n1     opinion  6 Stocks To Watch  March 6 Trading Session\\nSt...   \n2        news  Investing com   A rout in Apple and Facebook  ...   \n3     opinion  For Immediate ReleaseChicago  IL   January 13 ...   \n4     opinion  With 4 500 companies bringing their innovation...   \n...       ...                                                ...   \n3436  opinion  Shares of Nvidia   NASDAQ NVDA   are up nearly...   \n3437  opinion  It was a pretty good start to the week on Mond...   \n3438  opinion  Advanced Micro Devices Inc   NYSE AMD  is set ...   \n3439  opinion  For Immediate Release\\n\\nChicago  IL   July 22...   \n3440  opinion  With uncertainty ruling the markets since the ...   \n\n      content_NVIDIA_topic release_date                   provider  \\\n0                     True   2019-03-07             Michael Kramer   \n1                     True   2019-03-06             Michael Kramer   \n2                     True   2018-11-19              Investing.com   \n3                     True   2020-01-12  Zacks Investment Research   \n4                     True   2020-01-16  Zacks Investment Research   \n...                    ...          ...                        ...   \n3436                  True   2016-09-27  Zacks Investment Research   \n3437                  True   2016-05-17                Harry Boxer   \n3438                  True   2014-04-17                   Estimize   \n3439                  True   2016-07-21  Zacks Investment Research   \n3440                  True   2016-07-20  Zacks Investment Research   \n\n                                                    url  article_id  \n0     https://www.investing.com/analysis/a-central-b...   200395687  \n1     https://www.investing.com/analysis/6-stocks-to...   200394931  \n2     https://www.investing.com/news/stock-market-ne...     1694042  \n3     https://www.investing.com/analysis/the-zacks-a...   200498277  \n4     https://www.investing.com/analysis/the-best-of...   200499164  \n...                                                 ...         ...  \n3436  https://www.investing.com/analysis/here's-why-...   200155860  \n3437  https://www.investing.com/analysis/atw,-cwei,-...   200130262  \n3438  https://www.investing.com/analysis/here’s-what...      209915  \n3439  https://www.investing.com/analysis/zacks.com-f...   200143537  \n3440  https://www.investing.com/analysis/5-dividend-...   200143306  \n\n[3441 rows x 12 columns]",
      "text/html": "<div>\n<style scoped>\n    .dataframe tbody tr th:only-of-type {\n        vertical-align: middle;\n    }\n\n    .dataframe tbody tr th {\n        vertical-align: top;\n    }\n\n    .dataframe thead th {\n        text-align: right;\n    }\n</style>\n<table border=\"1\" class=\"dataframe\">\n  <thead>\n    <tr style=\"text-align: right;\">\n      <th></th>\n      <th>id</th>\n      <th>ticker</th>\n      <th>ticker_NVDA_improved</th>\n      <th>title</th>\n      <th>title_NVIDIA_topic</th>\n      <th>category</th>\n      <th>content</th>\n      <th>content_NVIDIA_topic</th>\n      <th>release_date</th>\n      <th>provider</th>\n      <th>url</th>\n      <th>article_id</th>\n    </tr>\n  </thead>\n  <tbody>\n    <tr>\n      <th>0</th>\n      <td>221539</td>\n      <td>NIO</td>\n      <td>True</td>\n      <td>A Central Bank War Just Started And Its Good F...</td>\n      <td>False</td>\n      <td>opinion</td>\n      <td>ECB Effects\\nThe move in the euro was huge  fa...</td>\n      <td>True</td>\n      <td>2019-03-07</td>\n      <td>Michael Kramer</td>\n      <td>https://www.investing.com/analysis/a-central-b...</td>\n      <td>200395687</td>\n    </tr>\n    <tr>\n      <th>1</th>\n      <td>221547</td>\n      <td>NIO</td>\n      <td>True</td>\n      <td>6 Stocks To Watch  Nivida Could Be Falling</td>\n      <td>False</td>\n      <td>opinion</td>\n      <td>6 Stocks To Watch  March 6 Trading Session\\nSt...</td>\n      <td>True</td>\n      <td>2019-03-06</td>\n      <td>Michael Kramer</td>\n      <td>https://www.investing.com/analysis/6-stocks-to...</td>\n      <td>200394931</td>\n    </tr>\n    <tr>\n      <th>2</th>\n      <td>221572</td>\n      <td>NIO</td>\n      <td>True</td>\n      <td>Stocks   Dow Drops Nearly 400 Points as Apple ...</td>\n      <td>False</td>\n      <td>news</td>\n      <td>Investing com   A rout in Apple and Facebook  ...</td>\n      <td>True</td>\n      <td>2018-11-19</td>\n      <td>Investing.com</td>\n      <td>https://www.investing.com/news/stock-market-ne...</td>\n      <td>1694042</td>\n    </tr>\n    <tr>\n      <th>3</th>\n      <td>221593</td>\n      <td>UBER</td>\n      <td>True</td>\n      <td>The Zacks Analyst Blog Highlights  Advanced Mi...</td>\n      <td>True</td>\n      <td>opinion</td>\n      <td>For Immediate ReleaseChicago  IL   January 13 ...</td>\n      <td>True</td>\n      <td>2020-01-12</td>\n      <td>Zacks Investment Research</td>\n      <td>https://www.investing.com/analysis/the-zacks-a...</td>\n      <td>200498277</td>\n    </tr>\n    <tr>\n      <th>4</th>\n      <td>221597</td>\n      <td>UBER</td>\n      <td>True</td>\n      <td>The Best Of CES 2020  Revised</td>\n      <td>False</td>\n      <td>opinion</td>\n      <td>With 4 500 companies bringing their innovation...</td>\n      <td>True</td>\n      <td>2020-01-16</td>\n      <td>Zacks Investment Research</td>\n      <td>https://www.investing.com/analysis/the-best-of...</td>\n      <td>200499164</td>\n    </tr>\n    <tr>\n      <th>...</th>\n      <td>...</td>\n      <td>...</td>\n      <td>...</td>\n      <td>...</td>\n      <td>...</td>\n      <td>...</td>\n      <td>...</td>\n      <td>...</td>\n      <td>...</td>\n      <td>...</td>\n      <td>...</td>\n      <td>...</td>\n    </tr>\n    <tr>\n      <th>3436</th>\n      <td>442657</td>\n      <td>AMD</td>\n      <td>True</td>\n      <td>Here s Why Nvidia  NVDA  Stock Is Gaining Today</td>\n      <td>True</td>\n      <td>opinion</td>\n      <td>Shares of Nvidia   NASDAQ NVDA   are up nearly...</td>\n      <td>True</td>\n      <td>2016-09-27</td>\n      <td>Zacks Investment Research</td>\n      <td>https://www.investing.com/analysis/here's-why-...</td>\n      <td>200155860</td>\n    </tr>\n    <tr>\n      <th>3437</th>\n      <td>442682</td>\n      <td>AMD</td>\n      <td>True</td>\n      <td>4 Stocks To Watch Today  ATW  CWEI  MXL  SLCA</td>\n      <td>False</td>\n      <td>opinion</td>\n      <td>It was a pretty good start to the week on Mond...</td>\n      <td>True</td>\n      <td>2016-05-17</td>\n      <td>Harry Boxer</td>\n      <td>https://www.investing.com/analysis/atw,-cwei,-...</td>\n      <td>200130262</td>\n    </tr>\n    <tr>\n      <th>3438</th>\n      <td>442705</td>\n      <td>AMD</td>\n      <td>True</td>\n      <td>Here s What The Buy Side Expects From AMD Thur...</td>\n      <td>False</td>\n      <td>opinion</td>\n      <td>Advanced Micro Devices Inc   NYSE AMD  is set ...</td>\n      <td>True</td>\n      <td>2014-04-17</td>\n      <td>Estimize</td>\n      <td>https://www.investing.com/analysis/here’s-what...</td>\n      <td>209915</td>\n    </tr>\n    <tr>\n      <th>3439</th>\n      <td>442984</td>\n      <td>T</td>\n      <td>True</td>\n      <td>Zacks com Featured Highlights  AT T  Nu Skin E...</td>\n      <td>True</td>\n      <td>opinion</td>\n      <td>For Immediate Release\\n\\nChicago  IL   July 22...</td>\n      <td>True</td>\n      <td>2016-07-21</td>\n      <td>Zacks Investment Research</td>\n      <td>https://www.investing.com/analysis/zacks.com-f...</td>\n      <td>200143537</td>\n    </tr>\n    <tr>\n      <th>3440</th>\n      <td>442987</td>\n      <td>T</td>\n      <td>True</td>\n      <td>5 Dividend Growth Stocks To Sail Through Uncer...</td>\n      <td>False</td>\n      <td>opinion</td>\n      <td>With uncertainty ruling the markets since the ...</td>\n      <td>True</td>\n      <td>2016-07-20</td>\n      <td>Zacks Investment Research</td>\n      <td>https://www.investing.com/analysis/5-dividend-...</td>\n      <td>200143306</td>\n    </tr>\n  </tbody>\n</table>\n<p>3441 rows × 12 columns</p>\n</div>"
     },
     "execution_count": 11,
     "metadata": {},
     "output_type": "execute_result"
    }
   ],
   "source": [
    "df_news = df_news.drop_duplicates(subset='content', keep='first').reset_index(drop=True)\n",
    "df_news"
   ],
   "metadata": {
    "collapsed": false,
    "ExecuteTime": {
     "end_time": "2024-10-31T12:25:11.076755700Z",
     "start_time": "2024-10-31T12:25:10.896243500Z"
    }
   },
   "id": "743d6c3f241d3413"
  },
  {
   "cell_type": "code",
   "execution_count": 12,
   "outputs": [],
   "source": [
    "def preprocess_texts(texts, n=0):\n",
    "    processed_texts = []\n",
    "    for text in texts:\n",
    "        # lowercasing, keep text only, remove accents, tokenization\n",
    "        tokens = [word for word in word_tokenize(re.sub(r'[^a-zA-Z\\s]', '', unidecode(text.lower())))]\n",
    "        # stopword removal\n",
    "        tokens = [token for token in tokens if token not in stopwords.words('english')]\n",
    "        processed_texts.append(tokens)\n",
    "        # remove top-n% and bottom-n% words\n",
    "    if n > 0:\n",
    "        word_freq = Counter([word for sentence in processed_texts for word in sentence])\n",
    "        top_n = set([word for word, _ in word_freq.most_common(int(n/100*len(word_freq)))])\n",
    "        bottom_n = set([word for word, _ in word_freq.most_common()[:-int(n/100*len(word_freq))-1:-1]])\n",
    "        processed_texts = [[word for word in sentence if word not in top_n and word not in bottom_n] for sentence in\n",
    "    processed_texts]\n",
    "        \n",
    "    return processed_texts"
   ],
   "metadata": {
    "collapsed": false,
    "ExecuteTime": {
     "end_time": "2024-10-31T12:25:11.076755700Z",
     "start_time": "2024-10-31T12:25:10.963654600Z"
    }
   },
   "id": "bd2d745102c36b31"
  },
  {
   "cell_type": "code",
   "execution_count": 15,
   "outputs": [
    {
     "data": {
      "text/plain": "[['ecb',\n  'effects',\n  'move',\n  'euro',\n  'huge',\n  'falling',\n  'pips',\n  'huge',\n  'important',\n  'piece',\n  'euro',\n  'broke',\n  'essential',\n  'support',\n  'wrote',\n  'thoughts',\n  'euro',\n  'could',\n  'even',\n  'fall',\n  'parity',\n  'fed',\n  'may',\n  'need',\n  'cut',\n  'rates',\n  'later',\n  'year',\n  'draghi',\n  'dovish',\n  'today',\n  'outlook',\n  'much',\n  'german',\n  'bunds',\n  'fell',\n  'around',\n  'bps',\n  'bps',\n  'year',\n  'fell',\n  'break',\n  'sends',\n  'year',\n  'back',\n  'december',\n  'lows',\n  'time',\n  'investors',\n  'come',\n  'realize',\n  'rates',\n  'remain',\n  'low',\n  'fed',\n  'need',\n  'stay',\n  'hold',\n  'avoid',\n  'dollar',\n  'strengthen',\n  'much',\n  'dollar',\n  'rise',\n  'kill',\n  'whatever',\n  'inflationary',\n  'forces',\n  'hurting',\n  'multinational',\n  'companies',\n  'result',\n  'may',\n  'fed',\n  'needs',\n  'cut',\n  'rates',\n  'late',\n  'keep',\n  'dollar',\n  'line',\n  'versus',\n  'euro',\n  'avoid',\n  'scenario',\n  'good',\n  'stocks',\n  'investors',\n  'move',\n  'risk',\n  'curve',\n  'low',\n  'interest',\n  'rate',\n  'foster',\n  'multiple',\n  'expansion',\n  'stocks',\n  'p',\n  'spy',\n  'nyse',\n  'spy',\n  'stocks',\n  'end',\n  'falling',\n  'p',\n  'dropping',\n  'roughly',\n  'basis',\n  'point',\n  'certainly',\n  'end',\n  'days',\n  'decline',\n  'worth',\n  'noting',\n  'p',\n  'manage',\n  'close',\n  'pretty',\n  'substantial',\n  'level',\n  'support',\n  'around',\n  'remember',\n  'one',\n  'reasons',\n  'hesitation',\n  'couple',\n  'weeks',\n  'backs',\n  'market',\n  'level',\n  'tried',\n  'keep',\n  'back',\n  'everyone',\n  'mind',\n  'gap',\n  'filled',\n  'next',\n  'point',\n  'view',\n  'crucial',\n  'p',\n  'hold',\n  'support',\n  'around',\n  'level',\n  'drop',\n  'support',\n  'zone',\n  'gets',\n  'things',\n  'moving',\n  'downside',\n  'potential',\n  'drop',\n  'russell',\n  'iwm',\n  'russell',\n  'decline',\n  'noticeable',\n  'fall',\n  'level',\n  'support',\n  'noted',\n  'last',\n  'night',\n  'russell',\n  'drop',\n  'much',\n  'concerned',\n  'p',\n  'point',\n  'chart',\n  'suggestions',\n  'index',\n  'could',\n  'drop',\n  'another',\n  'around',\n  'minor',\n  'support',\n  'level',\n  'confidence',\n  'level',\n  'acting',\n  'anything',\n  'substantial',\n  'know',\n  'sound',\n  'like',\n  'much',\n  'consider',\n  'russell',\n  'february',\n  'think',\n  'way',\n  'talking',\n  'nearly',\n  'drop',\n  'peak',\n  'even',\n  'make',\n  'case',\n  'russell',\n  'drop',\n  'back',\n  'around',\n  'full',\n  'february',\n  'highs',\n  'would',\n  'create',\n  'bullish',\n  'pattern',\n  'known',\n  'reverse',\n  'head',\n  'shoulders',\n  'could',\n  'eventually',\n  'lead',\n  'higher',\n  'prices',\n  'road',\n  'outlook',\n  'full',\n  'year',\n  'continues',\n  'suggest',\n  'stock',\n  'continue',\n  'head',\n  'higher',\n  'say',\n  'pullbacks',\n  'along',\n  'way',\n  'nio',\n  'nyse',\n  'nio',\n  'nio',\n  'continues',\n  'deflate',\n  'looks',\n  'like',\n  'may',\n  'possible',\n  'drop',\n  'splunk',\n  'nasdaq',\n  'splk',\n  'splunk',\n  'nearing',\n  'potentially',\n  'big',\n  'breakdown',\n  'fall',\n  'potentially',\n  'facebook',\n  'nasdaq',\n  'fb',\n  'facebook',\n  'lower',\n  'today',\n  'stock',\n  'looking',\n  'filling',\n  'gap',\n  'around',\n  'corner',\n  'netflix',\n  'nasdaq',\n  'nflx',\n  'netflix',\n  'also',\n  'today',\n  'falling',\n  'back',\n  'stock',\n  'looked',\n  'weak',\n  'drop',\n  'seems',\n  'possible',\n  'still',\n  'apple',\n  'nasdaq',\n  'aapl',\n  'apple',\n  'got',\n  'high',\n  'pretty',\n  'close',\n  'cigar',\n  'looking',\n  'stock',\n  'sitting',\n  'uptrend',\n  'break',\n  'uptrend',\n  'pushes',\n  'shares',\n  'back',\n  'jd',\n  'jd',\n  'jd',\n  'still',\n  'looking',\n  'could',\n  'drop',\n  'around',\n  'coming',\n  'days',\n  'nvidia',\n  'corporation',\n  'nasdaq',\n  'nvda',\n  'finally',\n  'nvidia',\n  'fall',\n  'today',\n  'still',\n  'looking',\n  'region',\n  'see',\n  'jobs',\n  'friday',\n  'original',\n  'post'],\n ['stocks',\n  'watch',\n  'march',\n  'trading',\n  'session',\n  'stocks',\n  'stocks',\n  'went',\n  'pretty',\n  'much',\n  'nowhere',\n  'march',\n  'p',\n  'finishing',\n  'day',\n  'bps',\n  'modestly',\n  'surprised',\n  'stocks',\n  'get',\n  'boost',\n  'strong',\n  'services',\n  'pmi',\n  'data',\n  'came',\n  'versus',\n  'estimates',\n  'one',\n  'highest',\n  'reading',\n  'time',\n  'let',\n  'us',\n  'forget',\n  'services',\n  'industry',\n  'us',\n  'far',\n  'outweighs',\n  'manufacturing',\n  'sector',\n  'nice',\n  'obsess',\n  'weak',\n  'manufacturing',\n  'pmi',\n  'sounds',\n  'dire',\n  'creates',\n  'headlines',\n  'doom',\n  'let',\n  'stop',\n  'call',\n  'day',\n  'biotech',\n  'xbi',\n  'biotechi',\n  'stocks',\n  'plunged',\n  'news',\n  'fda',\n  'commish',\n  'dr',\n  'scott',\n  'gottlieb',\n  'resigning',\n  'reason',\n  'decline',\n  'market',\n  'fears',\n  'unknown',\n  'knowing',\n  'next',\n  'commissioner',\n  'unknown',\n  'sell',\n  'first',\n  'ask',\n  'questions',\n  'later',\n  'see',\n  'chart',\n  'day',\n  'going',\n  'rather',\n  'well',\n  'biotech',\n  'news',\n  'netflix',\n  'nflx',\n  'drew',\n  'new',\n  'trend',\n  'line',\n  'netflix',\n  'nasdaq',\n  'nflx',\n  'time',\n  'downtrend',\n  'stock',\n  'rise',\n  'today',\n  'notice',\n  'stock',\n  'stopped',\n  'rising',\n  'right',\n  'resistance',\n  'alphabet',\n  'googl',\n  'alphabet',\n  'nasdaq',\n  'googl',\n  'popped',\n  'briefly',\n  'could',\n  'step',\n  'rise',\n  'roku',\n  'inc',\n  'roku',\n  'roku',\n  'inc',\n  'nasdaq',\n  'roku',\n  'today',\n  'assuming',\n  'news',\n  'use',\n  'alexa',\n  'roku',\n  'together',\n  'download',\n  'skill',\n  'alexa',\n  'ok',\n  'certainly',\n  'worth',\n  'rise',\n  'stock',\n  'iqiyi',\n  'iq',\n  'iqiyi',\n  'inc',\n  'nasdaq',\n  'iq',\n  'went',\n  'today',\n  'seem',\n  'care',\n  'think',\n  'many',\n  'stocks',\n  'someone',\n  'asked',\n  'possible',\n  'iqiyi',\n  'consolidate',\n  'sideways',\n  'back',\n  'trend',\n  'line',\n  'would',\n  'agree',\n  'entirely',\n  'possible',\n  'also',\n  'admit',\n  'point',\n  'move',\n  'lower',\n  'likely',\n  'table',\n  'anymore',\n  'still',\n  'think',\n  'overbought',\n  'based',\n  'rsi',\n  'nivida',\n  'nvda',\n  'beginning',\n  'regret',\n  'changing',\n  'view',\n  'nvidia',\n  'corporation',\n  'nasdaq',\n  'nvda',\n  'weeks',\n  'back',\n  'increasing',\n  'admit',\n  'wrong',\n  'call',\n  'flip',\n  'back',\n  'say',\n  'think',\n  'going',\n  'fall',\n  'makes',\n  'feel',\n  'dumb',\n  'going',\n  'flip',\n  'sorry',\n  'folks',\n  'happen',\n  'often',\n  'nvidia',\n  'look',\n  'right',\n  'drop',\n  'sends',\n  'back',\n  'towards',\n  'see',\n  'one',\n  'falling',\n  'nio',\n  'nio',\n  'rhetorical',\n  'question',\n  'everybody',\n  'screams',\n  'cries',\n  'tesla',\n  'valuation',\n  'yet',\n  'start',\n  'nio',\n  'inc',\n  'nyse',\n  'nio',\n  'praised',\n  'tesla',\n  'nasdaq',\n  'tsla',\n  'killer',\n  'company',\n  'market',\n  'cap',\n  'third',\n  'ford',\n  'fiat',\n  'right',\n  'nio',\n  'billion',\n  'market',\n  'cap',\n  'company',\n  'even',\n  'expensive',\n  'tesla',\n  'see',\n  'much',\n  'controversy',\n  'around',\n  'nio',\n  'valuation',\n  'hardly',\n  'even',\n  'amount',\n  'short',\n  'interest',\n  'stock',\n  'either',\n  'original',\n  'post'],\n ['investing',\n  'com',\n  'rout',\n  'apple',\n  'facebook',\n  'nasdaq',\n  'fb',\n  'monday',\n  'swept',\n  'tech',\n  'prompting',\n  'wave',\n  'selling',\n  'across',\n  'broader',\n  'market',\n  'dow',\n  'jones',\n  'industrial',\n  'average',\n  'fell',\n  'p',\n  'fell',\n  'nasdaq',\n  'composite',\n  'fell',\n  'sentiment',\n  'soured',\n  'faang',\n  'stocks',\n  'investors',\n  'digested',\n  'wall',\n  'street',\n  'journal',\n  'report',\n  'apple',\n  'nasdaq',\n  'aapl',\n  'considering',\n  'cutting',\n  'production',\n  'demand',\n  'newest',\n  'slate',\n  'phones',\n  'strong',\n  'company',\n  'hoped',\n  'shares',\n  'fell',\n  'plunge',\n  'apple',\n  'sent',\n  'shockwaves',\n  'throughout',\n  'shares',\n  'suppliers',\n  'cut',\n  'growth',\n  'outlook',\n  'last',\n  'week',\n  'adding',\n  'pressure',\n  'tech',\n  'facebook',\n  'nasdaq',\n  'fb',\n  'also',\n  'exacerbated',\n  'slide',\n  'broader',\n  'market',\n  'wall',\n  'street',\n  'journal',\n  'reported',\n  'ceo',\n  'mark',\n  'zuckerberg',\n  'may',\n  'driving',\n  'top',\n  'executives',\n  'shares',\n  'fell',\n  'report',\n  'journal',\n  'indicating',\n  'signs',\n  'turmoil',\n  'social',\n  'media',\n  'giant',\n  'comes',\n  'days',\n  'company',\n  'denied',\n  'allegations',\n  'conspired',\n  'cover',\n  'russian',\n  'influence',\n  'propaganda',\n  'platform',\n  'energy',\n  'meanwhile',\n  'also',\n  'played',\n  'role',\n  'selloff',\n  'even',\n  'u',\n  'oil',\n  'prices',\n  'settled',\n  'higher',\n  'potential',\n  'european',\n  'union',\n  'sanctions',\n  'iran',\n  'possible',\n  'opec',\n  'production',\n  'cuts',\n  'sign',\n  'skittish',\n  'sentiment',\n  'stocks',\n  'defensive',\n  'sectors',\n  'market',\n  'like',\n  'estate',\n  'utilities',\n  'closed',\n  'positive',\n  'territory',\n  'day',\n  'investors',\n  'sought',\n  'refuge',\n  'riskier',\n  'sectors',\n  'lingering',\n  'optimism',\n  'u',\n  'china',\n  'trade',\n  'soiled',\n  'meanwhile',\n  'following',\n  'vice',\n  'president',\n  'mike',\n  'pence',\n  'remarks',\n  'sunday',\n  'asserting',\n  'would',\n  'end',\n  'u',\n  'charges',\n  'billion',\n  'worth',\n  'chinese',\n  'goods',\n  'unless',\n  'china',\n  'changed',\n  'practices',\n  'toward',\n  'trade',\n  'pence',\n  'comments',\n  'come',\n  'ahead',\n  'crucial',\n  'meeting',\n  'president',\n  'donald',\n  'trump',\n  'chinese',\n  'president',\n  'xi',\n  'jinping',\n  'g',\n  'summit',\n  'slated',\n  'end',\n  'november',\n  'far',\n  'united',\n  'states',\n  'slapped',\n  'tariffs',\n  'billion',\n  'worth',\n  'chinese',\n  'goods',\n  'half',\n  'value',\n  'u',\n  'imports',\n  'country',\n  'china',\n  'retaliated',\n  'tariffs',\n  'billion',\n  'worth',\n  'american',\n  'exports',\n  'economic',\n  'front',\n  'investors',\n  'contend',\n  'yet',\n  'another',\n  'report',\n  'pointing',\n  'slowdown',\n  'u',\n  'housing',\n  'market',\n  'little',\n  'lift',\n  'sentiment',\n  'equities',\n  'national',\n  'association',\n  'home',\n  'builders',\n  'wells',\n  'fargo',\n  'housing',\n  'market',\n  'index',\n  'fell',\n  'eight',\n  'points',\n  'november',\n  'lowest',\n  'reading',\n  'since',\n  'august',\n  'corporate',\n  'news',\n  'tesla',\n  'rival',\n  'nio',\n  'nyse',\n  'nio',\n  'soared',\n  'citron',\n  'research',\n  'andrew',\n  'left',\n  'delivered',\n  'upbeat',\n  'assessment',\n  'electric',\n  'automaker',\n  'claiming',\n  'car',\n  'company',\n  'lifestyle',\n  'brand',\n  'ready',\n  'disrupt',\n  'top',\n  'p',\n  'gainers',\n  'losers',\n  'today',\n  'helmerich',\n  'payne',\n  'nyse',\n  'hp',\n  'molson',\n  'coors',\n  'nyse',\n  'tap',\n  'amerisourcebergen',\n  'nyse',\n  'abc',\n  'among',\n  'top',\n  'p',\n  'gainers',\n  'session',\n  'nvidia',\n  'nasdaq',\n  'nvda',\n  'align',\n  'technology',\n  'nasdaq',\n  'algn',\n  'salesforce',\n  'com',\n  'nyse',\n  'crm',\n  'among',\n  'worst',\n  'p',\n  'performers',\n  'session'],\n ['immediate',\n  'releasechicago',\n  'il',\n  'january',\n  'zacks',\n  'com',\n  'announces',\n  'list',\n  'stocks',\n  'featured',\n  'analyst',\n  'blog',\n  'every',\n  'day',\n  'zacks',\n  'equity',\n  'research',\n  'analysts',\n  'discuss',\n  'latest',\n  'news',\n  'events',\n  'impacting',\n  'stocks',\n  'financial',\n  'markets',\n  'stocks',\n  'recently',\n  'featured',\n  'blog',\n  'include',\n  'advanced',\n  'micro',\n  'devices',\n  'nasdaq',\n  'amd',\n  'intel',\n  'nasdaq',\n  'intc',\n  'nvidia',\n  'nasdaq',\n  'nvda',\n  'qualcomm',\n  'nasdaq',\n  'qcom',\n  'uber',\n  'nyse',\n  'uber',\n  'highlights',\n  'friday',\n  'analyst',\n  'blog',\n  'best',\n  'ces',\n  'companies',\n  'bringing',\n  'innovations',\n  'ces',\n  'jan',\n  'gets',\n  'really',\n  'difficult',\n  'pick',\n  'favorites',\n  'especially',\n  'practically',\n  'everything',\n  'technology',\n  'seems',\n  'consumer',\n  'item',\n  'days',\n  'gone',\n  'days',\n  'tcl',\n  'g',\n  'smartphone',\n  'promising',\n  'g',\n  'dramatically',\n  'lower',\n  'cost',\n  'samsung',\n  'ks',\n  'galaxy',\n  'note',\n  'lite',\n  'big',\n  'screen',\n  'pen',\n  'cameras',\n  'features',\n  'lower',\n  'price',\n  'point',\n  'would',\n  'particularly',\n  'exciting',\n  'today',\n  'announcements',\n  'viewed',\n  'part',\n  'typical',\n  'mark',\n  'prices',\n  'things',\n  'tech',\n  'accompanied',\n  'kind',\n  'phone',\n  'service',\n  'offering',\n  'called',\n  'teracube',\n  'manufacturer',\n  'replace',\n  'broken',\n  'phones',\n  'near',\n  'new',\n  'refurbished',\n  'versions',\n  'year',\n  'warranty',\n  'period',\n  'mobile',\n  'computing',\n  'also',\n  'advancing',\n  'first',\n  'folding',\n  'tablet',\n  'lenovo',\n  'thinkpad',\n  'x',\n  'fold',\n  'first',\n  'e',\n  'ink',\n  'touchscreen',\n  'lenovo',\n  'thinkbook',\n  'plus',\n  'chromeboooks',\n  'like',\n  'samsung',\n  'galaxy',\n  'lenovo',\n  'ideapad',\n  'duet',\n  'also',\n  'intel',\n  'inch',\n  'foldable',\n  'concept',\n  'device',\n  'called',\n  'horseshoe',\n  'bend',\n  'really',\n  'knows',\n  'bend',\n  'backward',\n  'running',\n  'announced',\n  'tiger',\n  'lake',\n  'mobile',\n  'processors',\n  'iot',\n  'group',\n  'large',\n  'impressive',\n  'interesting',\n  'announcements',\n  'juno',\n  'chiller',\n  'chill',\n  'drink',\n  'matter',\n  'minutes',\n  'case',\n  'refrigerated',\n  'also',\n  'ice',\n  'cubes',\n  'inch',\n  'lenovo',\n  'smart',\n  'frame',\n  'designed',\n  'hanging',\n  'wall',\n  'home',\n  'water',\n  'treatment',\n  'plant',\n  'recycle',\n  'household',\n  'water',\n  'called',\n  'hydraloop',\n  'garbage',\n  'disposal',\n  'option',\n  'separate',\n  'compostable',\n  'material',\n  'called',\n  'sepura',\n  'manufactured',\n  'anvy',\n  'technologies',\n  'device',\n  'called',\n  'genny',\n  'watergen',\n  'converts',\n  'moisture',\n  'air',\n  'drinking',\n  'water',\n  'iot',\n  'announcements',\n  'personal',\n  'kind',\n  'include',\n  'new',\n  'versions',\n  'smartwatches',\n  'like',\n  'withings',\n  'scanwatch',\n  'suunto',\n  'wear',\n  'os',\n  'based',\n  'smartwatch',\n  'also',\n  'new',\n  'head',\n  'band',\n  'called',\n  'urgonight',\n  'designed',\n  'help',\n  'sleep',\n  'better',\n  'smart',\n  'toothbrushes',\n  'brush',\n  'colgate',\n  'plaqless',\n  'pro',\n  'smart',\n  'bath',\n  'mat',\n  'measures',\n  'weight',\n  'checks',\n  'way',\n  'feet',\n  'stand',\n  'suggests',\n  'better',\n  'postures',\n  'exercises',\n  'led',\n  'desk',\n  'lamp',\n  'called',\n  'lexilight',\n  'facilitate',\n  'reading',\n  'dyslexia',\n  'patients',\n  'condition',\n  'two',\n  'dominant',\n  'eyes',\n  'several',\n  'smart',\n  'hearing',\n  'aids',\n  'also',\n  'offer',\n  'noise',\n  'cancellation',\n  'enable',\n  'music',\n  'streaming',\n  'hands',\n  'free',\n  'calling',\n  'determining',\n  'sounds',\n  'want',\n  'hear',\n  'times',\n  'want',\n  'hear',\n  'etc',\n  'exobeam',\n  'walking',\n  'aid',\n  'parkinsons',\n  'patients',\n  'fitness',\n  'products',\n  'like',\n  'amazfit',\n  'homestudio',\n  'smart',\n  'treadmill',\n  'echelon',\n  'row',\n  'interesting',\n  'products',\n  'group',\n  'robotics',\n  'also',\n  'made',\n  'headway',\n  'reachy',\n  'pollen',\n  'robotics',\n  'samsung',\n  'pibo',\n  'samsung',\n  'also',\n  'showcased',\n  'cute',\n  'ballie',\n  'yellow',\n  'ball',\n  'moves',\n  'around',\n  'house',\n  'managing',\n  'smart',\n  'home',\n  'gadgets',\n  'strictly',\n  'part',\n  'group',\n  'samsung',\n  'also',\n  'showed',\n  'version',\n  'neon',\n  'artificial',\n  'human',\n  'still',\n  'working',\n  'photo',\n  'realistic',\n  'digital',\n  'avatars',\n  'displaying',\n  'human',\n  'like',\n  'appearance',\n  'intelligence',\n  'emotions',\n  'super',\n  'useful',\n  'downright',\n  'creepy',\n  'market',\n  'ready',\n  'drones',\n  'become',\n  'less',\n  'common',\n  'category',\n  'ces',\n  'year',\n  'see',\n  'shipment',\n  'powervision',\n  'poweregg',\n  'x',\n  'camera',\n  'drone',\n  'shooting',\n  'aerial',\n  'images',\n  'quadcopter',\n  'design',\n  'waterproof',\n  'option',\n  'ability',\n  'transform',\n  'handheld',\n  'k',\n  'imaging',\n  'facial',\n  'recognition',\n  'capability',\n  'makes',\n  'perfect',\n  'choice',\n  'outdoor',\n  'trips',\n  'powervision',\n  'v',\n  'coptr',\n  'falcon',\n  'bi',\n  'copter',\n  'may',\n  'make',\n  'market',\n  'year',\n  'manage',\n  'flight',\n  'time',\n  'minutes',\n  'km',\n  'transmission',\n  'range',\n  'stable',\n  'k',\n  'video',\n  'footage',\n  'extra',\n  'eyes',\n  'obstacle',\n  'avoidance',\n  'auto',\n  'follow',\n  'features',\n  'easy',\n  'cinematic',\n  'shots',\n  'subject',\n  'cameras',\n  'degree',\n  'version',\n  'caters',\n  'ar',\n  'vr',\n  'world',\n  'saw',\n  'impressive',\n  'entry',\n  'veteran',\n  'insta',\n  'company',\n  'one',\n  'r',\n  'degree',\n  'truly',\n  'modular',\n  'design',\n  'extra',\n  'battery',\n  'dual',\n  'lens',\n  'lens',\n  'k',\n  'wide',\n  'angle',\n  'lens',\n  'coming',\n  'modules',\n  'samsung',\n  'front',\n  'runner',\n  'tvs',\n  'inch',\n  'k',\n  'qled',\n  'sero',\n  'tv',\n  'qts',\n  'k',\n  'bezel',\n  'less',\n  'design',\n  'outdoes',\n  'k',\n  'offerings',\n  'sony',\n  'lg',\n  'tv',\n  'going',\n  'digital',\n  'big',\n  'way',\n  'lots',\n  'people',\n  'catching',\n  'video',\n  'streaming',\n  'devices',\n  'crowded',\n  'market',\n  'tivo',\n  'stream',\n  'k',\n  'debuting',\n  'gaming',\n  'attempt',\n  'improving',\n  'accessibility',\n  'immersion',\n  'razer',\n  'kishi',\n  'controller',\n  'designed',\n  'slip',\n  'iphone',\n  'select',\n  'android',\n  'smartphone',\n  'usb',\n  'c',\n  'lightning',\n  'port',\n  'thus',\n  'attaching',\n  'two',\n  'thumbsticks',\n  'directional',\n  'pad',\n  'abxy',\n  'buttons',\n  'four',\n  'shoulder',\n  'buttons',\n  'phone',\n  'turning',\n  'switch',\n  'style',\n  'handheld',\n  'arcadeo',\n  'gaming',\n  'chair',\n  'vibrates',\n  'sound',\n  'game',\n  'playing',\n  'different',\n  'kinds',\n  'reactions',\n  'promising',\n  'immersive',\n  'experience',\n  'staying',\n  'topic',\n  'gaming',\n  'advanced',\n  'micro',\n  'devices',\n  'radeon',\n  'rx',\n  'xt',\n  'gpu',\n  'chips',\n  'p',\n  'gamers',\n  'play',\n  'latest',\n  'games',\n  'full',\n  'hd',\n  'resolution',\n  'high',\n  'frame',\n  'rates',\n  'lower',\n  'cost',\n  'power',\n  'consumption',\n  'last',\n  'year',\n  'launch',\n  'jan',\n  'intel',\n  'working',\n  'graphics',\n  'front',\n  'claiming',\n  'new',\n  'xe',\n  'graphics',\n  'architecture',\n  'offers',\n  'discrete',\n  'level',\n  'integrated',\n  'graphics',\n  'first',\n  'xe',\n  'based',\n  'discrete',\n  'gpu',\n  'code',\n  'named',\n  'dgwas',\n  'previewed',\n  'ces',\n  'itsnm',\n  'core',\n  'mobile',\n  'processors',\n  'code',\n  'named',\n  'tiger',\n  'lake',\n  'deliver',\n  'double',\n  'digit',\n  'performance',\n  'gains',\n  'massive',\n  'artificial',\n  'intelligence',\n  'performance',\n  'improvements',\n  'better',\n  'graphics',\n  'performance',\n  'x',\n  'throughput',\n  'usb',\n  'intel',\n  'also',\n  'showed',\n  'rd',\n  'generation',\n  'xeon',\n  'scalable',\n  'processor',\n  'promises',\n  'significant',\n  'ai',\n  'training',\n  'acceleration',\n  'overall',\n  'performance',\n  'improvement',\n  'nvidia',\n  'exciting',\n  'gaming',\n  'announcements',\n  'like',\n  'ray',\n  'tracing',\n  'technology',\n  'new',\n  'hz',\n  'esports',\n  'displays',\n  'etc',\n  'important',\n  'contributions',\n  'autonomous',\n  'vehicle',\n  'driving',\n  'av',\n  'huge',\n  'category',\n  'within',\n  'ces',\n  'market',\n  'gears',\n  'take',\n  'challenge',\n  'displays',\n  'futuristic',\n  'others',\n  'look',\n  'achievable',\n  'nvidia',\n  'offering',\n  'technology',\n  'behind',\n  'phenomenon',\n  'drive',\n  'agx',\n  'orin',\n  'platform',\n  'based',\n  'around',\n  'orin',\n  'system',\n  'chip',\n  'soc',\n  'x',\n  'faster',\n  'previous',\n  'generation',\n  'xavier',\n  'first',\n  'scalable',\n  'platform',\n  'avs',\n  'formally',\n  'launch',\n  'drive',\n  'facilitates',\n  'data',\n  'collection',\n  'model',\n  'training',\n  'simulations',\n  'learning',\n  'real',\n  'world',\n  'company',\n  'opening',\n  'platform',\n  'av',\n  'players',\n  'learnings',\n  'experiences',\n  'shared',\n  'pooled',\n  'information',\n  'make',\n  'system',\n  'highly',\n  'robust',\n  'get',\n  'avs',\n  'market',\n  'sooner',\n  'qualcomm',\n  'announced',\n  'new',\n  'av',\n  'platform',\n  'called',\n  'snapdragon',\n  'ride',\n  'including',\n  'socs',\n  'accelerators',\n  'software',\n  'including',\n  'open',\n  'stacks',\n  'sdks',\n  'tools',\n  'also',\n  'scaled',\n  'l',\n  'l',\n  'levels',\n  'thermally',\n  'efficient',\n  'software',\n  'focused',\n  'platform',\n  'centralized',\n  'architecture',\n  'designed',\n  'help',\n  'av',\n  'partners',\n  'bring',\n  'cars',\n  'market',\n  'sooner',\n  'matter',\n  'development',\n  'cycle',\n  'software',\n  'stack',\n  'offers',\n  'modules',\n  'like',\n  'perception',\n  'localization',\n  'sensor',\n  'fusion',\n  'behavior',\n  'planning',\n  'new',\n  'car',\n  'cloud',\n  'service',\n  'push',\n  'air',\n  'updates',\n  'collect',\n  'data',\n  'spur',\n  'av',\n  'builds',\n  'futuristic',\n  'vehicles',\n  'include',\n  'honda',\n  'unnamed',\n  'concept',\n  'car',\n  'centoventi',\n  'concept',\n  'car',\n  'seems',\n  'sort',\n  'modular',\n  'sony',\n  'vision',\n  'focused',\n  'large',\n  'screens',\n  'entertainment',\n  'toyota',\n  'lq',\n  'level',\n  'concept',\n  'car',\n  'audi',\n  'unnamed',\n  'av',\n  'concept',\n  'actual',\n  'desk',\n  'option',\n  'steering',\n  'wheel',\n  'uber',\n  'hyundai',\n  'flying',\n  'taxi',\n  'concept',\n  'novel',\n  'probably',\n  'impractical',\n  'see',\n  'goes',\n  'smart',\n  'scooters',\n  'also',\n  'attraction',\n  'stocks',\n  'set',\n  'doubleeach',\n  'hand',\n  'picked',\n  'zacks',\n  'expert',\n  'favorite',\n  'stock',\n  'gain',\n  'comes',\n  'different',\n  'sector',\n  'unique',\n  'qualities',\n  'catalysts',\n  'could',\n  'fuel',\n  'exceptional',\n  'growth',\n  'stocks',\n  'report',\n  'flying',\n  'wall',\n  'street',\n  'radar',\n  'provides',\n  'great',\n  'opportunity',\n  'get',\n  'ground',\n  'floor',\n  'media',\n  'contactzacks',\n  'investment',\n  'research',\n  'ext',\n  'past',\n  'performance',\n  'guarantee',\n  'future',\n  'results',\n  'inherent',\n  'investment',\n  'potential',\n  'loss',\n  'material',\n  'provided',\n  'informational',\n  'purposes',\n  'nothing',\n  'herein',\n  'constitutes',\n  'investment',\n  'legal',\n  'accounting',\n  'tax',\n  'advice',\n  'recommendation',\n  'buy',\n  'sell',\n  'hold',\n  'security',\n  'recommendation',\n  'advice',\n  'given',\n  'whether',\n  'investment',\n  'suitable',\n  'particular',\n  'investor',\n  'assumed',\n  'investments',\n  'securities',\n  'companies',\n  'sectors',\n  'markets',\n  'identified',\n  'described',\n  'profitable',\n  'information',\n  'current',\n  'date',\n  'herein',\n  'subject',\n  'change',\n  'without',\n  'notice',\n  'views',\n  'opinions',\n  'expressed',\n  'may',\n  'reflect',\n  'firm',\n  'whole',\n  'zacks',\n  'investment',\n  'research',\n  'engage',\n  'investment',\n  'banking',\n  'market',\n  'making',\n  'asset',\n  'management',\n  'activities',\n  'securities',\n  'returns',\n  'hypothetical',\n  'portfolios',\n  'consisting',\n  'stocks',\n  'zacks',\n  'rank',\n  'rebalanced',\n  'monthly',\n  'zero',\n  'transaction',\n  'costs',\n  'returns',\n  'actual',\n  'portfolios',\n  'stocks',\n  'p',\n  'unmanaged',\n  'index',\n  'visit',\n  'information',\n  'performance',\n  'numbers',\n  'displayed',\n  'press',\n  'release'],\n ['companies',\n  'bringing',\n  'innovations',\n  'ces',\n  'jan',\n  'gets',\n  'really',\n  'difficult',\n  'pick',\n  'favorites',\n  'especially',\n  'practically',\n  'everything',\n  'technology',\n  'seems',\n  'consumer',\n  'item',\n  'days',\n  'gone',\n  'days',\n  'tcl',\n  'g',\n  'smartphone',\n  'promising',\n  'g',\n  'dramatically',\n  'lower',\n  'cost',\n  'samsung',\n  'ks',\n  'galaxy',\n  'note',\n  'lite',\n  'big',\n  'screen',\n  'pen',\n  'cameras',\n  'features',\n  'lower',\n  'price',\n  'point',\n  'would',\n  'particularly',\n  'exciting',\n  'today',\n  'announcements',\n  'viewed',\n  'part',\n  'typical',\n  'mark',\n  'prices',\n  'things',\n  'tech',\n  'accompanied',\n  'kind',\n  'phone',\n  'service',\n  'offering',\n  'called',\n  'teracube',\n  'manufacturer',\n  'replace',\n  'broken',\n  'phones',\n  'near',\n  'new',\n  'refurbished',\n  'versions',\n  'year',\n  'warranty',\n  'period',\n  'mobile',\n  'computing',\n  'also',\n  'advancing',\n  'first',\n  'folding',\n  'tablet',\n  'lenovo',\n  'thinkpad',\n  'x',\n  'fold',\n  'first',\n  'e',\n  'ink',\n  'touchscreen',\n  'lenovo',\n  'thinkbook',\n  'plus',\n  'chromeboooks',\n  'like',\n  'samsung',\n  'galaxy',\n  'lenovo',\n  'ideapad',\n  'duet',\n  'also',\n  'intel',\n  'inch',\n  'foldable',\n  'concept',\n  'device',\n  'called',\n  'horseshoe',\n  'bend',\n  'really',\n  'knows',\n  'bend',\n  'backward',\n  'running',\n  'announced',\n  'tiger',\n  'lake',\n  'mobile',\n  'processors',\n  'iot',\n  'group',\n  'large',\n  'impressive',\n  'interesting',\n  'announcements',\n  'juno',\n  'chiller',\n  'chill',\n  'drink',\n  'matter',\n  'minutes',\n  'case',\n  'refrigerated',\n  'also',\n  'ice',\n  'cubes',\n  'inch',\n  'lenovo',\n  'smart',\n  'frame',\n  'designed',\n  'hanging',\n  'wall',\n  'home',\n  'water',\n  'treatment',\n  'plant',\n  'recycle',\n  'household',\n  'water',\n  'called',\n  'hydraloop',\n  'garbage',\n  'disposal',\n  'option',\n  'separate',\n  'compostable',\n  'material',\n  'called',\n  'sepura',\n  'manufactured',\n  'anvy',\n  'technologies',\n  'device',\n  'called',\n  'genny',\n  'watergen',\n  'converts',\n  'moisture',\n  'air',\n  'drinking',\n  'water',\n  'iot',\n  'announcements',\n  'personal',\n  'kind',\n  'include',\n  'new',\n  'versions',\n  'smartwatches',\n  'like',\n  'withings',\n  'scanwatch',\n  'suunto',\n  'wear',\n  'os',\n  'based',\n  'smartwatch',\n  'also',\n  'new',\n  'head',\n  'band',\n  'called',\n  'urgonight',\n  'designed',\n  'help',\n  'sleep',\n  'better',\n  'smart',\n  'toothbrushes',\n  'brush',\n  'colgate',\n  'plaqless',\n  'pro',\n  'smart',\n  'bath',\n  'mat',\n  'measures',\n  'weight',\n  'checks',\n  'way',\n  'feet',\n  'stand',\n  'suggests',\n  'better',\n  'postures',\n  'exercises',\n  'led',\n  'desk',\n  'lamp',\n  'called',\n  'lexilight',\n  'facilitate',\n  'reading',\n  'dyslexia',\n  'patients',\n  'condition',\n  'two',\n  'dominant',\n  'eyes',\n  'several',\n  'smart',\n  'hearing',\n  'aids',\n  'also',\n  'offer',\n  'noise',\n  'cancellation',\n  'enable',\n  'music',\n  'streaming',\n  'hands',\n  'free',\n  'calling',\n  'determining',\n  'sounds',\n  'want',\n  'hear',\n  'times',\n  'want',\n  'hear',\n  'etc',\n  'exobeam',\n  'walking',\n  'aid',\n  'parkinsons',\n  'patients',\n  'fitness',\n  'products',\n  'like',\n  'amazfit',\n  'homestudio',\n  'smart',\n  'treadmill',\n  'echelon',\n  'row',\n  'interesting',\n  'products',\n  'group',\n  'robotics',\n  'also',\n  'made',\n  'headway',\n  'reachy',\n  'pollen',\n  'robotics',\n  'samsung',\n  'pibo',\n  'samsung',\n  'also',\n  'showcased',\n  'cute',\n  'ballie',\n  'yellow',\n  'ball',\n  'moves',\n  'around',\n  'house',\n  'managing',\n  'smart',\n  'home',\n  'gadgets',\n  'strictly',\n  'part',\n  'group',\n  'samsung',\n  'also',\n  'showed',\n  'version',\n  'neon',\n  'artificial',\n  'human',\n  'still',\n  'working',\n  'photo',\n  'realistic',\n  'digital',\n  'avatars',\n  'displaying',\n  'human',\n  'like',\n  'appearance',\n  'intelligence',\n  'emotions',\n  'super',\n  'useful',\n  'downright',\n  'creepy',\n  'market',\n  'ready',\n  'drones',\n  'become',\n  'less',\n  'common',\n  'category',\n  'ces',\n  'year',\n  'see',\n  'shipment',\n  'powervision',\n  'poweregg',\n  'x',\n  'camera',\n  'drone',\n  'shooting',\n  'aerial',\n  'images',\n  'quadcopter',\n  'design',\n  'waterproof',\n  'option',\n  'ability',\n  'transform',\n  'handheld',\n  'k',\n  'imaging',\n  'facial',\n  'recognition',\n  'capability',\n  'makes',\n  'perfect',\n  'choice',\n  'outdoor',\n  'trips',\n  'zero',\n  'zero',\n  'robotics',\n  'v',\n  'coptr',\n  'falcon',\n  'bi',\n  'copter',\n  'may',\n  'make',\n  'market',\n  'year',\n  'manage',\n  'flight',\n  'time',\n  'minutes',\n  'km',\n  'transmission',\n  'range',\n  'stable',\n  'k',\n  'video',\n  'footage',\n  'extra',\n  'eyes',\n  'obstacle',\n  'avoidance',\n  'auto',\n  'follow',\n  'features',\n  'easy',\n  'cinematic',\n  'shots',\n  'subject',\n  'cameras',\n  'degree',\n  'version',\n  'caters',\n  'ar',\n  'vr',\n  'world',\n  'saw',\n  'impressive',\n  'entry',\n  'veteran',\n  'insta',\n  'company',\n  'one',\n  'r',\n  'degree',\n  'truly',\n  'modular',\n  'design',\n  'extra',\n  'battery',\n  'dual',\n  'lens',\n  'lens',\n  'k',\n  'wide',\n  'angle',\n  'lens',\n  'coming',\n  'modules',\n  'samsung',\n  'front',\n  'runner',\n  'tvs',\n  'inch',\n  'k',\n  'qled',\n  'sero',\n  'tv',\n  'qts',\n  'k',\n  'bezel',\n  'less',\n  'design',\n  'outdoes',\n  'k',\n  'offerings',\n  'sony',\n  'lg',\n  'tv',\n  'going',\n  'digital',\n  'big',\n  'way',\n  'lots',\n  'people',\n  'catching',\n  'video',\n  'streaming',\n  'devices',\n  'crowded',\n  'market',\n  'tivo',\n  'stream',\n  'k',\n  'debuting',\n  'gaming',\n  'attempt',\n  'improving',\n  'accessibility',\n  'immersion',\n  'razer',\n  'kishi',\n  'controller',\n  'designed',\n  'slip',\n  'iphone',\n  'select',\n  'android',\n  'smartphone',\n  'usb',\n  'c',\n  'lightning',\n  'port',\n  'thus',\n  'attaching',\n  'two',\n  'thumbsticks',\n  'directional',\n  'pad',\n  'abxy',\n  'buttons',\n  'four',\n  'shoulder',\n  'buttons',\n  'phone',\n  'turning',\n  'switch',\n  'style',\n  'handheld',\n  'arcadeo',\n  'gaming',\n  'chair',\n  'vibrates',\n  'sound',\n  'game',\n  'playing',\n  'different',\n  'kinds',\n  'reactions',\n  'promising',\n  'immersive',\n  'experience',\n  'staying',\n  'topic',\n  'gaming',\n  'advanced',\n  'micro',\n  'devices',\n  'nasdaq',\n  'amd',\n  'radeon',\n  'rx',\n  'xt',\n  'gpu',\n  'chips',\n  'p',\n  'gamers',\n  'play',\n  'latest',\n  'games',\n  'full',\n  'hd',\n  'resolution',\n  'high',\n  'frame',\n  'rates',\n  'lower',\n  'cost',\n  'power',\n  'consumption',\n  'last',\n  'year',\n  'launch',\n  'jan',\n  'intel',\n  'nasdaq',\n  'intc',\n  'working',\n  'graphics',\n  'front',\n  'claiming',\n  'new',\n  'xe',\n  'graphics',\n  'architecture',\n  'offers',\n  'discrete',\n  'level',\n  'integrated',\n  'graphics',\n  'first',\n  'xe',\n  'based',\n  'discrete',\n  'gpu',\n  'code',\n  'named',\n  'dgwas',\n  'previewed',\n  'ces',\n  'itsnm',\n  'core',\n  'mobile',\n  'processors',\n  'code',\n  'named',\n  'tiger',\n  'lake',\n  'deliver',\n  'double',\n  'digit',\n  'performance',\n  'gains',\n  'massive',\n  'artificial',\n  'intelligence',\n  'performance',\n  'improvements',\n  'better',\n  'graphics',\n  'performance',\n  'x',\n  'throughput',\n  'usb',\n  'intel',\n  'also',\n  'showed',\n  'rd',\n  'generation',\n  'xeon',\n  'scalable',\n  'processor',\n  'promises',\n  'significant',\n  'ai',\n  'training',\n  'acceleration',\n  'overall',\n  'performance',\n  'improvement',\n  'nvidia',\n  'nasdaq',\n  'nvda',\n  'exciting',\n  'gaming',\n  'announcements',\n  'like',\n  'ray',\n  'tracing',\n  'technology',\n  'new',\n  'hz',\n  'esports',\n  'displays',\n  'etc',\n  'important',\n  'contributions',\n  'autonomous',\n  'vehicle',\n  'driving',\n  'av',\n  'huge',\n  'category',\n  'within',\n  'ces',\n  'market',\n  'gears',\n  'take',\n  'challenge',\n  'displays',\n  'futuristic',\n  'others',\n  'look',\n  'achievable',\n  'nvidia',\n  'offering',\n  'technology',\n  'behind',\n  'phenomenon',\n  'drive',\n  'agx',\n  'orin',\n  'platform',\n  'based',\n  'around',\n  'orin',\n  'system',\n  'chip',\n  'soc',\n  'x',\n  'faster',\n  'previous',\n  'generation',\n  'xavier',\n  'first',\n  'scalable',\n  'platform',\n  'avs',\n  'formally',\n  'launch',\n  'drive',\n  'facilitates',\n  'data',\n  'collection',\n  'model',\n  'training',\n  'simulations',\n  'learning',\n  'real',\n  'world',\n  'company',\n  'opening',\n  'platform',\n  'av',\n  'players',\n  'learnings',\n  'experiences',\n  'shared',\n  'pooled',\n  'information',\n  'make',\n  'system',\n  'highly',\n  'robust',\n  'get',\n  'avs',\n  'market',\n  'sooner',\n  'qualcomm',\n  'nasdaq',\n  'qcom',\n  'announced',\n  'new',\n  'av',\n  'platform',\n  'called',\n  'snapdragon',\n  'ride',\n  'including',\n  'socs',\n  'accelerators',\n  'software',\n  'including',\n  'open',\n  'stacks',\n  'sdks',\n  'tools',\n  'also',\n  'scaled',\n  'l',\n  'l',\n  'levels',\n  'thermally',\n  'efficient',\n  'software',\n  'focused',\n  'platform',\n  'centralized',\n  'architecture',\n  'designed',\n  'help',\n  'av',\n  'partners',\n  'bring',\n  'cars',\n  'market',\n  'sooner',\n  'matter',\n  'development',\n  'cycle',\n  'software',\n  'stack',\n  'offers',\n  'modules',\n  'like',\n  'perception',\n  'localization',\n  'sensor',\n  'fusion',\n  'behavior',\n  'planning',\n  'new',\n  'car',\n  'cloud',\n  'service',\n  'push',\n  'air',\n  'updates',\n  'collect',\n  'data',\n  'spur',\n  'av',\n  'builds',\n  'futuristic',\n  'vehicles',\n  'include',\n  'honda',\n  'unnamed',\n  'concept',\n  'car',\n  'centoventi',\n  'concept',\n  'car',\n  'seems',\n  'sort',\n  'modular',\n  'sony',\n  'vision',\n  'focused',\n  'large',\n  'screens',\n  'entertainment',\n  'toyota',\n  'lq',\n  'level',\n  'concept',\n  'car',\n  'audi',\n  'unnamed',\n  'av',\n  'concept',\n  'actual',\n  'desk',\n  'option',\n  'steering',\n  'wheel',\n  'uber',\n  'nyse',\n  'uber',\n  'hyundai',\n  'flying',\n  'taxi',\n  'concept',\n  'novel',\n  'probably',\n  'impractical',\n  'see',\n  'goes',\n  'smart',\n  'scooters',\n  'also',\n  'attraction',\n  'reissuing',\n  'article',\n  'correct',\n  'mistake',\n  'original',\n  'article',\n  'issued',\n  'january',\n  'longer',\n  'relied',\n  'upon']]"
     },
     "execution_count": 15,
     "metadata": {},
     "output_type": "execute_result"
    }
   ],
   "source": [
    "# Preprocess the filtered news content\n",
    "processed_content = preprocess_texts(df_news['content'].tolist())\n",
    "\n",
    "# Show the first few processed texts\n",
    "processed_content[1:5]"
   ],
   "metadata": {
    "collapsed": false,
    "ExecuteTime": {
     "end_time": "2024-10-31T12:36:28.311095500Z",
     "start_time": "2024-10-31T12:28:38.125310400Z"
    }
   },
   "id": "dad37ff885825801"
  },
  {
   "cell_type": "code",
   "execution_count": 13,
   "outputs": [],
   "source": [
    "def filter_word_from_corpus(data, words):\n",
    "    # Ensure words is a list, even if a single string is passed\n",
    "    if isinstance(words, str):\n",
    "        words = [words]\n",
    "    # Filter words from data\n",
    "        filtered_data = [[token for token in row if token not in words] for row in data]\n",
    "        \n",
    "    return filtered_data"
   ],
   "metadata": {
    "collapsed": false,
    "ExecuteTime": {
     "end_time": "2024-10-31T12:25:11.076755700Z",
     "start_time": "2024-10-31T12:25:10.986629300Z"
    }
   },
   "id": "6bd5f05ea2323391"
  },
  {
   "cell_type": "code",
   "execution_count": 17,
   "outputs": [
    {
     "name": "stdout",
     "output_type": "stream",
     "text": [
      "(0, '0.014*\"nasdaq\" + 0.009*\"u\" + 0.008*\"nyse\" + 0.007*\"trade\" + 0.006*\"nvidia\" + 0.006*\"said\" + 0.006*\"china\" + 0.005*\"shares\" + 0.005*\"year\" + 0.005*\"index\"')\n",
      "(1, '0.016*\"zacks\" + 0.016*\"year\" + 0.014*\"company\" + 0.011*\"quarter\" + 0.010*\"earnings\" + 0.009*\"growth\" + 0.009*\"nvidia\" + 0.008*\"nasdaq\" + 0.007*\"rank\" + 0.007*\"billion\"')\n",
      "(2, '0.009*\"nasdaq\" + 0.009*\"stock\" + 0.009*\"market\" + 0.007*\"stocks\" + 0.007*\"earnings\" + 0.007*\"week\" + 0.005*\"p\" + 0.005*\"investors\" + 0.005*\"last\" + 0.004*\"nyse\"')\n",
      "Coherence Score: 0.4414\n"
     ]
    }
   ],
   "source": [
    "# Create a dictionary from the processed content\n",
    "dictionary = corpora.Dictionary(processed_content)\n",
    "\n",
    "# Convert the list of documents (corpus) into Document Term Matrix using the dictionary prepared above\n",
    "doc_term_matrix = [dictionary.doc2bow(doc) for doc in processed_content]\n",
    "\n",
    "# Train the LDA model\n",
    "num_topics = 3\n",
    "lda_model = LdaModel(\n",
    "    doc_term_matrix,\n",
    "    num_topics=num_topics,\n",
    "    id2word=dictionary,\n",
    "    passes=10,  # More passes can improve the model\n",
    "    random_state=17\n",
    ")\n",
    "\n",
    "# Print the topics\n",
    "for topic in lda_model.print_topics():\n",
    "    print(topic)\n",
    "\n",
    "# Get coherence score\n",
    "coherence_model = CoherenceModel(model=lda_model, texts=processed_content, dictionary=dictionary, coherence='c_v')\n",
    "coherence_score = coherence_model.get_coherence()\n",
    "print(f'Coherence Score: {coherence_score:.4f}')"
   ],
   "metadata": {
    "collapsed": false,
    "ExecuteTime": {
     "end_time": "2024-10-31T12:37:26.486265400Z",
     "start_time": "2024-10-31T12:36:28.321707700Z"
    }
   },
   "id": "3d1424360437398"
  },
  {
   "cell_type": "code",
   "execution_count": null,
   "outputs": [],
   "source": [],
   "metadata": {
    "collapsed": false
   },
   "id": "130ec4ae6f581eb3"
  }
 ],
 "metadata": {
  "kernelspec": {
   "display_name": "Python 3",
   "language": "python",
   "name": "python3"
  },
  "language_info": {
   "codemirror_mode": {
    "name": "ipython",
    "version": 2
   },
   "file_extension": ".py",
   "mimetype": "text/x-python",
   "name": "python",
   "nbconvert_exporter": "python",
   "pygments_lexer": "ipython2",
   "version": "2.7.6"
  }
 },
 "nbformat": 4,
 "nbformat_minor": 5
}
