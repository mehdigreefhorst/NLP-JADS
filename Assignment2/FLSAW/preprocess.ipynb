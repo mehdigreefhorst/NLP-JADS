{
 "cells": [
  {
   "cell_type": "code",
   "execution_count": 1,
   "id": "initial_id",
   "metadata": {
    "collapsed": true,
    "ExecuteTime": {
     "end_time": "2024-11-01T14:55:32.513408800Z",
     "start_time": "2024-11-01T14:55:31.106732300Z"
    }
   },
   "outputs": [],
   "source": [
    "import Assignment2.df_filter_nvida\n",
    "import numpy as np\n",
    "import matplotlib.pyplot as plt\n",
    "import seaborn as sns\n",
    "import pyLDAvis\n",
    "import pyLDAvis.gensim_models\n",
    "from nltk.tokenize import word_tokenize\n",
    "import re\n",
    "from unidecode import unidecode\n",
    "import pandas as pd\n",
    "from nltk.corpus import stopwords\n",
    "from collections import Counter\n",
    "\n",
    "from gensim import corpora\n",
    "from gensim.models.ldamodel import LdaModel\n",
    "from gensim.models import CoherenceModel"
   ]
  },
  {
   "cell_type": "code",
   "execution_count": 2,
   "outputs": [],
   "source": [
    "stop_words = set(stopwords.words('english'))\n"
   ],
   "metadata": {
    "collapsed": false,
    "ExecuteTime": {
     "end_time": "2024-11-01T14:55:32.520421400Z",
     "start_time": "2024-11-01T14:55:32.513408800Z"
    }
   },
   "id": "262abf150e19239e"
  },
  {
   "cell_type": "code",
   "execution_count": 3,
   "outputs": [],
   "source": [
    "news_articles_data = pd.read_csv(\"../data/us_equities_news_dataset.csv\")\n"
   ],
   "metadata": {
    "collapsed": false,
    "ExecuteTime": {
     "end_time": "2024-11-01T14:55:42.324673800Z",
     "start_time": "2024-11-01T14:55:32.520421400Z"
    }
   },
   "id": "83565cf8daf5c5f"
  },
  {
   "cell_type": "code",
   "execution_count": 4,
   "outputs": [],
   "source": [
    "# Sample keywords related to NVIDIA and associated companies\n",
    "nvidia_keywords = [\n",
    "    'NVDA', 'NVIDIA']\n",
    "\n",
    "'''\n",
    "\n",
    "More keywords can be added to the list to improve the filtering process. But adding all those increases the document number significantly making processing slower and creating memory issues that are unsolvable by my mere laptop. \n",
    "\n",
    "nvidia_keywords = [\n",
    "    'NVDA', 'NVIDIA', 'NIO', 'UBER', 'AMZN', 'AMAZON', 'TESLA', 'AI', 'GPU', 'GRAPHICS',\n",
    "    'CHIP', 'SEMICONDUCTOR', 'AUTONOMOUS', 'DRIVING', 'DEEP LEARNING', 'MACHINE LEARNING'\n",
    "]\n",
    "\n",
    "'''\n",
    "\n",
    "# Compile a regex pattern from the keywords list\n",
    "nvidia_pattern = '|'.join(nvidia_keywords)  # Combines the keywords into a regex pattern\n",
    "\n",
    "# Filter articles where the content or ticker column contains any of the keywords\n",
    "df_news = news_articles_data[\n",
    "    news_articles_data['content'].str.contains(nvidia_pattern, case=False, na=False)\n",
    "]"
   ],
   "metadata": {
    "collapsed": false,
    "ExecuteTime": {
     "end_time": "2024-11-01T14:55:50.497935900Z",
     "start_time": "2024-11-01T14:55:42.324673800Z"
    }
   },
   "id": "9aa06a8ed9ff0586"
  },
  {
   "cell_type": "code",
   "execution_count": 5,
   "outputs": [
    {
     "data": {
      "text/plain": "          id ticker                                              title  \\\n0     221539    NIO  A Central Bank War Just Started And Its Good F...   \n1     221547    NIO         6 Stocks To Watch  Nivida Could Be Falling   \n2     221572    NIO  Stocks   Dow Drops Nearly 400 Points as Apple ...   \n3     221593   UBER  The Zacks Analyst Blog Highlights  Advanced Mi...   \n4     221597   UBER                     The Best Of CES 2020  Revised    \n...      ...    ...                                                ...   \n3436  442657    AMD    Here s Why Nvidia  NVDA  Stock Is Gaining Today   \n3437  442682    AMD      4 Stocks To Watch Today  ATW  CWEI  MXL  SLCA   \n3438  442705    AMD  Here s What The Buy Side Expects From AMD Thur...   \n3439  442984      T  Zacks com Featured Highlights  AT T  Nu Skin E...   \n3440  442987      T  5 Dividend Growth Stocks To Sail Through Uncer...   \n\n     category                                            content release_date  \\\n0     opinion  ECB Effects\\nThe move in the euro was huge  fa...   2019-03-07   \n1     opinion  6 Stocks To Watch  March 6 Trading Session\\nSt...   2019-03-06   \n2        news  Investing com   A rout in Apple and Facebook  ...   2018-11-19   \n3     opinion  For Immediate ReleaseChicago  IL   January 13 ...   2020-01-12   \n4     opinion  With 4 500 companies bringing their innovation...   2020-01-16   \n...       ...                                                ...          ...   \n3436  opinion  Shares of Nvidia   NASDAQ NVDA   are up nearly...   2016-09-27   \n3437  opinion  It was a pretty good start to the week on Mond...   2016-05-17   \n3438  opinion  Advanced Micro Devices Inc   NYSE AMD  is set ...   2014-04-17   \n3439  opinion  For Immediate Release\\n\\nChicago  IL   July 22...   2016-07-21   \n3440  opinion  With uncertainty ruling the markets since the ...   2016-07-20   \n\n                       provider  \\\n0                Michael Kramer   \n1                Michael Kramer   \n2                 Investing.com   \n3     Zacks Investment Research   \n4     Zacks Investment Research   \n...                         ...   \n3436  Zacks Investment Research   \n3437                Harry Boxer   \n3438                   Estimize   \n3439  Zacks Investment Research   \n3440  Zacks Investment Research   \n\n                                                    url  article_id  \n0     https://www.investing.com/analysis/a-central-b...   200395687  \n1     https://www.investing.com/analysis/6-stocks-to...   200394931  \n2     https://www.investing.com/news/stock-market-ne...     1694042  \n3     https://www.investing.com/analysis/the-zacks-a...   200498277  \n4     https://www.investing.com/analysis/the-best-of...   200499164  \n...                                                 ...         ...  \n3436  https://www.investing.com/analysis/here's-why-...   200155860  \n3437  https://www.investing.com/analysis/atw,-cwei,-...   200130262  \n3438  https://www.investing.com/analysis/here’s-what...      209915  \n3439  https://www.investing.com/analysis/zacks.com-f...   200143537  \n3440  https://www.investing.com/analysis/5-dividend-...   200143306  \n\n[3441 rows x 9 columns]",
      "text/html": "<div>\n<style scoped>\n    .dataframe tbody tr th:only-of-type {\n        vertical-align: middle;\n    }\n\n    .dataframe tbody tr th {\n        vertical-align: top;\n    }\n\n    .dataframe thead th {\n        text-align: right;\n    }\n</style>\n<table border=\"1\" class=\"dataframe\">\n  <thead>\n    <tr style=\"text-align: right;\">\n      <th></th>\n      <th>id</th>\n      <th>ticker</th>\n      <th>title</th>\n      <th>category</th>\n      <th>content</th>\n      <th>release_date</th>\n      <th>provider</th>\n      <th>url</th>\n      <th>article_id</th>\n    </tr>\n  </thead>\n  <tbody>\n    <tr>\n      <th>0</th>\n      <td>221539</td>\n      <td>NIO</td>\n      <td>A Central Bank War Just Started And Its Good F...</td>\n      <td>opinion</td>\n      <td>ECB Effects\\nThe move in the euro was huge  fa...</td>\n      <td>2019-03-07</td>\n      <td>Michael Kramer</td>\n      <td>https://www.investing.com/analysis/a-central-b...</td>\n      <td>200395687</td>\n    </tr>\n    <tr>\n      <th>1</th>\n      <td>221547</td>\n      <td>NIO</td>\n      <td>6 Stocks To Watch  Nivida Could Be Falling</td>\n      <td>opinion</td>\n      <td>6 Stocks To Watch  March 6 Trading Session\\nSt...</td>\n      <td>2019-03-06</td>\n      <td>Michael Kramer</td>\n      <td>https://www.investing.com/analysis/6-stocks-to...</td>\n      <td>200394931</td>\n    </tr>\n    <tr>\n      <th>2</th>\n      <td>221572</td>\n      <td>NIO</td>\n      <td>Stocks   Dow Drops Nearly 400 Points as Apple ...</td>\n      <td>news</td>\n      <td>Investing com   A rout in Apple and Facebook  ...</td>\n      <td>2018-11-19</td>\n      <td>Investing.com</td>\n      <td>https://www.investing.com/news/stock-market-ne...</td>\n      <td>1694042</td>\n    </tr>\n    <tr>\n      <th>3</th>\n      <td>221593</td>\n      <td>UBER</td>\n      <td>The Zacks Analyst Blog Highlights  Advanced Mi...</td>\n      <td>opinion</td>\n      <td>For Immediate ReleaseChicago  IL   January 13 ...</td>\n      <td>2020-01-12</td>\n      <td>Zacks Investment Research</td>\n      <td>https://www.investing.com/analysis/the-zacks-a...</td>\n      <td>200498277</td>\n    </tr>\n    <tr>\n      <th>4</th>\n      <td>221597</td>\n      <td>UBER</td>\n      <td>The Best Of CES 2020  Revised</td>\n      <td>opinion</td>\n      <td>With 4 500 companies bringing their innovation...</td>\n      <td>2020-01-16</td>\n      <td>Zacks Investment Research</td>\n      <td>https://www.investing.com/analysis/the-best-of...</td>\n      <td>200499164</td>\n    </tr>\n    <tr>\n      <th>...</th>\n      <td>...</td>\n      <td>...</td>\n      <td>...</td>\n      <td>...</td>\n      <td>...</td>\n      <td>...</td>\n      <td>...</td>\n      <td>...</td>\n      <td>...</td>\n    </tr>\n    <tr>\n      <th>3436</th>\n      <td>442657</td>\n      <td>AMD</td>\n      <td>Here s Why Nvidia  NVDA  Stock Is Gaining Today</td>\n      <td>opinion</td>\n      <td>Shares of Nvidia   NASDAQ NVDA   are up nearly...</td>\n      <td>2016-09-27</td>\n      <td>Zacks Investment Research</td>\n      <td>https://www.investing.com/analysis/here's-why-...</td>\n      <td>200155860</td>\n    </tr>\n    <tr>\n      <th>3437</th>\n      <td>442682</td>\n      <td>AMD</td>\n      <td>4 Stocks To Watch Today  ATW  CWEI  MXL  SLCA</td>\n      <td>opinion</td>\n      <td>It was a pretty good start to the week on Mond...</td>\n      <td>2016-05-17</td>\n      <td>Harry Boxer</td>\n      <td>https://www.investing.com/analysis/atw,-cwei,-...</td>\n      <td>200130262</td>\n    </tr>\n    <tr>\n      <th>3438</th>\n      <td>442705</td>\n      <td>AMD</td>\n      <td>Here s What The Buy Side Expects From AMD Thur...</td>\n      <td>opinion</td>\n      <td>Advanced Micro Devices Inc   NYSE AMD  is set ...</td>\n      <td>2014-04-17</td>\n      <td>Estimize</td>\n      <td>https://www.investing.com/analysis/here’s-what...</td>\n      <td>209915</td>\n    </tr>\n    <tr>\n      <th>3439</th>\n      <td>442984</td>\n      <td>T</td>\n      <td>Zacks com Featured Highlights  AT T  Nu Skin E...</td>\n      <td>opinion</td>\n      <td>For Immediate Release\\n\\nChicago  IL   July 22...</td>\n      <td>2016-07-21</td>\n      <td>Zacks Investment Research</td>\n      <td>https://www.investing.com/analysis/zacks.com-f...</td>\n      <td>200143537</td>\n    </tr>\n    <tr>\n      <th>3440</th>\n      <td>442987</td>\n      <td>T</td>\n      <td>5 Dividend Growth Stocks To Sail Through Uncer...</td>\n      <td>opinion</td>\n      <td>With uncertainty ruling the markets since the ...</td>\n      <td>2016-07-20</td>\n      <td>Zacks Investment Research</td>\n      <td>https://www.investing.com/analysis/5-dividend-...</td>\n      <td>200143306</td>\n    </tr>\n  </tbody>\n</table>\n<p>3441 rows × 9 columns</p>\n</div>"
     },
     "execution_count": 5,
     "metadata": {},
     "output_type": "execute_result"
    }
   ],
   "source": [
    "df_news = df_news.drop_duplicates(subset='content', keep='first').reset_index(drop=True)\n",
    "df_news"
   ],
   "metadata": {
    "collapsed": false,
    "ExecuteTime": {
     "end_time": "2024-11-01T14:55:50.538967300Z",
     "start_time": "2024-11-01T14:55:50.497935900Z"
    }
   },
   "id": "fee0178741b44435"
  },
  {
   "cell_type": "markdown",
   "source": [
    "## Preprocessing takes places in the following steps:\n",
    "- Lowercasing the text\n",
    "- Removing non-alphabetic characters\n",
    "- Removing accents\n",
    "- Tokenization\n",
    "- Removing stopwords\n",
    "- Removing top and bottom n% of words"
   ],
   "metadata": {
    "collapsed": false
   },
   "id": "ac7477b432981d59"
  },
  {
   "cell_type": "code",
   "execution_count": 6,
   "outputs": [],
   "source": [
    "def preprocess_texts_v1(texts, n=0):\n",
    "    processed_texts = []\n",
    "    stop_words = set(stopwords.words('english'))  # Load stopwords once\n",
    "\n",
    "    for text in texts:\n",
    "        # Lowercasing, keep text only, remove accents, tokenization\n",
    "        tokens = [word for word in word_tokenize(re.sub(r'[^a-zA-Z\\s]', '', unidecode(text.lower())))]\n",
    "\n",
    "        # Stopword removal using a set for faster lookup\n",
    "        tokens = [token for token in tokens if token not in stop_words]\n",
    "        processed_texts.append(tokens)\n",
    "\n",
    "    if n > 0:\n",
    "        word_freq = Counter([word for sentence in processed_texts for word in sentence])\n",
    "        top_n = set(word for word, _ in word_freq.most_common(int(n / 100 * len(word_freq))))\n",
    "        bottom_n = set(word for word, _ in word_freq.most_common()[:-int(n / 100 * len(word_freq)) - 1:-1])\n",
    "        \n",
    "        processed_texts = [\n",
    "            [word for word in sentence if word not in top_n and word not in bottom_n]\n",
    "            for sentence in processed_texts\n",
    "        ]\n",
    "\n",
    "    return processed_texts"
   ],
   "metadata": {
    "collapsed": false,
    "ExecuteTime": {
     "end_time": "2024-11-01T14:55:50.551840Z",
     "start_time": "2024-11-01T14:55:50.538967300Z"
    }
   },
   "id": "d3ed441d691d63e3"
  },
  {
   "cell_type": "code",
   "execution_count": 7,
   "outputs": [],
   "source": [
    "# Preprocess the filtered news content\n",
    "processed_content = preprocess_texts_v1(df_news['content'].tolist())"
   ],
   "metadata": {
    "collapsed": false,
    "ExecuteTime": {
     "end_time": "2024-11-01T14:55:57.697622Z",
     "start_time": "2024-11-01T14:55:50.551840Z"
    }
   },
   "id": "6bdf1554a4cd4045"
  },
  {
   "cell_type": "code",
   "execution_count": 8,
   "outputs": [],
   "source": [
    "# Save the processed content to a CSV file\n",
    "processed_df = pd.DataFrame({'processed_content': [' '.join(content) for content in processed_content]})\n",
    "processed_df.to_csv('../data/flsaw_processed_content.csv', index=False)"
   ],
   "metadata": {
    "collapsed": false,
    "ExecuteTime": {
     "end_time": "2024-11-01T14:55:57.938434700Z",
     "start_time": "2024-11-01T14:55:57.704129100Z"
    }
   },
   "id": "f7ed46545a1e6712"
  },
  {
   "cell_type": "code",
   "execution_count": 9,
   "outputs": [
    {
     "name": "stdout",
     "output_type": "stream",
     "text": [
      "[['ecb', 'effects', 'move', 'euro', 'huge', 'falling', 'pips', 'huge', 'important', 'piece', 'euro', 'broke', 'essential', 'support', 'wrote', 'thoughts', 'euro', 'could', 'even', 'fall', 'parity', 'fed', 'may', 'need', 'cut', 'rates', 'later', 'year', 'draghi', 'dovish', 'today', 'outlook', 'much', 'german', 'bunds', 'fell', 'around', 'bps', 'bps', 'year', 'fell', 'break', 'sends', 'year', 'back', 'december', 'lows', 'time', 'investors', 'come', 'realize', 'rates', 'remain', 'low', 'fed', 'need', 'stay', 'hold', 'avoid', 'dollar', 'strengthen', 'much', 'dollar', 'rise', 'kill', 'whatever', 'inflationary', 'forces', 'hurting', 'multinational', 'companies', 'result', 'may', 'fed', 'needs', 'cut', 'rates', 'late', 'keep', 'dollar', 'line', 'versus', 'euro', 'avoid', 'scenario', 'good', 'stocks', 'investors', 'move', 'risk', 'curve', 'low', 'interest', 'rate', 'foster', 'multiple', 'expansion', 'stocks', 'p', 'spy', 'nyse', 'spy', 'stocks', 'end', 'falling', 'p', 'dropping', 'roughly', 'basis', 'point', 'certainly', 'end', 'days', 'decline', 'worth', 'noting', 'p', 'manage', 'close', 'pretty', 'substantial', 'level', 'support', 'around', 'remember', 'one', 'reasons', 'hesitation', 'couple', 'weeks', 'backs', 'market', 'level', 'tried', 'keep', 'back', 'everyone', 'mind', 'gap', 'filled', 'next', 'point', 'view', 'crucial', 'p', 'hold', 'support', 'around', 'level', 'drop', 'support', 'zone', 'gets', 'things', 'moving', 'downside', 'potential', 'drop', 'russell', 'iwm', 'russell', 'decline', 'noticeable', 'fall', 'level', 'support', 'noted', 'last', 'night', 'russell', 'drop', 'much', 'concerned', 'p', 'point', 'chart', 'suggestions', 'index', 'could', 'drop', 'another', 'around', 'minor', 'support', 'level', 'confidence', 'level', 'acting', 'anything', 'substantial', 'know', 'sound', 'like', 'much', 'consider', 'russell', 'february', 'think', 'way', 'talking', 'nearly', 'drop', 'peak', 'even', 'make', 'case', 'russell', 'drop', 'back', 'around', 'full', 'february', 'highs', 'would', 'create', 'bullish', 'pattern', 'known', 'reverse', 'head', 'shoulders', 'could', 'eventually', 'lead', 'higher', 'prices', 'road', 'outlook', 'full', 'year', 'continues', 'suggest', 'stock', 'continue', 'head', 'higher', 'say', 'pullbacks', 'along', 'way', 'nio', 'nyse', 'nio', 'nio', 'continues', 'deflate', 'looks', 'like', 'may', 'possible', 'drop', 'splunk', 'nasdaq', 'splk', 'splunk', 'nearing', 'potentially', 'big', 'breakdown', 'fall', 'potentially', 'facebook', 'nasdaq', 'fb', 'facebook', 'lower', 'today', 'stock', 'looking', 'filling', 'gap', 'around', 'corner', 'netflix', 'nasdaq', 'nflx', 'netflix', 'also', 'today', 'falling', 'back', 'stock', 'looked', 'weak', 'drop', 'seems', 'possible', 'still', 'apple', 'nasdaq', 'aapl', 'apple', 'got', 'high', 'pretty', 'close', 'cigar', 'looking', 'stock', 'sitting', 'uptrend', 'break', 'uptrend', 'pushes', 'shares', 'back', 'jd', 'jd', 'jd', 'still', 'looking', 'could', 'drop', 'around', 'coming', 'days', 'nvidia', 'corporation', 'nasdaq', 'nvda', 'finally', 'nvidia', 'fall', 'today', 'still', 'looking', 'region', 'see', 'jobs', 'friday', 'original', 'post'], ['stocks', 'watch', 'march', 'trading', 'session', 'stocks', 'stocks', 'went', 'pretty', 'much', 'nowhere', 'march', 'p', 'finishing', 'day', 'bps', 'modestly', 'surprised', 'stocks', 'get', 'boost', 'strong', 'services', 'pmi', 'data', 'came', 'versus', 'estimates', 'one', 'highest', 'reading', 'time', 'let', 'us', 'forget', 'services', 'industry', 'us', 'far', 'outweighs', 'manufacturing', 'sector', 'nice', 'obsess', 'weak', 'manufacturing', 'pmi', 'sounds', 'dire', 'creates', 'headlines', 'doom', 'let', 'stop', 'call', 'day', 'biotech', 'xbi', 'biotechi', 'stocks', 'plunged', 'news', 'fda', 'commish', 'dr', 'scott', 'gottlieb', 'resigning', 'reason', 'decline', 'market', 'fears', 'unknown', 'knowing', 'next', 'commissioner', 'unknown', 'sell', 'first', 'ask', 'questions', 'later', 'see', 'chart', 'day', 'going', 'rather', 'well', 'biotech', 'news', 'netflix', 'nflx', 'drew', 'new', 'trend', 'line', 'netflix', 'nasdaq', 'nflx', 'time', 'downtrend', 'stock', 'rise', 'today', 'notice', 'stock', 'stopped', 'rising', 'right', 'resistance', 'alphabet', 'googl', 'alphabet', 'nasdaq', 'googl', 'popped', 'briefly', 'could', 'step', 'rise', 'roku', 'inc', 'roku', 'roku', 'inc', 'nasdaq', 'roku', 'today', 'assuming', 'news', 'use', 'alexa', 'roku', 'together', 'download', 'skill', 'alexa', 'ok', 'certainly', 'worth', 'rise', 'stock', 'iqiyi', 'iq', 'iqiyi', 'inc', 'nasdaq', 'iq', 'went', 'today', 'seem', 'care', 'think', 'many', 'stocks', 'someone', 'asked', 'possible', 'iqiyi', 'consolidate', 'sideways', 'back', 'trend', 'line', 'would', 'agree', 'entirely', 'possible', 'also', 'admit', 'point', 'move', 'lower', 'likely', 'table', 'anymore', 'still', 'think', 'overbought', 'based', 'rsi', 'nivida', 'nvda', 'beginning', 'regret', 'changing', 'view', 'nvidia', 'corporation', 'nasdaq', 'nvda', 'weeks', 'back', 'increasing', 'admit', 'wrong', 'call', 'flip', 'back', 'say', 'think', 'going', 'fall', 'makes', 'feel', 'dumb', 'going', 'flip', 'sorry', 'folks', 'happen', 'often', 'nvidia', 'look', 'right', 'drop', 'sends', 'back', 'towards', 'see', 'one', 'falling', 'nio', 'nio', 'rhetorical', 'question', 'everybody', 'screams', 'cries', 'tesla', 'valuation', 'yet', 'start', 'nio', 'inc', 'nyse', 'nio', 'praised', 'tesla', 'nasdaq', 'tsla', 'killer', 'company', 'market', 'cap', 'third', 'ford', 'fiat', 'right', 'nio', 'billion', 'market', 'cap', 'company', 'even', 'expensive', 'tesla', 'see', 'much', 'controversy', 'around', 'nio', 'valuation', 'hardly', 'even', 'amount', 'short', 'interest', 'stock', 'either', 'original', 'post'], ['investing', 'com', 'rout', 'apple', 'facebook', 'nasdaq', 'fb', 'monday', 'swept', 'tech', 'prompting', 'wave', 'selling', 'across', 'broader', 'market', 'dow', 'jones', 'industrial', 'average', 'fell', 'p', 'fell', 'nasdaq', 'composite', 'fell', 'sentiment', 'soured', 'faang', 'stocks', 'investors', 'digested', 'wall', 'street', 'journal', 'report', 'apple', 'nasdaq', 'aapl', 'considering', 'cutting', 'production', 'demand', 'newest', 'slate', 'phones', 'strong', 'company', 'hoped', 'shares', 'fell', 'plunge', 'apple', 'sent', 'shockwaves', 'throughout', 'shares', 'suppliers', 'cut', 'growth', 'outlook', 'last', 'week', 'adding', 'pressure', 'tech', 'facebook', 'nasdaq', 'fb', 'also', 'exacerbated', 'slide', 'broader', 'market', 'wall', 'street', 'journal', 'reported', 'ceo', 'mark', 'zuckerberg', 'may', 'driving', 'top', 'executives', 'shares', 'fell', 'report', 'journal', 'indicating', 'signs', 'turmoil', 'social', 'media', 'giant', 'comes', 'days', 'company', 'denied', 'allegations', 'conspired', 'cover', 'russian', 'influence', 'propaganda', 'platform', 'energy', 'meanwhile', 'also', 'played', 'role', 'selloff', 'even', 'u', 'oil', 'prices', 'settled', 'higher', 'potential', 'european', 'union', 'sanctions', 'iran', 'possible', 'opec', 'production', 'cuts', 'sign', 'skittish', 'sentiment', 'stocks', 'defensive', 'sectors', 'market', 'like', 'estate', 'utilities', 'closed', 'positive', 'territory', 'day', 'investors', 'sought', 'refuge', 'riskier', 'sectors', 'lingering', 'optimism', 'u', 'china', 'trade', 'soiled', 'meanwhile', 'following', 'vice', 'president', 'mike', 'pence', 'remarks', 'sunday', 'asserting', 'would', 'end', 'u', 'charges', 'billion', 'worth', 'chinese', 'goods', 'unless', 'china', 'changed', 'practices', 'toward', 'trade', 'pence', 'comments', 'come', 'ahead', 'crucial', 'meeting', 'president', 'donald', 'trump', 'chinese', 'president', 'xi', 'jinping', 'g', 'summit', 'slated', 'end', 'november', 'far', 'united', 'states', 'slapped', 'tariffs', 'billion', 'worth', 'chinese', 'goods', 'half', 'value', 'u', 'imports', 'country', 'china', 'retaliated', 'tariffs', 'billion', 'worth', 'american', 'exports', 'economic', 'front', 'investors', 'contend', 'yet', 'another', 'report', 'pointing', 'slowdown', 'u', 'housing', 'market', 'little', 'lift', 'sentiment', 'equities', 'national', 'association', 'home', 'builders', 'wells', 'fargo', 'housing', 'market', 'index', 'fell', 'eight', 'points', 'november', 'lowest', 'reading', 'since', 'august', 'corporate', 'news', 'tesla', 'rival', 'nio', 'nyse', 'nio', 'soared', 'citron', 'research', 'andrew', 'left', 'delivered', 'upbeat', 'assessment', 'electric', 'automaker', 'claiming', 'car', 'company', 'lifestyle', 'brand', 'ready', 'disrupt', 'top', 'p', 'gainers', 'losers', 'today', 'helmerich', 'payne', 'nyse', 'hp', 'molson', 'coors', 'nyse', 'tap', 'amerisourcebergen', 'nyse', 'abc', 'among', 'top', 'p', 'gainers', 'session', 'nvidia', 'nasdaq', 'nvda', 'align', 'technology', 'nasdaq', 'algn', 'salesforce', 'com', 'nyse', 'crm', 'among', 'worst', 'p', 'performers', 'session'], ['immediate', 'releasechicago', 'il', 'january', 'zacks', 'com', 'announces', 'list', 'stocks', 'featured', 'analyst', 'blog', 'every', 'day', 'zacks', 'equity', 'research', 'analysts', 'discuss', 'latest', 'news', 'events', 'impacting', 'stocks', 'financial', 'markets', 'stocks', 'recently', 'featured', 'blog', 'include', 'advanced', 'micro', 'devices', 'nasdaq', 'amd', 'intel', 'nasdaq', 'intc', 'nvidia', 'nasdaq', 'nvda', 'qualcomm', 'nasdaq', 'qcom', 'uber', 'nyse', 'uber', 'highlights', 'friday', 'analyst', 'blog', 'best', 'ces', 'companies', 'bringing', 'innovations', 'ces', 'jan', 'gets', 'really', 'difficult', 'pick', 'favorites', 'especially', 'practically', 'everything', 'technology', 'seems', 'consumer', 'item', 'days', 'gone', 'days', 'tcl', 'g', 'smartphone', 'promising', 'g', 'dramatically', 'lower', 'cost', 'samsung', 'ks', 'galaxy', 'note', 'lite', 'big', 'screen', 'pen', 'cameras', 'features', 'lower', 'price', 'point', 'would', 'particularly', 'exciting', 'today', 'announcements', 'viewed', 'part', 'typical', 'mark', 'prices', 'things', 'tech', 'accompanied', 'kind', 'phone', 'service', 'offering', 'called', 'teracube', 'manufacturer', 'replace', 'broken', 'phones', 'near', 'new', 'refurbished', 'versions', 'year', 'warranty', 'period', 'mobile', 'computing', 'also', 'advancing', 'first', 'folding', 'tablet', 'lenovo', 'thinkpad', 'x', 'fold', 'first', 'e', 'ink', 'touchscreen', 'lenovo', 'thinkbook', 'plus', 'chromeboooks', 'like', 'samsung', 'galaxy', 'lenovo', 'ideapad', 'duet', 'also', 'intel', 'inch', 'foldable', 'concept', 'device', 'called', 'horseshoe', 'bend', 'really', 'knows', 'bend', 'backward', 'running', 'announced', 'tiger', 'lake', 'mobile', 'processors', 'iot', 'group', 'large', 'impressive', 'interesting', 'announcements', 'juno', 'chiller', 'chill', 'drink', 'matter', 'minutes', 'case', 'refrigerated', 'also', 'ice', 'cubes', 'inch', 'lenovo', 'smart', 'frame', 'designed', 'hanging', 'wall', 'home', 'water', 'treatment', 'plant', 'recycle', 'household', 'water', 'called', 'hydraloop', 'garbage', 'disposal', 'option', 'separate', 'compostable', 'material', 'called', 'sepura', 'manufactured', 'anvy', 'technologies', 'device', 'called', 'genny', 'watergen', 'converts', 'moisture', 'air', 'drinking', 'water', 'iot', 'announcements', 'personal', 'kind', 'include', 'new', 'versions', 'smartwatches', 'like', 'withings', 'scanwatch', 'suunto', 'wear', 'os', 'based', 'smartwatch', 'also', 'new', 'head', 'band', 'called', 'urgonight', 'designed', 'help', 'sleep', 'better', 'smart', 'toothbrushes', 'brush', 'colgate', 'plaqless', 'pro', 'smart', 'bath', 'mat', 'measures', 'weight', 'checks', 'way', 'feet', 'stand', 'suggests', 'better', 'postures', 'exercises', 'led', 'desk', 'lamp', 'called', 'lexilight', 'facilitate', 'reading', 'dyslexia', 'patients', 'condition', 'two', 'dominant', 'eyes', 'several', 'smart', 'hearing', 'aids', 'also', 'offer', 'noise', 'cancellation', 'enable', 'music', 'streaming', 'hands', 'free', 'calling', 'determining', 'sounds', 'want', 'hear', 'times', 'want', 'hear', 'etc', 'exobeam', 'walking', 'aid', 'parkinsons', 'patients', 'fitness', 'products', 'like', 'amazfit', 'homestudio', 'smart', 'treadmill', 'echelon', 'row', 'interesting', 'products', 'group', 'robotics', 'also', 'made', 'headway', 'reachy', 'pollen', 'robotics', 'samsung', 'pibo', 'samsung', 'also', 'showcased', 'cute', 'ballie', 'yellow', 'ball', 'moves', 'around', 'house', 'managing', 'smart', 'home', 'gadgets', 'strictly', 'part', 'group', 'samsung', 'also', 'showed', 'version', 'neon', 'artificial', 'human', 'still', 'working', 'photo', 'realistic', 'digital', 'avatars', 'displaying', 'human', 'like', 'appearance', 'intelligence', 'emotions', 'super', 'useful', 'downright', 'creepy', 'market', 'ready', 'drones', 'become', 'less', 'common', 'category', 'ces', 'year', 'see', 'shipment', 'powervision', 'poweregg', 'x', 'camera', 'drone', 'shooting', 'aerial', 'images', 'quadcopter', 'design', 'waterproof', 'option', 'ability', 'transform', 'handheld', 'k', 'imaging', 'facial', 'recognition', 'capability', 'makes', 'perfect', 'choice', 'outdoor', 'trips', 'powervision', 'v', 'coptr', 'falcon', 'bi', 'copter', 'may', 'make', 'market', 'year', 'manage', 'flight', 'time', 'minutes', 'km', 'transmission', 'range', 'stable', 'k', 'video', 'footage', 'extra', 'eyes', 'obstacle', 'avoidance', 'auto', 'follow', 'features', 'easy', 'cinematic', 'shots', 'subject', 'cameras', 'degree', 'version', 'caters', 'ar', 'vr', 'world', 'saw', 'impressive', 'entry', 'veteran', 'insta', 'company', 'one', 'r', 'degree', 'truly', 'modular', 'design', 'extra', 'battery', 'dual', 'lens', 'lens', 'k', 'wide', 'angle', 'lens', 'coming', 'modules', 'samsung', 'front', 'runner', 'tvs', 'inch', 'k', 'qled', 'sero', 'tv', 'qts', 'k', 'bezel', 'less', 'design', 'outdoes', 'k', 'offerings', 'sony', 'lg', 'tv', 'going', 'digital', 'big', 'way', 'lots', 'people', 'catching', 'video', 'streaming', 'devices', 'crowded', 'market', 'tivo', 'stream', 'k', 'debuting', 'gaming', 'attempt', 'improving', 'accessibility', 'immersion', 'razer', 'kishi', 'controller', 'designed', 'slip', 'iphone', 'select', 'android', 'smartphone', 'usb', 'c', 'lightning', 'port', 'thus', 'attaching', 'two', 'thumbsticks', 'directional', 'pad', 'abxy', 'buttons', 'four', 'shoulder', 'buttons', 'phone', 'turning', 'switch', 'style', 'handheld', 'arcadeo', 'gaming', 'chair', 'vibrates', 'sound', 'game', 'playing', 'different', 'kinds', 'reactions', 'promising', 'immersive', 'experience', 'staying', 'topic', 'gaming', 'advanced', 'micro', 'devices', 'radeon', 'rx', 'xt', 'gpu', 'chips', 'p', 'gamers', 'play', 'latest', 'games', 'full', 'hd', 'resolution', 'high', 'frame', 'rates', 'lower', 'cost', 'power', 'consumption', 'last', 'year', 'launch', 'jan', 'intel', 'working', 'graphics', 'front', 'claiming', 'new', 'xe', 'graphics', 'architecture', 'offers', 'discrete', 'level', 'integrated', 'graphics', 'first', 'xe', 'based', 'discrete', 'gpu', 'code', 'named', 'dgwas', 'previewed', 'ces', 'itsnm', 'core', 'mobile', 'processors', 'code', 'named', 'tiger', 'lake', 'deliver', 'double', 'digit', 'performance', 'gains', 'massive', 'artificial', 'intelligence', 'performance', 'improvements', 'better', 'graphics', 'performance', 'x', 'throughput', 'usb', 'intel', 'also', 'showed', 'rd', 'generation', 'xeon', 'scalable', 'processor', 'promises', 'significant', 'ai', 'training', 'acceleration', 'overall', 'performance', 'improvement', 'nvidia', 'exciting', 'gaming', 'announcements', 'like', 'ray', 'tracing', 'technology', 'new', 'hz', 'esports', 'displays', 'etc', 'important', 'contributions', 'autonomous', 'vehicle', 'driving', 'av', 'huge', 'category', 'within', 'ces', 'market', 'gears', 'take', 'challenge', 'displays', 'futuristic', 'others', 'look', 'achievable', 'nvidia', 'offering', 'technology', 'behind', 'phenomenon', 'drive', 'agx', 'orin', 'platform', 'based', 'around', 'orin', 'system', 'chip', 'soc', 'x', 'faster', 'previous', 'generation', 'xavier', 'first', 'scalable', 'platform', 'avs', 'formally', 'launch', 'drive', 'facilitates', 'data', 'collection', 'model', 'training', 'simulations', 'learning', 'real', 'world', 'company', 'opening', 'platform', 'av', 'players', 'learnings', 'experiences', 'shared', 'pooled', 'information', 'make', 'system', 'highly', 'robust', 'get', 'avs', 'market', 'sooner', 'qualcomm', 'announced', 'new', 'av', 'platform', 'called', 'snapdragon', 'ride', 'including', 'socs', 'accelerators', 'software', 'including', 'open', 'stacks', 'sdks', 'tools', 'also', 'scaled', 'l', 'l', 'levels', 'thermally', 'efficient', 'software', 'focused', 'platform', 'centralized', 'architecture', 'designed', 'help', 'av', 'partners', 'bring', 'cars', 'market', 'sooner', 'matter', 'development', 'cycle', 'software', 'stack', 'offers', 'modules', 'like', 'perception', 'localization', 'sensor', 'fusion', 'behavior', 'planning', 'new', 'car', 'cloud', 'service', 'push', 'air', 'updates', 'collect', 'data', 'spur', 'av', 'builds', 'futuristic', 'vehicles', 'include', 'honda', 'unnamed', 'concept', 'car', 'centoventi', 'concept', 'car', 'seems', 'sort', 'modular', 'sony', 'vision', 'focused', 'large', 'screens', 'entertainment', 'toyota', 'lq', 'level', 'concept', 'car', 'audi', 'unnamed', 'av', 'concept', 'actual', 'desk', 'option', 'steering', 'wheel', 'uber', 'hyundai', 'flying', 'taxi', 'concept', 'novel', 'probably', 'impractical', 'see', 'goes', 'smart', 'scooters', 'also', 'attraction', 'stocks', 'set', 'doubleeach', 'hand', 'picked', 'zacks', 'expert', 'favorite', 'stock', 'gain', 'comes', 'different', 'sector', 'unique', 'qualities', 'catalysts', 'could', 'fuel', 'exceptional', 'growth', 'stocks', 'report', 'flying', 'wall', 'street', 'radar', 'provides', 'great', 'opportunity', 'get', 'ground', 'floor', 'media', 'contactzacks', 'investment', 'research', 'ext', 'past', 'performance', 'guarantee', 'future', 'results', 'inherent', 'investment', 'potential', 'loss', 'material', 'provided', 'informational', 'purposes', 'nothing', 'herein', 'constitutes', 'investment', 'legal', 'accounting', 'tax', 'advice', 'recommendation', 'buy', 'sell', 'hold', 'security', 'recommendation', 'advice', 'given', 'whether', 'investment', 'suitable', 'particular', 'investor', 'assumed', 'investments', 'securities', 'companies', 'sectors', 'markets', 'identified', 'described', 'profitable', 'information', 'current', 'date', 'herein', 'subject', 'change', 'without', 'notice', 'views', 'opinions', 'expressed', 'may', 'reflect', 'firm', 'whole', 'zacks', 'investment', 'research', 'engage', 'investment', 'banking', 'market', 'making', 'asset', 'management', 'activities', 'securities', 'returns', 'hypothetical', 'portfolios', 'consisting', 'stocks', 'zacks', 'rank', 'rebalanced', 'monthly', 'zero', 'transaction', 'costs', 'returns', 'actual', 'portfolios', 'stocks', 'p', 'unmanaged', 'index', 'visit', 'information', 'performance', 'numbers', 'displayed', 'press', 'release'], ['companies', 'bringing', 'innovations', 'ces', 'jan', 'gets', 'really', 'difficult', 'pick', 'favorites', 'especially', 'practically', 'everything', 'technology', 'seems', 'consumer', 'item', 'days', 'gone', 'days', 'tcl', 'g', 'smartphone', 'promising', 'g', 'dramatically', 'lower', 'cost', 'samsung', 'ks', 'galaxy', 'note', 'lite', 'big', 'screen', 'pen', 'cameras', 'features', 'lower', 'price', 'point', 'would', 'particularly', 'exciting', 'today', 'announcements', 'viewed', 'part', 'typical', 'mark', 'prices', 'things', 'tech', 'accompanied', 'kind', 'phone', 'service', 'offering', 'called', 'teracube', 'manufacturer', 'replace', 'broken', 'phones', 'near', 'new', 'refurbished', 'versions', 'year', 'warranty', 'period', 'mobile', 'computing', 'also', 'advancing', 'first', 'folding', 'tablet', 'lenovo', 'thinkpad', 'x', 'fold', 'first', 'e', 'ink', 'touchscreen', 'lenovo', 'thinkbook', 'plus', 'chromeboooks', 'like', 'samsung', 'galaxy', 'lenovo', 'ideapad', 'duet', 'also', 'intel', 'inch', 'foldable', 'concept', 'device', 'called', 'horseshoe', 'bend', 'really', 'knows', 'bend', 'backward', 'running', 'announced', 'tiger', 'lake', 'mobile', 'processors', 'iot', 'group', 'large', 'impressive', 'interesting', 'announcements', 'juno', 'chiller', 'chill', 'drink', 'matter', 'minutes', 'case', 'refrigerated', 'also', 'ice', 'cubes', 'inch', 'lenovo', 'smart', 'frame', 'designed', 'hanging', 'wall', 'home', 'water', 'treatment', 'plant', 'recycle', 'household', 'water', 'called', 'hydraloop', 'garbage', 'disposal', 'option', 'separate', 'compostable', 'material', 'called', 'sepura', 'manufactured', 'anvy', 'technologies', 'device', 'called', 'genny', 'watergen', 'converts', 'moisture', 'air', 'drinking', 'water', 'iot', 'announcements', 'personal', 'kind', 'include', 'new', 'versions', 'smartwatches', 'like', 'withings', 'scanwatch', 'suunto', 'wear', 'os', 'based', 'smartwatch', 'also', 'new', 'head', 'band', 'called', 'urgonight', 'designed', 'help', 'sleep', 'better', 'smart', 'toothbrushes', 'brush', 'colgate', 'plaqless', 'pro', 'smart', 'bath', 'mat', 'measures', 'weight', 'checks', 'way', 'feet', 'stand', 'suggests', 'better', 'postures', 'exercises', 'led', 'desk', 'lamp', 'called', 'lexilight', 'facilitate', 'reading', 'dyslexia', 'patients', 'condition', 'two', 'dominant', 'eyes', 'several', 'smart', 'hearing', 'aids', 'also', 'offer', 'noise', 'cancellation', 'enable', 'music', 'streaming', 'hands', 'free', 'calling', 'determining', 'sounds', 'want', 'hear', 'times', 'want', 'hear', 'etc', 'exobeam', 'walking', 'aid', 'parkinsons', 'patients', 'fitness', 'products', 'like', 'amazfit', 'homestudio', 'smart', 'treadmill', 'echelon', 'row', 'interesting', 'products', 'group', 'robotics', 'also', 'made', 'headway', 'reachy', 'pollen', 'robotics', 'samsung', 'pibo', 'samsung', 'also', 'showcased', 'cute', 'ballie', 'yellow', 'ball', 'moves', 'around', 'house', 'managing', 'smart', 'home', 'gadgets', 'strictly', 'part', 'group', 'samsung', 'also', 'showed', 'version', 'neon', 'artificial', 'human', 'still', 'working', 'photo', 'realistic', 'digital', 'avatars', 'displaying', 'human', 'like', 'appearance', 'intelligence', 'emotions', 'super', 'useful', 'downright', 'creepy', 'market', 'ready', 'drones', 'become', 'less', 'common', 'category', 'ces', 'year', 'see', 'shipment', 'powervision', 'poweregg', 'x', 'camera', 'drone', 'shooting', 'aerial', 'images', 'quadcopter', 'design', 'waterproof', 'option', 'ability', 'transform', 'handheld', 'k', 'imaging', 'facial', 'recognition', 'capability', 'makes', 'perfect', 'choice', 'outdoor', 'trips', 'zero', 'zero', 'robotics', 'v', 'coptr', 'falcon', 'bi', 'copter', 'may', 'make', 'market', 'year', 'manage', 'flight', 'time', 'minutes', 'km', 'transmission', 'range', 'stable', 'k', 'video', 'footage', 'extra', 'eyes', 'obstacle', 'avoidance', 'auto', 'follow', 'features', 'easy', 'cinematic', 'shots', 'subject', 'cameras', 'degree', 'version', 'caters', 'ar', 'vr', 'world', 'saw', 'impressive', 'entry', 'veteran', 'insta', 'company', 'one', 'r', 'degree', 'truly', 'modular', 'design', 'extra', 'battery', 'dual', 'lens', 'lens', 'k', 'wide', 'angle', 'lens', 'coming', 'modules', 'samsung', 'front', 'runner', 'tvs', 'inch', 'k', 'qled', 'sero', 'tv', 'qts', 'k', 'bezel', 'less', 'design', 'outdoes', 'k', 'offerings', 'sony', 'lg', 'tv', 'going', 'digital', 'big', 'way', 'lots', 'people', 'catching', 'video', 'streaming', 'devices', 'crowded', 'market', 'tivo', 'stream', 'k', 'debuting', 'gaming', 'attempt', 'improving', 'accessibility', 'immersion', 'razer', 'kishi', 'controller', 'designed', 'slip', 'iphone', 'select', 'android', 'smartphone', 'usb', 'c', 'lightning', 'port', 'thus', 'attaching', 'two', 'thumbsticks', 'directional', 'pad', 'abxy', 'buttons', 'four', 'shoulder', 'buttons', 'phone', 'turning', 'switch', 'style', 'handheld', 'arcadeo', 'gaming', 'chair', 'vibrates', 'sound', 'game', 'playing', 'different', 'kinds', 'reactions', 'promising', 'immersive', 'experience', 'staying', 'topic', 'gaming', 'advanced', 'micro', 'devices', 'nasdaq', 'amd', 'radeon', 'rx', 'xt', 'gpu', 'chips', 'p', 'gamers', 'play', 'latest', 'games', 'full', 'hd', 'resolution', 'high', 'frame', 'rates', 'lower', 'cost', 'power', 'consumption', 'last', 'year', 'launch', 'jan', 'intel', 'nasdaq', 'intc', 'working', 'graphics', 'front', 'claiming', 'new', 'xe', 'graphics', 'architecture', 'offers', 'discrete', 'level', 'integrated', 'graphics', 'first', 'xe', 'based', 'discrete', 'gpu', 'code', 'named', 'dgwas', 'previewed', 'ces', 'itsnm', 'core', 'mobile', 'processors', 'code', 'named', 'tiger', 'lake', 'deliver', 'double', 'digit', 'performance', 'gains', 'massive', 'artificial', 'intelligence', 'performance', 'improvements', 'better', 'graphics', 'performance', 'x', 'throughput', 'usb', 'intel', 'also', 'showed', 'rd', 'generation', 'xeon', 'scalable', 'processor', 'promises', 'significant', 'ai', 'training', 'acceleration', 'overall', 'performance', 'improvement', 'nvidia', 'nasdaq', 'nvda', 'exciting', 'gaming', 'announcements', 'like', 'ray', 'tracing', 'technology', 'new', 'hz', 'esports', 'displays', 'etc', 'important', 'contributions', 'autonomous', 'vehicle', 'driving', 'av', 'huge', 'category', 'within', 'ces', 'market', 'gears', 'take', 'challenge', 'displays', 'futuristic', 'others', 'look', 'achievable', 'nvidia', 'offering', 'technology', 'behind', 'phenomenon', 'drive', 'agx', 'orin', 'platform', 'based', 'around', 'orin', 'system', 'chip', 'soc', 'x', 'faster', 'previous', 'generation', 'xavier', 'first', 'scalable', 'platform', 'avs', 'formally', 'launch', 'drive', 'facilitates', 'data', 'collection', 'model', 'training', 'simulations', 'learning', 'real', 'world', 'company', 'opening', 'platform', 'av', 'players', 'learnings', 'experiences', 'shared', 'pooled', 'information', 'make', 'system', 'highly', 'robust', 'get', 'avs', 'market', 'sooner', 'qualcomm', 'nasdaq', 'qcom', 'announced', 'new', 'av', 'platform', 'called', 'snapdragon', 'ride', 'including', 'socs', 'accelerators', 'software', 'including', 'open', 'stacks', 'sdks', 'tools', 'also', 'scaled', 'l', 'l', 'levels', 'thermally', 'efficient', 'software', 'focused', 'platform', 'centralized', 'architecture', 'designed', 'help', 'av', 'partners', 'bring', 'cars', 'market', 'sooner', 'matter', 'development', 'cycle', 'software', 'stack', 'offers', 'modules', 'like', 'perception', 'localization', 'sensor', 'fusion', 'behavior', 'planning', 'new', 'car', 'cloud', 'service', 'push', 'air', 'updates', 'collect', 'data', 'spur', 'av', 'builds', 'futuristic', 'vehicles', 'include', 'honda', 'unnamed', 'concept', 'car', 'centoventi', 'concept', 'car', 'seems', 'sort', 'modular', 'sony', 'vision', 'focused', 'large', 'screens', 'entertainment', 'toyota', 'lq', 'level', 'concept', 'car', 'audi', 'unnamed', 'av', 'concept', 'actual', 'desk', 'option', 'steering', 'wheel', 'uber', 'nyse', 'uber', 'hyundai', 'flying', 'taxi', 'concept', 'novel', 'probably', 'impractical', 'see', 'goes', 'smart', 'scooters', 'also', 'attraction', 'reissuing', 'article', 'correct', 'mistake', 'original', 'article', 'issued', 'january', 'longer', 'relied', 'upon']]\n"
     ]
    }
   ],
   "source": [
    "print(processed_content[:5])"
   ],
   "metadata": {
    "collapsed": false,
    "ExecuteTime": {
     "end_time": "2024-11-01T15:03:46.032323100Z",
     "start_time": "2024-11-01T15:03:46.029302100Z"
    }
   },
   "id": "1f70ab3b52800f6c"
  }
 ],
 "metadata": {
  "kernelspec": {
   "display_name": "Python 3",
   "language": "python",
   "name": "python3"
  },
  "language_info": {
   "codemirror_mode": {
    "name": "ipython",
    "version": 2
   },
   "file_extension": ".py",
   "mimetype": "text/x-python",
   "name": "python",
   "nbconvert_exporter": "python",
   "pygments_lexer": "ipython2",
   "version": "2.7.6"
  }
 },
 "nbformat": 4,
 "nbformat_minor": 5
}
