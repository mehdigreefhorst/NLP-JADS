{
 "cells": [
  {
   "cell_type": "code",
   "id": "initial_id",
   "metadata": {
    "collapsed": true,
    "ExecuteTime": {
     "end_time": "2024-11-05T22:22:49.072329Z",
     "start_time": "2024-11-05T22:22:44.270515Z"
    }
   },
   "source": [
    "import Assignment2.df_filter_nvida as df_filter_nvida\n",
    "\n",
    "import numpy as np\n",
    "import pandas as pd\n",
    "import matplotlib.pyplot as plt\n",
    "import seaborn as sns\n",
    "from umap import UMAP\n",
    "from hdbscan import HDBSCAN\n",
    "from sentence_transformers import SentenceTransformer\n",
    "from sklearn.feature_extraction.text import CountVectorizer\n",
    "import os\n",
    "os.environ[\"TOKENIZERS_PARALLELISM\"] = \"false\"\n",
    "\n",
    "\n",
    "from bertopic import BERTopic\n",
    "from bertopic.representation import KeyBERTInspired, BaseRepresentation\n",
    "from bertopic.vectorizers import ClassTfidfTransformer\n",
    "import gensim.corpora as corpora\n",
    "from gensim.models.coherencemodel import CoherenceModel\n",
    "\n",
    "import nltk\n",
    "import ssl\n",
    "\n",
    "try:\n",
    "    _create_unverified_https_context = ssl._create_unverified_context\n",
    "except AttributeError:\n",
    "    pass\n",
    "else:\n",
    "    ssl._create_default_https_context = _create_unverified_https_context\n",
    "\n",
    "nltk.download('punkt')"
   ],
   "outputs": [
    {
     "name": "stderr",
     "output_type": "stream",
     "text": [
      "[nltk_data] Downloading package punkt to\n",
      "[nltk_data]     /Users/mehdigreefhorst/nltk_data...\n",
      "[nltk_data]   Package punkt is already up-to-date!\n"
     ]
    },
    {
     "data": {
      "text/plain": [
       "True"
      ]
     },
     "execution_count": 1,
     "metadata": {},
     "output_type": "execute_result"
    }
   ],
   "execution_count": 1
  },
  {
   "metadata": {
    "ExecuteTime": {
     "end_time": "2024-11-05T22:23:04.168573Z",
     "start_time": "2024-11-05T22:22:49.072998Z"
    }
   },
   "cell_type": "code",
   "source": [
    "news_articles_data = pd.read_csv(\"../data/us_equities_news_dataset.csv\")\n",
    "stock_data = pd.read_csv(\"../data/NVDA.csv\")\n",
    "nvida_news_articles_df = df_filter_nvida.filter_df_to_nvida(df=news_articles_data,\n",
    "                                                            related_tickers=\"NVDA\")\n",
    "df_news = df_filter_nvida.add_nvidia_increase_decrease_bool_to_df(df_news=nvida_news_articles_df,\n",
    "                                                                  df_stock_data=stock_data)\n",
    "df_news = df_news.drop_duplicates(subset='content', keep='first').reset_index(drop=True)\n",
    "df_news"
   ],
   "id": "9e27725843831734",
   "outputs": [
    {
     "name": "stdout",
     "output_type": "stream",
     "text": [
      "nan\n",
      "nan\n",
      "nan\n",
      "nan\n",
      "nan\n",
      "nan\n",
      "nan\n",
      "nan\n"
     ]
    },
    {
     "data": {
      "text/plain": [
       "          id ticker  ticker_NVDA_improved  \\\n",
       "0     221539    NIO                  True   \n",
       "1     221547    NIO                  True   \n",
       "2     221572    NIO                  True   \n",
       "3     221593   UBER                  True   \n",
       "4     221597   UBER                  True   \n",
       "...      ...    ...                   ...   \n",
       "3436  442657    AMD                  True   \n",
       "3437  442682    AMD                  True   \n",
       "3438  442705    AMD                  True   \n",
       "3439  442984      T                  True   \n",
       "3440  442987      T                  True   \n",
       "\n",
       "                                                  title  title_NVIDIA_topic  \\\n",
       "0     A Central Bank War Just Started And Its Good F...               False   \n",
       "1            6 Stocks To Watch  Nivida Could Be Falling               False   \n",
       "2     Stocks   Dow Drops Nearly 400 Points as Apple ...               False   \n",
       "3     The Zacks Analyst Blog Highlights  Advanced Mi...                True   \n",
       "4                        The Best Of CES 2020  Revised                False   \n",
       "...                                                 ...                 ...   \n",
       "3436    Here s Why Nvidia  NVDA  Stock Is Gaining Today                True   \n",
       "3437      4 Stocks To Watch Today  ATW  CWEI  MXL  SLCA               False   \n",
       "3438  Here s What The Buy Side Expects From AMD Thur...               False   \n",
       "3439  Zacks com Featured Highlights  AT T  Nu Skin E...                True   \n",
       "3440  5 Dividend Growth Stocks To Sail Through Uncer...               False   \n",
       "\n",
       "     category                                            content  \\\n",
       "0     opinion  ECB Effects\\nThe move in the euro was huge  fa...   \n",
       "1     opinion  6 Stocks To Watch  March 6 Trading Session\\nSt...   \n",
       "2        news  Investing com   A rout in Apple and Facebook  ...   \n",
       "3     opinion  For Immediate ReleaseChicago  IL   January 13 ...   \n",
       "4     opinion  With 4 500 companies bringing their innovation...   \n",
       "...       ...                                                ...   \n",
       "3436  opinion  Shares of Nvidia   NASDAQ NVDA   are up nearly...   \n",
       "3437  opinion  It was a pretty good start to the week on Mond...   \n",
       "3438  opinion  Advanced Micro Devices Inc   NYSE AMD  is set ...   \n",
       "3439  opinion  For Immediate Release\\n\\nChicago  IL   July 22...   \n",
       "3440  opinion  With uncertainty ruling the markets since the ...   \n",
       "\n",
       "      content_NVIDIA_topic release_date                   provider  \\\n",
       "0                     True   2019-03-07             Michael Kramer   \n",
       "1                     True   2019-03-06             Michael Kramer   \n",
       "2                     True   2018-11-19              Investing.com   \n",
       "3                     True   2020-01-12  Zacks Investment Research   \n",
       "4                     True   2020-01-16  Zacks Investment Research   \n",
       "...                    ...          ...                        ...   \n",
       "3436                  True   2016-09-27  Zacks Investment Research   \n",
       "3437                  True   2016-05-17                Harry Boxer   \n",
       "3438                  True   2014-04-17                   Estimize   \n",
       "3439                  True   2016-07-21  Zacks Investment Research   \n",
       "3440                  True   2016-07-20  Zacks Investment Research   \n",
       "\n",
       "                                                    url  article_id  \\\n",
       "0     https://www.investing.com/analysis/a-central-b...   200395687   \n",
       "1     https://www.investing.com/analysis/6-stocks-to...   200394931   \n",
       "2     https://www.investing.com/news/stock-market-ne...     1694042   \n",
       "3     https://www.investing.com/analysis/the-zacks-a...   200498277   \n",
       "4     https://www.investing.com/analysis/the-best-of...   200499164   \n",
       "...                                                 ...         ...   \n",
       "3436  https://www.investing.com/analysis/here's-why-...   200155860   \n",
       "3437  https://www.investing.com/analysis/atw,-cwei,-...   200130262   \n",
       "3438  https://www.investing.com/analysis/here’s-what...      209915   \n",
       "3439  https://www.investing.com/analysis/zacks.com-f...   200143537   \n",
       "3440  https://www.investing.com/analysis/5-dividend-...   200143306   \n",
       "\n",
       "     NVIDIA_stock_increase  \n",
       "0                        0  \n",
       "1                        0  \n",
       "2                        0  \n",
       "3                        0  \n",
       "4                        1  \n",
       "...                    ...  \n",
       "3436                     1  \n",
       "3437                     1  \n",
       "3438                     1  \n",
       "3439                     0  \n",
       "3440                     1  \n",
       "\n",
       "[3441 rows x 13 columns]"
      ],
      "text/html": [
       "<div>\n",
       "<style scoped>\n",
       "    .dataframe tbody tr th:only-of-type {\n",
       "        vertical-align: middle;\n",
       "    }\n",
       "\n",
       "    .dataframe tbody tr th {\n",
       "        vertical-align: top;\n",
       "    }\n",
       "\n",
       "    .dataframe thead th {\n",
       "        text-align: right;\n",
       "    }\n",
       "</style>\n",
       "<table border=\"1\" class=\"dataframe\">\n",
       "  <thead>\n",
       "    <tr style=\"text-align: right;\">\n",
       "      <th></th>\n",
       "      <th>id</th>\n",
       "      <th>ticker</th>\n",
       "      <th>ticker_NVDA_improved</th>\n",
       "      <th>title</th>\n",
       "      <th>title_NVIDIA_topic</th>\n",
       "      <th>category</th>\n",
       "      <th>content</th>\n",
       "      <th>content_NVIDIA_topic</th>\n",
       "      <th>release_date</th>\n",
       "      <th>provider</th>\n",
       "      <th>url</th>\n",
       "      <th>article_id</th>\n",
       "      <th>NVIDIA_stock_increase</th>\n",
       "    </tr>\n",
       "  </thead>\n",
       "  <tbody>\n",
       "    <tr>\n",
       "      <th>0</th>\n",
       "      <td>221539</td>\n",
       "      <td>NIO</td>\n",
       "      <td>True</td>\n",
       "      <td>A Central Bank War Just Started And Its Good F...</td>\n",
       "      <td>False</td>\n",
       "      <td>opinion</td>\n",
       "      <td>ECB Effects\\nThe move in the euro was huge  fa...</td>\n",
       "      <td>True</td>\n",
       "      <td>2019-03-07</td>\n",
       "      <td>Michael Kramer</td>\n",
       "      <td>https://www.investing.com/analysis/a-central-b...</td>\n",
       "      <td>200395687</td>\n",
       "      <td>0</td>\n",
       "    </tr>\n",
       "    <tr>\n",
       "      <th>1</th>\n",
       "      <td>221547</td>\n",
       "      <td>NIO</td>\n",
       "      <td>True</td>\n",
       "      <td>6 Stocks To Watch  Nivida Could Be Falling</td>\n",
       "      <td>False</td>\n",
       "      <td>opinion</td>\n",
       "      <td>6 Stocks To Watch  March 6 Trading Session\\nSt...</td>\n",
       "      <td>True</td>\n",
       "      <td>2019-03-06</td>\n",
       "      <td>Michael Kramer</td>\n",
       "      <td>https://www.investing.com/analysis/6-stocks-to...</td>\n",
       "      <td>200394931</td>\n",
       "      <td>0</td>\n",
       "    </tr>\n",
       "    <tr>\n",
       "      <th>2</th>\n",
       "      <td>221572</td>\n",
       "      <td>NIO</td>\n",
       "      <td>True</td>\n",
       "      <td>Stocks   Dow Drops Nearly 400 Points as Apple ...</td>\n",
       "      <td>False</td>\n",
       "      <td>news</td>\n",
       "      <td>Investing com   A rout in Apple and Facebook  ...</td>\n",
       "      <td>True</td>\n",
       "      <td>2018-11-19</td>\n",
       "      <td>Investing.com</td>\n",
       "      <td>https://www.investing.com/news/stock-market-ne...</td>\n",
       "      <td>1694042</td>\n",
       "      <td>0</td>\n",
       "    </tr>\n",
       "    <tr>\n",
       "      <th>3</th>\n",
       "      <td>221593</td>\n",
       "      <td>UBER</td>\n",
       "      <td>True</td>\n",
       "      <td>The Zacks Analyst Blog Highlights  Advanced Mi...</td>\n",
       "      <td>True</td>\n",
       "      <td>opinion</td>\n",
       "      <td>For Immediate ReleaseChicago  IL   January 13 ...</td>\n",
       "      <td>True</td>\n",
       "      <td>2020-01-12</td>\n",
       "      <td>Zacks Investment Research</td>\n",
       "      <td>https://www.investing.com/analysis/the-zacks-a...</td>\n",
       "      <td>200498277</td>\n",
       "      <td>0</td>\n",
       "    </tr>\n",
       "    <tr>\n",
       "      <th>4</th>\n",
       "      <td>221597</td>\n",
       "      <td>UBER</td>\n",
       "      <td>True</td>\n",
       "      <td>The Best Of CES 2020  Revised</td>\n",
       "      <td>False</td>\n",
       "      <td>opinion</td>\n",
       "      <td>With 4 500 companies bringing their innovation...</td>\n",
       "      <td>True</td>\n",
       "      <td>2020-01-16</td>\n",
       "      <td>Zacks Investment Research</td>\n",
       "      <td>https://www.investing.com/analysis/the-best-of...</td>\n",
       "      <td>200499164</td>\n",
       "      <td>1</td>\n",
       "    </tr>\n",
       "    <tr>\n",
       "      <th>...</th>\n",
       "      <td>...</td>\n",
       "      <td>...</td>\n",
       "      <td>...</td>\n",
       "      <td>...</td>\n",
       "      <td>...</td>\n",
       "      <td>...</td>\n",
       "      <td>...</td>\n",
       "      <td>...</td>\n",
       "      <td>...</td>\n",
       "      <td>...</td>\n",
       "      <td>...</td>\n",
       "      <td>...</td>\n",
       "      <td>...</td>\n",
       "    </tr>\n",
       "    <tr>\n",
       "      <th>3436</th>\n",
       "      <td>442657</td>\n",
       "      <td>AMD</td>\n",
       "      <td>True</td>\n",
       "      <td>Here s Why Nvidia  NVDA  Stock Is Gaining Today</td>\n",
       "      <td>True</td>\n",
       "      <td>opinion</td>\n",
       "      <td>Shares of Nvidia   NASDAQ NVDA   are up nearly...</td>\n",
       "      <td>True</td>\n",
       "      <td>2016-09-27</td>\n",
       "      <td>Zacks Investment Research</td>\n",
       "      <td>https://www.investing.com/analysis/here's-why-...</td>\n",
       "      <td>200155860</td>\n",
       "      <td>1</td>\n",
       "    </tr>\n",
       "    <tr>\n",
       "      <th>3437</th>\n",
       "      <td>442682</td>\n",
       "      <td>AMD</td>\n",
       "      <td>True</td>\n",
       "      <td>4 Stocks To Watch Today  ATW  CWEI  MXL  SLCA</td>\n",
       "      <td>False</td>\n",
       "      <td>opinion</td>\n",
       "      <td>It was a pretty good start to the week on Mond...</td>\n",
       "      <td>True</td>\n",
       "      <td>2016-05-17</td>\n",
       "      <td>Harry Boxer</td>\n",
       "      <td>https://www.investing.com/analysis/atw,-cwei,-...</td>\n",
       "      <td>200130262</td>\n",
       "      <td>1</td>\n",
       "    </tr>\n",
       "    <tr>\n",
       "      <th>3438</th>\n",
       "      <td>442705</td>\n",
       "      <td>AMD</td>\n",
       "      <td>True</td>\n",
       "      <td>Here s What The Buy Side Expects From AMD Thur...</td>\n",
       "      <td>False</td>\n",
       "      <td>opinion</td>\n",
       "      <td>Advanced Micro Devices Inc   NYSE AMD  is set ...</td>\n",
       "      <td>True</td>\n",
       "      <td>2014-04-17</td>\n",
       "      <td>Estimize</td>\n",
       "      <td>https://www.investing.com/analysis/here’s-what...</td>\n",
       "      <td>209915</td>\n",
       "      <td>1</td>\n",
       "    </tr>\n",
       "    <tr>\n",
       "      <th>3439</th>\n",
       "      <td>442984</td>\n",
       "      <td>T</td>\n",
       "      <td>True</td>\n",
       "      <td>Zacks com Featured Highlights  AT T  Nu Skin E...</td>\n",
       "      <td>True</td>\n",
       "      <td>opinion</td>\n",
       "      <td>For Immediate Release\\n\\nChicago  IL   July 22...</td>\n",
       "      <td>True</td>\n",
       "      <td>2016-07-21</td>\n",
       "      <td>Zacks Investment Research</td>\n",
       "      <td>https://www.investing.com/analysis/zacks.com-f...</td>\n",
       "      <td>200143537</td>\n",
       "      <td>0</td>\n",
       "    </tr>\n",
       "    <tr>\n",
       "      <th>3440</th>\n",
       "      <td>442987</td>\n",
       "      <td>T</td>\n",
       "      <td>True</td>\n",
       "      <td>5 Dividend Growth Stocks To Sail Through Uncer...</td>\n",
       "      <td>False</td>\n",
       "      <td>opinion</td>\n",
       "      <td>With uncertainty ruling the markets since the ...</td>\n",
       "      <td>True</td>\n",
       "      <td>2016-07-20</td>\n",
       "      <td>Zacks Investment Research</td>\n",
       "      <td>https://www.investing.com/analysis/5-dividend-...</td>\n",
       "      <td>200143306</td>\n",
       "      <td>1</td>\n",
       "    </tr>\n",
       "  </tbody>\n",
       "</table>\n",
       "<p>3441 rows × 13 columns</p>\n",
       "</div>"
      ]
     },
     "execution_count": 2,
     "metadata": {},
     "output_type": "execute_result"
    }
   ],
   "execution_count": 2
  },
  {
   "metadata": {
    "ExecuteTime": {
     "end_time": "2024-11-05T22:33:57.491753Z",
     "start_time": "2024-11-05T22:33:57.482372Z"
    }
   },
   "cell_type": "code",
   "source": [
    "def get_standard_bertopic(model_setting_index=0, customer_model_settings = None):\n",
    "    \"\"\"\n",
    "    each of the steps in bertopic are assigned using the model settings, in the future this can be replaced with a grid search system to evaluate different model settings, but this is the most basic version with standard parameters. each of the model settings is in a list\n",
    "    :param model_setting_index: defines which of the hyperparamter settings to pick\n",
    "    :return: \n",
    "    \"\"\"\n",
    "    model_settings = [{\n",
    "        \"language\": \"english\",\n",
    "        \"nr_topics\": None,\n",
    "        \"document_embedding\": SentenceTransformer(\"all-MiniLM-L6-v2\"),\n",
    "        \"reduce_dimensionality\": UMAP(),\n",
    "        \"clustering\": HDBSCAN(),\n",
    "        \"topic_tokenization\": CountVectorizer(stop_words=\"english\"),\n",
    "        \"topic_representation\": ClassTfidfTransformer(),\n",
    "        \"representation_model\": KeyBERTInspired()\n",
    "    },\n",
    "    {\n",
    "        \"language\": \"english\",\n",
    "        \"nr_topics\": 25,\n",
    "        \"document_embedding\": SentenceTransformer(\"all-MiniLM-L6-v2\"),\n",
    "        \"reduce_dimensionality\": UMAP(),\n",
    "        \"clustering\": HDBSCAN(),\n",
    "        \"topic_tokenization\": CountVectorizer(stop_words=\"english\"),\n",
    "        \"topic_representation\": ClassTfidfTransformer(),\n",
    "        \"representation_model\": KeyBERTInspired()\n",
    "    },\n",
    "    {\n",
    "        \"language\": \"english\",\n",
    "        \"nr_topics\": 25,\n",
    "        \"document_embedding\": SentenceTransformer(\"all-MiniLM-L6-v2\"),\n",
    "        \"reduce_dimensionality\": UMAP(),\n",
    "        \"clustering\": HDBSCAN(min_cluster_size=15),\n",
    "        \"topic_tokenization\": CountVectorizer(stop_words=\"english\"),\n",
    "        \"topic_representation\": ClassTfidfTransformer(),\n",
    "        \"representation_model\": KeyBERTInspired()\n",
    "    },\n",
    "    {\n",
    "        \"language\": \"english\",\n",
    "        \"nr_topics\": \"auto\",\n",
    "        \"document_embedding\": SentenceTransformer(\"all-MiniLM-L6-v2\"),\n",
    "        \"reduce_dimensionality\": UMAP(min_dist=0.05, spread=0.5),\n",
    "        \"clustering\": HDBSCAN(min_cluster_size=15),\n",
    "        \"topic_tokenization\": CountVectorizer(stop_words=\"english\"),\n",
    "        \"topic_representation\": ClassTfidfTransformer(),\n",
    "        \"representation_model\": KeyBERTInspired()\n",
    "    }\n",
    "    ]\n",
    "    \n",
    "    if customer_model_settings is not None:\n",
    "        for key in model_settings[0].keys():\n",
    "            if key not in customer_model_settings.keys():\n",
    "                raise Exception(f\"Missing key: {key}\")\n",
    "            \n",
    "            \n",
    "    # Step 1 - Extract embeddings\n",
    "    embedding_model = model_settings[model_setting_index][\"document_embedding\"]\n",
    "    \n",
    "    # Step 2 - Reduce dimensionality\n",
    "    umap_model = model_settings[model_setting_index][\"reduce_dimensionality\"]\n",
    "\n",
    "    # Step 3 - Cluster reduced embeddings\n",
    "    hdbscan_model = model_settings[model_setting_index][\"clustering\"]\n",
    "\n",
    "    # Step 4 - Tokenize topics\n",
    "    vectorizer_model = model_settings[model_setting_index][\"topic_tokenization\"]\n",
    "\n",
    "    # Step 5 - Create topic representation\n",
    "    ctfidf_model = model_settings[model_setting_index][\"topic_representation\"]\n",
    "\n",
    "    # Step 6 - (Optional) Fine-tune topic representations with\n",
    "    # a `bertopic.representation` model\n",
    "    representation_model = model_settings[model_setting_index][\"representation_model\"]\n",
    "    \n",
    "    language = model_settings[model_setting_index][\"language\"]\n",
    "\n",
    "    # All steps together\n",
    "    topic_model = BERTopic(\n",
    "        language=language,\n",
    "        nr_topics=model_settings[model_setting_index][\"nr_topics\"],\n",
    "        embedding_model=embedding_model,          # Step 1 - Extract embeddings\n",
    "        umap_model=umap_model,                    # Step 2 - Reduce dimensionality\n",
    "        hdbscan_model=hdbscan_model,              # Step 3 - Cluster reduced embeddings\n",
    "        vectorizer_model=vectorizer_model,        # Step 4 - Tokenize topics\n",
    "        ctfidf_model=ctfidf_model,                # Step 5 - Extract topic words\n",
    "        representation_model=representation_model # Step 6 - (Optional) Fine-tune topic represenations\n",
    "    )\n",
    "    return topic_model\n",
    "\n",
    "def train_bertopic_model(documents, model_setting_index=0, customer_model_settings = None):\n",
    "    \"\"\"\n",
    "    trains the bertopic model from the documents that are given as a parameter\n",
    "    :param documents: an array of documents to get topics made of\n",
    "    :param model_setting_index: specifies which batch of hyperparameters to pick that define bertopic. Standard = 0\n",
    "    :return: \n",
    "    \"\"\"\n",
    "    topic_model = get_standard_bertopic(model_setting_index=model_setting_index, \n",
    "                                        customer_model_settings=customer_model_settings)\n",
    "    topics, props = topic_model.fit_transform(documents)\n",
    "    return topic_model, topics, props\n",
    "    \n",
    "def get_topics_that_relate_to_nvidia(topic_model):\n",
    "    \"\"\"\n",
    "    this function finds the topics that relate most to the input words given which is NVIDIA\n",
    "    :param topic_model: \n",
    "    :return: \n",
    "    \"\"\"\n",
    "    similar_topics, similarities = topic_model.find_topics(\"NVIDIA\", top_n=3)\n",
    "    for topic_nr, similarity in zip(similar_topics, similarities):\n",
    "        print(f\"topic_nr: {topic_nr} | similarity to NVIDIA: {similarity}\")\n",
    "        print(f\"words with similarities for topic:\")\n",
    "        print(topic_model.get_topic(topic_nr))\n",
    "        \n",
    "\n",
    "def get_coherence(df, _topic_model, _topics_numbers):\n",
    "    # add the new topic numbers to the \"topic\" column\n",
    "    df['topic'] = _topics_numbers\n",
    "    documents_per_topic = df.groupby(['topic'], as_index=False).agg({'content': ' '.join})\n",
    "    cleaned_docs = _topic_model._preprocess_text(documents_per_topic.content.values)\n",
    "    \n",
    "    # Extract vectorizer and analyzer from BERTopic\n",
    "    vectorizer = _topic_model.vectorizer_model\n",
    "    analyzer = vectorizer.build_analyzer()\n",
    "    \n",
    "    \n",
    "    # Extract features for Topic Coherence evaluation\n",
    "    #words = vectorizer.get_feature_names()\n",
    "    tokens = [analyzer(doc) for doc in cleaned_docs]\n",
    "    dictionary = corpora.Dictionary(tokens)\n",
    "    corpus = [dictionary.doc2bow(token) for token in tokens]\n",
    "    topic_words = [[words for words, _ in _topic_model.get_topic(topic)] \n",
    "                   for topic in range(len(set(df[\"topic\"]))-1)]\n",
    "    \n",
    "    # Evaluate\n",
    "    coherence_model = CoherenceModel(topics=topic_words, \n",
    "                                     texts=tokens, \n",
    "                                     corpus=corpus,\n",
    "                                     dictionary=dictionary, \n",
    "                                     coherence='c_v')\n",
    "    coherence = coherence_model.get_coherence()\n",
    "    return coherence\n",
    "\n",
    "def get_topic_diversity(topic_model):\n",
    "    unique_words = set()\n",
    "    total_words = 0\n",
    "    \n",
    "    for topic_nr, topic_similarity_word_list in topic_model.topic_representations_.items():\n",
    "        # the first topic is not a topic, these are the outlier documents, so we should disregard these\n",
    "        if topic_nr == -1:\n",
    "            continue\n",
    "        for topic_word, similarity in topic_similarity_word_list:\n",
    "            \n",
    "            total_words += 1\n",
    "            unique_words.add(topic_word)\n",
    "            \n",
    "    topic_diversity = len(unique_words)/total_words\n",
    "    return topic_diversity\n",
    "\n",
    "\n",
    "def show_bertopic_evaluations(custom_bert_params, iteration=0):\n",
    "    print(\"iteration = \", iteration)\n",
    "    _topic_model_content, _topics_numbers, _probs_numbers = train_bertopic_model(df_news[\"content\"],\n",
    "                                                                                 model_setting_index=-1,\n",
    "                                                                                 customer_model_settings=custom_bert_params)\n",
    "    print(\"total number of topics = \", len(_topic_model_content.get_topic_info()))\n",
    "    print(\"documents without a topic = \", _topic_model_content.get_topic_info(-1)[\"Count\"].values[0])\n",
    "    #print(\"topic diversity = \", get_topic_diversity(_topic_model_content))\n",
    "    #print(\"topic coherence = \", get_coherence(df_news, _topic_model_content, _topics_numbers))\n",
    "    _topic_model_content.visualize_topics().write_image(f'plots/intertopic_{iteration}.jpg')\n",
    "    _topic_model_content.visualize_barchart(top_n_topics=60, n_words=20).write_image(f\"plots/topicbar_{iteration}.jpg\")\n",
    "    return _topic_model_content, _topics_numbers, _probs_numbers\n"
   ],
   "id": "492c0a42730afa1b",
   "outputs": [],
   "execution_count": 10
  },
  {
   "metadata": {
    "ExecuteTime": {
     "end_time": "2024-11-05T22:24:04.633075Z",
     "start_time": "2024-11-05T22:23:04.176870Z"
    }
   },
   "cell_type": "code",
   "source": [
    "import kaleido\n",
    "\n",
    "custom_bert_parameters = {\n",
    "    \"language\": \"english\",\n",
    "    \"nr_topics\": \"auto\",\n",
    "    \"document_embedding\": SentenceTransformer(\"all-MiniLM-L6-v2\"),\n",
    "    \"reduce_dimensionality\": UMAP(min_dist=0.05, n_neighbors=15, spread=0.6 ),\n",
    "    \"clustering\": HDBSCAN(min_cluster_size=15),\n",
    "    \"topic_tokenization\": CountVectorizer(stop_words=\"english\"),\n",
    "    \"topic_representation\": ClassTfidfTransformer(reduce_frequent_words=True),\n",
    "    \"representation_model\": KeyBERTInspired()\n",
    "}\n",
    "show_bertopic_evaluations(custom_bert_parameters)"
   ],
   "id": "9ffe07c258a9d34b",
   "outputs": [
    {
     "name": "stderr",
     "output_type": "stream",
     "text": [
      "OMP: Info #276: omp_set_nested routine deprecated, please use omp_set_max_active_levels instead.\n"
     ]
    },
    {
     "name": "stdout",
     "output_type": "stream",
     "text": [
      "total number of topics =  46\n",
      "documents without a topic =  1017\n",
      "topic diversity =  0.43777777777777777\n",
      "topic coherence =  0.5334540744410476\n"
     ]
    },
    {
     "data": {
      "text/plain": [
       "(<bertopic._bertopic.BERTopic at 0x3054d5580>,\n",
       " [19,\n",
       "  -1,\n",
       "  -1,\n",
       "  41,\n",
       "  41,\n",
       "  41,\n",
       "  -1,\n",
       "  3,\n",
       "  3,\n",
       "  0,\n",
       "  5,\n",
       "  -1,\n",
       "  44,\n",
       "  3,\n",
       "  29,\n",
       "  -1,\n",
       "  -1,\n",
       "  3,\n",
       "  -1,\n",
       "  34,\n",
       "  3,\n",
       "  3,\n",
       "  3,\n",
       "  -1,\n",
       "  -1,\n",
       "  -1,\n",
       "  5,\n",
       "  8,\n",
       "  30,\n",
       "  3,\n",
       "  -1,\n",
       "  3,\n",
       "  29,\n",
       "  -1,\n",
       "  -1,\n",
       "  3,\n",
       "  -1,\n",
       "  -1,\n",
       "  38,\n",
       "  -1,\n",
       "  -1,\n",
       "  -1,\n",
       "  -1,\n",
       "  4,\n",
       "  -1,\n",
       "  -1,\n",
       "  3,\n",
       "  30,\n",
       "  4,\n",
       "  12,\n",
       "  -1,\n",
       "  3,\n",
       "  12,\n",
       "  12,\n",
       "  0,\n",
       "  12,\n",
       "  12,\n",
       "  20,\n",
       "  2,\n",
       "  2,\n",
       "  2,\n",
       "  -1,\n",
       "  12,\n",
       "  12,\n",
       "  11,\n",
       "  12,\n",
       "  12,\n",
       "  28,\n",
       "  31,\n",
       "  -1,\n",
       "  20,\n",
       "  -1,\n",
       "  -1,\n",
       "  2,\n",
       "  13,\n",
       "  -1,\n",
       "  31,\n",
       "  31,\n",
       "  12,\n",
       "  31,\n",
       "  18,\n",
       "  37,\n",
       "  -1,\n",
       "  -1,\n",
       "  -1,\n",
       "  19,\n",
       "  4,\n",
       "  -1,\n",
       "  -1,\n",
       "  -1,\n",
       "  29,\n",
       "  -1,\n",
       "  41,\n",
       "  17,\n",
       "  31,\n",
       "  4,\n",
       "  -1,\n",
       "  8,\n",
       "  -1,\n",
       "  12,\n",
       "  31,\n",
       "  -1,\n",
       "  31,\n",
       "  1,\n",
       "  -1,\n",
       "  18,\n",
       "  -1,\n",
       "  23,\n",
       "  1,\n",
       "  -1,\n",
       "  17,\n",
       "  18,\n",
       "  10,\n",
       "  15,\n",
       "  -1,\n",
       "  1,\n",
       "  23,\n",
       "  -1,\n",
       "  23,\n",
       "  23,\n",
       "  -1,\n",
       "  23,\n",
       "  1,\n",
       "  23,\n",
       "  18,\n",
       "  23,\n",
       "  -1,\n",
       "  23,\n",
       "  23,\n",
       "  10,\n",
       "  11,\n",
       "  23,\n",
       "  37,\n",
       "  -1,\n",
       "  -1,\n",
       "  -1,\n",
       "  1,\n",
       "  -1,\n",
       "  3,\n",
       "  -1,\n",
       "  15,\n",
       "  -1,\n",
       "  19,\n",
       "  38,\n",
       "  31,\n",
       "  -1,\n",
       "  -1,\n",
       "  5,\n",
       "  1,\n",
       "  18,\n",
       "  1,\n",
       "  37,\n",
       "  1,\n",
       "  1,\n",
       "  42,\n",
       "  12,\n",
       "  -1,\n",
       "  40,\n",
       "  40,\n",
       "  1,\n",
       "  1,\n",
       "  31,\n",
       "  -1,\n",
       "  0,\n",
       "  33,\n",
       "  33,\n",
       "  33,\n",
       "  33,\n",
       "  3,\n",
       "  33,\n",
       "  -1,\n",
       "  33,\n",
       "  33,\n",
       "  33,\n",
       "  21,\n",
       "  8,\n",
       "  -1,\n",
       "  -1,\n",
       "  -1,\n",
       "  -1,\n",
       "  8,\n",
       "  11,\n",
       "  26,\n",
       "  -1,\n",
       "  -1,\n",
       "  -1,\n",
       "  -1,\n",
       "  -1,\n",
       "  4,\n",
       "  -1,\n",
       "  2,\n",
       "  8,\n",
       "  -1,\n",
       "  -1,\n",
       "  13,\n",
       "  13,\n",
       "  13,\n",
       "  -1,\n",
       "  33,\n",
       "  -1,\n",
       "  -1,\n",
       "  0,\n",
       "  -1,\n",
       "  -1,\n",
       "  -1,\n",
       "  -1,\n",
       "  9,\n",
       "  -1,\n",
       "  -1,\n",
       "  4,\n",
       "  -1,\n",
       "  12,\n",
       "  29,\n",
       "  -1,\n",
       "  13,\n",
       "  13,\n",
       "  13,\n",
       "  13,\n",
       "  38,\n",
       "  10,\n",
       "  -1,\n",
       "  5,\n",
       "  -1,\n",
       "  -1,\n",
       "  0,\n",
       "  17,\n",
       "  20,\n",
       "  29,\n",
       "  -1,\n",
       "  -1,\n",
       "  19,\n",
       "  -1,\n",
       "  -1,\n",
       "  35,\n",
       "  14,\n",
       "  -1,\n",
       "  8,\n",
       "  8,\n",
       "  11,\n",
       "  0,\n",
       "  -1,\n",
       "  13,\n",
       "  -1,\n",
       "  5,\n",
       "  13,\n",
       "  5,\n",
       "  -1,\n",
       "  -1,\n",
       "  -1,\n",
       "  -1,\n",
       "  -1,\n",
       "  12,\n",
       "  21,\n",
       "  9,\n",
       "  -1,\n",
       "  -1,\n",
       "  5,\n",
       "  -1,\n",
       "  -1,\n",
       "  5,\n",
       "  26,\n",
       "  -1,\n",
       "  13,\n",
       "  -1,\n",
       "  16,\n",
       "  16,\n",
       "  35,\n",
       "  -1,\n",
       "  -1,\n",
       "  13,\n",
       "  0,\n",
       "  11,\n",
       "  -1,\n",
       "  11,\n",
       "  -1,\n",
       "  -1,\n",
       "  17,\n",
       "  10,\n",
       "  5,\n",
       "  15,\n",
       "  28,\n",
       "  28,\n",
       "  5,\n",
       "  13,\n",
       "  13,\n",
       "  2,\n",
       "  -1,\n",
       "  29,\n",
       "  28,\n",
       "  -1,\n",
       "  16,\n",
       "  16,\n",
       "  9,\n",
       "  44,\n",
       "  28,\n",
       "  27,\n",
       "  3,\n",
       "  28,\n",
       "  28,\n",
       "  16,\n",
       "  27,\n",
       "  26,\n",
       "  35,\n",
       "  27,\n",
       "  -1,\n",
       "  13,\n",
       "  29,\n",
       "  -1,\n",
       "  29,\n",
       "  -1,\n",
       "  24,\n",
       "  26,\n",
       "  13,\n",
       "  -1,\n",
       "  0,\n",
       "  0,\n",
       "  20,\n",
       "  13,\n",
       "  13,\n",
       "  5,\n",
       "  14,\n",
       "  -1,\n",
       "  0,\n",
       "  -1,\n",
       "  -1,\n",
       "  5,\n",
       "  -1,\n",
       "  15,\n",
       "  5,\n",
       "  2,\n",
       "  -1,\n",
       "  8,\n",
       "  28,\n",
       "  28,\n",
       "  38,\n",
       "  -1,\n",
       "  -1,\n",
       "  8,\n",
       "  16,\n",
       "  -1,\n",
       "  0,\n",
       "  -1,\n",
       "  28,\n",
       "  38,\n",
       "  -1,\n",
       "  16,\n",
       "  -1,\n",
       "  29,\n",
       "  29,\n",
       "  5,\n",
       "  -1,\n",
       "  -1,\n",
       "  5,\n",
       "  -1,\n",
       "  16,\n",
       "  -1,\n",
       "  16,\n",
       "  12,\n",
       "  -1,\n",
       "  16,\n",
       "  18,\n",
       "  16,\n",
       "  13,\n",
       "  3,\n",
       "  13,\n",
       "  13,\n",
       "  -1,\n",
       "  -1,\n",
       "  -1,\n",
       "  13,\n",
       "  18,\n",
       "  -1,\n",
       "  13,\n",
       "  10,\n",
       "  13,\n",
       "  10,\n",
       "  12,\n",
       "  13,\n",
       "  -1,\n",
       "  -1,\n",
       "  29,\n",
       "  -1,\n",
       "  17,\n",
       "  29,\n",
       "  29,\n",
       "  -1,\n",
       "  5,\n",
       "  13,\n",
       "  0,\n",
       "  -1,\n",
       "  -1,\n",
       "  13,\n",
       "  0,\n",
       "  -1,\n",
       "  20,\n",
       "  5,\n",
       "  28,\n",
       "  16,\n",
       "  16,\n",
       "  0,\n",
       "  28,\n",
       "  2,\n",
       "  -1,\n",
       "  5,\n",
       "  16,\n",
       "  2,\n",
       "  29,\n",
       "  -1,\n",
       "  -1,\n",
       "  -1,\n",
       "  16,\n",
       "  -1,\n",
       "  -1,\n",
       "  31,\n",
       "  -1,\n",
       "  -1,\n",
       "  21,\n",
       "  16,\n",
       "  5,\n",
       "  -1,\n",
       "  0,\n",
       "  2,\n",
       "  34,\n",
       "  34,\n",
       "  -1,\n",
       "  29,\n",
       "  16,\n",
       "  21,\n",
       "  -1,\n",
       "  27,\n",
       "  5,\n",
       "  13,\n",
       "  16,\n",
       "  -1,\n",
       "  14,\n",
       "  -1,\n",
       "  -1,\n",
       "  -1,\n",
       "  0,\n",
       "  19,\n",
       "  -1,\n",
       "  -1,\n",
       "  -1,\n",
       "  -1,\n",
       "  12,\n",
       "  -1,\n",
       "  3,\n",
       "  16,\n",
       "  20,\n",
       "  3,\n",
       "  16,\n",
       "  0,\n",
       "  16,\n",
       "  10,\n",
       "  -1,\n",
       "  13,\n",
       "  2,\n",
       "  -1,\n",
       "  29,\n",
       "  -1,\n",
       "  0,\n",
       "  16,\n",
       "  27,\n",
       "  16,\n",
       "  10,\n",
       "  16,\n",
       "  38,\n",
       "  10,\n",
       "  10,\n",
       "  2,\n",
       "  -1,\n",
       "  0,\n",
       "  -1,\n",
       "  0,\n",
       "  30,\n",
       "  -1,\n",
       "  38,\n",
       "  4,\n",
       "  19,\n",
       "  2,\n",
       "  20,\n",
       "  5,\n",
       "  -1,\n",
       "  -1,\n",
       "  13,\n",
       "  4,\n",
       "  13,\n",
       "  29,\n",
       "  13,\n",
       "  13,\n",
       "  2,\n",
       "  0,\n",
       "  13,\n",
       "  17,\n",
       "  -1,\n",
       "  0,\n",
       "  0,\n",
       "  12,\n",
       "  -1,\n",
       "  16,\n",
       "  1,\n",
       "  -1,\n",
       "  -1,\n",
       "  -1,\n",
       "  13,\n",
       "  2,\n",
       "  -1,\n",
       "  -1,\n",
       "  12,\n",
       "  -1,\n",
       "  41,\n",
       "  1,\n",
       "  34,\n",
       "  1,\n",
       "  1,\n",
       "  1,\n",
       "  1,\n",
       "  32,\n",
       "  23,\n",
       "  13,\n",
       "  -1,\n",
       "  -1,\n",
       "  -1,\n",
       "  33,\n",
       "  -1,\n",
       "  -1,\n",
       "  1,\n",
       "  -1,\n",
       "  1,\n",
       "  -1,\n",
       "  23,\n",
       "  4,\n",
       "  -1,\n",
       "  34,\n",
       "  -1,\n",
       "  -1,\n",
       "  16,\n",
       "  27,\n",
       "  16,\n",
       "  4,\n",
       "  27,\n",
       "  2,\n",
       "  -1,\n",
       "  13,\n",
       "  16,\n",
       "  27,\n",
       "  27,\n",
       "  11,\n",
       "  -1,\n",
       "  29,\n",
       "  10,\n",
       "  11,\n",
       "  -1,\n",
       "  0,\n",
       "  13,\n",
       "  -1,\n",
       "  17,\n",
       "  2,\n",
       "  -1,\n",
       "  -1,\n",
       "  10,\n",
       "  4,\n",
       "  -1,\n",
       "  -1,\n",
       "  0,\n",
       "  39,\n",
       "  -1,\n",
       "  8,\n",
       "  14,\n",
       "  4,\n",
       "  17,\n",
       "  -1,\n",
       "  20,\n",
       "  -1,\n",
       "  -1,\n",
       "  -1,\n",
       "  39,\n",
       "  2,\n",
       "  24,\n",
       "  12,\n",
       "  -1,\n",
       "  -1,\n",
       "  1,\n",
       "  23,\n",
       "  -1,\n",
       "  -1,\n",
       "  -1,\n",
       "  11,\n",
       "  4,\n",
       "  -1,\n",
       "  -1,\n",
       "  11,\n",
       "  10,\n",
       "  -1,\n",
       "  12,\n",
       "  14,\n",
       "  -1,\n",
       "  16,\n",
       "  -1,\n",
       "  3,\n",
       "  16,\n",
       "  12,\n",
       "  17,\n",
       "  12,\n",
       "  14,\n",
       "  13,\n",
       "  30,\n",
       "  10,\n",
       "  9,\n",
       "  4,\n",
       "  31,\n",
       "  0,\n",
       "  16,\n",
       "  -1,\n",
       "  12,\n",
       "  0,\n",
       "  19,\n",
       "  -1,\n",
       "  4,\n",
       "  4,\n",
       "  1,\n",
       "  -1,\n",
       "  -1,\n",
       "  -1,\n",
       "  -1,\n",
       "  -1,\n",
       "  -1,\n",
       "  4,\n",
       "  1,\n",
       "  -1,\n",
       "  13,\n",
       "  -1,\n",
       "  25,\n",
       "  -1,\n",
       "  -1,\n",
       "  -1,\n",
       "  37,\n",
       "  18,\n",
       "  30,\n",
       "  2,\n",
       "  37,\n",
       "  25,\n",
       "  -1,\n",
       "  1,\n",
       "  1,\n",
       "  -1,\n",
       "  3,\n",
       "  -1,\n",
       "  -1,\n",
       "  -1,\n",
       "  15,\n",
       "  1,\n",
       "  14,\n",
       "  4,\n",
       "  23,\n",
       "  12,\n",
       "  21,\n",
       "  -1,\n",
       "  10,\n",
       "  1,\n",
       "  16,\n",
       "  16,\n",
       "  16,\n",
       "  -1,\n",
       "  4,\n",
       "  4,\n",
       "  10,\n",
       "  -1,\n",
       "  34,\n",
       "  -1,\n",
       "  1,\n",
       "  16,\n",
       "  23,\n",
       "  14,\n",
       "  23,\n",
       "  16,\n",
       "  4,\n",
       "  0,\n",
       "  -1,\n",
       "  -1,\n",
       "  38,\n",
       "  35,\n",
       "  -1,\n",
       "  12,\n",
       "  32,\n",
       "  17,\n",
       "  -1,\n",
       "  10,\n",
       "  -1,\n",
       "  0,\n",
       "  9,\n",
       "  24,\n",
       "  -1,\n",
       "  -1,\n",
       "  32,\n",
       "  1,\n",
       "  -1,\n",
       "  -1,\n",
       "  2,\n",
       "  1,\n",
       "  -1,\n",
       "  -1,\n",
       "  38,\n",
       "  1,\n",
       "  -1,\n",
       "  16,\n",
       "  37,\n",
       "  22,\n",
       "  -1,\n",
       "  -1,\n",
       "  -1,\n",
       "  34,\n",
       "  28,\n",
       "  -1,\n",
       "  13,\n",
       "  16,\n",
       "  10,\n",
       "  1,\n",
       "  1,\n",
       "  0,\n",
       "  17,\n",
       "  3,\n",
       "  17,\n",
       "  24,\n",
       "  34,\n",
       "  4,\n",
       "  10,\n",
       "  12,\n",
       "  21,\n",
       "  -1,\n",
       "  0,\n",
       "  10,\n",
       "  21,\n",
       "  34,\n",
       "  21,\n",
       "  10,\n",
       "  11,\n",
       "  11,\n",
       "  16,\n",
       "  11,\n",
       "  3,\n",
       "  5,\n",
       "  -1,\n",
       "  10,\n",
       "  10,\n",
       "  0,\n",
       "  16,\n",
       "  14,\n",
       "  13,\n",
       "  10,\n",
       "  39,\n",
       "  -1,\n",
       "  2,\n",
       "  1,\n",
       "  17,\n",
       "  -1,\n",
       "  16,\n",
       "  12,\n",
       "  -1,\n",
       "  31,\n",
       "  25,\n",
       "  3,\n",
       "  -1,\n",
       "  -1,\n",
       "  4,\n",
       "  4,\n",
       "  3,\n",
       "  12,\n",
       "  8,\n",
       "  3,\n",
       "  3,\n",
       "  -1,\n",
       "  -1,\n",
       "  34,\n",
       "  -1,\n",
       "  4,\n",
       "  2,\n",
       "  4,\n",
       "  17,\n",
       "  -1,\n",
       "  -1,\n",
       "  3,\n",
       "  12,\n",
       "  -1,\n",
       "  -1,\n",
       "  4,\n",
       "  -1,\n",
       "  -1,\n",
       "  -1,\n",
       "  -1,\n",
       "  0,\n",
       "  0,\n",
       "  14,\n",
       "  -1,\n",
       "  -1,\n",
       "  -1,\n",
       "  29,\n",
       "  41,\n",
       "  20,\n",
       "  2,\n",
       "  2,\n",
       "  -1,\n",
       "  -1,\n",
       "  2,\n",
       "  31,\n",
       "  -1,\n",
       "  17,\n",
       "  2,\n",
       "  2,\n",
       "  -1,\n",
       "  39,\n",
       "  3,\n",
       "  2,\n",
       "  -1,\n",
       "  -1,\n",
       "  42,\n",
       "  0,\n",
       "  -1,\n",
       "  3,\n",
       "  12,\n",
       "  3,\n",
       "  3,\n",
       "  0,\n",
       "  0,\n",
       "  31,\n",
       "  31,\n",
       "  -1,\n",
       "  10,\n",
       "  -1,\n",
       "  0,\n",
       "  -1,\n",
       "  8,\n",
       "  3,\n",
       "  0,\n",
       "  4,\n",
       "  -1,\n",
       "  3,\n",
       "  -1,\n",
       "  12,\n",
       "  32,\n",
       "  4,\n",
       "  4,\n",
       "  0,\n",
       "  0,\n",
       "  2,\n",
       "  2,\n",
       "  2,\n",
       "  3,\n",
       "  2,\n",
       "  3,\n",
       "  -1,\n",
       "  3,\n",
       "  3,\n",
       "  3,\n",
       "  -1,\n",
       "  3,\n",
       "  44,\n",
       "  0,\n",
       "  -1,\n",
       "  12,\n",
       "  0,\n",
       "  -1,\n",
       "  2,\n",
       "  3,\n",
       "  12,\n",
       "  12,\n",
       "  2,\n",
       "  -1,\n",
       "  -1,\n",
       "  2,\n",
       "  -1,\n",
       "  25,\n",
       "  3,\n",
       "  -1,\n",
       "  44,\n",
       "  3,\n",
       "  -1,\n",
       "  8,\n",
       "  -1,\n",
       "  -1,\n",
       "  2,\n",
       "  13,\n",
       "  0,\n",
       "  -1,\n",
       "  -1,\n",
       "  20,\n",
       "  2,\n",
       "  2,\n",
       "  -1,\n",
       "  10,\n",
       "  0,\n",
       "  -1,\n",
       "  18,\n",
       "  -1,\n",
       "  -1,\n",
       "  31,\n",
       "  0,\n",
       "  -1,\n",
       "  31,\n",
       "  -1,\n",
       "  -1,\n",
       "  -1,\n",
       "  -1,\n",
       "  -1,\n",
       "  3,\n",
       "  3,\n",
       "  3,\n",
       "  4,\n",
       "  0,\n",
       "  40,\n",
       "  44,\n",
       "  0,\n",
       "  0,\n",
       "  3,\n",
       "  3,\n",
       "  4,\n",
       "  8,\n",
       "  -1,\n",
       "  -1,\n",
       "  3,\n",
       "  12,\n",
       "  8,\n",
       "  0,\n",
       "  12,\n",
       "  0,\n",
       "  0,\n",
       "  -1,\n",
       "  0,\n",
       "  44,\n",
       "  -1,\n",
       "  -1,\n",
       "  -1,\n",
       "  -1,\n",
       "  -1,\n",
       "  3,\n",
       "  -1,\n",
       "  -1,\n",
       "  4,\n",
       "  -1,\n",
       "  9,\n",
       "  4,\n",
       "  -1,\n",
       "  32,\n",
       "  22,\n",
       "  44,\n",
       "  12,\n",
       "  0,\n",
       "  -1,\n",
       "  12,\n",
       "  43,\n",
       "  -1,\n",
       "  0,\n",
       "  -1,\n",
       "  -1,\n",
       "  -1,\n",
       "  -1,\n",
       "  -1,\n",
       "  -1,\n",
       "  -1,\n",
       "  -1,\n",
       "  -1,\n",
       "  0,\n",
       "  -1,\n",
       "  32,\n",
       "  1,\n",
       "  12,\n",
       "  21,\n",
       "  -1,\n",
       "  20,\n",
       "  1,\n",
       "  -1,\n",
       "  -1,\n",
       "  5,\n",
       "  -1,\n",
       "  20,\n",
       "  21,\n",
       "  26,\n",
       "  26,\n",
       "  26,\n",
       "  -1,\n",
       "  1,\n",
       "  -1,\n",
       "  26,\n",
       "  26,\n",
       "  23,\n",
       "  -1,\n",
       "  40,\n",
       "  40,\n",
       "  -1,\n",
       "  9,\n",
       "  18,\n",
       "  18,\n",
       "  -1,\n",
       "  18,\n",
       "  38,\n",
       "  9,\n",
       "  22,\n",
       "  4,\n",
       "  37,\n",
       "  15,\n",
       "  ...],\n",
       " array([1.        , 0.        , 0.        , ..., 1.        , 0.50408593,\n",
       "        0.36364112]))"
      ]
     },
     "execution_count": 4,
     "metadata": {},
     "output_type": "execute_result"
    }
   ],
   "execution_count": 4
  },
  {
   "metadata": {},
   "cell_type": "markdown",
   "source": "### Very good one!",
   "id": "3c1f7c82f029614e"
  },
  {
   "metadata": {
    "ExecuteTime": {
     "end_time": "2024-11-05T22:35:40.963726Z",
     "start_time": "2024-11-05T22:35:07.623922Z"
    }
   },
   "cell_type": "code",
   "source": [
    "\n",
    "\n",
    "custom_bert_parameters = {\n",
    "    \"language\": \"english\",\n",
    "    \"nr_topics\": \"auto\",\n",
    "    \"document_embedding\": SentenceTransformer(\"all-MiniLM-L6-v2\"),\n",
    "    \"reduce_dimensionality\": UMAP(min_dist=0.05, spread=0.5),\n",
    "    \"clustering\": HDBSCAN(min_cluster_size=15),\n",
    "    \"topic_tokenization\": CountVectorizer(stop_words=\"english\"),\n",
    "    \"topic_representation\": ClassTfidfTransformer(reduce_frequent_words=True),\n",
    "    \"representation_model\": KeyBERTInspired(top_n_words=20)\n",
    "}\n",
    "show_bertopic_evaluations(custom_bert_parameters, iteration=2)"
   ],
   "id": "bfcd35c7cafc6e9c",
   "outputs": [
    {
     "name": "stdout",
     "output_type": "stream",
     "text": [
      "iteration =  2\n",
      "total number of topics =  38\n",
      "documents without a topic =  992\n"
     ]
    },
    {
     "data": {
      "text/plain": [
       "(<bertopic._bertopic.BERTopic at 0x3518b01d0>,\n",
       " [10,\n",
       "  -1,\n",
       "  3,\n",
       "  -1,\n",
       "  -1,\n",
       "  -1,\n",
       "  -1,\n",
       "  4,\n",
       "  4,\n",
       "  0,\n",
       "  6,\n",
       "  1,\n",
       "  -1,\n",
       "  4,\n",
       "  3,\n",
       "  1,\n",
       "  -1,\n",
       "  4,\n",
       "  -1,\n",
       "  29,\n",
       "  4,\n",
       "  4,\n",
       "  4,\n",
       "  -1,\n",
       "  -1,\n",
       "  -1,\n",
       "  6,\n",
       "  -1,\n",
       "  23,\n",
       "  4,\n",
       "  -1,\n",
       "  4,\n",
       "  3,\n",
       "  -1,\n",
       "  -1,\n",
       "  4,\n",
       "  -1,\n",
       "  3,\n",
       "  27,\n",
       "  -1,\n",
       "  -1,\n",
       "  -1,\n",
       "  33,\n",
       "  -1,\n",
       "  -1,\n",
       "  -1,\n",
       "  4,\n",
       "  23,\n",
       "  2,\n",
       "  11,\n",
       "  -1,\n",
       "  4,\n",
       "  11,\n",
       "  11,\n",
       "  0,\n",
       "  11,\n",
       "  11,\n",
       "  15,\n",
       "  5,\n",
       "  9,\n",
       "  9,\n",
       "  18,\n",
       "  11,\n",
       "  11,\n",
       "  -1,\n",
       "  11,\n",
       "  11,\n",
       "  18,\n",
       "  26,\n",
       "  -1,\n",
       "  15,\n",
       "  3,\n",
       "  -1,\n",
       "  9,\n",
       "  14,\n",
       "  -1,\n",
       "  26,\n",
       "  26,\n",
       "  11,\n",
       "  26,\n",
       "  2,\n",
       "  36,\n",
       "  2,\n",
       "  -1,\n",
       "  -1,\n",
       "  10,\n",
       "  -1,\n",
       "  -1,\n",
       "  -1,\n",
       "  -1,\n",
       "  3,\n",
       "  -1,\n",
       "  -1,\n",
       "  -1,\n",
       "  26,\n",
       "  2,\n",
       "  -1,\n",
       "  -1,\n",
       "  2,\n",
       "  11,\n",
       "  26,\n",
       "  -1,\n",
       "  26,\n",
       "  1,\n",
       "  -1,\n",
       "  -1,\n",
       "  -1,\n",
       "  20,\n",
       "  1,\n",
       "  -1,\n",
       "  -1,\n",
       "  -1,\n",
       "  -1,\n",
       "  12,\n",
       "  1,\n",
       "  1,\n",
       "  20,\n",
       "  1,\n",
       "  20,\n",
       "  20,\n",
       "  -1,\n",
       "  20,\n",
       "  1,\n",
       "  20,\n",
       "  -1,\n",
       "  20,\n",
       "  -1,\n",
       "  20,\n",
       "  20,\n",
       "  12,\n",
       "  -1,\n",
       "  20,\n",
       "  -1,\n",
       "  -1,\n",
       "  3,\n",
       "  3,\n",
       "  1,\n",
       "  -1,\n",
       "  4,\n",
       "  17,\n",
       "  12,\n",
       "  1,\n",
       "  10,\n",
       "  27,\n",
       "  26,\n",
       "  2,\n",
       "  -1,\n",
       "  6,\n",
       "  1,\n",
       "  2,\n",
       "  1,\n",
       "  36,\n",
       "  1,\n",
       "  1,\n",
       "  28,\n",
       "  11,\n",
       "  9,\n",
       "  32,\n",
       "  32,\n",
       "  1,\n",
       "  1,\n",
       "  26,\n",
       "  -1,\n",
       "  0,\n",
       "  -1,\n",
       "  -1,\n",
       "  -1,\n",
       "  -1,\n",
       "  4,\n",
       "  -1,\n",
       "  2,\n",
       "  -1,\n",
       "  -1,\n",
       "  -1,\n",
       "  19,\n",
       "  -1,\n",
       "  -1,\n",
       "  -1,\n",
       "  -1,\n",
       "  -1,\n",
       "  -1,\n",
       "  -1,\n",
       "  22,\n",
       "  -1,\n",
       "  -1,\n",
       "  -1,\n",
       "  -1,\n",
       "  -1,\n",
       "  -1,\n",
       "  -1,\n",
       "  5,\n",
       "  -1,\n",
       "  18,\n",
       "  -1,\n",
       "  -1,\n",
       "  14,\n",
       "  14,\n",
       "  -1,\n",
       "  -1,\n",
       "  -1,\n",
       "  -1,\n",
       "  0,\n",
       "  -1,\n",
       "  -1,\n",
       "  -1,\n",
       "  -1,\n",
       "  1,\n",
       "  3,\n",
       "  3,\n",
       "  2,\n",
       "  -1,\n",
       "  11,\n",
       "  3,\n",
       "  3,\n",
       "  14,\n",
       "  14,\n",
       "  14,\n",
       "  14,\n",
       "  27,\n",
       "  2,\n",
       "  -1,\n",
       "  6,\n",
       "  -1,\n",
       "  -1,\n",
       "  0,\n",
       "  -1,\n",
       "  15,\n",
       "  3,\n",
       "  3,\n",
       "  -1,\n",
       "  10,\n",
       "  -1,\n",
       "  3,\n",
       "  -1,\n",
       "  3,\n",
       "  -1,\n",
       "  1,\n",
       "  1,\n",
       "  16,\n",
       "  0,\n",
       "  -1,\n",
       "  14,\n",
       "  2,\n",
       "  6,\n",
       "  14,\n",
       "  6,\n",
       "  -1,\n",
       "  -1,\n",
       "  -1,\n",
       "  2,\n",
       "  -1,\n",
       "  11,\n",
       "  19,\n",
       "  1,\n",
       "  -1,\n",
       "  -1,\n",
       "  6,\n",
       "  -1,\n",
       "  2,\n",
       "  6,\n",
       "  22,\n",
       "  -1,\n",
       "  -1,\n",
       "  -1,\n",
       "  13,\n",
       "  13,\n",
       "  27,\n",
       "  -1,\n",
       "  -1,\n",
       "  14,\n",
       "  0,\n",
       "  -1,\n",
       "  -1,\n",
       "  16,\n",
       "  -1,\n",
       "  -1,\n",
       "  21,\n",
       "  2,\n",
       "  6,\n",
       "  2,\n",
       "  18,\n",
       "  18,\n",
       "  6,\n",
       "  -1,\n",
       "  14,\n",
       "  9,\n",
       "  3,\n",
       "  3,\n",
       "  18,\n",
       "  -1,\n",
       "  13,\n",
       "  13,\n",
       "  1,\n",
       "  3,\n",
       "  18,\n",
       "  9,\n",
       "  -1,\n",
       "  18,\n",
       "  18,\n",
       "  13,\n",
       "  9,\n",
       "  22,\n",
       "  -1,\n",
       "  9,\n",
       "  -1,\n",
       "  14,\n",
       "  3,\n",
       "  -1,\n",
       "  3,\n",
       "  -1,\n",
       "  24,\n",
       "  22,\n",
       "  -1,\n",
       "  2,\n",
       "  0,\n",
       "  0,\n",
       "  15,\n",
       "  14,\n",
       "  14,\n",
       "  6,\n",
       "  3,\n",
       "  -1,\n",
       "  0,\n",
       "  3,\n",
       "  -1,\n",
       "  6,\n",
       "  -1,\n",
       "  12,\n",
       "  6,\n",
       "  -1,\n",
       "  -1,\n",
       "  1,\n",
       "  -1,\n",
       "  18,\n",
       "  27,\n",
       "  1,\n",
       "  -1,\n",
       "  1,\n",
       "  -1,\n",
       "  -1,\n",
       "  0,\n",
       "  3,\n",
       "  18,\n",
       "  27,\n",
       "  -1,\n",
       "  13,\n",
       "  3,\n",
       "  3,\n",
       "  -1,\n",
       "  6,\n",
       "  -1,\n",
       "  -1,\n",
       "  6,\n",
       "  -1,\n",
       "  13,\n",
       "  1,\n",
       "  13,\n",
       "  11,\n",
       "  -1,\n",
       "  13,\n",
       "  2,\n",
       "  13,\n",
       "  14,\n",
       "  4,\n",
       "  14,\n",
       "  14,\n",
       "  -1,\n",
       "  -1,\n",
       "  -1,\n",
       "  14,\n",
       "  2,\n",
       "  -1,\n",
       "  14,\n",
       "  36,\n",
       "  -1,\n",
       "  -1,\n",
       "  11,\n",
       "  14,\n",
       "  -1,\n",
       "  3,\n",
       "  3,\n",
       "  13,\n",
       "  21,\n",
       "  3,\n",
       "  3,\n",
       "  18,\n",
       "  6,\n",
       "  14,\n",
       "  0,\n",
       "  -1,\n",
       "  -1,\n",
       "  14,\n",
       "  0,\n",
       "  -1,\n",
       "  15,\n",
       "  6,\n",
       "  18,\n",
       "  13,\n",
       "  13,\n",
       "  0,\n",
       "  18,\n",
       "  5,\n",
       "  6,\n",
       "  6,\n",
       "  13,\n",
       "  5,\n",
       "  3,\n",
       "  -1,\n",
       "  -1,\n",
       "  -1,\n",
       "  13,\n",
       "  -1,\n",
       "  -1,\n",
       "  26,\n",
       "  -1,\n",
       "  3,\n",
       "  19,\n",
       "  13,\n",
       "  6,\n",
       "  -1,\n",
       "  0,\n",
       "  5,\n",
       "  29,\n",
       "  29,\n",
       "  -1,\n",
       "  3,\n",
       "  13,\n",
       "  19,\n",
       "  -1,\n",
       "  9,\n",
       "  6,\n",
       "  14,\n",
       "  13,\n",
       "  1,\n",
       "  3,\n",
       "  -1,\n",
       "  3,\n",
       "  -1,\n",
       "  0,\n",
       "  10,\n",
       "  21,\n",
       "  -1,\n",
       "  5,\n",
       "  -1,\n",
       "  11,\n",
       "  9,\n",
       "  4,\n",
       "  13,\n",
       "  15,\n",
       "  4,\n",
       "  13,\n",
       "  0,\n",
       "  13,\n",
       "  -1,\n",
       "  -1,\n",
       "  14,\n",
       "  5,\n",
       "  -1,\n",
       "  3,\n",
       "  -1,\n",
       "  0,\n",
       "  13,\n",
       "  9,\n",
       "  13,\n",
       "  -1,\n",
       "  13,\n",
       "  27,\n",
       "  -1,\n",
       "  36,\n",
       "  9,\n",
       "  3,\n",
       "  0,\n",
       "  -1,\n",
       "  0,\n",
       "  23,\n",
       "  -1,\n",
       "  27,\n",
       "  -1,\n",
       "  10,\n",
       "  5,\n",
       "  -1,\n",
       "  6,\n",
       "  -1,\n",
       "  3,\n",
       "  14,\n",
       "  2,\n",
       "  14,\n",
       "  3,\n",
       "  -1,\n",
       "  -1,\n",
       "  5,\n",
       "  0,\n",
       "  14,\n",
       "  21,\n",
       "  -1,\n",
       "  0,\n",
       "  0,\n",
       "  11,\n",
       "  -1,\n",
       "  13,\n",
       "  1,\n",
       "  -1,\n",
       "  9,\n",
       "  -1,\n",
       "  14,\n",
       "  5,\n",
       "  13,\n",
       "  -1,\n",
       "  11,\n",
       "  -1,\n",
       "  -1,\n",
       "  1,\n",
       "  29,\n",
       "  1,\n",
       "  1,\n",
       "  1,\n",
       "  1,\n",
       "  30,\n",
       "  20,\n",
       "  14,\n",
       "  -1,\n",
       "  -1,\n",
       "  -1,\n",
       "  2,\n",
       "  -1,\n",
       "  2,\n",
       "  1,\n",
       "  -1,\n",
       "  1,\n",
       "  2,\n",
       "  20,\n",
       "  2,\n",
       "  -1,\n",
       "  29,\n",
       "  -1,\n",
       "  1,\n",
       "  13,\n",
       "  9,\n",
       "  13,\n",
       "  2,\n",
       "  9,\n",
       "  9,\n",
       "  21,\n",
       "  14,\n",
       "  13,\n",
       "  9,\n",
       "  9,\n",
       "  -1,\n",
       "  12,\n",
       "  3,\n",
       "  2,\n",
       "  16,\n",
       "  23,\n",
       "  0,\n",
       "  14,\n",
       "  17,\n",
       "  21,\n",
       "  5,\n",
       "  -1,\n",
       "  -1,\n",
       "  2,\n",
       "  -1,\n",
       "  -1,\n",
       "  -1,\n",
       "  0,\n",
       "  17,\n",
       "  -1,\n",
       "  1,\n",
       "  3,\n",
       "  2,\n",
       "  -1,\n",
       "  13,\n",
       "  15,\n",
       "  -1,\n",
       "  -1,\n",
       "  -1,\n",
       "  -1,\n",
       "  -1,\n",
       "  24,\n",
       "  11,\n",
       "  2,\n",
       "  -1,\n",
       "  1,\n",
       "  20,\n",
       "  3,\n",
       "  23,\n",
       "  -1,\n",
       "  16,\n",
       "  2,\n",
       "  17,\n",
       "  1,\n",
       "  16,\n",
       "  2,\n",
       "  13,\n",
       "  11,\n",
       "  -1,\n",
       "  -1,\n",
       "  13,\n",
       "  13,\n",
       "  -1,\n",
       "  13,\n",
       "  11,\n",
       "  -1,\n",
       "  11,\n",
       "  -1,\n",
       "  14,\n",
       "  23,\n",
       "  2,\n",
       "  1,\n",
       "  2,\n",
       "  26,\n",
       "  0,\n",
       "  13,\n",
       "  -1,\n",
       "  11,\n",
       "  0,\n",
       "  10,\n",
       "  -1,\n",
       "  -1,\n",
       "  2,\n",
       "  1,\n",
       "  3,\n",
       "  -1,\n",
       "  -1,\n",
       "  -1,\n",
       "  -1,\n",
       "  -1,\n",
       "  2,\n",
       "  1,\n",
       "  -1,\n",
       "  14,\n",
       "  3,\n",
       "  25,\n",
       "  -1,\n",
       "  -1,\n",
       "  -1,\n",
       "  36,\n",
       "  -1,\n",
       "  23,\n",
       "  5,\n",
       "  36,\n",
       "  -1,\n",
       "  -1,\n",
       "  -1,\n",
       "  1,\n",
       "  15,\n",
       "  4,\n",
       "  -1,\n",
       "  13,\n",
       "  12,\n",
       "  12,\n",
       "  1,\n",
       "  3,\n",
       "  2,\n",
       "  20,\n",
       "  11,\n",
       "  19,\n",
       "  3,\n",
       "  -1,\n",
       "  25,\n",
       "  13,\n",
       "  13,\n",
       "  13,\n",
       "  -1,\n",
       "  2,\n",
       "  2,\n",
       "  -1,\n",
       "  -1,\n",
       "  17,\n",
       "  2,\n",
       "  1,\n",
       "  13,\n",
       "  20,\n",
       "  -1,\n",
       "  20,\n",
       "  13,\n",
       "  2,\n",
       "  0,\n",
       "  -1,\n",
       "  -1,\n",
       "  27,\n",
       "  -1,\n",
       "  -1,\n",
       "  11,\n",
       "  30,\n",
       "  21,\n",
       "  -1,\n",
       "  36,\n",
       "  12,\n",
       "  0,\n",
       "  -1,\n",
       "  24,\n",
       "  -1,\n",
       "  -1,\n",
       "  30,\n",
       "  1,\n",
       "  -1,\n",
       "  -1,\n",
       "  5,\n",
       "  1,\n",
       "  -1,\n",
       "  -1,\n",
       "  27,\n",
       "  1,\n",
       "  -1,\n",
       "  13,\n",
       "  36,\n",
       "  3,\n",
       "  2,\n",
       "  -1,\n",
       "  -1,\n",
       "  29,\n",
       "  18,\n",
       "  3,\n",
       "  14,\n",
       "  13,\n",
       "  2,\n",
       "  1,\n",
       "  1,\n",
       "  0,\n",
       "  21,\n",
       "  4,\n",
       "  21,\n",
       "  24,\n",
       "  29,\n",
       "  2,\n",
       "  2,\n",
       "  11,\n",
       "  19,\n",
       "  -1,\n",
       "  0,\n",
       "  2,\n",
       "  19,\n",
       "  29,\n",
       "  19,\n",
       "  -1,\n",
       "  16,\n",
       "  16,\n",
       "  13,\n",
       "  16,\n",
       "  4,\n",
       "  6,\n",
       "  13,\n",
       "  2,\n",
       "  2,\n",
       "  0,\n",
       "  13,\n",
       "  -1,\n",
       "  14,\n",
       "  2,\n",
       "  17,\n",
       "  -1,\n",
       "  9,\n",
       "  1,\n",
       "  21,\n",
       "  -1,\n",
       "  13,\n",
       "  11,\n",
       "  -1,\n",
       "  26,\n",
       "  25,\n",
       "  4,\n",
       "  -1,\n",
       "  -1,\n",
       "  -1,\n",
       "  2,\n",
       "  4,\n",
       "  11,\n",
       "  -1,\n",
       "  4,\n",
       "  4,\n",
       "  -1,\n",
       "  -1,\n",
       "  29,\n",
       "  -1,\n",
       "  2,\n",
       "  5,\n",
       "  -1,\n",
       "  -1,\n",
       "  -1,\n",
       "  -1,\n",
       "  -1,\n",
       "  11,\n",
       "  -1,\n",
       "  -1,\n",
       "  2,\n",
       "  33,\n",
       "  -1,\n",
       "  2,\n",
       "  -1,\n",
       "  0,\n",
       "  0,\n",
       "  3,\n",
       "  -1,\n",
       "  -1,\n",
       "  10,\n",
       "  3,\n",
       "  -1,\n",
       "  15,\n",
       "  5,\n",
       "  5,\n",
       "  3,\n",
       "  -1,\n",
       "  5,\n",
       "  26,\n",
       "  9,\n",
       "  21,\n",
       "  5,\n",
       "  5,\n",
       "  1,\n",
       "  17,\n",
       "  4,\n",
       "  9,\n",
       "  33,\n",
       "  33,\n",
       "  28,\n",
       "  0,\n",
       "  33,\n",
       "  4,\n",
       "  11,\n",
       "  4,\n",
       "  4,\n",
       "  0,\n",
       "  0,\n",
       "  26,\n",
       "  26,\n",
       "  -1,\n",
       "  2,\n",
       "  17,\n",
       "  0,\n",
       "  -1,\n",
       "  1,\n",
       "  -1,\n",
       "  0,\n",
       "  2,\n",
       "  -1,\n",
       "  4,\n",
       "  -1,\n",
       "  11,\n",
       "  30,\n",
       "  2,\n",
       "  2,\n",
       "  -1,\n",
       "  0,\n",
       "  5,\n",
       "  5,\n",
       "  5,\n",
       "  4,\n",
       "  5,\n",
       "  4,\n",
       "  -1,\n",
       "  4,\n",
       "  4,\n",
       "  4,\n",
       "  -1,\n",
       "  4,\n",
       "  -1,\n",
       "  0,\n",
       "  1,\n",
       "  11,\n",
       "  0,\n",
       "  -1,\n",
       "  5,\n",
       "  4,\n",
       "  11,\n",
       "  11,\n",
       "  5,\n",
       "  9,\n",
       "  9,\n",
       "  9,\n",
       "  -1,\n",
       "  25,\n",
       "  -1,\n",
       "  17,\n",
       "  -1,\n",
       "  4,\n",
       "  -1,\n",
       "  -1,\n",
       "  -1,\n",
       "  3,\n",
       "  5,\n",
       "  -1,\n",
       "  0,\n",
       "  -1,\n",
       "  -1,\n",
       "  15,\n",
       "  5,\n",
       "  5,\n",
       "  -1,\n",
       "  -1,\n",
       "  0,\n",
       "  -1,\n",
       "  2,\n",
       "  -1,\n",
       "  2,\n",
       "  26,\n",
       "  0,\n",
       "  10,\n",
       "  26,\n",
       "  17,\n",
       "  17,\n",
       "  -1,\n",
       "  2,\n",
       "  -1,\n",
       "  4,\n",
       "  4,\n",
       "  4,\n",
       "  2,\n",
       "  0,\n",
       "  32,\n",
       "  -1,\n",
       "  0,\n",
       "  0,\n",
       "  -1,\n",
       "  4,\n",
       "  2,\n",
       "  1,\n",
       "  -1,\n",
       "  -1,\n",
       "  4,\n",
       "  11,\n",
       "  1,\n",
       "  0,\n",
       "  11,\n",
       "  0,\n",
       "  0,\n",
       "  -1,\n",
       "  0,\n",
       "  -1,\n",
       "  -1,\n",
       "  -1,\n",
       "  10,\n",
       "  10,\n",
       "  -1,\n",
       "  4,\n",
       "  -1,\n",
       "  3,\n",
       "  2,\n",
       "  3,\n",
       "  1,\n",
       "  2,\n",
       "  3,\n",
       "  30,\n",
       "  -1,\n",
       "  3,\n",
       "  11,\n",
       "  0,\n",
       "  28,\n",
       "  11,\n",
       "  34,\n",
       "  -1,\n",
       "  0,\n",
       "  -1,\n",
       "  -1,\n",
       "  -1,\n",
       "  -1,\n",
       "  21,\n",
       "  -1,\n",
       "  9,\n",
       "  -1,\n",
       "  -1,\n",
       "  0,\n",
       "  -1,\n",
       "  30,\n",
       "  1,\n",
       "  11,\n",
       "  19,\n",
       "  -1,\n",
       "  15,\n",
       "  1,\n",
       "  -1,\n",
       "  18,\n",
       "  6,\n",
       "  -1,\n",
       "  15,\n",
       "  19,\n",
       "  22,\n",
       "  22,\n",
       "  22,\n",
       "  -1,\n",
       "  1,\n",
       "  -1,\n",
       "  22,\n",
       "  22,\n",
       "  20,\n",
       "  -1,\n",
       "  32,\n",
       "  32,\n",
       "  -1,\n",
       "  -1,\n",
       "  -1,\n",
       "  -1,\n",
       "  -1,\n",
       "  -1,\n",
       "  27,\n",
       "  1,\n",
       "  3,\n",
       "  2,\n",
       "  -1,\n",
       "  12,\n",
       "  ...],\n",
       " array([0.86807417, 0.        , 1.        , ..., 0.71079321, 0.        ,\n",
       "        0.        ]))"
      ]
     },
     "execution_count": 11,
     "metadata": {},
     "output_type": "execute_result"
    }
   ],
   "execution_count": 11
  },
  {
   "metadata": {},
   "cell_type": "markdown",
   "source": "The sentence transformer chosen is all-MiniLM-L6-v2. This is one of the better models that Maarten Grootendorst has evaluated, but it has a much faster computation time than for example the best model \"all-mpnet-base-v2\", which would result in 2% better performance but a 5 times slower running time.",
   "id": "e37ba5ed071716f4"
  },
  {
   "metadata": {
    "ExecuteTime": {
     "end_time": "2024-11-06T00:51:20.872988Z",
     "start_time": "2024-11-05T22:44:13.800950Z"
    }
   },
   "cell_type": "code",
   "source": [
    "import pandas as pd\n",
    "import numpy as np\n",
    "from sentence_transformers import SentenceTransformer\n",
    "from umap import UMAP\n",
    "from hdbscan import HDBSCAN\n",
    "from sklearn.feature_extraction.text import CountVectorizer\n",
    "from bertopic.vectorizers import ClassTfidfTransformer\n",
    "from bertopic.representation import KeyBERTInspired\n",
    "from itertools import product\n",
    "import plotly.express as px\n",
    "import plotly.graph_objects as go\n",
    "from tqdm import tqdm\n",
    "\n",
    "def create_parameter_grid():\n",
    "    \"\"\"Define the parameter grid for hyperparameter tuning.\"\"\"\n",
    "    param_grid = {\n",
    "        \"language\": [\"english\"],  # keeping consistent with your implementation\n",
    "        \"nr_topics\": [\"auto\"],\n",
    "        \"document_embedding\": [\n",
    "            SentenceTransformer(\"all-MiniLM-L6-v2\"),\n",
    "            #SentenceTransformer(\"all-mpnet-base-v2\")\n",
    "        ],\n",
    "        \"reduce_dimensionality\": [\n",
    "            UMAP(min_dist=d, n_neighbors=n)\n",
    "            for d, n in product(\n",
    "                [0.0, 0.05, 0.1],  # min_dist\n",
    "                [5, 15],  # n_neighbors\n",
    "            )\n",
    "        ],\n",
    "        \"clustering\": [\n",
    "            HDBSCAN(min_cluster_size=s, min_samples=m)\n",
    "            for s, m in product(\n",
    "                [5, 10, 15, 20],  # min_cluster_size\n",
    "                [None, 5, 10]  # min_samples\n",
    "            )\n",
    "        ],\n",
    "        \"topic_tokenization\": [\n",
    "            CountVectorizer(stop_words=\"english\", ngram_range=n)\n",
    "            for n in [(1,1), (1,2)]  # ngram_range\n",
    "                \n",
    "            \n",
    "        ],\n",
    "        \"topic_representation\": [\n",
    "            ClassTfidfTransformer(reduce_frequent_words=rf)\n",
    "            for rf in [True]\n",
    "        ],\n",
    "        \"representation_model\": [KeyBERTInspired()]\n",
    "    }\n",
    "    return param_grid\n",
    "\n",
    "def run_hyperparameter_tuning(df, max_combinations=3):\n",
    "    \"\"\"Run hyperparameter tuning using your existing functions.\"\"\"\n",
    "    param_grid = create_parameter_grid()\n",
    "    results = []\n",
    "    \n",
    "    # Generate parameter combinations\n",
    "    param_keys = list(param_grid.keys())\n",
    "    param_values = list(param_grid.values())\n",
    "    combinations = list(product(*param_values))\n",
    "    print(\"combinations to test= \", len(combinations))\n",
    "    \n",
    "    if max_combinations:\n",
    "        combinations = combinations[:max_combinations]\n",
    "    combo_iteration = 0\n",
    "    for combo in tqdm(combinations, desc=\"Evaluating model configurations\"):\n",
    "        combo_iteration += 1\n",
    "        try:\n",
    "            # Create parameter dictionary for current combination\n",
    "            current_params = dict(zip(param_keys, combo))\n",
    "            \n",
    "            # Use your existing function to train and evaluate the model\n",
    "            topic_model, topics, probs = show_bertopic_evaluations(current_params, combo_iteration)\n",
    "            \n",
    "            # Get evaluation metrics\n",
    "            topic_info = topic_model.get_topic_info()\n",
    "            \n",
    "            result = {\n",
    "                # Configuration identifiers\n",
    "                'iteration': combo_iteration,\n",
    "                'embedding_model': current_params['document_embedding'].__class__.__name__,\n",
    "                'umap_min_dist': current_params['reduce_dimensionality'].min_dist,\n",
    "                'umap_n_neighbors': current_params['reduce_dimensionality'].n_neighbors,\n",
    "                'umap_spread': current_params['reduce_dimensionality'].spread,\n",
    "                'hdbscan_min_cluster_size': current_params['clustering'].min_cluster_size,\n",
    "                'hdbscan_min_samples': current_params['clustering'].min_samples,\n",
    "                'vectorizer_ngram_range': current_params['topic_tokenization'].ngram_range,\n",
    "                'vectorizer_min_df': current_params['topic_tokenization'].min_df,\n",
    "                'reduce_frequent_words': current_params['topic_representation'].reduce_frequent_words,\n",
    "                'nr_topics_setting': str(current_params['nr_topics']),\n",
    "                \n",
    "                # Evaluation metrics (using your existing functions)\n",
    "                'number_of_topics': len(topic_info),\n",
    "                'docs_without_topic': topic_info.iloc[0]['Count'] if -1 in topics else 0,\n",
    "                'topic_diversity': get_topic_diversity(topic_model),\n",
    "                'topic_coherence': get_coherence(df, topic_model, topics),\n",
    "                \n",
    "                # Store the model and topics for later use if needed\n",
    "                'model': topic_model,\n",
    "                'topics': topics,\n",
    "                'probs': probs\n",
    "            }\n",
    "            \n",
    "            results.append(result)\n",
    "            \n",
    "        except Exception as e:\n",
    "            print(f\"Error with configuration: {e}\")\n",
    "            continue\n",
    "    \n",
    "    return pd.DataFrame(results)\n",
    "\n",
    "def plot_results(results_df):\n",
    "    \"\"\"Create visualizations for the hyperparameter tuning results.\"\"\"\n",
    "    # Remove the model and topics columns for plotting\n",
    "    plot_df = results_df.drop(['model', 'topics', 'probs'], axis=1)\n",
    "    \n",
    "    # 3D scatter plot\n",
    "    fig1 = go.Figure(data=[go.Scatter3d(\n",
    "        x=plot_df['number_of_topics'],\n",
    "        y=plot_df['topic_coherence'],\n",
    "        z=plot_df['topic_diversity'],\n",
    "        mode='markers',\n",
    "        marker=dict(\n",
    "            size=8,\n",
    "            color=plot_df['docs_without_topic'],\n",
    "            colorscale='Viridis',\n",
    "            opacity=0.8\n",
    "        ),\n",
    "        text=[f\"Config {i}\" for i in range(len(plot_df))]\n",
    "    )])\n",
    "    \n",
    "    fig1.update_layout(\n",
    "        title='Topic Model Configurations in 3D Space',\n",
    "        scene=dict(\n",
    "            xaxis_title='Number of Topics',\n",
    "            yaxis_title='Topic Coherence',\n",
    "            zaxis_title='Topic Diversity'\n",
    "        )\n",
    "    )\n",
    "    \n",
    "    # Parallel coordinates plot\n",
    "    fig2 = px.parallel_coordinates(plot_df,\n",
    "        dimensions=['number_of_topics', 'topic_coherence', 'topic_diversity', \n",
    "                   'docs_without_topic', 'umap_min_dist', 'hdbscan_min_cluster_size'],\n",
    "        title='Parallel Coordinates Plot of Model Configurations'\n",
    "    )\n",
    "    \n",
    "    return fig1, fig2\n",
    "\n",
    "def find_best_models(results_df, n_best=5):\n",
    "    \"\"\"Find the best performing models based on multiple metrics.\"\"\"\n",
    "    # Create normalized scores for each metric\n",
    "    metrics = ['topic_coherence', 'topic_diversity', 'number_of_topics']\n",
    "    \n",
    "    # Remove non-numeric columns and normalize\n",
    "    scoring_df = results_df.copy()\n",
    "    for metric in metrics:\n",
    "        max_val = scoring_df[metric].max()\n",
    "        min_val = scoring_df[metric].min()\n",
    "        scoring_df[f'{metric}_normalized'] = (scoring_df[metric] - min_val) / (max_val - min_val)\n",
    "    \n",
    "    # Calculate composite score (you can adjust weights as needed)\n",
    "    scoring_df['composite_score'] = (\n",
    "        scoring_df['topic_coherence_normalized'] * 0.4 +\n",
    "        scoring_df['topic_diversity_normalized'] * 0.3 +\n",
    "        scoring_df['number_of_topics_normalized'] * 0.3\n",
    "    )\n",
    "    \n",
    "    # Penalize for documents without topics\n",
    "    scoring_df['composite_score'] = scoring_df['composite_score'] * (\n",
    "        1 - scoring_df['docs_without_topic'] / scoring_df['docs_without_topic'].max()\n",
    "    )\n",
    "    \n",
    "    # Get best models\n",
    "    best_models = scoring_df.nlargest(n_best, 'composite_score')\n",
    "    return best_models\n",
    "\n",
    "# Example usage:\n",
    "results_df = run_hyperparameter_tuning(df_news, max_combinations=144)\n",
    "fig1, fig2 = plot_results(results_df)\n",
    "fig1.show()\n",
    "fig2.show()\n",
    "best_models = find_best_models(results_df)\n",
    "print(\"Best performing models:\")\n",
    "print(best_models[['composite_score', 'number_of_topics', 'topic_coherence', 'topic_diversity', 'docs_without_topic']])"
   ],
   "id": "134515add23afe94",
   "outputs": [
    {
     "name": "stdout",
     "output_type": "stream",
     "text": [
      "combinations to test=  144\n"
     ]
    },
    {
     "name": "stderr",
     "output_type": "stream",
     "text": [
      "Evaluating model configurations:   0%|          | 0/144 [00:00<?, ?it/s]"
     ]
    },
    {
     "name": "stdout",
     "output_type": "stream",
     "text": [
      "iteration =  1\n",
      "total number of topics =  28\n",
      "documents without a topic =  1016\n"
     ]
    },
    {
     "name": "stderr",
     "output_type": "stream",
     "text": [
      "Evaluating model configurations:   1%|          | 1/144 [00:49<1:58:57, 49.92s/it]"
     ]
    },
    {
     "name": "stdout",
     "output_type": "stream",
     "text": [
      "iteration =  2\n",
      "total number of topics =  30\n",
      "documents without a topic =  940\n"
     ]
    },
    {
     "name": "stderr",
     "output_type": "stream",
     "text": [
      "Evaluating model configurations:   1%|▏         | 2/144 [01:40<1:59:14, 50.39s/it]"
     ]
    },
    {
     "name": "stdout",
     "output_type": "stream",
     "text": [
      "iteration =  3\n",
      "total number of topics =  46\n",
      "documents without a topic =  970\n"
     ]
    },
    {
     "name": "stderr",
     "output_type": "stream",
     "text": [
      "Evaluating model configurations:   2%|▏         | 3/144 [02:32<1:59:36, 50.90s/it]"
     ]
    },
    {
     "name": "stdout",
     "output_type": "stream",
     "text": [
      "iteration =  4\n",
      "total number of topics =  26\n",
      "documents without a topic =  1021\n"
     ]
    },
    {
     "name": "stderr",
     "output_type": "stream",
     "text": [
      "Evaluating model configurations:   3%|▎         | 4/144 [03:19<1:55:32, 49.52s/it]"
     ]
    },
    {
     "name": "stdout",
     "output_type": "stream",
     "text": [
      "iteration =  5\n",
      "total number of topics =  20\n",
      "documents without a topic =  947\n"
     ]
    },
    {
     "name": "stderr",
     "output_type": "stream",
     "text": [
      "Evaluating model configurations:   3%|▎         | 5/144 [04:06<1:52:14, 48.45s/it]"
     ]
    },
    {
     "name": "stdout",
     "output_type": "stream",
     "text": [
      "iteration =  6\n",
      "total number of topics =  33\n",
      "documents without a topic =  928\n"
     ]
    },
    {
     "name": "stderr",
     "output_type": "stream",
     "text": [
      "Evaluating model configurations:   4%|▍         | 6/144 [04:55<1:51:54, 48.66s/it]"
     ]
    },
    {
     "name": "stdout",
     "output_type": "stream",
     "text": [
      "iteration =  7\n",
      "total number of topics =  35\n",
      "documents without a topic =  929\n"
     ]
    },
    {
     "name": "stderr",
     "output_type": "stream",
     "text": [
      "Evaluating model configurations:   5%|▍         | 7/144 [05:45<1:52:04, 49.08s/it]"
     ]
    },
    {
     "name": "stdout",
     "output_type": "stream",
     "text": [
      "iteration =  8\n",
      "total number of topics =  36\n",
      "documents without a topic =  980\n"
     ]
    },
    {
     "name": "stderr",
     "output_type": "stream",
     "text": [
      "Evaluating model configurations:   6%|▌         | 8/144 [06:34<1:51:49, 49.33s/it]"
     ]
    },
    {
     "name": "stdout",
     "output_type": "stream",
     "text": [
      "iteration =  9\n",
      "total number of topics =  17\n",
      "documents without a topic =  1069\n"
     ]
    },
    {
     "name": "stderr",
     "output_type": "stream",
     "text": [
      "Evaluating model configurations:   6%|▋         | 9/144 [07:21<1:48:51, 48.38s/it]"
     ]
    },
    {
     "name": "stdout",
     "output_type": "stream",
     "text": [
      "iteration =  10\n",
      "total number of topics =  10\n",
      "documents without a topic =  1089\n"
     ]
    },
    {
     "name": "stderr",
     "output_type": "stream",
     "text": [
      "Evaluating model configurations:   7%|▋         | 10/144 [08:04<1:44:23, 46.74s/it]"
     ]
    },
    {
     "name": "stdout",
     "output_type": "stream",
     "text": [
      "iteration =  11\n",
      "total number of topics =  21\n",
      "documents without a topic =  1030\n"
     ]
    },
    {
     "name": "stderr",
     "output_type": "stream",
     "text": [
      "Evaluating model configurations:   8%|▊         | 11/144 [08:50<1:43:31, 46.70s/it]"
     ]
    },
    {
     "name": "stdout",
     "output_type": "stream",
     "text": [
      "iteration =  12\n",
      "total number of topics =  42\n",
      "documents without a topic =  941\n"
     ]
    },
    {
     "name": "stderr",
     "output_type": "stream",
     "text": [
      "Evaluating model configurations:   8%|▊         | 12/144 [09:43<1:46:25, 48.37s/it]"
     ]
    },
    {
     "name": "stdout",
     "output_type": "stream",
     "text": [
      "iteration =  13\n",
      "total number of topics =  26\n",
      "documents without a topic =  932\n"
     ]
    },
    {
     "name": "stderr",
     "output_type": "stream",
     "text": [
      "Evaluating model configurations:   9%|▉         | 13/144 [10:30<1:44:49, 48.01s/it]"
     ]
    },
    {
     "name": "stdout",
     "output_type": "stream",
     "text": [
      "iteration =  14\n",
      "total number of topics =  22\n",
      "documents without a topic =  1027\n"
     ]
    },
    {
     "name": "stderr",
     "output_type": "stream",
     "text": [
      "Evaluating model configurations:  10%|▉         | 14/144 [11:18<1:44:00, 48.01s/it]"
     ]
    },
    {
     "name": "stdout",
     "output_type": "stream",
     "text": [
      "iteration =  15\n",
      "total number of topics =  29\n",
      "documents without a topic =  1032\n"
     ]
    },
    {
     "name": "stderr",
     "output_type": "stream",
     "text": [
      "Evaluating model configurations:  10%|█         | 15/144 [12:07<1:43:39, 48.22s/it]"
     ]
    },
    {
     "name": "stdout",
     "output_type": "stream",
     "text": [
      "iteration =  16\n",
      "total number of topics =  34\n",
      "documents without a topic =  919\n"
     ]
    },
    {
     "name": "stderr",
     "output_type": "stream",
     "text": [
      "Evaluating model configurations:  11%|█         | 16/144 [12:57<1:44:25, 48.95s/it]"
     ]
    },
    {
     "name": "stdout",
     "output_type": "stream",
     "text": [
      "iteration =  17\n",
      "total number of topics =  20\n",
      "documents without a topic =  1088\n"
     ]
    },
    {
     "name": "stderr",
     "output_type": "stream",
     "text": [
      "Evaluating model configurations:  12%|█▏        | 17/144 [13:43<1:41:23, 47.90s/it]"
     ]
    },
    {
     "name": "stdout",
     "output_type": "stream",
     "text": [
      "iteration =  18\n",
      "total number of topics =  39\n",
      "documents without a topic =  931\n"
     ]
    },
    {
     "name": "stderr",
     "output_type": "stream",
     "text": [
      "Evaluating model configurations:  12%|█▎        | 18/144 [14:34<1:42:52, 48.99s/it]"
     ]
    },
    {
     "name": "stdout",
     "output_type": "stream",
     "text": [
      "iteration =  19\n",
      "total number of topics =  32\n",
      "documents without a topic =  747\n"
     ]
    },
    {
     "name": "stderr",
     "output_type": "stream",
     "text": [
      "Evaluating model configurations:  13%|█▎        | 19/144 [15:23<1:42:04, 48.99s/it]"
     ]
    },
    {
     "name": "stdout",
     "output_type": "stream",
     "text": [
      "iteration =  20\n",
      "total number of topics =  27\n",
      "documents without a topic =  972\n"
     ]
    },
    {
     "name": "stderr",
     "output_type": "stream",
     "text": [
      "Evaluating model configurations:  14%|█▍        | 20/144 [16:12<1:41:00, 48.87s/it]"
     ]
    },
    {
     "name": "stdout",
     "output_type": "stream",
     "text": [
      "iteration =  21\n",
      "total number of topics =  31\n",
      "documents without a topic =  916\n"
     ]
    },
    {
     "name": "stderr",
     "output_type": "stream",
     "text": [
      "Evaluating model configurations:  15%|█▍        | 21/144 [17:02<1:40:44, 49.14s/it]"
     ]
    },
    {
     "name": "stdout",
     "output_type": "stream",
     "text": [
      "iteration =  22\n",
      "total number of topics =  33\n",
      "documents without a topic =  1126\n"
     ]
    },
    {
     "name": "stderr",
     "output_type": "stream",
     "text": [
      "Evaluating model configurations:  15%|█▌        | 22/144 [17:52<1:40:32, 49.45s/it]"
     ]
    },
    {
     "name": "stdout",
     "output_type": "stream",
     "text": [
      "iteration =  23\n",
      "total number of topics =  27\n",
      "documents without a topic =  1024\n"
     ]
    },
    {
     "name": "stderr",
     "output_type": "stream",
     "text": [
      "Evaluating model configurations:  16%|█▌        | 23/144 [18:42<1:40:13, 49.70s/it]"
     ]
    },
    {
     "name": "stdout",
     "output_type": "stream",
     "text": [
      "iteration =  24\n",
      "total number of topics =  37\n",
      "documents without a topic =  944\n"
     ]
    },
    {
     "name": "stderr",
     "output_type": "stream",
     "text": [
      "Evaluating model configurations:  17%|█▋        | 24/144 [19:31<1:39:13, 49.62s/it]"
     ]
    },
    {
     "name": "stdout",
     "output_type": "stream",
     "text": [
      "iteration =  25\n",
      "total number of topics =  19\n",
      "documents without a topic =  954\n"
     ]
    },
    {
     "name": "stderr",
     "output_type": "stream",
     "text": [
      "Evaluating model configurations:  17%|█▋        | 25/144 [20:17<1:35:46, 48.29s/it]"
     ]
    },
    {
     "name": "stdout",
     "output_type": "stream",
     "text": [
      "iteration =  26\n",
      "total number of topics =  34\n",
      "documents without a topic =  886\n"
     ]
    },
    {
     "name": "stderr",
     "output_type": "stream",
     "text": [
      "Evaluating model configurations:  18%|█▊        | 26/144 [21:08<1:36:45, 49.20s/it]"
     ]
    },
    {
     "name": "stdout",
     "output_type": "stream",
     "text": [
      "iteration =  27\n",
      "total number of topics =  32\n",
      "documents without a topic =  1014\n"
     ]
    },
    {
     "name": "stderr",
     "output_type": "stream",
     "text": [
      "Evaluating model configurations:  19%|█▉        | 27/144 [21:59<1:36:52, 49.68s/it]"
     ]
    },
    {
     "name": "stdout",
     "output_type": "stream",
     "text": [
      "iteration =  28\n",
      "total number of topics =  35\n",
      "documents without a topic =  973\n"
     ]
    },
    {
     "name": "stderr",
     "output_type": "stream",
     "text": [
      "Evaluating model configurations:  19%|█▉        | 28/144 [22:49<1:36:32, 49.94s/it]"
     ]
    },
    {
     "name": "stdout",
     "output_type": "stream",
     "text": [
      "iteration =  29\n",
      "total number of topics =  34\n",
      "documents without a topic =  1071\n"
     ]
    },
    {
     "name": "stderr",
     "output_type": "stream",
     "text": [
      "Evaluating model configurations:  20%|██        | 29/144 [23:40<1:36:14, 50.22s/it]"
     ]
    },
    {
     "name": "stdout",
     "output_type": "stream",
     "text": [
      "iteration =  30\n",
      "total number of topics =  35\n",
      "documents without a topic =  1055\n"
     ]
    },
    {
     "name": "stderr",
     "output_type": "stream",
     "text": [
      "Evaluating model configurations:  21%|██        | 30/144 [24:30<1:35:19, 50.17s/it]"
     ]
    },
    {
     "name": "stdout",
     "output_type": "stream",
     "text": [
      "iteration =  31\n",
      "total number of topics =  33\n",
      "documents without a topic =  1004\n"
     ]
    },
    {
     "name": "stderr",
     "output_type": "stream",
     "text": [
      "Evaluating model configurations:  22%|██▏       | 31/144 [25:20<1:34:14, 50.04s/it]"
     ]
    },
    {
     "name": "stdout",
     "output_type": "stream",
     "text": [
      "iteration =  32\n",
      "total number of topics =  35\n",
      "documents without a topic =  1029\n"
     ]
    },
    {
     "name": "stderr",
     "output_type": "stream",
     "text": [
      "Evaluating model configurations:  22%|██▏       | 32/144 [26:11<1:33:52, 50.29s/it]"
     ]
    },
    {
     "name": "stdout",
     "output_type": "stream",
     "text": [
      "iteration =  33\n",
      "total number of topics =  30\n",
      "documents without a topic =  953\n"
     ]
    },
    {
     "name": "stderr",
     "output_type": "stream",
     "text": [
      "Evaluating model configurations:  23%|██▎       | 33/144 [27:00<1:32:26, 49.97s/it]"
     ]
    },
    {
     "name": "stdout",
     "output_type": "stream",
     "text": [
      "iteration =  34\n",
      "total number of topics =  35\n",
      "documents without a topic =  924\n"
     ]
    },
    {
     "name": "stderr",
     "output_type": "stream",
     "text": [
      "Evaluating model configurations:  24%|██▎       | 34/144 [27:51<1:31:58, 50.16s/it]"
     ]
    },
    {
     "name": "stdout",
     "output_type": "stream",
     "text": [
      "iteration =  35\n",
      "total number of topics =  29\n",
      "documents without a topic =  1025\n"
     ]
    },
    {
     "name": "stderr",
     "output_type": "stream",
     "text": [
      "Evaluating model configurations:  24%|██▍       | 35/144 [28:40<1:30:54, 50.04s/it]"
     ]
    },
    {
     "name": "stdout",
     "output_type": "stream",
     "text": [
      "iteration =  36\n",
      "total number of topics =  37\n",
      "documents without a topic =  927\n"
     ]
    },
    {
     "name": "stderr",
     "output_type": "stream",
     "text": [
      "Evaluating model configurations:  25%|██▌       | 36/144 [29:30<1:29:55, 49.96s/it]"
     ]
    },
    {
     "name": "stdout",
     "output_type": "stream",
     "text": [
      "iteration =  37\n",
      "total number of topics =  19\n",
      "documents without a topic =  941\n"
     ]
    },
    {
     "name": "stderr",
     "output_type": "stream",
     "text": [
      "Evaluating model configurations:  26%|██▌       | 37/144 [30:17<1:27:21, 48.98s/it]"
     ]
    },
    {
     "name": "stdout",
     "output_type": "stream",
     "text": [
      "iteration =  38\n",
      "total number of topics =  23\n",
      "documents without a topic =  1000\n"
     ]
    },
    {
     "name": "stderr",
     "output_type": "stream",
     "text": [
      "Evaluating model configurations:  26%|██▋       | 38/144 [31:08<1:27:36, 49.59s/it]"
     ]
    },
    {
     "name": "stdout",
     "output_type": "stream",
     "text": [
      "iteration =  39\n",
      "total number of topics =  34\n",
      "documents without a topic =  1052\n"
     ]
    },
    {
     "name": "stderr",
     "output_type": "stream",
     "text": [
      "Evaluating model configurations:  27%|██▋       | 39/144 [31:58<1:27:17, 49.88s/it]"
     ]
    },
    {
     "name": "stdout",
     "output_type": "stream",
     "text": [
      "iteration =  40\n",
      "total number of topics =  21\n",
      "documents without a topic =  1066\n"
     ]
    },
    {
     "name": "stderr",
     "output_type": "stream",
     "text": [
      "Evaluating model configurations:  28%|██▊       | 40/144 [32:47<1:25:37, 49.40s/it]"
     ]
    },
    {
     "name": "stdout",
     "output_type": "stream",
     "text": [
      "iteration =  41\n",
      "total number of topics =  29\n",
      "documents without a topic =  896\n"
     ]
    },
    {
     "name": "stderr",
     "output_type": "stream",
     "text": [
      "Evaluating model configurations:  28%|██▊       | 41/144 [33:37<1:25:28, 49.79s/it]"
     ]
    },
    {
     "name": "stdout",
     "output_type": "stream",
     "text": [
      "iteration =  42\n",
      "total number of topics =  37\n",
      "documents without a topic =  991\n"
     ]
    },
    {
     "name": "stderr",
     "output_type": "stream",
     "text": [
      "Evaluating model configurations:  29%|██▉       | 42/144 [34:28<1:25:03, 50.03s/it]"
     ]
    },
    {
     "name": "stdout",
     "output_type": "stream",
     "text": [
      "iteration =  43\n",
      "total number of topics =  27\n",
      "documents without a topic =  943\n"
     ]
    },
    {
     "name": "stderr",
     "output_type": "stream",
     "text": [
      "Evaluating model configurations:  30%|██▉       | 43/144 [35:18<1:24:12, 50.03s/it]"
     ]
    },
    {
     "name": "stdout",
     "output_type": "stream",
     "text": [
      "iteration =  44\n",
      "total number of topics =  44\n",
      "documents without a topic =  882\n"
     ]
    },
    {
     "name": "stderr",
     "output_type": "stream",
     "text": [
      "Evaluating model configurations:  31%|███       | 44/144 [36:09<1:23:55, 50.35s/it]"
     ]
    },
    {
     "name": "stdout",
     "output_type": "stream",
     "text": [
      "iteration =  45\n",
      "total number of topics =  34\n",
      "documents without a topic =  1081\n"
     ]
    },
    {
     "name": "stderr",
     "output_type": "stream",
     "text": [
      "Evaluating model configurations:  31%|███▏      | 45/144 [37:00<1:23:21, 50.52s/it]"
     ]
    },
    {
     "name": "stdout",
     "output_type": "stream",
     "text": [
      "iteration =  46\n",
      "total number of topics =  27\n",
      "documents without a topic =  865\n"
     ]
    },
    {
     "name": "stderr",
     "output_type": "stream",
     "text": [
      "Evaluating model configurations:  32%|███▏      | 46/144 [37:50<1:22:19, 50.41s/it]"
     ]
    },
    {
     "name": "stdout",
     "output_type": "stream",
     "text": [
      "iteration =  47\n",
      "total number of topics =  30\n",
      "documents without a topic =  984\n"
     ]
    },
    {
     "name": "stderr",
     "output_type": "stream",
     "text": [
      "Evaluating model configurations:  33%|███▎      | 47/144 [38:40<1:21:00, 50.11s/it]"
     ]
    },
    {
     "name": "stdout",
     "output_type": "stream",
     "text": [
      "iteration =  48\n",
      "total number of topics =  33\n",
      "documents without a topic =  933\n"
     ]
    },
    {
     "name": "stderr",
     "output_type": "stream",
     "text": [
      "Evaluating model configurations:  33%|███▎      | 48/144 [39:31<1:20:54, 50.57s/it]"
     ]
    },
    {
     "name": "stdout",
     "output_type": "stream",
     "text": [
      "iteration =  49\n",
      "total number of topics =  32\n",
      "documents without a topic =  1009\n"
     ]
    },
    {
     "name": "stderr",
     "output_type": "stream",
     "text": [
      "Evaluating model configurations:  34%|███▍      | 49/144 [40:21<1:19:51, 50.43s/it]"
     ]
    },
    {
     "name": "stdout",
     "output_type": "stream",
     "text": [
      "iteration =  50\n",
      "total number of topics =  32\n",
      "documents without a topic =  1041\n"
     ]
    },
    {
     "name": "stderr",
     "output_type": "stream",
     "text": [
      "Evaluating model configurations:  35%|███▍      | 50/144 [41:13<1:19:21, 50.65s/it]"
     ]
    },
    {
     "name": "stdout",
     "output_type": "stream",
     "text": [
      "iteration =  51\n",
      "total number of topics =  18\n",
      "documents without a topic =  1046\n"
     ]
    },
    {
     "name": "stderr",
     "output_type": "stream",
     "text": [
      "Evaluating model configurations:  35%|███▌      | 51/144 [42:03<1:18:21, 50.55s/it]"
     ]
    },
    {
     "name": "stdout",
     "output_type": "stream",
     "text": [
      "iteration =  52\n",
      "total number of topics =  29\n",
      "documents without a topic =  912\n"
     ]
    },
    {
     "name": "stderr",
     "output_type": "stream",
     "text": [
      "Evaluating model configurations:  36%|███▌      | 52/144 [42:54<1:17:49, 50.75s/it]"
     ]
    },
    {
     "name": "stdout",
     "output_type": "stream",
     "text": [
      "iteration =  53\n",
      "total number of topics =  23\n",
      "documents without a topic =  1004\n"
     ]
    },
    {
     "name": "stderr",
     "output_type": "stream",
     "text": [
      "Evaluating model configurations:  37%|███▋      | 53/144 [43:44<1:16:30, 50.44s/it]"
     ]
    },
    {
     "name": "stdout",
     "output_type": "stream",
     "text": [
      "iteration =  54\n",
      "total number of topics =  30\n",
      "documents without a topic =  930\n"
     ]
    },
    {
     "name": "stderr",
     "output_type": "stream",
     "text": [
      "Evaluating model configurations:  38%|███▊      | 54/144 [44:37<1:17:00, 51.34s/it]"
     ]
    },
    {
     "name": "stdout",
     "output_type": "stream",
     "text": [
      "iteration =  55\n",
      "total number of topics =  13\n",
      "documents without a topic =  947\n"
     ]
    },
    {
     "name": "stderr",
     "output_type": "stream",
     "text": [
      "Evaluating model configurations:  38%|███▊      | 55/144 [45:26<1:15:04, 50.61s/it]"
     ]
    },
    {
     "name": "stdout",
     "output_type": "stream",
     "text": [
      "iteration =  56\n",
      "total number of topics =  23\n",
      "documents without a topic =  1040\n"
     ]
    },
    {
     "name": "stderr",
     "output_type": "stream",
     "text": [
      "Evaluating model configurations:  39%|███▉      | 56/144 [46:18<1:14:52, 51.05s/it]"
     ]
    },
    {
     "name": "stdout",
     "output_type": "stream",
     "text": [
      "iteration =  57\n",
      "total number of topics =  42\n",
      "documents without a topic =  949\n"
     ]
    },
    {
     "name": "stderr",
     "output_type": "stream",
     "text": [
      "Evaluating model configurations:  40%|███▉      | 57/144 [47:19<1:18:04, 53.85s/it]"
     ]
    },
    {
     "name": "stdout",
     "output_type": "stream",
     "text": [
      "iteration =  58\n",
      "total number of topics =  32\n",
      "documents without a topic =  918\n"
     ]
    },
    {
     "name": "stderr",
     "output_type": "stream",
     "text": [
      "Evaluating model configurations:  40%|████      | 58/144 [48:11<1:16:44, 53.54s/it]"
     ]
    },
    {
     "name": "stdout",
     "output_type": "stream",
     "text": [
      "iteration =  59\n",
      "total number of topics =  35\n",
      "documents without a topic =  823\n"
     ]
    },
    {
     "name": "stderr",
     "output_type": "stream",
     "text": [
      "Evaluating model configurations:  41%|████      | 59/144 [49:07<1:16:39, 54.11s/it]"
     ]
    },
    {
     "name": "stdout",
     "output_type": "stream",
     "text": [
      "iteration =  60\n",
      "total number of topics =  24\n",
      "documents without a topic =  931\n"
     ]
    },
    {
     "name": "stderr",
     "output_type": "stream",
     "text": [
      "Evaluating model configurations:  42%|████▏     | 60/144 [49:59<1:14:52, 53.48s/it]"
     ]
    },
    {
     "name": "stdout",
     "output_type": "stream",
     "text": [
      "iteration =  61\n",
      "total number of topics =  46\n",
      "documents without a topic =  996\n"
     ]
    },
    {
     "name": "stderr",
     "output_type": "stream",
     "text": [
      "Evaluating model configurations:  42%|████▏     | 61/144 [50:53<1:14:26, 53.81s/it]"
     ]
    },
    {
     "name": "stdout",
     "output_type": "stream",
     "text": [
      "iteration =  62\n",
      "total number of topics =  18\n",
      "documents without a topic =  1071\n"
     ]
    },
    {
     "name": "stderr",
     "output_type": "stream",
     "text": [
      "Evaluating model configurations:  43%|████▎     | 62/144 [51:40<1:10:24, 51.52s/it]"
     ]
    },
    {
     "name": "stdout",
     "output_type": "stream",
     "text": [
      "iteration =  63\n",
      "total number of topics =  32\n",
      "documents without a topic =  934\n"
     ]
    },
    {
     "name": "stderr",
     "output_type": "stream",
     "text": [
      "Evaluating model configurations:  44%|████▍     | 63/144 [52:31<1:09:29, 51.47s/it]"
     ]
    },
    {
     "name": "stdout",
     "output_type": "stream",
     "text": [
      "iteration =  64\n",
      "total number of topics =  37\n",
      "documents without a topic =  851\n"
     ]
    },
    {
     "name": "stderr",
     "output_type": "stream",
     "text": [
      "Evaluating model configurations:  44%|████▍     | 64/144 [53:24<1:09:04, 51.81s/it]"
     ]
    },
    {
     "name": "stdout",
     "output_type": "stream",
     "text": [
      "iteration =  65\n",
      "total number of topics =  20\n",
      "documents without a topic =  1026\n"
     ]
    },
    {
     "name": "stderr",
     "output_type": "stream",
     "text": [
      "Evaluating model configurations:  45%|████▌     | 65/144 [54:16<1:08:16, 51.85s/it]"
     ]
    },
    {
     "name": "stdout",
     "output_type": "stream",
     "text": [
      "iteration =  66\n",
      "total number of topics =  33\n",
      "documents without a topic =  1042\n"
     ]
    },
    {
     "name": "stderr",
     "output_type": "stream",
     "text": [
      "Evaluating model configurations:  46%|████▌     | 66/144 [55:08<1:07:44, 52.11s/it]"
     ]
    },
    {
     "name": "stdout",
     "output_type": "stream",
     "text": [
      "iteration =  67\n",
      "total number of topics =  27\n",
      "documents without a topic =  849\n"
     ]
    },
    {
     "name": "stderr",
     "output_type": "stream",
     "text": [
      "Evaluating model configurations:  47%|████▋     | 67/144 [56:02<1:07:42, 52.76s/it]"
     ]
    },
    {
     "name": "stdout",
     "output_type": "stream",
     "text": [
      "iteration =  68\n",
      "total number of topics =  44\n",
      "documents without a topic =  936\n"
     ]
    },
    {
     "name": "stderr",
     "output_type": "stream",
     "text": [
      "Evaluating model configurations:  47%|████▋     | 68/144 [56:58<1:07:52, 53.59s/it]"
     ]
    },
    {
     "name": "stdout",
     "output_type": "stream",
     "text": [
      "iteration =  69\n",
      "total number of topics =  30\n",
      "documents without a topic =  937\n"
     ]
    },
    {
     "name": "stderr",
     "output_type": "stream",
     "text": [
      "Evaluating model configurations:  48%|████▊     | 69/144 [57:52<1:07:05, 53.67s/it]"
     ]
    },
    {
     "name": "stdout",
     "output_type": "stream",
     "text": [
      "iteration =  70\n",
      "total number of topics =  31\n",
      "documents without a topic =  904\n"
     ]
    },
    {
     "name": "stderr",
     "output_type": "stream",
     "text": [
      "Evaluating model configurations:  49%|████▊     | 70/144 [58:47<1:06:40, 54.05s/it]"
     ]
    },
    {
     "name": "stdout",
     "output_type": "stream",
     "text": [
      "iteration =  71\n",
      "total number of topics =  25\n",
      "documents without a topic =  1003\n"
     ]
    },
    {
     "name": "stderr",
     "output_type": "stream",
     "text": [
      "Evaluating model configurations:  49%|████▉     | 71/144 [59:38<1:04:39, 53.14s/it]"
     ]
    },
    {
     "name": "stdout",
     "output_type": "stream",
     "text": [
      "iteration =  72\n",
      "total number of topics =  35\n",
      "documents without a topic =  946\n"
     ]
    },
    {
     "name": "stderr",
     "output_type": "stream",
     "text": [
      "Evaluating model configurations:  50%|█████     | 72/144 [1:00:34<1:04:43, 53.94s/it]"
     ]
    },
    {
     "name": "stdout",
     "output_type": "stream",
     "text": [
      "iteration =  73\n",
      "total number of topics =  19\n",
      "documents without a topic =  1042\n"
     ]
    },
    {
     "name": "stderr",
     "output_type": "stream",
     "text": [
      "Evaluating model configurations:  51%|█████     | 73/144 [1:01:22<1:01:46, 52.20s/it]"
     ]
    },
    {
     "name": "stdout",
     "output_type": "stream",
     "text": [
      "iteration =  74\n",
      "total number of topics =  21\n",
      "documents without a topic =  1073\n"
     ]
    },
    {
     "name": "stderr",
     "output_type": "stream",
     "text": [
      "Evaluating model configurations:  51%|█████▏    | 74/144 [1:02:09<59:14, 50.78s/it]  "
     ]
    },
    {
     "name": "stdout",
     "output_type": "stream",
     "text": [
      "iteration =  75\n",
      "total number of topics =  33\n",
      "documents without a topic =  982\n"
     ]
    },
    {
     "name": "stderr",
     "output_type": "stream",
     "text": [
      "Evaluating model configurations:  52%|█████▏    | 75/144 [1:02:58<57:33, 50.05s/it]"
     ]
    },
    {
     "name": "stdout",
     "output_type": "stream",
     "text": [
      "iteration =  76\n",
      "total number of topics =  19\n",
      "documents without a topic =  848\n"
     ]
    },
    {
     "name": "stderr",
     "output_type": "stream",
     "text": [
      "Evaluating model configurations:  53%|█████▎    | 76/144 [1:03:44<55:21, 48.85s/it]"
     ]
    },
    {
     "name": "stdout",
     "output_type": "stream",
     "text": [
      "iteration =  77\n",
      "total number of topics =  36\n",
      "documents without a topic =  964\n"
     ]
    },
    {
     "name": "stderr",
     "output_type": "stream",
     "text": [
      "Evaluating model configurations:  53%|█████▎    | 77/144 [1:04:39<56:41, 50.78s/it]"
     ]
    },
    {
     "name": "stdout",
     "output_type": "stream",
     "text": [
      "iteration =  78\n",
      "total number of topics =  21\n",
      "documents without a topic =  1025\n"
     ]
    },
    {
     "name": "stderr",
     "output_type": "stream",
     "text": [
      "Evaluating model configurations:  54%|█████▍    | 78/144 [1:05:27<55:04, 50.07s/it]"
     ]
    },
    {
     "name": "stdout",
     "output_type": "stream",
     "text": [
      "iteration =  79\n",
      "total number of topics =  38\n",
      "documents without a topic =  1019\n"
     ]
    },
    {
     "name": "stderr",
     "output_type": "stream",
     "text": [
      "Evaluating model configurations:  55%|█████▍    | 79/144 [1:06:25<56:34, 52.22s/it]"
     ]
    },
    {
     "name": "stdout",
     "output_type": "stream",
     "text": [
      "iteration =  80\n",
      "total number of topics =  31\n",
      "documents without a topic =  1014\n"
     ]
    },
    {
     "name": "stderr",
     "output_type": "stream",
     "text": [
      "Evaluating model configurations:  56%|█████▌    | 80/144 [1:07:22<57:16, 53.69s/it]"
     ]
    },
    {
     "name": "stdout",
     "output_type": "stream",
     "text": [
      "iteration =  81\n",
      "total number of topics =  22\n",
      "documents without a topic =  955\n"
     ]
    },
    {
     "name": "stderr",
     "output_type": "stream",
     "text": [
      "Evaluating model configurations:  56%|█████▋    | 81/144 [1:08:13<55:31, 52.88s/it]"
     ]
    },
    {
     "name": "stdout",
     "output_type": "stream",
     "text": [
      "iteration =  82\n",
      "total number of topics =  36\n",
      "documents without a topic =  915\n"
     ]
    },
    {
     "name": "stderr",
     "output_type": "stream",
     "text": [
      "Evaluating model configurations:  57%|█████▋    | 82/144 [1:09:08<55:19, 53.54s/it]"
     ]
    },
    {
     "name": "stdout",
     "output_type": "stream",
     "text": [
      "iteration =  83\n",
      "total number of topics =  28\n",
      "documents without a topic =  994\n"
     ]
    },
    {
     "name": "stderr",
     "output_type": "stream",
     "text": [
      "Evaluating model configurations:  58%|█████▊    | 83/144 [1:10:01<54:20, 53.44s/it]"
     ]
    },
    {
     "name": "stdout",
     "output_type": "stream",
     "text": [
      "iteration =  84\n",
      "total number of topics =  28\n",
      "documents without a topic =  831\n"
     ]
    },
    {
     "name": "stderr",
     "output_type": "stream",
     "text": [
      "Evaluating model configurations:  58%|█████▊    | 84/144 [1:10:54<53:19, 53.32s/it]"
     ]
    },
    {
     "name": "stdout",
     "output_type": "stream",
     "text": [
      "iteration =  85\n",
      "total number of topics =  19\n",
      "documents without a topic =  1030\n"
     ]
    },
    {
     "name": "stderr",
     "output_type": "stream",
     "text": [
      "Evaluating model configurations:  59%|█████▉    | 85/144 [1:11:46<51:56, 52.82s/it]"
     ]
    },
    {
     "name": "stdout",
     "output_type": "stream",
     "text": [
      "iteration =  86\n",
      "total number of topics =  33\n",
      "documents without a topic =  1104\n"
     ]
    },
    {
     "name": "stderr",
     "output_type": "stream",
     "text": [
      "Evaluating model configurations:  60%|█████▉    | 86/144 [1:12:37<50:32, 52.29s/it]"
     ]
    },
    {
     "name": "stdout",
     "output_type": "stream",
     "text": [
      "iteration =  87\n",
      "total number of topics =  32\n",
      "documents without a topic =  1061\n"
     ]
    },
    {
     "name": "stderr",
     "output_type": "stream",
     "text": [
      "Evaluating model configurations:  60%|██████    | 87/144 [1:13:26<48:53, 51.47s/it]"
     ]
    },
    {
     "name": "stdout",
     "output_type": "stream",
     "text": [
      "iteration =  88\n",
      "total number of topics =  35\n",
      "documents without a topic =  986\n"
     ]
    },
    {
     "name": "stderr",
     "output_type": "stream",
     "text": [
      "Evaluating model configurations:  61%|██████    | 88/144 [1:14:15<47:15, 50.64s/it]"
     ]
    },
    {
     "name": "stdout",
     "output_type": "stream",
     "text": [
      "iteration =  89\n",
      "total number of topics =  41\n",
      "documents without a topic =  931\n"
     ]
    },
    {
     "name": "stderr",
     "output_type": "stream",
     "text": [
      "Evaluating model configurations:  62%|██████▏   | 89/144 [1:15:05<46:12, 50.40s/it]"
     ]
    },
    {
     "name": "stdout",
     "output_type": "stream",
     "text": [
      "iteration =  90\n",
      "total number of topics =  37\n",
      "documents without a topic =  1001\n"
     ]
    },
    {
     "name": "stderr",
     "output_type": "stream",
     "text": [
      "Evaluating model configurations:  62%|██████▎   | 90/144 [1:15:56<45:28, 50.53s/it]"
     ]
    },
    {
     "name": "stdout",
     "output_type": "stream",
     "text": [
      "iteration =  91\n",
      "total number of topics =  34\n",
      "documents without a topic =  932\n"
     ]
    },
    {
     "name": "stderr",
     "output_type": "stream",
     "text": [
      "Evaluating model configurations:  63%|██████▎   | 91/144 [1:16:55<46:58, 53.17s/it]"
     ]
    },
    {
     "name": "stdout",
     "output_type": "stream",
     "text": [
      "iteration =  92\n",
      "total number of topics =  32\n",
      "documents without a topic =  898\n"
     ]
    },
    {
     "name": "stderr",
     "output_type": "stream",
     "text": [
      "Evaluating model configurations:  64%|██████▍   | 92/144 [1:17:49<46:13, 53.34s/it]"
     ]
    },
    {
     "name": "stdout",
     "output_type": "stream",
     "text": [
      "iteration =  93\n",
      "total number of topics =  11\n",
      "documents without a topic =  947\n"
     ]
    },
    {
     "name": "stderr",
     "output_type": "stream",
     "text": [
      "Evaluating model configurations:  65%|██████▍   | 93/144 [1:18:39<44:37, 52.51s/it]"
     ]
    },
    {
     "name": "stdout",
     "output_type": "stream",
     "text": [
      "iteration =  94\n",
      "total number of topics =  19\n",
      "documents without a topic =  963\n"
     ]
    },
    {
     "name": "stderr",
     "output_type": "stream",
     "text": [
      "Evaluating model configurations:  65%|██████▌   | 94/144 [1:19:38<45:12, 54.26s/it]"
     ]
    },
    {
     "name": "stdout",
     "output_type": "stream",
     "text": [
      "iteration =  95\n",
      "total number of topics =  20\n",
      "documents without a topic =  1186\n"
     ]
    },
    {
     "name": "stderr",
     "output_type": "stream",
     "text": [
      "Evaluating model configurations:  66%|██████▌   | 95/144 [1:20:32<44:21, 54.32s/it]"
     ]
    },
    {
     "name": "stdout",
     "output_type": "stream",
     "text": [
      "iteration =  96\n",
      "total number of topics =  21\n",
      "documents without a topic =  1074\n"
     ]
    },
    {
     "name": "stderr",
     "output_type": "stream",
     "text": [
      "Evaluating model configurations:  67%|██████▋   | 96/144 [1:21:27<43:28, 54.35s/it]"
     ]
    },
    {
     "name": "stdout",
     "output_type": "stream",
     "text": [
      "iteration =  97\n",
      "total number of topics =  24\n",
      "documents without a topic =  864\n"
     ]
    },
    {
     "name": "stderr",
     "output_type": "stream",
     "text": [
      "Evaluating model configurations:  67%|██████▋   | 97/144 [1:22:23<43:01, 54.92s/it]"
     ]
    },
    {
     "name": "stdout",
     "output_type": "stream",
     "text": [
      "iteration =  98\n",
      "total number of topics =  18\n",
      "documents without a topic =  967\n"
     ]
    },
    {
     "name": "stderr",
     "output_type": "stream",
     "text": [
      "Evaluating model configurations:  68%|██████▊   | 98/144 [1:23:13<41:05, 53.60s/it]"
     ]
    },
    {
     "name": "stdout",
     "output_type": "stream",
     "text": [
      "iteration =  99\n",
      "total number of topics =  22\n",
      "documents without a topic =  941\n"
     ]
    },
    {
     "name": "stderr",
     "output_type": "stream",
     "text": [
      "Evaluating model configurations:  69%|██████▉   | 99/144 [1:24:07<40:10, 53.56s/it]"
     ]
    },
    {
     "name": "stdout",
     "output_type": "stream",
     "text": [
      "iteration =  100\n",
      "total number of topics =  35\n",
      "documents without a topic =  855\n"
     ]
    },
    {
     "name": "stderr",
     "output_type": "stream",
     "text": [
      "Evaluating model configurations:  69%|██████▉   | 100/144 [1:25:00<39:18, 53.60s/it]"
     ]
    },
    {
     "name": "stdout",
     "output_type": "stream",
     "text": [
      "iteration =  101\n",
      "total number of topics =  32\n",
      "documents without a topic =  1120\n"
     ]
    },
    {
     "name": "stderr",
     "output_type": "stream",
     "text": [
      "Evaluating model configurations:  70%|███████   | 101/144 [1:25:55<38:34, 53.84s/it]"
     ]
    },
    {
     "name": "stdout",
     "output_type": "stream",
     "text": [
      "iteration =  102\n",
      "total number of topics =  21\n",
      "documents without a topic =  949\n"
     ]
    },
    {
     "name": "stderr",
     "output_type": "stream",
     "text": [
      "Evaluating model configurations:  71%|███████   | 102/144 [1:26:46<37:01, 52.89s/it]"
     ]
    },
    {
     "name": "stdout",
     "output_type": "stream",
     "text": [
      "iteration =  103\n",
      "total number of topics =  29\n",
      "documents without a topic =  953\n"
     ]
    },
    {
     "name": "stderr",
     "output_type": "stream",
     "text": [
      "Evaluating model configurations:  72%|███████▏  | 103/144 [1:27:35<35:21, 51.75s/it]"
     ]
    },
    {
     "name": "stdout",
     "output_type": "stream",
     "text": [
      "iteration =  104\n",
      "total number of topics =  21\n",
      "documents without a topic =  1047\n"
     ]
    },
    {
     "name": "stderr",
     "output_type": "stream",
     "text": [
      "Evaluating model configurations:  72%|███████▏  | 104/144 [1:28:21<33:22, 50.07s/it]"
     ]
    },
    {
     "name": "stdout",
     "output_type": "stream",
     "text": [
      "iteration =  105\n",
      "total number of topics =  30\n",
      "documents without a topic =  1015\n"
     ]
    },
    {
     "name": "stderr",
     "output_type": "stream",
     "text": [
      "Evaluating model configurations:  73%|███████▎  | 105/144 [1:29:09<32:13, 49.57s/it]"
     ]
    },
    {
     "name": "stdout",
     "output_type": "stream",
     "text": [
      "iteration =  106\n",
      "total number of topics =  37\n",
      "documents without a topic =  1014\n"
     ]
    },
    {
     "name": "stderr",
     "output_type": "stream",
     "text": [
      "Evaluating model configurations:  74%|███████▎  | 106/144 [1:30:11<33:40, 53.16s/it]"
     ]
    },
    {
     "name": "stdout",
     "output_type": "stream",
     "text": [
      "iteration =  107\n",
      "total number of topics =  19\n",
      "documents without a topic =  1050\n"
     ]
    },
    {
     "name": "stderr",
     "output_type": "stream",
     "text": [
      "Evaluating model configurations:  74%|███████▍  | 107/144 [1:31:04<32:51, 53.29s/it]"
     ]
    },
    {
     "name": "stdout",
     "output_type": "stream",
     "text": [
      "iteration =  108\n",
      "total number of topics =  12\n",
      "documents without a topic =  975\n"
     ]
    },
    {
     "name": "stderr",
     "output_type": "stream",
     "text": [
      "Evaluating model configurations:  75%|███████▌  | 108/144 [1:31:59<32:11, 53.66s/it]"
     ]
    },
    {
     "name": "stdout",
     "output_type": "stream",
     "text": [
      "iteration =  109\n",
      "total number of topics =  36\n",
      "documents without a topic =  1006\n"
     ]
    },
    {
     "name": "stderr",
     "output_type": "stream",
     "text": [
      "Evaluating model configurations:  76%|███████▌  | 109/144 [1:33:05<33:27, 57.35s/it]"
     ]
    },
    {
     "name": "stdout",
     "output_type": "stream",
     "text": [
      "iteration =  110\n",
      "total number of topics =  37\n",
      "documents without a topic =  1025\n"
     ]
    },
    {
     "name": "stderr",
     "output_type": "stream",
     "text": [
      "Evaluating model configurations:  76%|███████▋  | 110/144 [1:34:07<33:17, 58.76s/it]"
     ]
    },
    {
     "name": "stdout",
     "output_type": "stream",
     "text": [
      "iteration =  111\n",
      "total number of topics =  28\n",
      "documents without a topic =  640\n"
     ]
    },
    {
     "name": "stderr",
     "output_type": "stream",
     "text": [
      "Evaluating model configurations:  77%|███████▋  | 111/144 [1:35:06<32:22, 58.86s/it]"
     ]
    },
    {
     "name": "stdout",
     "output_type": "stream",
     "text": [
      "iteration =  112\n",
      "total number of topics =  33\n",
      "documents without a topic =  1099\n"
     ]
    },
    {
     "name": "stderr",
     "output_type": "stream",
     "text": [
      "Evaluating model configurations:  78%|███████▊  | 112/144 [1:36:05<31:28, 59.00s/it]"
     ]
    },
    {
     "name": "stdout",
     "output_type": "stream",
     "text": [
      "iteration =  113\n",
      "total number of topics =  37\n",
      "documents without a topic =  1050\n"
     ]
    },
    {
     "name": "stderr",
     "output_type": "stream",
     "text": [
      "Evaluating model configurations:  78%|███████▊  | 113/144 [1:37:05<30:34, 59.17s/it]"
     ]
    },
    {
     "name": "stdout",
     "output_type": "stream",
     "text": [
      "iteration =  114\n",
      "total number of topics =  9\n",
      "documents without a topic =  867\n"
     ]
    },
    {
     "name": "stderr",
     "output_type": "stream",
     "text": [
      "Evaluating model configurations:  79%|███████▉  | 114/144 [1:37:54<28:09, 56.31s/it]"
     ]
    },
    {
     "name": "stdout",
     "output_type": "stream",
     "text": [
      "iteration =  115\n",
      "total number of topics =  35\n",
      "documents without a topic =  1076\n"
     ]
    },
    {
     "name": "stderr",
     "output_type": "stream",
     "text": [
      "Evaluating model configurations:  80%|███████▉  | 115/144 [1:38:49<26:55, 55.72s/it]"
     ]
    },
    {
     "name": "stdout",
     "output_type": "stream",
     "text": [
      "iteration =  116\n",
      "total number of topics =  18\n",
      "documents without a topic =  1038\n"
     ]
    },
    {
     "name": "stderr",
     "output_type": "stream",
     "text": [
      "Evaluating model configurations:  81%|████████  | 116/144 [1:39:44<25:56, 55.58s/it]"
     ]
    },
    {
     "name": "stdout",
     "output_type": "stream",
     "text": [
      "iteration =  117\n",
      "total number of topics =  23\n",
      "documents without a topic =  991\n"
     ]
    },
    {
     "name": "stderr",
     "output_type": "stream",
     "text": [
      "Evaluating model configurations:  81%|████████▏ | 117/144 [1:40:36<24:30, 54.47s/it]"
     ]
    },
    {
     "name": "stdout",
     "output_type": "stream",
     "text": [
      "iteration =  118\n",
      "total number of topics =  36\n",
      "documents without a topic =  972\n"
     ]
    },
    {
     "name": "stderr",
     "output_type": "stream",
     "text": [
      "Evaluating model configurations:  82%|████████▏ | 118/144 [1:41:26<23:00, 53.09s/it]"
     ]
    },
    {
     "name": "stdout",
     "output_type": "stream",
     "text": [
      "iteration =  119\n",
      "total number of topics =  20\n",
      "documents without a topic =  1042\n"
     ]
    },
    {
     "name": "stderr",
     "output_type": "stream",
     "text": [
      "Evaluating model configurations:  83%|████████▎ | 119/144 [1:42:11<21:09, 50.79s/it]"
     ]
    },
    {
     "name": "stdout",
     "output_type": "stream",
     "text": [
      "iteration =  120\n",
      "total number of topics =  38\n",
      "documents without a topic =  961\n"
     ]
    },
    {
     "name": "stderr",
     "output_type": "stream",
     "text": [
      "Evaluating model configurations:  83%|████████▎ | 120/144 [1:43:03<20:29, 51.22s/it]"
     ]
    },
    {
     "name": "stdout",
     "output_type": "stream",
     "text": [
      "iteration =  121\n",
      "total number of topics =  35\n",
      "documents without a topic =  980\n"
     ]
    },
    {
     "name": "stderr",
     "output_type": "stream",
     "text": [
      "Evaluating model configurations:  84%|████████▍ | 121/144 [1:44:08<21:08, 55.15s/it]"
     ]
    },
    {
     "name": "stdout",
     "output_type": "stream",
     "text": [
      "iteration =  122\n",
      "total number of topics =  22\n",
      "documents without a topic =  1188\n"
     ]
    },
    {
     "name": "stderr",
     "output_type": "stream",
     "text": [
      "Evaluating model configurations:  85%|████████▍ | 122/144 [1:45:02<20:06, 54.85s/it]"
     ]
    },
    {
     "name": "stdout",
     "output_type": "stream",
     "text": [
      "iteration =  123\n",
      "total number of topics =  31\n",
      "documents without a topic =  791\n"
     ]
    },
    {
     "name": "stderr",
     "output_type": "stream",
     "text": [
      "Evaluating model configurations:  85%|████████▌ | 123/144 [1:46:27<22:25, 64.06s/it]"
     ]
    },
    {
     "name": "stdout",
     "output_type": "stream",
     "text": [
      "iteration =  124\n",
      "total number of topics =  20\n",
      "documents without a topic =  1003\n"
     ]
    },
    {
     "name": "stderr",
     "output_type": "stream",
     "text": [
      "Evaluating model configurations:  86%|████████▌ | 124/144 [1:47:22<20:25, 61.26s/it]"
     ]
    },
    {
     "name": "stdout",
     "output_type": "stream",
     "text": [
      "iteration =  125\n",
      "total number of topics =  34\n",
      "documents without a topic =  873\n"
     ]
    },
    {
     "name": "stderr",
     "output_type": "stream",
     "text": [
      "Evaluating model configurations:  87%|████████▋ | 125/144 [1:48:17<18:48, 59.38s/it]"
     ]
    },
    {
     "name": "stdout",
     "output_type": "stream",
     "text": [
      "iteration =  126\n",
      "total number of topics =  24\n",
      "documents without a topic =  903\n"
     ]
    },
    {
     "name": "stderr",
     "output_type": "stream",
     "text": [
      "Evaluating model configurations:  88%|████████▊ | 126/144 [1:49:13<17:28, 58.27s/it]"
     ]
    },
    {
     "name": "stdout",
     "output_type": "stream",
     "text": [
      "iteration =  127\n",
      "total number of topics =  36\n",
      "documents without a topic =  1068\n"
     ]
    },
    {
     "name": "stderr",
     "output_type": "stream",
     "text": [
      "Evaluating model configurations:  88%|████████▊ | 127/144 [1:50:15<16:52, 59.57s/it]"
     ]
    },
    {
     "name": "stdout",
     "output_type": "stream",
     "text": [
      "iteration =  128\n",
      "total number of topics =  20\n",
      "documents without a topic =  1025\n"
     ]
    },
    {
     "name": "stderr",
     "output_type": "stream",
     "text": [
      "Evaluating model configurations:  89%|████████▉ | 128/144 [1:51:15<15:53, 59.60s/it]"
     ]
    },
    {
     "name": "stdout",
     "output_type": "stream",
     "text": [
      "iteration =  129\n",
      "total number of topics =  24\n",
      "documents without a topic =  920\n"
     ]
    },
    {
     "name": "stderr",
     "output_type": "stream",
     "text": [
      "Evaluating model configurations:  90%|████████▉ | 129/144 [1:52:10<14:31, 58.08s/it]"
     ]
    },
    {
     "name": "stdout",
     "output_type": "stream",
     "text": [
      "iteration =  130\n",
      "total number of topics =  20\n",
      "documents without a topic =  983\n"
     ]
    },
    {
     "name": "stderr",
     "output_type": "stream",
     "text": [
      "Evaluating model configurations:  90%|█████████ | 130/144 [1:53:01<13:05, 56.13s/it]"
     ]
    },
    {
     "name": "stdout",
     "output_type": "stream",
     "text": [
      "iteration =  131\n",
      "total number of topics =  33\n",
      "documents without a topic =  938\n"
     ]
    },
    {
     "name": "stderr",
     "output_type": "stream",
     "text": [
      "Evaluating model configurations:  91%|█████████ | 131/144 [1:54:00<12:19, 56.90s/it]"
     ]
    },
    {
     "name": "stdout",
     "output_type": "stream",
     "text": [
      "iteration =  132\n",
      "total number of topics =  29\n",
      "documents without a topic =  890\n"
     ]
    },
    {
     "name": "stderr",
     "output_type": "stream",
     "text": [
      "Evaluating model configurations:  92%|█████████▏| 132/144 [1:54:52<11:04, 55.34s/it]"
     ]
    },
    {
     "name": "stdout",
     "output_type": "stream",
     "text": [
      "iteration =  133\n",
      "total number of topics =  32\n",
      "documents without a topic =  945\n"
     ]
    },
    {
     "name": "stderr",
     "output_type": "stream",
     "text": [
      "Evaluating model configurations:  92%|█████████▏| 133/144 [1:55:40<09:45, 53.23s/it]"
     ]
    },
    {
     "name": "stdout",
     "output_type": "stream",
     "text": [
      "iteration =  134\n",
      "total number of topics =  42\n",
      "documents without a topic =  831\n"
     ]
    },
    {
     "name": "stderr",
     "output_type": "stream",
     "text": [
      "Evaluating model configurations:  93%|█████████▎| 134/144 [1:56:31<08:47, 52.71s/it]"
     ]
    },
    {
     "name": "stdout",
     "output_type": "stream",
     "text": [
      "iteration =  135\n",
      "total number of topics =  34\n",
      "documents without a topic =  991\n"
     ]
    },
    {
     "name": "stderr",
     "output_type": "stream",
     "text": [
      "Evaluating model configurations:  94%|█████████▍| 135/144 [1:57:21<07:46, 51.81s/it]"
     ]
    },
    {
     "name": "stdout",
     "output_type": "stream",
     "text": [
      "iteration =  136\n",
      "total number of topics =  35\n",
      "documents without a topic =  890\n"
     ]
    },
    {
     "name": "stderr",
     "output_type": "stream",
     "text": [
      "Evaluating model configurations:  94%|█████████▍| 136/144 [1:58:27<07:29, 56.13s/it]"
     ]
    },
    {
     "name": "stdout",
     "output_type": "stream",
     "text": [
      "iteration =  137\n",
      "total number of topics =  34\n",
      "documents without a topic =  974\n"
     ]
    },
    {
     "name": "stderr",
     "output_type": "stream",
     "text": [
      "Evaluating model configurations:  95%|█████████▌| 137/144 [1:59:31<06:49, 58.52s/it]"
     ]
    },
    {
     "name": "stdout",
     "output_type": "stream",
     "text": [
      "iteration =  138\n",
      "total number of topics =  43\n",
      "documents without a topic =  967\n"
     ]
    },
    {
     "name": "stderr",
     "output_type": "stream",
     "text": [
      "Evaluating model configurations:  96%|█████████▌| 138/144 [2:00:38<06:05, 60.96s/it]"
     ]
    },
    {
     "name": "stdout",
     "output_type": "stream",
     "text": [
      "iteration =  139\n",
      "total number of topics =  19\n",
      "documents without a topic =  858\n"
     ]
    },
    {
     "name": "stderr",
     "output_type": "stream",
     "text": [
      "Evaluating model configurations:  97%|█████████▋| 139/144 [2:01:42<05:09, 61.83s/it]"
     ]
    },
    {
     "name": "stdout",
     "output_type": "stream",
     "text": [
      "iteration =  140\n",
      "total number of topics =  34\n",
      "documents without a topic =  954\n"
     ]
    },
    {
     "name": "stderr",
     "output_type": "stream",
     "text": [
      "Evaluating model configurations:  97%|█████████▋| 140/144 [2:02:48<04:12, 63.22s/it]"
     ]
    },
    {
     "name": "stdout",
     "output_type": "stream",
     "text": [
      "iteration =  141\n",
      "total number of topics =  23\n",
      "documents without a topic =  1069\n"
     ]
    },
    {
     "name": "stderr",
     "output_type": "stream",
     "text": [
      "Evaluating model configurations:  98%|█████████▊| 141/144 [2:03:58<03:15, 65.26s/it]"
     ]
    },
    {
     "name": "stdout",
     "output_type": "stream",
     "text": [
      "iteration =  142\n",
      "total number of topics =  30\n",
      "documents without a topic =  1120\n"
     ]
    },
    {
     "name": "stderr",
     "output_type": "stream",
     "text": [
      "Evaluating model configurations:  99%|█████████▊| 142/144 [2:04:57<02:06, 63.11s/it]"
     ]
    },
    {
     "name": "stdout",
     "output_type": "stream",
     "text": [
      "iteration =  143\n",
      "total number of topics =  35\n",
      "documents without a topic =  1007\n"
     ]
    },
    {
     "name": "stderr",
     "output_type": "stream",
     "text": [
      "Evaluating model configurations:  99%|█████████▉| 143/144 [2:06:07<01:05, 65.42s/it]"
     ]
    },
    {
     "name": "stdout",
     "output_type": "stream",
     "text": [
      "iteration =  144\n",
      "total number of topics =  38\n",
      "documents without a topic =  1034\n"
     ]
    },
    {
     "name": "stderr",
     "output_type": "stream",
     "text": [
      "Evaluating model configurations: 100%|██████████| 144/144 [2:07:05<00:00, 52.95s/it]\n"
     ]
    },
    {
     "data": {
      "application/vnd.plotly.v1+json": {
       "data": [
        {
         "marker": {
          "color": [
           1016,
           940,
           970,
           1021,
           947,
           928,
           929,
           980,
           1069,
           1089,
           1030,
           941,
           932,
           1027,
           1032,
           919,
           1088,
           931,
           747,
           972,
           916,
           1126,
           1024,
           944,
           954,
           886,
           1014,
           973,
           1071,
           1055,
           1004,
           1029,
           953,
           924,
           1025,
           927,
           941,
           1000,
           1052,
           1066,
           896,
           991,
           943,
           882,
           1081,
           865,
           984,
           933,
           1009,
           1041,
           1046,
           912,
           1004,
           930,
           947,
           1040,
           949,
           918,
           823,
           931,
           996,
           1071,
           934,
           851,
           1026,
           1042,
           849,
           936,
           937,
           904,
           1003,
           946,
           1042,
           1073,
           982,
           848,
           964,
           1025,
           1019,
           1014,
           955,
           915,
           994,
           831,
           1030,
           1104,
           1061,
           986,
           931,
           1001,
           932,
           898,
           947,
           963,
           1186,
           1074,
           864,
           967,
           941,
           855,
           1120,
           949,
           953,
           1047,
           1015,
           1014,
           1050,
           975,
           1006,
           1025,
           640,
           1099,
           1050,
           867,
           1076,
           1038,
           991,
           972,
           1042,
           961,
           980,
           1188,
           791,
           1003,
           873,
           903,
           1068,
           1025,
           920,
           983,
           938,
           890,
           945,
           831,
           991,
           890,
           974,
           967,
           858,
           954,
           1069,
           1120,
           1007,
           1034
          ],
          "colorscale": [
           [
            0.0,
            "#440154"
           ],
           [
            0.1111111111111111,
            "#482878"
           ],
           [
            0.2222222222222222,
            "#3e4989"
           ],
           [
            0.3333333333333333,
            "#31688e"
           ],
           [
            0.4444444444444444,
            "#26828e"
           ],
           [
            0.5555555555555556,
            "#1f9e89"
           ],
           [
            0.6666666666666666,
            "#35b779"
           ],
           [
            0.7777777777777778,
            "#6ece58"
           ],
           [
            0.8888888888888888,
            "#b5de2b"
           ],
           [
            1.0,
            "#fde725"
           ]
          ],
          "opacity": 0.8,
          "size": 8
         },
         "mode": "markers",
         "text": [
          "Config 0",
          "Config 1",
          "Config 2",
          "Config 3",
          "Config 4",
          "Config 5",
          "Config 6",
          "Config 7",
          "Config 8",
          "Config 9",
          "Config 10",
          "Config 11",
          "Config 12",
          "Config 13",
          "Config 14",
          "Config 15",
          "Config 16",
          "Config 17",
          "Config 18",
          "Config 19",
          "Config 20",
          "Config 21",
          "Config 22",
          "Config 23",
          "Config 24",
          "Config 25",
          "Config 26",
          "Config 27",
          "Config 28",
          "Config 29",
          "Config 30",
          "Config 31",
          "Config 32",
          "Config 33",
          "Config 34",
          "Config 35",
          "Config 36",
          "Config 37",
          "Config 38",
          "Config 39",
          "Config 40",
          "Config 41",
          "Config 42",
          "Config 43",
          "Config 44",
          "Config 45",
          "Config 46",
          "Config 47",
          "Config 48",
          "Config 49",
          "Config 50",
          "Config 51",
          "Config 52",
          "Config 53",
          "Config 54",
          "Config 55",
          "Config 56",
          "Config 57",
          "Config 58",
          "Config 59",
          "Config 60",
          "Config 61",
          "Config 62",
          "Config 63",
          "Config 64",
          "Config 65",
          "Config 66",
          "Config 67",
          "Config 68",
          "Config 69",
          "Config 70",
          "Config 71",
          "Config 72",
          "Config 73",
          "Config 74",
          "Config 75",
          "Config 76",
          "Config 77",
          "Config 78",
          "Config 79",
          "Config 80",
          "Config 81",
          "Config 82",
          "Config 83",
          "Config 84",
          "Config 85",
          "Config 86",
          "Config 87",
          "Config 88",
          "Config 89",
          "Config 90",
          "Config 91",
          "Config 92",
          "Config 93",
          "Config 94",
          "Config 95",
          "Config 96",
          "Config 97",
          "Config 98",
          "Config 99",
          "Config 100",
          "Config 101",
          "Config 102",
          "Config 103",
          "Config 104",
          "Config 105",
          "Config 106",
          "Config 107",
          "Config 108",
          "Config 109",
          "Config 110",
          "Config 111",
          "Config 112",
          "Config 113",
          "Config 114",
          "Config 115",
          "Config 116",
          "Config 117",
          "Config 118",
          "Config 119",
          "Config 120",
          "Config 121",
          "Config 122",
          "Config 123",
          "Config 124",
          "Config 125",
          "Config 126",
          "Config 127",
          "Config 128",
          "Config 129",
          "Config 130",
          "Config 131",
          "Config 132",
          "Config 133",
          "Config 134",
          "Config 135",
          "Config 136",
          "Config 137",
          "Config 138",
          "Config 139",
          "Config 140",
          "Config 141",
          "Config 142",
          "Config 143"
         ],
         "x": [
          28,
          30,
          46,
          26,
          20,
          33,
          35,
          36,
          17,
          10,
          21,
          42,
          26,
          22,
          29,
          34,
          20,
          39,
          32,
          27,
          31,
          33,
          27,
          37,
          19,
          34,
          32,
          35,
          34,
          35,
          33,
          35,
          30,
          35,
          29,
          37,
          19,
          23,
          34,
          21,
          29,
          37,
          27,
          44,
          34,
          27,
          30,
          33,
          32,
          32,
          18,
          29,
          23,
          30,
          13,
          23,
          42,
          32,
          35,
          24,
          46,
          18,
          32,
          37,
          20,
          33,
          27,
          44,
          30,
          31,
          25,
          35,
          19,
          21,
          33,
          19,
          36,
          21,
          38,
          31,
          22,
          36,
          28,
          28,
          19,
          33,
          32,
          35,
          41,
          37,
          34,
          32,
          11,
          19,
          20,
          21,
          24,
          18,
          22,
          35,
          32,
          21,
          29,
          21,
          30,
          37,
          19,
          12,
          36,
          37,
          28,
          33,
          37,
          9,
          35,
          18,
          23,
          36,
          20,
          38,
          35,
          22,
          31,
          20,
          34,
          24,
          36,
          20,
          24,
          20,
          33,
          29,
          32,
          42,
          34,
          35,
          34,
          43,
          19,
          34,
          23,
          30,
          35,
          38
         ],
         "y": [
          0.5555407920418943,
          0.5530243847296601,
          0.5355788835281088,
          0.5733456337527718,
          0.5594568142718528,
          0.5540935018251398,
          0.5275158778535602,
          0.5306262154753826,
          0.5516352418470816,
          0.6266522330252801,
          0.5518741459402013,
          0.5333667395625318,
          0.5461290712010297,
          0.5899546855948957,
          0.5590807454482035,
          0.5427270628175035,
          0.563693486913744,
          0.5282443061006977,
          0.5360257299420838,
          0.5630162317145753,
          0.5387368191941777,
          0.5468434017829569,
          0.5533010254364215,
          0.5508194881512418,
          0.5503685033137118,
          0.5408448983944799,
          0.5460318522946563,
          0.543965932740612,
          0.5451154627995938,
          0.5494214423918833,
          0.5547792980905588,
          0.5514772060814366,
          0.5626615655293752,
          0.5484035115080788,
          0.5719724589826395,
          0.5345019074313745,
          0.5762700778290942,
          0.5344968374509695,
          0.5352978805581874,
          0.5725541053030903,
          0.5464520262734304,
          0.5299151213519493,
          0.5559335650115897,
          0.5310731815958881,
          0.5441901561738037,
          0.5489046335333151,
          0.5579644985431657,
          0.5538722417655558,
          0.5517878775612852,
          0.5605493286235946,
          0.5427251330711184,
          0.5551885748689154,
          0.5624142053416065,
          0.5566064590799433,
          0.5788249845099865,
          0.5675265212382071,
          0.5441852096262948,
          0.53445261702522,
          0.5485142950644734,
          0.5598690142289078,
          0.5355474199750591,
          0.5592858601231093,
          0.5285635919438769,
          0.5301787482851815,
          0.5418915939631578,
          0.5412357030735103,
          0.5491566018004849,
          0.5350722572823311,
          0.5577426021363389,
          0.5528897603753973,
          0.5556080433859463,
          0.5549560269642718,
          0.5833868811186127,
          0.5894723040926868,
          0.5356954889670198,
          0.5476919578571816,
          0.5451159583724366,
          0.5761358569711997,
          0.5390019574227989,
          0.553104698748199,
          0.561275788398377,
          0.5366184847546663,
          0.5738331001315325,
          0.5495507472191173,
          0.5581681377346006,
          0.5528125533325734,
          0.5495173538441215,
          0.5365511469713117,
          0.5407347848270906,
          0.5314792382247457,
          0.5528562528087853,
          0.5443130270315846,
          0.5784778346340161,
          0.5521087618676854,
          0.5579744935081353,
          0.5626402194253252,
          0.5774820112715435,
          0.5337970873296533,
          0.5666346074462159,
          0.5382163709029787,
          0.5597851828237023,
          0.5634232133829412,
          0.5382675281491398,
          0.5544147875297079,
          0.5570985715341575,
          0.5357013172303957,
          0.5699165595649012,
          0.58027088380914,
          0.5396956934784544,
          0.5425255020913415,
          0.5580086563107747,
          0.5598133780443668,
          0.5250708882565077,
          0.5500120922156316,
          0.558500952228885,
          0.5410639888575387,
          0.5802715536148983,
          0.5367954717564221,
          0.5409349390164182,
          0.5440828764930197,
          0.540171000802832,
          0.5605378023201846,
          0.54239926714772,
          0.5657433991398634,
          0.5656906344234295,
          0.5432458556628641,
          0.5290485418457672,
          0.5655042930388768,
          0.5503802372790841,
          0.5689203349448392,
          0.5501275252299525,
          0.5479920832380276,
          0.5569476489494977,
          0.5440970172992401,
          0.5496216750488998,
          0.5231194795582148,
          0.5499816230709796,
          0.5380118587286815,
          0.5662067318892017,
          0.5547783853210161,
          0.565248447024474,
          0.561196946057989,
          0.5409703018554294,
          0.5564165518725912
         ],
         "z": [
          0.5333333333333333,
          0.5758620689655173,
          0.44222222222222224,
          0.592,
          0.5789473684210527,
          0.51875,
          0.47941176470588237,
          0.4542857142857143,
          0.6,
          0.6888888888888889,
          0.615,
          0.4609756097560976,
          0.556,
          0.6142857142857143,
          0.5392857142857143,
          0.5121212121212121,
          0.6052631578947368,
          0.4789473684210526,
          0.4838709677419355,
          0.573076923076923,
          0.5333333333333333,
          0.5125,
          0.5576923076923077,
          0.4888888888888889,
          0.6,
          0.5181818181818182,
          0.5161290322580645,
          0.47941176470588237,
          0.49393939393939396,
          0.47941176470588237,
          0.51875,
          0.4970588235294118,
          0.5689655172413793,
          0.5205882352941177,
          0.55,
          0.5083333333333333,
          0.6055555555555555,
          0.5590909090909091,
          0.4818181818181818,
          0.59,
          0.5464285714285714,
          0.49444444444444446,
          0.55,
          0.4441860465116279,
          0.5,
          0.5653846153846154,
          0.5344827586206896,
          0.515625,
          0.5129032258064516,
          0.535483870967742,
          0.6176470588235294,
          0.5464285714285714,
          0.5909090909090909,
          0.5413793103448276,
          0.7083333333333334,
          0.6136363636363636,
          0.4682926829268293,
          0.5032258064516129,
          0.5205882352941177,
          0.5739130434782609,
          0.4444444444444444,
          0.6294117647058823,
          0.4967741935483871,
          0.49166666666666664,
          0.5947368421052631,
          0.5,
          0.5423076923076923,
          0.43953488372093025,
          0.5413793103448276,
          0.57,
          0.6041666666666666,
          0.5117647058823529,
          0.6166666666666667,
          0.625,
          0.478125,
          0.5944444444444444,
          0.4828571428571429,
          0.65,
          0.4891891891891892,
          0.5166666666666667,
          0.6238095238095238,
          0.48857142857142855,
          0.5666666666666667,
          0.5666666666666667,
          0.6111111111111112,
          0.515625,
          0.5258064516129032,
          0.4852941176470588,
          0.4575,
          0.45,
          0.503030303030303,
          0.5064516129032258,
          0.71,
          0.5944444444444444,
          0.5736842105263158,
          0.61,
          0.591304347826087,
          0.5882352941176471,
          0.5857142857142857,
          0.4970588235294118,
          0.5064516129032258,
          0.565,
          0.5464285714285714,
          0.595,
          0.5172413793103449,
          0.4888888888888889,
          0.6277777777777778,
          0.7272727272727273,
          0.4742857142857143,
          0.475,
          0.5296296296296297,
          0.515625,
          0.4583333333333333,
          0.6625,
          0.5029411764705882,
          0.5647058823529412,
          0.6,
          0.48,
          0.5526315789473685,
          0.4756756756756757,
          0.45294117647058824,
          0.5761904761904761,
          0.5066666666666667,
          0.6157894736842106,
          0.5272727272727272,
          0.5565217391304348,
          0.47714285714285715,
          0.6052631578947368,
          0.5652173913043478,
          0.6,
          0.509375,
          0.5178571428571429,
          0.5419354838709678,
          0.4585365853658537,
          0.5060606060606061,
          0.46176470588235297,
          0.5212121212121212,
          0.44047619047619047,
          0.65,
          0.5303030303030303,
          0.6090909090909091,
          0.5379310344827586,
          0.4676470588235294,
          0.4702702702702703
         ],
         "type": "scatter3d"
        }
       ],
       "layout": {
        "template": {
         "data": {
          "histogram2dcontour": [
           {
            "type": "histogram2dcontour",
            "colorbar": {
             "outlinewidth": 0,
             "ticks": ""
            },
            "colorscale": [
             [
              0.0,
              "#0d0887"
             ],
             [
              0.1111111111111111,
              "#46039f"
             ],
             [
              0.2222222222222222,
              "#7201a8"
             ],
             [
              0.3333333333333333,
              "#9c179e"
             ],
             [
              0.4444444444444444,
              "#bd3786"
             ],
             [
              0.5555555555555556,
              "#d8576b"
             ],
             [
              0.6666666666666666,
              "#ed7953"
             ],
             [
              0.7777777777777778,
              "#fb9f3a"
             ],
             [
              0.8888888888888888,
              "#fdca26"
             ],
             [
              1.0,
              "#f0f921"
             ]
            ]
           }
          ],
          "choropleth": [
           {
            "type": "choropleth",
            "colorbar": {
             "outlinewidth": 0,
             "ticks": ""
            }
           }
          ],
          "histogram2d": [
           {
            "type": "histogram2d",
            "colorbar": {
             "outlinewidth": 0,
             "ticks": ""
            },
            "colorscale": [
             [
              0.0,
              "#0d0887"
             ],
             [
              0.1111111111111111,
              "#46039f"
             ],
             [
              0.2222222222222222,
              "#7201a8"
             ],
             [
              0.3333333333333333,
              "#9c179e"
             ],
             [
              0.4444444444444444,
              "#bd3786"
             ],
             [
              0.5555555555555556,
              "#d8576b"
             ],
             [
              0.6666666666666666,
              "#ed7953"
             ],
             [
              0.7777777777777778,
              "#fb9f3a"
             ],
             [
              0.8888888888888888,
              "#fdca26"
             ],
             [
              1.0,
              "#f0f921"
             ]
            ]
           }
          ],
          "heatmap": [
           {
            "type": "heatmap",
            "colorbar": {
             "outlinewidth": 0,
             "ticks": ""
            },
            "colorscale": [
             [
              0.0,
              "#0d0887"
             ],
             [
              0.1111111111111111,
              "#46039f"
             ],
             [
              0.2222222222222222,
              "#7201a8"
             ],
             [
              0.3333333333333333,
              "#9c179e"
             ],
             [
              0.4444444444444444,
              "#bd3786"
             ],
             [
              0.5555555555555556,
              "#d8576b"
             ],
             [
              0.6666666666666666,
              "#ed7953"
             ],
             [
              0.7777777777777778,
              "#fb9f3a"
             ],
             [
              0.8888888888888888,
              "#fdca26"
             ],
             [
              1.0,
              "#f0f921"
             ]
            ]
           }
          ],
          "heatmapgl": [
           {
            "type": "heatmapgl",
            "colorbar": {
             "outlinewidth": 0,
             "ticks": ""
            },
            "colorscale": [
             [
              0.0,
              "#0d0887"
             ],
             [
              0.1111111111111111,
              "#46039f"
             ],
             [
              0.2222222222222222,
              "#7201a8"
             ],
             [
              0.3333333333333333,
              "#9c179e"
             ],
             [
              0.4444444444444444,
              "#bd3786"
             ],
             [
              0.5555555555555556,
              "#d8576b"
             ],
             [
              0.6666666666666666,
              "#ed7953"
             ],
             [
              0.7777777777777778,
              "#fb9f3a"
             ],
             [
              0.8888888888888888,
              "#fdca26"
             ],
             [
              1.0,
              "#f0f921"
             ]
            ]
           }
          ],
          "contourcarpet": [
           {
            "type": "contourcarpet",
            "colorbar": {
             "outlinewidth": 0,
             "ticks": ""
            }
           }
          ],
          "contour": [
           {
            "type": "contour",
            "colorbar": {
             "outlinewidth": 0,
             "ticks": ""
            },
            "colorscale": [
             [
              0.0,
              "#0d0887"
             ],
             [
              0.1111111111111111,
              "#46039f"
             ],
             [
              0.2222222222222222,
              "#7201a8"
             ],
             [
              0.3333333333333333,
              "#9c179e"
             ],
             [
              0.4444444444444444,
              "#bd3786"
             ],
             [
              0.5555555555555556,
              "#d8576b"
             ],
             [
              0.6666666666666666,
              "#ed7953"
             ],
             [
              0.7777777777777778,
              "#fb9f3a"
             ],
             [
              0.8888888888888888,
              "#fdca26"
             ],
             [
              1.0,
              "#f0f921"
             ]
            ]
           }
          ],
          "surface": [
           {
            "type": "surface",
            "colorbar": {
             "outlinewidth": 0,
             "ticks": ""
            },
            "colorscale": [
             [
              0.0,
              "#0d0887"
             ],
             [
              0.1111111111111111,
              "#46039f"
             ],
             [
              0.2222222222222222,
              "#7201a8"
             ],
             [
              0.3333333333333333,
              "#9c179e"
             ],
             [
              0.4444444444444444,
              "#bd3786"
             ],
             [
              0.5555555555555556,
              "#d8576b"
             ],
             [
              0.6666666666666666,
              "#ed7953"
             ],
             [
              0.7777777777777778,
              "#fb9f3a"
             ],
             [
              0.8888888888888888,
              "#fdca26"
             ],
             [
              1.0,
              "#f0f921"
             ]
            ]
           }
          ],
          "mesh3d": [
           {
            "type": "mesh3d",
            "colorbar": {
             "outlinewidth": 0,
             "ticks": ""
            }
           }
          ],
          "scatter": [
           {
            "marker": {
             "line": {
              "color": "#283442"
             }
            },
            "type": "scatter"
           }
          ],
          "parcoords": [
           {
            "type": "parcoords",
            "line": {
             "colorbar": {
              "outlinewidth": 0,
              "ticks": ""
             }
            }
           }
          ],
          "scatterpolargl": [
           {
            "type": "scatterpolargl",
            "marker": {
             "colorbar": {
              "outlinewidth": 0,
              "ticks": ""
             }
            }
           }
          ],
          "bar": [
           {
            "error_x": {
             "color": "#f2f5fa"
            },
            "error_y": {
             "color": "#f2f5fa"
            },
            "marker": {
             "line": {
              "color": "rgb(17,17,17)",
              "width": 0.5
             },
             "pattern": {
              "fillmode": "overlay",
              "size": 10,
              "solidity": 0.2
             }
            },
            "type": "bar"
           }
          ],
          "scattergeo": [
           {
            "type": "scattergeo",
            "marker": {
             "colorbar": {
              "outlinewidth": 0,
              "ticks": ""
             }
            }
           }
          ],
          "scatterpolar": [
           {
            "type": "scatterpolar",
            "marker": {
             "colorbar": {
              "outlinewidth": 0,
              "ticks": ""
             }
            }
           }
          ],
          "histogram": [
           {
            "marker": {
             "pattern": {
              "fillmode": "overlay",
              "size": 10,
              "solidity": 0.2
             }
            },
            "type": "histogram"
           }
          ],
          "scattergl": [
           {
            "marker": {
             "line": {
              "color": "#283442"
             }
            },
            "type": "scattergl"
           }
          ],
          "scatter3d": [
           {
            "type": "scatter3d",
            "line": {
             "colorbar": {
              "outlinewidth": 0,
              "ticks": ""
             }
            },
            "marker": {
             "colorbar": {
              "outlinewidth": 0,
              "ticks": ""
             }
            }
           }
          ],
          "scattermapbox": [
           {
            "type": "scattermapbox",
            "marker": {
             "colorbar": {
              "outlinewidth": 0,
              "ticks": ""
             }
            }
           }
          ],
          "scatterternary": [
           {
            "type": "scatterternary",
            "marker": {
             "colorbar": {
              "outlinewidth": 0,
              "ticks": ""
             }
            }
           }
          ],
          "scattercarpet": [
           {
            "type": "scattercarpet",
            "marker": {
             "colorbar": {
              "outlinewidth": 0,
              "ticks": ""
             }
            }
           }
          ],
          "carpet": [
           {
            "aaxis": {
             "endlinecolor": "#A2B1C6",
             "gridcolor": "#506784",
             "linecolor": "#506784",
             "minorgridcolor": "#506784",
             "startlinecolor": "#A2B1C6"
            },
            "baxis": {
             "endlinecolor": "#A2B1C6",
             "gridcolor": "#506784",
             "linecolor": "#506784",
             "minorgridcolor": "#506784",
             "startlinecolor": "#A2B1C6"
            },
            "type": "carpet"
           }
          ],
          "table": [
           {
            "cells": {
             "fill": {
              "color": "#506784"
             },
             "line": {
              "color": "rgb(17,17,17)"
             }
            },
            "header": {
             "fill": {
              "color": "#2a3f5f"
             },
             "line": {
              "color": "rgb(17,17,17)"
             }
            },
            "type": "table"
           }
          ],
          "barpolar": [
           {
            "marker": {
             "line": {
              "color": "rgb(17,17,17)",
              "width": 0.5
             },
             "pattern": {
              "fillmode": "overlay",
              "size": 10,
              "solidity": 0.2
             }
            },
            "type": "barpolar"
           }
          ],
          "pie": [
           {
            "automargin": true,
            "type": "pie"
           }
          ]
         },
         "layout": {
          "autotypenumbers": "strict",
          "colorway": [
           "#636efa",
           "#EF553B",
           "#00cc96",
           "#ab63fa",
           "#FFA15A",
           "#19d3f3",
           "#FF6692",
           "#B6E880",
           "#FF97FF",
           "#FECB52"
          ],
          "font": {
           "color": "#f2f5fa"
          },
          "hovermode": "closest",
          "hoverlabel": {
           "align": "left"
          },
          "paper_bgcolor": "rgb(17,17,17)",
          "plot_bgcolor": "rgb(17,17,17)",
          "polar": {
           "bgcolor": "rgb(17,17,17)",
           "angularaxis": {
            "gridcolor": "#506784",
            "linecolor": "#506784",
            "ticks": ""
           },
           "radialaxis": {
            "gridcolor": "#506784",
            "linecolor": "#506784",
            "ticks": ""
           }
          },
          "ternary": {
           "bgcolor": "rgb(17,17,17)",
           "aaxis": {
            "gridcolor": "#506784",
            "linecolor": "#506784",
            "ticks": ""
           },
           "baxis": {
            "gridcolor": "#506784",
            "linecolor": "#506784",
            "ticks": ""
           },
           "caxis": {
            "gridcolor": "#506784",
            "linecolor": "#506784",
            "ticks": ""
           }
          },
          "coloraxis": {
           "colorbar": {
            "outlinewidth": 0,
            "ticks": ""
           }
          },
          "colorscale": {
           "sequential": [
            [
             0.0,
             "#0d0887"
            ],
            [
             0.1111111111111111,
             "#46039f"
            ],
            [
             0.2222222222222222,
             "#7201a8"
            ],
            [
             0.3333333333333333,
             "#9c179e"
            ],
            [
             0.4444444444444444,
             "#bd3786"
            ],
            [
             0.5555555555555556,
             "#d8576b"
            ],
            [
             0.6666666666666666,
             "#ed7953"
            ],
            [
             0.7777777777777778,
             "#fb9f3a"
            ],
            [
             0.8888888888888888,
             "#fdca26"
            ],
            [
             1.0,
             "#f0f921"
            ]
           ],
           "sequentialminus": [
            [
             0.0,
             "#0d0887"
            ],
            [
             0.1111111111111111,
             "#46039f"
            ],
            [
             0.2222222222222222,
             "#7201a8"
            ],
            [
             0.3333333333333333,
             "#9c179e"
            ],
            [
             0.4444444444444444,
             "#bd3786"
            ],
            [
             0.5555555555555556,
             "#d8576b"
            ],
            [
             0.6666666666666666,
             "#ed7953"
            ],
            [
             0.7777777777777778,
             "#fb9f3a"
            ],
            [
             0.8888888888888888,
             "#fdca26"
            ],
            [
             1.0,
             "#f0f921"
            ]
           ],
           "diverging": [
            [
             0,
             "#8e0152"
            ],
            [
             0.1,
             "#c51b7d"
            ],
            [
             0.2,
             "#de77ae"
            ],
            [
             0.3,
             "#f1b6da"
            ],
            [
             0.4,
             "#fde0ef"
            ],
            [
             0.5,
             "#f7f7f7"
            ],
            [
             0.6,
             "#e6f5d0"
            ],
            [
             0.7,
             "#b8e186"
            ],
            [
             0.8,
             "#7fbc41"
            ],
            [
             0.9,
             "#4d9221"
            ],
            [
             1,
             "#276419"
            ]
           ]
          },
          "xaxis": {
           "gridcolor": "#283442",
           "linecolor": "#506784",
           "ticks": "",
           "title": {
            "standoff": 15
           },
           "zerolinecolor": "#283442",
           "automargin": true,
           "zerolinewidth": 2
          },
          "yaxis": {
           "gridcolor": "#283442",
           "linecolor": "#506784",
           "ticks": "",
           "title": {
            "standoff": 15
           },
           "zerolinecolor": "#283442",
           "automargin": true,
           "zerolinewidth": 2
          },
          "scene": {
           "xaxis": {
            "backgroundcolor": "rgb(17,17,17)",
            "gridcolor": "#506784",
            "linecolor": "#506784",
            "showbackground": true,
            "ticks": "",
            "zerolinecolor": "#C8D4E3",
            "gridwidth": 2
           },
           "yaxis": {
            "backgroundcolor": "rgb(17,17,17)",
            "gridcolor": "#506784",
            "linecolor": "#506784",
            "showbackground": true,
            "ticks": "",
            "zerolinecolor": "#C8D4E3",
            "gridwidth": 2
           },
           "zaxis": {
            "backgroundcolor": "rgb(17,17,17)",
            "gridcolor": "#506784",
            "linecolor": "#506784",
            "showbackground": true,
            "ticks": "",
            "zerolinecolor": "#C8D4E3",
            "gridwidth": 2
           }
          },
          "shapedefaults": {
           "line": {
            "color": "#f2f5fa"
           }
          },
          "annotationdefaults": {
           "arrowcolor": "#f2f5fa",
           "arrowhead": 0,
           "arrowwidth": 1
          },
          "geo": {
           "bgcolor": "rgb(17,17,17)",
           "landcolor": "rgb(17,17,17)",
           "subunitcolor": "#506784",
           "showland": true,
           "showlakes": true,
           "lakecolor": "rgb(17,17,17)"
          },
          "title": {
           "x": 0.05
          },
          "updatemenudefaults": {
           "bgcolor": "#506784",
           "borderwidth": 0
          },
          "sliderdefaults": {
           "bgcolor": "#C8D4E3",
           "borderwidth": 1,
           "bordercolor": "rgb(17,17,17)",
           "tickwidth": 0
          },
          "mapbox": {
           "style": "dark"
          }
         }
        },
        "title": {
         "text": "Topic Model Configurations in 3D Space"
        },
        "scene": {
         "xaxis": {
          "title": {
           "text": "Number of Topics"
          }
         },
         "yaxis": {
          "title": {
           "text": "Topic Coherence"
          }
         },
         "zaxis": {
          "title": {
           "text": "Topic Diversity"
          }
         }
        }
       },
       "config": {
        "plotlyServerURL": "https://plot.ly"
       }
      },
      "text/html": [
       "<div>                            <div id=\"8f781861-0f75-4f68-bb26-3e68071b7119\" class=\"plotly-graph-div\" style=\"height:525px; width:100%;\"></div>            <script type=\"text/javascript\">                require([\"plotly\"], function(Plotly) {                    window.PLOTLYENV=window.PLOTLYENV || {};                                    if (document.getElementById(\"8f781861-0f75-4f68-bb26-3e68071b7119\")) {                    Plotly.newPlot(                        \"8f781861-0f75-4f68-bb26-3e68071b7119\",                        [{\"marker\":{\"color\":[1016,940,970,1021,947,928,929,980,1069,1089,1030,941,932,1027,1032,919,1088,931,747,972,916,1126,1024,944,954,886,1014,973,1071,1055,1004,1029,953,924,1025,927,941,1000,1052,1066,896,991,943,882,1081,865,984,933,1009,1041,1046,912,1004,930,947,1040,949,918,823,931,996,1071,934,851,1026,1042,849,936,937,904,1003,946,1042,1073,982,848,964,1025,1019,1014,955,915,994,831,1030,1104,1061,986,931,1001,932,898,947,963,1186,1074,864,967,941,855,1120,949,953,1047,1015,1014,1050,975,1006,1025,640,1099,1050,867,1076,1038,991,972,1042,961,980,1188,791,1003,873,903,1068,1025,920,983,938,890,945,831,991,890,974,967,858,954,1069,1120,1007,1034],\"colorscale\":[[0.0,\"#440154\"],[0.1111111111111111,\"#482878\"],[0.2222222222222222,\"#3e4989\"],[0.3333333333333333,\"#31688e\"],[0.4444444444444444,\"#26828e\"],[0.5555555555555556,\"#1f9e89\"],[0.6666666666666666,\"#35b779\"],[0.7777777777777778,\"#6ece58\"],[0.8888888888888888,\"#b5de2b\"],[1.0,\"#fde725\"]],\"opacity\":0.8,\"size\":8},\"mode\":\"markers\",\"text\":[\"Config 0\",\"Config 1\",\"Config 2\",\"Config 3\",\"Config 4\",\"Config 5\",\"Config 6\",\"Config 7\",\"Config 8\",\"Config 9\",\"Config 10\",\"Config 11\",\"Config 12\",\"Config 13\",\"Config 14\",\"Config 15\",\"Config 16\",\"Config 17\",\"Config 18\",\"Config 19\",\"Config 20\",\"Config 21\",\"Config 22\",\"Config 23\",\"Config 24\",\"Config 25\",\"Config 26\",\"Config 27\",\"Config 28\",\"Config 29\",\"Config 30\",\"Config 31\",\"Config 32\",\"Config 33\",\"Config 34\",\"Config 35\",\"Config 36\",\"Config 37\",\"Config 38\",\"Config 39\",\"Config 40\",\"Config 41\",\"Config 42\",\"Config 43\",\"Config 44\",\"Config 45\",\"Config 46\",\"Config 47\",\"Config 48\",\"Config 49\",\"Config 50\",\"Config 51\",\"Config 52\",\"Config 53\",\"Config 54\",\"Config 55\",\"Config 56\",\"Config 57\",\"Config 58\",\"Config 59\",\"Config 60\",\"Config 61\",\"Config 62\",\"Config 63\",\"Config 64\",\"Config 65\",\"Config 66\",\"Config 67\",\"Config 68\",\"Config 69\",\"Config 70\",\"Config 71\",\"Config 72\",\"Config 73\",\"Config 74\",\"Config 75\",\"Config 76\",\"Config 77\",\"Config 78\",\"Config 79\",\"Config 80\",\"Config 81\",\"Config 82\",\"Config 83\",\"Config 84\",\"Config 85\",\"Config 86\",\"Config 87\",\"Config 88\",\"Config 89\",\"Config 90\",\"Config 91\",\"Config 92\",\"Config 93\",\"Config 94\",\"Config 95\",\"Config 96\",\"Config 97\",\"Config 98\",\"Config 99\",\"Config 100\",\"Config 101\",\"Config 102\",\"Config 103\",\"Config 104\",\"Config 105\",\"Config 106\",\"Config 107\",\"Config 108\",\"Config 109\",\"Config 110\",\"Config 111\",\"Config 112\",\"Config 113\",\"Config 114\",\"Config 115\",\"Config 116\",\"Config 117\",\"Config 118\",\"Config 119\",\"Config 120\",\"Config 121\",\"Config 122\",\"Config 123\",\"Config 124\",\"Config 125\",\"Config 126\",\"Config 127\",\"Config 128\",\"Config 129\",\"Config 130\",\"Config 131\",\"Config 132\",\"Config 133\",\"Config 134\",\"Config 135\",\"Config 136\",\"Config 137\",\"Config 138\",\"Config 139\",\"Config 140\",\"Config 141\",\"Config 142\",\"Config 143\"],\"x\":[28,30,46,26,20,33,35,36,17,10,21,42,26,22,29,34,20,39,32,27,31,33,27,37,19,34,32,35,34,35,33,35,30,35,29,37,19,23,34,21,29,37,27,44,34,27,30,33,32,32,18,29,23,30,13,23,42,32,35,24,46,18,32,37,20,33,27,44,30,31,25,35,19,21,33,19,36,21,38,31,22,36,28,28,19,33,32,35,41,37,34,32,11,19,20,21,24,18,22,35,32,21,29,21,30,37,19,12,36,37,28,33,37,9,35,18,23,36,20,38,35,22,31,20,34,24,36,20,24,20,33,29,32,42,34,35,34,43,19,34,23,30,35,38],\"y\":[0.5555407920418943,0.5530243847296601,0.5355788835281088,0.5733456337527718,0.5594568142718528,0.5540935018251398,0.5275158778535602,0.5306262154753826,0.5516352418470816,0.6266522330252801,0.5518741459402013,0.5333667395625318,0.5461290712010297,0.5899546855948957,0.5590807454482035,0.5427270628175035,0.563693486913744,0.5282443061006977,0.5360257299420838,0.5630162317145753,0.5387368191941777,0.5468434017829569,0.5533010254364215,0.5508194881512418,0.5503685033137118,0.5408448983944799,0.5460318522946563,0.543965932740612,0.5451154627995938,0.5494214423918833,0.5547792980905588,0.5514772060814366,0.5626615655293752,0.5484035115080788,0.5719724589826395,0.5345019074313745,0.5762700778290942,0.5344968374509695,0.5352978805581874,0.5725541053030903,0.5464520262734304,0.5299151213519493,0.5559335650115897,0.5310731815958881,0.5441901561738037,0.5489046335333151,0.5579644985431657,0.5538722417655558,0.5517878775612852,0.5605493286235946,0.5427251330711184,0.5551885748689154,0.5624142053416065,0.5566064590799433,0.5788249845099865,0.5675265212382071,0.5441852096262948,0.53445261702522,0.5485142950644734,0.5598690142289078,0.5355474199750591,0.5592858601231093,0.5285635919438769,0.5301787482851815,0.5418915939631578,0.5412357030735103,0.5491566018004849,0.5350722572823311,0.5577426021363389,0.5528897603753973,0.5556080433859463,0.5549560269642718,0.5833868811186127,0.5894723040926868,0.5356954889670198,0.5476919578571816,0.5451159583724366,0.5761358569711997,0.5390019574227989,0.553104698748199,0.561275788398377,0.5366184847546663,0.5738331001315325,0.5495507472191173,0.5581681377346006,0.5528125533325734,0.5495173538441215,0.5365511469713117,0.5407347848270906,0.5314792382247457,0.5528562528087853,0.5443130270315846,0.5784778346340161,0.5521087618676854,0.5579744935081353,0.5626402194253252,0.5774820112715435,0.5337970873296533,0.5666346074462159,0.5382163709029787,0.5597851828237023,0.5634232133829412,0.5382675281491398,0.5544147875297079,0.5570985715341575,0.5357013172303957,0.5699165595649012,0.58027088380914,0.5396956934784544,0.5425255020913415,0.5580086563107747,0.5598133780443668,0.5250708882565077,0.5500120922156316,0.558500952228885,0.5410639888575387,0.5802715536148983,0.5367954717564221,0.5409349390164182,0.5440828764930197,0.540171000802832,0.5605378023201846,0.54239926714772,0.5657433991398634,0.5656906344234295,0.5432458556628641,0.5290485418457672,0.5655042930388768,0.5503802372790841,0.5689203349448392,0.5501275252299525,0.5479920832380276,0.5569476489494977,0.5440970172992401,0.5496216750488998,0.5231194795582148,0.5499816230709796,0.5380118587286815,0.5662067318892017,0.5547783853210161,0.565248447024474,0.561196946057989,0.5409703018554294,0.5564165518725912],\"z\":[0.5333333333333333,0.5758620689655173,0.44222222222222224,0.592,0.5789473684210527,0.51875,0.47941176470588237,0.4542857142857143,0.6,0.6888888888888889,0.615,0.4609756097560976,0.556,0.6142857142857143,0.5392857142857143,0.5121212121212121,0.6052631578947368,0.4789473684210526,0.4838709677419355,0.573076923076923,0.5333333333333333,0.5125,0.5576923076923077,0.4888888888888889,0.6,0.5181818181818182,0.5161290322580645,0.47941176470588237,0.49393939393939396,0.47941176470588237,0.51875,0.4970588235294118,0.5689655172413793,0.5205882352941177,0.55,0.5083333333333333,0.6055555555555555,0.5590909090909091,0.4818181818181818,0.59,0.5464285714285714,0.49444444444444446,0.55,0.4441860465116279,0.5,0.5653846153846154,0.5344827586206896,0.515625,0.5129032258064516,0.535483870967742,0.6176470588235294,0.5464285714285714,0.5909090909090909,0.5413793103448276,0.7083333333333334,0.6136363636363636,0.4682926829268293,0.5032258064516129,0.5205882352941177,0.5739130434782609,0.4444444444444444,0.6294117647058823,0.4967741935483871,0.49166666666666664,0.5947368421052631,0.5,0.5423076923076923,0.43953488372093025,0.5413793103448276,0.57,0.6041666666666666,0.5117647058823529,0.6166666666666667,0.625,0.478125,0.5944444444444444,0.4828571428571429,0.65,0.4891891891891892,0.5166666666666667,0.6238095238095238,0.48857142857142855,0.5666666666666667,0.5666666666666667,0.6111111111111112,0.515625,0.5258064516129032,0.4852941176470588,0.4575,0.45,0.503030303030303,0.5064516129032258,0.71,0.5944444444444444,0.5736842105263158,0.61,0.591304347826087,0.5882352941176471,0.5857142857142857,0.4970588235294118,0.5064516129032258,0.565,0.5464285714285714,0.595,0.5172413793103449,0.4888888888888889,0.6277777777777778,0.7272727272727273,0.4742857142857143,0.475,0.5296296296296297,0.515625,0.4583333333333333,0.6625,0.5029411764705882,0.5647058823529412,0.6,0.48,0.5526315789473685,0.4756756756756757,0.45294117647058824,0.5761904761904761,0.5066666666666667,0.6157894736842106,0.5272727272727272,0.5565217391304348,0.47714285714285715,0.6052631578947368,0.5652173913043478,0.6,0.509375,0.5178571428571429,0.5419354838709678,0.4585365853658537,0.5060606060606061,0.46176470588235297,0.5212121212121212,0.44047619047619047,0.65,0.5303030303030303,0.6090909090909091,0.5379310344827586,0.4676470588235294,0.4702702702702703],\"type\":\"scatter3d\"}],                        {\"template\":{\"data\":{\"histogram2dcontour\":[{\"type\":\"histogram2dcontour\",\"colorbar\":{\"outlinewidth\":0,\"ticks\":\"\"},\"colorscale\":[[0.0,\"#0d0887\"],[0.1111111111111111,\"#46039f\"],[0.2222222222222222,\"#7201a8\"],[0.3333333333333333,\"#9c179e\"],[0.4444444444444444,\"#bd3786\"],[0.5555555555555556,\"#d8576b\"],[0.6666666666666666,\"#ed7953\"],[0.7777777777777778,\"#fb9f3a\"],[0.8888888888888888,\"#fdca26\"],[1.0,\"#f0f921\"]]}],\"choropleth\":[{\"type\":\"choropleth\",\"colorbar\":{\"outlinewidth\":0,\"ticks\":\"\"}}],\"histogram2d\":[{\"type\":\"histogram2d\",\"colorbar\":{\"outlinewidth\":0,\"ticks\":\"\"},\"colorscale\":[[0.0,\"#0d0887\"],[0.1111111111111111,\"#46039f\"],[0.2222222222222222,\"#7201a8\"],[0.3333333333333333,\"#9c179e\"],[0.4444444444444444,\"#bd3786\"],[0.5555555555555556,\"#d8576b\"],[0.6666666666666666,\"#ed7953\"],[0.7777777777777778,\"#fb9f3a\"],[0.8888888888888888,\"#fdca26\"],[1.0,\"#f0f921\"]]}],\"heatmap\":[{\"type\":\"heatmap\",\"colorbar\":{\"outlinewidth\":0,\"ticks\":\"\"},\"colorscale\":[[0.0,\"#0d0887\"],[0.1111111111111111,\"#46039f\"],[0.2222222222222222,\"#7201a8\"],[0.3333333333333333,\"#9c179e\"],[0.4444444444444444,\"#bd3786\"],[0.5555555555555556,\"#d8576b\"],[0.6666666666666666,\"#ed7953\"],[0.7777777777777778,\"#fb9f3a\"],[0.8888888888888888,\"#fdca26\"],[1.0,\"#f0f921\"]]}],\"heatmapgl\":[{\"type\":\"heatmapgl\",\"colorbar\":{\"outlinewidth\":0,\"ticks\":\"\"},\"colorscale\":[[0.0,\"#0d0887\"],[0.1111111111111111,\"#46039f\"],[0.2222222222222222,\"#7201a8\"],[0.3333333333333333,\"#9c179e\"],[0.4444444444444444,\"#bd3786\"],[0.5555555555555556,\"#d8576b\"],[0.6666666666666666,\"#ed7953\"],[0.7777777777777778,\"#fb9f3a\"],[0.8888888888888888,\"#fdca26\"],[1.0,\"#f0f921\"]]}],\"contourcarpet\":[{\"type\":\"contourcarpet\",\"colorbar\":{\"outlinewidth\":0,\"ticks\":\"\"}}],\"contour\":[{\"type\":\"contour\",\"colorbar\":{\"outlinewidth\":0,\"ticks\":\"\"},\"colorscale\":[[0.0,\"#0d0887\"],[0.1111111111111111,\"#46039f\"],[0.2222222222222222,\"#7201a8\"],[0.3333333333333333,\"#9c179e\"],[0.4444444444444444,\"#bd3786\"],[0.5555555555555556,\"#d8576b\"],[0.6666666666666666,\"#ed7953\"],[0.7777777777777778,\"#fb9f3a\"],[0.8888888888888888,\"#fdca26\"],[1.0,\"#f0f921\"]]}],\"surface\":[{\"type\":\"surface\",\"colorbar\":{\"outlinewidth\":0,\"ticks\":\"\"},\"colorscale\":[[0.0,\"#0d0887\"],[0.1111111111111111,\"#46039f\"],[0.2222222222222222,\"#7201a8\"],[0.3333333333333333,\"#9c179e\"],[0.4444444444444444,\"#bd3786\"],[0.5555555555555556,\"#d8576b\"],[0.6666666666666666,\"#ed7953\"],[0.7777777777777778,\"#fb9f3a\"],[0.8888888888888888,\"#fdca26\"],[1.0,\"#f0f921\"]]}],\"mesh3d\":[{\"type\":\"mesh3d\",\"colorbar\":{\"outlinewidth\":0,\"ticks\":\"\"}}],\"scatter\":[{\"marker\":{\"line\":{\"color\":\"#283442\"}},\"type\":\"scatter\"}],\"parcoords\":[{\"type\":\"parcoords\",\"line\":{\"colorbar\":{\"outlinewidth\":0,\"ticks\":\"\"}}}],\"scatterpolargl\":[{\"type\":\"scatterpolargl\",\"marker\":{\"colorbar\":{\"outlinewidth\":0,\"ticks\":\"\"}}}],\"bar\":[{\"error_x\":{\"color\":\"#f2f5fa\"},\"error_y\":{\"color\":\"#f2f5fa\"},\"marker\":{\"line\":{\"color\":\"rgb(17,17,17)\",\"width\":0.5},\"pattern\":{\"fillmode\":\"overlay\",\"size\":10,\"solidity\":0.2}},\"type\":\"bar\"}],\"scattergeo\":[{\"type\":\"scattergeo\",\"marker\":{\"colorbar\":{\"outlinewidth\":0,\"ticks\":\"\"}}}],\"scatterpolar\":[{\"type\":\"scatterpolar\",\"marker\":{\"colorbar\":{\"outlinewidth\":0,\"ticks\":\"\"}}}],\"histogram\":[{\"marker\":{\"pattern\":{\"fillmode\":\"overlay\",\"size\":10,\"solidity\":0.2}},\"type\":\"histogram\"}],\"scattergl\":[{\"marker\":{\"line\":{\"color\":\"#283442\"}},\"type\":\"scattergl\"}],\"scatter3d\":[{\"type\":\"scatter3d\",\"line\":{\"colorbar\":{\"outlinewidth\":0,\"ticks\":\"\"}},\"marker\":{\"colorbar\":{\"outlinewidth\":0,\"ticks\":\"\"}}}],\"scattermapbox\":[{\"type\":\"scattermapbox\",\"marker\":{\"colorbar\":{\"outlinewidth\":0,\"ticks\":\"\"}}}],\"scatterternary\":[{\"type\":\"scatterternary\",\"marker\":{\"colorbar\":{\"outlinewidth\":0,\"ticks\":\"\"}}}],\"scattercarpet\":[{\"type\":\"scattercarpet\",\"marker\":{\"colorbar\":{\"outlinewidth\":0,\"ticks\":\"\"}}}],\"carpet\":[{\"aaxis\":{\"endlinecolor\":\"#A2B1C6\",\"gridcolor\":\"#506784\",\"linecolor\":\"#506784\",\"minorgridcolor\":\"#506784\",\"startlinecolor\":\"#A2B1C6\"},\"baxis\":{\"endlinecolor\":\"#A2B1C6\",\"gridcolor\":\"#506784\",\"linecolor\":\"#506784\",\"minorgridcolor\":\"#506784\",\"startlinecolor\":\"#A2B1C6\"},\"type\":\"carpet\"}],\"table\":[{\"cells\":{\"fill\":{\"color\":\"#506784\"},\"line\":{\"color\":\"rgb(17,17,17)\"}},\"header\":{\"fill\":{\"color\":\"#2a3f5f\"},\"line\":{\"color\":\"rgb(17,17,17)\"}},\"type\":\"table\"}],\"barpolar\":[{\"marker\":{\"line\":{\"color\":\"rgb(17,17,17)\",\"width\":0.5},\"pattern\":{\"fillmode\":\"overlay\",\"size\":10,\"solidity\":0.2}},\"type\":\"barpolar\"}],\"pie\":[{\"automargin\":true,\"type\":\"pie\"}]},\"layout\":{\"autotypenumbers\":\"strict\",\"colorway\":[\"#636efa\",\"#EF553B\",\"#00cc96\",\"#ab63fa\",\"#FFA15A\",\"#19d3f3\",\"#FF6692\",\"#B6E880\",\"#FF97FF\",\"#FECB52\"],\"font\":{\"color\":\"#f2f5fa\"},\"hovermode\":\"closest\",\"hoverlabel\":{\"align\":\"left\"},\"paper_bgcolor\":\"rgb(17,17,17)\",\"plot_bgcolor\":\"rgb(17,17,17)\",\"polar\":{\"bgcolor\":\"rgb(17,17,17)\",\"angularaxis\":{\"gridcolor\":\"#506784\",\"linecolor\":\"#506784\",\"ticks\":\"\"},\"radialaxis\":{\"gridcolor\":\"#506784\",\"linecolor\":\"#506784\",\"ticks\":\"\"}},\"ternary\":{\"bgcolor\":\"rgb(17,17,17)\",\"aaxis\":{\"gridcolor\":\"#506784\",\"linecolor\":\"#506784\",\"ticks\":\"\"},\"baxis\":{\"gridcolor\":\"#506784\",\"linecolor\":\"#506784\",\"ticks\":\"\"},\"caxis\":{\"gridcolor\":\"#506784\",\"linecolor\":\"#506784\",\"ticks\":\"\"}},\"coloraxis\":{\"colorbar\":{\"outlinewidth\":0,\"ticks\":\"\"}},\"colorscale\":{\"sequential\":[[0.0,\"#0d0887\"],[0.1111111111111111,\"#46039f\"],[0.2222222222222222,\"#7201a8\"],[0.3333333333333333,\"#9c179e\"],[0.4444444444444444,\"#bd3786\"],[0.5555555555555556,\"#d8576b\"],[0.6666666666666666,\"#ed7953\"],[0.7777777777777778,\"#fb9f3a\"],[0.8888888888888888,\"#fdca26\"],[1.0,\"#f0f921\"]],\"sequentialminus\":[[0.0,\"#0d0887\"],[0.1111111111111111,\"#46039f\"],[0.2222222222222222,\"#7201a8\"],[0.3333333333333333,\"#9c179e\"],[0.4444444444444444,\"#bd3786\"],[0.5555555555555556,\"#d8576b\"],[0.6666666666666666,\"#ed7953\"],[0.7777777777777778,\"#fb9f3a\"],[0.8888888888888888,\"#fdca26\"],[1.0,\"#f0f921\"]],\"diverging\":[[0,\"#8e0152\"],[0.1,\"#c51b7d\"],[0.2,\"#de77ae\"],[0.3,\"#f1b6da\"],[0.4,\"#fde0ef\"],[0.5,\"#f7f7f7\"],[0.6,\"#e6f5d0\"],[0.7,\"#b8e186\"],[0.8,\"#7fbc41\"],[0.9,\"#4d9221\"],[1,\"#276419\"]]},\"xaxis\":{\"gridcolor\":\"#283442\",\"linecolor\":\"#506784\",\"ticks\":\"\",\"title\":{\"standoff\":15},\"zerolinecolor\":\"#283442\",\"automargin\":true,\"zerolinewidth\":2},\"yaxis\":{\"gridcolor\":\"#283442\",\"linecolor\":\"#506784\",\"ticks\":\"\",\"title\":{\"standoff\":15},\"zerolinecolor\":\"#283442\",\"automargin\":true,\"zerolinewidth\":2},\"scene\":{\"xaxis\":{\"backgroundcolor\":\"rgb(17,17,17)\",\"gridcolor\":\"#506784\",\"linecolor\":\"#506784\",\"showbackground\":true,\"ticks\":\"\",\"zerolinecolor\":\"#C8D4E3\",\"gridwidth\":2},\"yaxis\":{\"backgroundcolor\":\"rgb(17,17,17)\",\"gridcolor\":\"#506784\",\"linecolor\":\"#506784\",\"showbackground\":true,\"ticks\":\"\",\"zerolinecolor\":\"#C8D4E3\",\"gridwidth\":2},\"zaxis\":{\"backgroundcolor\":\"rgb(17,17,17)\",\"gridcolor\":\"#506784\",\"linecolor\":\"#506784\",\"showbackground\":true,\"ticks\":\"\",\"zerolinecolor\":\"#C8D4E3\",\"gridwidth\":2}},\"shapedefaults\":{\"line\":{\"color\":\"#f2f5fa\"}},\"annotationdefaults\":{\"arrowcolor\":\"#f2f5fa\",\"arrowhead\":0,\"arrowwidth\":1},\"geo\":{\"bgcolor\":\"rgb(17,17,17)\",\"landcolor\":\"rgb(17,17,17)\",\"subunitcolor\":\"#506784\",\"showland\":true,\"showlakes\":true,\"lakecolor\":\"rgb(17,17,17)\"},\"title\":{\"x\":0.05},\"updatemenudefaults\":{\"bgcolor\":\"#506784\",\"borderwidth\":0},\"sliderdefaults\":{\"bgcolor\":\"#C8D4E3\",\"borderwidth\":1,\"bordercolor\":\"rgb(17,17,17)\",\"tickwidth\":0},\"mapbox\":{\"style\":\"dark\"}}},\"title\":{\"text\":\"Topic Model Configurations in 3D Space\"},\"scene\":{\"xaxis\":{\"title\":{\"text\":\"Number of Topics\"}},\"yaxis\":{\"title\":{\"text\":\"Topic Coherence\"}},\"zaxis\":{\"title\":{\"text\":\"Topic Diversity\"}}}},                        {\"responsive\": true}                    ).then(function(){\n",
       "                            \n",
       "var gd = document.getElementById('8f781861-0f75-4f68-bb26-3e68071b7119');\n",
       "var x = new MutationObserver(function (mutations, observer) {{\n",
       "        var display = window.getComputedStyle(gd).display;\n",
       "        if (!display || display === 'none') {{\n",
       "            console.log([gd, 'removed!']);\n",
       "            Plotly.purge(gd);\n",
       "            observer.disconnect();\n",
       "        }}\n",
       "}});\n",
       "\n",
       "// Listen for the removal of the full notebook cells\n",
       "var notebookContainer = gd.closest('#notebook-container');\n",
       "if (notebookContainer) {{\n",
       "    x.observe(notebookContainer, {childList: true});\n",
       "}}\n",
       "\n",
       "// Listen for the clearing of the current output cell\n",
       "var outputEl = gd.closest('.output');\n",
       "if (outputEl) {{\n",
       "    x.observe(outputEl, {childList: true});\n",
       "}}\n",
       "\n",
       "                        })                };                });            </script>        </div>"
      ]
     },
     "metadata": {},
     "output_type": "display_data"
    },
    {
     "data": {
      "application/vnd.plotly.v1+json": {
       "data": [
        {
         "dimensions": [
          {
           "label": "number_of_topics",
           "values": [
            28,
            30,
            46,
            26,
            20,
            33,
            35,
            36,
            17,
            10,
            21,
            42,
            26,
            22,
            29,
            34,
            20,
            39,
            32,
            27,
            31,
            33,
            27,
            37,
            19,
            34,
            32,
            35,
            34,
            35,
            33,
            35,
            30,
            35,
            29,
            37,
            19,
            23,
            34,
            21,
            29,
            37,
            27,
            44,
            34,
            27,
            30,
            33,
            32,
            32,
            18,
            29,
            23,
            30,
            13,
            23,
            42,
            32,
            35,
            24,
            46,
            18,
            32,
            37,
            20,
            33,
            27,
            44,
            30,
            31,
            25,
            35,
            19,
            21,
            33,
            19,
            36,
            21,
            38,
            31,
            22,
            36,
            28,
            28,
            19,
            33,
            32,
            35,
            41,
            37,
            34,
            32,
            11,
            19,
            20,
            21,
            24,
            18,
            22,
            35,
            32,
            21,
            29,
            21,
            30,
            37,
            19,
            12,
            36,
            37,
            28,
            33,
            37,
            9,
            35,
            18,
            23,
            36,
            20,
            38,
            35,
            22,
            31,
            20,
            34,
            24,
            36,
            20,
            24,
            20,
            33,
            29,
            32,
            42,
            34,
            35,
            34,
            43,
            19,
            34,
            23,
            30,
            35,
            38
           ]
          },
          {
           "label": "topic_coherence",
           "values": [
            0.5555407920418943,
            0.5530243847296601,
            0.5355788835281088,
            0.5733456337527718,
            0.5594568142718528,
            0.5540935018251398,
            0.5275158778535602,
            0.5306262154753826,
            0.5516352418470816,
            0.6266522330252801,
            0.5518741459402013,
            0.5333667395625318,
            0.5461290712010297,
            0.5899546855948957,
            0.5590807454482035,
            0.5427270628175035,
            0.563693486913744,
            0.5282443061006977,
            0.5360257299420838,
            0.5630162317145753,
            0.5387368191941777,
            0.5468434017829569,
            0.5533010254364215,
            0.5508194881512418,
            0.5503685033137118,
            0.5408448983944799,
            0.5460318522946563,
            0.543965932740612,
            0.5451154627995938,
            0.5494214423918833,
            0.5547792980905588,
            0.5514772060814366,
            0.5626615655293752,
            0.5484035115080788,
            0.5719724589826395,
            0.5345019074313745,
            0.5762700778290942,
            0.5344968374509695,
            0.5352978805581874,
            0.5725541053030903,
            0.5464520262734304,
            0.5299151213519493,
            0.5559335650115897,
            0.5310731815958881,
            0.5441901561738037,
            0.5489046335333151,
            0.5579644985431657,
            0.5538722417655558,
            0.5517878775612852,
            0.5605493286235946,
            0.5427251330711184,
            0.5551885748689154,
            0.5624142053416065,
            0.5566064590799433,
            0.5788249845099865,
            0.5675265212382071,
            0.5441852096262948,
            0.53445261702522,
            0.5485142950644734,
            0.5598690142289078,
            0.5355474199750591,
            0.5592858601231093,
            0.5285635919438769,
            0.5301787482851815,
            0.5418915939631578,
            0.5412357030735103,
            0.5491566018004849,
            0.5350722572823311,
            0.5577426021363389,
            0.5528897603753973,
            0.5556080433859463,
            0.5549560269642718,
            0.5833868811186127,
            0.5894723040926868,
            0.5356954889670198,
            0.5476919578571816,
            0.5451159583724366,
            0.5761358569711997,
            0.5390019574227989,
            0.553104698748199,
            0.561275788398377,
            0.5366184847546663,
            0.5738331001315325,
            0.5495507472191173,
            0.5581681377346006,
            0.5528125533325734,
            0.5495173538441215,
            0.5365511469713117,
            0.5407347848270906,
            0.5314792382247457,
            0.5528562528087853,
            0.5443130270315846,
            0.5784778346340161,
            0.5521087618676854,
            0.5579744935081353,
            0.5626402194253252,
            0.5774820112715435,
            0.5337970873296533,
            0.5666346074462159,
            0.5382163709029787,
            0.5597851828237023,
            0.5634232133829412,
            0.5382675281491398,
            0.5544147875297079,
            0.5570985715341575,
            0.5357013172303957,
            0.5699165595649012,
            0.58027088380914,
            0.5396956934784544,
            0.5425255020913415,
            0.5580086563107747,
            0.5598133780443668,
            0.5250708882565077,
            0.5500120922156316,
            0.558500952228885,
            0.5410639888575387,
            0.5802715536148983,
            0.5367954717564221,
            0.5409349390164182,
            0.5440828764930197,
            0.540171000802832,
            0.5605378023201846,
            0.54239926714772,
            0.5657433991398634,
            0.5656906344234295,
            0.5432458556628641,
            0.5290485418457672,
            0.5655042930388768,
            0.5503802372790841,
            0.5689203349448392,
            0.5501275252299525,
            0.5479920832380276,
            0.5569476489494977,
            0.5440970172992401,
            0.5496216750488998,
            0.5231194795582148,
            0.5499816230709796,
            0.5380118587286815,
            0.5662067318892017,
            0.5547783853210161,
            0.565248447024474,
            0.561196946057989,
            0.5409703018554294,
            0.5564165518725912
           ]
          },
          {
           "label": "topic_diversity",
           "values": [
            0.5333333333333333,
            0.5758620689655173,
            0.44222222222222224,
            0.592,
            0.5789473684210527,
            0.51875,
            0.47941176470588237,
            0.4542857142857143,
            0.6,
            0.6888888888888889,
            0.615,
            0.4609756097560976,
            0.556,
            0.6142857142857143,
            0.5392857142857143,
            0.5121212121212121,
            0.6052631578947368,
            0.4789473684210526,
            0.4838709677419355,
            0.573076923076923,
            0.5333333333333333,
            0.5125,
            0.5576923076923077,
            0.4888888888888889,
            0.6,
            0.5181818181818182,
            0.5161290322580645,
            0.47941176470588237,
            0.49393939393939396,
            0.47941176470588237,
            0.51875,
            0.4970588235294118,
            0.5689655172413793,
            0.5205882352941177,
            0.55,
            0.5083333333333333,
            0.6055555555555555,
            0.5590909090909091,
            0.4818181818181818,
            0.59,
            0.5464285714285714,
            0.49444444444444446,
            0.55,
            0.4441860465116279,
            0.5,
            0.5653846153846154,
            0.5344827586206896,
            0.515625,
            0.5129032258064516,
            0.535483870967742,
            0.6176470588235294,
            0.5464285714285714,
            0.5909090909090909,
            0.5413793103448276,
            0.7083333333333334,
            0.6136363636363636,
            0.4682926829268293,
            0.5032258064516129,
            0.5205882352941177,
            0.5739130434782609,
            0.4444444444444444,
            0.6294117647058823,
            0.4967741935483871,
            0.49166666666666664,
            0.5947368421052631,
            0.5,
            0.5423076923076923,
            0.43953488372093025,
            0.5413793103448276,
            0.57,
            0.6041666666666666,
            0.5117647058823529,
            0.6166666666666667,
            0.625,
            0.478125,
            0.5944444444444444,
            0.4828571428571429,
            0.65,
            0.4891891891891892,
            0.5166666666666667,
            0.6238095238095238,
            0.48857142857142855,
            0.5666666666666667,
            0.5666666666666667,
            0.6111111111111112,
            0.515625,
            0.5258064516129032,
            0.4852941176470588,
            0.4575,
            0.45,
            0.503030303030303,
            0.5064516129032258,
            0.71,
            0.5944444444444444,
            0.5736842105263158,
            0.61,
            0.591304347826087,
            0.5882352941176471,
            0.5857142857142857,
            0.4970588235294118,
            0.5064516129032258,
            0.565,
            0.5464285714285714,
            0.595,
            0.5172413793103449,
            0.4888888888888889,
            0.6277777777777778,
            0.7272727272727273,
            0.4742857142857143,
            0.475,
            0.5296296296296297,
            0.515625,
            0.4583333333333333,
            0.6625,
            0.5029411764705882,
            0.5647058823529412,
            0.6,
            0.48,
            0.5526315789473685,
            0.4756756756756757,
            0.45294117647058824,
            0.5761904761904761,
            0.5066666666666667,
            0.6157894736842106,
            0.5272727272727272,
            0.5565217391304348,
            0.47714285714285715,
            0.6052631578947368,
            0.5652173913043478,
            0.6,
            0.509375,
            0.5178571428571429,
            0.5419354838709678,
            0.4585365853658537,
            0.5060606060606061,
            0.46176470588235297,
            0.5212121212121212,
            0.44047619047619047,
            0.65,
            0.5303030303030303,
            0.6090909090909091,
            0.5379310344827586,
            0.4676470588235294,
            0.4702702702702703
           ]
          },
          {
           "label": "docs_without_topic",
           "values": [
            1016,
            940,
            970,
            1021,
            947,
            928,
            929,
            980,
            1069,
            1089,
            1030,
            941,
            932,
            1027,
            1032,
            919,
            1088,
            931,
            747,
            972,
            916,
            1126,
            1024,
            944,
            954,
            886,
            1014,
            973,
            1071,
            1055,
            1004,
            1029,
            953,
            924,
            1025,
            927,
            941,
            1000,
            1052,
            1066,
            896,
            991,
            943,
            882,
            1081,
            865,
            984,
            933,
            1009,
            1041,
            1046,
            912,
            1004,
            930,
            947,
            1040,
            949,
            918,
            823,
            931,
            996,
            1071,
            934,
            851,
            1026,
            1042,
            849,
            936,
            937,
            904,
            1003,
            946,
            1042,
            1073,
            982,
            848,
            964,
            1025,
            1019,
            1014,
            955,
            915,
            994,
            831,
            1030,
            1104,
            1061,
            986,
            931,
            1001,
            932,
            898,
            947,
            963,
            1186,
            1074,
            864,
            967,
            941,
            855,
            1120,
            949,
            953,
            1047,
            1015,
            1014,
            1050,
            975,
            1006,
            1025,
            640,
            1099,
            1050,
            867,
            1076,
            1038,
            991,
            972,
            1042,
            961,
            980,
            1188,
            791,
            1003,
            873,
            903,
            1068,
            1025,
            920,
            983,
            938,
            890,
            945,
            831,
            991,
            890,
            974,
            967,
            858,
            954,
            1069,
            1120,
            1007,
            1034
           ]
          },
          {
           "label": "umap_min_dist",
           "values": [
            0.0,
            0.0,
            0.0,
            0.0,
            0.0,
            0.0,
            0.0,
            0.0,
            0.0,
            0.0,
            0.0,
            0.0,
            0.0,
            0.0,
            0.0,
            0.0,
            0.0,
            0.0,
            0.0,
            0.0,
            0.0,
            0.0,
            0.0,
            0.0,
            0.0,
            0.0,
            0.0,
            0.0,
            0.0,
            0.0,
            0.0,
            0.0,
            0.0,
            0.0,
            0.0,
            0.0,
            0.0,
            0.0,
            0.0,
            0.0,
            0.0,
            0.0,
            0.0,
            0.0,
            0.0,
            0.0,
            0.0,
            0.0,
            0.05,
            0.05,
            0.05,
            0.05,
            0.05,
            0.05,
            0.05,
            0.05,
            0.05,
            0.05,
            0.05,
            0.05,
            0.05,
            0.05,
            0.05,
            0.05,
            0.05,
            0.05,
            0.05,
            0.05,
            0.05,
            0.05,
            0.05,
            0.05,
            0.05,
            0.05,
            0.05,
            0.05,
            0.05,
            0.05,
            0.05,
            0.05,
            0.05,
            0.05,
            0.05,
            0.05,
            0.05,
            0.05,
            0.05,
            0.05,
            0.05,
            0.05,
            0.05,
            0.05,
            0.05,
            0.05,
            0.05,
            0.05,
            0.1,
            0.1,
            0.1,
            0.1,
            0.1,
            0.1,
            0.1,
            0.1,
            0.1,
            0.1,
            0.1,
            0.1,
            0.1,
            0.1,
            0.1,
            0.1,
            0.1,
            0.1,
            0.1,
            0.1,
            0.1,
            0.1,
            0.1,
            0.1,
            0.1,
            0.1,
            0.1,
            0.1,
            0.1,
            0.1,
            0.1,
            0.1,
            0.1,
            0.1,
            0.1,
            0.1,
            0.1,
            0.1,
            0.1,
            0.1,
            0.1,
            0.1,
            0.1,
            0.1,
            0.1,
            0.1,
            0.1,
            0.1
           ]
          },
          {
           "label": "hdbscan_min_cluster_size",
           "values": [
            5,
            5,
            5,
            5,
            5,
            5,
            10,
            10,
            10,
            10,
            10,
            10,
            15,
            15,
            15,
            15,
            15,
            15,
            20,
            20,
            20,
            20,
            20,
            20,
            5,
            5,
            5,
            5,
            5,
            5,
            10,
            10,
            10,
            10,
            10,
            10,
            15,
            15,
            15,
            15,
            15,
            15,
            20,
            20,
            20,
            20,
            20,
            20,
            5,
            5,
            5,
            5,
            5,
            5,
            10,
            10,
            10,
            10,
            10,
            10,
            15,
            15,
            15,
            15,
            15,
            15,
            20,
            20,
            20,
            20,
            20,
            20,
            5,
            5,
            5,
            5,
            5,
            5,
            10,
            10,
            10,
            10,
            10,
            10,
            15,
            15,
            15,
            15,
            15,
            15,
            20,
            20,
            20,
            20,
            20,
            20,
            5,
            5,
            5,
            5,
            5,
            5,
            10,
            10,
            10,
            10,
            10,
            10,
            15,
            15,
            15,
            15,
            15,
            15,
            20,
            20,
            20,
            20,
            20,
            20,
            5,
            5,
            5,
            5,
            5,
            5,
            10,
            10,
            10,
            10,
            10,
            10,
            15,
            15,
            15,
            15,
            15,
            15,
            20,
            20,
            20,
            20,
            20,
            20
           ]
          }
         ],
         "domain": {
          "x": [
           0.0,
           1.0
          ],
          "y": [
           0.0,
           1.0
          ]
         },
         "name": "",
         "type": "parcoords"
        }
       ],
       "layout": {
        "template": {
         "data": {
          "histogram2dcontour": [
           {
            "type": "histogram2dcontour",
            "colorbar": {
             "outlinewidth": 0,
             "ticks": ""
            },
            "colorscale": [
             [
              0.0,
              "#0d0887"
             ],
             [
              0.1111111111111111,
              "#46039f"
             ],
             [
              0.2222222222222222,
              "#7201a8"
             ],
             [
              0.3333333333333333,
              "#9c179e"
             ],
             [
              0.4444444444444444,
              "#bd3786"
             ],
             [
              0.5555555555555556,
              "#d8576b"
             ],
             [
              0.6666666666666666,
              "#ed7953"
             ],
             [
              0.7777777777777778,
              "#fb9f3a"
             ],
             [
              0.8888888888888888,
              "#fdca26"
             ],
             [
              1.0,
              "#f0f921"
             ]
            ]
           }
          ],
          "choropleth": [
           {
            "type": "choropleth",
            "colorbar": {
             "outlinewidth": 0,
             "ticks": ""
            }
           }
          ],
          "histogram2d": [
           {
            "type": "histogram2d",
            "colorbar": {
             "outlinewidth": 0,
             "ticks": ""
            },
            "colorscale": [
             [
              0.0,
              "#0d0887"
             ],
             [
              0.1111111111111111,
              "#46039f"
             ],
             [
              0.2222222222222222,
              "#7201a8"
             ],
             [
              0.3333333333333333,
              "#9c179e"
             ],
             [
              0.4444444444444444,
              "#bd3786"
             ],
             [
              0.5555555555555556,
              "#d8576b"
             ],
             [
              0.6666666666666666,
              "#ed7953"
             ],
             [
              0.7777777777777778,
              "#fb9f3a"
             ],
             [
              0.8888888888888888,
              "#fdca26"
             ],
             [
              1.0,
              "#f0f921"
             ]
            ]
           }
          ],
          "heatmap": [
           {
            "type": "heatmap",
            "colorbar": {
             "outlinewidth": 0,
             "ticks": ""
            },
            "colorscale": [
             [
              0.0,
              "#0d0887"
             ],
             [
              0.1111111111111111,
              "#46039f"
             ],
             [
              0.2222222222222222,
              "#7201a8"
             ],
             [
              0.3333333333333333,
              "#9c179e"
             ],
             [
              0.4444444444444444,
              "#bd3786"
             ],
             [
              0.5555555555555556,
              "#d8576b"
             ],
             [
              0.6666666666666666,
              "#ed7953"
             ],
             [
              0.7777777777777778,
              "#fb9f3a"
             ],
             [
              0.8888888888888888,
              "#fdca26"
             ],
             [
              1.0,
              "#f0f921"
             ]
            ]
           }
          ],
          "heatmapgl": [
           {
            "type": "heatmapgl",
            "colorbar": {
             "outlinewidth": 0,
             "ticks": ""
            },
            "colorscale": [
             [
              0.0,
              "#0d0887"
             ],
             [
              0.1111111111111111,
              "#46039f"
             ],
             [
              0.2222222222222222,
              "#7201a8"
             ],
             [
              0.3333333333333333,
              "#9c179e"
             ],
             [
              0.4444444444444444,
              "#bd3786"
             ],
             [
              0.5555555555555556,
              "#d8576b"
             ],
             [
              0.6666666666666666,
              "#ed7953"
             ],
             [
              0.7777777777777778,
              "#fb9f3a"
             ],
             [
              0.8888888888888888,
              "#fdca26"
             ],
             [
              1.0,
              "#f0f921"
             ]
            ]
           }
          ],
          "contourcarpet": [
           {
            "type": "contourcarpet",
            "colorbar": {
             "outlinewidth": 0,
             "ticks": ""
            }
           }
          ],
          "contour": [
           {
            "type": "contour",
            "colorbar": {
             "outlinewidth": 0,
             "ticks": ""
            },
            "colorscale": [
             [
              0.0,
              "#0d0887"
             ],
             [
              0.1111111111111111,
              "#46039f"
             ],
             [
              0.2222222222222222,
              "#7201a8"
             ],
             [
              0.3333333333333333,
              "#9c179e"
             ],
             [
              0.4444444444444444,
              "#bd3786"
             ],
             [
              0.5555555555555556,
              "#d8576b"
             ],
             [
              0.6666666666666666,
              "#ed7953"
             ],
             [
              0.7777777777777778,
              "#fb9f3a"
             ],
             [
              0.8888888888888888,
              "#fdca26"
             ],
             [
              1.0,
              "#f0f921"
             ]
            ]
           }
          ],
          "surface": [
           {
            "type": "surface",
            "colorbar": {
             "outlinewidth": 0,
             "ticks": ""
            },
            "colorscale": [
             [
              0.0,
              "#0d0887"
             ],
             [
              0.1111111111111111,
              "#46039f"
             ],
             [
              0.2222222222222222,
              "#7201a8"
             ],
             [
              0.3333333333333333,
              "#9c179e"
             ],
             [
              0.4444444444444444,
              "#bd3786"
             ],
             [
              0.5555555555555556,
              "#d8576b"
             ],
             [
              0.6666666666666666,
              "#ed7953"
             ],
             [
              0.7777777777777778,
              "#fb9f3a"
             ],
             [
              0.8888888888888888,
              "#fdca26"
             ],
             [
              1.0,
              "#f0f921"
             ]
            ]
           }
          ],
          "mesh3d": [
           {
            "type": "mesh3d",
            "colorbar": {
             "outlinewidth": 0,
             "ticks": ""
            }
           }
          ],
          "scatter": [
           {
            "marker": {
             "line": {
              "color": "#283442"
             }
            },
            "type": "scatter"
           }
          ],
          "parcoords": [
           {
            "type": "parcoords",
            "line": {
             "colorbar": {
              "outlinewidth": 0,
              "ticks": ""
             }
            }
           }
          ],
          "scatterpolargl": [
           {
            "type": "scatterpolargl",
            "marker": {
             "colorbar": {
              "outlinewidth": 0,
              "ticks": ""
             }
            }
           }
          ],
          "bar": [
           {
            "error_x": {
             "color": "#f2f5fa"
            },
            "error_y": {
             "color": "#f2f5fa"
            },
            "marker": {
             "line": {
              "color": "rgb(17,17,17)",
              "width": 0.5
             },
             "pattern": {
              "fillmode": "overlay",
              "size": 10,
              "solidity": 0.2
             }
            },
            "type": "bar"
           }
          ],
          "scattergeo": [
           {
            "type": "scattergeo",
            "marker": {
             "colorbar": {
              "outlinewidth": 0,
              "ticks": ""
             }
            }
           }
          ],
          "scatterpolar": [
           {
            "type": "scatterpolar",
            "marker": {
             "colorbar": {
              "outlinewidth": 0,
              "ticks": ""
             }
            }
           }
          ],
          "histogram": [
           {
            "marker": {
             "pattern": {
              "fillmode": "overlay",
              "size": 10,
              "solidity": 0.2
             }
            },
            "type": "histogram"
           }
          ],
          "scattergl": [
           {
            "marker": {
             "line": {
              "color": "#283442"
             }
            },
            "type": "scattergl"
           }
          ],
          "scatter3d": [
           {
            "type": "scatter3d",
            "line": {
             "colorbar": {
              "outlinewidth": 0,
              "ticks": ""
             }
            },
            "marker": {
             "colorbar": {
              "outlinewidth": 0,
              "ticks": ""
             }
            }
           }
          ],
          "scattermapbox": [
           {
            "type": "scattermapbox",
            "marker": {
             "colorbar": {
              "outlinewidth": 0,
              "ticks": ""
             }
            }
           }
          ],
          "scatterternary": [
           {
            "type": "scatterternary",
            "marker": {
             "colorbar": {
              "outlinewidth": 0,
              "ticks": ""
             }
            }
           }
          ],
          "scattercarpet": [
           {
            "type": "scattercarpet",
            "marker": {
             "colorbar": {
              "outlinewidth": 0,
              "ticks": ""
             }
            }
           }
          ],
          "carpet": [
           {
            "aaxis": {
             "endlinecolor": "#A2B1C6",
             "gridcolor": "#506784",
             "linecolor": "#506784",
             "minorgridcolor": "#506784",
             "startlinecolor": "#A2B1C6"
            },
            "baxis": {
             "endlinecolor": "#A2B1C6",
             "gridcolor": "#506784",
             "linecolor": "#506784",
             "minorgridcolor": "#506784",
             "startlinecolor": "#A2B1C6"
            },
            "type": "carpet"
           }
          ],
          "table": [
           {
            "cells": {
             "fill": {
              "color": "#506784"
             },
             "line": {
              "color": "rgb(17,17,17)"
             }
            },
            "header": {
             "fill": {
              "color": "#2a3f5f"
             },
             "line": {
              "color": "rgb(17,17,17)"
             }
            },
            "type": "table"
           }
          ],
          "barpolar": [
           {
            "marker": {
             "line": {
              "color": "rgb(17,17,17)",
              "width": 0.5
             },
             "pattern": {
              "fillmode": "overlay",
              "size": 10,
              "solidity": 0.2
             }
            },
            "type": "barpolar"
           }
          ],
          "pie": [
           {
            "automargin": true,
            "type": "pie"
           }
          ]
         },
         "layout": {
          "autotypenumbers": "strict",
          "colorway": [
           "#636efa",
           "#EF553B",
           "#00cc96",
           "#ab63fa",
           "#FFA15A",
           "#19d3f3",
           "#FF6692",
           "#B6E880",
           "#FF97FF",
           "#FECB52"
          ],
          "font": {
           "color": "#f2f5fa"
          },
          "hovermode": "closest",
          "hoverlabel": {
           "align": "left"
          },
          "paper_bgcolor": "rgb(17,17,17)",
          "plot_bgcolor": "rgb(17,17,17)",
          "polar": {
           "bgcolor": "rgb(17,17,17)",
           "angularaxis": {
            "gridcolor": "#506784",
            "linecolor": "#506784",
            "ticks": ""
           },
           "radialaxis": {
            "gridcolor": "#506784",
            "linecolor": "#506784",
            "ticks": ""
           }
          },
          "ternary": {
           "bgcolor": "rgb(17,17,17)",
           "aaxis": {
            "gridcolor": "#506784",
            "linecolor": "#506784",
            "ticks": ""
           },
           "baxis": {
            "gridcolor": "#506784",
            "linecolor": "#506784",
            "ticks": ""
           },
           "caxis": {
            "gridcolor": "#506784",
            "linecolor": "#506784",
            "ticks": ""
           }
          },
          "coloraxis": {
           "colorbar": {
            "outlinewidth": 0,
            "ticks": ""
           }
          },
          "colorscale": {
           "sequential": [
            [
             0.0,
             "#0d0887"
            ],
            [
             0.1111111111111111,
             "#46039f"
            ],
            [
             0.2222222222222222,
             "#7201a8"
            ],
            [
             0.3333333333333333,
             "#9c179e"
            ],
            [
             0.4444444444444444,
             "#bd3786"
            ],
            [
             0.5555555555555556,
             "#d8576b"
            ],
            [
             0.6666666666666666,
             "#ed7953"
            ],
            [
             0.7777777777777778,
             "#fb9f3a"
            ],
            [
             0.8888888888888888,
             "#fdca26"
            ],
            [
             1.0,
             "#f0f921"
            ]
           ],
           "sequentialminus": [
            [
             0.0,
             "#0d0887"
            ],
            [
             0.1111111111111111,
             "#46039f"
            ],
            [
             0.2222222222222222,
             "#7201a8"
            ],
            [
             0.3333333333333333,
             "#9c179e"
            ],
            [
             0.4444444444444444,
             "#bd3786"
            ],
            [
             0.5555555555555556,
             "#d8576b"
            ],
            [
             0.6666666666666666,
             "#ed7953"
            ],
            [
             0.7777777777777778,
             "#fb9f3a"
            ],
            [
             0.8888888888888888,
             "#fdca26"
            ],
            [
             1.0,
             "#f0f921"
            ]
           ],
           "diverging": [
            [
             0,
             "#8e0152"
            ],
            [
             0.1,
             "#c51b7d"
            ],
            [
             0.2,
             "#de77ae"
            ],
            [
             0.3,
             "#f1b6da"
            ],
            [
             0.4,
             "#fde0ef"
            ],
            [
             0.5,
             "#f7f7f7"
            ],
            [
             0.6,
             "#e6f5d0"
            ],
            [
             0.7,
             "#b8e186"
            ],
            [
             0.8,
             "#7fbc41"
            ],
            [
             0.9,
             "#4d9221"
            ],
            [
             1,
             "#276419"
            ]
           ]
          },
          "xaxis": {
           "gridcolor": "#283442",
           "linecolor": "#506784",
           "ticks": "",
           "title": {
            "standoff": 15
           },
           "zerolinecolor": "#283442",
           "automargin": true,
           "zerolinewidth": 2
          },
          "yaxis": {
           "gridcolor": "#283442",
           "linecolor": "#506784",
           "ticks": "",
           "title": {
            "standoff": 15
           },
           "zerolinecolor": "#283442",
           "automargin": true,
           "zerolinewidth": 2
          },
          "scene": {
           "xaxis": {
            "backgroundcolor": "rgb(17,17,17)",
            "gridcolor": "#506784",
            "linecolor": "#506784",
            "showbackground": true,
            "ticks": "",
            "zerolinecolor": "#C8D4E3",
            "gridwidth": 2
           },
           "yaxis": {
            "backgroundcolor": "rgb(17,17,17)",
            "gridcolor": "#506784",
            "linecolor": "#506784",
            "showbackground": true,
            "ticks": "",
            "zerolinecolor": "#C8D4E3",
            "gridwidth": 2
           },
           "zaxis": {
            "backgroundcolor": "rgb(17,17,17)",
            "gridcolor": "#506784",
            "linecolor": "#506784",
            "showbackground": true,
            "ticks": "",
            "zerolinecolor": "#C8D4E3",
            "gridwidth": 2
           }
          },
          "shapedefaults": {
           "line": {
            "color": "#f2f5fa"
           }
          },
          "annotationdefaults": {
           "arrowcolor": "#f2f5fa",
           "arrowhead": 0,
           "arrowwidth": 1
          },
          "geo": {
           "bgcolor": "rgb(17,17,17)",
           "landcolor": "rgb(17,17,17)",
           "subunitcolor": "#506784",
           "showland": true,
           "showlakes": true,
           "lakecolor": "rgb(17,17,17)"
          },
          "title": {
           "x": 0.05
          },
          "updatemenudefaults": {
           "bgcolor": "#506784",
           "borderwidth": 0
          },
          "sliderdefaults": {
           "bgcolor": "#C8D4E3",
           "borderwidth": 1,
           "bordercolor": "rgb(17,17,17)",
           "tickwidth": 0
          },
          "mapbox": {
           "style": "dark"
          }
         }
        },
        "legend": {
         "tracegroupgap": 0
        },
        "title": {
         "text": "Parallel Coordinates Plot of Model Configurations"
        }
       },
       "config": {
        "plotlyServerURL": "https://plot.ly"
       }
      },
      "text/html": [
       "<div>                            <div id=\"abbd0479-ee96-4b77-98a0-0cbaaa60f036\" class=\"plotly-graph-div\" style=\"height:525px; width:100%;\"></div>            <script type=\"text/javascript\">                require([\"plotly\"], function(Plotly) {                    window.PLOTLYENV=window.PLOTLYENV || {};                                    if (document.getElementById(\"abbd0479-ee96-4b77-98a0-0cbaaa60f036\")) {                    Plotly.newPlot(                        \"abbd0479-ee96-4b77-98a0-0cbaaa60f036\",                        [{\"dimensions\":[{\"label\":\"number_of_topics\",\"values\":[28,30,46,26,20,33,35,36,17,10,21,42,26,22,29,34,20,39,32,27,31,33,27,37,19,34,32,35,34,35,33,35,30,35,29,37,19,23,34,21,29,37,27,44,34,27,30,33,32,32,18,29,23,30,13,23,42,32,35,24,46,18,32,37,20,33,27,44,30,31,25,35,19,21,33,19,36,21,38,31,22,36,28,28,19,33,32,35,41,37,34,32,11,19,20,21,24,18,22,35,32,21,29,21,30,37,19,12,36,37,28,33,37,9,35,18,23,36,20,38,35,22,31,20,34,24,36,20,24,20,33,29,32,42,34,35,34,43,19,34,23,30,35,38]},{\"label\":\"topic_coherence\",\"values\":[0.5555407920418943,0.5530243847296601,0.5355788835281088,0.5733456337527718,0.5594568142718528,0.5540935018251398,0.5275158778535602,0.5306262154753826,0.5516352418470816,0.6266522330252801,0.5518741459402013,0.5333667395625318,0.5461290712010297,0.5899546855948957,0.5590807454482035,0.5427270628175035,0.563693486913744,0.5282443061006977,0.5360257299420838,0.5630162317145753,0.5387368191941777,0.5468434017829569,0.5533010254364215,0.5508194881512418,0.5503685033137118,0.5408448983944799,0.5460318522946563,0.543965932740612,0.5451154627995938,0.5494214423918833,0.5547792980905588,0.5514772060814366,0.5626615655293752,0.5484035115080788,0.5719724589826395,0.5345019074313745,0.5762700778290942,0.5344968374509695,0.5352978805581874,0.5725541053030903,0.5464520262734304,0.5299151213519493,0.5559335650115897,0.5310731815958881,0.5441901561738037,0.5489046335333151,0.5579644985431657,0.5538722417655558,0.5517878775612852,0.5605493286235946,0.5427251330711184,0.5551885748689154,0.5624142053416065,0.5566064590799433,0.5788249845099865,0.5675265212382071,0.5441852096262948,0.53445261702522,0.5485142950644734,0.5598690142289078,0.5355474199750591,0.5592858601231093,0.5285635919438769,0.5301787482851815,0.5418915939631578,0.5412357030735103,0.5491566018004849,0.5350722572823311,0.5577426021363389,0.5528897603753973,0.5556080433859463,0.5549560269642718,0.5833868811186127,0.5894723040926868,0.5356954889670198,0.5476919578571816,0.5451159583724366,0.5761358569711997,0.5390019574227989,0.553104698748199,0.561275788398377,0.5366184847546663,0.5738331001315325,0.5495507472191173,0.5581681377346006,0.5528125533325734,0.5495173538441215,0.5365511469713117,0.5407347848270906,0.5314792382247457,0.5528562528087853,0.5443130270315846,0.5784778346340161,0.5521087618676854,0.5579744935081353,0.5626402194253252,0.5774820112715435,0.5337970873296533,0.5666346074462159,0.5382163709029787,0.5597851828237023,0.5634232133829412,0.5382675281491398,0.5544147875297079,0.5570985715341575,0.5357013172303957,0.5699165595649012,0.58027088380914,0.5396956934784544,0.5425255020913415,0.5580086563107747,0.5598133780443668,0.5250708882565077,0.5500120922156316,0.558500952228885,0.5410639888575387,0.5802715536148983,0.5367954717564221,0.5409349390164182,0.5440828764930197,0.540171000802832,0.5605378023201846,0.54239926714772,0.5657433991398634,0.5656906344234295,0.5432458556628641,0.5290485418457672,0.5655042930388768,0.5503802372790841,0.5689203349448392,0.5501275252299525,0.5479920832380276,0.5569476489494977,0.5440970172992401,0.5496216750488998,0.5231194795582148,0.5499816230709796,0.5380118587286815,0.5662067318892017,0.5547783853210161,0.565248447024474,0.561196946057989,0.5409703018554294,0.5564165518725912]},{\"label\":\"topic_diversity\",\"values\":[0.5333333333333333,0.5758620689655173,0.44222222222222224,0.592,0.5789473684210527,0.51875,0.47941176470588237,0.4542857142857143,0.6,0.6888888888888889,0.615,0.4609756097560976,0.556,0.6142857142857143,0.5392857142857143,0.5121212121212121,0.6052631578947368,0.4789473684210526,0.4838709677419355,0.573076923076923,0.5333333333333333,0.5125,0.5576923076923077,0.4888888888888889,0.6,0.5181818181818182,0.5161290322580645,0.47941176470588237,0.49393939393939396,0.47941176470588237,0.51875,0.4970588235294118,0.5689655172413793,0.5205882352941177,0.55,0.5083333333333333,0.6055555555555555,0.5590909090909091,0.4818181818181818,0.59,0.5464285714285714,0.49444444444444446,0.55,0.4441860465116279,0.5,0.5653846153846154,0.5344827586206896,0.515625,0.5129032258064516,0.535483870967742,0.6176470588235294,0.5464285714285714,0.5909090909090909,0.5413793103448276,0.7083333333333334,0.6136363636363636,0.4682926829268293,0.5032258064516129,0.5205882352941177,0.5739130434782609,0.4444444444444444,0.6294117647058823,0.4967741935483871,0.49166666666666664,0.5947368421052631,0.5,0.5423076923076923,0.43953488372093025,0.5413793103448276,0.57,0.6041666666666666,0.5117647058823529,0.6166666666666667,0.625,0.478125,0.5944444444444444,0.4828571428571429,0.65,0.4891891891891892,0.5166666666666667,0.6238095238095238,0.48857142857142855,0.5666666666666667,0.5666666666666667,0.6111111111111112,0.515625,0.5258064516129032,0.4852941176470588,0.4575,0.45,0.503030303030303,0.5064516129032258,0.71,0.5944444444444444,0.5736842105263158,0.61,0.591304347826087,0.5882352941176471,0.5857142857142857,0.4970588235294118,0.5064516129032258,0.565,0.5464285714285714,0.595,0.5172413793103449,0.4888888888888889,0.6277777777777778,0.7272727272727273,0.4742857142857143,0.475,0.5296296296296297,0.515625,0.4583333333333333,0.6625,0.5029411764705882,0.5647058823529412,0.6,0.48,0.5526315789473685,0.4756756756756757,0.45294117647058824,0.5761904761904761,0.5066666666666667,0.6157894736842106,0.5272727272727272,0.5565217391304348,0.47714285714285715,0.6052631578947368,0.5652173913043478,0.6,0.509375,0.5178571428571429,0.5419354838709678,0.4585365853658537,0.5060606060606061,0.46176470588235297,0.5212121212121212,0.44047619047619047,0.65,0.5303030303030303,0.6090909090909091,0.5379310344827586,0.4676470588235294,0.4702702702702703]},{\"label\":\"docs_without_topic\",\"values\":[1016,940,970,1021,947,928,929,980,1069,1089,1030,941,932,1027,1032,919,1088,931,747,972,916,1126,1024,944,954,886,1014,973,1071,1055,1004,1029,953,924,1025,927,941,1000,1052,1066,896,991,943,882,1081,865,984,933,1009,1041,1046,912,1004,930,947,1040,949,918,823,931,996,1071,934,851,1026,1042,849,936,937,904,1003,946,1042,1073,982,848,964,1025,1019,1014,955,915,994,831,1030,1104,1061,986,931,1001,932,898,947,963,1186,1074,864,967,941,855,1120,949,953,1047,1015,1014,1050,975,1006,1025,640,1099,1050,867,1076,1038,991,972,1042,961,980,1188,791,1003,873,903,1068,1025,920,983,938,890,945,831,991,890,974,967,858,954,1069,1120,1007,1034]},{\"label\":\"umap_min_dist\",\"values\":[0.0,0.0,0.0,0.0,0.0,0.0,0.0,0.0,0.0,0.0,0.0,0.0,0.0,0.0,0.0,0.0,0.0,0.0,0.0,0.0,0.0,0.0,0.0,0.0,0.0,0.0,0.0,0.0,0.0,0.0,0.0,0.0,0.0,0.0,0.0,0.0,0.0,0.0,0.0,0.0,0.0,0.0,0.0,0.0,0.0,0.0,0.0,0.0,0.05,0.05,0.05,0.05,0.05,0.05,0.05,0.05,0.05,0.05,0.05,0.05,0.05,0.05,0.05,0.05,0.05,0.05,0.05,0.05,0.05,0.05,0.05,0.05,0.05,0.05,0.05,0.05,0.05,0.05,0.05,0.05,0.05,0.05,0.05,0.05,0.05,0.05,0.05,0.05,0.05,0.05,0.05,0.05,0.05,0.05,0.05,0.05,0.1,0.1,0.1,0.1,0.1,0.1,0.1,0.1,0.1,0.1,0.1,0.1,0.1,0.1,0.1,0.1,0.1,0.1,0.1,0.1,0.1,0.1,0.1,0.1,0.1,0.1,0.1,0.1,0.1,0.1,0.1,0.1,0.1,0.1,0.1,0.1,0.1,0.1,0.1,0.1,0.1,0.1,0.1,0.1,0.1,0.1,0.1,0.1]},{\"label\":\"hdbscan_min_cluster_size\",\"values\":[5,5,5,5,5,5,10,10,10,10,10,10,15,15,15,15,15,15,20,20,20,20,20,20,5,5,5,5,5,5,10,10,10,10,10,10,15,15,15,15,15,15,20,20,20,20,20,20,5,5,5,5,5,5,10,10,10,10,10,10,15,15,15,15,15,15,20,20,20,20,20,20,5,5,5,5,5,5,10,10,10,10,10,10,15,15,15,15,15,15,20,20,20,20,20,20,5,5,5,5,5,5,10,10,10,10,10,10,15,15,15,15,15,15,20,20,20,20,20,20,5,5,5,5,5,5,10,10,10,10,10,10,15,15,15,15,15,15,20,20,20,20,20,20]}],\"domain\":{\"x\":[0.0,1.0],\"y\":[0.0,1.0]},\"name\":\"\",\"type\":\"parcoords\"}],                        {\"template\":{\"data\":{\"histogram2dcontour\":[{\"type\":\"histogram2dcontour\",\"colorbar\":{\"outlinewidth\":0,\"ticks\":\"\"},\"colorscale\":[[0.0,\"#0d0887\"],[0.1111111111111111,\"#46039f\"],[0.2222222222222222,\"#7201a8\"],[0.3333333333333333,\"#9c179e\"],[0.4444444444444444,\"#bd3786\"],[0.5555555555555556,\"#d8576b\"],[0.6666666666666666,\"#ed7953\"],[0.7777777777777778,\"#fb9f3a\"],[0.8888888888888888,\"#fdca26\"],[1.0,\"#f0f921\"]]}],\"choropleth\":[{\"type\":\"choropleth\",\"colorbar\":{\"outlinewidth\":0,\"ticks\":\"\"}}],\"histogram2d\":[{\"type\":\"histogram2d\",\"colorbar\":{\"outlinewidth\":0,\"ticks\":\"\"},\"colorscale\":[[0.0,\"#0d0887\"],[0.1111111111111111,\"#46039f\"],[0.2222222222222222,\"#7201a8\"],[0.3333333333333333,\"#9c179e\"],[0.4444444444444444,\"#bd3786\"],[0.5555555555555556,\"#d8576b\"],[0.6666666666666666,\"#ed7953\"],[0.7777777777777778,\"#fb9f3a\"],[0.8888888888888888,\"#fdca26\"],[1.0,\"#f0f921\"]]}],\"heatmap\":[{\"type\":\"heatmap\",\"colorbar\":{\"outlinewidth\":0,\"ticks\":\"\"},\"colorscale\":[[0.0,\"#0d0887\"],[0.1111111111111111,\"#46039f\"],[0.2222222222222222,\"#7201a8\"],[0.3333333333333333,\"#9c179e\"],[0.4444444444444444,\"#bd3786\"],[0.5555555555555556,\"#d8576b\"],[0.6666666666666666,\"#ed7953\"],[0.7777777777777778,\"#fb9f3a\"],[0.8888888888888888,\"#fdca26\"],[1.0,\"#f0f921\"]]}],\"heatmapgl\":[{\"type\":\"heatmapgl\",\"colorbar\":{\"outlinewidth\":0,\"ticks\":\"\"},\"colorscale\":[[0.0,\"#0d0887\"],[0.1111111111111111,\"#46039f\"],[0.2222222222222222,\"#7201a8\"],[0.3333333333333333,\"#9c179e\"],[0.4444444444444444,\"#bd3786\"],[0.5555555555555556,\"#d8576b\"],[0.6666666666666666,\"#ed7953\"],[0.7777777777777778,\"#fb9f3a\"],[0.8888888888888888,\"#fdca26\"],[1.0,\"#f0f921\"]]}],\"contourcarpet\":[{\"type\":\"contourcarpet\",\"colorbar\":{\"outlinewidth\":0,\"ticks\":\"\"}}],\"contour\":[{\"type\":\"contour\",\"colorbar\":{\"outlinewidth\":0,\"ticks\":\"\"},\"colorscale\":[[0.0,\"#0d0887\"],[0.1111111111111111,\"#46039f\"],[0.2222222222222222,\"#7201a8\"],[0.3333333333333333,\"#9c179e\"],[0.4444444444444444,\"#bd3786\"],[0.5555555555555556,\"#d8576b\"],[0.6666666666666666,\"#ed7953\"],[0.7777777777777778,\"#fb9f3a\"],[0.8888888888888888,\"#fdca26\"],[1.0,\"#f0f921\"]]}],\"surface\":[{\"type\":\"surface\",\"colorbar\":{\"outlinewidth\":0,\"ticks\":\"\"},\"colorscale\":[[0.0,\"#0d0887\"],[0.1111111111111111,\"#46039f\"],[0.2222222222222222,\"#7201a8\"],[0.3333333333333333,\"#9c179e\"],[0.4444444444444444,\"#bd3786\"],[0.5555555555555556,\"#d8576b\"],[0.6666666666666666,\"#ed7953\"],[0.7777777777777778,\"#fb9f3a\"],[0.8888888888888888,\"#fdca26\"],[1.0,\"#f0f921\"]]}],\"mesh3d\":[{\"type\":\"mesh3d\",\"colorbar\":{\"outlinewidth\":0,\"ticks\":\"\"}}],\"scatter\":[{\"marker\":{\"line\":{\"color\":\"#283442\"}},\"type\":\"scatter\"}],\"parcoords\":[{\"type\":\"parcoords\",\"line\":{\"colorbar\":{\"outlinewidth\":0,\"ticks\":\"\"}}}],\"scatterpolargl\":[{\"type\":\"scatterpolargl\",\"marker\":{\"colorbar\":{\"outlinewidth\":0,\"ticks\":\"\"}}}],\"bar\":[{\"error_x\":{\"color\":\"#f2f5fa\"},\"error_y\":{\"color\":\"#f2f5fa\"},\"marker\":{\"line\":{\"color\":\"rgb(17,17,17)\",\"width\":0.5},\"pattern\":{\"fillmode\":\"overlay\",\"size\":10,\"solidity\":0.2}},\"type\":\"bar\"}],\"scattergeo\":[{\"type\":\"scattergeo\",\"marker\":{\"colorbar\":{\"outlinewidth\":0,\"ticks\":\"\"}}}],\"scatterpolar\":[{\"type\":\"scatterpolar\",\"marker\":{\"colorbar\":{\"outlinewidth\":0,\"ticks\":\"\"}}}],\"histogram\":[{\"marker\":{\"pattern\":{\"fillmode\":\"overlay\",\"size\":10,\"solidity\":0.2}},\"type\":\"histogram\"}],\"scattergl\":[{\"marker\":{\"line\":{\"color\":\"#283442\"}},\"type\":\"scattergl\"}],\"scatter3d\":[{\"type\":\"scatter3d\",\"line\":{\"colorbar\":{\"outlinewidth\":0,\"ticks\":\"\"}},\"marker\":{\"colorbar\":{\"outlinewidth\":0,\"ticks\":\"\"}}}],\"scattermapbox\":[{\"type\":\"scattermapbox\",\"marker\":{\"colorbar\":{\"outlinewidth\":0,\"ticks\":\"\"}}}],\"scatterternary\":[{\"type\":\"scatterternary\",\"marker\":{\"colorbar\":{\"outlinewidth\":0,\"ticks\":\"\"}}}],\"scattercarpet\":[{\"type\":\"scattercarpet\",\"marker\":{\"colorbar\":{\"outlinewidth\":0,\"ticks\":\"\"}}}],\"carpet\":[{\"aaxis\":{\"endlinecolor\":\"#A2B1C6\",\"gridcolor\":\"#506784\",\"linecolor\":\"#506784\",\"minorgridcolor\":\"#506784\",\"startlinecolor\":\"#A2B1C6\"},\"baxis\":{\"endlinecolor\":\"#A2B1C6\",\"gridcolor\":\"#506784\",\"linecolor\":\"#506784\",\"minorgridcolor\":\"#506784\",\"startlinecolor\":\"#A2B1C6\"},\"type\":\"carpet\"}],\"table\":[{\"cells\":{\"fill\":{\"color\":\"#506784\"},\"line\":{\"color\":\"rgb(17,17,17)\"}},\"header\":{\"fill\":{\"color\":\"#2a3f5f\"},\"line\":{\"color\":\"rgb(17,17,17)\"}},\"type\":\"table\"}],\"barpolar\":[{\"marker\":{\"line\":{\"color\":\"rgb(17,17,17)\",\"width\":0.5},\"pattern\":{\"fillmode\":\"overlay\",\"size\":10,\"solidity\":0.2}},\"type\":\"barpolar\"}],\"pie\":[{\"automargin\":true,\"type\":\"pie\"}]},\"layout\":{\"autotypenumbers\":\"strict\",\"colorway\":[\"#636efa\",\"#EF553B\",\"#00cc96\",\"#ab63fa\",\"#FFA15A\",\"#19d3f3\",\"#FF6692\",\"#B6E880\",\"#FF97FF\",\"#FECB52\"],\"font\":{\"color\":\"#f2f5fa\"},\"hovermode\":\"closest\",\"hoverlabel\":{\"align\":\"left\"},\"paper_bgcolor\":\"rgb(17,17,17)\",\"plot_bgcolor\":\"rgb(17,17,17)\",\"polar\":{\"bgcolor\":\"rgb(17,17,17)\",\"angularaxis\":{\"gridcolor\":\"#506784\",\"linecolor\":\"#506784\",\"ticks\":\"\"},\"radialaxis\":{\"gridcolor\":\"#506784\",\"linecolor\":\"#506784\",\"ticks\":\"\"}},\"ternary\":{\"bgcolor\":\"rgb(17,17,17)\",\"aaxis\":{\"gridcolor\":\"#506784\",\"linecolor\":\"#506784\",\"ticks\":\"\"},\"baxis\":{\"gridcolor\":\"#506784\",\"linecolor\":\"#506784\",\"ticks\":\"\"},\"caxis\":{\"gridcolor\":\"#506784\",\"linecolor\":\"#506784\",\"ticks\":\"\"}},\"coloraxis\":{\"colorbar\":{\"outlinewidth\":0,\"ticks\":\"\"}},\"colorscale\":{\"sequential\":[[0.0,\"#0d0887\"],[0.1111111111111111,\"#46039f\"],[0.2222222222222222,\"#7201a8\"],[0.3333333333333333,\"#9c179e\"],[0.4444444444444444,\"#bd3786\"],[0.5555555555555556,\"#d8576b\"],[0.6666666666666666,\"#ed7953\"],[0.7777777777777778,\"#fb9f3a\"],[0.8888888888888888,\"#fdca26\"],[1.0,\"#f0f921\"]],\"sequentialminus\":[[0.0,\"#0d0887\"],[0.1111111111111111,\"#46039f\"],[0.2222222222222222,\"#7201a8\"],[0.3333333333333333,\"#9c179e\"],[0.4444444444444444,\"#bd3786\"],[0.5555555555555556,\"#d8576b\"],[0.6666666666666666,\"#ed7953\"],[0.7777777777777778,\"#fb9f3a\"],[0.8888888888888888,\"#fdca26\"],[1.0,\"#f0f921\"]],\"diverging\":[[0,\"#8e0152\"],[0.1,\"#c51b7d\"],[0.2,\"#de77ae\"],[0.3,\"#f1b6da\"],[0.4,\"#fde0ef\"],[0.5,\"#f7f7f7\"],[0.6,\"#e6f5d0\"],[0.7,\"#b8e186\"],[0.8,\"#7fbc41\"],[0.9,\"#4d9221\"],[1,\"#276419\"]]},\"xaxis\":{\"gridcolor\":\"#283442\",\"linecolor\":\"#506784\",\"ticks\":\"\",\"title\":{\"standoff\":15},\"zerolinecolor\":\"#283442\",\"automargin\":true,\"zerolinewidth\":2},\"yaxis\":{\"gridcolor\":\"#283442\",\"linecolor\":\"#506784\",\"ticks\":\"\",\"title\":{\"standoff\":15},\"zerolinecolor\":\"#283442\",\"automargin\":true,\"zerolinewidth\":2},\"scene\":{\"xaxis\":{\"backgroundcolor\":\"rgb(17,17,17)\",\"gridcolor\":\"#506784\",\"linecolor\":\"#506784\",\"showbackground\":true,\"ticks\":\"\",\"zerolinecolor\":\"#C8D4E3\",\"gridwidth\":2},\"yaxis\":{\"backgroundcolor\":\"rgb(17,17,17)\",\"gridcolor\":\"#506784\",\"linecolor\":\"#506784\",\"showbackground\":true,\"ticks\":\"\",\"zerolinecolor\":\"#C8D4E3\",\"gridwidth\":2},\"zaxis\":{\"backgroundcolor\":\"rgb(17,17,17)\",\"gridcolor\":\"#506784\",\"linecolor\":\"#506784\",\"showbackground\":true,\"ticks\":\"\",\"zerolinecolor\":\"#C8D4E3\",\"gridwidth\":2}},\"shapedefaults\":{\"line\":{\"color\":\"#f2f5fa\"}},\"annotationdefaults\":{\"arrowcolor\":\"#f2f5fa\",\"arrowhead\":0,\"arrowwidth\":1},\"geo\":{\"bgcolor\":\"rgb(17,17,17)\",\"landcolor\":\"rgb(17,17,17)\",\"subunitcolor\":\"#506784\",\"showland\":true,\"showlakes\":true,\"lakecolor\":\"rgb(17,17,17)\"},\"title\":{\"x\":0.05},\"updatemenudefaults\":{\"bgcolor\":\"#506784\",\"borderwidth\":0},\"sliderdefaults\":{\"bgcolor\":\"#C8D4E3\",\"borderwidth\":1,\"bordercolor\":\"rgb(17,17,17)\",\"tickwidth\":0},\"mapbox\":{\"style\":\"dark\"}}},\"legend\":{\"tracegroupgap\":0},\"title\":{\"text\":\"Parallel Coordinates Plot of Model Configurations\"}},                        {\"responsive\": true}                    ).then(function(){\n",
       "                            \n",
       "var gd = document.getElementById('abbd0479-ee96-4b77-98a0-0cbaaa60f036');\n",
       "var x = new MutationObserver(function (mutations, observer) {{\n",
       "        var display = window.getComputedStyle(gd).display;\n",
       "        if (!display || display === 'none') {{\n",
       "            console.log([gd, 'removed!']);\n",
       "            Plotly.purge(gd);\n",
       "            observer.disconnect();\n",
       "        }}\n",
       "}});\n",
       "\n",
       "// Listen for the removal of the full notebook cells\n",
       "var notebookContainer = gd.closest('#notebook-container');\n",
       "if (notebookContainer) {{\n",
       "    x.observe(notebookContainer, {childList: true});\n",
       "}}\n",
       "\n",
       "// Listen for the clearing of the current output cell\n",
       "var outputEl = gd.closest('.output');\n",
       "if (outputEl) {{\n",
       "    x.observe(outputEl, {childList: true});\n",
       "}}\n",
       "\n",
       "                        })                };                });            </script>        </div>"
      ]
     },
     "metadata": {},
     "output_type": "display_data"
    },
    {
     "name": "stdout",
     "output_type": "stream",
     "text": [
      "Best performing models:\n",
      "     composite_score  number_of_topics  topic_coherence  topic_diversity  \\\n",
      "110         0.176570                28         0.558009         0.529630   \n",
      "96          0.133606                24         0.577482         0.591304   \n",
      "138         0.129718                19         0.566207         0.650000   \n",
      "124         0.121613                34         0.565691         0.527273   \n",
      "58          0.120878                35         0.548514         0.520588   \n",
      "\n",
      "     docs_without_topic  \n",
      "110                 640  \n",
      "96                  864  \n",
      "138                 858  \n",
      "124                 873  \n",
      "58                  823  \n"
     ]
    }
   ],
   "execution_count": 17
  },
  {
   "metadata": {},
   "cell_type": "markdown",
   "source": [
    "### Interpretability\n",
    "The interpretability scores merges the information from topic diversity and topic coherence into a single variable by multiplying the diversity and coherence scores"
   ],
   "id": "7881dfabfbcebb91"
  },
  {
   "metadata": {
    "ExecuteTime": {
     "end_time": "2024-11-06T09:19:15.583754Z",
     "start_time": "2024-11-06T09:19:15.572390Z"
    }
   },
   "cell_type": "code",
   "source": "results_df[\"interpretability\"] = results_df[\"topic_diversity\"] * results_df[\"topic_coherence\"]",
   "id": "22528fa8334d0fb9",
   "outputs": [],
   "execution_count": 20
  },
  {
   "metadata": {
    "ExecuteTime": {
     "end_time": "2024-11-06T09:19:19.718839Z",
     "start_time": "2024-11-06T09:19:19.589058Z"
    }
   },
   "cell_type": "code",
   "source": [
    "results_df.to_csv(\"results_hyperparameters.csv\")\n",
    "results_df"
   ],
   "id": "b65710f223c2d4cd",
   "outputs": [
    {
     "data": {
      "text/plain": [
       "     iteration      embedding_model  umap_min_dist  umap_n_neighbors  \\\n",
       "0            1  SentenceTransformer            0.0                 5   \n",
       "1            2  SentenceTransformer            0.0                 5   \n",
       "2            3  SentenceTransformer            0.0                 5   \n",
       "3            4  SentenceTransformer            0.0                 5   \n",
       "4            5  SentenceTransformer            0.0                 5   \n",
       "..         ...                  ...            ...               ...   \n",
       "139        140  SentenceTransformer            0.1                15   \n",
       "140        141  SentenceTransformer            0.1                15   \n",
       "141        142  SentenceTransformer            0.1                15   \n",
       "142        143  SentenceTransformer            0.1                15   \n",
       "143        144  SentenceTransformer            0.1                15   \n",
       "\n",
       "     umap_spread  hdbscan_min_cluster_size  hdbscan_min_samples  \\\n",
       "0            1.0                         5                  NaN   \n",
       "1            1.0                         5                  NaN   \n",
       "2            1.0                         5                  5.0   \n",
       "3            1.0                         5                  5.0   \n",
       "4            1.0                         5                 10.0   \n",
       "..           ...                       ...                  ...   \n",
       "139          1.0                        20                  NaN   \n",
       "140          1.0                        20                  5.0   \n",
       "141          1.0                        20                  5.0   \n",
       "142          1.0                        20                 10.0   \n",
       "143          1.0                        20                 10.0   \n",
       "\n",
       "    vectorizer_ngram_range  vectorizer_min_df  reduce_frequent_words  \\\n",
       "0                   (1, 1)                  1                   True   \n",
       "1                   (1, 2)                  1                   True   \n",
       "2                   (1, 1)                  1                   True   \n",
       "3                   (1, 2)                  1                   True   \n",
       "4                   (1, 1)                  1                   True   \n",
       "..                     ...                ...                    ...   \n",
       "139                 (1, 2)                  1                   True   \n",
       "140                 (1, 1)                  1                   True   \n",
       "141                 (1, 2)                  1                   True   \n",
       "142                 (1, 1)                  1                   True   \n",
       "143                 (1, 2)                  1                   True   \n",
       "\n",
       "    nr_topics_setting  number_of_topics  docs_without_topic  topic_diversity  \\\n",
       "0                auto                28                1016         0.533333   \n",
       "1                auto                30                 940         0.575862   \n",
       "2                auto                46                 970         0.442222   \n",
       "3                auto                26                1021         0.592000   \n",
       "4                auto                20                 947         0.578947   \n",
       "..                ...               ...                 ...              ...   \n",
       "139              auto                34                 954         0.530303   \n",
       "140              auto                23                1069         0.609091   \n",
       "141              auto                30                1120         0.537931   \n",
       "142              auto                35                1007         0.467647   \n",
       "143              auto                38                1034         0.470270   \n",
       "\n",
       "     topic_coherence                                              model  \\\n",
       "0           0.555541  BERTopic(calculate_probabilities=False, ctfidf...   \n",
       "1           0.553024  BERTopic(calculate_probabilities=False, ctfidf...   \n",
       "2           0.535579  BERTopic(calculate_probabilities=False, ctfidf...   \n",
       "3           0.573346  BERTopic(calculate_probabilities=False, ctfidf...   \n",
       "4           0.559457  BERTopic(calculate_probabilities=False, ctfidf...   \n",
       "..               ...                                                ...   \n",
       "139         0.554778  BERTopic(calculate_probabilities=False, ctfidf...   \n",
       "140         0.565248  BERTopic(calculate_probabilities=False, ctfidf...   \n",
       "141         0.561197  BERTopic(calculate_probabilities=False, ctfidf...   \n",
       "142         0.540970  BERTopic(calculate_probabilities=False, ctfidf...   \n",
       "143         0.556417  BERTopic(calculate_probabilities=False, ctfidf...   \n",
       "\n",
       "                                                topics  \\\n",
       "0    [1, -1, -1, 0, -1, -1, -1, 4, 4, 2, 1, -1, 1, ...   \n",
       "1    [0, -1, -1, -1, -1, 10, -1, 2, 2, 1, 0, 0, -1,...   \n",
       "2    [16, -1, 34, -1, -1, -1, -1, 2, 2, 0, 5, -1, 3...   \n",
       "3    [1, -1, 1, -1, -1, -1, -1, 3, 3, 2, 1, 0, -1, ...   \n",
       "4    [0, -1, 0, 0, 0, 0, -1, 2, 2, 3, 0, 0, -1, 2, ...   \n",
       "..                                                 ...   \n",
       "139  [-1, -1, 0, -1, 16, 16, -1, 2, 2, 1, 0, 0, -1,...   \n",
       "140  [0, -1, 0, 0, 0, 0, -1, 2, 2, 1, 0, -1, -1, 2,...   \n",
       "141  [7, -1, -1, -1, -1, -1, -1, 2, 2, 1, 0, -1, 0,...   \n",
       "142  [8, -1, -1, -1, -1, -1, -1, 3, 3, 1, 6, 0, -1,...   \n",
       "143  [6, -1, 1, -1, -1, -1, -1, 8, 8, 0, 4, 2, -1, ...   \n",
       "\n",
       "                                                 probs  interpretability  \n",
       "0    [0.8373053634974206, 0.0, 0.0, 0.4397765811621...          0.296288  \n",
       "1    [0.7770868550416034, 0.0, 0.0, 0.0, 0.0, 0.799...          0.318466  \n",
       "2    [0.7659643887123255, 0.0, 1.0, 0.0, 0.0, 0.0, ...          0.236845  \n",
       "3    [0.6468233122862297, 0.0, 0.7437987428682535, ...          0.339421  \n",
       "4    [0.5764024024672486, 0.0, 0.8225411625863547, ...          0.323896  \n",
       "..                                                 ...               ...  \n",
       "139  [0.0, 0.0, 0.9869658601222523, 0.0, 0.79346411...          0.294201  \n",
       "140  [0.8292426899785187, 0.0, 1.0, 0.8991593883132...          0.344288  \n",
       "141  [0.7047130479918264, 0.0, 0.0, 0.0, 0.0, 0.0, ...          0.301885  \n",
       "142  [0.7193489801061933, 0.0, 0.0, 0.0, 0.0, 0.0, ...          0.252983  \n",
       "143  [0.6576506138811272, 0.0, 1.0, 0.0, 0.0, 0.0, ...          0.261666  \n",
       "\n",
       "[144 rows x 19 columns]"
      ],
      "text/html": [
       "<div>\n",
       "<style scoped>\n",
       "    .dataframe tbody tr th:only-of-type {\n",
       "        vertical-align: middle;\n",
       "    }\n",
       "\n",
       "    .dataframe tbody tr th {\n",
       "        vertical-align: top;\n",
       "    }\n",
       "\n",
       "    .dataframe thead th {\n",
       "        text-align: right;\n",
       "    }\n",
       "</style>\n",
       "<table border=\"1\" class=\"dataframe\">\n",
       "  <thead>\n",
       "    <tr style=\"text-align: right;\">\n",
       "      <th></th>\n",
       "      <th>iteration</th>\n",
       "      <th>embedding_model</th>\n",
       "      <th>umap_min_dist</th>\n",
       "      <th>umap_n_neighbors</th>\n",
       "      <th>umap_spread</th>\n",
       "      <th>hdbscan_min_cluster_size</th>\n",
       "      <th>hdbscan_min_samples</th>\n",
       "      <th>vectorizer_ngram_range</th>\n",
       "      <th>vectorizer_min_df</th>\n",
       "      <th>reduce_frequent_words</th>\n",
       "      <th>nr_topics_setting</th>\n",
       "      <th>number_of_topics</th>\n",
       "      <th>docs_without_topic</th>\n",
       "      <th>topic_diversity</th>\n",
       "      <th>topic_coherence</th>\n",
       "      <th>model</th>\n",
       "      <th>topics</th>\n",
       "      <th>probs</th>\n",
       "      <th>interpretability</th>\n",
       "    </tr>\n",
       "  </thead>\n",
       "  <tbody>\n",
       "    <tr>\n",
       "      <th>0</th>\n",
       "      <td>1</td>\n",
       "      <td>SentenceTransformer</td>\n",
       "      <td>0.0</td>\n",
       "      <td>5</td>\n",
       "      <td>1.0</td>\n",
       "      <td>5</td>\n",
       "      <td>NaN</td>\n",
       "      <td>(1, 1)</td>\n",
       "      <td>1</td>\n",
       "      <td>True</td>\n",
       "      <td>auto</td>\n",
       "      <td>28</td>\n",
       "      <td>1016</td>\n",
       "      <td>0.533333</td>\n",
       "      <td>0.555541</td>\n",
       "      <td>BERTopic(calculate_probabilities=False, ctfidf...</td>\n",
       "      <td>[1, -1, -1, 0, -1, -1, -1, 4, 4, 2, 1, -1, 1, ...</td>\n",
       "      <td>[0.8373053634974206, 0.0, 0.0, 0.4397765811621...</td>\n",
       "      <td>0.296288</td>\n",
       "    </tr>\n",
       "    <tr>\n",
       "      <th>1</th>\n",
       "      <td>2</td>\n",
       "      <td>SentenceTransformer</td>\n",
       "      <td>0.0</td>\n",
       "      <td>5</td>\n",
       "      <td>1.0</td>\n",
       "      <td>5</td>\n",
       "      <td>NaN</td>\n",
       "      <td>(1, 2)</td>\n",
       "      <td>1</td>\n",
       "      <td>True</td>\n",
       "      <td>auto</td>\n",
       "      <td>30</td>\n",
       "      <td>940</td>\n",
       "      <td>0.575862</td>\n",
       "      <td>0.553024</td>\n",
       "      <td>BERTopic(calculate_probabilities=False, ctfidf...</td>\n",
       "      <td>[0, -1, -1, -1, -1, 10, -1, 2, 2, 1, 0, 0, -1,...</td>\n",
       "      <td>[0.7770868550416034, 0.0, 0.0, 0.0, 0.0, 0.799...</td>\n",
       "      <td>0.318466</td>\n",
       "    </tr>\n",
       "    <tr>\n",
       "      <th>2</th>\n",
       "      <td>3</td>\n",
       "      <td>SentenceTransformer</td>\n",
       "      <td>0.0</td>\n",
       "      <td>5</td>\n",
       "      <td>1.0</td>\n",
       "      <td>5</td>\n",
       "      <td>5.0</td>\n",
       "      <td>(1, 1)</td>\n",
       "      <td>1</td>\n",
       "      <td>True</td>\n",
       "      <td>auto</td>\n",
       "      <td>46</td>\n",
       "      <td>970</td>\n",
       "      <td>0.442222</td>\n",
       "      <td>0.535579</td>\n",
       "      <td>BERTopic(calculate_probabilities=False, ctfidf...</td>\n",
       "      <td>[16, -1, 34, -1, -1, -1, -1, 2, 2, 0, 5, -1, 3...</td>\n",
       "      <td>[0.7659643887123255, 0.0, 1.0, 0.0, 0.0, 0.0, ...</td>\n",
       "      <td>0.236845</td>\n",
       "    </tr>\n",
       "    <tr>\n",
       "      <th>3</th>\n",
       "      <td>4</td>\n",
       "      <td>SentenceTransformer</td>\n",
       "      <td>0.0</td>\n",
       "      <td>5</td>\n",
       "      <td>1.0</td>\n",
       "      <td>5</td>\n",
       "      <td>5.0</td>\n",
       "      <td>(1, 2)</td>\n",
       "      <td>1</td>\n",
       "      <td>True</td>\n",
       "      <td>auto</td>\n",
       "      <td>26</td>\n",
       "      <td>1021</td>\n",
       "      <td>0.592000</td>\n",
       "      <td>0.573346</td>\n",
       "      <td>BERTopic(calculate_probabilities=False, ctfidf...</td>\n",
       "      <td>[1, -1, 1, -1, -1, -1, -1, 3, 3, 2, 1, 0, -1, ...</td>\n",
       "      <td>[0.6468233122862297, 0.0, 0.7437987428682535, ...</td>\n",
       "      <td>0.339421</td>\n",
       "    </tr>\n",
       "    <tr>\n",
       "      <th>4</th>\n",
       "      <td>5</td>\n",
       "      <td>SentenceTransformer</td>\n",
       "      <td>0.0</td>\n",
       "      <td>5</td>\n",
       "      <td>1.0</td>\n",
       "      <td>5</td>\n",
       "      <td>10.0</td>\n",
       "      <td>(1, 1)</td>\n",
       "      <td>1</td>\n",
       "      <td>True</td>\n",
       "      <td>auto</td>\n",
       "      <td>20</td>\n",
       "      <td>947</td>\n",
       "      <td>0.578947</td>\n",
       "      <td>0.559457</td>\n",
       "      <td>BERTopic(calculate_probabilities=False, ctfidf...</td>\n",
       "      <td>[0, -1, 0, 0, 0, 0, -1, 2, 2, 3, 0, 0, -1, 2, ...</td>\n",
       "      <td>[0.5764024024672486, 0.0, 0.8225411625863547, ...</td>\n",
       "      <td>0.323896</td>\n",
       "    </tr>\n",
       "    <tr>\n",
       "      <th>...</th>\n",
       "      <td>...</td>\n",
       "      <td>...</td>\n",
       "      <td>...</td>\n",
       "      <td>...</td>\n",
       "      <td>...</td>\n",
       "      <td>...</td>\n",
       "      <td>...</td>\n",
       "      <td>...</td>\n",
       "      <td>...</td>\n",
       "      <td>...</td>\n",
       "      <td>...</td>\n",
       "      <td>...</td>\n",
       "      <td>...</td>\n",
       "      <td>...</td>\n",
       "      <td>...</td>\n",
       "      <td>...</td>\n",
       "      <td>...</td>\n",
       "      <td>...</td>\n",
       "      <td>...</td>\n",
       "    </tr>\n",
       "    <tr>\n",
       "      <th>139</th>\n",
       "      <td>140</td>\n",
       "      <td>SentenceTransformer</td>\n",
       "      <td>0.1</td>\n",
       "      <td>15</td>\n",
       "      <td>1.0</td>\n",
       "      <td>20</td>\n",
       "      <td>NaN</td>\n",
       "      <td>(1, 2)</td>\n",
       "      <td>1</td>\n",
       "      <td>True</td>\n",
       "      <td>auto</td>\n",
       "      <td>34</td>\n",
       "      <td>954</td>\n",
       "      <td>0.530303</td>\n",
       "      <td>0.554778</td>\n",
       "      <td>BERTopic(calculate_probabilities=False, ctfidf...</td>\n",
       "      <td>[-1, -1, 0, -1, 16, 16, -1, 2, 2, 1, 0, 0, -1,...</td>\n",
       "      <td>[0.0, 0.0, 0.9869658601222523, 0.0, 0.79346411...</td>\n",
       "      <td>0.294201</td>\n",
       "    </tr>\n",
       "    <tr>\n",
       "      <th>140</th>\n",
       "      <td>141</td>\n",
       "      <td>SentenceTransformer</td>\n",
       "      <td>0.1</td>\n",
       "      <td>15</td>\n",
       "      <td>1.0</td>\n",
       "      <td>20</td>\n",
       "      <td>5.0</td>\n",
       "      <td>(1, 1)</td>\n",
       "      <td>1</td>\n",
       "      <td>True</td>\n",
       "      <td>auto</td>\n",
       "      <td>23</td>\n",
       "      <td>1069</td>\n",
       "      <td>0.609091</td>\n",
       "      <td>0.565248</td>\n",
       "      <td>BERTopic(calculate_probabilities=False, ctfidf...</td>\n",
       "      <td>[0, -1, 0, 0, 0, 0, -1, 2, 2, 1, 0, -1, -1, 2,...</td>\n",
       "      <td>[0.8292426899785187, 0.0, 1.0, 0.8991593883132...</td>\n",
       "      <td>0.344288</td>\n",
       "    </tr>\n",
       "    <tr>\n",
       "      <th>141</th>\n",
       "      <td>142</td>\n",
       "      <td>SentenceTransformer</td>\n",
       "      <td>0.1</td>\n",
       "      <td>15</td>\n",
       "      <td>1.0</td>\n",
       "      <td>20</td>\n",
       "      <td>5.0</td>\n",
       "      <td>(1, 2)</td>\n",
       "      <td>1</td>\n",
       "      <td>True</td>\n",
       "      <td>auto</td>\n",
       "      <td>30</td>\n",
       "      <td>1120</td>\n",
       "      <td>0.537931</td>\n",
       "      <td>0.561197</td>\n",
       "      <td>BERTopic(calculate_probabilities=False, ctfidf...</td>\n",
       "      <td>[7, -1, -1, -1, -1, -1, -1, 2, 2, 1, 0, -1, 0,...</td>\n",
       "      <td>[0.7047130479918264, 0.0, 0.0, 0.0, 0.0, 0.0, ...</td>\n",
       "      <td>0.301885</td>\n",
       "    </tr>\n",
       "    <tr>\n",
       "      <th>142</th>\n",
       "      <td>143</td>\n",
       "      <td>SentenceTransformer</td>\n",
       "      <td>0.1</td>\n",
       "      <td>15</td>\n",
       "      <td>1.0</td>\n",
       "      <td>20</td>\n",
       "      <td>10.0</td>\n",
       "      <td>(1, 1)</td>\n",
       "      <td>1</td>\n",
       "      <td>True</td>\n",
       "      <td>auto</td>\n",
       "      <td>35</td>\n",
       "      <td>1007</td>\n",
       "      <td>0.467647</td>\n",
       "      <td>0.540970</td>\n",
       "      <td>BERTopic(calculate_probabilities=False, ctfidf...</td>\n",
       "      <td>[8, -1, -1, -1, -1, -1, -1, 3, 3, 1, 6, 0, -1,...</td>\n",
       "      <td>[0.7193489801061933, 0.0, 0.0, 0.0, 0.0, 0.0, ...</td>\n",
       "      <td>0.252983</td>\n",
       "    </tr>\n",
       "    <tr>\n",
       "      <th>143</th>\n",
       "      <td>144</td>\n",
       "      <td>SentenceTransformer</td>\n",
       "      <td>0.1</td>\n",
       "      <td>15</td>\n",
       "      <td>1.0</td>\n",
       "      <td>20</td>\n",
       "      <td>10.0</td>\n",
       "      <td>(1, 2)</td>\n",
       "      <td>1</td>\n",
       "      <td>True</td>\n",
       "      <td>auto</td>\n",
       "      <td>38</td>\n",
       "      <td>1034</td>\n",
       "      <td>0.470270</td>\n",
       "      <td>0.556417</td>\n",
       "      <td>BERTopic(calculate_probabilities=False, ctfidf...</td>\n",
       "      <td>[6, -1, 1, -1, -1, -1, -1, 8, 8, 0, 4, 2, -1, ...</td>\n",
       "      <td>[0.6576506138811272, 0.0, 1.0, 0.0, 0.0, 0.0, ...</td>\n",
       "      <td>0.261666</td>\n",
       "    </tr>\n",
       "  </tbody>\n",
       "</table>\n",
       "<p>144 rows × 19 columns</p>\n",
       "</div>"
      ]
     },
     "execution_count": 21,
     "metadata": {},
     "output_type": "execute_result"
    }
   ],
   "execution_count": 21
  },
  {
   "metadata": {
    "ExecuteTime": {
     "end_time": "2024-11-06T00:51:22.389355Z",
     "start_time": "2024-11-06T00:51:21.195708Z"
    }
   },
   "cell_type": "code",
   "source": [
    "def plot_results_2d(results_df):\n",
    "    \"\"\"Create 2D visualizations for the hyperparameter tuning results without WebGL dependency.\"\"\"\n",
    "    import matplotlib.pyplot as plt\n",
    "    import seaborn as sns\n",
    "    \n",
    "    # Remove the model and topics columns for plotting\n",
    "    plot_df = results_df.drop(['model', 'topics', 'probs'], axis=1)\n",
    "    \n",
    "    # Create a figure with multiple subplots\n",
    "    fig, axes = plt.subplots(2, 2, figsize=(15, 15))\n",
    "    fig.suptitle('Topic Model Configurations Analysis', fontsize=16)\n",
    "    \n",
    "    # 1. Scatter plot: Topic Coherence vs Number of Topics\n",
    "    sns.scatterplot(\n",
    "        data=plot_df,\n",
    "        x='number_of_topics',\n",
    "        y='topic_coherence',\n",
    "        size='docs_without_topic',\n",
    "        hue='topic_diversity',\n",
    "        ax=axes[0,0]\n",
    "    )\n",
    "    axes[0,0].set_title('Topic Coherence vs Number of Topics')\n",
    "    \n",
    "    # 2. Heatmap of correlation between numeric parameters\n",
    "    numeric_cols = ['number_of_topics', 'topic_coherence', 'topic_diversity', \n",
    "                   'docs_without_topic', 'umap_min_dist', 'hdbscan_min_cluster_size']\n",
    "    correlation = plot_df[numeric_cols].corr()\n",
    "    sns.heatmap(correlation, annot=True, cmap='coolwarm', ax=axes[0,1])\n",
    "    axes[0,1].set_title('Correlation between Metrics')\n",
    "    \n",
    "    # 3. Box plots for key metrics across different HDBSCAN settings\n",
    "    sns.boxplot(\n",
    "        data=plot_df,\n",
    "        x='hdbscan_min_cluster_size',\n",
    "        y='topic_coherence',\n",
    "        ax=axes[1,0]\n",
    "    )\n",
    "    axes[1,0].set_title('Topic Coherence by Min Cluster Size')\n",
    "    \n",
    "    # 4. Distribution of number of topics\n",
    "    sns.histplot(\n",
    "        data=plot_df,\n",
    "        x='number_of_topics',\n",
    "        bins=20,\n",
    "        ax=axes[1,1]\n",
    "    )\n",
    "    axes[1,1].set_title('Distribution of Number of Topics')\n",
    "    \n",
    "    plt.tight_layout()\n",
    "    return fig\n",
    "\n",
    "def plot_metric_relationships(results_df):\n",
    "    \"\"\"Create additional 2D plots focusing on relationships between metrics.\"\"\"\n",
    "    import matplotlib.pyplot as plt\n",
    "    import seaborn as sns\n",
    "    \n",
    "    # Remove the model and topics columns for plotting\n",
    "    plot_df = results_df.drop(['model', 'topics', 'probs'], axis=1)\n",
    "    \n",
    "    # Create a figure with multiple subplots\n",
    "    fig, axes = plt.subplots(2, 2, figsize=(15, 15))\n",
    "    fig.suptitle('Metric Relationships Analysis', fontsize=16)\n",
    "    \n",
    "    # 1. Topic Diversity vs Topic Coherence\n",
    "    sns.scatterplot(\n",
    "        data=plot_df,\n",
    "        x='topic_diversity',\n",
    "        y='topic_coherence',\n",
    "        size='number_of_topics',\n",
    "        hue='docs_without_topic',\n",
    "        ax=axes[0,0]\n",
    "    )\n",
    "    axes[0,0].set_title('Topic Diversity vs Coherence')\n",
    "    \n",
    "    # 2. Documents without topic vs Number of topics\n",
    "    sns.scatterplot(\n",
    "        data=plot_df,\n",
    "        x='number_of_topics',\n",
    "        y='docs_without_topic',\n",
    "        hue='topic_coherence',\n",
    "        ax=axes[0,1]\n",
    "    )\n",
    "    axes[0,1].set_title('Documents without Topic vs Number of Topics')\n",
    "    \n",
    "    # 3. UMAP parameters effect\n",
    "    sns.boxplot(\n",
    "        data=plot_df,\n",
    "        x='umap_n_neighbors',\n",
    "        y='topic_coherence',\n",
    "        ax=axes[1,0]\n",
    "    )\n",
    "    axes[1,0].set_title('Topic Coherence by UMAP Neighbors')\n",
    "    \n",
    "    # 4. Topic diversity distribution\n",
    "    sns.histplot(\n",
    "        data=plot_df,\n",
    "        x='topic_diversity',\n",
    "        bins=20,\n",
    "        ax=axes[1,1]\n",
    "    )\n",
    "    axes[1,1].set_title('Distribution of Topic Diversity')\n",
    "    \n",
    "    plt.tight_layout()\n",
    "    return fig\n",
    "\n",
    "def create_summary_table(results_df, n_best=5):\n",
    "    \"\"\"Create a formatted summary table of the best configurations.\"\"\"\n",
    "    best_models = find_best_models(results_df, n_best)\n",
    "    \n",
    "    summary_df = best_models[[\n",
    "        'composite_score',\n",
    "        'number_of_topics',\n",
    "        'topic_coherence',\n",
    "        'topic_diversity',\n",
    "        'docs_without_topic',\n",
    "        'umap_min_dist',\n",
    "        'umap_n_neighbors',\n",
    "        'hdbscan_min_cluster_size'\n",
    "    ]].round(3)\n",
    "    \n",
    "    # Create a more readable table format\n",
    "    import matplotlib.pyplot as plt\n",
    "    \n",
    "    fig, ax = plt.subplots(figsize=(12, n_best/2 + 1))\n",
    "    ax.axis('tight')\n",
    "    ax.axis('off')\n",
    "    \n",
    "    table = ax.table(\n",
    "        cellText=summary_df.values,\n",
    "        colLabels=summary_df.columns,\n",
    "        cellLoc='center',\n",
    "        loc='center'\n",
    "    )\n",
    "    \n",
    "    # Adjust table properties\n",
    "    table.auto_set_font_size(False)\n",
    "    table.set_fontsize(9)\n",
    "    table.scale(1.2, 1.5)\n",
    "    \n",
    "    plt.title('Best Model Configurations')\n",
    "    plt.tight_layout()\n",
    "    \n",
    "    return fig\n",
    "\n",
    "# Example usage:\n",
    "# results_df = run_hyperparameter_tuning(df_news, max_combinations=50)\n",
    "# \n",
    "# # Create main visualization plots\n",
    "fig1 = plot_results_2d(results_df)\n",
    "fig2 = plot_metric_relationships(results_df)\n",
    "# \n",
    "# # Create summary table\n",
    "fig3 = create_summary_table(results_df)\n",
    "# \n",
    "# # Show all plots\n",
    "plt.show()"
   ],
   "id": "2d233a370eafb869",
   "outputs": [
    {
     "data": {
      "text/plain": [
       "<Figure size 1500x1500 with 5 Axes>"
      ],
      "image/png": "[encoded data removed]"
     },
     "metadata": {},
     "output_type": "display_data"
    },
    {
     "data": {
      "text/plain": [
       "<Figure size 1500x1500 with 4 Axes>"
      ],
      "image/png": "[encoded data removed]"
     },
     "metadata": {},
     "output_type": "display_data"
    },
    {
     "data": {
      "text/plain": [
       "<Figure size 1200x350 with 1 Axes>"
      ],
      "image/png": "[encoded data removed]"
     },
     "metadata": {},
     "output_type": "display_data"
    }
   ],
   "execution_count": 19
  },
  {
   "metadata": {},
   "cell_type": "code",
   "outputs": [],
   "execution_count": null,
   "source": "",
   "id": "c62f42a0aee512a3"
  }
 ],
 "metadata": {
  "kernelspec": {
   "display_name": "Python 3",
   "language": "python",
   "name": "python3"
  },
  "language_info": {
   "codemirror_mode": {
    "name": "ipython",
    "version": 2
   },
   "file_extension": ".py",
   "mimetype": "text/x-python",
   "name": "python",
   "nbconvert_exporter": "python",
   "pygments_lexer": "ipython2",
   "version": "2.7.6"
  }
 },
 "nbformat": 4,
 "nbformat_minor": 5
}
