{
 "cells": [
  {
   "metadata": {},
   "cell_type": "markdown",
   "source": "",
   "id": "30650b68a1c7b0e5"
  },
  {
   "cell_type": "code",
   "id": "initial_id",
   "metadata": {
    "collapsed": true,
    "ExecuteTime": {
     "end_time": "2024-11-06T22:22:25.186201Z",
     "start_time": "2024-11-06T22:22:25.089163Z"
    }
   },
   "source": [
    "import Assignment2.df_filter_nvida as df_filter_nvida\n",
    "\n",
    "import numpy as np\n",
    "import pandas as pd\n",
    "import matplotlib.pyplot as plt\n",
    "import seaborn as sns\n",
    "from umap import UMAP\n",
    "from hdbscan import HDBSCAN\n",
    "from sentence_transformers import SentenceTransformer\n",
    "from sklearn.feature_extraction.text import CountVectorizer\n",
    "import os\n",
    "os.environ[\"TOKENIZERS_PARALLELISM\"] = \"false\"\n",
    "\n",
    "\n",
    "from bertopic import BERTopic\n",
    "from bertopic.representation import KeyBERTInspired, BaseRepresentation\n",
    "from bertopic.vectorizers import ClassTfidfTransformer\n",
    "import gensim.corpora as corpora\n",
    "from gensim.models.coherencemodel import CoherenceModel\n",
    "\n",
    "import nltk\n",
    "import ssl\n",
    "\n",
    "try:\n",
    "    _create_unverified_https_context = ssl._create_unverified_context\n",
    "except AttributeError:\n",
    "    pass\n",
    "else:\n",
    "    ssl._create_default_https_context = _create_unverified_https_context\n",
    "\n",
    "nltk.download('punkt')"
   ],
   "outputs": [
    {
     "name": "stderr",
     "output_type": "stream",
     "text": [
      "[nltk_data] Downloading package punkt to\n",
      "[nltk_data]     /Users/mehdigreefhorst/nltk_data...\n",
      "[nltk_data]   Package punkt is already up-to-date!\n"
     ]
    },
    {
     "data": {
      "text/plain": [
       "True"
      ]
     },
     "execution_count": 59,
     "metadata": {},
     "output_type": "execute_result"
    }
   ],
   "execution_count": 59
  },
  {
   "metadata": {
    "ExecuteTime": {
     "end_time": "2024-11-06T22:22:50.120859Z",
     "start_time": "2024-11-06T22:22:25.971926Z"
    }
   },
   "cell_type": "code",
   "source": [
    "news_articles_data = pd.read_csv(\"../data/us_equities_news_dataset.csv\")\n",
    "stock_data = pd.read_csv(\"../data/NVDA.csv\")\n",
    "nvida_news_articles_df = df_filter_nvida.filter_df_to_nvida(df=news_articles_data,\n",
    "                                                            related_tickers=\"NVDA\")\n",
    "df_news = df_filter_nvida.add_nvidia_increase_decrease_bool_to_df(df_news=nvida_news_articles_df,\n",
    "                                                                  df_stock_data=stock_data)\n",
    "df_news = df_news.drop_duplicates(subset='content', keep='first').reset_index(drop=True)\n",
    "df_news"
   ],
   "id": "9e27725843831734",
   "outputs": [
    {
     "name": "stdout",
     "output_type": "stream",
     "text": [
      "nan\n",
      "nan\n",
      "nan\n",
      "nan\n",
      "nan\n",
      "nan\n",
      "nan\n",
      "nan\n"
     ]
    },
    {
     "data": {
      "text/plain": [
       "          id ticker  ticker_NVDA_improved  \\\n",
       "0     221539    NIO                  True   \n",
       "1     221547    NIO                  True   \n",
       "2     221572    NIO                  True   \n",
       "3     221593   UBER                  True   \n",
       "4     221597   UBER                  True   \n",
       "...      ...    ...                   ...   \n",
       "3436  442657    AMD                  True   \n",
       "3437  442682    AMD                  True   \n",
       "3438  442705    AMD                  True   \n",
       "3439  442984      T                  True   \n",
       "3440  442987      T                  True   \n",
       "\n",
       "                                                  title  title_NVIDIA_topic  \\\n",
       "0     A Central Bank War Just Started And Its Good F...               False   \n",
       "1            6 Stocks To Watch  Nivida Could Be Falling               False   \n",
       "2     Stocks   Dow Drops Nearly 400 Points as Apple ...               False   \n",
       "3     The Zacks Analyst Blog Highlights  Advanced Mi...                True   \n",
       "4                        The Best Of CES 2020  Revised                False   \n",
       "...                                                 ...                 ...   \n",
       "3436    Here s Why Nvidia  NVDA  Stock Is Gaining Today                True   \n",
       "3437      4 Stocks To Watch Today  ATW  CWEI  MXL  SLCA               False   \n",
       "3438  Here s What The Buy Side Expects From AMD Thur...               False   \n",
       "3439  Zacks com Featured Highlights  AT T  Nu Skin E...                True   \n",
       "3440  5 Dividend Growth Stocks To Sail Through Uncer...               False   \n",
       "\n",
       "     category                                            content  \\\n",
       "0     opinion  ECB Effects\\nThe move in the euro was huge  fa...   \n",
       "1     opinion  6 Stocks To Watch  March 6 Trading Session\\nSt...   \n",
       "2        news  Investing com   A rout in Apple and Facebook  ...   \n",
       "3     opinion  For Immediate ReleaseChicago  IL   January 13 ...   \n",
       "4     opinion  With 4 500 companies bringing their innovation...   \n",
       "...       ...                                                ...   \n",
       "3436  opinion  Shares of Nvidia   NASDAQ NVDA   are up nearly...   \n",
       "3437  opinion  It was a pretty good start to the week on Mond...   \n",
       "3438  opinion  Advanced Micro Devices Inc   NYSE AMD  is set ...   \n",
       "3439  opinion  For Immediate Release\\n\\nChicago  IL   July 22...   \n",
       "3440  opinion  With uncertainty ruling the markets since the ...   \n",
       "\n",
       "      content_NVIDIA_topic release_date                   provider  \\\n",
       "0                     True   2019-03-07             Michael Kramer   \n",
       "1                     True   2019-03-06             Michael Kramer   \n",
       "2                     True   2018-11-19              Investing.com   \n",
       "3                     True   2020-01-12  Zacks Investment Research   \n",
       "4                     True   2020-01-16  Zacks Investment Research   \n",
       "...                    ...          ...                        ...   \n",
       "3436                  True   2016-09-27  Zacks Investment Research   \n",
       "3437                  True   2016-05-17                Harry Boxer   \n",
       "3438                  True   2014-04-17                   Estimize   \n",
       "3439                  True   2016-07-21  Zacks Investment Research   \n",
       "3440                  True   2016-07-20  Zacks Investment Research   \n",
       "\n",
       "                                                    url  article_id  \\\n",
       "0     https://www.investing.com/analysis/a-central-b...   200395687   \n",
       "1     https://www.investing.com/analysis/6-stocks-to...   200394931   \n",
       "2     https://www.investing.com/news/stock-market-ne...     1694042   \n",
       "3     https://www.investing.com/analysis/the-zacks-a...   200498277   \n",
       "4     https://www.investing.com/analysis/the-best-of...   200499164   \n",
       "...                                                 ...         ...   \n",
       "3436  https://www.investing.com/analysis/here's-why-...   200155860   \n",
       "3437  https://www.investing.com/analysis/atw,-cwei,-...   200130262   \n",
       "3438  https://www.investing.com/analysis/here’s-what...      209915   \n",
       "3439  https://www.investing.com/analysis/zacks.com-f...   200143537   \n",
       "3440  https://www.investing.com/analysis/5-dividend-...   200143306   \n",
       "\n",
       "     NVIDIA_stock_increase  \n",
       "0                        0  \n",
       "1                        0  \n",
       "2                        0  \n",
       "3                        0  \n",
       "4                        1  \n",
       "...                    ...  \n",
       "3436                     1  \n",
       "3437                     1  \n",
       "3438                     1  \n",
       "3439                     0  \n",
       "3440                     1  \n",
       "\n",
       "[3441 rows x 13 columns]"
      ],
      "text/html": [
       "<div>\n",
       "<style scoped>\n",
       "    .dataframe tbody tr th:only-of-type {\n",
       "        vertical-align: middle;\n",
       "    }\n",
       "\n",
       "    .dataframe tbody tr th {\n",
       "        vertical-align: top;\n",
       "    }\n",
       "\n",
       "    .dataframe thead th {\n",
       "        text-align: right;\n",
       "    }\n",
       "</style>\n",
       "<table border=\"1\" class=\"dataframe\">\n",
       "  <thead>\n",
       "    <tr style=\"text-align: right;\">\n",
       "      <th></th>\n",
       "      <th>id</th>\n",
       "      <th>ticker</th>\n",
       "      <th>ticker_NVDA_improved</th>\n",
       "      <th>title</th>\n",
       "      <th>title_NVIDIA_topic</th>\n",
       "      <th>category</th>\n",
       "      <th>content</th>\n",
       "      <th>content_NVIDIA_topic</th>\n",
       "      <th>release_date</th>\n",
       "      <th>provider</th>\n",
       "      <th>url</th>\n",
       "      <th>article_id</th>\n",
       "      <th>NVIDIA_stock_increase</th>\n",
       "    </tr>\n",
       "  </thead>\n",
       "  <tbody>\n",
       "    <tr>\n",
       "      <th>0</th>\n",
       "      <td>221539</td>\n",
       "      <td>NIO</td>\n",
       "      <td>True</td>\n",
       "      <td>A Central Bank War Just Started And Its Good F...</td>\n",
       "      <td>False</td>\n",
       "      <td>opinion</td>\n",
       "      <td>ECB Effects\\nThe move in the euro was huge  fa...</td>\n",
       "      <td>True</td>\n",
       "      <td>2019-03-07</td>\n",
       "      <td>Michael Kramer</td>\n",
       "      <td>https://www.investing.com/analysis/a-central-b...</td>\n",
       "      <td>200395687</td>\n",
       "      <td>0</td>\n",
       "    </tr>\n",
       "    <tr>\n",
       "      <th>1</th>\n",
       "      <td>221547</td>\n",
       "      <td>NIO</td>\n",
       "      <td>True</td>\n",
       "      <td>6 Stocks To Watch  Nivida Could Be Falling</td>\n",
       "      <td>False</td>\n",
       "      <td>opinion</td>\n",
       "      <td>6 Stocks To Watch  March 6 Trading Session\\nSt...</td>\n",
       "      <td>True</td>\n",
       "      <td>2019-03-06</td>\n",
       "      <td>Michael Kramer</td>\n",
       "      <td>https://www.investing.com/analysis/6-stocks-to...</td>\n",
       "      <td>200394931</td>\n",
       "      <td>0</td>\n",
       "    </tr>\n",
       "    <tr>\n",
       "      <th>2</th>\n",
       "      <td>221572</td>\n",
       "      <td>NIO</td>\n",
       "      <td>True</td>\n",
       "      <td>Stocks   Dow Drops Nearly 400 Points as Apple ...</td>\n",
       "      <td>False</td>\n",
       "      <td>news</td>\n",
       "      <td>Investing com   A rout in Apple and Facebook  ...</td>\n",
       "      <td>True</td>\n",
       "      <td>2018-11-19</td>\n",
       "      <td>Investing.com</td>\n",
       "      <td>https://www.investing.com/news/stock-market-ne...</td>\n",
       "      <td>1694042</td>\n",
       "      <td>0</td>\n",
       "    </tr>\n",
       "    <tr>\n",
       "      <th>3</th>\n",
       "      <td>221593</td>\n",
       "      <td>UBER</td>\n",
       "      <td>True</td>\n",
       "      <td>The Zacks Analyst Blog Highlights  Advanced Mi...</td>\n",
       "      <td>True</td>\n",
       "      <td>opinion</td>\n",
       "      <td>For Immediate ReleaseChicago  IL   January 13 ...</td>\n",
       "      <td>True</td>\n",
       "      <td>2020-01-12</td>\n",
       "      <td>Zacks Investment Research</td>\n",
       "      <td>https://www.investing.com/analysis/the-zacks-a...</td>\n",
       "      <td>200498277</td>\n",
       "      <td>0</td>\n",
       "    </tr>\n",
       "    <tr>\n",
       "      <th>4</th>\n",
       "      <td>221597</td>\n",
       "      <td>UBER</td>\n",
       "      <td>True</td>\n",
       "      <td>The Best Of CES 2020  Revised</td>\n",
       "      <td>False</td>\n",
       "      <td>opinion</td>\n",
       "      <td>With 4 500 companies bringing their innovation...</td>\n",
       "      <td>True</td>\n",
       "      <td>2020-01-16</td>\n",
       "      <td>Zacks Investment Research</td>\n",
       "      <td>https://www.investing.com/analysis/the-best-of...</td>\n",
       "      <td>200499164</td>\n",
       "      <td>1</td>\n",
       "    </tr>\n",
       "    <tr>\n",
       "      <th>...</th>\n",
       "      <td>...</td>\n",
       "      <td>...</td>\n",
       "      <td>...</td>\n",
       "      <td>...</td>\n",
       "      <td>...</td>\n",
       "      <td>...</td>\n",
       "      <td>...</td>\n",
       "      <td>...</td>\n",
       "      <td>...</td>\n",
       "      <td>...</td>\n",
       "      <td>...</td>\n",
       "      <td>...</td>\n",
       "      <td>...</td>\n",
       "    </tr>\n",
       "    <tr>\n",
       "      <th>3436</th>\n",
       "      <td>442657</td>\n",
       "      <td>AMD</td>\n",
       "      <td>True</td>\n",
       "      <td>Here s Why Nvidia  NVDA  Stock Is Gaining Today</td>\n",
       "      <td>True</td>\n",
       "      <td>opinion</td>\n",
       "      <td>Shares of Nvidia   NASDAQ NVDA   are up nearly...</td>\n",
       "      <td>True</td>\n",
       "      <td>2016-09-27</td>\n",
       "      <td>Zacks Investment Research</td>\n",
       "      <td>https://www.investing.com/analysis/here's-why-...</td>\n",
       "      <td>200155860</td>\n",
       "      <td>1</td>\n",
       "    </tr>\n",
       "    <tr>\n",
       "      <th>3437</th>\n",
       "      <td>442682</td>\n",
       "      <td>AMD</td>\n",
       "      <td>True</td>\n",
       "      <td>4 Stocks To Watch Today  ATW  CWEI  MXL  SLCA</td>\n",
       "      <td>False</td>\n",
       "      <td>opinion</td>\n",
       "      <td>It was a pretty good start to the week on Mond...</td>\n",
       "      <td>True</td>\n",
       "      <td>2016-05-17</td>\n",
       "      <td>Harry Boxer</td>\n",
       "      <td>https://www.investing.com/analysis/atw,-cwei,-...</td>\n",
       "      <td>200130262</td>\n",
       "      <td>1</td>\n",
       "    </tr>\n",
       "    <tr>\n",
       "      <th>3438</th>\n",
       "      <td>442705</td>\n",
       "      <td>AMD</td>\n",
       "      <td>True</td>\n",
       "      <td>Here s What The Buy Side Expects From AMD Thur...</td>\n",
       "      <td>False</td>\n",
       "      <td>opinion</td>\n",
       "      <td>Advanced Micro Devices Inc   NYSE AMD  is set ...</td>\n",
       "      <td>True</td>\n",
       "      <td>2014-04-17</td>\n",
       "      <td>Estimize</td>\n",
       "      <td>https://www.investing.com/analysis/here’s-what...</td>\n",
       "      <td>209915</td>\n",
       "      <td>1</td>\n",
       "    </tr>\n",
       "    <tr>\n",
       "      <th>3439</th>\n",
       "      <td>442984</td>\n",
       "      <td>T</td>\n",
       "      <td>True</td>\n",
       "      <td>Zacks com Featured Highlights  AT T  Nu Skin E...</td>\n",
       "      <td>True</td>\n",
       "      <td>opinion</td>\n",
       "      <td>For Immediate Release\\n\\nChicago  IL   July 22...</td>\n",
       "      <td>True</td>\n",
       "      <td>2016-07-21</td>\n",
       "      <td>Zacks Investment Research</td>\n",
       "      <td>https://www.investing.com/analysis/zacks.com-f...</td>\n",
       "      <td>200143537</td>\n",
       "      <td>0</td>\n",
       "    </tr>\n",
       "    <tr>\n",
       "      <th>3440</th>\n",
       "      <td>442987</td>\n",
       "      <td>T</td>\n",
       "      <td>True</td>\n",
       "      <td>5 Dividend Growth Stocks To Sail Through Uncer...</td>\n",
       "      <td>False</td>\n",
       "      <td>opinion</td>\n",
       "      <td>With uncertainty ruling the markets since the ...</td>\n",
       "      <td>True</td>\n",
       "      <td>2016-07-20</td>\n",
       "      <td>Zacks Investment Research</td>\n",
       "      <td>https://www.investing.com/analysis/5-dividend-...</td>\n",
       "      <td>200143306</td>\n",
       "      <td>1</td>\n",
       "    </tr>\n",
       "  </tbody>\n",
       "</table>\n",
       "<p>3441 rows × 13 columns</p>\n",
       "</div>"
      ]
     },
     "execution_count": 60,
     "metadata": {},
     "output_type": "execute_result"
    }
   ],
   "execution_count": 60
  },
  {
   "metadata": {
    "ExecuteTime": {
     "end_time": "2024-11-06T22:22:50.132849Z",
     "start_time": "2024-11-06T22:22:50.122802Z"
    }
   },
   "cell_type": "code",
   "source": [
    "def get_standard_bertopic(model_setting_index=0, customer_model_settings = None):\n",
    "    \"\"\"\n",
    "    each of the steps in bertopic are assigned using the model settings, in the future this can be replaced with a grid search system to evaluate different model settings, but this is the most basic version with standard parameters. each of the model settings is in a list\n",
    "    :param model_setting_index: defines which of the hyperparamter settings to pick\n",
    "    :return: \n",
    "    \"\"\"\n",
    "    model_settings = [{\n",
    "        \"language\": \"\",\n",
    "        \"nr_topics\": \"None\",\n",
    "        \"document_embedding\": 'SentenceTransformer(\"all-MiniLM-L6-v2\")',\n",
    "        \"reduce_dimensionality\": \"UMAP()\",\n",
    "        \"clustering\": \"HDBSCAN()\",\n",
    "        \"topic_tokenization\": 'CountVectorizer(stop_words=\"english\")',\n",
    "        \"topic_representation\": 'ClassTfidfTransformer()',\n",
    "        \"representation_model\": 'KeyBERTInspired()'\n",
    "    }]\n",
    "    \n",
    "    if customer_model_settings is not None:\n",
    "        for key in model_settings[0].keys():\n",
    "            if key not in customer_model_settings.keys():\n",
    "                raise Exception(f\"Missing key: {key}\")\n",
    "        model_settings.append(customer_model_settings)\n",
    "            \n",
    "            \n",
    "    # Step 1 - Extract embeddings\n",
    "    embedding_model = model_settings[model_setting_index][\"document_embedding\"]\n",
    "    \n",
    "    # Step 2 - Reduce dimensionality\n",
    "    umap_model = model_settings[model_setting_index][\"reduce_dimensionality\"]\n",
    "\n",
    "    # Step 3 - Cluster reduced embeddings\n",
    "    hdbscan_model = model_settings[model_setting_index][\"clustering\"]\n",
    "\n",
    "    # Step 4 - Tokenize topics\n",
    "    vectorizer_model = model_settings[model_setting_index][\"topic_tokenization\"]\n",
    "\n",
    "    # Step 5 - Create topic representation\n",
    "    ctfidf_model = model_settings[model_setting_index][\"topic_representation\"]\n",
    "\n",
    "    # Step 6 - (Optional) Fine-tune topic representations with\n",
    "    # a `bertopic.representation` model\n",
    "    representation_model = model_settings[model_setting_index][\"representation_model\"]\n",
    "    \n",
    "    language = model_settings[model_setting_index][\"language\"]\n",
    "\n",
    "    # All steps together\n",
    "    topic_model = BERTopic(\n",
    "        language=language,\n",
    "        nr_topics=model_settings[model_setting_index][\"nr_topics\"],\n",
    "        embedding_model=embedding_model,          # Step 1 - Extract embeddings\n",
    "        umap_model=umap_model,                    # Step 2 - Reduce dimensionality\n",
    "        hdbscan_model=hdbscan_model,              # Step 3 - Cluster reduced embeddings\n",
    "        vectorizer_model=vectorizer_model,        # Step 4 - Tokenize topics\n",
    "        ctfidf_model=ctfidf_model,                # Step 5 - Extract topic words\n",
    "        representation_model=representation_model # Step 6 - (Optional) Fine-tune topic represenations\n",
    "    )\n",
    "    return topic_model\n",
    "\n",
    "def train_bertopic_model(documents, model_setting_index=0, customer_model_settings = None):\n",
    "    \"\"\"\n",
    "    trains the bertopic model from the documents that are given as a parameter\n",
    "    :param documents: an array of documents to get topics made of\n",
    "    :param model_setting_index: specifies which batch of hyperparameters to pick that define bertopic. Standard = 0\n",
    "    :return: \n",
    "    \"\"\"\n",
    "    topic_model = get_standard_bertopic(model_setting_index=model_setting_index, \n",
    "                                        customer_model_settings=customer_model_settings)\n",
    "    topics, props = topic_model.fit_transform(documents)\n",
    "    return topic_model, topics, props\n",
    "    \n",
    "def get_topics_that_relate_to_nvidia(topic_model):\n",
    "    \"\"\"\n",
    "    this function finds the topics that relate most to the input words given which is NVIDIA\n",
    "    :param topic_model: \n",
    "    :return: \n",
    "    \"\"\"\n",
    "    similar_topics, similarities = topic_model.find_topics(\"NVIDIA\", top_n=3)\n",
    "    for topic_nr, similarity in zip(similar_topics, similarities):\n",
    "        print(f\"topic_nr: {topic_nr} | similarity to NVIDIA: {similarity}\")\n",
    "        print(f\"words with similarities for topic:\")\n",
    "        print(topic_model.get_topic(topic_nr))\n",
    "        \n",
    "\n",
    "def get_coherence(df, _topic_model, _topics_numbers):\n",
    "    # add the new topic numbers to the \"topic\" column\n",
    "    df['topic'] = _topics_numbers\n",
    "    documents_per_topic = df.groupby(['topic'], as_index=False).agg({'content': ' '.join})\n",
    "    cleaned_docs = _topic_model._preprocess_text(documents_per_topic.content.values)\n",
    "    \n",
    "    # Extract vectorizer and analyzer from BERTopic\n",
    "    vectorizer = _topic_model.vectorizer_model\n",
    "    analyzer = vectorizer.build_analyzer()\n",
    "    \n",
    "    \n",
    "    # Extract features for Topic Coherence evaluation\n",
    "    #words = vectorizer.get_feature_names()\n",
    "    tokens = [analyzer(doc) for doc in cleaned_docs]\n",
    "    dictionary = corpora.Dictionary(tokens)\n",
    "    corpus = [dictionary.doc2bow(token) for token in tokens]\n",
    "    topic_words = [[words for words, _ in _topic_model.get_topic(topic)] \n",
    "                   for topic in range(len(set(df[\"topic\"]))-1)]\n",
    "    \n",
    "    # Evaluate\n",
    "    coherence_model = CoherenceModel(topics=topic_words, \n",
    "                                     texts=tokens, \n",
    "                                     corpus=corpus,\n",
    "                                     dictionary=dictionary, \n",
    "                                     coherence='c_v')\n",
    "    coherence = coherence_model.get_coherence()\n",
    "    return coherence\n",
    "\n",
    "def get_topic_diversity(topic_model):\n",
    "    unique_words = set()\n",
    "    total_words = 0\n",
    "    \n",
    "    for topic_nr, topic_similarity_word_list in topic_model.topic_representations_.items():\n",
    "        # the first topic is not a topic, these are the outlier documents, so we should disregard these\n",
    "        if topic_nr == -1:\n",
    "            continue\n",
    "        for topic_word, similarity in topic_similarity_word_list:\n",
    "            \n",
    "            total_words += 1\n",
    "            unique_words.add(topic_word)\n",
    "            \n",
    "    topic_diversity = len(unique_words)/total_words\n",
    "    return topic_diversity\n",
    "\n",
    "\n",
    "def show_bertopic_evaluations(custom_bert_params, iteration=0):\n",
    "    print(\"iteration = \", iteration)\n",
    "    _topic_model_content, _topics_numbers, _probs_numbers = train_bertopic_model(df_news[\"content\"],\n",
    "                                                                                 model_setting_index=-1,\n",
    "                                                                                 customer_model_settings=custom_bert_params)\n",
    "    print(\"total number of topics = \", len(_topic_model_content.get_topic_info()))\n",
    "    print(\"documents without a topic = \", _topic_model_content.get_topic_info(-1)[\"Count\"].values[0])\n",
    "    #print(\"topic diversity = \", get_topic_diversity(_topic_model_content))\n",
    "    #print(\"topic coherence = \", get_coherence(df_news, _topic_model_content, _topics_numbers))\n",
    "    _topic_model_content.visualize_topics().write_image(f'plots/intertopic_{iteration}.jpg')\n",
    "    _topic_model_content.visualize_barchart(top_n_topics=60, n_words=10).write_image(f\"plots/topicbar_{iteration}.jpg\")\n",
    "    return _topic_model_content, _topics_numbers, _probs_numbers\n",
    "\n"
   ],
   "id": "492c0a42730afa1b",
   "outputs": [],
   "execution_count": 61
  },
  {
   "metadata": {},
   "cell_type": "markdown",
   "source": "### Very good one!",
   "id": "3c1f7c82f029614e"
  },
  {
   "metadata": {
    "ExecuteTime": {
     "end_time": "2024-11-06T15:42:01.167153Z",
     "start_time": "2024-11-06T15:41:23.243413Z"
    }
   },
   "cell_type": "code",
   "source": [
    "custom_bert_parameters = {\n",
    "    \"language\": \"english\",\n",
    "    \"nr_topics\": \"auto\",\n",
    "    \"document_embedding\": SentenceTransformer(\"all-MiniLM-L6-v2\"),\n",
    "    \"reduce_dimensionality\": UMAP(min_dist=0.05, spread=0.5),\n",
    "    \"clustering\": HDBSCAN(min_cluster_size=15),\n",
    "    \"topic_tokenization\": CountVectorizer(stop_words=\"english\"),\n",
    "    \"topic_representation\": ClassTfidfTransformer(reduce_frequent_words=True),\n",
    "    \"representation_model\": KeyBERTInspired(top_n_words=20)\n",
    "}\n",
    "topic_, topicnum_, probs_ = show_bertopic_evaluations(custom_bert_parameters, iteration=205)\n",
    "\n"
   ],
   "id": "bfcd35c7cafc6e9c",
   "outputs": [
    {
     "name": "stdout",
     "output_type": "stream",
     "text": [
      "iteration =  205\n",
      "topic model parameters =  {'calculate_probabilities': False, 'ctfidf_model': ClassTfidfTransformer(reduce_frequent_words=True), 'embedding_model': SentenceTransformer(\n",
      "  (0): Transformer({'max_seq_length': 256, 'do_lower_case': False}) with Transformer model: BertModel \n",
      "  (1): Pooling({'word_embedding_dimension': 384, 'pooling_mode_cls_token': False, 'pooling_mode_mean_tokens': True, 'pooling_mode_max_tokens': False, 'pooling_mode_mean_sqrt_len_tokens': False, 'pooling_mode_weightedmean_tokens': False, 'pooling_mode_lasttoken': False, 'include_prompt': True})\n",
      "  (2): Normalize()\n",
      "), 'hdbscan_model': HDBSCAN(min_cluster_size=15), 'language': None, 'low_memory': False, 'min_topic_size': 10, 'n_gram_range': (1, 1), 'nr_topics': 'auto', 'representation_model': KeyBERTInspired(top_n_words=20), 'seed_topic_list': None, 'top_n_words': 10, 'umap_model': UMAP(min_dist=0.05, spread=0.5), 'vectorizer_model': CountVectorizer(stop_words='english'), 'verbose': False, 'zeroshot_min_similarity': 0.7, 'zeroshot_topic_list': None}\n",
      "total number of topics =  37\n",
      "documents without a topic =  857\n"
     ]
    }
   ],
   "execution_count": 57
  },
  {
   "metadata": {},
   "cell_type": "markdown",
   "source": "The sentence transformer chosen is all-MiniLM-L6-v2. This is one of the better models that Maarten Grootendorst has evaluated, but it has a much faster computation time than for example the best model \"all-mpnet-base-v2\", which would result in 2% better performance but a 5 times slower running time.",
   "id": "e37ba5ed071716f4"
  },
  {
   "metadata": {
    "jupyter": {
     "is_executing": true
    },
    "ExecuteTime": {
     "start_time": "2024-11-06T16:22:05.121846Z"
    }
   },
   "cell_type": "code",
   "source": [
    "import pandas as pd\n",
    "import numpy as np\n",
    "from sentence_transformers import SentenceTransformer\n",
    "from umap import UMAP\n",
    "from hdbscan import HDBSCAN\n",
    "from sklearn.feature_extraction.text import CountVectorizer\n",
    "from bertopic.vectorizers import ClassTfidfTransformer\n",
    "from bertopic.representation import KeyBERTInspired\n",
    "from itertools import product\n",
    "import plotly.express as px\n",
    "import plotly.graph_objects as go\n",
    "from tqdm import tqdm\n",
    "\n",
    "def create_parameter_grid():\n",
    "    \"\"\"Define the parameter grid for hyperparameter tuning.\"\"\"\n",
    "    param_grid = {\n",
    "        \"language\": [\"english\"],  # keeping consistent with your implementation\n",
    "        \"nr_topics\": [\"auto\"],\n",
    "        \"document_embedding\": [\n",
    "            SentenceTransformer(\"all-MiniLM-L6-v2\"),\n",
    "            #SentenceTransformer(\"all-mpnet-base-v2\")\n",
    "        ],\n",
    "        \"reduce_dimensionality\": [\n",
    "            UMAP(min_dist=d, n_neighbors=n)\n",
    "            for d, n in product(\n",
    "                [0.00, 0.05, 0.1],  # min_dist\n",
    "                [10, 15, 20],  # n_neighbors\n",
    "            )\n",
    "        ],\n",
    "        \"clustering\": [\n",
    "            HDBSCAN(min_cluster_size=s, min_samples=m)\n",
    "            for s, m in product(\n",
    "                [5, 10, 15, 20],  # min_cluster_size\n",
    "                [None, 5, 10]  # min_samples\n",
    "            )\n",
    "        ],\n",
    "        \"topic_tokenization\": [\n",
    "            CountVectorizer(stop_words=\"english\", ngram_range=n)\n",
    "            for n in [(1,1), (1,2)]  # ngram_range\n",
    "                \n",
    "            \n",
    "        ],\n",
    "        \"topic_representation\": [\n",
    "            ClassTfidfTransformer(reduce_frequent_words=rf)\n",
    "            for rf in [True]\n",
    "        ],\n",
    "        \"representation_model\": [KeyBERTInspired()]\n",
    "    }\n",
    "    return param_grid\n",
    "\n",
    "def run_hyperparameter_tuning(df, max_combinations=3):\n",
    "    \"\"\"Run hyperparameter tuning using your existing functions.\"\"\"\n",
    "    param_grid = create_parameter_grid()\n",
    "    results = []\n",
    "    \n",
    "    # Generate parameter combinations\n",
    "    param_keys = list(param_grid.keys())\n",
    "    param_values = list(param_grid.values())\n",
    "    combinations = list(product(*param_values))\n",
    "    print(\"combinations to test= \", len(combinations))\n",
    "    \n",
    "    if max_combinations:\n",
    "        combinations = combinations[:max_combinations]\n",
    "    combo_iteration = 0\n",
    "    for combo in tqdm(combinations, desc=\"Evaluating model configurations\"):\n",
    "        combo_iteration += 1\n",
    "        try:\n",
    "            # Create parameter dictionary for current combination\n",
    "            current_params = dict(zip(param_keys, combo))\n",
    "            \n",
    "            # Use your existing function to train and evaluate the model\n",
    "            topic_model, topics, probs = show_bertopic_evaluations(current_params, combo_iteration)\n",
    "            \n",
    "            # Get evaluation metrics\n",
    "            topic_info = topic_model.get_topic_info()\n",
    "            \n",
    "            result = {\n",
    "                # Configuration identifiers\n",
    "                'iteration': combo_iteration,\n",
    "                'embedding_model': current_params['document_embedding'].__class__.__name__,\n",
    "                'umap_min_dist': current_params['reduce_dimensionality'].min_dist,\n",
    "                'umap_n_neighbors': current_params['reduce_dimensionality'].n_neighbors,\n",
    "                'umap_spread': current_params['reduce_dimensionality'].spread,\n",
    "                'hdbscan_min_cluster_size': current_params['clustering'].min_cluster_size,\n",
    "                'hdbscan_min_samples': current_params['clustering'].min_samples,\n",
    "                'vectorizer_ngram_range': current_params['topic_tokenization'].ngram_range,\n",
    "                'vectorizer_min_df': current_params['topic_tokenization'].min_df,\n",
    "                'reduce_frequent_words': current_params['topic_representation'].reduce_frequent_words,\n",
    "                'nr_topics_setting': str(current_params['nr_topics']),\n",
    "                \n",
    "                # Evaluation metrics (using your existing functions)\n",
    "                'number_of_topics': len(topic_info),\n",
    "                'docs_without_topic': topic_info.iloc[0]['Count'] if -1 in topics else 0,\n",
    "                'topic_diversity': get_topic_diversity(topic_model),\n",
    "                'topic_coherence': get_coherence(df, topic_model, topics),\n",
    "                \n",
    "                # Store the model and topics for later use if needed\n",
    "                'model': topic_model,\n",
    "                'topics': topics,\n",
    "                'probs': probs\n",
    "            }\n",
    "            \n",
    "            results.append(result)\n",
    "            \n",
    "        except Exception as e:\n",
    "            print(f\"Error with configuration: {e}\")\n",
    "            continue\n",
    "    \n",
    "    return pd.DataFrame(results)\n",
    "\n",
    "def plot_results(results_df):\n",
    "    \"\"\"Create visualizations for the hyperparameter tuning results.\"\"\"\n",
    "    # Remove the model and topics columns for plotting\n",
    "    plot_df = results_df.drop(['model', 'topics', 'probs'], axis=1)\n",
    "    \n",
    "    # 3D scatter plot\n",
    "    fig1 = go.Figure(data=[go.Scatter3d(\n",
    "        x=plot_df['number_of_topics'],\n",
    "        y=plot_df['topic_coherence'],\n",
    "        z=plot_df['topic_diversity'],\n",
    "        mode='markers',\n",
    "        marker=dict(\n",
    "            size=8,\n",
    "            color=plot_df['docs_without_topic'],\n",
    "            colorscale='Viridis',\n",
    "            opacity=0.8\n",
    "        ),\n",
    "        text=[f\"Config {i}\" for i in range(len(plot_df))]\n",
    "    )])\n",
    "    \n",
    "    fig1.update_layout(\n",
    "        title='Topic Model Configurations in 3D Space',\n",
    "        scene=dict(\n",
    "            xaxis_title='Number of Topics',\n",
    "            yaxis_title='Topic Coherence',\n",
    "            zaxis_title='Topic Diversity'\n",
    "        )\n",
    "    )\n",
    "    \n",
    "    # Parallel coordinates plot\n",
    "    fig2 = px.parallel_coordinates(plot_df,\n",
    "        dimensions=['number_of_topics', 'topic_coherence', 'topic_diversity', \n",
    "                   'docs_without_topic', 'umap_min_dist', 'hdbscan_min_cluster_size'],\n",
    "        title='Parallel Coordinates Plot of Model Configurations'\n",
    "    )\n",
    "    \n",
    "    return fig1, fig2\n",
    "\n",
    "def find_best_models(results_df, n_best=5):\n",
    "    \"\"\"Find the best performing models based on multiple metrics.\"\"\"\n",
    "    # Create normalized scores for each metric\n",
    "    metrics = ['topic_coherence', 'topic_diversity', 'number_of_topics']\n",
    "    \n",
    "    # Remove non-numeric columns and normalize\n",
    "    scoring_df = results_df.copy()\n",
    "    for metric in metrics:\n",
    "        max_val = scoring_df[metric].max()\n",
    "        min_val = scoring_df[metric].min()\n",
    "        scoring_df[f'{metric}_normalized'] = (scoring_df[metric] - min_val) / (max_val - min_val)\n",
    "    \n",
    "    # Calculate composite score (you can adjust weights as needed)\n",
    "    scoring_df['composite_score'] = (\n",
    "        scoring_df['topic_coherence_normalized'] * 0.4 +\n",
    "        scoring_df['topic_diversity_normalized'] * 0.3 +\n",
    "        scoring_df['number_of_topics_normalized'] * 0.3\n",
    "    )\n",
    "    \n",
    "    # Penalize for documents without topics\n",
    "    scoring_df['composite_score'] = scoring_df['composite_score'] * (\n",
    "        1 - scoring_df['docs_without_topic'] / scoring_df['docs_without_topic'].max()\n",
    "    )\n",
    "    \n",
    "    # Get best models\n",
    "    best_models = scoring_df.nlargest(n_best, 'composite_score')\n",
    "    return best_models\n",
    "\n",
    "# Example usage:\n",
    "results_df = run_hyperparameter_tuning(df_news, max_combinations=216)\n",
    "fig1, fig2 = plot_results(results_df)\n",
    "fig1.show()\n",
    "fig2.show()\n",
    "best_models = find_best_models(results_df)\n",
    "print(\"Best performing models:\")\n",
    "print(best_models[['composite_score', 'number_of_topics', 'topic_coherence', 'topic_diversity', 'docs_without_topic']])"
   ],
   "id": "134515add23afe94",
   "outputs": [
    {
     "name": "stdout",
     "output_type": "stream",
     "text": [
      "combinations to test=  216\n"
     ]
    },
    {
     "name": "stderr",
     "output_type": "stream",
     "text": [
      "Evaluating model configurations:   0%|          | 0/216 [00:00<?, ?it/s]"
     ]
    },
    {
     "name": "stdout",
     "output_type": "stream",
     "text": [
      "iteration =  1\n"
     ]
    },
    {
     "name": "stderr",
     "output_type": "stream",
     "text": [
      "OMP: Info #276: omp_set_nested routine deprecated, please use omp_set_max_active_levels instead.\n"
     ]
    },
    {
     "name": "stdout",
     "output_type": "stream",
     "text": [
      "total number of topics =  49\n",
      "documents without a topic =  768\n"
     ]
    },
    {
     "name": "stderr",
     "output_type": "stream",
     "text": [
      "Evaluating model configurations:   0%|          | 1/216 [01:04<3:51:37, 64.64s/it]"
     ]
    },
    {
     "name": "stdout",
     "output_type": "stream",
     "text": [
      "iteration =  2\n",
      "total number of topics =  47\n",
      "documents without a topic =  747\n"
     ]
    },
    {
     "name": "stderr",
     "output_type": "stream",
     "text": [
      "Evaluating model configurations:   1%|          | 2/216 [02:18<4:09:57, 70.08s/it]"
     ]
    },
    {
     "name": "stdout",
     "output_type": "stream",
     "text": [
      "iteration =  3\n",
      "total number of topics =  44\n",
      "documents without a topic =  857\n"
     ]
    },
    {
     "name": "stderr",
     "output_type": "stream",
     "text": [
      "Evaluating model configurations:   1%|▏         | 3/216 [03:17<3:50:06, 64.82s/it]"
     ]
    },
    {
     "name": "stdout",
     "output_type": "stream",
     "text": [
      "iteration =  4\n",
      "total number of topics =  91\n",
      "documents without a topic =  763\n"
     ]
    },
    {
     "name": "stderr",
     "output_type": "stream",
     "text": [
      "Evaluating model configurations:   2%|▏         | 4/216 [04:37<4:10:52, 71.00s/it]"
     ]
    },
    {
     "name": "stdout",
     "output_type": "stream",
     "text": [
      "iteration =  5\n",
      "total number of topics =  27\n",
      "documents without a topic =  908\n"
     ]
    },
    {
     "name": "stderr",
     "output_type": "stream",
     "text": [
      "Evaluating model configurations:   2%|▏         | 5/216 [05:25<3:40:49, 62.80s/it]"
     ]
    },
    {
     "name": "stdout",
     "output_type": "stream",
     "text": [
      "iteration =  6\n",
      "total number of topics =  38\n",
      "documents without a topic =  876\n"
     ]
    },
    {
     "name": "stderr",
     "output_type": "stream",
     "text": [
      "Evaluating model configurations:   3%|▎         | 6/216 [06:32<3:44:28, 64.14s/it]"
     ]
    },
    {
     "name": "stdout",
     "output_type": "stream",
     "text": [
      "iteration =  7\n",
      "total number of topics =  16\n",
      "documents without a topic =  928\n"
     ]
    },
    {
     "name": "stderr",
     "output_type": "stream",
     "text": [
      "Evaluating model configurations:   3%|▎         | 7/216 [07:17<3:21:11, 57.76s/it]"
     ]
    },
    {
     "name": "stdout",
     "output_type": "stream",
     "text": [
      "iteration =  8\n",
      "total number of topics =  20\n",
      "documents without a topic =  886\n"
     ]
    },
    {
     "name": "stderr",
     "output_type": "stream",
     "text": [
      "Evaluating model configurations:   4%|▎         | 8/216 [08:18<3:23:39, 58.75s/it]"
     ]
    },
    {
     "name": "stdout",
     "output_type": "stream",
     "text": [
      "iteration =  9\n",
      "total number of topics =  60\n",
      "documents without a topic =  768\n"
     ]
    },
    {
     "name": "stderr",
     "output_type": "stream",
     "text": [
      "Evaluating model configurations:   4%|▍         | 9/216 [09:15<3:21:17, 58.35s/it]"
     ]
    },
    {
     "name": "stdout",
     "output_type": "stream",
     "text": [
      "iteration =  10\n",
      "total number of topics =  23\n",
      "documents without a topic =  695\n"
     ]
    },
    {
     "name": "stderr",
     "output_type": "stream",
     "text": [
      "Evaluating model configurations:   5%|▍         | 10/216 [10:17<3:24:11, 59.48s/it]"
     ]
    },
    {
     "name": "stdout",
     "output_type": "stream",
     "text": [
      "iteration =  11\n",
      "total number of topics =  43\n",
      "documents without a topic =  1014\n"
     ]
    },
    {
     "name": "stderr",
     "output_type": "stream",
     "text": [
      "Evaluating model configurations:   5%|▌         | 11/216 [11:10<3:16:35, 57.54s/it]"
     ]
    },
    {
     "name": "stdout",
     "output_type": "stream",
     "text": [
      "iteration =  12\n",
      "total number of topics =  37\n",
      "documents without a topic =  796\n"
     ]
    },
    {
     "name": "stderr",
     "output_type": "stream",
     "text": [
      "Evaluating model configurations:   6%|▌         | 12/216 [12:16<3:24:04, 60.02s/it]"
     ]
    },
    {
     "name": "stdout",
     "output_type": "stream",
     "text": [
      "iteration =  13\n",
      "total number of topics =  36\n",
      "documents without a topic =  847\n"
     ]
    },
    {
     "name": "stderr",
     "output_type": "stream",
     "text": [
      "Evaluating model configurations:   6%|▌         | 13/216 [13:06<3:12:49, 56.99s/it]"
     ]
    },
    {
     "name": "stdout",
     "output_type": "stream",
     "text": [
      "iteration =  14\n",
      "total number of topics =  29\n",
      "documents without a topic =  831\n"
     ]
    },
    {
     "name": "stderr",
     "output_type": "stream",
     "text": [
      "Evaluating model configurations:   6%|▋         | 14/216 [14:08<3:16:56, 58.50s/it]"
     ]
    },
    {
     "name": "stdout",
     "output_type": "stream",
     "text": [
      "iteration =  15\n",
      "total number of topics =  25\n",
      "documents without a topic =  616\n"
     ]
    },
    {
     "name": "stderr",
     "output_type": "stream",
     "text": [
      "Evaluating model configurations:   7%|▋         | 15/216 [14:54<3:03:00, 54.63s/it]"
     ]
    },
    {
     "name": "stdout",
     "output_type": "stream",
     "text": [
      "iteration =  16\n",
      "total number of topics =  33\n",
      "documents without a topic =  664\n"
     ]
    },
    {
     "name": "stderr",
     "output_type": "stream",
     "text": [
      "Evaluating model configurations:   7%|▋         | 16/216 [15:56<3:10:00, 57.00s/it]"
     ]
    },
    {
     "name": "stdout",
     "output_type": "stream",
     "text": [
      "iteration =  17\n",
      "total number of topics =  28\n",
      "documents without a topic =  886\n"
     ]
    },
    {
     "name": "stderr",
     "output_type": "stream",
     "text": [
      "Evaluating model configurations:   8%|▊         | 17/216 [16:42<2:57:37, 53.56s/it]"
     ]
    },
    {
     "name": "stdout",
     "output_type": "stream",
     "text": [
      "iteration =  18\n",
      "total number of topics =  24\n",
      "documents without a topic =  713\n"
     ]
    },
    {
     "name": "stderr",
     "output_type": "stream",
     "text": [
      "Evaluating model configurations:   8%|▊         | 18/216 [17:40<3:02:03, 55.17s/it]"
     ]
    },
    {
     "name": "stdout",
     "output_type": "stream",
     "text": [
      "iteration =  19\n",
      "total number of topics =  28\n",
      "documents without a topic =  1022\n"
     ]
    },
    {
     "name": "stderr",
     "output_type": "stream",
     "text": [
      "Evaluating model configurations:   9%|▉         | 19/216 [18:25<2:50:43, 52.00s/it]"
     ]
    },
    {
     "name": "stdout",
     "output_type": "stream",
     "text": [
      "iteration =  20\n",
      "total number of topics =  32\n",
      "documents without a topic =  1050\n"
     ]
    },
    {
     "name": "stderr",
     "output_type": "stream",
     "text": [
      "Evaluating model configurations:   9%|▉         | 20/216 [19:27<2:59:16, 54.88s/it]"
     ]
    },
    {
     "name": "stdout",
     "output_type": "stream",
     "text": [
      "iteration =  21\n",
      "total number of topics =  20\n",
      "documents without a topic =  713\n"
     ]
    },
    {
     "name": "stderr",
     "output_type": "stream",
     "text": [
      "Evaluating model configurations:  10%|▉         | 21/216 [20:10<2:46:37, 51.27s/it]"
     ]
    },
    {
     "name": "stdout",
     "output_type": "stream",
     "text": [
      "iteration =  22\n",
      "total number of topics =  25\n",
      "documents without a topic =  786\n"
     ]
    },
    {
     "name": "stderr",
     "output_type": "stream",
     "text": [
      "Evaluating model configurations:  10%|█         | 22/216 [21:08<2:52:40, 53.40s/it]"
     ]
    },
    {
     "name": "stdout",
     "output_type": "stream",
     "text": [
      "iteration =  23\n",
      "total number of topics =  16\n",
      "documents without a topic =  799\n"
     ]
    },
    {
     "name": "stderr",
     "output_type": "stream",
     "text": [
      "Evaluating model configurations:  11%|█         | 23/216 [21:49<2:39:25, 49.56s/it]"
     ]
    },
    {
     "name": "stdout",
     "output_type": "stream",
     "text": [
      "iteration =  24\n",
      "total number of topics =  39\n",
      "documents without a topic =  747\n"
     ]
    },
    {
     "name": "stderr",
     "output_type": "stream",
     "text": [
      "Evaluating model configurations:  11%|█         | 24/216 [22:50<2:50:22, 53.24s/it]"
     ]
    },
    {
     "name": "stdout",
     "output_type": "stream",
     "text": [
      "iteration =  25\n",
      "total number of topics =  116\n",
      "documents without a topic =  803\n"
     ]
    },
    {
     "name": "stderr",
     "output_type": "stream",
     "text": [
      "Evaluating model configurations:  12%|█▏        | 25/216 [23:58<3:03:16, 57.57s/it]"
     ]
    },
    {
     "name": "stdout",
     "output_type": "stream",
     "text": [
      "iteration =  26\n",
      "total number of topics =  59\n",
      "documents without a topic =  861\n"
     ]
    },
    {
     "name": "stderr",
     "output_type": "stream",
     "text": [
      "Evaluating model configurations:  12%|█▏        | 26/216 [25:08<3:14:21, 61.38s/it]"
     ]
    },
    {
     "name": "stdout",
     "output_type": "stream",
     "text": [
      "iteration =  27\n",
      "total number of topics =  36\n",
      "documents without a topic =  793\n"
     ]
    },
    {
     "name": "stderr",
     "output_type": "stream",
     "text": [
      "Evaluating model configurations:  12%|█▎        | 27/216 [26:01<3:05:18, 58.83s/it]"
     ]
    },
    {
     "name": "stdout",
     "output_type": "stream",
     "text": [
      "iteration =  28\n",
      "total number of topics =  36\n",
      "documents without a topic =  765\n"
     ]
    },
    {
     "name": "stderr",
     "output_type": "stream",
     "text": [
      "Evaluating model configurations:  13%|█▎        | 28/216 [27:07<3:11:19, 61.06s/it]"
     ]
    },
    {
     "name": "stdout",
     "output_type": "stream",
     "text": [
      "iteration =  29\n",
      "total number of topics =  25\n",
      "documents without a topic =  1011\n"
     ]
    },
    {
     "name": "stderr",
     "output_type": "stream",
     "text": [
      "Evaluating model configurations:  13%|█▎        | 29/216 [27:53<2:55:48, 56.41s/it]"
     ]
    },
    {
     "name": "stdout",
     "output_type": "stream",
     "text": [
      "iteration =  30\n",
      "total number of topics =  43\n",
      "documents without a topic =  827\n"
     ]
    },
    {
     "name": "stderr",
     "output_type": "stream",
     "text": [
      "Evaluating model configurations:  14%|█▍        | 30/216 [28:57<3:01:37, 58.59s/it]"
     ]
    },
    {
     "name": "stdout",
     "output_type": "stream",
     "text": [
      "iteration =  31\n",
      "total number of topics =  11\n",
      "documents without a topic =  911\n"
     ]
    },
    {
     "name": "stderr",
     "output_type": "stream",
     "text": [
      "Evaluating model configurations:  14%|█▍        | 31/216 [29:37<2:44:01, 53.20s/it]"
     ]
    },
    {
     "name": "stdout",
     "output_type": "stream",
     "text": [
      "iteration =  32\n",
      "total number of topics =  33\n",
      "documents without a topic =  895\n"
     ]
    },
    {
     "name": "stderr",
     "output_type": "stream",
     "text": [
      "Evaluating model configurations:  15%|█▍        | 32/216 [30:39<2:50:41, 55.66s/it]"
     ]
    },
    {
     "name": "stdout",
     "output_type": "stream",
     "text": [
      "iteration =  33\n",
      "total number of topics =  58\n",
      "documents without a topic =  832\n"
     ]
    },
    {
     "name": "stderr",
     "output_type": "stream",
     "text": [
      "Evaluating model configurations:  15%|█▌        | 33/216 [31:36<2:50:49, 56.01s/it]"
     ]
    },
    {
     "name": "stdout",
     "output_type": "stream",
     "text": [
      "iteration =  34\n",
      "total number of topics =  25\n",
      "documents without a topic =  859\n"
     ]
    },
    {
     "name": "stderr",
     "output_type": "stream",
     "text": [
      "Evaluating model configurations:  16%|█▌        | 34/216 [32:38<2:55:23, 57.82s/it]"
     ]
    },
    {
     "name": "stdout",
     "output_type": "stream",
     "text": [
      "iteration =  35\n",
      "total number of topics =  53\n",
      "documents without a topic =  931\n"
     ]
    },
    {
     "name": "stderr",
     "output_type": "stream",
     "text": [
      "Evaluating model configurations:  16%|█▌        | 35/216 [33:33<2:52:40, 57.24s/it]"
     ]
    },
    {
     "name": "stdout",
     "output_type": "stream",
     "text": [
      "iteration =  36\n",
      "total number of topics =  44\n",
      "documents without a topic =  890\n"
     ]
    },
    {
     "name": "stderr",
     "output_type": "stream",
     "text": [
      "Evaluating model configurations:  17%|█▋        | 36/216 [34:38<2:58:33, 59.52s/it]"
     ]
    },
    {
     "name": "stdout",
     "output_type": "stream",
     "text": [
      "iteration =  37\n",
      "total number of topics =  28\n",
      "documents without a topic =  877\n"
     ]
    },
    {
     "name": "stderr",
     "output_type": "stream",
     "text": [
      "Evaluating model configurations:  17%|█▋        | 37/216 [35:22<2:43:46, 54.90s/it]"
     ]
    },
    {
     "name": "stdout",
     "output_type": "stream",
     "text": [
      "iteration =  38\n",
      "total number of topics =  19\n",
      "documents without a topic =  1104\n"
     ]
    },
    {
     "name": "stderr",
     "output_type": "stream",
     "text": [
      "Evaluating model configurations:  18%|█▊        | 38/216 [36:19<2:44:45, 55.54s/it]"
     ]
    },
    {
     "name": "stdout",
     "output_type": "stream",
     "text": [
      "iteration =  39\n",
      "total number of topics =  10\n",
      "documents without a topic =  628\n"
     ]
    },
    {
     "name": "stderr",
     "output_type": "stream",
     "text": [
      "Evaluating model configurations:  18%|█▊        | 39/216 [37:00<2:30:22, 50.97s/it]"
     ]
    },
    {
     "name": "stdout",
     "output_type": "stream",
     "text": [
      "iteration =  40\n",
      "total number of topics =  24\n",
      "documents without a topic =  690\n"
     ]
    },
    {
     "name": "stderr",
     "output_type": "stream",
     "text": [
      "Evaluating model configurations:  19%|█▊        | 40/216 [37:58<2:35:57, 53.16s/it]"
     ]
    },
    {
     "name": "stdout",
     "output_type": "stream",
     "text": [
      "iteration =  41\n",
      "total number of topics =  13\n",
      "documents without a topic =  826\n"
     ]
    },
    {
     "name": "stderr",
     "output_type": "stream",
     "text": [
      "Evaluating model configurations:  19%|█▉        | 41/216 [38:39<2:24:30, 49.54s/it]"
     ]
    },
    {
     "name": "stdout",
     "output_type": "stream",
     "text": [
      "iteration =  42\n",
      "total number of topics =  12\n",
      "documents without a topic =  809\n"
     ]
    },
    {
     "name": "stderr",
     "output_type": "stream",
     "text": [
      "Evaluating model configurations:  19%|█▉        | 42/216 [39:34<2:28:11, 51.10s/it]"
     ]
    },
    {
     "name": "stdout",
     "output_type": "stream",
     "text": [
      "iteration =  43\n",
      "total number of topics =  36\n",
      "documents without a topic =  940\n"
     ]
    },
    {
     "name": "stderr",
     "output_type": "stream",
     "text": [
      "Evaluating model configurations:  20%|█▉        | 43/216 [40:22<2:24:39, 50.17s/it]"
     ]
    },
    {
     "name": "stdout",
     "output_type": "stream",
     "text": [
      "iteration =  44\n",
      "total number of topics =  33\n",
      "documents without a topic =  928\n"
     ]
    },
    {
     "name": "stderr",
     "output_type": "stream",
     "text": [
      "Evaluating model configurations:  20%|██        | 44/216 [41:22<2:32:45, 53.29s/it]"
     ]
    },
    {
     "name": "stdout",
     "output_type": "stream",
     "text": [
      "iteration =  45\n",
      "total number of topics =  18\n",
      "documents without a topic =  816\n"
     ]
    },
    {
     "name": "stderr",
     "output_type": "stream",
     "text": [
      "Evaluating model configurations:  21%|██        | 45/216 [42:05<2:22:39, 50.06s/it]"
     ]
    },
    {
     "name": "stdout",
     "output_type": "stream",
     "text": [
      "iteration =  46\n",
      "total number of topics =  29\n",
      "documents without a topic =  625\n"
     ]
    },
    {
     "name": "stderr",
     "output_type": "stream",
     "text": [
      "Evaluating model configurations:  21%|██▏       | 46/216 [43:05<2:30:41, 53.18s/it]"
     ]
    },
    {
     "name": "stdout",
     "output_type": "stream",
     "text": [
      "iteration =  47\n",
      "total number of topics =  20\n",
      "documents without a topic =  879\n"
     ]
    },
    {
     "name": "stderr",
     "output_type": "stream",
     "text": [
      "Evaluating model configurations:  22%|██▏       | 47/216 [43:47<2:20:05, 49.74s/it]"
     ]
    },
    {
     "name": "stdout",
     "output_type": "stream",
     "text": [
      "iteration =  48\n",
      "total number of topics =  20\n",
      "documents without a topic =  812\n"
     ]
    },
    {
     "name": "stderr",
     "output_type": "stream",
     "text": [
      "Evaluating model configurations:  22%|██▏       | 48/216 [44:45<2:25:50, 52.08s/it]"
     ]
    },
    {
     "name": "stdout",
     "output_type": "stream",
     "text": [
      "iteration =  49\n",
      "total number of topics =  37\n",
      "documents without a topic =  912\n"
     ]
    },
    {
     "name": "stderr",
     "output_type": "stream",
     "text": [
      "Evaluating model configurations:  23%|██▎       | 49/216 [45:40<2:27:18, 52.93s/it]"
     ]
    },
    {
     "name": "stdout",
     "output_type": "stream",
     "text": [
      "iteration =  50\n",
      "total number of topics =  97\n",
      "documents without a topic =  898\n"
     ]
    },
    {
     "name": "stderr",
     "output_type": "stream",
     "text": [
      "Evaluating model configurations:  23%|██▎       | 50/216 [46:56<2:46:18, 60.11s/it]"
     ]
    },
    {
     "name": "stdout",
     "output_type": "stream",
     "text": [
      "iteration =  51\n",
      "total number of topics =  35\n",
      "documents without a topic =  932\n"
     ]
    },
    {
     "name": "stderr",
     "output_type": "stream",
     "text": [
      "Evaluating model configurations:  24%|██▎       | 51/216 [47:49<2:39:12, 57.89s/it]"
     ]
    },
    {
     "name": "stdout",
     "output_type": "stream",
     "text": [
      "iteration =  52\n",
      "total number of topics =  90\n",
      "documents without a topic =  852\n"
     ]
    },
    {
     "name": "stderr",
     "output_type": "stream",
     "text": [
      "Evaluating model configurations:  24%|██▍       | 52/216 [49:05<2:53:12, 63.37s/it]"
     ]
    },
    {
     "name": "stdout",
     "output_type": "stream",
     "text": [
      "iteration =  53\n",
      "total number of topics =  50\n",
      "documents without a topic =  907\n"
     ]
    },
    {
     "name": "stderr",
     "output_type": "stream",
     "text": [
      "Evaluating model configurations:  25%|██▍       | 53/216 [49:58<2:43:24, 60.15s/it]"
     ]
    },
    {
     "name": "stdout",
     "output_type": "stream",
     "text": [
      "iteration =  54\n",
      "total number of topics =  33\n",
      "documents without a topic =  869\n"
     ]
    },
    {
     "name": "stderr",
     "output_type": "stream",
     "text": [
      "Evaluating model configurations:  25%|██▌       | 54/216 [50:58<2:42:36, 60.23s/it]"
     ]
    },
    {
     "name": "stdout",
     "output_type": "stream",
     "text": [
      "iteration =  55\n",
      "total number of topics =  31\n",
      "documents without a topic =  888\n"
     ]
    },
    {
     "name": "stderr",
     "output_type": "stream",
     "text": [
      "Evaluating model configurations:  25%|██▌       | 55/216 [51:44<2:29:57, 55.88s/it]"
     ]
    },
    {
     "name": "stdout",
     "output_type": "stream",
     "text": [
      "iteration =  56\n",
      "total number of topics =  13\n",
      "documents without a topic =  849\n"
     ]
    },
    {
     "name": "stderr",
     "output_type": "stream",
     "text": [
      "Evaluating model configurations:  26%|██▌       | 56/216 [52:40<2:29:22, 56.01s/it]"
     ]
    },
    {
     "name": "stdout",
     "output_type": "stream",
     "text": [
      "iteration =  57\n",
      "total number of topics =  14\n",
      "documents without a topic =  800\n"
     ]
    },
    {
     "name": "stderr",
     "output_type": "stream",
     "text": [
      "Evaluating model configurations:  26%|██▋       | 57/216 [53:23<2:17:24, 51.85s/it]"
     ]
    },
    {
     "name": "stdout",
     "output_type": "stream",
     "text": [
      "iteration =  58\n",
      "total number of topics =  21\n",
      "documents without a topic =  766\n"
     ]
    },
    {
     "name": "stderr",
     "output_type": "stream",
     "text": [
      "Evaluating model configurations:  27%|██▋       | 58/216 [54:22<2:22:55, 54.27s/it]"
     ]
    },
    {
     "name": "stdout",
     "output_type": "stream",
     "text": [
      "iteration =  59\n",
      "total number of topics =  45\n",
      "documents without a topic =  1029\n"
     ]
    },
    {
     "name": "stderr",
     "output_type": "stream",
     "text": [
      "Evaluating model configurations:  27%|██▋       | 59/216 [55:16<2:21:04, 53.91s/it]"
     ]
    },
    {
     "name": "stdout",
     "output_type": "stream",
     "text": [
      "iteration =  60\n",
      "total number of topics =  46\n",
      "documents without a topic =  965\n"
     ]
    },
    {
     "name": "stderr",
     "output_type": "stream",
     "text": [
      "Evaluating model configurations:  28%|██▊       | 60/216 [56:21<2:29:28, 57.49s/it]"
     ]
    },
    {
     "name": "stdout",
     "output_type": "stream",
     "text": [
      "iteration =  61\n",
      "total number of topics =  32\n",
      "documents without a topic =  834\n"
     ]
    },
    {
     "name": "stderr",
     "output_type": "stream",
     "text": [
      "Evaluating model configurations:  28%|██▊       | 61/216 [57:07<2:19:28, 53.99s/it]"
     ]
    },
    {
     "name": "stdout",
     "output_type": "stream",
     "text": [
      "iteration =  62\n",
      "total number of topics =  8\n",
      "documents without a topic =  1065\n"
     ]
    },
    {
     "name": "stderr",
     "output_type": "stream",
     "text": [
      "Evaluating model configurations:  29%|██▊       | 62/216 [58:01<2:18:41, 54.04s/it]"
     ]
    },
    {
     "name": "stdout",
     "output_type": "stream",
     "text": [
      "iteration =  63\n",
      "total number of topics =  29\n",
      "documents without a topic =  700\n"
     ]
    },
    {
     "name": "stderr",
     "output_type": "stream",
     "text": [
      "Evaluating model configurations:  29%|██▉       | 63/216 [58:47<2:11:33, 51.59s/it]"
     ]
    },
    {
     "name": "stdout",
     "output_type": "stream",
     "text": [
      "iteration =  64\n",
      "total number of topics =  21\n",
      "documents without a topic =  762\n"
     ]
    },
    {
     "name": "stderr",
     "output_type": "stream",
     "text": [
      "Evaluating model configurations:  30%|██▉       | 64/216 [59:46<2:16:15, 53.79s/it]"
     ]
    },
    {
     "name": "stdout",
     "output_type": "stream",
     "text": [
      "iteration =  65\n",
      "total number of topics =  22\n",
      "documents without a topic =  734\n"
     ]
    },
    {
     "name": "stderr",
     "output_type": "stream",
     "text": [
      "Evaluating model configurations:  30%|███       | 65/216 [1:00:30<2:07:41, 50.74s/it]"
     ]
    },
    {
     "name": "stdout",
     "output_type": "stream",
     "text": [
      "iteration =  66\n",
      "total number of topics =  36\n",
      "documents without a topic =  702\n"
     ]
    },
    {
     "name": "stderr",
     "output_type": "stream",
     "text": [
      "Evaluating model configurations:  31%|███       | 66/216 [1:01:32<2:15:10, 54.07s/it]"
     ]
    },
    {
     "name": "stdout",
     "output_type": "stream",
     "text": [
      "iteration =  67\n",
      "total number of topics =  24\n",
      "documents without a topic =  780\n"
     ]
    },
    {
     "name": "stderr",
     "output_type": "stream",
     "text": [
      "Evaluating model configurations:  31%|███       | 67/216 [1:02:14<2:05:40, 50.61s/it]"
     ]
    },
    {
     "name": "stdout",
     "output_type": "stream",
     "text": [
      "iteration =  68\n",
      "total number of topics =  28\n",
      "documents without a topic =  1028\n"
     ]
    },
    {
     "name": "stderr",
     "output_type": "stream",
     "text": [
      "Evaluating model configurations:  31%|███▏      | 68/216 [1:03:13<2:10:35, 52.95s/it]"
     ]
    },
    {
     "name": "stdout",
     "output_type": "stream",
     "text": [
      "iteration =  69\n",
      "total number of topics =  21\n",
      "documents without a topic =  736\n"
     ]
    },
    {
     "name": "stderr",
     "output_type": "stream",
     "text": [
      "Evaluating model configurations:  32%|███▏      | 69/216 [1:03:56<2:02:56, 50.18s/it]"
     ]
    },
    {
     "name": "stdout",
     "output_type": "stream",
     "text": [
      "iteration =  70\n",
      "total number of topics =  18\n",
      "documents without a topic =  620\n"
     ]
    },
    {
     "name": "stderr",
     "output_type": "stream",
     "text": [
      "Evaluating model configurations:  32%|███▏      | 70/216 [1:04:54<2:07:23, 52.35s/it]"
     ]
    },
    {
     "name": "stdout",
     "output_type": "stream",
     "text": [
      "iteration =  71\n",
      "total number of topics =  23\n",
      "documents without a topic =  903\n"
     ]
    },
    {
     "name": "stderr",
     "output_type": "stream",
     "text": [
      "Evaluating model configurations:  33%|███▎      | 71/216 [1:05:37<1:59:43, 49.54s/it]"
     ]
    },
    {
     "name": "stdout",
     "output_type": "stream",
     "text": [
      "iteration =  72\n",
      "total number of topics =  20\n",
      "documents without a topic =  854\n"
     ]
    },
    {
     "name": "stderr",
     "output_type": "stream",
     "text": [
      "Evaluating model configurations:  33%|███▎      | 72/216 [1:06:34<2:04:14, 51.77s/it]"
     ]
    },
    {
     "name": "stdout",
     "output_type": "stream",
     "text": [
      "iteration =  73\n",
      "total number of topics =  56\n",
      "documents without a topic =  782\n"
     ]
    },
    {
     "name": "stderr",
     "output_type": "stream",
     "text": [
      "Evaluating model configurations:  34%|███▍      | 73/216 [1:07:33<2:08:27, 53.90s/it]"
     ]
    },
    {
     "name": "stdout",
     "output_type": "stream",
     "text": [
      "iteration =  74\n",
      "total number of topics =  87\n",
      "documents without a topic =  704\n"
     ]
    },
    {
     "name": "stderr",
     "output_type": "stream",
     "text": [
      "Evaluating model configurations:  34%|███▍      | 74/216 [1:08:47<2:22:23, 60.17s/it]"
     ]
    },
    {
     "name": "stdout",
     "output_type": "stream",
     "text": [
      "iteration =  75\n",
      "total number of topics =  88\n",
      "documents without a topic =  750\n"
     ]
    },
    {
     "name": "stderr",
     "output_type": "stream",
     "text": [
      "Evaluating model configurations:  35%|███▍      | 75/216 [1:09:54<2:25:46, 62.03s/it]"
     ]
    },
    {
     "name": "stdout",
     "output_type": "stream",
     "text": [
      "iteration =  76\n",
      "total number of topics =  83\n",
      "documents without a topic =  773\n"
     ]
    },
    {
     "name": "stderr",
     "output_type": "stream",
     "text": [
      "Evaluating model configurations:  35%|███▌      | 76/216 [1:11:08<2:33:25, 65.75s/it]"
     ]
    },
    {
     "name": "stdout",
     "output_type": "stream",
     "text": [
      "iteration =  77\n",
      "total number of topics =  68\n",
      "documents without a topic =  1051\n"
     ]
    },
    {
     "name": "stderr",
     "output_type": "stream",
     "text": [
      "Evaluating model configurations:  36%|███▌      | 77/216 [1:12:06<2:27:05, 63.49s/it]"
     ]
    },
    {
     "name": "stdout",
     "output_type": "stream",
     "text": [
      "iteration =  78\n",
      "total number of topics =  10\n",
      "documents without a topic =  794\n"
     ]
    },
    {
     "name": "stderr",
     "output_type": "stream",
     "text": [
      "Evaluating model configurations:  36%|███▌      | 78/216 [1:13:02<2:20:31, 61.10s/it]"
     ]
    },
    {
     "name": "stdout",
     "output_type": "stream",
     "text": [
      "iteration =  79\n",
      "total number of topics =  35\n",
      "documents without a topic =  998\n"
     ]
    },
    {
     "name": "stderr",
     "output_type": "stream",
     "text": [
      "Evaluating model configurations:  37%|███▋      | 79/216 [1:13:49<2:10:15, 57.04s/it]"
     ]
    },
    {
     "name": "stdout",
     "output_type": "stream",
     "text": [
      "iteration =  80\n",
      "total number of topics =  14\n",
      "documents without a topic =  907\n"
     ]
    },
    {
     "name": "stderr",
     "output_type": "stream",
     "text": [
      "Evaluating model configurations:  37%|███▋      | 80/216 [1:14:47<2:09:20, 57.06s/it]"
     ]
    },
    {
     "name": "stdout",
     "output_type": "stream",
     "text": [
      "iteration =  81\n",
      "total number of topics =  61\n",
      "documents without a topic =  733\n"
     ]
    },
    {
     "name": "stderr",
     "output_type": "stream",
     "text": [
      "Evaluating model configurations:  38%|███▊      | 81/216 [1:15:44<2:08:23, 57.06s/it]"
     ]
    },
    {
     "name": "stdout",
     "output_type": "stream",
     "text": [
      "iteration =  82\n",
      "total number of topics =  25\n",
      "documents without a topic =  771\n"
     ]
    },
    {
     "name": "stderr",
     "output_type": "stream",
     "text": [
      "Evaluating model configurations:  38%|███▊      | 82/216 [1:16:45<2:10:11, 58.29s/it]"
     ]
    },
    {
     "name": "stdout",
     "output_type": "stream",
     "text": [
      "iteration =  83\n",
      "total number of topics =  48\n",
      "documents without a topic =  879\n"
     ]
    },
    {
     "name": "stderr",
     "output_type": "stream",
     "text": [
      "Evaluating model configurations:  38%|███▊      | 83/216 [1:17:38<2:05:54, 56.80s/it]"
     ]
    },
    {
     "name": "stdout",
     "output_type": "stream",
     "text": [
      "iteration =  84\n",
      "total number of topics =  34\n",
      "documents without a topic =  923\n"
     ]
    },
    {
     "name": "stderr",
     "output_type": "stream",
     "text": [
      "Evaluating model configurations:  39%|███▉      | 84/216 [1:18:41<2:09:18, 58.78s/it]"
     ]
    },
    {
     "name": "stdout",
     "output_type": "stream",
     "text": [
      "iteration =  85\n",
      "total number of topics =  20\n",
      "documents without a topic =  1061\n"
     ]
    },
    {
     "name": "stderr",
     "output_type": "stream",
     "text": [
      "Evaluating model configurations:  39%|███▉      | 85/216 [1:19:24<1:57:29, 53.81s/it]"
     ]
    },
    {
     "name": "stdout",
     "output_type": "stream",
     "text": [
      "iteration =  86\n",
      "total number of topics =  12\n",
      "documents without a topic =  905\n"
     ]
    },
    {
     "name": "stderr",
     "output_type": "stream",
     "text": [
      "Evaluating model configurations:  40%|███▉      | 86/216 [1:20:19<1:57:35, 54.28s/it]"
     ]
    },
    {
     "name": "stdout",
     "output_type": "stream",
     "text": [
      "iteration =  87\n",
      "total number of topics =  25\n",
      "documents without a topic =  842\n"
     ]
    },
    {
     "name": "stderr",
     "output_type": "stream",
     "text": [
      "Evaluating model configurations:  40%|████      | 87/216 [1:21:03<1:50:17, 51.30s/it]"
     ]
    },
    {
     "name": "stdout",
     "output_type": "stream",
     "text": [
      "iteration =  88\n",
      "total number of topics =  48\n",
      "documents without a topic =  812\n"
     ]
    },
    {
     "name": "stderr",
     "output_type": "stream",
     "text": [
      "Evaluating model configurations:  41%|████      | 88/216 [1:22:08<1:58:14, 55.42s/it]"
     ]
    },
    {
     "name": "stdout",
     "output_type": "stream",
     "text": [
      "iteration =  89\n",
      "total number of topics =  24\n",
      "documents without a topic =  1021\n"
     ]
    },
    {
     "name": "stderr",
     "output_type": "stream",
     "text": [
      "Evaluating model configurations:  41%|████      | 89/216 [1:22:53<1:50:19, 52.12s/it]"
     ]
    },
    {
     "name": "stdout",
     "output_type": "stream",
     "text": [
      "iteration =  90\n",
      "total number of topics =  25\n",
      "documents without a topic =  937\n"
     ]
    },
    {
     "name": "stderr",
     "output_type": "stream",
     "text": [
      "Evaluating model configurations:  42%|████▏     | 90/216 [1:23:53<1:54:35, 54.57s/it]"
     ]
    },
    {
     "name": "stdout",
     "output_type": "stream",
     "text": [
      "iteration =  91\n",
      "total number of topics =  25\n",
      "documents without a topic =  1209\n"
     ]
    },
    {
     "name": "stderr",
     "output_type": "stream",
     "text": [
      "Evaluating model configurations:  42%|████▏     | 91/216 [1:24:37<1:46:40, 51.20s/it]"
     ]
    },
    {
     "name": "stdout",
     "output_type": "stream",
     "text": [
      "iteration =  92\n",
      "total number of topics =  27\n",
      "documents without a topic =  1030\n"
     ]
    },
    {
     "name": "stderr",
     "output_type": "stream",
     "text": [
      "Evaluating model configurations:  43%|████▎     | 92/216 [1:25:37<1:51:28, 53.94s/it]"
     ]
    },
    {
     "name": "stdout",
     "output_type": "stream",
     "text": [
      "iteration =  93\n",
      "total number of topics =  25\n",
      "documents without a topic =  896\n"
     ]
    },
    {
     "name": "stderr",
     "output_type": "stream",
     "text": [
      "Evaluating model configurations:  43%|████▎     | 93/216 [1:26:21<1:44:42, 51.08s/it]"
     ]
    },
    {
     "name": "stdout",
     "output_type": "stream",
     "text": [
      "iteration =  94\n",
      "total number of topics =  16\n",
      "documents without a topic =  766\n"
     ]
    },
    {
     "name": "stderr",
     "output_type": "stream",
     "text": [
      "Evaluating model configurations:  44%|████▎     | 94/216 [1:27:19<1:48:05, 53.16s/it]"
     ]
    },
    {
     "name": "stdout",
     "output_type": "stream",
     "text": [
      "iteration =  95\n",
      "total number of topics =  28\n",
      "documents without a topic =  922\n"
     ]
    },
    {
     "name": "stderr",
     "output_type": "stream",
     "text": [
      "Evaluating model configurations:  44%|████▍     | 95/216 [1:28:04<1:42:20, 50.75s/it]"
     ]
    },
    {
     "name": "stdout",
     "output_type": "stream",
     "text": [
      "iteration =  96\n",
      "total number of topics =  20\n",
      "documents without a topic =  1044\n"
     ]
    },
    {
     "name": "stderr",
     "output_type": "stream",
     "text": [
      "Evaluating model configurations:  44%|████▍     | 96/216 [1:29:03<1:46:13, 53.11s/it]"
     ]
    },
    {
     "name": "stdout",
     "output_type": "stream",
     "text": [
      "iteration =  97\n",
      "total number of topics =  63\n",
      "documents without a topic =  860\n"
     ]
    },
    {
     "name": "stderr",
     "output_type": "stream",
     "text": [
      "Evaluating model configurations:  45%|████▍     | 97/216 [1:30:03<1:49:42, 55.31s/it]"
     ]
    },
    {
     "name": "stdout",
     "output_type": "stream",
     "text": [
      "iteration =  98\n",
      "total number of topics =  95\n",
      "documents without a topic =  876\n"
     ]
    },
    {
     "name": "stderr",
     "output_type": "stream",
     "text": [
      "Evaluating model configurations:  45%|████▌     | 98/216 [1:31:20<2:01:05, 61.57s/it]"
     ]
    },
    {
     "name": "stdout",
     "output_type": "stream",
     "text": [
      "iteration =  99\n",
      "total number of topics =  93\n",
      "documents without a topic =  897\n"
     ]
    },
    {
     "name": "stderr",
     "output_type": "stream",
     "text": [
      "Evaluating model configurations:  46%|████▌     | 99/216 [1:32:27<2:03:26, 63.31s/it]"
     ]
    },
    {
     "name": "stdout",
     "output_type": "stream",
     "text": [
      "iteration =  100\n",
      "total number of topics =  42\n",
      "documents without a topic =  929\n"
     ]
    },
    {
     "name": "stderr",
     "output_type": "stream",
     "text": [
      "Evaluating model configurations:  46%|████▋     | 100/216 [1:33:35<2:04:50, 64.57s/it]"
     ]
    },
    {
     "name": "stdout",
     "output_type": "stream",
     "text": [
      "iteration =  101\n",
      "total number of topics =  48\n",
      "documents without a topic =  1081\n"
     ]
    },
    {
     "name": "stderr",
     "output_type": "stream",
     "text": [
      "Evaluating model configurations:  47%|████▋     | 101/216 [1:34:28<1:57:20, 61.23s/it]"
     ]
    },
    {
     "name": "stdout",
     "output_type": "stream",
     "text": [
      "iteration =  102\n",
      "total number of topics =  56\n",
      "documents without a topic =  993\n"
     ]
    },
    {
     "name": "stderr",
     "output_type": "stream",
     "text": [
      "Evaluating model configurations:  47%|████▋     | 102/216 [1:35:34<1:59:19, 62.80s/it]"
     ]
    },
    {
     "name": "stdout",
     "output_type": "stream",
     "text": [
      "iteration =  103\n",
      "total number of topics =  16\n",
      "documents without a topic =  973\n"
     ]
    },
    {
     "name": "stderr",
     "output_type": "stream",
     "text": [
      "Evaluating model configurations:  48%|████▊     | 103/216 [1:36:16<1:46:25, 56.51s/it]"
     ]
    },
    {
     "name": "stdout",
     "output_type": "stream",
     "text": [
      "iteration =  104\n",
      "total number of topics =  31\n",
      "documents without a topic =  937\n"
     ]
    },
    {
     "name": "stderr",
     "output_type": "stream",
     "text": [
      "Evaluating model configurations:  48%|████▊     | 104/216 [1:37:17<1:48:00, 57.86s/it]"
     ]
    },
    {
     "name": "stdout",
     "output_type": "stream",
     "text": [
      "iteration =  105\n",
      "total number of topics =  64\n",
      "documents without a topic =  790\n"
     ]
    },
    {
     "name": "stderr",
     "output_type": "stream",
     "text": [
      "Evaluating model configurations:  49%|████▊     | 105/216 [1:38:17<1:47:49, 58.28s/it]"
     ]
    },
    {
     "name": "stdout",
     "output_type": "stream",
     "text": [
      "iteration =  106\n",
      "total number of topics =  60\n",
      "documents without a topic =  792\n"
     ]
    },
    {
     "name": "stderr",
     "output_type": "stream",
     "text": [
      "Evaluating model configurations:  49%|████▉     | 106/216 [1:39:27<1:53:17, 61.80s/it]"
     ]
    },
    {
     "name": "stdout",
     "output_type": "stream",
     "text": [
      "iteration =  107\n",
      "total number of topics =  14\n",
      "documents without a topic =  755\n"
     ]
    },
    {
     "name": "stderr",
     "output_type": "stream",
     "text": [
      "Evaluating model configurations:  50%|████▉     | 107/216 [1:40:08<1:41:05, 55.64s/it]"
     ]
    },
    {
     "name": "stdout",
     "output_type": "stream",
     "text": [
      "iteration =  108\n",
      "total number of topics =  18\n",
      "documents without a topic =  838\n"
     ]
    },
    {
     "name": "stderr",
     "output_type": "stream",
     "text": [
      "Evaluating model configurations:  50%|█████     | 108/216 [1:41:05<1:41:12, 56.23s/it]"
     ]
    },
    {
     "name": "stdout",
     "output_type": "stream",
     "text": [
      "iteration =  109\n",
      "total number of topics =  18\n",
      "documents without a topic =  957\n"
     ]
    },
    {
     "name": "stderr",
     "output_type": "stream",
     "text": [
      "Evaluating model configurations:  50%|█████     | 109/216 [1:41:47<1:32:19, 51.78s/it]"
     ]
    },
    {
     "name": "stdout",
     "output_type": "stream",
     "text": [
      "iteration =  110\n",
      "total number of topics =  37\n",
      "documents without a topic =  930\n"
     ]
    },
    {
     "name": "stderr",
     "output_type": "stream",
     "text": [
      "Evaluating model configurations:  51%|█████     | 110/216 [1:42:51<1:37:56, 55.44s/it]"
     ]
    },
    {
     "name": "stdout",
     "output_type": "stream",
     "text": [
      "iteration =  111\n",
      "total number of topics =  33\n",
      "documents without a topic =  818\n"
     ]
    },
    {
     "name": "stderr",
     "output_type": "stream",
     "text": [
      "Evaluating model configurations:  51%|█████▏    | 111/216 [1:43:37<1:32:22, 52.79s/it]"
     ]
    },
    {
     "name": "stdout",
     "output_type": "stream",
     "text": [
      "iteration =  112\n",
      "total number of topics =  38\n",
      "documents without a topic =  712\n"
     ]
    },
    {
     "name": "stderr",
     "output_type": "stream",
     "text": [
      "Evaluating model configurations:  52%|█████▏    | 112/216 [1:44:40<1:36:43, 55.80s/it]"
     ]
    },
    {
     "name": "stdout",
     "output_type": "stream",
     "text": [
      "iteration =  113\n",
      "total number of topics =  32\n",
      "documents without a topic =  885\n"
     ]
    },
    {
     "name": "stderr",
     "output_type": "stream",
     "text": [
      "Evaluating model configurations:  52%|█████▏    | 113/216 [1:45:26<1:30:32, 52.74s/it]"
     ]
    },
    {
     "name": "stdout",
     "output_type": "stream",
     "text": [
      "iteration =  114\n",
      "total number of topics =  33\n",
      "documents without a topic =  799\n"
     ]
    },
    {
     "name": "stderr",
     "output_type": "stream",
     "text": [
      "Evaluating model configurations:  53%|█████▎    | 114/216 [1:46:27<1:33:55, 55.25s/it]"
     ]
    },
    {
     "name": "stdout",
     "output_type": "stream",
     "text": [
      "iteration =  115\n",
      "total number of topics =  25\n",
      "documents without a topic =  985\n"
     ]
    },
    {
     "name": "stderr",
     "output_type": "stream",
     "text": [
      "Evaluating model configurations:  53%|█████▎    | 115/216 [1:47:10<1:26:46, 51.55s/it]"
     ]
    },
    {
     "name": "stdout",
     "output_type": "stream",
     "text": [
      "iteration =  116\n",
      "total number of topics =  27\n",
      "documents without a topic =  1137\n"
     ]
    },
    {
     "name": "stderr",
     "output_type": "stream",
     "text": [
      "Evaluating model configurations:  54%|█████▎    | 116/216 [1:48:11<1:30:50, 54.50s/it]"
     ]
    },
    {
     "name": "stdout",
     "output_type": "stream",
     "text": [
      "iteration =  117\n",
      "total number of topics =  10\n",
      "documents without a topic =  719\n"
     ]
    },
    {
     "name": "stderr",
     "output_type": "stream",
     "text": [
      "Evaluating model configurations:  54%|█████▍    | 117/216 [1:48:52<1:23:01, 50.31s/it]"
     ]
    },
    {
     "name": "stdout",
     "output_type": "stream",
     "text": [
      "iteration =  118\n",
      "total number of topics =  39\n",
      "documents without a topic =  657\n"
     ]
    },
    {
     "name": "stderr",
     "output_type": "stream",
     "text": [
      "Evaluating model configurations:  55%|█████▍    | 118/216 [1:49:56<1:28:57, 54.47s/it]"
     ]
    },
    {
     "name": "stdout",
     "output_type": "stream",
     "text": [
      "iteration =  119\n",
      "total number of topics =  36\n",
      "documents without a topic =  848\n"
     ]
    },
    {
     "name": "stderr",
     "output_type": "stream",
     "text": [
      "Evaluating model configurations:  55%|█████▌    | 119/216 [1:50:43<1:24:38, 52.36s/it]"
     ]
    },
    {
     "name": "stdout",
     "output_type": "stream",
     "text": [
      "iteration =  120\n",
      "total number of topics =  33\n",
      "documents without a topic =  984\n"
     ]
    },
    {
     "name": "stderr",
     "output_type": "stream",
     "text": [
      "Evaluating model configurations:  56%|█████▌    | 120/216 [1:51:45<1:28:08, 55.09s/it]"
     ]
    },
    {
     "name": "stdout",
     "output_type": "stream",
     "text": [
      "iteration =  121\n",
      "total number of topics =  80\n",
      "documents without a topic =  918\n"
     ]
    },
    {
     "name": "stderr",
     "output_type": "stream",
     "text": [
      "Evaluating model configurations:  56%|█████▌    | 121/216 [1:52:53<1:33:23, 58.98s/it]"
     ]
    },
    {
     "name": "stdout",
     "output_type": "stream",
     "text": [
      "iteration =  122\n",
      "total number of topics =  101\n",
      "documents without a topic =  921\n"
     ]
    },
    {
     "name": "stderr",
     "output_type": "stream",
     "text": [
      "Evaluating model configurations:  56%|█████▋    | 122/216 [1:54:11<1:41:15, 64.63s/it]"
     ]
    },
    {
     "name": "stdout",
     "output_type": "stream",
     "text": [
      "iteration =  123\n",
      "total number of topics =  61\n",
      "documents without a topic =  785\n"
     ]
    },
    {
     "name": "stderr",
     "output_type": "stream",
     "text": [
      "Evaluating model configurations:  57%|█████▋    | 123/216 [1:55:16<1:40:23, 64.77s/it]"
     ]
    },
    {
     "name": "stdout",
     "output_type": "stream",
     "text": [
      "iteration =  124\n",
      "total number of topics =  99\n",
      "documents without a topic =  990\n"
     ]
    },
    {
     "name": "stderr",
     "output_type": "stream",
     "text": [
      "Evaluating model configurations:  57%|█████▋    | 124/216 [1:56:38<1:47:24, 70.05s/it]"
     ]
    },
    {
     "name": "stdout",
     "output_type": "stream",
     "text": [
      "iteration =  125\n",
      "total number of topics =  38\n",
      "documents without a topic =  1128\n"
     ]
    },
    {
     "name": "stderr",
     "output_type": "stream",
     "text": [
      "Evaluating model configurations:  58%|█████▊    | 125/216 [1:57:30<1:37:57, 64.59s/it]"
     ]
    },
    {
     "name": "stdout",
     "output_type": "stream",
     "text": [
      "iteration =  126\n",
      "total number of topics =  35\n",
      "documents without a topic =  931\n"
     ]
    },
    {
     "name": "stderr",
     "output_type": "stream",
     "text": [
      "Evaluating model configurations:  58%|█████▊    | 126/216 [1:58:33<1:36:03, 64.03s/it]"
     ]
    },
    {
     "name": "stdout",
     "output_type": "stream",
     "text": [
      "iteration =  127\n",
      "total number of topics =  11\n",
      "documents without a topic =  859\n"
     ]
    },
    {
     "name": "stderr",
     "output_type": "stream",
     "text": [
      "Evaluating model configurations:  59%|█████▉    | 127/216 [1:59:14<1:24:47, 57.16s/it]"
     ]
    },
    {
     "name": "stdout",
     "output_type": "stream",
     "text": [
      "iteration =  128\n",
      "total number of topics =  27\n",
      "documents without a topic =  956\n"
     ]
    },
    {
     "name": "stderr",
     "output_type": "stream",
     "text": [
      "Evaluating model configurations:  59%|█████▉    | 128/216 [2:00:20<1:27:34, 59.71s/it]"
     ]
    },
    {
     "name": "stdout",
     "output_type": "stream",
     "text": [
      "iteration =  129\n",
      "total number of topics =  20\n",
      "documents without a topic =  868\n"
     ]
    },
    {
     "name": "stderr",
     "output_type": "stream",
     "text": [
      "Evaluating model configurations:  60%|█████▉    | 129/216 [2:01:08<1:21:29, 56.20s/it]"
     ]
    },
    {
     "name": "stdout",
     "output_type": "stream",
     "text": [
      "iteration =  130\n",
      "total number of topics =  41\n",
      "documents without a topic =  743\n"
     ]
    },
    {
     "name": "stderr",
     "output_type": "stream",
     "text": [
      "Evaluating model configurations:  60%|██████    | 130/216 [2:02:22<1:28:35, 61.81s/it]"
     ]
    },
    {
     "name": "stdout",
     "output_type": "stream",
     "text": [
      "iteration =  131\n",
      "total number of topics =  22\n",
      "documents without a topic =  958\n"
     ]
    },
    {
     "name": "stderr",
     "output_type": "stream",
     "text": [
      "Evaluating model configurations:  61%|██████    | 131/216 [2:03:09<1:21:09, 57.29s/it]"
     ]
    },
    {
     "name": "stdout",
     "output_type": "stream",
     "text": [
      "iteration =  132\n",
      "total number of topics =  40\n",
      "documents without a topic =  904\n"
     ]
    },
    {
     "name": "stderr",
     "output_type": "stream",
     "text": [
      "Evaluating model configurations:  61%|██████    | 132/216 [2:04:20<1:25:54, 61.36s/it]"
     ]
    },
    {
     "name": "stdout",
     "output_type": "stream",
     "text": [
      "iteration =  133\n",
      "total number of topics =  37\n",
      "documents without a topic =  955\n"
     ]
    },
    {
     "name": "stderr",
     "output_type": "stream",
     "text": [
      "Evaluating model configurations:  62%|██████▏   | 133/216 [2:05:13<1:21:12, 58.71s/it]"
     ]
    },
    {
     "name": "stdout",
     "output_type": "stream",
     "text": [
      "iteration =  134\n",
      "total number of topics =  24\n",
      "documents without a topic =  1031\n"
     ]
    },
    {
     "name": "stderr",
     "output_type": "stream",
     "text": [
      "Evaluating model configurations:  62%|██████▏   | 134/216 [2:06:15<1:21:43, 59.80s/it]"
     ]
    },
    {
     "name": "stdout",
     "output_type": "stream",
     "text": [
      "iteration =  135\n",
      "total number of topics =  41\n",
      "documents without a topic =  669\n"
     ]
    },
    {
     "name": "stderr",
     "output_type": "stream",
     "text": [
      "Evaluating model configurations:  62%|██████▎   | 135/216 [2:07:08<1:18:04, 57.84s/it]"
     ]
    },
    {
     "name": "stdout",
     "output_type": "stream",
     "text": [
      "iteration =  136\n",
      "total number of topics =  21\n",
      "documents without a topic =  818\n"
     ]
    },
    {
     "name": "stderr",
     "output_type": "stream",
     "text": [
      "Evaluating model configurations:  63%|██████▎   | 136/216 [2:08:13<1:19:54, 59.93s/it]"
     ]
    },
    {
     "name": "stdout",
     "output_type": "stream",
     "text": [
      "iteration =  137\n",
      "total number of topics =  9\n",
      "documents without a topic =  969\n"
     ]
    },
    {
     "name": "stderr",
     "output_type": "stream",
     "text": [
      "Evaluating model configurations:  63%|██████▎   | 137/216 [2:08:57<1:12:30, 55.07s/it]"
     ]
    },
    {
     "name": "stdout",
     "output_type": "stream",
     "text": [
      "iteration =  138\n",
      "total number of topics =  42\n",
      "documents without a topic =  856\n"
     ]
    },
    {
     "name": "stderr",
     "output_type": "stream",
     "text": [
      "Evaluating model configurations:  64%|██████▍   | 138/216 [2:10:05<1:16:53, 59.15s/it]"
     ]
    },
    {
     "name": "stdout",
     "output_type": "stream",
     "text": [
      "iteration =  139\n",
      "total number of topics =  25\n",
      "documents without a topic =  872\n"
     ]
    },
    {
     "name": "stderr",
     "output_type": "stream",
     "text": [
      "Evaluating model configurations:  64%|██████▍   | 139/216 [2:10:52<1:11:16, 55.54s/it]"
     ]
    },
    {
     "name": "stdout",
     "output_type": "stream",
     "text": [
      "iteration =  140\n",
      "total number of topics =  22\n",
      "documents without a topic =  1079\n"
     ]
    },
    {
     "name": "stderr",
     "output_type": "stream",
     "text": [
      "Evaluating model configurations:  65%|██████▍   | 140/216 [2:11:53<1:12:14, 57.03s/it]"
     ]
    },
    {
     "name": "stdout",
     "output_type": "stream",
     "text": [
      "iteration =  141\n",
      "total number of topics =  29\n",
      "documents without a topic =  645\n"
     ]
    },
    {
     "name": "stderr",
     "output_type": "stream",
     "text": [
      "Evaluating model configurations:  65%|██████▌   | 141/216 [2:12:43<1:08:40, 54.94s/it]"
     ]
    },
    {
     "name": "stdout",
     "output_type": "stream",
     "text": [
      "iteration =  142\n",
      "total number of topics =  27\n",
      "documents without a topic =  892\n"
     ]
    },
    {
     "name": "stderr",
     "output_type": "stream",
     "text": [
      "Evaluating model configurations:  66%|██████▌   | 142/216 [2:13:53<1:13:18, 59.44s/it]"
     ]
    },
    {
     "name": "stdout",
     "output_type": "stream",
     "text": [
      "iteration =  143\n",
      "total number of topics =  31\n",
      "documents without a topic =  896\n"
     ]
    },
    {
     "name": "stderr",
     "output_type": "stream",
     "text": [
      "Evaluating model configurations:  66%|██████▌   | 143/216 [2:14:44<1:09:11, 56.86s/it]"
     ]
    },
    {
     "name": "stdout",
     "output_type": "stream",
     "text": [
      "iteration =  144\n",
      "total number of topics =  31\n",
      "documents without a topic =  839\n"
     ]
    },
    {
     "name": "stderr",
     "output_type": "stream",
     "text": [
      "Evaluating model configurations:  67%|██████▋   | 144/216 [2:15:54<1:12:56, 60.78s/it]"
     ]
    },
    {
     "name": "stdout",
     "output_type": "stream",
     "text": [
      "iteration =  145\n",
      "total number of topics =  106\n",
      "documents without a topic =  882\n"
     ]
    },
    {
     "name": "stderr",
     "output_type": "stream",
     "text": [
      "Evaluating model configurations:  67%|██████▋   | 145/216 [2:17:17<1:20:00, 67.61s/it]"
     ]
    },
    {
     "name": "stdout",
     "output_type": "stream",
     "text": [
      "iteration =  146\n",
      "total number of topics =  90\n",
      "documents without a topic =  861\n"
     ]
    },
    {
     "name": "stderr",
     "output_type": "stream",
     "text": [
      "Evaluating model configurations:  68%|██████▊   | 146/216 [2:18:50<1:27:41, 75.16s/it]"
     ]
    },
    {
     "name": "stdout",
     "output_type": "stream",
     "text": [
      "iteration =  147\n",
      "total number of topics =  82\n",
      "documents without a topic =  897\n"
     ]
    },
    {
     "name": "stderr",
     "output_type": "stream",
     "text": [
      "Evaluating model configurations:  68%|██████▊   | 147/216 [2:20:01<1:24:54, 73.83s/it]"
     ]
    },
    {
     "name": "stdout",
     "output_type": "stream",
     "text": [
      "iteration =  148\n",
      "total number of topics =  29\n",
      "documents without a topic =  959\n"
     ]
    },
    {
     "name": "stderr",
     "output_type": "stream",
     "text": [
      "Evaluating model configurations:  69%|██████▊   | 148/216 [2:21:13<1:23:02, 73.28s/it]"
     ]
    },
    {
     "name": "stdout",
     "output_type": "stream",
     "text": [
      "iteration =  149\n",
      "total number of topics =  52\n",
      "documents without a topic =  905\n"
     ]
    },
    {
     "name": "stderr",
     "output_type": "stream",
     "text": [
      "Evaluating model configurations:  69%|██████▉   | 149/216 [2:22:11<1:16:46, 68.75s/it]"
     ]
    },
    {
     "name": "stdout",
     "output_type": "stream",
     "text": [
      "iteration =  150\n",
      "total number of topics =  56\n",
      "documents without a topic =  1028\n"
     ]
    },
    {
     "name": "stderr",
     "output_type": "stream",
     "text": [
      "Evaluating model configurations:  69%|██████▉   | 150/216 [2:23:27<1:18:00, 70.92s/it]"
     ]
    },
    {
     "name": "stdout",
     "output_type": "stream",
     "text": [
      "iteration =  151\n",
      "total number of topics =  44\n",
      "documents without a topic =  1104\n"
     ]
    },
    {
     "name": "stderr",
     "output_type": "stream",
     "text": [
      "Evaluating model configurations:  70%|██████▉   | 151/216 [2:24:25<1:12:34, 66.99s/it]"
     ]
    },
    {
     "name": "stdout",
     "output_type": "stream",
     "text": [
      "iteration =  152\n",
      "total number of topics =  35\n",
      "documents without a topic =  901\n"
     ]
    },
    {
     "name": "stderr",
     "output_type": "stream",
     "text": [
      "Evaluating model configurations:  70%|███████   | 152/216 [2:25:34<1:12:09, 67.65s/it]"
     ]
    },
    {
     "name": "stdout",
     "output_type": "stream",
     "text": [
      "iteration =  153\n",
      "total number of topics =  53\n",
      "documents without a topic =  801\n"
     ]
    },
    {
     "name": "stderr",
     "output_type": "stream",
     "text": [
      "Evaluating model configurations:  71%|███████   | 153/216 [2:26:33<1:08:18, 65.05s/it]"
     ]
    },
    {
     "name": "stdout",
     "output_type": "stream",
     "text": [
      "iteration =  154\n",
      "total number of topics =  59\n",
      "documents without a topic =  811\n"
     ]
    },
    {
     "name": "stderr",
     "output_type": "stream",
     "text": [
      "Evaluating model configurations:  71%|███████▏  | 154/216 [2:27:48<1:10:14, 67.97s/it]"
     ]
    },
    {
     "name": "stdout",
     "output_type": "stream",
     "text": [
      "iteration =  155\n",
      "total number of topics =  42\n",
      "documents without a topic =  1031\n"
     ]
    },
    {
     "name": "stderr",
     "output_type": "stream",
     "text": [
      "Evaluating model configurations:  72%|███████▏  | 155/216 [2:28:50<1:07:26, 66.34s/it]"
     ]
    },
    {
     "name": "stdout",
     "output_type": "stream",
     "text": [
      "iteration =  156\n",
      "total number of topics =  48\n",
      "documents without a topic =  1114\n"
     ]
    },
    {
     "name": "stderr",
     "output_type": "stream",
     "text": [
      "Evaluating model configurations:  72%|███████▏  | 156/216 [2:30:05<1:08:52, 68.87s/it]"
     ]
    },
    {
     "name": "stdout",
     "output_type": "stream",
     "text": [
      "iteration =  157\n",
      "total number of topics =  16\n",
      "documents without a topic =  1194\n"
     ]
    },
    {
     "name": "stderr",
     "output_type": "stream",
     "text": [
      "Evaluating model configurations:  73%|███████▎  | 157/216 [2:30:52<1:01:07, 62.16s/it]"
     ]
    },
    {
     "name": "stdout",
     "output_type": "stream",
     "text": [
      "iteration =  158\n",
      "total number of topics =  37\n",
      "documents without a topic =  1249\n"
     ]
    },
    {
     "name": "stderr",
     "output_type": "stream",
     "text": [
      "Evaluating model configurations:  73%|███████▎  | 158/216 [2:32:02<1:02:28, 64.62s/it]"
     ]
    },
    {
     "name": "stdout",
     "output_type": "stream",
     "text": [
      "iteration =  159\n",
      "total number of topics =  38\n",
      "documents without a topic =  758\n"
     ]
    },
    {
     "name": "stderr",
     "output_type": "stream",
     "text": [
      "Evaluating model configurations:  74%|███████▎  | 159/216 [2:32:58<59:00, 62.11s/it]  "
     ]
    },
    {
     "name": "stdout",
     "output_type": "stream",
     "text": [
      "iteration =  160\n",
      "total number of topics =  54\n",
      "documents without a topic =  947\n"
     ]
    },
    {
     "name": "stderr",
     "output_type": "stream",
     "text": [
      "Evaluating model configurations:  74%|███████▍  | 160/216 [2:34:09<1:00:18, 64.62s/it]"
     ]
    },
    {
     "name": "stdout",
     "output_type": "stream",
     "text": [
      "iteration =  161\n",
      "total number of topics =  29\n",
      "documents without a topic =  954\n"
     ]
    },
    {
     "name": "stderr",
     "output_type": "stream",
     "text": [
      "Evaluating model configurations:  75%|███████▍  | 161/216 [2:34:58<55:02, 60.04s/it]  "
     ]
    },
    {
     "name": "stdout",
     "output_type": "stream",
     "text": [
      "iteration =  162\n",
      "total number of topics =  38\n",
      "documents without a topic =  927\n"
     ]
    },
    {
     "name": "stderr",
     "output_type": "stream",
     "text": [
      "Evaluating model configurations:  75%|███████▌  | 162/216 [2:36:06<56:14, 62.49s/it]"
     ]
    },
    {
     "name": "stdout",
     "output_type": "stream",
     "text": [
      "iteration =  163\n",
      "total number of topics =  23\n",
      "documents without a topic =  1213\n"
     ]
    },
    {
     "name": "stderr",
     "output_type": "stream",
     "text": [
      "Evaluating model configurations:  75%|███████▌  | 163/216 [2:36:50<50:12, 56.84s/it]"
     ]
    },
    {
     "name": "stdout",
     "output_type": "stream",
     "text": [
      "iteration =  164\n",
      "total number of topics =  24\n",
      "documents without a topic =  1049\n"
     ]
    },
    {
     "name": "stderr",
     "output_type": "stream",
     "text": [
      "Evaluating model configurations:  76%|███████▌  | 164/216 [2:37:50<50:07, 57.83s/it]"
     ]
    },
    {
     "name": "stdout",
     "output_type": "stream",
     "text": [
      "iteration =  165\n",
      "total number of topics =  31\n",
      "documents without a topic =  748\n"
     ]
    },
    {
     "name": "stderr",
     "output_type": "stream",
     "text": [
      "Evaluating model configurations:  76%|███████▋  | 165/216 [2:38:39<46:55, 55.21s/it]"
     ]
    },
    {
     "name": "stdout",
     "output_type": "stream",
     "text": [
      "iteration =  166\n",
      "total number of topics =  19\n",
      "documents without a topic =  783\n"
     ]
    },
    {
     "name": "stderr",
     "output_type": "stream",
     "text": [
      "Evaluating model configurations:  77%|███████▋  | 166/216 [2:39:38<46:53, 56.27s/it]"
     ]
    },
    {
     "name": "stdout",
     "output_type": "stream",
     "text": [
      "iteration =  167\n",
      "total number of topics =  18\n",
      "documents without a topic =  1108\n"
     ]
    },
    {
     "name": "stderr",
     "output_type": "stream",
     "text": [
      "Evaluating model configurations:  77%|███████▋  | 167/216 [2:40:22<42:54, 52.55s/it]"
     ]
    },
    {
     "name": "stdout",
     "output_type": "stream",
     "text": [
      "iteration =  168\n",
      "total number of topics =  9\n",
      "documents without a topic =  956\n"
     ]
    }
   ],
   "execution_count": null
  },
  {
   "metadata": {},
   "cell_type": "markdown",
   "source": [
    "### Interpretability\n",
    "The interpretability scores merges the information from topic diversity and topic coherence into a single variable by multiplying the diversity and coherence scores"
   ],
   "id": "7881dfabfbcebb91"
  },
  {
   "metadata": {
    "ExecuteTime": {
     "end_time": "2024-11-06T20:01:54.871974Z",
     "start_time": "2024-11-06T20:01:54.867795Z"
    }
   },
   "cell_type": "code",
   "source": "results_df[\"interpretability\"] = results_df[\"topic_diversity\"] * results_df[\"topic_coherence\"]",
   "id": "22528fa8334d0fb9",
   "outputs": [],
   "execution_count": 10
  },
  {
   "metadata": {
    "ExecuteTime": {
     "end_time": "2024-11-06T09:19:19.718839Z",
     "start_time": "2024-11-06T09:19:19.589058Z"
    }
   },
   "cell_type": "code",
   "source": [
    "results_df.to_csv(\"results_hyperparameters.csv\")\n",
    "results_df"
   ],
   "id": "b65710f223c2d4cd",
   "outputs": [
    {
     "data": {
      "text/plain": [
       "     iteration      embedding_model  umap_min_dist  umap_n_neighbors  \\\n",
       "0            1  SentenceTransformer            0.0                 5   \n",
       "1            2  SentenceTransformer            0.0                 5   \n",
       "2            3  SentenceTransformer            0.0                 5   \n",
       "3            4  SentenceTransformer            0.0                 5   \n",
       "4            5  SentenceTransformer            0.0                 5   \n",
       "..         ...                  ...            ...               ...   \n",
       "139        140  SentenceTransformer            0.1                15   \n",
       "140        141  SentenceTransformer            0.1                15   \n",
       "141        142  SentenceTransformer            0.1                15   \n",
       "142        143  SentenceTransformer            0.1                15   \n",
       "143        144  SentenceTransformer            0.1                15   \n",
       "\n",
       "     umap_spread  hdbscan_min_cluster_size  hdbscan_min_samples  \\\n",
       "0            1.0                         5                  NaN   \n",
       "1            1.0                         5                  NaN   \n",
       "2            1.0                         5                  5.0   \n",
       "3            1.0                         5                  5.0   \n",
       "4            1.0                         5                 10.0   \n",
       "..           ...                       ...                  ...   \n",
       "139          1.0                        20                  NaN   \n",
       "140          1.0                        20                  5.0   \n",
       "141          1.0                        20                  5.0   \n",
       "142          1.0                        20                 10.0   \n",
       "143          1.0                        20                 10.0   \n",
       "\n",
       "    vectorizer_ngram_range  vectorizer_min_df  reduce_frequent_words  \\\n",
       "0                   (1, 1)                  1                   True   \n",
       "1                   (1, 2)                  1                   True   \n",
       "2                   (1, 1)                  1                   True   \n",
       "3                   (1, 2)                  1                   True   \n",
       "4                   (1, 1)                  1                   True   \n",
       "..                     ...                ...                    ...   \n",
       "139                 (1, 2)                  1                   True   \n",
       "140                 (1, 1)                  1                   True   \n",
       "141                 (1, 2)                  1                   True   \n",
       "142                 (1, 1)                  1                   True   \n",
       "143                 (1, 2)                  1                   True   \n",
       "\n",
       "    nr_topics_setting  number_of_topics  docs_without_topic  topic_diversity  \\\n",
       "0                auto                28                1016         0.533333   \n",
       "1                auto                30                 940         0.575862   \n",
       "2                auto                46                 970         0.442222   \n",
       "3                auto                26                1021         0.592000   \n",
       "4                auto                20                 947         0.578947   \n",
       "..                ...               ...                 ...              ...   \n",
       "139              auto                34                 954         0.530303   \n",
       "140              auto                23                1069         0.609091   \n",
       "141              auto                30                1120         0.537931   \n",
       "142              auto                35                1007         0.467647   \n",
       "143              auto                38                1034         0.470270   \n",
       "\n",
       "     topic_coherence                                              model  \\\n",
       "0           0.555541  BERTopic(calculate_probabilities=False, ctfidf...   \n",
       "1           0.553024  BERTopic(calculate_probabilities=False, ctfidf...   \n",
       "2           0.535579  BERTopic(calculate_probabilities=False, ctfidf...   \n",
       "3           0.573346  BERTopic(calculate_probabilities=False, ctfidf...   \n",
       "4           0.559457  BERTopic(calculate_probabilities=False, ctfidf...   \n",
       "..               ...                                                ...   \n",
       "139         0.554778  BERTopic(calculate_probabilities=False, ctfidf...   \n",
       "140         0.565248  BERTopic(calculate_probabilities=False, ctfidf...   \n",
       "141         0.561197  BERTopic(calculate_probabilities=False, ctfidf...   \n",
       "142         0.540970  BERTopic(calculate_probabilities=False, ctfidf...   \n",
       "143         0.556417  BERTopic(calculate_probabilities=False, ctfidf...   \n",
       "\n",
       "                                                topics  \\\n",
       "0    [1, -1, -1, 0, -1, -1, -1, 4, 4, 2, 1, -1, 1, ...   \n",
       "1    [0, -1, -1, -1, -1, 10, -1, 2, 2, 1, 0, 0, -1,...   \n",
       "2    [16, -1, 34, -1, -1, -1, -1, 2, 2, 0, 5, -1, 3...   \n",
       "3    [1, -1, 1, -1, -1, -1, -1, 3, 3, 2, 1, 0, -1, ...   \n",
       "4    [0, -1, 0, 0, 0, 0, -1, 2, 2, 3, 0, 0, -1, 2, ...   \n",
       "..                                                 ...   \n",
       "139  [-1, -1, 0, -1, 16, 16, -1, 2, 2, 1, 0, 0, -1,...   \n",
       "140  [0, -1, 0, 0, 0, 0, -1, 2, 2, 1, 0, -1, -1, 2,...   \n",
       "141  [7, -1, -1, -1, -1, -1, -1, 2, 2, 1, 0, -1, 0,...   \n",
       "142  [8, -1, -1, -1, -1, -1, -1, 3, 3, 1, 6, 0, -1,...   \n",
       "143  [6, -1, 1, -1, -1, -1, -1, 8, 8, 0, 4, 2, -1, ...   \n",
       "\n",
       "                                                 probs  interpretability  \n",
       "0    [0.8373053634974206, 0.0, 0.0, 0.4397765811621...          0.296288  \n",
       "1    [0.7770868550416034, 0.0, 0.0, 0.0, 0.0, 0.799...          0.318466  \n",
       "2    [0.7659643887123255, 0.0, 1.0, 0.0, 0.0, 0.0, ...          0.236845  \n",
       "3    [0.6468233122862297, 0.0, 0.7437987428682535, ...          0.339421  \n",
       "4    [0.5764024024672486, 0.0, 0.8225411625863547, ...          0.323896  \n",
       "..                                                 ...               ...  \n",
       "139  [0.0, 0.0, 0.9869658601222523, 0.0, 0.79346411...          0.294201  \n",
       "140  [0.8292426899785187, 0.0, 1.0, 0.8991593883132...          0.344288  \n",
       "141  [0.7047130479918264, 0.0, 0.0, 0.0, 0.0, 0.0, ...          0.301885  \n",
       "142  [0.7193489801061933, 0.0, 0.0, 0.0, 0.0, 0.0, ...          0.252983  \n",
       "143  [0.6576506138811272, 0.0, 1.0, 0.0, 0.0, 0.0, ...          0.261666  \n",
       "\n",
       "[144 rows x 19 columns]"
      ],
      "text/html": [
       "<div>\n",
       "<style scoped>\n",
       "    .dataframe tbody tr th:only-of-type {\n",
       "        vertical-align: middle;\n",
       "    }\n",
       "\n",
       "    .dataframe tbody tr th {\n",
       "        vertical-align: top;\n",
       "    }\n",
       "\n",
       "    .dataframe thead th {\n",
       "        text-align: right;\n",
       "    }\n",
       "</style>\n",
       "<table border=\"1\" class=\"dataframe\">\n",
       "  <thead>\n",
       "    <tr style=\"text-align: right;\">\n",
       "      <th></th>\n",
       "      <th>iteration</th>\n",
       "      <th>embedding_model</th>\n",
       "      <th>umap_min_dist</th>\n",
       "      <th>umap_n_neighbors</th>\n",
       "      <th>umap_spread</th>\n",
       "      <th>hdbscan_min_cluster_size</th>\n",
       "      <th>hdbscan_min_samples</th>\n",
       "      <th>vectorizer_ngram_range</th>\n",
       "      <th>vectorizer_min_df</th>\n",
       "      <th>reduce_frequent_words</th>\n",
       "      <th>nr_topics_setting</th>\n",
       "      <th>number_of_topics</th>\n",
       "      <th>docs_without_topic</th>\n",
       "      <th>topic_diversity</th>\n",
       "      <th>topic_coherence</th>\n",
       "      <th>model</th>\n",
       "      <th>topics</th>\n",
       "      <th>probs</th>\n",
       "      <th>interpretability</th>\n",
       "    </tr>\n",
       "  </thead>\n",
       "  <tbody>\n",
       "    <tr>\n",
       "      <th>0</th>\n",
       "      <td>1</td>\n",
       "      <td>SentenceTransformer</td>\n",
       "      <td>0.0</td>\n",
       "      <td>5</td>\n",
       "      <td>1.0</td>\n",
       "      <td>5</td>\n",
       "      <td>NaN</td>\n",
       "      <td>(1, 1)</td>\n",
       "      <td>1</td>\n",
       "      <td>True</td>\n",
       "      <td>auto</td>\n",
       "      <td>28</td>\n",
       "      <td>1016</td>\n",
       "      <td>0.533333</td>\n",
       "      <td>0.555541</td>\n",
       "      <td>BERTopic(calculate_probabilities=False, ctfidf...</td>\n",
       "      <td>[1, -1, -1, 0, -1, -1, -1, 4, 4, 2, 1, -1, 1, ...</td>\n",
       "      <td>[0.8373053634974206, 0.0, 0.0, 0.4397765811621...</td>\n",
       "      <td>0.296288</td>\n",
       "    </tr>\n",
       "    <tr>\n",
       "      <th>1</th>\n",
       "      <td>2</td>\n",
       "      <td>SentenceTransformer</td>\n",
       "      <td>0.0</td>\n",
       "      <td>5</td>\n",
       "      <td>1.0</td>\n",
       "      <td>5</td>\n",
       "      <td>NaN</td>\n",
       "      <td>(1, 2)</td>\n",
       "      <td>1</td>\n",
       "      <td>True</td>\n",
       "      <td>auto</td>\n",
       "      <td>30</td>\n",
       "      <td>940</td>\n",
       "      <td>0.575862</td>\n",
       "      <td>0.553024</td>\n",
       "      <td>BERTopic(calculate_probabilities=False, ctfidf...</td>\n",
       "      <td>[0, -1, -1, -1, -1, 10, -1, 2, 2, 1, 0, 0, -1,...</td>\n",
       "      <td>[0.7770868550416034, 0.0, 0.0, 0.0, 0.0, 0.799...</td>\n",
       "      <td>0.318466</td>\n",
       "    </tr>\n",
       "    <tr>\n",
       "      <th>2</th>\n",
       "      <td>3</td>\n",
       "      <td>SentenceTransformer</td>\n",
       "      <td>0.0</td>\n",
       "      <td>5</td>\n",
       "      <td>1.0</td>\n",
       "      <td>5</td>\n",
       "      <td>5.0</td>\n",
       "      <td>(1, 1)</td>\n",
       "      <td>1</td>\n",
       "      <td>True</td>\n",
       "      <td>auto</td>\n",
       "      <td>46</td>\n",
       "      <td>970</td>\n",
       "      <td>0.442222</td>\n",
       "      <td>0.535579</td>\n",
       "      <td>BERTopic(calculate_probabilities=False, ctfidf...</td>\n",
       "      <td>[16, -1, 34, -1, -1, -1, -1, 2, 2, 0, 5, -1, 3...</td>\n",
       "      <td>[0.7659643887123255, 0.0, 1.0, 0.0, 0.0, 0.0, ...</td>\n",
       "      <td>0.236845</td>\n",
       "    </tr>\n",
       "    <tr>\n",
       "      <th>3</th>\n",
       "      <td>4</td>\n",
       "      <td>SentenceTransformer</td>\n",
       "      <td>0.0</td>\n",
       "      <td>5</td>\n",
       "      <td>1.0</td>\n",
       "      <td>5</td>\n",
       "      <td>5.0</td>\n",
       "      <td>(1, 2)</td>\n",
       "      <td>1</td>\n",
       "      <td>True</td>\n",
       "      <td>auto</td>\n",
       "      <td>26</td>\n",
       "      <td>1021</td>\n",
       "      <td>0.592000</td>\n",
       "      <td>0.573346</td>\n",
       "      <td>BERTopic(calculate_probabilities=False, ctfidf...</td>\n",
       "      <td>[1, -1, 1, -1, -1, -1, -1, 3, 3, 2, 1, 0, -1, ...</td>\n",
       "      <td>[0.6468233122862297, 0.0, 0.7437987428682535, ...</td>\n",
       "      <td>0.339421</td>\n",
       "    </tr>\n",
       "    <tr>\n",
       "      <th>4</th>\n",
       "      <td>5</td>\n",
       "      <td>SentenceTransformer</td>\n",
       "      <td>0.0</td>\n",
       "      <td>5</td>\n",
       "      <td>1.0</td>\n",
       "      <td>5</td>\n",
       "      <td>10.0</td>\n",
       "      <td>(1, 1)</td>\n",
       "      <td>1</td>\n",
       "      <td>True</td>\n",
       "      <td>auto</td>\n",
       "      <td>20</td>\n",
       "      <td>947</td>\n",
       "      <td>0.578947</td>\n",
       "      <td>0.559457</td>\n",
       "      <td>BERTopic(calculate_probabilities=False, ctfidf...</td>\n",
       "      <td>[0, -1, 0, 0, 0, 0, -1, 2, 2, 3, 0, 0, -1, 2, ...</td>\n",
       "      <td>[0.5764024024672486, 0.0, 0.8225411625863547, ...</td>\n",
       "      <td>0.323896</td>\n",
       "    </tr>\n",
       "    <tr>\n",
       "      <th>...</th>\n",
       "      <td>...</td>\n",
       "      <td>...</td>\n",
       "      <td>...</td>\n",
       "      <td>...</td>\n",
       "      <td>...</td>\n",
       "      <td>...</td>\n",
       "      <td>...</td>\n",
       "      <td>...</td>\n",
       "      <td>...</td>\n",
       "      <td>...</td>\n",
       "      <td>...</td>\n",
       "      <td>...</td>\n",
       "      <td>...</td>\n",
       "      <td>...</td>\n",
       "      <td>...</td>\n",
       "      <td>...</td>\n",
       "      <td>...</td>\n",
       "      <td>...</td>\n",
       "      <td>...</td>\n",
       "    </tr>\n",
       "    <tr>\n",
       "      <th>139</th>\n",
       "      <td>140</td>\n",
       "      <td>SentenceTransformer</td>\n",
       "      <td>0.1</td>\n",
       "      <td>15</td>\n",
       "      <td>1.0</td>\n",
       "      <td>20</td>\n",
       "      <td>NaN</td>\n",
       "      <td>(1, 2)</td>\n",
       "      <td>1</td>\n",
       "      <td>True</td>\n",
       "      <td>auto</td>\n",
       "      <td>34</td>\n",
       "      <td>954</td>\n",
       "      <td>0.530303</td>\n",
       "      <td>0.554778</td>\n",
       "      <td>BERTopic(calculate_probabilities=False, ctfidf...</td>\n",
       "      <td>[-1, -1, 0, -1, 16, 16, -1, 2, 2, 1, 0, 0, -1,...</td>\n",
       "      <td>[0.0, 0.0, 0.9869658601222523, 0.0, 0.79346411...</td>\n",
       "      <td>0.294201</td>\n",
       "    </tr>\n",
       "    <tr>\n",
       "      <th>140</th>\n",
       "      <td>141</td>\n",
       "      <td>SentenceTransformer</td>\n",
       "      <td>0.1</td>\n",
       "      <td>15</td>\n",
       "      <td>1.0</td>\n",
       "      <td>20</td>\n",
       "      <td>5.0</td>\n",
       "      <td>(1, 1)</td>\n",
       "      <td>1</td>\n",
       "      <td>True</td>\n",
       "      <td>auto</td>\n",
       "      <td>23</td>\n",
       "      <td>1069</td>\n",
       "      <td>0.609091</td>\n",
       "      <td>0.565248</td>\n",
       "      <td>BERTopic(calculate_probabilities=False, ctfidf...</td>\n",
       "      <td>[0, -1, 0, 0, 0, 0, -1, 2, 2, 1, 0, -1, -1, 2,...</td>\n",
       "      <td>[0.8292426899785187, 0.0, 1.0, 0.8991593883132...</td>\n",
       "      <td>0.344288</td>\n",
       "    </tr>\n",
       "    <tr>\n",
       "      <th>141</th>\n",
       "      <td>142</td>\n",
       "      <td>SentenceTransformer</td>\n",
       "      <td>0.1</td>\n",
       "      <td>15</td>\n",
       "      <td>1.0</td>\n",
       "      <td>20</td>\n",
       "      <td>5.0</td>\n",
       "      <td>(1, 2)</td>\n",
       "      <td>1</td>\n",
       "      <td>True</td>\n",
       "      <td>auto</td>\n",
       "      <td>30</td>\n",
       "      <td>1120</td>\n",
       "      <td>0.537931</td>\n",
       "      <td>0.561197</td>\n",
       "      <td>BERTopic(calculate_probabilities=False, ctfidf...</td>\n",
       "      <td>[7, -1, -1, -1, -1, -1, -1, 2, 2, 1, 0, -1, 0,...</td>\n",
       "      <td>[0.7047130479918264, 0.0, 0.0, 0.0, 0.0, 0.0, ...</td>\n",
       "      <td>0.301885</td>\n",
       "    </tr>\n",
       "    <tr>\n",
       "      <th>142</th>\n",
       "      <td>143</td>\n",
       "      <td>SentenceTransformer</td>\n",
       "      <td>0.1</td>\n",
       "      <td>15</td>\n",
       "      <td>1.0</td>\n",
       "      <td>20</td>\n",
       "      <td>10.0</td>\n",
       "      <td>(1, 1)</td>\n",
       "      <td>1</td>\n",
       "      <td>True</td>\n",
       "      <td>auto</td>\n",
       "      <td>35</td>\n",
       "      <td>1007</td>\n",
       "      <td>0.467647</td>\n",
       "      <td>0.540970</td>\n",
       "      <td>BERTopic(calculate_probabilities=False, ctfidf...</td>\n",
       "      <td>[8, -1, -1, -1, -1, -1, -1, 3, 3, 1, 6, 0, -1,...</td>\n",
       "      <td>[0.7193489801061933, 0.0, 0.0, 0.0, 0.0, 0.0, ...</td>\n",
       "      <td>0.252983</td>\n",
       "    </tr>\n",
       "    <tr>\n",
       "      <th>143</th>\n",
       "      <td>144</td>\n",
       "      <td>SentenceTransformer</td>\n",
       "      <td>0.1</td>\n",
       "      <td>15</td>\n",
       "      <td>1.0</td>\n",
       "      <td>20</td>\n",
       "      <td>10.0</td>\n",
       "      <td>(1, 2)</td>\n",
       "      <td>1</td>\n",
       "      <td>True</td>\n",
       "      <td>auto</td>\n",
       "      <td>38</td>\n",
       "      <td>1034</td>\n",
       "      <td>0.470270</td>\n",
       "      <td>0.556417</td>\n",
       "      <td>BERTopic(calculate_probabilities=False, ctfidf...</td>\n",
       "      <td>[6, -1, 1, -1, -1, -1, -1, 8, 8, 0, 4, 2, -1, ...</td>\n",
       "      <td>[0.6576506138811272, 0.0, 1.0, 0.0, 0.0, 0.0, ...</td>\n",
       "      <td>0.261666</td>\n",
       "    </tr>\n",
       "  </tbody>\n",
       "</table>\n",
       "<p>144 rows × 19 columns</p>\n",
       "</div>"
      ]
     },
     "execution_count": 21,
     "metadata": {},
     "output_type": "execute_result"
    }
   ],
   "execution_count": 21
  },
  {
   "metadata": {
    "ExecuteTime": {
     "end_time": "2024-11-06T20:48:19.332096Z",
     "start_time": "2024-11-06T20:48:16.583707Z"
    }
   },
   "cell_type": "code",
   "source": [
    "def find_best_models(results_df, n_best=5):\n",
    "    \"\"\"Find the best performing models based on multiple metrics.\"\"\"\n",
    "    # Create normalized scores for each metric\n",
    "    metrics = ['topic_coherence', 'topic_diversity', 'number_of_topics']\n",
    "    \n",
    "    # Remove non-numeric columns and normalize\n",
    "    scoring_df = results_df.copy()\n",
    "    for metric in metrics:\n",
    "        max_val = scoring_df[metric].max()\n",
    "        min_val = scoring_df[metric].min()\n",
    "        scoring_df[f'{metric}_normalized'] = (scoring_df[metric] - min_val) / (max_val - min_val)\n",
    "    \n",
    "    # Calculate composite score (you can adjust weights as needed)\n",
    "    scoring_df['composite_score'] = (\n",
    "        scoring_df['topic_coherence_normalized'] * 0.4 +\n",
    "        scoring_df['topic_diversity_normalized'] * 0.3 +\n",
    "        scoring_df['number_of_topics_normalized'] * 0.3\n",
    "    )\n",
    "    \n",
    "    # Penalize for documents without topics\n",
    "    scoring_df['composite_score'] = scoring_df['composite_score'] * (\n",
    "        1 - scoring_df['docs_without_topic'] / scoring_df['docs_without_topic'].max()\n",
    "    )\n",
    "    \n",
    "    # Get best models\n",
    "    best_models = scoring_df.nlargest(n_best, 'composite_score')\n",
    "    return best_models\n",
    "\n",
    "def plot_results_2d(results_df):\n",
    "    \"\"\"Create 2D visualizations for the hyperparameter tuning results without WebGL dependency.\"\"\"\n",
    "    import matplotlib.pyplot as plt\n",
    "    import seaborn as sns\n",
    "    \n",
    "    # Remove the model and topics columns for plotting\n",
    "    plot_df = results_df.drop(['model', 'topics', 'probs'], axis=1)\n",
    "    \n",
    "    # Create a figure with multiple subplots\n",
    "    fig, axes = plt.subplots(2, 2, figsize=(15, 15))\n",
    "    fig.suptitle('Topic Model Configurations Analysis', fontsize=16)\n",
    "    \n",
    "    # 1. Scatter plot: Topic Coherence vs Number of Topics\n",
    "    sns.scatterplot(\n",
    "        data=plot_df,\n",
    "        x='number_of_topics',\n",
    "        y='topic_coherence',\n",
    "        size='docs_without_topic',\n",
    "        hue='topic_diversity',\n",
    "        ax=axes[0,0]\n",
    "    )\n",
    "    axes[0,0].set_title('Topic Coherence vs Number of Topics')\n",
    "    \n",
    "    # 2. Heatmap of correlation between numeric parameters\n",
    "    numeric_cols = ['number_of_topics', 'topic_coherence', 'interpretability', 'topic_diversity', \n",
    "                   'docs_without_topic', 'umap_min_dist', 'hdbscan_min_cluster_size']\n",
    "    correlation = plot_df[numeric_cols].corr()\n",
    "    sns.heatmap(correlation, annot=True, cmap='coolwarm', ax=axes[0,1])\n",
    "    axes[0,1].set_title('Correlation between Metrics')\n",
    "    \n",
    "    # 3. Box plots for key metrics across different HDBSCAN settings\n",
    "    sns.boxplot(\n",
    "        data=plot_df,\n",
    "        x='hdbscan_min_cluster_size',\n",
    "        y='topic_coherence',\n",
    "        ax=axes[1,0]\n",
    "    )\n",
    "    axes[1,0].set_title('Topic Coherence by Min Cluster Size')\n",
    "    \n",
    "    # 4. Box plots for key metrics across different HDBSCAN settings\n",
    "    sns.boxplot(\n",
    "        data=plot_df,\n",
    "        x='hdbscan_min_cluster_size',\n",
    "        y='interpretability',\n",
    "        ax=axes[1,0]\n",
    "    )\n",
    "    axes[1,0].set_title('interpretability by Min Cluster Size')\n",
    "    \n",
    "    # 5. Box plots for key metrics across different HDBSCAN settings\n",
    "    sns.boxplot(\n",
    "        data=plot_df,\n",
    "        x='interpretability',\n",
    "        y='number_of_topics',\n",
    "        ax=axes[1,0]\n",
    "    )\n",
    "    axes[1,0].set_title('interpretability by Min Cluster Size')\n",
    "    \n",
    "    \n",
    "    \n",
    "    # 6. Distribution of number of topics\n",
    "    sns.histplot(\n",
    "        data=plot_df,\n",
    "        x='number_of_topics',\n",
    "        bins=20,\n",
    "        ax=axes[1,1]\n",
    "    )\n",
    "    axes[1,1].set_title('Distribution of Number of Topics')\n",
    "    \n",
    "    plt.tight_layout()\n",
    "    return fig\n",
    "\n",
    "def plot_metric_relationships(results_df):\n",
    "    \"\"\"Create additional 2D plots focusing on relationships between metrics.\"\"\"\n",
    "    import matplotlib.pyplot as plt\n",
    "    import seaborn as sns\n",
    "    \n",
    "    # Remove the model and topics columns for plotting\n",
    "    plot_df = results_df.drop(['model', 'topics', 'probs'], axis=1)\n",
    "    \n",
    "    # Create a figure with multiple subplots\n",
    "    fig, axes = plt.subplots(3, 3, figsize=(15, 15))\n",
    "    fig.suptitle('Metric Relationships Analysis', fontsize=16)\n",
    "    \n",
    "    # 1. Topic Diversity vs Topic Coherence\n",
    "    sns.scatterplot(\n",
    "        data=plot_df,\n",
    "        x='topic_diversity',\n",
    "        y='topic_coherence',\n",
    "        size='number_of_topics',\n",
    "        hue='docs_without_topic',\n",
    "        ax=axes[0,0]\n",
    "    )\n",
    "    axes[0,0].set_title('Topic Diversity vs Coherence')\n",
    "    \n",
    "    # 2. Documents without topic vs Number of topics\n",
    "    sns.scatterplot(\n",
    "        data=plot_df,\n",
    "        x='number_of_topics',\n",
    "        y='docs_without_topic',\n",
    "        hue='topic_coherence',\n",
    "        ax=axes[0,1]\n",
    "    )\n",
    "    axes[0,1].set_title('Documents without Topic vs Number of Topics')\n",
    "    \n",
    "    # 3. UMAP parameters effect\n",
    "    sns.boxplot(\n",
    "        data=plot_df,\n",
    "        x='umap_n_neighbors',\n",
    "        y='topic_coherence',\n",
    "        ax=axes[1,0]\n",
    "    )\n",
    "    axes[1,0].set_title('Topic Coherence by UMAP Neighbors')\n",
    "    \n",
    "    # 4. Topic diversity distribution\n",
    "    sns.histplot(\n",
    "        data=plot_df,\n",
    "        x='topic_diversity',\n",
    "        bins=20,\n",
    "        ax=axes[1,1]\n",
    "    )\n",
    "    axes[1,1].set_title('Distribution of Topic Diversity')\n",
    "    \n",
    "    plt.tight_layout()\n",
    "    \n",
    "    # 5. Topic coherence distribution\n",
    "    sns.histplot(\n",
    "        data=plot_df,\n",
    "        x='topic_coherence',\n",
    "        bins=20,\n",
    "        ax=axes[1,2]\n",
    "    )\n",
    "    axes[1,1].set_title('Distribution of Topic Coherence')\n",
    "    \n",
    "    plt.tight_layout()\n",
    "    \n",
    "    # 5. Topic coherence distribution\n",
    "    sns.histplot(\n",
    "        data=plot_df,\n",
    "        x='interpretability',\n",
    "        bins=20,\n",
    "        ax=axes[2,2]\n",
    "    )\n",
    "    axes[1,1].set_title('Distribution of interpretability (diversity * coherence)')\n",
    "    \n",
    "    # 5. Topic coherence distribution\n",
    "    sns.scatterplot(\n",
    "        data=plot_df,\n",
    "        x='interpretability',\n",
    "        y='number_of_topics',\n",
    "        ax=axes[2,1]\n",
    "    )\n",
    "    axes[1,1].set_title('Interpretability vs number of topics')\n",
    "    \n",
    "    plt.tight_layout()\n",
    "    \n",
    "    \n",
    "    return fig\n",
    "\n",
    "def create_summary_table(results_df, n_best=5):\n",
    "    \"\"\"Create a formatted summary table of the best configurations.\"\"\"\n",
    "    best_models = find_best_models(results_df, n_best)\n",
    "    \n",
    "    summary_df = best_models[[\n",
    "        'composite_score',\n",
    "        'number_of_topics',\n",
    "        'topic_coherence',\n",
    "        'topic_diversity',\n",
    "        'docs_without_topic',\n",
    "        'umap_min_dist',\n",
    "        'umap_n_neighbors',\n",
    "        'hdbscan_min_cluster_size'\n",
    "    ]].round(3)\n",
    "    \n",
    "    # Create a more readable table format\n",
    "    import matplotlib.pyplot as plt\n",
    "    \n",
    "    fig, ax = plt.subplots(figsize=(12, n_best/2 + 1))\n",
    "    ax.axis('tight')\n",
    "    ax.axis('off')\n",
    "    \n",
    "    table = ax.table(\n",
    "        cellText=summary_df.values,\n",
    "        colLabels=summary_df.columns,\n",
    "        cellLoc='center',\n",
    "        loc='center'\n",
    "    )\n",
    "    \n",
    "    # Adjust table properties\n",
    "    table.auto_set_font_size(False)\n",
    "    table.set_fontsize(9)\n",
    "    table.scale(1.2, 1.5)\n",
    "    \n",
    "    plt.title('Best Model Configurations')\n",
    "    plt.tight_layout()\n",
    "    \n",
    "    return fig\n",
    "\n",
    "# Example usage:\n",
    "# results_df = run_hyperparameter_tuning(df_news, max_combinations=50)\n",
    "# \n",
    "# # Create main visualization plots\n",
    "fig1 = plot_results_2d(results_df)\n",
    "fig2 = plot_metric_relationships(results_df)\n",
    "# \n",
    "# # Create summary table\n",
    "fig3 = create_summary_table(results_df)\n",
    "# \n",
    "# # Show all plots\n",
    "plt.show()"
   ],
   "id": "2d233a370eafb869",
   "outputs": [
    {
     "data": {
      "text/plain": [
       "<Figure size 1500x1500 with 5 Axes>"
      ],
      "image/png": "[encoded data removed]"
     },
     "metadata": {},
     "output_type": "display_data"
    },
    {
     "data": {
      "text/plain": [
       "<Figure size 1500x1500 with 9 Axes>"
      ],
      "image/png": "[encoded data removed]"
     },
     "metadata": {},
     "output_type": "display_data"
    },
    {
     "data": {
      "text/plain": [
       "<Figure size 1200x350 with 1 Axes>"
      ],
      "image/png": "[encoded data removed]"
     },
     "metadata": {},
     "output_type": "display_data"
    }
   ],
   "execution_count": 20
  },
  {
   "metadata": {},
   "cell_type": "markdown",
   "source": [
    "# Final model hyperparameters chosen\n",
    "\n",
    "below is a table with each of the evaluated top performers of the BERTopic hyperparameter tuning process"
   ],
   "id": "aa3e62d03705fd56"
  },
  {
   "metadata": {
    "ExecuteTime": {
     "end_time": "2024-11-06T22:05:29.921623Z",
     "start_time": "2024-11-06T22:05:29.892622Z"
    }
   },
   "cell_type": "code",
   "source": [
    "results_df = pd.read_csv(\"results_hyperparameters.csv\")\n",
    "results_df = results_df.fillna(0)\n",
    "results_df[results_df[\"iteration\"].isin([5, 7, 100, 170, 173, 177, 200, 203])].round(decimals=3).drop([\"embedding_model\",  \"umap_spread\", \"nr_topics_setting\", \"reduce_frequent_words\", \"model\", \"topics\", \"probs\", \"vectorizer_min_df\"], axis=1)\n"
   ],
   "id": "a5c30c203a2600d1",
   "outputs": [
    {
     "data": {
      "text/plain": [
       "     Unnamed: 0  iteration  umap_min_dist  umap_n_neighbors  \\\n",
       "4             4          5           0.00                10   \n",
       "6             6          7           0.00                10   \n",
       "99           99        100           0.05                15   \n",
       "169         169        170           0.10                15   \n",
       "172         172        173           0.10                15   \n",
       "176         176        177           0.10                15   \n",
       "199         199        200           0.10                20   \n",
       "202         202        203           0.10                20   \n",
       "\n",
       "     hdbscan_min_cluster_size  hdbscan_min_samples vectorizer_ngram_range  \\\n",
       "4                           5                 10.0                 (1, 1)   \n",
       "6                          10                  0.0                 (1, 1)   \n",
       "99                          5                  5.0                 (1, 2)   \n",
       "169                         5                  0.0                 (1, 2)   \n",
       "172                         5                 10.0                 (1, 1)   \n",
       "176                        10                  5.0                 (1, 1)   \n",
       "199                        10                  0.0                 (1, 2)   \n",
       "202                        10                 10.0                 (1, 1)   \n",
       "\n",
       "     number_of_topics  docs_without_topic  topic_diversity  topic_coherence  \\\n",
       "4                  27                 908            0.842            0.644   \n",
       "6                  16                 928            0.847            0.622   \n",
       "99                 42                 929            0.961            0.518   \n",
       "169                30                 775            0.955            0.535   \n",
       "172                15                1142            0.843            0.616   \n",
       "176                21                1000            0.845            0.602   \n",
       "199                28                1119            0.937            0.547   \n",
       "202                 8                 958            0.900            0.644   \n",
       "\n",
       "     interpretability  \n",
       "4               0.543  \n",
       "6               0.527  \n",
       "99              0.498  \n",
       "169             0.511  \n",
       "172             0.519  \n",
       "176             0.509  \n",
       "199             0.513  \n",
       "202             0.580  "
      ],
      "text/html": [
       "<div>\n",
       "<style scoped>\n",
       "    .dataframe tbody tr th:only-of-type {\n",
       "        vertical-align: middle;\n",
       "    }\n",
       "\n",
       "    .dataframe tbody tr th {\n",
       "        vertical-align: top;\n",
       "    }\n",
       "\n",
       "    .dataframe thead th {\n",
       "        text-align: right;\n",
       "    }\n",
       "</style>\n",
       "<table border=\"1\" class=\"dataframe\">\n",
       "  <thead>\n",
       "    <tr style=\"text-align: right;\">\n",
       "      <th></th>\n",
       "      <th>Unnamed: 0</th>\n",
       "      <th>iteration</th>\n",
       "      <th>umap_min_dist</th>\n",
       "      <th>umap_n_neighbors</th>\n",
       "      <th>hdbscan_min_cluster_size</th>\n",
       "      <th>hdbscan_min_samples</th>\n",
       "      <th>vectorizer_ngram_range</th>\n",
       "      <th>number_of_topics</th>\n",
       "      <th>docs_without_topic</th>\n",
       "      <th>topic_diversity</th>\n",
       "      <th>topic_coherence</th>\n",
       "      <th>interpretability</th>\n",
       "    </tr>\n",
       "  </thead>\n",
       "  <tbody>\n",
       "    <tr>\n",
       "      <th>4</th>\n",
       "      <td>4</td>\n",
       "      <td>5</td>\n",
       "      <td>0.00</td>\n",
       "      <td>10</td>\n",
       "      <td>5</td>\n",
       "      <td>10.0</td>\n",
       "      <td>(1, 1)</td>\n",
       "      <td>27</td>\n",
       "      <td>908</td>\n",
       "      <td>0.842</td>\n",
       "      <td>0.644</td>\n",
       "      <td>0.543</td>\n",
       "    </tr>\n",
       "    <tr>\n",
       "      <th>6</th>\n",
       "      <td>6</td>\n",
       "      <td>7</td>\n",
       "      <td>0.00</td>\n",
       "      <td>10</td>\n",
       "      <td>10</td>\n",
       "      <td>0.0</td>\n",
       "      <td>(1, 1)</td>\n",
       "      <td>16</td>\n",
       "      <td>928</td>\n",
       "      <td>0.847</td>\n",
       "      <td>0.622</td>\n",
       "      <td>0.527</td>\n",
       "    </tr>\n",
       "    <tr>\n",
       "      <th>99</th>\n",
       "      <td>99</td>\n",
       "      <td>100</td>\n",
       "      <td>0.05</td>\n",
       "      <td>15</td>\n",
       "      <td>5</td>\n",
       "      <td>5.0</td>\n",
       "      <td>(1, 2)</td>\n",
       "      <td>42</td>\n",
       "      <td>929</td>\n",
       "      <td>0.961</td>\n",
       "      <td>0.518</td>\n",
       "      <td>0.498</td>\n",
       "    </tr>\n",
       "    <tr>\n",
       "      <th>169</th>\n",
       "      <td>169</td>\n",
       "      <td>170</td>\n",
       "      <td>0.10</td>\n",
       "      <td>15</td>\n",
       "      <td>5</td>\n",
       "      <td>0.0</td>\n",
       "      <td>(1, 2)</td>\n",
       "      <td>30</td>\n",
       "      <td>775</td>\n",
       "      <td>0.955</td>\n",
       "      <td>0.535</td>\n",
       "      <td>0.511</td>\n",
       "    </tr>\n",
       "    <tr>\n",
       "      <th>172</th>\n",
       "      <td>172</td>\n",
       "      <td>173</td>\n",
       "      <td>0.10</td>\n",
       "      <td>15</td>\n",
       "      <td>5</td>\n",
       "      <td>10.0</td>\n",
       "      <td>(1, 1)</td>\n",
       "      <td>15</td>\n",
       "      <td>1142</td>\n",
       "      <td>0.843</td>\n",
       "      <td>0.616</td>\n",
       "      <td>0.519</td>\n",
       "    </tr>\n",
       "    <tr>\n",
       "      <th>176</th>\n",
       "      <td>176</td>\n",
       "      <td>177</td>\n",
       "      <td>0.10</td>\n",
       "      <td>15</td>\n",
       "      <td>10</td>\n",
       "      <td>5.0</td>\n",
       "      <td>(1, 1)</td>\n",
       "      <td>21</td>\n",
       "      <td>1000</td>\n",
       "      <td>0.845</td>\n",
       "      <td>0.602</td>\n",
       "      <td>0.509</td>\n",
       "    </tr>\n",
       "    <tr>\n",
       "      <th>199</th>\n",
       "      <td>199</td>\n",
       "      <td>200</td>\n",
       "      <td>0.10</td>\n",
       "      <td>20</td>\n",
       "      <td>10</td>\n",
       "      <td>0.0</td>\n",
       "      <td>(1, 2)</td>\n",
       "      <td>28</td>\n",
       "      <td>1119</td>\n",
       "      <td>0.937</td>\n",
       "      <td>0.547</td>\n",
       "      <td>0.513</td>\n",
       "    </tr>\n",
       "    <tr>\n",
       "      <th>202</th>\n",
       "      <td>202</td>\n",
       "      <td>203</td>\n",
       "      <td>0.10</td>\n",
       "      <td>20</td>\n",
       "      <td>10</td>\n",
       "      <td>10.0</td>\n",
       "      <td>(1, 1)</td>\n",
       "      <td>8</td>\n",
       "      <td>958</td>\n",
       "      <td>0.900</td>\n",
       "      <td>0.644</td>\n",
       "      <td>0.580</td>\n",
       "    </tr>\n",
       "  </tbody>\n",
       "</table>\n",
       "</div>"
      ]
     },
     "execution_count": 42,
     "metadata": {},
     "output_type": "execute_result"
    }
   ],
   "execution_count": 42
  },
  {
   "metadata": {},
   "cell_type": "markdown",
   "source": "### The best performing set of hyperparameters",
   "id": "d2e354dbe1acfb17"
  },
  {
   "metadata": {
    "ExecuteTime": {
     "end_time": "2024-11-06T22:07:36.233238Z",
     "start_time": "2024-11-06T22:07:36.227499Z"
    }
   },
   "cell_type": "code",
   "source": "results_df[results_df[\"iteration\"] == 5]\n",
   "id": "2753361e27e8bf18",
   "outputs": [
    {
     "data": {
      "text/plain": [
       "   Unnamed: 0  iteration      embedding_model  umap_min_dist  \\\n",
       "4           4          5  SentenceTransformer            0.0   \n",
       "\n",
       "   umap_n_neighbors  umap_spread  hdbscan_min_cluster_size  \\\n",
       "4                10          1.0                         5   \n",
       "\n",
       "   hdbscan_min_samples vectorizer_ngram_range  vectorizer_min_df  \\\n",
       "4                 10.0                 (1, 1)                  1   \n",
       "\n",
       "   reduce_frequent_words nr_topics_setting  number_of_topics  \\\n",
       "4                   True              auto                27   \n",
       "\n",
       "   docs_without_topic  topic_diversity  topic_coherence  \\\n",
       "4                 908         0.842308         0.644381   \n",
       "\n",
       "                                               model  \\\n",
       "4  BERTopic(calculate_probabilities=False, ctfidf...   \n",
       "\n",
       "                                              topics  \\\n",
       "4  [0, -1, -1, -1, 0, 0, -1, 2, 2, 0, 0, -1, -1, ...   \n",
       "\n",
       "                                               probs  interpretability  \n",
       "4  [0.4121435 0.        0.        ... 1.        1...          0.542767  "
      ],
      "text/html": [
       "<div>\n",
       "<style scoped>\n",
       "    .dataframe tbody tr th:only-of-type {\n",
       "        vertical-align: middle;\n",
       "    }\n",
       "\n",
       "    .dataframe tbody tr th {\n",
       "        vertical-align: top;\n",
       "    }\n",
       "\n",
       "    .dataframe thead th {\n",
       "        text-align: right;\n",
       "    }\n",
       "</style>\n",
       "<table border=\"1\" class=\"dataframe\">\n",
       "  <thead>\n",
       "    <tr style=\"text-align: right;\">\n",
       "      <th></th>\n",
       "      <th>Unnamed: 0</th>\n",
       "      <th>iteration</th>\n",
       "      <th>embedding_model</th>\n",
       "      <th>umap_min_dist</th>\n",
       "      <th>umap_n_neighbors</th>\n",
       "      <th>umap_spread</th>\n",
       "      <th>hdbscan_min_cluster_size</th>\n",
       "      <th>hdbscan_min_samples</th>\n",
       "      <th>vectorizer_ngram_range</th>\n",
       "      <th>vectorizer_min_df</th>\n",
       "      <th>reduce_frequent_words</th>\n",
       "      <th>nr_topics_setting</th>\n",
       "      <th>number_of_topics</th>\n",
       "      <th>docs_without_topic</th>\n",
       "      <th>topic_diversity</th>\n",
       "      <th>topic_coherence</th>\n",
       "      <th>model</th>\n",
       "      <th>topics</th>\n",
       "      <th>probs</th>\n",
       "      <th>interpretability</th>\n",
       "    </tr>\n",
       "  </thead>\n",
       "  <tbody>\n",
       "    <tr>\n",
       "      <th>4</th>\n",
       "      <td>4</td>\n",
       "      <td>5</td>\n",
       "      <td>SentenceTransformer</td>\n",
       "      <td>0.0</td>\n",
       "      <td>10</td>\n",
       "      <td>1.0</td>\n",
       "      <td>5</td>\n",
       "      <td>10.0</td>\n",
       "      <td>(1, 1)</td>\n",
       "      <td>1</td>\n",
       "      <td>True</td>\n",
       "      <td>auto</td>\n",
       "      <td>27</td>\n",
       "      <td>908</td>\n",
       "      <td>0.842308</td>\n",
       "      <td>0.644381</td>\n",
       "      <td>BERTopic(calculate_probabilities=False, ctfidf...</td>\n",
       "      <td>[0, -1, -1, -1, 0, 0, -1, 2, 2, 0, 0, -1, -1, ...</td>\n",
       "      <td>[0.4121435 0.        0.        ... 1.        1...</td>\n",
       "      <td>0.542767</td>\n",
       "    </tr>\n",
       "  </tbody>\n",
       "</table>\n",
       "</div>"
      ]
     },
     "execution_count": 55,
     "metadata": {},
     "output_type": "execute_result"
    }
   ],
   "execution_count": 55
  },
  {
   "metadata": {},
   "cell_type": "markdown",
   "source": [
    "# Chatgpt representation\n",
    "\n",
    "For the chatgpt representation, we pick the best performing set of hyperparameters to replace the representation model with the ChatGPT version of it. Then we will experiment with different prompts.\n",
    "\n",
    "Let us first recreate the topics using the best found BERTopic hyperparameters. Then in later steps we replace the representation model with the one from OPENAI"
   ],
   "id": "224ae94e705d503c"
  },
  {
   "metadata": {
    "ExecuteTime": {
     "end_time": "2024-11-06T22:27:41.601534Z",
     "start_time": "2024-11-06T22:27:01.839852Z"
    }
   },
   "cell_type": "code",
   "source": [
    "custom_bert_parameters = {\n",
    "    \"language\": \"english\",\n",
    "    \"nr_topics\": 27,\n",
    "    \"document_embedding\": SentenceTransformer(\"all-MiniLM-L6-v2\"),\n",
    "    \"reduce_dimensionality\": UMAP(min_dist=0.00, n_neighbors=10),\n",
    "    \"clustering\": HDBSCAN(min_cluster_size=5, min_samples=10),\n",
    "    \"topic_tokenization\": CountVectorizer(stop_words=\"english\", ngram_range=(1, 1)),\n",
    "    \"topic_representation\": ClassTfidfTransformer(reduce_frequent_words=True),\n",
    "    \"representation_model\": KeyBERTInspired()#representation_model\n",
    "}\n",
    "topic_model_content, topics_numbers, probs_numbers = show_bertopic_evaluations(custom_bert_parameters, iteration=10000)\n",
    "topic_model_content.visualize_barchart()"
   ],
   "id": "87a604644d770c58",
   "outputs": [
    {
     "name": "stdout",
     "output_type": "stream",
     "text": [
      "iteration =  10000\n",
      "total number of topics =  27\n",
      "documents without a topic =  733\n"
     ]
    },
    {
     "data": {
      "application/vnd.plotly.v1+json": {
       "data": [
        {
         "marker": {
          "color": "#D55E00"
         },
         "orientation": "h",
         "x": [
          0.40139269828796387,
          0.46965357661247253,
          0.4720984697341919,
          0.47472134232521057,
          0.49996888637542725
         ],
         "y": [
          "companies  ",
          "stocks  ",
          "nyse  ",
          "stock  ",
          "nasdaq  "
         ],
         "type": "bar",
         "xaxis": "x",
         "yaxis": "y"
        },
        {
         "marker": {
          "color": "#0072B2"
         },
         "orientation": "h",
         "x": [
          0.34969574213027954,
          0.38608357310295105,
          0.38781458139419556,
          0.39436060190200806,
          0.41373488306999207
         ],
         "y": [
          "market  ",
          "stock  ",
          "markets  ",
          "dow  ",
          "stocks  "
         ],
         "type": "bar",
         "xaxis": "x2",
         "yaxis": "y2"
        },
        {
         "marker": {
          "color": "#CC79A7"
         },
         "orientation": "h",
         "x": [
          0.3921877145767212,
          0.39247459173202515,
          0.4064415693283081,
          0.41634565591812134,
          0.5092229843139648
         ],
         "y": [
          "gpus  ",
          "nvda  ",
          "earnings  ",
          "gpu  ",
          "nvidia  "
         ],
         "type": "bar",
         "xaxis": "x3",
         "yaxis": "y3"
        },
        {
         "marker": {
          "color": "#E69F00"
         },
         "orientation": "h",
         "x": [
          0.3652361035346985,
          0.44765380024909973,
          0.4539492130279541,
          0.45806923508644104,
          0.4655555784702301
         ],
         "y": [
          "shares  ",
          "stock  ",
          "nasdaq  ",
          "nvidia  ",
          "nvda  "
         ],
         "type": "bar",
         "xaxis": "x4",
         "yaxis": "y4"
        },
        {
         "marker": {
          "color": "#56B4E9"
         },
         "orientation": "h",
         "x": [
          0.42248767614364624,
          0.43075865507125854,
          0.457821249961853,
          0.49295151233673096,
          0.530488133430481
         ],
         "y": [
          "bmw  ",
          "uber  ",
          "automaker  ",
          "automotive  ",
          "automakers  "
         ],
         "type": "bar",
         "xaxis": "x5",
         "yaxis": "y5"
        },
        {
         "marker": {
          "color": "#009E73"
         },
         "orientation": "h",
         "x": [
          0.29221874475479126,
          0.3168463706970215,
          0.3321499824523926,
          0.3655247390270233,
          0.39267292618751526
         ],
         "y": [
          "traders  ",
          "investing  ",
          "trading  ",
          "weekly  ",
          "week  "
         ],
         "type": "bar",
         "xaxis": "x6",
         "yaxis": "y6"
        },
        {
         "marker": {
          "color": "#F0E442"
         },
         "orientation": "h",
         "x": [
          0.276060551404953,
          0.41171666979789734,
          0.43528372049331665,
          0.44218146800994873,
          0.5772143602371216
         ],
         "y": [
          "index  ",
          "shares  ",
          "nasdaq  ",
          "dow  ",
          "nyse  "
         ],
         "type": "bar",
         "xaxis": "x7",
         "yaxis": "y7"
        },
        {
         "marker": {
          "color": "#D55E00"
         },
         "orientation": "h",
         "x": [
          0.3381890058517456,
          0.3411604166030884,
          0.3583524227142334,
          0.44551515579223633,
          0.6083520650863647
         ],
         "y": [
          "quarterly  ",
          "securities  ",
          "revenues  ",
          "stocks  ",
          "earnings  "
         ],
         "type": "bar",
         "xaxis": "x8",
         "yaxis": "y8"
        }
       ],
       "layout": {
        "template": {
         "data": {
          "barpolar": [
           {
            "marker": {
             "line": {
              "color": "white",
              "width": 0.5
             },
             "pattern": {
              "fillmode": "overlay",
              "size": 10,
              "solidity": 0.2
             }
            },
            "type": "barpolar"
           }
          ],
          "bar": [
           {
            "error_x": {
             "color": "#2a3f5f"
            },
            "error_y": {
             "color": "#2a3f5f"
            },
            "marker": {
             "line": {
              "color": "white",
              "width": 0.5
             },
             "pattern": {
              "fillmode": "overlay",
              "size": 10,
              "solidity": 0.2
             }
            },
            "type": "bar"
           }
          ],
          "carpet": [
           {
            "aaxis": {
             "endlinecolor": "#2a3f5f",
             "gridcolor": "#C8D4E3",
             "linecolor": "#C8D4E3",
             "minorgridcolor": "#C8D4E3",
             "startlinecolor": "#2a3f5f"
            },
            "baxis": {
             "endlinecolor": "#2a3f5f",
             "gridcolor": "#C8D4E3",
             "linecolor": "#C8D4E3",
             "minorgridcolor": "#C8D4E3",
             "startlinecolor": "#2a3f5f"
            },
            "type": "carpet"
           }
          ],
          "choropleth": [
           {
            "colorbar": {
             "outlinewidth": 0,
             "ticks": ""
            },
            "type": "choropleth"
           }
          ],
          "contourcarpet": [
           {
            "colorbar": {
             "outlinewidth": 0,
             "ticks": ""
            },
            "type": "contourcarpet"
           }
          ],
          "contour": [
           {
            "colorbar": {
             "outlinewidth": 0,
             "ticks": ""
            },
            "colorscale": [
             [
              0.0,
              "#0d0887"
             ],
             [
              0.1111111111111111,
              "#46039f"
             ],
             [
              0.2222222222222222,
              "#7201a8"
             ],
             [
              0.3333333333333333,
              "#9c179e"
             ],
             [
              0.4444444444444444,
              "#bd3786"
             ],
             [
              0.5555555555555556,
              "#d8576b"
             ],
             [
              0.6666666666666666,
              "#ed7953"
             ],
             [
              0.7777777777777778,
              "#fb9f3a"
             ],
             [
              0.8888888888888888,
              "#fdca26"
             ],
             [
              1.0,
              "#f0f921"
             ]
            ],
            "type": "contour"
           }
          ],
          "heatmapgl": [
           {
            "colorbar": {
             "outlinewidth": 0,
             "ticks": ""
            },
            "colorscale": [
             [
              0.0,
              "#0d0887"
             ],
             [
              0.1111111111111111,
              "#46039f"
             ],
             [
              0.2222222222222222,
              "#7201a8"
             ],
             [
              0.3333333333333333,
              "#9c179e"
             ],
             [
              0.4444444444444444,
              "#bd3786"
             ],
             [
              0.5555555555555556,
              "#d8576b"
             ],
             [
              0.6666666666666666,
              "#ed7953"
             ],
             [
              0.7777777777777778,
              "#fb9f3a"
             ],
             [
              0.8888888888888888,
              "#fdca26"
             ],
             [
              1.0,
              "#f0f921"
             ]
            ],
            "type": "heatmapgl"
           }
          ],
          "heatmap": [
           {
            "colorbar": {
             "outlinewidth": 0,
             "ticks": ""
            },
            "colorscale": [
             [
              0.0,
              "#0d0887"
             ],
             [
              0.1111111111111111,
              "#46039f"
             ],
             [
              0.2222222222222222,
              "#7201a8"
             ],
             [
              0.3333333333333333,
              "#9c179e"
             ],
             [
              0.4444444444444444,
              "#bd3786"
             ],
             [
              0.5555555555555556,
              "#d8576b"
             ],
             [
              0.6666666666666666,
              "#ed7953"
             ],
             [
              0.7777777777777778,
              "#fb9f3a"
             ],
             [
              0.8888888888888888,
              "#fdca26"
             ],
             [
              1.0,
              "#f0f921"
             ]
            ],
            "type": "heatmap"
           }
          ],
          "histogram2dcontour": [
           {
            "colorbar": {
             "outlinewidth": 0,
             "ticks": ""
            },
            "colorscale": [
             [
              0.0,
              "#0d0887"
             ],
             [
              0.1111111111111111,
              "#46039f"
             ],
             [
              0.2222222222222222,
              "#7201a8"
             ],
             [
              0.3333333333333333,
              "#9c179e"
             ],
             [
              0.4444444444444444,
              "#bd3786"
             ],
             [
              0.5555555555555556,
              "#d8576b"
             ],
             [
              0.6666666666666666,
              "#ed7953"
             ],
             [
              0.7777777777777778,
              "#fb9f3a"
             ],
             [
              0.8888888888888888,
              "#fdca26"
             ],
             [
              1.0,
              "#f0f921"
             ]
            ],
            "type": "histogram2dcontour"
           }
          ],
          "histogram2d": [
           {
            "colorbar": {
             "outlinewidth": 0,
             "ticks": ""
            },
            "colorscale": [
             [
              0.0,
              "#0d0887"
             ],
             [
              0.1111111111111111,
              "#46039f"
             ],
             [
              0.2222222222222222,
              "#7201a8"
             ],
             [
              0.3333333333333333,
              "#9c179e"
             ],
             [
              0.4444444444444444,
              "#bd3786"
             ],
             [
              0.5555555555555556,
              "#d8576b"
             ],
             [
              0.6666666666666666,
              "#ed7953"
             ],
             [
              0.7777777777777778,
              "#fb9f3a"
             ],
             [
              0.8888888888888888,
              "#fdca26"
             ],
             [
              1.0,
              "#f0f921"
             ]
            ],
            "type": "histogram2d"
           }
          ],
          "histogram": [
           {
            "marker": {
             "pattern": {
              "fillmode": "overlay",
              "size": 10,
              "solidity": 0.2
             }
            },
            "type": "histogram"
           }
          ],
          "mesh3d": [
           {
            "colorbar": {
             "outlinewidth": 0,
             "ticks": ""
            },
            "type": "mesh3d"
           }
          ],
          "parcoords": [
           {
            "line": {
             "colorbar": {
              "outlinewidth": 0,
              "ticks": ""
             }
            },
            "type": "parcoords"
           }
          ],
          "pie": [
           {
            "automargin": true,
            "type": "pie"
           }
          ],
          "scatter3d": [
           {
            "line": {
             "colorbar": {
              "outlinewidth": 0,
              "ticks": ""
             }
            },
            "marker": {
             "colorbar": {
              "outlinewidth": 0,
              "ticks": ""
             }
            },
            "type": "scatter3d"
           }
          ],
          "scattercarpet": [
           {
            "marker": {
             "colorbar": {
              "outlinewidth": 0,
              "ticks": ""
             }
            },
            "type": "scattercarpet"
           }
          ],
          "scattergeo": [
           {
            "marker": {
             "colorbar": {
              "outlinewidth": 0,
              "ticks": ""
             }
            },
            "type": "scattergeo"
           }
          ],
          "scattergl": [
           {
            "marker": {
             "colorbar": {
              "outlinewidth": 0,
              "ticks": ""
             }
            },
            "type": "scattergl"
           }
          ],
          "scattermapbox": [
           {
            "marker": {
             "colorbar": {
              "outlinewidth": 0,
              "ticks": ""
             }
            },
            "type": "scattermapbox"
           }
          ],
          "scatterpolargl": [
           {
            "marker": {
             "colorbar": {
              "outlinewidth": 0,
              "ticks": ""
             }
            },
            "type": "scatterpolargl"
           }
          ],
          "scatterpolar": [
           {
            "marker": {
             "colorbar": {
              "outlinewidth": 0,
              "ticks": ""
             }
            },
            "type": "scatterpolar"
           }
          ],
          "scatter": [
           {
            "fillpattern": {
             "fillmode": "overlay",
             "size": 10,
             "solidity": 0.2
            },
            "type": "scatter"
           }
          ],
          "scatterternary": [
           {
            "marker": {
             "colorbar": {
              "outlinewidth": 0,
              "ticks": ""
             }
            },
            "type": "scatterternary"
           }
          ],
          "surface": [
           {
            "colorbar": {
             "outlinewidth": 0,
             "ticks": ""
            },
            "colorscale": [
             [
              0.0,
              "#0d0887"
             ],
             [
              0.1111111111111111,
              "#46039f"
             ],
             [
              0.2222222222222222,
              "#7201a8"
             ],
             [
              0.3333333333333333,
              "#9c179e"
             ],
             [
              0.4444444444444444,
              "#bd3786"
             ],
             [
              0.5555555555555556,
              "#d8576b"
             ],
             [
              0.6666666666666666,
              "#ed7953"
             ],
             [
              0.7777777777777778,
              "#fb9f3a"
             ],
             [
              0.8888888888888888,
              "#fdca26"
             ],
             [
              1.0,
              "#f0f921"
             ]
            ],
            "type": "surface"
           }
          ],
          "table": [
           {
            "cells": {
             "fill": {
              "color": "#EBF0F8"
             },
             "line": {
              "color": "white"
             }
            },
            "header": {
             "fill": {
              "color": "#C8D4E3"
             },
             "line": {
              "color": "white"
             }
            },
            "type": "table"
           }
          ]
         },
         "layout": {
          "annotationdefaults": {
           "arrowcolor": "#2a3f5f",
           "arrowhead": 0,
           "arrowwidth": 1
          },
          "autotypenumbers": "strict",
          "coloraxis": {
           "colorbar": {
            "outlinewidth": 0,
            "ticks": ""
           }
          },
          "colorscale": {
           "diverging": [
            [
             0,
             "#8e0152"
            ],
            [
             0.1,
             "#c51b7d"
            ],
            [
             0.2,
             "#de77ae"
            ],
            [
             0.3,
             "#f1b6da"
            ],
            [
             0.4,
             "#fde0ef"
            ],
            [
             0.5,
             "#f7f7f7"
            ],
            [
             0.6,
             "#e6f5d0"
            ],
            [
             0.7,
             "#b8e186"
            ],
            [
             0.8,
             "#7fbc41"
            ],
            [
             0.9,
             "#4d9221"
            ],
            [
             1,
             "#276419"
            ]
           ],
           "sequential": [
            [
             0.0,
             "#0d0887"
            ],
            [
             0.1111111111111111,
             "#46039f"
            ],
            [
             0.2222222222222222,
             "#7201a8"
            ],
            [
             0.3333333333333333,
             "#9c179e"
            ],
            [
             0.4444444444444444,
             "#bd3786"
            ],
            [
             0.5555555555555556,
             "#d8576b"
            ],
            [
             0.6666666666666666,
             "#ed7953"
            ],
            [
             0.7777777777777778,
             "#fb9f3a"
            ],
            [
             0.8888888888888888,
             "#fdca26"
            ],
            [
             1.0,
             "#f0f921"
            ]
           ],
           "sequentialminus": [
            [
             0.0,
             "#0d0887"
            ],
            [
             0.1111111111111111,
             "#46039f"
            ],
            [
             0.2222222222222222,
             "#7201a8"
            ],
            [
             0.3333333333333333,
             "#9c179e"
            ],
            [
             0.4444444444444444,
             "#bd3786"
            ],
            [
             0.5555555555555556,
             "#d8576b"
            ],
            [
             0.6666666666666666,
             "#ed7953"
            ],
            [
             0.7777777777777778,
             "#fb9f3a"
            ],
            [
             0.8888888888888888,
             "#fdca26"
            ],
            [
             1.0,
             "#f0f921"
            ]
           ]
          },
          "colorway": [
           "#636efa",
           "#EF553B",
           "#00cc96",
           "#ab63fa",
           "#FFA15A",
           "#19d3f3",
           "#FF6692",
           "#B6E880",
           "#FF97FF",
           "#FECB52"
          ],
          "font": {
           "color": "#2a3f5f"
          },
          "geo": {
           "bgcolor": "white",
           "lakecolor": "white",
           "landcolor": "white",
           "showlakes": true,
           "showland": true,
           "subunitcolor": "#C8D4E3"
          },
          "hoverlabel": {
           "align": "left"
          },
          "hovermode": "closest",
          "mapbox": {
           "style": "light"
          },
          "paper_bgcolor": "white",
          "plot_bgcolor": "white",
          "polar": {
           "angularaxis": {
            "gridcolor": "#EBF0F8",
            "linecolor": "#EBF0F8",
            "ticks": ""
           },
           "bgcolor": "white",
           "radialaxis": {
            "gridcolor": "#EBF0F8",
            "linecolor": "#EBF0F8",
            "ticks": ""
           }
          },
          "scene": {
           "xaxis": {
            "backgroundcolor": "white",
            "gridcolor": "#DFE8F3",
            "gridwidth": 2,
            "linecolor": "#EBF0F8",
            "showbackground": true,
            "ticks": "",
            "zerolinecolor": "#EBF0F8"
           },
           "yaxis": {
            "backgroundcolor": "white",
            "gridcolor": "#DFE8F3",
            "gridwidth": 2,
            "linecolor": "#EBF0F8",
            "showbackground": true,
            "ticks": "",
            "zerolinecolor": "#EBF0F8"
           },
           "zaxis": {
            "backgroundcolor": "white",
            "gridcolor": "#DFE8F3",
            "gridwidth": 2,
            "linecolor": "#EBF0F8",
            "showbackground": true,
            "ticks": "",
            "zerolinecolor": "#EBF0F8"
           }
          },
          "shapedefaults": {
           "line": {
            "color": "#2a3f5f"
           }
          },
          "ternary": {
           "aaxis": {
            "gridcolor": "#DFE8F3",
            "linecolor": "#A2B1C6",
            "ticks": ""
           },
           "baxis": {
            "gridcolor": "#DFE8F3",
            "linecolor": "#A2B1C6",
            "ticks": ""
           },
           "bgcolor": "white",
           "caxis": {
            "gridcolor": "#DFE8F3",
            "linecolor": "#A2B1C6",
            "ticks": ""
           }
          },
          "title": {
           "x": 0.05
          },
          "xaxis": {
           "automargin": true,
           "gridcolor": "#EBF0F8",
           "linecolor": "#EBF0F8",
           "ticks": "",
           "title": {
            "standoff": 15
           },
           "zerolinecolor": "#EBF0F8",
           "zerolinewidth": 2
          },
          "yaxis": {
           "automargin": true,
           "gridcolor": "#EBF0F8",
           "linecolor": "#EBF0F8",
           "ticks": "",
           "title": {
            "standoff": 15
           },
           "zerolinecolor": "#EBF0F8",
           "zerolinewidth": 2
          }
         }
        },
        "xaxis": {
         "anchor": "y",
         "domain": [
          0.0,
          0.175
         ],
         "showgrid": true
        },
        "yaxis": {
         "anchor": "x",
         "domain": [
          0.6000000000000001,
          1.0
         ],
         "showgrid": true
        },
        "xaxis2": {
         "anchor": "y2",
         "domain": [
          0.275,
          0.45
         ],
         "showgrid": true
        },
        "yaxis2": {
         "anchor": "x2",
         "domain": [
          0.6000000000000001,
          1.0
         ],
         "showgrid": true
        },
        "xaxis3": {
         "anchor": "y3",
         "domain": [
          0.55,
          0.7250000000000001
         ],
         "showgrid": true
        },
        "yaxis3": {
         "anchor": "x3",
         "domain": [
          0.6000000000000001,
          1.0
         ],
         "showgrid": true
        },
        "xaxis4": {
         "anchor": "y4",
         "domain": [
          0.825,
          1.0
         ],
         "showgrid": true
        },
        "yaxis4": {
         "anchor": "x4",
         "domain": [
          0.6000000000000001,
          1.0
         ],
         "showgrid": true
        },
        "xaxis5": {
         "anchor": "y5",
         "domain": [
          0.0,
          0.175
         ],
         "showgrid": true
        },
        "yaxis5": {
         "anchor": "x5",
         "domain": [
          0.0,
          0.4
         ],
         "showgrid": true
        },
        "xaxis6": {
         "anchor": "y6",
         "domain": [
          0.275,
          0.45
         ],
         "showgrid": true
        },
        "yaxis6": {
         "anchor": "x6",
         "domain": [
          0.0,
          0.4
         ],
         "showgrid": true
        },
        "xaxis7": {
         "anchor": "y7",
         "domain": [
          0.55,
          0.7250000000000001
         ],
         "showgrid": true
        },
        "yaxis7": {
         "anchor": "x7",
         "domain": [
          0.0,
          0.4
         ],
         "showgrid": true
        },
        "xaxis8": {
         "anchor": "y8",
         "domain": [
          0.825,
          1.0
         ],
         "showgrid": true
        },
        "yaxis8": {
         "anchor": "x8",
         "domain": [
          0.0,
          0.4
         ],
         "showgrid": true
        },
        "annotations": [
         {
          "font": {
           "size": 16
          },
          "showarrow": false,
          "text": "Topic 0",
          "x": 0.0875,
          "xanchor": "center",
          "xref": "paper",
          "y": 1.0,
          "yanchor": "bottom",
          "yref": "paper"
         },
         {
          "font": {
           "size": 16
          },
          "showarrow": false,
          "text": "Topic 1",
          "x": 0.36250000000000004,
          "xanchor": "center",
          "xref": "paper",
          "y": 1.0,
          "yanchor": "bottom",
          "yref": "paper"
         },
         {
          "font": {
           "size": 16
          },
          "showarrow": false,
          "text": "Topic 2",
          "x": 0.6375000000000001,
          "xanchor": "center",
          "xref": "paper",
          "y": 1.0,
          "yanchor": "bottom",
          "yref": "paper"
         },
         {
          "font": {
           "size": 16
          },
          "showarrow": false,
          "text": "Topic 3",
          "x": 0.9125,
          "xanchor": "center",
          "xref": "paper",
          "y": 1.0,
          "yanchor": "bottom",
          "yref": "paper"
         },
         {
          "font": {
           "size": 16
          },
          "showarrow": false,
          "text": "Topic 4",
          "x": 0.0875,
          "xanchor": "center",
          "xref": "paper",
          "y": 0.4,
          "yanchor": "bottom",
          "yref": "paper"
         },
         {
          "font": {
           "size": 16
          },
          "showarrow": false,
          "text": "Topic 5",
          "x": 0.36250000000000004,
          "xanchor": "center",
          "xref": "paper",
          "y": 0.4,
          "yanchor": "bottom",
          "yref": "paper"
         },
         {
          "font": {
           "size": 16
          },
          "showarrow": false,
          "text": "Topic 6",
          "x": 0.6375000000000001,
          "xanchor": "center",
          "xref": "paper",
          "y": 0.4,
          "yanchor": "bottom",
          "yref": "paper"
         },
         {
          "font": {
           "size": 16
          },
          "showarrow": false,
          "text": "Topic 7",
          "x": 0.9125,
          "xanchor": "center",
          "xref": "paper",
          "y": 0.4,
          "yanchor": "bottom",
          "yref": "paper"
         }
        ],
        "title": {
         "font": {
          "size": 22,
          "color": "Black"
         },
         "text": "Topic Word Scores",
         "x": 0.5,
         "xanchor": "center",
         "yanchor": "top"
        },
        "hoverlabel": {
         "font": {
          "size": 16,
          "family": "Rockwell"
         },
         "bgcolor": "white"
        },
        "showlegend": false,
        "width": 1000,
        "height": 500
       },
       "config": {
        "plotlyServerURL": "https://plot.ly"
       }
      },
      "text/html": [
       "<div>                            <div id=\"38cd12d2-87b4-4762-ba39-5cdc714e544b\" class=\"plotly-graph-div\" style=\"height:500px; width:1000px;\"></div>            <script type=\"text/javascript\">                require([\"plotly\"], function(Plotly) {                    window.PLOTLYENV=window.PLOTLYENV || {};                                    if (document.getElementById(\"38cd12d2-87b4-4762-ba39-5cdc714e544b\")) {                    Plotly.newPlot(                        \"38cd12d2-87b4-4762-ba39-5cdc714e544b\",                        [{\"marker\":{\"color\":\"#D55E00\"},\"orientation\":\"h\",\"x\":[0.40139269828796387,0.46965357661247253,0.4720984697341919,0.47472134232521057,0.49996888637542725],\"y\":[\"companies  \",\"stocks  \",\"nyse  \",\"stock  \",\"nasdaq  \"],\"type\":\"bar\",\"xaxis\":\"x\",\"yaxis\":\"y\"},{\"marker\":{\"color\":\"#0072B2\"},\"orientation\":\"h\",\"x\":[0.34969574213027954,0.38608357310295105,0.38781458139419556,0.39436060190200806,0.41373488306999207],\"y\":[\"market  \",\"stock  \",\"markets  \",\"dow  \",\"stocks  \"],\"type\":\"bar\",\"xaxis\":\"x2\",\"yaxis\":\"y2\"},{\"marker\":{\"color\":\"#CC79A7\"},\"orientation\":\"h\",\"x\":[0.3921877145767212,0.39247459173202515,0.4064415693283081,0.41634565591812134,0.5092229843139648],\"y\":[\"gpus  \",\"nvda  \",\"earnings  \",\"gpu  \",\"nvidia  \"],\"type\":\"bar\",\"xaxis\":\"x3\",\"yaxis\":\"y3\"},{\"marker\":{\"color\":\"#E69F00\"},\"orientation\":\"h\",\"x\":[0.3652361035346985,0.44765380024909973,0.4539492130279541,0.45806923508644104,0.4655555784702301],\"y\":[\"shares  \",\"stock  \",\"nasdaq  \",\"nvidia  \",\"nvda  \"],\"type\":\"bar\",\"xaxis\":\"x4\",\"yaxis\":\"y4\"},{\"marker\":{\"color\":\"#56B4E9\"},\"orientation\":\"h\",\"x\":[0.42248767614364624,0.43075865507125854,0.457821249961853,0.49295151233673096,0.530488133430481],\"y\":[\"bmw  \",\"uber  \",\"automaker  \",\"automotive  \",\"automakers  \"],\"type\":\"bar\",\"xaxis\":\"x5\",\"yaxis\":\"y5\"},{\"marker\":{\"color\":\"#009E73\"},\"orientation\":\"h\",\"x\":[0.29221874475479126,0.3168463706970215,0.3321499824523926,0.3655247390270233,0.39267292618751526],\"y\":[\"traders  \",\"investing  \",\"trading  \",\"weekly  \",\"week  \"],\"type\":\"bar\",\"xaxis\":\"x6\",\"yaxis\":\"y6\"},{\"marker\":{\"color\":\"#F0E442\"},\"orientation\":\"h\",\"x\":[0.276060551404953,0.41171666979789734,0.43528372049331665,0.44218146800994873,0.5772143602371216],\"y\":[\"index  \",\"shares  \",\"nasdaq  \",\"dow  \",\"nyse  \"],\"type\":\"bar\",\"xaxis\":\"x7\",\"yaxis\":\"y7\"},{\"marker\":{\"color\":\"#D55E00\"},\"orientation\":\"h\",\"x\":[0.3381890058517456,0.3411604166030884,0.3583524227142334,0.44551515579223633,0.6083520650863647],\"y\":[\"quarterly  \",\"securities  \",\"revenues  \",\"stocks  \",\"earnings  \"],\"type\":\"bar\",\"xaxis\":\"x8\",\"yaxis\":\"y8\"}],                        {\"template\":{\"data\":{\"barpolar\":[{\"marker\":{\"line\":{\"color\":\"white\",\"width\":0.5},\"pattern\":{\"fillmode\":\"overlay\",\"size\":10,\"solidity\":0.2}},\"type\":\"barpolar\"}],\"bar\":[{\"error_x\":{\"color\":\"#2a3f5f\"},\"error_y\":{\"color\":\"#2a3f5f\"},\"marker\":{\"line\":{\"color\":\"white\",\"width\":0.5},\"pattern\":{\"fillmode\":\"overlay\",\"size\":10,\"solidity\":0.2}},\"type\":\"bar\"}],\"carpet\":[{\"aaxis\":{\"endlinecolor\":\"#2a3f5f\",\"gridcolor\":\"#C8D4E3\",\"linecolor\":\"#C8D4E3\",\"minorgridcolor\":\"#C8D4E3\",\"startlinecolor\":\"#2a3f5f\"},\"baxis\":{\"endlinecolor\":\"#2a3f5f\",\"gridcolor\":\"#C8D4E3\",\"linecolor\":\"#C8D4E3\",\"minorgridcolor\":\"#C8D4E3\",\"startlinecolor\":\"#2a3f5f\"},\"type\":\"carpet\"}],\"choropleth\":[{\"colorbar\":{\"outlinewidth\":0,\"ticks\":\"\"},\"type\":\"choropleth\"}],\"contourcarpet\":[{\"colorbar\":{\"outlinewidth\":0,\"ticks\":\"\"},\"type\":\"contourcarpet\"}],\"contour\":[{\"colorbar\":{\"outlinewidth\":0,\"ticks\":\"\"},\"colorscale\":[[0.0,\"#0d0887\"],[0.1111111111111111,\"#46039f\"],[0.2222222222222222,\"#7201a8\"],[0.3333333333333333,\"#9c179e\"],[0.4444444444444444,\"#bd3786\"],[0.5555555555555556,\"#d8576b\"],[0.6666666666666666,\"#ed7953\"],[0.7777777777777778,\"#fb9f3a\"],[0.8888888888888888,\"#fdca26\"],[1.0,\"#f0f921\"]],\"type\":\"contour\"}],\"heatmapgl\":[{\"colorbar\":{\"outlinewidth\":0,\"ticks\":\"\"},\"colorscale\":[[0.0,\"#0d0887\"],[0.1111111111111111,\"#46039f\"],[0.2222222222222222,\"#7201a8\"],[0.3333333333333333,\"#9c179e\"],[0.4444444444444444,\"#bd3786\"],[0.5555555555555556,\"#d8576b\"],[0.6666666666666666,\"#ed7953\"],[0.7777777777777778,\"#fb9f3a\"],[0.8888888888888888,\"#fdca26\"],[1.0,\"#f0f921\"]],\"type\":\"heatmapgl\"}],\"heatmap\":[{\"colorbar\":{\"outlinewidth\":0,\"ticks\":\"\"},\"colorscale\":[[0.0,\"#0d0887\"],[0.1111111111111111,\"#46039f\"],[0.2222222222222222,\"#7201a8\"],[0.3333333333333333,\"#9c179e\"],[0.4444444444444444,\"#bd3786\"],[0.5555555555555556,\"#d8576b\"],[0.6666666666666666,\"#ed7953\"],[0.7777777777777778,\"#fb9f3a\"],[0.8888888888888888,\"#fdca26\"],[1.0,\"#f0f921\"]],\"type\":\"heatmap\"}],\"histogram2dcontour\":[{\"colorbar\":{\"outlinewidth\":0,\"ticks\":\"\"},\"colorscale\":[[0.0,\"#0d0887\"],[0.1111111111111111,\"#46039f\"],[0.2222222222222222,\"#7201a8\"],[0.3333333333333333,\"#9c179e\"],[0.4444444444444444,\"#bd3786\"],[0.5555555555555556,\"#d8576b\"],[0.6666666666666666,\"#ed7953\"],[0.7777777777777778,\"#fb9f3a\"],[0.8888888888888888,\"#fdca26\"],[1.0,\"#f0f921\"]],\"type\":\"histogram2dcontour\"}],\"histogram2d\":[{\"colorbar\":{\"outlinewidth\":0,\"ticks\":\"\"},\"colorscale\":[[0.0,\"#0d0887\"],[0.1111111111111111,\"#46039f\"],[0.2222222222222222,\"#7201a8\"],[0.3333333333333333,\"#9c179e\"],[0.4444444444444444,\"#bd3786\"],[0.5555555555555556,\"#d8576b\"],[0.6666666666666666,\"#ed7953\"],[0.7777777777777778,\"#fb9f3a\"],[0.8888888888888888,\"#fdca26\"],[1.0,\"#f0f921\"]],\"type\":\"histogram2d\"}],\"histogram\":[{\"marker\":{\"pattern\":{\"fillmode\":\"overlay\",\"size\":10,\"solidity\":0.2}},\"type\":\"histogram\"}],\"mesh3d\":[{\"colorbar\":{\"outlinewidth\":0,\"ticks\":\"\"},\"type\":\"mesh3d\"}],\"parcoords\":[{\"line\":{\"colorbar\":{\"outlinewidth\":0,\"ticks\":\"\"}},\"type\":\"parcoords\"}],\"pie\":[{\"automargin\":true,\"type\":\"pie\"}],\"scatter3d\":[{\"line\":{\"colorbar\":{\"outlinewidth\":0,\"ticks\":\"\"}},\"marker\":{\"colorbar\":{\"outlinewidth\":0,\"ticks\":\"\"}},\"type\":\"scatter3d\"}],\"scattercarpet\":[{\"marker\":{\"colorbar\":{\"outlinewidth\":0,\"ticks\":\"\"}},\"type\":\"scattercarpet\"}],\"scattergeo\":[{\"marker\":{\"colorbar\":{\"outlinewidth\":0,\"ticks\":\"\"}},\"type\":\"scattergeo\"}],\"scattergl\":[{\"marker\":{\"colorbar\":{\"outlinewidth\":0,\"ticks\":\"\"}},\"type\":\"scattergl\"}],\"scattermapbox\":[{\"marker\":{\"colorbar\":{\"outlinewidth\":0,\"ticks\":\"\"}},\"type\":\"scattermapbox\"}],\"scatterpolargl\":[{\"marker\":{\"colorbar\":{\"outlinewidth\":0,\"ticks\":\"\"}},\"type\":\"scatterpolargl\"}],\"scatterpolar\":[{\"marker\":{\"colorbar\":{\"outlinewidth\":0,\"ticks\":\"\"}},\"type\":\"scatterpolar\"}],\"scatter\":[{\"fillpattern\":{\"fillmode\":\"overlay\",\"size\":10,\"solidity\":0.2},\"type\":\"scatter\"}],\"scatterternary\":[{\"marker\":{\"colorbar\":{\"outlinewidth\":0,\"ticks\":\"\"}},\"type\":\"scatterternary\"}],\"surface\":[{\"colorbar\":{\"outlinewidth\":0,\"ticks\":\"\"},\"colorscale\":[[0.0,\"#0d0887\"],[0.1111111111111111,\"#46039f\"],[0.2222222222222222,\"#7201a8\"],[0.3333333333333333,\"#9c179e\"],[0.4444444444444444,\"#bd3786\"],[0.5555555555555556,\"#d8576b\"],[0.6666666666666666,\"#ed7953\"],[0.7777777777777778,\"#fb9f3a\"],[0.8888888888888888,\"#fdca26\"],[1.0,\"#f0f921\"]],\"type\":\"surface\"}],\"table\":[{\"cells\":{\"fill\":{\"color\":\"#EBF0F8\"},\"line\":{\"color\":\"white\"}},\"header\":{\"fill\":{\"color\":\"#C8D4E3\"},\"line\":{\"color\":\"white\"}},\"type\":\"table\"}]},\"layout\":{\"annotationdefaults\":{\"arrowcolor\":\"#2a3f5f\",\"arrowhead\":0,\"arrowwidth\":1},\"autotypenumbers\":\"strict\",\"coloraxis\":{\"colorbar\":{\"outlinewidth\":0,\"ticks\":\"\"}},\"colorscale\":{\"diverging\":[[0,\"#8e0152\"],[0.1,\"#c51b7d\"],[0.2,\"#de77ae\"],[0.3,\"#f1b6da\"],[0.4,\"#fde0ef\"],[0.5,\"#f7f7f7\"],[0.6,\"#e6f5d0\"],[0.7,\"#b8e186\"],[0.8,\"#7fbc41\"],[0.9,\"#4d9221\"],[1,\"#276419\"]],\"sequential\":[[0.0,\"#0d0887\"],[0.1111111111111111,\"#46039f\"],[0.2222222222222222,\"#7201a8\"],[0.3333333333333333,\"#9c179e\"],[0.4444444444444444,\"#bd3786\"],[0.5555555555555556,\"#d8576b\"],[0.6666666666666666,\"#ed7953\"],[0.7777777777777778,\"#fb9f3a\"],[0.8888888888888888,\"#fdca26\"],[1.0,\"#f0f921\"]],\"sequentialminus\":[[0.0,\"#0d0887\"],[0.1111111111111111,\"#46039f\"],[0.2222222222222222,\"#7201a8\"],[0.3333333333333333,\"#9c179e\"],[0.4444444444444444,\"#bd3786\"],[0.5555555555555556,\"#d8576b\"],[0.6666666666666666,\"#ed7953\"],[0.7777777777777778,\"#fb9f3a\"],[0.8888888888888888,\"#fdca26\"],[1.0,\"#f0f921\"]]},\"colorway\":[\"#636efa\",\"#EF553B\",\"#00cc96\",\"#ab63fa\",\"#FFA15A\",\"#19d3f3\",\"#FF6692\",\"#B6E880\",\"#FF97FF\",\"#FECB52\"],\"font\":{\"color\":\"#2a3f5f\"},\"geo\":{\"bgcolor\":\"white\",\"lakecolor\":\"white\",\"landcolor\":\"white\",\"showlakes\":true,\"showland\":true,\"subunitcolor\":\"#C8D4E3\"},\"hoverlabel\":{\"align\":\"left\"},\"hovermode\":\"closest\",\"mapbox\":{\"style\":\"light\"},\"paper_bgcolor\":\"white\",\"plot_bgcolor\":\"white\",\"polar\":{\"angularaxis\":{\"gridcolor\":\"#EBF0F8\",\"linecolor\":\"#EBF0F8\",\"ticks\":\"\"},\"bgcolor\":\"white\",\"radialaxis\":{\"gridcolor\":\"#EBF0F8\",\"linecolor\":\"#EBF0F8\",\"ticks\":\"\"}},\"scene\":{\"xaxis\":{\"backgroundcolor\":\"white\",\"gridcolor\":\"#DFE8F3\",\"gridwidth\":2,\"linecolor\":\"#EBF0F8\",\"showbackground\":true,\"ticks\":\"\",\"zerolinecolor\":\"#EBF0F8\"},\"yaxis\":{\"backgroundcolor\":\"white\",\"gridcolor\":\"#DFE8F3\",\"gridwidth\":2,\"linecolor\":\"#EBF0F8\",\"showbackground\":true,\"ticks\":\"\",\"zerolinecolor\":\"#EBF0F8\"},\"zaxis\":{\"backgroundcolor\":\"white\",\"gridcolor\":\"#DFE8F3\",\"gridwidth\":2,\"linecolor\":\"#EBF0F8\",\"showbackground\":true,\"ticks\":\"\",\"zerolinecolor\":\"#EBF0F8\"}},\"shapedefaults\":{\"line\":{\"color\":\"#2a3f5f\"}},\"ternary\":{\"aaxis\":{\"gridcolor\":\"#DFE8F3\",\"linecolor\":\"#A2B1C6\",\"ticks\":\"\"},\"baxis\":{\"gridcolor\":\"#DFE8F3\",\"linecolor\":\"#A2B1C6\",\"ticks\":\"\"},\"bgcolor\":\"white\",\"caxis\":{\"gridcolor\":\"#DFE8F3\",\"linecolor\":\"#A2B1C6\",\"ticks\":\"\"}},\"title\":{\"x\":0.05},\"xaxis\":{\"automargin\":true,\"gridcolor\":\"#EBF0F8\",\"linecolor\":\"#EBF0F8\",\"ticks\":\"\",\"title\":{\"standoff\":15},\"zerolinecolor\":\"#EBF0F8\",\"zerolinewidth\":2},\"yaxis\":{\"automargin\":true,\"gridcolor\":\"#EBF0F8\",\"linecolor\":\"#EBF0F8\",\"ticks\":\"\",\"title\":{\"standoff\":15},\"zerolinecolor\":\"#EBF0F8\",\"zerolinewidth\":2}}},\"xaxis\":{\"anchor\":\"y\",\"domain\":[0.0,0.175],\"showgrid\":true},\"yaxis\":{\"anchor\":\"x\",\"domain\":[0.6000000000000001,1.0],\"showgrid\":true},\"xaxis2\":{\"anchor\":\"y2\",\"domain\":[0.275,0.45],\"showgrid\":true},\"yaxis2\":{\"anchor\":\"x2\",\"domain\":[0.6000000000000001,1.0],\"showgrid\":true},\"xaxis3\":{\"anchor\":\"y3\",\"domain\":[0.55,0.7250000000000001],\"showgrid\":true},\"yaxis3\":{\"anchor\":\"x3\",\"domain\":[0.6000000000000001,1.0],\"showgrid\":true},\"xaxis4\":{\"anchor\":\"y4\",\"domain\":[0.825,1.0],\"showgrid\":true},\"yaxis4\":{\"anchor\":\"x4\",\"domain\":[0.6000000000000001,1.0],\"showgrid\":true},\"xaxis5\":{\"anchor\":\"y5\",\"domain\":[0.0,0.175],\"showgrid\":true},\"yaxis5\":{\"anchor\":\"x5\",\"domain\":[0.0,0.4],\"showgrid\":true},\"xaxis6\":{\"anchor\":\"y6\",\"domain\":[0.275,0.45],\"showgrid\":true},\"yaxis6\":{\"anchor\":\"x6\",\"domain\":[0.0,0.4],\"showgrid\":true},\"xaxis7\":{\"anchor\":\"y7\",\"domain\":[0.55,0.7250000000000001],\"showgrid\":true},\"yaxis7\":{\"anchor\":\"x7\",\"domain\":[0.0,0.4],\"showgrid\":true},\"xaxis8\":{\"anchor\":\"y8\",\"domain\":[0.825,1.0],\"showgrid\":true},\"yaxis8\":{\"anchor\":\"x8\",\"domain\":[0.0,0.4],\"showgrid\":true},\"annotations\":[{\"font\":{\"size\":16},\"showarrow\":false,\"text\":\"Topic 0\",\"x\":0.0875,\"xanchor\":\"center\",\"xref\":\"paper\",\"y\":1.0,\"yanchor\":\"bottom\",\"yref\":\"paper\"},{\"font\":{\"size\":16},\"showarrow\":false,\"text\":\"Topic 1\",\"x\":0.36250000000000004,\"xanchor\":\"center\",\"xref\":\"paper\",\"y\":1.0,\"yanchor\":\"bottom\",\"yref\":\"paper\"},{\"font\":{\"size\":16},\"showarrow\":false,\"text\":\"Topic 2\",\"x\":0.6375000000000001,\"xanchor\":\"center\",\"xref\":\"paper\",\"y\":1.0,\"yanchor\":\"bottom\",\"yref\":\"paper\"},{\"font\":{\"size\":16},\"showarrow\":false,\"text\":\"Topic 3\",\"x\":0.9125,\"xanchor\":\"center\",\"xref\":\"paper\",\"y\":1.0,\"yanchor\":\"bottom\",\"yref\":\"paper\"},{\"font\":{\"size\":16},\"showarrow\":false,\"text\":\"Topic 4\",\"x\":0.0875,\"xanchor\":\"center\",\"xref\":\"paper\",\"y\":0.4,\"yanchor\":\"bottom\",\"yref\":\"paper\"},{\"font\":{\"size\":16},\"showarrow\":false,\"text\":\"Topic 5\",\"x\":0.36250000000000004,\"xanchor\":\"center\",\"xref\":\"paper\",\"y\":0.4,\"yanchor\":\"bottom\",\"yref\":\"paper\"},{\"font\":{\"size\":16},\"showarrow\":false,\"text\":\"Topic 6\",\"x\":0.6375000000000001,\"xanchor\":\"center\",\"xref\":\"paper\",\"y\":0.4,\"yanchor\":\"bottom\",\"yref\":\"paper\"},{\"font\":{\"size\":16},\"showarrow\":false,\"text\":\"Topic 7\",\"x\":0.9125,\"xanchor\":\"center\",\"xref\":\"paper\",\"y\":0.4,\"yanchor\":\"bottom\",\"yref\":\"paper\"}],\"title\":{\"font\":{\"size\":22,\"color\":\"Black\"},\"text\":\"Topic Word Scores\",\"x\":0.5,\"xanchor\":\"center\",\"yanchor\":\"top\"},\"hoverlabel\":{\"font\":{\"size\":16,\"family\":\"Rockwell\"},\"bgcolor\":\"white\"},\"showlegend\":false,\"width\":1000,\"height\":500},                        {\"responsive\": true}                    ).then(function(){\n",
       "                            \n",
       "var gd = document.getElementById('38cd12d2-87b4-4762-ba39-5cdc714e544b');\n",
       "var x = new MutationObserver(function (mutations, observer) {{\n",
       "        var display = window.getComputedStyle(gd).display;\n",
       "        if (!display || display === 'none') {{\n",
       "            console.log([gd, 'removed!']);\n",
       "            Plotly.purge(gd);\n",
       "            observer.disconnect();\n",
       "        }}\n",
       "}});\n",
       "\n",
       "// Listen for the removal of the full notebook cells\n",
       "var notebookContainer = gd.closest('#notebook-container');\n",
       "if (notebookContainer) {{\n",
       "    x.observe(notebookContainer, {childList: true});\n",
       "}}\n",
       "\n",
       "// Listen for the clearing of the current output cell\n",
       "var outputEl = gd.closest('.output');\n",
       "if (outputEl) {{\n",
       "    x.observe(outputEl, {childList: true});\n",
       "}}\n",
       "\n",
       "                        })                };                });            </script>        </div>"
      ]
     },
     "metadata": {},
     "output_type": "display_data"
    }
   ],
   "execution_count": 65
  },
  {
   "metadata": {
    "ExecuteTime": {
     "end_time": "2024-11-06T22:31:49.112846Z",
     "start_time": "2024-11-06T22:31:49.096004Z"
    }
   },
   "cell_type": "code",
   "source": "topic_model_content.topic_representations_",
   "id": "e0898abf7a0b130f",
   "outputs": [
    {
     "data": {
      "text/plain": [
       "{-1: [('stocks', 0.55848825),\n",
       "  ('stock', 0.5095921),\n",
       "  ('nyse', 0.50599945),\n",
       "  ('nasdaq', 0.45200402),\n",
       "  ('markets', 0.4259631),\n",
       "  ('investors', 0.4223332),\n",
       "  ('companies', 0.40848315),\n",
       "  ('market', 0.4021063),\n",
       "  ('industry', 0.39556152),\n",
       "  ('dow', 0.3906002)],\n",
       " 0: [('nasdaq', 0.4999689),\n",
       "  ('stock', 0.47472134),\n",
       "  ('nyse', 0.47209847),\n",
       "  ('stocks', 0.46965358),\n",
       "  ('companies', 0.4013927),\n",
       "  ('investors', 0.38310027),\n",
       "  ('market', 0.3793906),\n",
       "  ('company', 0.37780172),\n",
       "  ('shares', 0.37130255),\n",
       "  ('earnings', 0.3280148)],\n",
       " 1: [('stocks', 0.41373488),\n",
       "  ('dow', 0.3943606),\n",
       "  ('markets', 0.38781458),\n",
       "  ('stock', 0.38608357),\n",
       "  ('market', 0.34969574),\n",
       "  ('trading', 0.34157696),\n",
       "  ('nyse', 0.3380176),\n",
       "  ('investors', 0.32370168),\n",
       "  ('bullish', 0.32120413),\n",
       "  ('futures', 0.3102976)],\n",
       " 2: [('nvidia', 0.509223),\n",
       "  ('gpu', 0.41634566),\n",
       "  ('earnings', 0.40644157),\n",
       "  ('nvda', 0.3924746),\n",
       "  ('gpus', 0.3921877),\n",
       "  ('nasdaq', 0.37169093),\n",
       "  ('geforce', 0.35064977),\n",
       "  ('revenues', 0.32172057),\n",
       "  ('stock', 0.31685418),\n",
       "  ('gaming', 0.3047709)],\n",
       " 3: [('nvda', 0.46555558),\n",
       "  ('nvidia', 0.45806924),\n",
       "  ('nasdaq', 0.4539492),\n",
       "  ('stock', 0.4476538),\n",
       "  ('shares', 0.3652361),\n",
       "  ('traded', 0.347098),\n",
       "  ('investing', 0.32522497),\n",
       "  ('exchange', 0.30819994),\n",
       "  ('trade', 0.29973832),\n",
       "  ('158', 0.28027666)],\n",
       " 4: [('automakers', 0.53048813),\n",
       "  ('automotive', 0.4929515),\n",
       "  ('automaker', 0.45782125),\n",
       "  ('uber', 0.43075866),\n",
       "  ('bmw', 0.42248768),\n",
       "  ('vehicles', 0.4215353),\n",
       "  ('carmakers', 0.41373122),\n",
       "  ('autonomous', 0.3964153),\n",
       "  ('cars', 0.3934387),\n",
       "  ('vehicle', 0.39253986)],\n",
       " 5: [('week', 0.39267293),\n",
       "  ('weekly', 0.36552474),\n",
       "  ('trading', 0.33214998),\n",
       "  ('investing', 0.31684637),\n",
       "  ('traders', 0.29221874),\n",
       "  ('market', 0.28146887),\n",
       "  ('investment', 0.27446252),\n",
       "  ('read', 0.27228707),\n",
       "  ('trader', 0.26383296),\n",
       "  ('impacts', 0.26213732)],\n",
       " 6: [('nyse', 0.57721436),\n",
       "  ('dow', 0.44218147),\n",
       "  ('nasdaq', 0.43528372),\n",
       "  ('shares', 0.41171667),\n",
       "  ('index', 0.27606055),\n",
       "  ('corporation', 0.26077008),\n",
       "  ('sectors', 0.2381325),\n",
       "  ('exchange', 0.22838888),\n",
       "  ('commodities', 0.22674581),\n",
       "  ('futures', 0.21926159)],\n",
       " 7: [('earnings', 0.60835207),\n",
       "  ('stocks', 0.44551516),\n",
       "  ('revenues', 0.35835242),\n",
       "  ('securities', 0.34116042),\n",
       "  ('quarterly', 0.338189),\n",
       "  ('finance', 0.32419032),\n",
       "  ('revenue', 0.30623496),\n",
       "  ('disclosure', 0.299124),\n",
       "  ('investment', 0.28612673),\n",
       "  ('estimates', 0.281638)],\n",
       " 8: [('tariffs', 0.47345352),\n",
       "  ('tariff', 0.4256894),\n",
       "  ('huawei', 0.3536409),\n",
       "  ('beijing', 0.33592469),\n",
       "  ('china', 0.30428502),\n",
       "  ('chinese', 0.30076107),\n",
       "  ('commerce', 0.28304917),\n",
       "  ('blacklisting', 0.263585),\n",
       "  ('exports', 0.25802734),\n",
       "  ('xinjiang', 0.24102557)],\n",
       " 9: [('facebook', 0.55269957),\n",
       "  ('advertisements', 0.47334597),\n",
       "  ('ads', 0.45745578),\n",
       "  ('advertisers', 0.43905807),\n",
       "  ('fb', 0.4376014),\n",
       "  ('advertising', 0.42201874),\n",
       "  ('zuckerberg', 0.36312944),\n",
       "  ('instagram', 0.3589608),\n",
       "  ('ad', 0.33840078),\n",
       "  ('messenger', 0.30702835)],\n",
       " 10: [('amd', 0.59279865),\n",
       "  ('radeon', 0.5669824),\n",
       "  ('gpu', 0.5570969),\n",
       "  ('gpus', 0.50818884),\n",
       "  ('ryzen', 0.42880517),\n",
       "  ('pcie', 0.3832687),\n",
       "  ('processors', 0.3671316),\n",
       "  ('intel', 0.35899323),\n",
       "  ('gaming', 0.35729957),\n",
       "  ('supercomputer', 0.34898046)],\n",
       " 11: [('cryptocurrencies', 0.5448111),\n",
       "  ('bitcoin', 0.5202105),\n",
       "  ('cryptocurrency', 0.51842666),\n",
       "  ('ethereum', 0.47726774),\n",
       "  ('bitcoins', 0.4633595),\n",
       "  ('crypto', 0.4214539),\n",
       "  ('investors', 0.41482592),\n",
       "  ('currencies', 0.4087555),\n",
       "  ('btc', 0.40615773),\n",
       "  ('traders', 0.39697444)],\n",
       " 12: [('esports', 0.5260961),\n",
       "  ('activision', 0.4285577),\n",
       "  ('ea', 0.42458498),\n",
       "  ('gaming', 0.42188874),\n",
       "  ('crowdfunding', 0.40855008),\n",
       "  ('entertainment', 0.38768774),\n",
       "  ('franchises', 0.38694865),\n",
       "  ('industry', 0.3844415),\n",
       "  ('sports', 0.3758859),\n",
       "  ('gamers', 0.36253947)],\n",
       " 13: [('ai', 0.43695784),\n",
       "  ('robots', 0.40577185),\n",
       "  ('industry', 0.40295455),\n",
       "  ('robotic', 0.39713854),\n",
       "  ('industrial', 0.39435345),\n",
       "  ('advancements', 0.38399392),\n",
       "  ('robot', 0.38277197),\n",
       "  ('technologies', 0.37568647),\n",
       "  ('robotics', 0.37059158),\n",
       "  ('cobots', 0.35982388)],\n",
       " 14: [('storage', 0.4030338),\n",
       "  ('gaap', 0.36545682),\n",
       "  ('ssds', 0.36341906),\n",
       "  ('revenues', 0.34606838),\n",
       "  ('ssd', 0.34595582),\n",
       "  ('enterprise', 0.3277868),\n",
       "  ('seagate', 0.32067657),\n",
       "  ('sandisk', 0.31886667),\n",
       "  ('multimillion', 0.29881224),\n",
       "  ('hdd', 0.29105297)],\n",
       " 15: [('cadence', 0.35651937),\n",
       "  ('outperforming', 0.33720466),\n",
       "  ('revenues', 0.3163938),\n",
       "  ('flagship', 0.29281867),\n",
       "  ('gaap', 0.2636726),\n",
       "  ('capabilities', 0.2571215),\n",
       "  ('company', 0.25132188),\n",
       "  ('suite', 0.20695576),\n",
       "  ('management', 0.2033242),\n",
       "  ('design', 0.19856286)],\n",
       " 16: [('antitrust', 0.48444462),\n",
       "  ('qualcomm', 0.48256516),\n",
       "  ('lawsuits', 0.39256096),\n",
       "  ('patents', 0.37003922),\n",
       "  ('infringement', 0.3610466),\n",
       "  ('lawsuit', 0.35314983),\n",
       "  ('qcom', 0.3216607),\n",
       "  ('chipmaker', 0.30889994),\n",
       "  ('apple', 0.30800104),\n",
       "  ('chipsets', 0.30529803)],\n",
       " 17: [('tesla', 0.6208721),\n",
       "  ('automakers', 0.38886204),\n",
       "  ('carmaker', 0.3416903),\n",
       "  ('car', 0.27581012),\n",
       "  ('vehicle', 0.2703705),\n",
       "  ('cars', 0.2680253),\n",
       "  ('musk', 0.24717927),\n",
       "  ('vehicles', 0.24489474),\n",
       "  ('investors', 0.24346828),\n",
       "  ('panasonic', 0.24310225)],\n",
       " 18: [('securities', 0.45585057),\n",
       "  ('dividend', 0.38612628),\n",
       "  ('txn', 0.36184102),\n",
       "  ('dividends', 0.34869802),\n",
       "  ('debt', 0.3421846),\n",
       "  ('repurchases', 0.34085634),\n",
       "  ('cash', 0.33983415),\n",
       "  ('acquisitions', 0.3304639),\n",
       "  ('repurchase', 0.32735646),\n",
       "  ('notes', 0.31057507)],\n",
       " 19: [('netapp', 0.49664277),\n",
       "  ('revenues', 0.3807511),\n",
       "  ('ntap', 0.3458646),\n",
       "  ('enterprises', 0.33069193),\n",
       "  ('net', 0.3074882),\n",
       "  ('gaap', 0.2999036),\n",
       "  ('azure', 0.25207105),\n",
       "  ('strategic', 0.24669918),\n",
       "  ('capabilities', 0.24579477),\n",
       "  ('company', 0.2415807)],\n",
       " 20: [('softbank', 0.46160808),\n",
       "  ('fund', 0.4139318),\n",
       "  ('investors', 0.38919657),\n",
       "  ('investments', 0.38724172),\n",
       "  ('investment', 0.37389827),\n",
       "  ('firms', 0.34480596),\n",
       "  ('conglomerate', 0.34000552),\n",
       "  ('ventures', 0.33912563),\n",
       "  ('firm', 0.32321995),\n",
       "  ('corp', 0.29626578)],\n",
       " 21: [('coronavirus', 0.63062525),\n",
       "  ('coronaviruses', 0.6296896),\n",
       "  ('outbreak', 0.45581317),\n",
       "  ('pandemic', 0.45285583),\n",
       "  ('epidemics', 0.44311628),\n",
       "  ('pandemics', 0.43358427),\n",
       "  ('epidemic', 0.4226092),\n",
       "  ('influenza', 0.41354465),\n",
       "  ('viruses', 0.36688846),\n",
       "  ('virus', 0.35402253)],\n",
       " 22: [('ecommerce', 0.5019246),\n",
       "  ('amazon', 0.4641474),\n",
       "  ('retailer', 0.4602273),\n",
       "  ('retailers', 0.44920552),\n",
       "  ('aws', 0.42855468),\n",
       "  ('sales', 0.3896802),\n",
       "  ('retail', 0.38200414),\n",
       "  ('commerce', 0.37958252),\n",
       "  ('mart', 0.347213),\n",
       "  ('logistics', 0.32774362)],\n",
       " 23: [('infringement', 0.42361826),\n",
       "  ('lawsuit', 0.35620776),\n",
       "  ('google', 0.35398224),\n",
       "  ('copyright', 0.33110386),\n",
       "  ('revenue', 0.32026368),\n",
       "  ('companies', 0.3194831),\n",
       "  ('amazon', 0.29421532),\n",
       "  ('microsoft', 0.2935543),\n",
       "  ('ads', 0.28606212),\n",
       "  ('youtube', 0.28587258)],\n",
       " 24: [('dividends', 0.5871569),\n",
       "  ('dividend', 0.53400564),\n",
       "  ('stocks', 0.53280216),\n",
       "  ('investment', 0.38128406),\n",
       "  ('securities', 0.37101877),\n",
       "  ('shareholders', 0.34788272),\n",
       "  ('shareholder', 0.32781377),\n",
       "  ('portfolio', 0.3139305),\n",
       "  ('financial', 0.30107284),\n",
       "  ('strategies', 0.2731012)],\n",
       " 25: [('marvell', 0.40927303),\n",
       "  ('ssd', 0.35781324),\n",
       "  ('ethernet', 0.30629975),\n",
       "  ('networking', 0.29598257),\n",
       "  ('sse', 0.29335493),\n",
       "  ('drives', 0.29112983),\n",
       "  ('enterprise', 0.28614363),\n",
       "  ('acquire', 0.2835034),\n",
       "  ('vpx', 0.28117794),\n",
       "  ('5g', 0.27675766)]}"
      ]
     },
     "execution_count": 66,
     "metadata": {},
     "output_type": "execute_result"
    }
   ],
   "execution_count": 66
  },
  {
   "metadata": {
    "ExecuteTime": {
     "end_time": "2024-11-06T22:33:27.903275Z",
     "start_time": "2024-11-06T22:32:52.359412Z"
    }
   },
   "cell_type": "code",
   "source": [
    "import kaleido\n",
    "import openai\n",
    "from dotenv import load_dotenv\n",
    "load_dotenv()\n",
    "import os\n",
    "from bertopic.representation import OpenAI\n",
    "\n",
    "# Fine-tune topic representations with GPT\n",
    "client = openai.OpenAI(api_key=os.getenv(\"OPENAI_API_KEY\"))\n",
    "prompt= \"\"\"\n",
    "I have a topic that contains the following documents: \n",
    "[DOCUMENTS]\n",
    "The topic is described by the following keywords: [KEYWORDS]\n",
    "\n",
    "Based on the information above, extract a short topic label in the following format:\n",
    "topic: <topic label>\n",
    "\"\"\"\n",
    "\n",
    "representation_model = OpenAI(client=client, model=\"gpt-3.5-turbo\", prompt=prompt, chat=True, delay_in_seconds=0.1)\n",
    "topic_model_content.update_topics(representation_model=representation_model, docs=df_news[\"content\"])\n",
    "topic_model_content.topic_representations_"
   ],
   "id": "a3537e7decb03de3",
   "outputs": [
    {
     "data": {
      "text/plain": [
       "{-1: [('Semiconductor Industry Earnings Trends Analysis', 1)],\n",
       " 0: [('Tech Stocks Analysis and Market Trends', 1)],\n",
       " 1: [('Market News and Earnings Highlights', 1)],\n",
       " 2: [(\"NVIDIA's Growth Prospects and Financial Performance\", 1)],\n",
       " 3: [('NVIDIA stock trading performance on NASDAQ exchange', 1)],\n",
       " 4: [('Emerging Trends in Self-Driving Vehicle Technology', 1)],\n",
       " 5: [('Economic Analysis and Market Trends Summary', 1)],\n",
       " 6: [('U.S. stock market performance and trends analysis', 1)],\n",
       " 7: [('Earnings Growth Trends and Estimates Analysis by Zacks', 1)],\n",
       " 8: [('U.S.-China Trade Tensions, Huawei Blacklisting, Semiconductor Companies, Tariffs, Market Impact',\n",
       "   1)],\n",
       " 9: [(\"Facebook's initiatives for user safety and growth, developments in the social media landscape\",\n",
       "   1)],\n",
       " 10: [(\"AMD's Radeon GPUs Revolutionizing the Gaming and Datacenter Markets\",\n",
       "   1)],\n",
       " 11: [('Bitcoin and Ethereum in the Digital Currency Market', 1)],\n",
       " 12: [('Technology Earnings Highlights and Emerging Trends in Gaming Industry',\n",
       "   1)],\n",
       " 13: [('The Growing Influence of Artificial Intelligence in Robotics and Technology',\n",
       "   1)],\n",
       " 14: [('Pure Storage Inc - Recent Earnings and Growth Outlook', 1)],\n",
       " 15: [('Cadence Design Systems Quarterly Financial Performance and Outlook',\n",
       "   1)],\n",
       " 16: [('Qualcomm fined by European Commission for antitrust practices and abuse of market power',\n",
       "   1)],\n",
       " 17: [(\"Tesla's Innovation and Future Prospects\", 1)],\n",
       " 18: [('Financial Offerings and Cash Positions of Pure Storage Inc and Texas Instruments Incorporated',\n",
       "   1)],\n",
       " 19: [('NetApp Inc fiscal quarter performance and cloud solutions', 1)],\n",
       " 20: [(\"SoftBank's Vision Fund and Investment Strategies\", 1)],\n",
       " 21: [('Impact of Coronavirus Outbreak on Global Companies and Economy', 1)],\n",
       " 22: [(\"Amazon's Expansion and Technology Influence\", 1)],\n",
       " 23: [(\"Google vs Oracle fair use case and Alphabet's efforts to combat piracy, Microsoft Worldwide Partner Conference highlights, Facebook's potential partnership with ESPN and others, Intel's strategic board addition, Seagate's preliminary results and job cuts.\",\n",
       "   1)],\n",
       " 24: [('Dividend Growth Stocks for Secure Retirement', 1)],\n",
       " 25: [(\"Marvell Technology Group's Strong Performance in SSD and Ethernet Markets\",\n",
       "   1)]}"
      ]
     },
     "execution_count": 68,
     "metadata": {},
     "output_type": "execute_result"
    }
   ],
   "execution_count": 68
  },
  {
   "metadata": {
    "ExecuteTime": {
     "end_time": "2024-11-06T22:37:46.006095Z",
     "start_time": "2024-11-06T22:37:45.864673Z"
    }
   },
   "cell_type": "code",
   "source": "topic_model_content.visualize_topics()",
   "id": "ca62df542a3d093f",
   "outputs": [
    {
     "data": {
      "application/vnd.plotly.v1+json": {
       "data": [
        {
         "customdata": [
          [
           0,
           "Tech Stocks Analysis and Market Trends",
           871
          ],
          [
           1,
           "Market News and Earnings Highlights",
           541
          ],
          [
           2,
           "NVIDIA's Growth Prospects and Financial Performance",
           446
          ],
          [
           3,
           "NVIDIA stock trading performance on NASDAQ exchange",
           149
          ],
          [
           4,
           "Emerging Trends in Self-Driving Vehicle Technology",
           120
          ],
          [
           5,
           "Economic Analysis and Market Trends Summary",
           64
          ],
          [
           6,
           "U.S. stock market performance and trends analysis",
           60
          ],
          [
           7,
           "Earnings Growth Trends and Estimates Analysis by Zacks",
           56
          ],
          [
           8,
           "U.S.-China Trade Tensions, Huawei Blacklisting, Semiconductor Companies, Tariffs, Market Impact",
           52
          ],
          [
           9,
           "Facebook's initiatives for user safety and growth, developments in the social media landscape",
           39
          ],
          [
           10,
           "AMD's Radeon GPUs Revolutionizing the Gaming and Datacenter Markets",
           35
          ],
          [
           11,
           "Bitcoin and Ethereum in the Digital Currency Market",
           34
          ],
          [
           12,
           "Technology Earnings Highlights and Emerging Trends in Gaming Industry",
           27
          ],
          [
           13,
           "The Growing Influence of Artificial Intelligence in Robotics and Technology",
           26
          ],
          [
           14,
           "Pure Storage Inc - Recent Earnings and Growth Outlook",
           26
          ],
          [
           15,
           "Cadence Design Systems Quarterly Financial Performance and Outlook",
           21
          ],
          [
           16,
           "Qualcomm fined by European Commission for antitrust practices and abuse of market power",
           21
          ],
          [
           17,
           "Tesla's Innovation and Future Prospects",
           18
          ],
          [
           18,
           "Financial Offerings and Cash Positions of Pure Storage Inc and Texas Instruments Incorporated",
           16
          ],
          [
           19,
           "NetApp Inc fiscal quarter performance and cloud solutions",
           16
          ],
          [
           20,
           "SoftBank's Vision Fund and Investment Strategies",
           15
          ],
          [
           21,
           "Impact of Coronavirus Outbreak on Global Companies and Economy",
           15
          ],
          [
           22,
           "Amazon's Expansion and Technology Influence",
           13
          ],
          [
           23,
           "Google vs Oracle fair use case and Alphabet's efforts to combat piracy, Microsoft Worldwide Partner Conference highlights, Facebook's potential partnership with ESPN and others, Intel's strategic board addition, Seagate's preliminary results and job cuts.",
           11
          ],
          [
           24,
           "Dividend Growth Stocks for Secure Retirement",
           11
          ],
          [
           25,
           "Marvell Technology Group's Strong Performance in SSD and Ethernet Markets",
           5
          ]
         ],
         "hovertemplate": "<b>Topic %{customdata[0]}</b><br>%{customdata[1]}<br>Size: %{customdata[2]}",
         "legendgroup": "",
         "marker": {
          "color": "#B0BEC5",
          "size": [
           871,
           541,
           446,
           149,
           120,
           64,
           60,
           56,
           52,
           39,
           35,
           34,
           27,
           26,
           26,
           21,
           21,
           18,
           16,
           16,
           15,
           15,
           13,
           11,
           11,
           5
          ],
          "sizemode": "area",
          "sizeref": 0.544375,
          "symbol": "circle",
          "line": {
           "color": "DarkSlateGrey",
           "width": 2
          }
         },
         "mode": "markers",
         "name": "",
         "orientation": "v",
         "showlegend": false,
         "x": [
          -2.889035940170288,
          2.971168279647827,
          -6.76599645614624,
          -6.689888000488281,
          12.974130630493164,
          -3.60294771194458,
          -3.3749077320098877,
          2.693218946456909,
          1.222313404083252,
          2.599327325820923,
          4.006576061248779,
          -3.7471330165863037,
          3.508439779281616,
          13.023866653442383,
          1.4899396896362305,
          11.869247436523438,
          1.3649920225143433,
          -2.6688127517700195,
          1.5684616565704346,
          11.981973648071289,
          -6.410842418670654,
          -6.951751708984375,
          12.369747161865234,
          11.761778831481934,
          1.6843029260635376,
          4.333767414093018
         ],
         "xaxis": "x",
         "y": [
          19.767578125,
          1.8448126316070557,
          -6.167834281921387,
          -6.246097564697266,
          -4.20443868637085,
          19.91597557067871,
          19.879558563232422,
          2.287266492843628,
          12.295185089111328,
          1.9239188432693481,
          1.8350768089294434,
          20.017410278320312,
          2.0752837657928467,
          -4.254150867462158,
          3.010645866394043,
          7.138950824737549,
          12.436911582946777,
          19.95130157470703,
          2.884145736694336,
          6.887269496917725,
          -6.5208821296691895,
          -5.980786323547363,
          6.971515655517578,
          6.674844741821289,
          2.7059991359710693,
          1.5753569602966309
         ],
         "yaxis": "y",
         "type": "scatter"
        }
       ],
       "layout": {
        "template": {
         "data": {
          "barpolar": [
           {
            "marker": {
             "line": {
              "color": "white",
              "width": 0.5
             },
             "pattern": {
              "fillmode": "overlay",
              "size": 10,
              "solidity": 0.2
             }
            },
            "type": "barpolar"
           }
          ],
          "bar": [
           {
            "error_x": {
             "color": "rgb(36,36,36)"
            },
            "error_y": {
             "color": "rgb(36,36,36)"
            },
            "marker": {
             "line": {
              "color": "white",
              "width": 0.5
             },
             "pattern": {
              "fillmode": "overlay",
              "size": 10,
              "solidity": 0.2
             }
            },
            "type": "bar"
           }
          ],
          "carpet": [
           {
            "aaxis": {
             "endlinecolor": "rgb(36,36,36)",
             "gridcolor": "white",
             "linecolor": "white",
             "minorgridcolor": "white",
             "startlinecolor": "rgb(36,36,36)"
            },
            "baxis": {
             "endlinecolor": "rgb(36,36,36)",
             "gridcolor": "white",
             "linecolor": "white",
             "minorgridcolor": "white",
             "startlinecolor": "rgb(36,36,36)"
            },
            "type": "carpet"
           }
          ],
          "choropleth": [
           {
            "colorbar": {
             "outlinewidth": 1,
             "tickcolor": "rgb(36,36,36)",
             "ticks": "outside"
            },
            "type": "choropleth"
           }
          ],
          "contourcarpet": [
           {
            "colorbar": {
             "outlinewidth": 1,
             "tickcolor": "rgb(36,36,36)",
             "ticks": "outside"
            },
            "type": "contourcarpet"
           }
          ],
          "contour": [
           {
            "colorbar": {
             "outlinewidth": 1,
             "tickcolor": "rgb(36,36,36)",
             "ticks": "outside"
            },
            "colorscale": [
             [
              0.0,
              "#440154"
             ],
             [
              0.1111111111111111,
              "#482878"
             ],
             [
              0.2222222222222222,
              "#3e4989"
             ],
             [
              0.3333333333333333,
              "#31688e"
             ],
             [
              0.4444444444444444,
              "#26828e"
             ],
             [
              0.5555555555555556,
              "#1f9e89"
             ],
             [
              0.6666666666666666,
              "#35b779"
             ],
             [
              0.7777777777777778,
              "#6ece58"
             ],
             [
              0.8888888888888888,
              "#b5de2b"
             ],
             [
              1.0,
              "#fde725"
             ]
            ],
            "type": "contour"
           }
          ],
          "heatmapgl": [
           {
            "colorbar": {
             "outlinewidth": 1,
             "tickcolor": "rgb(36,36,36)",
             "ticks": "outside"
            },
            "colorscale": [
             [
              0.0,
              "#440154"
             ],
             [
              0.1111111111111111,
              "#482878"
             ],
             [
              0.2222222222222222,
              "#3e4989"
             ],
             [
              0.3333333333333333,
              "#31688e"
             ],
             [
              0.4444444444444444,
              "#26828e"
             ],
             [
              0.5555555555555556,
              "#1f9e89"
             ],
             [
              0.6666666666666666,
              "#35b779"
             ],
             [
              0.7777777777777778,
              "#6ece58"
             ],
             [
              0.8888888888888888,
              "#b5de2b"
             ],
             [
              1.0,
              "#fde725"
             ]
            ],
            "type": "heatmapgl"
           }
          ],
          "heatmap": [
           {
            "colorbar": {
             "outlinewidth": 1,
             "tickcolor": "rgb(36,36,36)",
             "ticks": "outside"
            },
            "colorscale": [
             [
              0.0,
              "#440154"
             ],
             [
              0.1111111111111111,
              "#482878"
             ],
             [
              0.2222222222222222,
              "#3e4989"
             ],
             [
              0.3333333333333333,
              "#31688e"
             ],
             [
              0.4444444444444444,
              "#26828e"
             ],
             [
              0.5555555555555556,
              "#1f9e89"
             ],
             [
              0.6666666666666666,
              "#35b779"
             ],
             [
              0.7777777777777778,
              "#6ece58"
             ],
             [
              0.8888888888888888,
              "#b5de2b"
             ],
             [
              1.0,
              "#fde725"
             ]
            ],
            "type": "heatmap"
           }
          ],
          "histogram2dcontour": [
           {
            "colorbar": {
             "outlinewidth": 1,
             "tickcolor": "rgb(36,36,36)",
             "ticks": "outside"
            },
            "colorscale": [
             [
              0.0,
              "#440154"
             ],
             [
              0.1111111111111111,
              "#482878"
             ],
             [
              0.2222222222222222,
              "#3e4989"
             ],
             [
              0.3333333333333333,
              "#31688e"
             ],
             [
              0.4444444444444444,
              "#26828e"
             ],
             [
              0.5555555555555556,
              "#1f9e89"
             ],
             [
              0.6666666666666666,
              "#35b779"
             ],
             [
              0.7777777777777778,
              "#6ece58"
             ],
             [
              0.8888888888888888,
              "#b5de2b"
             ],
             [
              1.0,
              "#fde725"
             ]
            ],
            "type": "histogram2dcontour"
           }
          ],
          "histogram2d": [
           {
            "colorbar": {
             "outlinewidth": 1,
             "tickcolor": "rgb(36,36,36)",
             "ticks": "outside"
            },
            "colorscale": [
             [
              0.0,
              "#440154"
             ],
             [
              0.1111111111111111,
              "#482878"
             ],
             [
              0.2222222222222222,
              "#3e4989"
             ],
             [
              0.3333333333333333,
              "#31688e"
             ],
             [
              0.4444444444444444,
              "#26828e"
             ],
             [
              0.5555555555555556,
              "#1f9e89"
             ],
             [
              0.6666666666666666,
              "#35b779"
             ],
             [
              0.7777777777777778,
              "#6ece58"
             ],
             [
              0.8888888888888888,
              "#b5de2b"
             ],
             [
              1.0,
              "#fde725"
             ]
            ],
            "type": "histogram2d"
           }
          ],
          "histogram": [
           {
            "marker": {
             "line": {
              "color": "white",
              "width": 0.6
             }
            },
            "type": "histogram"
           }
          ],
          "mesh3d": [
           {
            "colorbar": {
             "outlinewidth": 1,
             "tickcolor": "rgb(36,36,36)",
             "ticks": "outside"
            },
            "type": "mesh3d"
           }
          ],
          "parcoords": [
           {
            "line": {
             "colorbar": {
              "outlinewidth": 1,
              "tickcolor": "rgb(36,36,36)",
              "ticks": "outside"
             }
            },
            "type": "parcoords"
           }
          ],
          "pie": [
           {
            "automargin": true,
            "type": "pie"
           }
          ],
          "scatter3d": [
           {
            "line": {
             "colorbar": {
              "outlinewidth": 1,
              "tickcolor": "rgb(36,36,36)",
              "ticks": "outside"
             }
            },
            "marker": {
             "colorbar": {
              "outlinewidth": 1,
              "tickcolor": "rgb(36,36,36)",
              "ticks": "outside"
             }
            },
            "type": "scatter3d"
           }
          ],
          "scattercarpet": [
           {
            "marker": {
             "colorbar": {
              "outlinewidth": 1,
              "tickcolor": "rgb(36,36,36)",
              "ticks": "outside"
             }
            },
            "type": "scattercarpet"
           }
          ],
          "scattergeo": [
           {
            "marker": {
             "colorbar": {
              "outlinewidth": 1,
              "tickcolor": "rgb(36,36,36)",
              "ticks": "outside"
             }
            },
            "type": "scattergeo"
           }
          ],
          "scattergl": [
           {
            "marker": {
             "colorbar": {
              "outlinewidth": 1,
              "tickcolor": "rgb(36,36,36)",
              "ticks": "outside"
             }
            },
            "type": "scattergl"
           }
          ],
          "scattermapbox": [
           {
            "marker": {
             "colorbar": {
              "outlinewidth": 1,
              "tickcolor": "rgb(36,36,36)",
              "ticks": "outside"
             }
            },
            "type": "scattermapbox"
           }
          ],
          "scatterpolargl": [
           {
            "marker": {
             "colorbar": {
              "outlinewidth": 1,
              "tickcolor": "rgb(36,36,36)",
              "ticks": "outside"
             }
            },
            "type": "scatterpolargl"
           }
          ],
          "scatterpolar": [
           {
            "marker": {
             "colorbar": {
              "outlinewidth": 1,
              "tickcolor": "rgb(36,36,36)",
              "ticks": "outside"
             }
            },
            "type": "scatterpolar"
           }
          ],
          "scatter": [
           {
            "fillpattern": {
             "fillmode": "overlay",
             "size": 10,
             "solidity": 0.2
            },
            "type": "scatter"
           }
          ],
          "scatterternary": [
           {
            "marker": {
             "colorbar": {
              "outlinewidth": 1,
              "tickcolor": "rgb(36,36,36)",
              "ticks": "outside"
             }
            },
            "type": "scatterternary"
           }
          ],
          "surface": [
           {
            "colorbar": {
             "outlinewidth": 1,
             "tickcolor": "rgb(36,36,36)",
             "ticks": "outside"
            },
            "colorscale": [
             [
              0.0,
              "#440154"
             ],
             [
              0.1111111111111111,
              "#482878"
             ],
             [
              0.2222222222222222,
              "#3e4989"
             ],
             [
              0.3333333333333333,
              "#31688e"
             ],
             [
              0.4444444444444444,
              "#26828e"
             ],
             [
              0.5555555555555556,
              "#1f9e89"
             ],
             [
              0.6666666666666666,
              "#35b779"
             ],
             [
              0.7777777777777778,
              "#6ece58"
             ],
             [
              0.8888888888888888,
              "#b5de2b"
             ],
             [
              1.0,
              "#fde725"
             ]
            ],
            "type": "surface"
           }
          ],
          "table": [
           {
            "cells": {
             "fill": {
              "color": "rgb(237,237,237)"
             },
             "line": {
              "color": "white"
             }
            },
            "header": {
             "fill": {
              "color": "rgb(217,217,217)"
             },
             "line": {
              "color": "white"
             }
            },
            "type": "table"
           }
          ]
         },
         "layout": {
          "annotationdefaults": {
           "arrowhead": 0,
           "arrowwidth": 1
          },
          "autotypenumbers": "strict",
          "coloraxis": {
           "colorbar": {
            "outlinewidth": 1,
            "tickcolor": "rgb(36,36,36)",
            "ticks": "outside"
           }
          },
          "colorscale": {
           "diverging": [
            [
             0.0,
             "rgb(103,0,31)"
            ],
            [
             0.1,
             "rgb(178,24,43)"
            ],
            [
             0.2,
             "rgb(214,96,77)"
            ],
            [
             0.3,
             "rgb(244,165,130)"
            ],
            [
             0.4,
             "rgb(253,219,199)"
            ],
            [
             0.5,
             "rgb(247,247,247)"
            ],
            [
             0.6,
             "rgb(209,229,240)"
            ],
            [
             0.7,
             "rgb(146,197,222)"
            ],
            [
             0.8,
             "rgb(67,147,195)"
            ],
            [
             0.9,
             "rgb(33,102,172)"
            ],
            [
             1.0,
             "rgb(5,48,97)"
            ]
           ],
           "sequential": [
            [
             0.0,
             "#440154"
            ],
            [
             0.1111111111111111,
             "#482878"
            ],
            [
             0.2222222222222222,
             "#3e4989"
            ],
            [
             0.3333333333333333,
             "#31688e"
            ],
            [
             0.4444444444444444,
             "#26828e"
            ],
            [
             0.5555555555555556,
             "#1f9e89"
            ],
            [
             0.6666666666666666,
             "#35b779"
            ],
            [
             0.7777777777777778,
             "#6ece58"
            ],
            [
             0.8888888888888888,
             "#b5de2b"
            ],
            [
             1.0,
             "#fde725"
            ]
           ],
           "sequentialminus": [
            [
             0.0,
             "#440154"
            ],
            [
             0.1111111111111111,
             "#482878"
            ],
            [
             0.2222222222222222,
             "#3e4989"
            ],
            [
             0.3333333333333333,
             "#31688e"
            ],
            [
             0.4444444444444444,
             "#26828e"
            ],
            [
             0.5555555555555556,
             "#1f9e89"
            ],
            [
             0.6666666666666666,
             "#35b779"
            ],
            [
             0.7777777777777778,
             "#6ece58"
            ],
            [
             0.8888888888888888,
             "#b5de2b"
            ],
            [
             1.0,
             "#fde725"
            ]
           ]
          },
          "colorway": [
           "#1F77B4",
           "#FF7F0E",
           "#2CA02C",
           "#D62728",
           "#9467BD",
           "#8C564B",
           "#E377C2",
           "#7F7F7F",
           "#BCBD22",
           "#17BECF"
          ],
          "font": {
           "color": "rgb(36,36,36)"
          },
          "geo": {
           "bgcolor": "white",
           "lakecolor": "white",
           "landcolor": "white",
           "showlakes": true,
           "showland": true,
           "subunitcolor": "white"
          },
          "hoverlabel": {
           "align": "left"
          },
          "hovermode": "closest",
          "mapbox": {
           "style": "light"
          },
          "paper_bgcolor": "white",
          "plot_bgcolor": "white",
          "polar": {
           "angularaxis": {
            "gridcolor": "rgb(232,232,232)",
            "linecolor": "rgb(36,36,36)",
            "showgrid": false,
            "showline": true,
            "ticks": "outside"
           },
           "bgcolor": "white",
           "radialaxis": {
            "gridcolor": "rgb(232,232,232)",
            "linecolor": "rgb(36,36,36)",
            "showgrid": false,
            "showline": true,
            "ticks": "outside"
           }
          },
          "scene": {
           "xaxis": {
            "backgroundcolor": "white",
            "gridcolor": "rgb(232,232,232)",
            "gridwidth": 2,
            "linecolor": "rgb(36,36,36)",
            "showbackground": true,
            "showgrid": false,
            "showline": true,
            "ticks": "outside",
            "zeroline": false,
            "zerolinecolor": "rgb(36,36,36)"
           },
           "yaxis": {
            "backgroundcolor": "white",
            "gridcolor": "rgb(232,232,232)",
            "gridwidth": 2,
            "linecolor": "rgb(36,36,36)",
            "showbackground": true,
            "showgrid": false,
            "showline": true,
            "ticks": "outside",
            "zeroline": false,
            "zerolinecolor": "rgb(36,36,36)"
           },
           "zaxis": {
            "backgroundcolor": "white",
            "gridcolor": "rgb(232,232,232)",
            "gridwidth": 2,
            "linecolor": "rgb(36,36,36)",
            "showbackground": true,
            "showgrid": false,
            "showline": true,
            "ticks": "outside",
            "zeroline": false,
            "zerolinecolor": "rgb(36,36,36)"
           }
          },
          "shapedefaults": {
           "fillcolor": "black",
           "line": {
            "width": 0
           },
           "opacity": 0.3
          },
          "ternary": {
           "aaxis": {
            "gridcolor": "rgb(232,232,232)",
            "linecolor": "rgb(36,36,36)",
            "showgrid": false,
            "showline": true,
            "ticks": "outside"
           },
           "baxis": {
            "gridcolor": "rgb(232,232,232)",
            "linecolor": "rgb(36,36,36)",
            "showgrid": false,
            "showline": true,
            "ticks": "outside"
           },
           "bgcolor": "white",
           "caxis": {
            "gridcolor": "rgb(232,232,232)",
            "linecolor": "rgb(36,36,36)",
            "showgrid": false,
            "showline": true,
            "ticks": "outside"
           }
          },
          "title": {
           "x": 0.05
          },
          "xaxis": {
           "automargin": true,
           "gridcolor": "rgb(232,232,232)",
           "linecolor": "rgb(36,36,36)",
           "showgrid": false,
           "showline": true,
           "ticks": "outside",
           "title": {
            "standoff": 15
           },
           "zeroline": false,
           "zerolinecolor": "rgb(36,36,36)"
          },
          "yaxis": {
           "automargin": true,
           "gridcolor": "rgb(232,232,232)",
           "linecolor": "rgb(36,36,36)",
           "showgrid": false,
           "showline": true,
           "ticks": "outside",
           "title": {
            "standoff": 15
           },
           "zeroline": false,
           "zerolinecolor": "rgb(36,36,36)"
          }
         }
        },
        "xaxis": {
         "anchor": "y",
         "domain": [
          0.0,
          1.0
         ],
         "title": {
          "text": ""
         },
         "visible": false,
         "range": [
          -7.994514465332031,
          14.97744665145874
         ]
        },
        "yaxis": {
         "anchor": "x",
         "domain": [
          0.0,
          1.0
         ],
         "title": {
          "text": ""
         },
         "visible": false,
         "range": [
          -7.499014449119568,
          23.020021820068358
         ]
        },
        "legend": {
         "tracegroupgap": 0,
         "itemsizing": "constant"
        },
        "margin": {
         "t": 60
        },
        "title": {
         "font": {
          "size": 22,
          "color": "Black"
         },
         "text": "<b>Intertopic Distance Map</b>",
         "y": 0.95,
         "x": 0.5,
         "xanchor": "center",
         "yanchor": "top"
        },
        "hoverlabel": {
         "font": {
          "size": 16,
          "family": "Rockwell"
         },
         "bgcolor": "white"
        },
        "width": 650,
        "height": 650,
        "sliders": [
         {
          "active": 0,
          "pad": {
           "t": 50
          },
          "steps": [
           {
            "args": [
             {
              "marker.color": [
               [
                "red",
                "#B0BEC5",
                "#B0BEC5",
                "#B0BEC5",
                "#B0BEC5",
                "#B0BEC5",
                "#B0BEC5",
                "#B0BEC5",
                "#B0BEC5",
                "#B0BEC5",
                "#B0BEC5",
                "#B0BEC5",
                "#B0BEC5",
                "#B0BEC5",
                "#B0BEC5",
                "#B0BEC5",
                "#B0BEC5",
                "#B0BEC5",
                "#B0BEC5",
                "#B0BEC5",
                "#B0BEC5",
                "#B0BEC5",
                "#B0BEC5",
                "#B0BEC5",
                "#B0BEC5",
                "#B0BEC5"
               ]
              ]
             }
            ],
            "label": "Topic 0",
            "method": "update"
           },
           {
            "args": [
             {
              "marker.color": [
               [
                "#B0BEC5",
                "red",
                "#B0BEC5",
                "#B0BEC5",
                "#B0BEC5",
                "#B0BEC5",
                "#B0BEC5",
                "#B0BEC5",
                "#B0BEC5",
                "#B0BEC5",
                "#B0BEC5",
                "#B0BEC5",
                "#B0BEC5",
                "#B0BEC5",
                "#B0BEC5",
                "#B0BEC5",
                "#B0BEC5",
                "#B0BEC5",
                "#B0BEC5",
                "#B0BEC5",
                "#B0BEC5",
                "#B0BEC5",
                "#B0BEC5",
                "#B0BEC5",
                "#B0BEC5",
                "#B0BEC5"
               ]
              ]
             }
            ],
            "label": "Topic 1",
            "method": "update"
           },
           {
            "args": [
             {
              "marker.color": [
               [
                "#B0BEC5",
                "#B0BEC5",
                "red",
                "#B0BEC5",
                "#B0BEC5",
                "#B0BEC5",
                "#B0BEC5",
                "#B0BEC5",
                "#B0BEC5",
                "#B0BEC5",
                "#B0BEC5",
                "#B0BEC5",
                "#B0BEC5",
                "#B0BEC5",
                "#B0BEC5",
                "#B0BEC5",
                "#B0BEC5",
                "#B0BEC5",
                "#B0BEC5",
                "#B0BEC5",
                "#B0BEC5",
                "#B0BEC5",
                "#B0BEC5",
                "#B0BEC5",
                "#B0BEC5",
                "#B0BEC5"
               ]
              ]
             }
            ],
            "label": "Topic 2",
            "method": "update"
           },
           {
            "args": [
             {
              "marker.color": [
               [
                "#B0BEC5",
                "#B0BEC5",
                "#B0BEC5",
                "red",
                "#B0BEC5",
                "#B0BEC5",
                "#B0BEC5",
                "#B0BEC5",
                "#B0BEC5",
                "#B0BEC5",
                "#B0BEC5",
                "#B0BEC5",
                "#B0BEC5",
                "#B0BEC5",
                "#B0BEC5",
                "#B0BEC5",
                "#B0BEC5",
                "#B0BEC5",
                "#B0BEC5",
                "#B0BEC5",
                "#B0BEC5",
                "#B0BEC5",
                "#B0BEC5",
                "#B0BEC5",
                "#B0BEC5",
                "#B0BEC5"
               ]
              ]
             }
            ],
            "label": "Topic 3",
            "method": "update"
           },
           {
            "args": [
             {
              "marker.color": [
               [
                "#B0BEC5",
                "#B0BEC5",
                "#B0BEC5",
                "#B0BEC5",
                "red",
                "#B0BEC5",
                "#B0BEC5",
                "#B0BEC5",
                "#B0BEC5",
                "#B0BEC5",
                "#B0BEC5",
                "#B0BEC5",
                "#B0BEC5",
                "#B0BEC5",
                "#B0BEC5",
                "#B0BEC5",
                "#B0BEC5",
                "#B0BEC5",
                "#B0BEC5",
                "#B0BEC5",
                "#B0BEC5",
                "#B0BEC5",
                "#B0BEC5",
                "#B0BEC5",
                "#B0BEC5",
                "#B0BEC5"
               ]
              ]
             }
            ],
            "label": "Topic 4",
            "method": "update"
           },
           {
            "args": [
             {
              "marker.color": [
               [
                "#B0BEC5",
                "#B0BEC5",
                "#B0BEC5",
                "#B0BEC5",
                "#B0BEC5",
                "red",
                "#B0BEC5",
                "#B0BEC5",
                "#B0BEC5",
                "#B0BEC5",
                "#B0BEC5",
                "#B0BEC5",
                "#B0BEC5",
                "#B0BEC5",
                "#B0BEC5",
                "#B0BEC5",
                "#B0BEC5",
                "#B0BEC5",
                "#B0BEC5",
                "#B0BEC5",
                "#B0BEC5",
                "#B0BEC5",
                "#B0BEC5",
                "#B0BEC5",
                "#B0BEC5",
                "#B0BEC5"
               ]
              ]
             }
            ],
            "label": "Topic 5",
            "method": "update"
           },
           {
            "args": [
             {
              "marker.color": [
               [
                "#B0BEC5",
                "#B0BEC5",
                "#B0BEC5",
                "#B0BEC5",
                "#B0BEC5",
                "#B0BEC5",
                "red",
                "#B0BEC5",
                "#B0BEC5",
                "#B0BEC5",
                "#B0BEC5",
                "#B0BEC5",
                "#B0BEC5",
                "#B0BEC5",
                "#B0BEC5",
                "#B0BEC5",
                "#B0BEC5",
                "#B0BEC5",
                "#B0BEC5",
                "#B0BEC5",
                "#B0BEC5",
                "#B0BEC5",
                "#B0BEC5",
                "#B0BEC5",
                "#B0BEC5",
                "#B0BEC5"
               ]
              ]
             }
            ],
            "label": "Topic 6",
            "method": "update"
           },
           {
            "args": [
             {
              "marker.color": [
               [
                "#B0BEC5",
                "#B0BEC5",
                "#B0BEC5",
                "#B0BEC5",
                "#B0BEC5",
                "#B0BEC5",
                "#B0BEC5",
                "red",
                "#B0BEC5",
                "#B0BEC5",
                "#B0BEC5",
                "#B0BEC5",
                "#B0BEC5",
                "#B0BEC5",
                "#B0BEC5",
                "#B0BEC5",
                "#B0BEC5",
                "#B0BEC5",
                "#B0BEC5",
                "#B0BEC5",
                "#B0BEC5",
                "#B0BEC5",
                "#B0BEC5",
                "#B0BEC5",
                "#B0BEC5",
                "#B0BEC5"
               ]
              ]
             }
            ],
            "label": "Topic 7",
            "method": "update"
           },
           {
            "args": [
             {
              "marker.color": [
               [
                "#B0BEC5",
                "#B0BEC5",
                "#B0BEC5",
                "#B0BEC5",
                "#B0BEC5",
                "#B0BEC5",
                "#B0BEC5",
                "#B0BEC5",
                "red",
                "#B0BEC5",
                "#B0BEC5",
                "#B0BEC5",
                "#B0BEC5",
                "#B0BEC5",
                "#B0BEC5",
                "#B0BEC5",
                "#B0BEC5",
                "#B0BEC5",
                "#B0BEC5",
                "#B0BEC5",
                "#B0BEC5",
                "#B0BEC5",
                "#B0BEC5",
                "#B0BEC5",
                "#B0BEC5",
                "#B0BEC5"
               ]
              ]
             }
            ],
            "label": "Topic 8",
            "method": "update"
           },
           {
            "args": [
             {
              "marker.color": [
               [
                "#B0BEC5",
                "#B0BEC5",
                "#B0BEC5",
                "#B0BEC5",
                "#B0BEC5",
                "#B0BEC5",
                "#B0BEC5",
                "#B0BEC5",
                "#B0BEC5",
                "red",
                "#B0BEC5",
                "#B0BEC5",
                "#B0BEC5",
                "#B0BEC5",
                "#B0BEC5",
                "#B0BEC5",
                "#B0BEC5",
                "#B0BEC5",
                "#B0BEC5",
                "#B0BEC5",
                "#B0BEC5",
                "#B0BEC5",
                "#B0BEC5",
                "#B0BEC5",
                "#B0BEC5",
                "#B0BEC5"
               ]
              ]
             }
            ],
            "label": "Topic 9",
            "method": "update"
           },
           {
            "args": [
             {
              "marker.color": [
               [
                "#B0BEC5",
                "#B0BEC5",
                "#B0BEC5",
                "#B0BEC5",
                "#B0BEC5",
                "#B0BEC5",
                "#B0BEC5",
                "#B0BEC5",
                "#B0BEC5",
                "#B0BEC5",
                "red",
                "#B0BEC5",
                "#B0BEC5",
                "#B0BEC5",
                "#B0BEC5",
                "#B0BEC5",
                "#B0BEC5",
                "#B0BEC5",
                "#B0BEC5",
                "#B0BEC5",
                "#B0BEC5",
                "#B0BEC5",
                "#B0BEC5",
                "#B0BEC5",
                "#B0BEC5",
                "#B0BEC5"
               ]
              ]
             }
            ],
            "label": "Topic 10",
            "method": "update"
           },
           {
            "args": [
             {
              "marker.color": [
               [
                "#B0BEC5",
                "#B0BEC5",
                "#B0BEC5",
                "#B0BEC5",
                "#B0BEC5",
                "#B0BEC5",
                "#B0BEC5",
                "#B0BEC5",
                "#B0BEC5",
                "#B0BEC5",
                "#B0BEC5",
                "red",
                "#B0BEC5",
                "#B0BEC5",
                "#B0BEC5",
                "#B0BEC5",
                "#B0BEC5",
                "#B0BEC5",
                "#B0BEC5",
                "#B0BEC5",
                "#B0BEC5",
                "#B0BEC5",
                "#B0BEC5",
                "#B0BEC5",
                "#B0BEC5",
                "#B0BEC5"
               ]
              ]
             }
            ],
            "label": "Topic 11",
            "method": "update"
           },
           {
            "args": [
             {
              "marker.color": [
               [
                "#B0BEC5",
                "#B0BEC5",
                "#B0BEC5",
                "#B0BEC5",
                "#B0BEC5",
                "#B0BEC5",
                "#B0BEC5",
                "#B0BEC5",
                "#B0BEC5",
                "#B0BEC5",
                "#B0BEC5",
                "#B0BEC5",
                "red",
                "#B0BEC5",
                "#B0BEC5",
                "#B0BEC5",
                "#B0BEC5",
                "#B0BEC5",
                "#B0BEC5",
                "#B0BEC5",
                "#B0BEC5",
                "#B0BEC5",
                "#B0BEC5",
                "#B0BEC5",
                "#B0BEC5",
                "#B0BEC5"
               ]
              ]
             }
            ],
            "label": "Topic 12",
            "method": "update"
           },
           {
            "args": [
             {
              "marker.color": [
               [
                "#B0BEC5",
                "#B0BEC5",
                "#B0BEC5",
                "#B0BEC5",
                "#B0BEC5",
                "#B0BEC5",
                "#B0BEC5",
                "#B0BEC5",
                "#B0BEC5",
                "#B0BEC5",
                "#B0BEC5",
                "#B0BEC5",
                "#B0BEC5",
                "red",
                "#B0BEC5",
                "#B0BEC5",
                "#B0BEC5",
                "#B0BEC5",
                "#B0BEC5",
                "#B0BEC5",
                "#B0BEC5",
                "#B0BEC5",
                "#B0BEC5",
                "#B0BEC5",
                "#B0BEC5",
                "#B0BEC5"
               ]
              ]
             }
            ],
            "label": "Topic 13",
            "method": "update"
           },
           {
            "args": [
             {
              "marker.color": [
               [
                "#B0BEC5",
                "#B0BEC5",
                "#B0BEC5",
                "#B0BEC5",
                "#B0BEC5",
                "#B0BEC5",
                "#B0BEC5",
                "#B0BEC5",
                "#B0BEC5",
                "#B0BEC5",
                "#B0BEC5",
                "#B0BEC5",
                "#B0BEC5",
                "#B0BEC5",
                "red",
                "#B0BEC5",
                "#B0BEC5",
                "#B0BEC5",
                "#B0BEC5",
                "#B0BEC5",
                "#B0BEC5",
                "#B0BEC5",
                "#B0BEC5",
                "#B0BEC5",
                "#B0BEC5",
                "#B0BEC5"
               ]
              ]
             }
            ],
            "label": "Topic 14",
            "method": "update"
           },
           {
            "args": [
             {
              "marker.color": [
               [
                "#B0BEC5",
                "#B0BEC5",
                "#B0BEC5",
                "#B0BEC5",
                "#B0BEC5",
                "#B0BEC5",
                "#B0BEC5",
                "#B0BEC5",
                "#B0BEC5",
                "#B0BEC5",
                "#B0BEC5",
                "#B0BEC5",
                "#B0BEC5",
                "#B0BEC5",
                "#B0BEC5",
                "red",
                "#B0BEC5",
                "#B0BEC5",
                "#B0BEC5",
                "#B0BEC5",
                "#B0BEC5",
                "#B0BEC5",
                "#B0BEC5",
                "#B0BEC5",
                "#B0BEC5",
                "#B0BEC5"
               ]
              ]
             }
            ],
            "label": "Topic 15",
            "method": "update"
           },
           {
            "args": [
             {
              "marker.color": [
               [
                "#B0BEC5",
                "#B0BEC5",
                "#B0BEC5",
                "#B0BEC5",
                "#B0BEC5",
                "#B0BEC5",
                "#B0BEC5",
                "#B0BEC5",
                "#B0BEC5",
                "#B0BEC5",
                "#B0BEC5",
                "#B0BEC5",
                "#B0BEC5",
                "#B0BEC5",
                "#B0BEC5",
                "#B0BEC5",
                "red",
                "#B0BEC5",
                "#B0BEC5",
                "#B0BEC5",
                "#B0BEC5",
                "#B0BEC5",
                "#B0BEC5",
                "#B0BEC5",
                "#B0BEC5",
                "#B0BEC5"
               ]
              ]
             }
            ],
            "label": "Topic 16",
            "method": "update"
           },
           {
            "args": [
             {
              "marker.color": [
               [
                "#B0BEC5",
                "#B0BEC5",
                "#B0BEC5",
                "#B0BEC5",
                "#B0BEC5",
                "#B0BEC5",
                "#B0BEC5",
                "#B0BEC5",
                "#B0BEC5",
                "#B0BEC5",
                "#B0BEC5",
                "#B0BEC5",
                "#B0BEC5",
                "#B0BEC5",
                "#B0BEC5",
                "#B0BEC5",
                "#B0BEC5",
                "red",
                "#B0BEC5",
                "#B0BEC5",
                "#B0BEC5",
                "#B0BEC5",
                "#B0BEC5",
                "#B0BEC5",
                "#B0BEC5",
                "#B0BEC5"
               ]
              ]
             }
            ],
            "label": "Topic 17",
            "method": "update"
           },
           {
            "args": [
             {
              "marker.color": [
               [
                "#B0BEC5",
                "#B0BEC5",
                "#B0BEC5",
                "#B0BEC5",
                "#B0BEC5",
                "#B0BEC5",
                "#B0BEC5",
                "#B0BEC5",
                "#B0BEC5",
                "#B0BEC5",
                "#B0BEC5",
                "#B0BEC5",
                "#B0BEC5",
                "#B0BEC5",
                "#B0BEC5",
                "#B0BEC5",
                "#B0BEC5",
                "#B0BEC5",
                "red",
                "#B0BEC5",
                "#B0BEC5",
                "#B0BEC5",
                "#B0BEC5",
                "#B0BEC5",
                "#B0BEC5",
                "#B0BEC5"
               ]
              ]
             }
            ],
            "label": "Topic 18",
            "method": "update"
           },
           {
            "args": [
             {
              "marker.color": [
               [
                "#B0BEC5",
                "#B0BEC5",
                "#B0BEC5",
                "#B0BEC5",
                "#B0BEC5",
                "#B0BEC5",
                "#B0BEC5",
                "#B0BEC5",
                "#B0BEC5",
                "#B0BEC5",
                "#B0BEC5",
                "#B0BEC5",
                "#B0BEC5",
                "#B0BEC5",
                "#B0BEC5",
                "#B0BEC5",
                "#B0BEC5",
                "#B0BEC5",
                "#B0BEC5",
                "red",
                "#B0BEC5",
                "#B0BEC5",
                "#B0BEC5",
                "#B0BEC5",
                "#B0BEC5",
                "#B0BEC5"
               ]
              ]
             }
            ],
            "label": "Topic 19",
            "method": "update"
           },
           {
            "args": [
             {
              "marker.color": [
               [
                "#B0BEC5",
                "#B0BEC5",
                "#B0BEC5",
                "#B0BEC5",
                "#B0BEC5",
                "#B0BEC5",
                "#B0BEC5",
                "#B0BEC5",
                "#B0BEC5",
                "#B0BEC5",
                "#B0BEC5",
                "#B0BEC5",
                "#B0BEC5",
                "#B0BEC5",
                "#B0BEC5",
                "#B0BEC5",
                "#B0BEC5",
                "#B0BEC5",
                "#B0BEC5",
                "#B0BEC5",
                "red",
                "#B0BEC5",
                "#B0BEC5",
                "#B0BEC5",
                "#B0BEC5",
                "#B0BEC5"
               ]
              ]
             }
            ],
            "label": "Topic 20",
            "method": "update"
           },
           {
            "args": [
             {
              "marker.color": [
               [
                "#B0BEC5",
                "#B0BEC5",
                "#B0BEC5",
                "#B0BEC5",
                "#B0BEC5",
                "#B0BEC5",
                "#B0BEC5",
                "#B0BEC5",
                "#B0BEC5",
                "#B0BEC5",
                "#B0BEC5",
                "#B0BEC5",
                "#B0BEC5",
                "#B0BEC5",
                "#B0BEC5",
                "#B0BEC5",
                "#B0BEC5",
                "#B0BEC5",
                "#B0BEC5",
                "#B0BEC5",
                "#B0BEC5",
                "red",
                "#B0BEC5",
                "#B0BEC5",
                "#B0BEC5",
                "#B0BEC5"
               ]
              ]
             }
            ],
            "label": "Topic 21",
            "method": "update"
           },
           {
            "args": [
             {
              "marker.color": [
               [
                "#B0BEC5",
                "#B0BEC5",
                "#B0BEC5",
                "#B0BEC5",
                "#B0BEC5",
                "#B0BEC5",
                "#B0BEC5",
                "#B0BEC5",
                "#B0BEC5",
                "#B0BEC5",
                "#B0BEC5",
                "#B0BEC5",
                "#B0BEC5",
                "#B0BEC5",
                "#B0BEC5",
                "#B0BEC5",
                "#B0BEC5",
                "#B0BEC5",
                "#B0BEC5",
                "#B0BEC5",
                "#B0BEC5",
                "#B0BEC5",
                "red",
                "#B0BEC5",
                "#B0BEC5",
                "#B0BEC5"
               ]
              ]
             }
            ],
            "label": "Topic 22",
            "method": "update"
           },
           {
            "args": [
             {
              "marker.color": [
               [
                "#B0BEC5",
                "#B0BEC5",
                "#B0BEC5",
                "#B0BEC5",
                "#B0BEC5",
                "#B0BEC5",
                "#B0BEC5",
                "#B0BEC5",
                "#B0BEC5",
                "#B0BEC5",
                "#B0BEC5",
                "#B0BEC5",
                "#B0BEC5",
                "#B0BEC5",
                "#B0BEC5",
                "#B0BEC5",
                "#B0BEC5",
                "#B0BEC5",
                "#B0BEC5",
                "#B0BEC5",
                "#B0BEC5",
                "#B0BEC5",
                "#B0BEC5",
                "red",
                "#B0BEC5",
                "#B0BEC5"
               ]
              ]
             }
            ],
            "label": "Topic 23",
            "method": "update"
           },
           {
            "args": [
             {
              "marker.color": [
               [
                "#B0BEC5",
                "#B0BEC5",
                "#B0BEC5",
                "#B0BEC5",
                "#B0BEC5",
                "#B0BEC5",
                "#B0BEC5",
                "#B0BEC5",
                "#B0BEC5",
                "#B0BEC5",
                "#B0BEC5",
                "#B0BEC5",
                "#B0BEC5",
                "#B0BEC5",
                "#B0BEC5",
                "#B0BEC5",
                "#B0BEC5",
                "#B0BEC5",
                "#B0BEC5",
                "#B0BEC5",
                "#B0BEC5",
                "#B0BEC5",
                "#B0BEC5",
                "#B0BEC5",
                "red",
                "#B0BEC5"
               ]
              ]
             }
            ],
            "label": "Topic 24",
            "method": "update"
           },
           {
            "args": [
             {
              "marker.color": [
               [
                "#B0BEC5",
                "#B0BEC5",
                "#B0BEC5",
                "#B0BEC5",
                "#B0BEC5",
                "#B0BEC5",
                "#B0BEC5",
                "#B0BEC5",
                "#B0BEC5",
                "#B0BEC5",
                "#B0BEC5",
                "#B0BEC5",
                "#B0BEC5",
                "#B0BEC5",
                "#B0BEC5",
                "#B0BEC5",
                "#B0BEC5",
                "#B0BEC5",
                "#B0BEC5",
                "#B0BEC5",
                "#B0BEC5",
                "#B0BEC5",
                "#B0BEC5",
                "#B0BEC5",
                "#B0BEC5",
                "red"
               ]
              ]
             }
            ],
            "label": "Topic 25",
            "method": "update"
           }
          ]
         }
        ],
        "shapes": [
         {
          "line": {
           "color": "#CFD8DC",
           "width": 2
          },
          "type": "line",
          "x0": 3.4914660930633543,
          "x1": 3.4914660930633543,
          "y0": -7.499014449119568,
          "y1": 23.020021820068358
         },
         {
          "line": {
           "color": "#9E9E9E",
           "width": 2
          },
          "type": "line",
          "x0": -7.994514465332031,
          "x1": 14.97744665145874,
          "y0": 7.760503685474395,
          "y1": 7.760503685474395
         }
        ],
        "annotations": [
         {
          "showarrow": false,
          "text": "D1",
          "x": -7.994514465332031,
          "y": 7.760503685474395,
          "yshift": 10
         },
         {
          "showarrow": false,
          "text": "D2",
          "x": 3.4914660930633543,
          "xshift": 10,
          "y": 23.020021820068358
         }
        ]
       },
       "config": {
        "plotlyServerURL": "https://plot.ly"
       }
      },
      "text/html": [
       "<div>                            <div id=\"4321e4ae-45dc-4b31-9873-83a0e0bc6f22\" class=\"plotly-graph-div\" style=\"height:650px; width:650px;\"></div>            <script type=\"text/javascript\">                require([\"plotly\"], function(Plotly) {                    window.PLOTLYENV=window.PLOTLYENV || {};                                    if (document.getElementById(\"4321e4ae-45dc-4b31-9873-83a0e0bc6f22\")) {                    Plotly.newPlot(                        \"4321e4ae-45dc-4b31-9873-83a0e0bc6f22\",                        [{\"customdata\":[[0,\"Tech Stocks Analysis and Market Trends\",871],[1,\"Market News and Earnings Highlights\",541],[2,\"NVIDIA's Growth Prospects and Financial Performance\",446],[3,\"NVIDIA stock trading performance on NASDAQ exchange\",149],[4,\"Emerging Trends in Self-Driving Vehicle Technology\",120],[5,\"Economic Analysis and Market Trends Summary\",64],[6,\"U.S. stock market performance and trends analysis\",60],[7,\"Earnings Growth Trends and Estimates Analysis by Zacks\",56],[8,\"U.S.-China Trade Tensions, Huawei Blacklisting, Semiconductor Companies, Tariffs, Market Impact\",52],[9,\"Facebook's initiatives for user safety and growth, developments in the social media landscape\",39],[10,\"AMD's Radeon GPUs Revolutionizing the Gaming and Datacenter Markets\",35],[11,\"Bitcoin and Ethereum in the Digital Currency Market\",34],[12,\"Technology Earnings Highlights and Emerging Trends in Gaming Industry\",27],[13,\"The Growing Influence of Artificial Intelligence in Robotics and Technology\",26],[14,\"Pure Storage Inc - Recent Earnings and Growth Outlook\",26],[15,\"Cadence Design Systems Quarterly Financial Performance and Outlook\",21],[16,\"Qualcomm fined by European Commission for antitrust practices and abuse of market power\",21],[17,\"Tesla's Innovation and Future Prospects\",18],[18,\"Financial Offerings and Cash Positions of Pure Storage Inc and Texas Instruments Incorporated\",16],[19,\"NetApp Inc fiscal quarter performance and cloud solutions\",16],[20,\"SoftBank's Vision Fund and Investment Strategies\",15],[21,\"Impact of Coronavirus Outbreak on Global Companies and Economy\",15],[22,\"Amazon's Expansion and Technology Influence\",13],[23,\"Google vs Oracle fair use case and Alphabet's efforts to combat piracy, Microsoft Worldwide Partner Conference highlights, Facebook's potential partnership with ESPN and others, Intel's strategic board addition, Seagate's preliminary results and job cuts.\",11],[24,\"Dividend Growth Stocks for Secure Retirement\",11],[25,\"Marvell Technology Group's Strong Performance in SSD and Ethernet Markets\",5]],\"hovertemplate\":\"\\u003cb\\u003eTopic %{customdata[0]}\\u003c\\u002fb\\u003e\\u003cbr\\u003e%{customdata[1]}\\u003cbr\\u003eSize: %{customdata[2]}\",\"legendgroup\":\"\",\"marker\":{\"color\":\"#B0BEC5\",\"size\":[871,541,446,149,120,64,60,56,52,39,35,34,27,26,26,21,21,18,16,16,15,15,13,11,11,5],\"sizemode\":\"area\",\"sizeref\":0.544375,\"symbol\":\"circle\",\"line\":{\"color\":\"DarkSlateGrey\",\"width\":2}},\"mode\":\"markers\",\"name\":\"\",\"orientation\":\"v\",\"showlegend\":false,\"x\":[-2.889035940170288,2.971168279647827,-6.76599645614624,-6.689888000488281,12.974130630493164,-3.60294771194458,-3.3749077320098877,2.693218946456909,1.222313404083252,2.599327325820923,4.006576061248779,-3.7471330165863037,3.508439779281616,13.023866653442383,1.4899396896362305,11.869247436523438,1.3649920225143433,-2.6688127517700195,1.5684616565704346,11.981973648071289,-6.410842418670654,-6.951751708984375,12.369747161865234,11.761778831481934,1.6843029260635376,4.333767414093018],\"xaxis\":\"x\",\"y\":[19.767578125,1.8448126316070557,-6.167834281921387,-6.246097564697266,-4.20443868637085,19.91597557067871,19.879558563232422,2.287266492843628,12.295185089111328,1.9239188432693481,1.8350768089294434,20.017410278320312,2.0752837657928467,-4.254150867462158,3.010645866394043,7.138950824737549,12.436911582946777,19.95130157470703,2.884145736694336,6.887269496917725,-6.5208821296691895,-5.980786323547363,6.971515655517578,6.674844741821289,2.7059991359710693,1.5753569602966309],\"yaxis\":\"y\",\"type\":\"scatter\"}],                        {\"template\":{\"data\":{\"barpolar\":[{\"marker\":{\"line\":{\"color\":\"white\",\"width\":0.5},\"pattern\":{\"fillmode\":\"overlay\",\"size\":10,\"solidity\":0.2}},\"type\":\"barpolar\"}],\"bar\":[{\"error_x\":{\"color\":\"rgb(36,36,36)\"},\"error_y\":{\"color\":\"rgb(36,36,36)\"},\"marker\":{\"line\":{\"color\":\"white\",\"width\":0.5},\"pattern\":{\"fillmode\":\"overlay\",\"size\":10,\"solidity\":0.2}},\"type\":\"bar\"}],\"carpet\":[{\"aaxis\":{\"endlinecolor\":\"rgb(36,36,36)\",\"gridcolor\":\"white\",\"linecolor\":\"white\",\"minorgridcolor\":\"white\",\"startlinecolor\":\"rgb(36,36,36)\"},\"baxis\":{\"endlinecolor\":\"rgb(36,36,36)\",\"gridcolor\":\"white\",\"linecolor\":\"white\",\"minorgridcolor\":\"white\",\"startlinecolor\":\"rgb(36,36,36)\"},\"type\":\"carpet\"}],\"choropleth\":[{\"colorbar\":{\"outlinewidth\":1,\"tickcolor\":\"rgb(36,36,36)\",\"ticks\":\"outside\"},\"type\":\"choropleth\"}],\"contourcarpet\":[{\"colorbar\":{\"outlinewidth\":1,\"tickcolor\":\"rgb(36,36,36)\",\"ticks\":\"outside\"},\"type\":\"contourcarpet\"}],\"contour\":[{\"colorbar\":{\"outlinewidth\":1,\"tickcolor\":\"rgb(36,36,36)\",\"ticks\":\"outside\"},\"colorscale\":[[0.0,\"#440154\"],[0.1111111111111111,\"#482878\"],[0.2222222222222222,\"#3e4989\"],[0.3333333333333333,\"#31688e\"],[0.4444444444444444,\"#26828e\"],[0.5555555555555556,\"#1f9e89\"],[0.6666666666666666,\"#35b779\"],[0.7777777777777778,\"#6ece58\"],[0.8888888888888888,\"#b5de2b\"],[1.0,\"#fde725\"]],\"type\":\"contour\"}],\"heatmapgl\":[{\"colorbar\":{\"outlinewidth\":1,\"tickcolor\":\"rgb(36,36,36)\",\"ticks\":\"outside\"},\"colorscale\":[[0.0,\"#440154\"],[0.1111111111111111,\"#482878\"],[0.2222222222222222,\"#3e4989\"],[0.3333333333333333,\"#31688e\"],[0.4444444444444444,\"#26828e\"],[0.5555555555555556,\"#1f9e89\"],[0.6666666666666666,\"#35b779\"],[0.7777777777777778,\"#6ece58\"],[0.8888888888888888,\"#b5de2b\"],[1.0,\"#fde725\"]],\"type\":\"heatmapgl\"}],\"heatmap\":[{\"colorbar\":{\"outlinewidth\":1,\"tickcolor\":\"rgb(36,36,36)\",\"ticks\":\"outside\"},\"colorscale\":[[0.0,\"#440154\"],[0.1111111111111111,\"#482878\"],[0.2222222222222222,\"#3e4989\"],[0.3333333333333333,\"#31688e\"],[0.4444444444444444,\"#26828e\"],[0.5555555555555556,\"#1f9e89\"],[0.6666666666666666,\"#35b779\"],[0.7777777777777778,\"#6ece58\"],[0.8888888888888888,\"#b5de2b\"],[1.0,\"#fde725\"]],\"type\":\"heatmap\"}],\"histogram2dcontour\":[{\"colorbar\":{\"outlinewidth\":1,\"tickcolor\":\"rgb(36,36,36)\",\"ticks\":\"outside\"},\"colorscale\":[[0.0,\"#440154\"],[0.1111111111111111,\"#482878\"],[0.2222222222222222,\"#3e4989\"],[0.3333333333333333,\"#31688e\"],[0.4444444444444444,\"#26828e\"],[0.5555555555555556,\"#1f9e89\"],[0.6666666666666666,\"#35b779\"],[0.7777777777777778,\"#6ece58\"],[0.8888888888888888,\"#b5de2b\"],[1.0,\"#fde725\"]],\"type\":\"histogram2dcontour\"}],\"histogram2d\":[{\"colorbar\":{\"outlinewidth\":1,\"tickcolor\":\"rgb(36,36,36)\",\"ticks\":\"outside\"},\"colorscale\":[[0.0,\"#440154\"],[0.1111111111111111,\"#482878\"],[0.2222222222222222,\"#3e4989\"],[0.3333333333333333,\"#31688e\"],[0.4444444444444444,\"#26828e\"],[0.5555555555555556,\"#1f9e89\"],[0.6666666666666666,\"#35b779\"],[0.7777777777777778,\"#6ece58\"],[0.8888888888888888,\"#b5de2b\"],[1.0,\"#fde725\"]],\"type\":\"histogram2d\"}],\"histogram\":[{\"marker\":{\"line\":{\"color\":\"white\",\"width\":0.6}},\"type\":\"histogram\"}],\"mesh3d\":[{\"colorbar\":{\"outlinewidth\":1,\"tickcolor\":\"rgb(36,36,36)\",\"ticks\":\"outside\"},\"type\":\"mesh3d\"}],\"parcoords\":[{\"line\":{\"colorbar\":{\"outlinewidth\":1,\"tickcolor\":\"rgb(36,36,36)\",\"ticks\":\"outside\"}},\"type\":\"parcoords\"}],\"pie\":[{\"automargin\":true,\"type\":\"pie\"}],\"scatter3d\":[{\"line\":{\"colorbar\":{\"outlinewidth\":1,\"tickcolor\":\"rgb(36,36,36)\",\"ticks\":\"outside\"}},\"marker\":{\"colorbar\":{\"outlinewidth\":1,\"tickcolor\":\"rgb(36,36,36)\",\"ticks\":\"outside\"}},\"type\":\"scatter3d\"}],\"scattercarpet\":[{\"marker\":{\"colorbar\":{\"outlinewidth\":1,\"tickcolor\":\"rgb(36,36,36)\",\"ticks\":\"outside\"}},\"type\":\"scattercarpet\"}],\"scattergeo\":[{\"marker\":{\"colorbar\":{\"outlinewidth\":1,\"tickcolor\":\"rgb(36,36,36)\",\"ticks\":\"outside\"}},\"type\":\"scattergeo\"}],\"scattergl\":[{\"marker\":{\"colorbar\":{\"outlinewidth\":1,\"tickcolor\":\"rgb(36,36,36)\",\"ticks\":\"outside\"}},\"type\":\"scattergl\"}],\"scattermapbox\":[{\"marker\":{\"colorbar\":{\"outlinewidth\":1,\"tickcolor\":\"rgb(36,36,36)\",\"ticks\":\"outside\"}},\"type\":\"scattermapbox\"}],\"scatterpolargl\":[{\"marker\":{\"colorbar\":{\"outlinewidth\":1,\"tickcolor\":\"rgb(36,36,36)\",\"ticks\":\"outside\"}},\"type\":\"scatterpolargl\"}],\"scatterpolar\":[{\"marker\":{\"colorbar\":{\"outlinewidth\":1,\"tickcolor\":\"rgb(36,36,36)\",\"ticks\":\"outside\"}},\"type\":\"scatterpolar\"}],\"scatter\":[{\"fillpattern\":{\"fillmode\":\"overlay\",\"size\":10,\"solidity\":0.2},\"type\":\"scatter\"}],\"scatterternary\":[{\"marker\":{\"colorbar\":{\"outlinewidth\":1,\"tickcolor\":\"rgb(36,36,36)\",\"ticks\":\"outside\"}},\"type\":\"scatterternary\"}],\"surface\":[{\"colorbar\":{\"outlinewidth\":1,\"tickcolor\":\"rgb(36,36,36)\",\"ticks\":\"outside\"},\"colorscale\":[[0.0,\"#440154\"],[0.1111111111111111,\"#482878\"],[0.2222222222222222,\"#3e4989\"],[0.3333333333333333,\"#31688e\"],[0.4444444444444444,\"#26828e\"],[0.5555555555555556,\"#1f9e89\"],[0.6666666666666666,\"#35b779\"],[0.7777777777777778,\"#6ece58\"],[0.8888888888888888,\"#b5de2b\"],[1.0,\"#fde725\"]],\"type\":\"surface\"}],\"table\":[{\"cells\":{\"fill\":{\"color\":\"rgb(237,237,237)\"},\"line\":{\"color\":\"white\"}},\"header\":{\"fill\":{\"color\":\"rgb(217,217,217)\"},\"line\":{\"color\":\"white\"}},\"type\":\"table\"}]},\"layout\":{\"annotationdefaults\":{\"arrowhead\":0,\"arrowwidth\":1},\"autotypenumbers\":\"strict\",\"coloraxis\":{\"colorbar\":{\"outlinewidth\":1,\"tickcolor\":\"rgb(36,36,36)\",\"ticks\":\"outside\"}},\"colorscale\":{\"diverging\":[[0.0,\"rgb(103,0,31)\"],[0.1,\"rgb(178,24,43)\"],[0.2,\"rgb(214,96,77)\"],[0.3,\"rgb(244,165,130)\"],[0.4,\"rgb(253,219,199)\"],[0.5,\"rgb(247,247,247)\"],[0.6,\"rgb(209,229,240)\"],[0.7,\"rgb(146,197,222)\"],[0.8,\"rgb(67,147,195)\"],[0.9,\"rgb(33,102,172)\"],[1.0,\"rgb(5,48,97)\"]],\"sequential\":[[0.0,\"#440154\"],[0.1111111111111111,\"#482878\"],[0.2222222222222222,\"#3e4989\"],[0.3333333333333333,\"#31688e\"],[0.4444444444444444,\"#26828e\"],[0.5555555555555556,\"#1f9e89\"],[0.6666666666666666,\"#35b779\"],[0.7777777777777778,\"#6ece58\"],[0.8888888888888888,\"#b5de2b\"],[1.0,\"#fde725\"]],\"sequentialminus\":[[0.0,\"#440154\"],[0.1111111111111111,\"#482878\"],[0.2222222222222222,\"#3e4989\"],[0.3333333333333333,\"#31688e\"],[0.4444444444444444,\"#26828e\"],[0.5555555555555556,\"#1f9e89\"],[0.6666666666666666,\"#35b779\"],[0.7777777777777778,\"#6ece58\"],[0.8888888888888888,\"#b5de2b\"],[1.0,\"#fde725\"]]},\"colorway\":[\"#1F77B4\",\"#FF7F0E\",\"#2CA02C\",\"#D62728\",\"#9467BD\",\"#8C564B\",\"#E377C2\",\"#7F7F7F\",\"#BCBD22\",\"#17BECF\"],\"font\":{\"color\":\"rgb(36,36,36)\"},\"geo\":{\"bgcolor\":\"white\",\"lakecolor\":\"white\",\"landcolor\":\"white\",\"showlakes\":true,\"showland\":true,\"subunitcolor\":\"white\"},\"hoverlabel\":{\"align\":\"left\"},\"hovermode\":\"closest\",\"mapbox\":{\"style\":\"light\"},\"paper_bgcolor\":\"white\",\"plot_bgcolor\":\"white\",\"polar\":{\"angularaxis\":{\"gridcolor\":\"rgb(232,232,232)\",\"linecolor\":\"rgb(36,36,36)\",\"showgrid\":false,\"showline\":true,\"ticks\":\"outside\"},\"bgcolor\":\"white\",\"radialaxis\":{\"gridcolor\":\"rgb(232,232,232)\",\"linecolor\":\"rgb(36,36,36)\",\"showgrid\":false,\"showline\":true,\"ticks\":\"outside\"}},\"scene\":{\"xaxis\":{\"backgroundcolor\":\"white\",\"gridcolor\":\"rgb(232,232,232)\",\"gridwidth\":2,\"linecolor\":\"rgb(36,36,36)\",\"showbackground\":true,\"showgrid\":false,\"showline\":true,\"ticks\":\"outside\",\"zeroline\":false,\"zerolinecolor\":\"rgb(36,36,36)\"},\"yaxis\":{\"backgroundcolor\":\"white\",\"gridcolor\":\"rgb(232,232,232)\",\"gridwidth\":2,\"linecolor\":\"rgb(36,36,36)\",\"showbackground\":true,\"showgrid\":false,\"showline\":true,\"ticks\":\"outside\",\"zeroline\":false,\"zerolinecolor\":\"rgb(36,36,36)\"},\"zaxis\":{\"backgroundcolor\":\"white\",\"gridcolor\":\"rgb(232,232,232)\",\"gridwidth\":2,\"linecolor\":\"rgb(36,36,36)\",\"showbackground\":true,\"showgrid\":false,\"showline\":true,\"ticks\":\"outside\",\"zeroline\":false,\"zerolinecolor\":\"rgb(36,36,36)\"}},\"shapedefaults\":{\"fillcolor\":\"black\",\"line\":{\"width\":0},\"opacity\":0.3},\"ternary\":{\"aaxis\":{\"gridcolor\":\"rgb(232,232,232)\",\"linecolor\":\"rgb(36,36,36)\",\"showgrid\":false,\"showline\":true,\"ticks\":\"outside\"},\"baxis\":{\"gridcolor\":\"rgb(232,232,232)\",\"linecolor\":\"rgb(36,36,36)\",\"showgrid\":false,\"showline\":true,\"ticks\":\"outside\"},\"bgcolor\":\"white\",\"caxis\":{\"gridcolor\":\"rgb(232,232,232)\",\"linecolor\":\"rgb(36,36,36)\",\"showgrid\":false,\"showline\":true,\"ticks\":\"outside\"}},\"title\":{\"x\":0.05},\"xaxis\":{\"automargin\":true,\"gridcolor\":\"rgb(232,232,232)\",\"linecolor\":\"rgb(36,36,36)\",\"showgrid\":false,\"showline\":true,\"ticks\":\"outside\",\"title\":{\"standoff\":15},\"zeroline\":false,\"zerolinecolor\":\"rgb(36,36,36)\"},\"yaxis\":{\"automargin\":true,\"gridcolor\":\"rgb(232,232,232)\",\"linecolor\":\"rgb(36,36,36)\",\"showgrid\":false,\"showline\":true,\"ticks\":\"outside\",\"title\":{\"standoff\":15},\"zeroline\":false,\"zerolinecolor\":\"rgb(36,36,36)\"}}},\"xaxis\":{\"anchor\":\"y\",\"domain\":[0.0,1.0],\"title\":{\"text\":\"\"},\"visible\":false,\"range\":[-7.994514465332031,14.97744665145874]},\"yaxis\":{\"anchor\":\"x\",\"domain\":[0.0,1.0],\"title\":{\"text\":\"\"},\"visible\":false,\"range\":[-7.499014449119568,23.020021820068358]},\"legend\":{\"tracegroupgap\":0,\"itemsizing\":\"constant\"},\"margin\":{\"t\":60},\"title\":{\"font\":{\"size\":22,\"color\":\"Black\"},\"text\":\"\\u003cb\\u003eIntertopic Distance Map\\u003c\\u002fb\\u003e\",\"y\":0.95,\"x\":0.5,\"xanchor\":\"center\",\"yanchor\":\"top\"},\"hoverlabel\":{\"font\":{\"size\":16,\"family\":\"Rockwell\"},\"bgcolor\":\"white\"},\"width\":650,\"height\":650,\"sliders\":[{\"active\":0,\"pad\":{\"t\":50},\"steps\":[{\"args\":[{\"marker.color\":[[\"red\",\"#B0BEC5\",\"#B0BEC5\",\"#B0BEC5\",\"#B0BEC5\",\"#B0BEC5\",\"#B0BEC5\",\"#B0BEC5\",\"#B0BEC5\",\"#B0BEC5\",\"#B0BEC5\",\"#B0BEC5\",\"#B0BEC5\",\"#B0BEC5\",\"#B0BEC5\",\"#B0BEC5\",\"#B0BEC5\",\"#B0BEC5\",\"#B0BEC5\",\"#B0BEC5\",\"#B0BEC5\",\"#B0BEC5\",\"#B0BEC5\",\"#B0BEC5\",\"#B0BEC5\",\"#B0BEC5\"]]}],\"label\":\"Topic 0\",\"method\":\"update\"},{\"args\":[{\"marker.color\":[[\"#B0BEC5\",\"red\",\"#B0BEC5\",\"#B0BEC5\",\"#B0BEC5\",\"#B0BEC5\",\"#B0BEC5\",\"#B0BEC5\",\"#B0BEC5\",\"#B0BEC5\",\"#B0BEC5\",\"#B0BEC5\",\"#B0BEC5\",\"#B0BEC5\",\"#B0BEC5\",\"#B0BEC5\",\"#B0BEC5\",\"#B0BEC5\",\"#B0BEC5\",\"#B0BEC5\",\"#B0BEC5\",\"#B0BEC5\",\"#B0BEC5\",\"#B0BEC5\",\"#B0BEC5\",\"#B0BEC5\"]]}],\"label\":\"Topic 1\",\"method\":\"update\"},{\"args\":[{\"marker.color\":[[\"#B0BEC5\",\"#B0BEC5\",\"red\",\"#B0BEC5\",\"#B0BEC5\",\"#B0BEC5\",\"#B0BEC5\",\"#B0BEC5\",\"#B0BEC5\",\"#B0BEC5\",\"#B0BEC5\",\"#B0BEC5\",\"#B0BEC5\",\"#B0BEC5\",\"#B0BEC5\",\"#B0BEC5\",\"#B0BEC5\",\"#B0BEC5\",\"#B0BEC5\",\"#B0BEC5\",\"#B0BEC5\",\"#B0BEC5\",\"#B0BEC5\",\"#B0BEC5\",\"#B0BEC5\",\"#B0BEC5\"]]}],\"label\":\"Topic 2\",\"method\":\"update\"},{\"args\":[{\"marker.color\":[[\"#B0BEC5\",\"#B0BEC5\",\"#B0BEC5\",\"red\",\"#B0BEC5\",\"#B0BEC5\",\"#B0BEC5\",\"#B0BEC5\",\"#B0BEC5\",\"#B0BEC5\",\"#B0BEC5\",\"#B0BEC5\",\"#B0BEC5\",\"#B0BEC5\",\"#B0BEC5\",\"#B0BEC5\",\"#B0BEC5\",\"#B0BEC5\",\"#B0BEC5\",\"#B0BEC5\",\"#B0BEC5\",\"#B0BEC5\",\"#B0BEC5\",\"#B0BEC5\",\"#B0BEC5\",\"#B0BEC5\"]]}],\"label\":\"Topic 3\",\"method\":\"update\"},{\"args\":[{\"marker.color\":[[\"#B0BEC5\",\"#B0BEC5\",\"#B0BEC5\",\"#B0BEC5\",\"red\",\"#B0BEC5\",\"#B0BEC5\",\"#B0BEC5\",\"#B0BEC5\",\"#B0BEC5\",\"#B0BEC5\",\"#B0BEC5\",\"#B0BEC5\",\"#B0BEC5\",\"#B0BEC5\",\"#B0BEC5\",\"#B0BEC5\",\"#B0BEC5\",\"#B0BEC5\",\"#B0BEC5\",\"#B0BEC5\",\"#B0BEC5\",\"#B0BEC5\",\"#B0BEC5\",\"#B0BEC5\",\"#B0BEC5\"]]}],\"label\":\"Topic 4\",\"method\":\"update\"},{\"args\":[{\"marker.color\":[[\"#B0BEC5\",\"#B0BEC5\",\"#B0BEC5\",\"#B0BEC5\",\"#B0BEC5\",\"red\",\"#B0BEC5\",\"#B0BEC5\",\"#B0BEC5\",\"#B0BEC5\",\"#B0BEC5\",\"#B0BEC5\",\"#B0BEC5\",\"#B0BEC5\",\"#B0BEC5\",\"#B0BEC5\",\"#B0BEC5\",\"#B0BEC5\",\"#B0BEC5\",\"#B0BEC5\",\"#B0BEC5\",\"#B0BEC5\",\"#B0BEC5\",\"#B0BEC5\",\"#B0BEC5\",\"#B0BEC5\"]]}],\"label\":\"Topic 5\",\"method\":\"update\"},{\"args\":[{\"marker.color\":[[\"#B0BEC5\",\"#B0BEC5\",\"#B0BEC5\",\"#B0BEC5\",\"#B0BEC5\",\"#B0BEC5\",\"red\",\"#B0BEC5\",\"#B0BEC5\",\"#B0BEC5\",\"#B0BEC5\",\"#B0BEC5\",\"#B0BEC5\",\"#B0BEC5\",\"#B0BEC5\",\"#B0BEC5\",\"#B0BEC5\",\"#B0BEC5\",\"#B0BEC5\",\"#B0BEC5\",\"#B0BEC5\",\"#B0BEC5\",\"#B0BEC5\",\"#B0BEC5\",\"#B0BEC5\",\"#B0BEC5\"]]}],\"label\":\"Topic 6\",\"method\":\"update\"},{\"args\":[{\"marker.color\":[[\"#B0BEC5\",\"#B0BEC5\",\"#B0BEC5\",\"#B0BEC5\",\"#B0BEC5\",\"#B0BEC5\",\"#B0BEC5\",\"red\",\"#B0BEC5\",\"#B0BEC5\",\"#B0BEC5\",\"#B0BEC5\",\"#B0BEC5\",\"#B0BEC5\",\"#B0BEC5\",\"#B0BEC5\",\"#B0BEC5\",\"#B0BEC5\",\"#B0BEC5\",\"#B0BEC5\",\"#B0BEC5\",\"#B0BEC5\",\"#B0BEC5\",\"#B0BEC5\",\"#B0BEC5\",\"#B0BEC5\"]]}],\"label\":\"Topic 7\",\"method\":\"update\"},{\"args\":[{\"marker.color\":[[\"#B0BEC5\",\"#B0BEC5\",\"#B0BEC5\",\"#B0BEC5\",\"#B0BEC5\",\"#B0BEC5\",\"#B0BEC5\",\"#B0BEC5\",\"red\",\"#B0BEC5\",\"#B0BEC5\",\"#B0BEC5\",\"#B0BEC5\",\"#B0BEC5\",\"#B0BEC5\",\"#B0BEC5\",\"#B0BEC5\",\"#B0BEC5\",\"#B0BEC5\",\"#B0BEC5\",\"#B0BEC5\",\"#B0BEC5\",\"#B0BEC5\",\"#B0BEC5\",\"#B0BEC5\",\"#B0BEC5\"]]}],\"label\":\"Topic 8\",\"method\":\"update\"},{\"args\":[{\"marker.color\":[[\"#B0BEC5\",\"#B0BEC5\",\"#B0BEC5\",\"#B0BEC5\",\"#B0BEC5\",\"#B0BEC5\",\"#B0BEC5\",\"#B0BEC5\",\"#B0BEC5\",\"red\",\"#B0BEC5\",\"#B0BEC5\",\"#B0BEC5\",\"#B0BEC5\",\"#B0BEC5\",\"#B0BEC5\",\"#B0BEC5\",\"#B0BEC5\",\"#B0BEC5\",\"#B0BEC5\",\"#B0BEC5\",\"#B0BEC5\",\"#B0BEC5\",\"#B0BEC5\",\"#B0BEC5\",\"#B0BEC5\"]]}],\"label\":\"Topic 9\",\"method\":\"update\"},{\"args\":[{\"marker.color\":[[\"#B0BEC5\",\"#B0BEC5\",\"#B0BEC5\",\"#B0BEC5\",\"#B0BEC5\",\"#B0BEC5\",\"#B0BEC5\",\"#B0BEC5\",\"#B0BEC5\",\"#B0BEC5\",\"red\",\"#B0BEC5\",\"#B0BEC5\",\"#B0BEC5\",\"#B0BEC5\",\"#B0BEC5\",\"#B0BEC5\",\"#B0BEC5\",\"#B0BEC5\",\"#B0BEC5\",\"#B0BEC5\",\"#B0BEC5\",\"#B0BEC5\",\"#B0BEC5\",\"#B0BEC5\",\"#B0BEC5\"]]}],\"label\":\"Topic 10\",\"method\":\"update\"},{\"args\":[{\"marker.color\":[[\"#B0BEC5\",\"#B0BEC5\",\"#B0BEC5\",\"#B0BEC5\",\"#B0BEC5\",\"#B0BEC5\",\"#B0BEC5\",\"#B0BEC5\",\"#B0BEC5\",\"#B0BEC5\",\"#B0BEC5\",\"red\",\"#B0BEC5\",\"#B0BEC5\",\"#B0BEC5\",\"#B0BEC5\",\"#B0BEC5\",\"#B0BEC5\",\"#B0BEC5\",\"#B0BEC5\",\"#B0BEC5\",\"#B0BEC5\",\"#B0BEC5\",\"#B0BEC5\",\"#B0BEC5\",\"#B0BEC5\"]]}],\"label\":\"Topic 11\",\"method\":\"update\"},{\"args\":[{\"marker.color\":[[\"#B0BEC5\",\"#B0BEC5\",\"#B0BEC5\",\"#B0BEC5\",\"#B0BEC5\",\"#B0BEC5\",\"#B0BEC5\",\"#B0BEC5\",\"#B0BEC5\",\"#B0BEC5\",\"#B0BEC5\",\"#B0BEC5\",\"red\",\"#B0BEC5\",\"#B0BEC5\",\"#B0BEC5\",\"#B0BEC5\",\"#B0BEC5\",\"#B0BEC5\",\"#B0BEC5\",\"#B0BEC5\",\"#B0BEC5\",\"#B0BEC5\",\"#B0BEC5\",\"#B0BEC5\",\"#B0BEC5\"]]}],\"label\":\"Topic 12\",\"method\":\"update\"},{\"args\":[{\"marker.color\":[[\"#B0BEC5\",\"#B0BEC5\",\"#B0BEC5\",\"#B0BEC5\",\"#B0BEC5\",\"#B0BEC5\",\"#B0BEC5\",\"#B0BEC5\",\"#B0BEC5\",\"#B0BEC5\",\"#B0BEC5\",\"#B0BEC5\",\"#B0BEC5\",\"red\",\"#B0BEC5\",\"#B0BEC5\",\"#B0BEC5\",\"#B0BEC5\",\"#B0BEC5\",\"#B0BEC5\",\"#B0BEC5\",\"#B0BEC5\",\"#B0BEC5\",\"#B0BEC5\",\"#B0BEC5\",\"#B0BEC5\"]]}],\"label\":\"Topic 13\",\"method\":\"update\"},{\"args\":[{\"marker.color\":[[\"#B0BEC5\",\"#B0BEC5\",\"#B0BEC5\",\"#B0BEC5\",\"#B0BEC5\",\"#B0BEC5\",\"#B0BEC5\",\"#B0BEC5\",\"#B0BEC5\",\"#B0BEC5\",\"#B0BEC5\",\"#B0BEC5\",\"#B0BEC5\",\"#B0BEC5\",\"red\",\"#B0BEC5\",\"#B0BEC5\",\"#B0BEC5\",\"#B0BEC5\",\"#B0BEC5\",\"#B0BEC5\",\"#B0BEC5\",\"#B0BEC5\",\"#B0BEC5\",\"#B0BEC5\",\"#B0BEC5\"]]}],\"label\":\"Topic 14\",\"method\":\"update\"},{\"args\":[{\"marker.color\":[[\"#B0BEC5\",\"#B0BEC5\",\"#B0BEC5\",\"#B0BEC5\",\"#B0BEC5\",\"#B0BEC5\",\"#B0BEC5\",\"#B0BEC5\",\"#B0BEC5\",\"#B0BEC5\",\"#B0BEC5\",\"#B0BEC5\",\"#B0BEC5\",\"#B0BEC5\",\"#B0BEC5\",\"red\",\"#B0BEC5\",\"#B0BEC5\",\"#B0BEC5\",\"#B0BEC5\",\"#B0BEC5\",\"#B0BEC5\",\"#B0BEC5\",\"#B0BEC5\",\"#B0BEC5\",\"#B0BEC5\"]]}],\"label\":\"Topic 15\",\"method\":\"update\"},{\"args\":[{\"marker.color\":[[\"#B0BEC5\",\"#B0BEC5\",\"#B0BEC5\",\"#B0BEC5\",\"#B0BEC5\",\"#B0BEC5\",\"#B0BEC5\",\"#B0BEC5\",\"#B0BEC5\",\"#B0BEC5\",\"#B0BEC5\",\"#B0BEC5\",\"#B0BEC5\",\"#B0BEC5\",\"#B0BEC5\",\"#B0BEC5\",\"red\",\"#B0BEC5\",\"#B0BEC5\",\"#B0BEC5\",\"#B0BEC5\",\"#B0BEC5\",\"#B0BEC5\",\"#B0BEC5\",\"#B0BEC5\",\"#B0BEC5\"]]}],\"label\":\"Topic 16\",\"method\":\"update\"},{\"args\":[{\"marker.color\":[[\"#B0BEC5\",\"#B0BEC5\",\"#B0BEC5\",\"#B0BEC5\",\"#B0BEC5\",\"#B0BEC5\",\"#B0BEC5\",\"#B0BEC5\",\"#B0BEC5\",\"#B0BEC5\",\"#B0BEC5\",\"#B0BEC5\",\"#B0BEC5\",\"#B0BEC5\",\"#B0BEC5\",\"#B0BEC5\",\"#B0BEC5\",\"red\",\"#B0BEC5\",\"#B0BEC5\",\"#B0BEC5\",\"#B0BEC5\",\"#B0BEC5\",\"#B0BEC5\",\"#B0BEC5\",\"#B0BEC5\"]]}],\"label\":\"Topic 17\",\"method\":\"update\"},{\"args\":[{\"marker.color\":[[\"#B0BEC5\",\"#B0BEC5\",\"#B0BEC5\",\"#B0BEC5\",\"#B0BEC5\",\"#B0BEC5\",\"#B0BEC5\",\"#B0BEC5\",\"#B0BEC5\",\"#B0BEC5\",\"#B0BEC5\",\"#B0BEC5\",\"#B0BEC5\",\"#B0BEC5\",\"#B0BEC5\",\"#B0BEC5\",\"#B0BEC5\",\"#B0BEC5\",\"red\",\"#B0BEC5\",\"#B0BEC5\",\"#B0BEC5\",\"#B0BEC5\",\"#B0BEC5\",\"#B0BEC5\",\"#B0BEC5\"]]}],\"label\":\"Topic 18\",\"method\":\"update\"},{\"args\":[{\"marker.color\":[[\"#B0BEC5\",\"#B0BEC5\",\"#B0BEC5\",\"#B0BEC5\",\"#B0BEC5\",\"#B0BEC5\",\"#B0BEC5\",\"#B0BEC5\",\"#B0BEC5\",\"#B0BEC5\",\"#B0BEC5\",\"#B0BEC5\",\"#B0BEC5\",\"#B0BEC5\",\"#B0BEC5\",\"#B0BEC5\",\"#B0BEC5\",\"#B0BEC5\",\"#B0BEC5\",\"red\",\"#B0BEC5\",\"#B0BEC5\",\"#B0BEC5\",\"#B0BEC5\",\"#B0BEC5\",\"#B0BEC5\"]]}],\"label\":\"Topic 19\",\"method\":\"update\"},{\"args\":[{\"marker.color\":[[\"#B0BEC5\",\"#B0BEC5\",\"#B0BEC5\",\"#B0BEC5\",\"#B0BEC5\",\"#B0BEC5\",\"#B0BEC5\",\"#B0BEC5\",\"#B0BEC5\",\"#B0BEC5\",\"#B0BEC5\",\"#B0BEC5\",\"#B0BEC5\",\"#B0BEC5\",\"#B0BEC5\",\"#B0BEC5\",\"#B0BEC5\",\"#B0BEC5\",\"#B0BEC5\",\"#B0BEC5\",\"red\",\"#B0BEC5\",\"#B0BEC5\",\"#B0BEC5\",\"#B0BEC5\",\"#B0BEC5\"]]}],\"label\":\"Topic 20\",\"method\":\"update\"},{\"args\":[{\"marker.color\":[[\"#B0BEC5\",\"#B0BEC5\",\"#B0BEC5\",\"#B0BEC5\",\"#B0BEC5\",\"#B0BEC5\",\"#B0BEC5\",\"#B0BEC5\",\"#B0BEC5\",\"#B0BEC5\",\"#B0BEC5\",\"#B0BEC5\",\"#B0BEC5\",\"#B0BEC5\",\"#B0BEC5\",\"#B0BEC5\",\"#B0BEC5\",\"#B0BEC5\",\"#B0BEC5\",\"#B0BEC5\",\"#B0BEC5\",\"red\",\"#B0BEC5\",\"#B0BEC5\",\"#B0BEC5\",\"#B0BEC5\"]]}],\"label\":\"Topic 21\",\"method\":\"update\"},{\"args\":[{\"marker.color\":[[\"#B0BEC5\",\"#B0BEC5\",\"#B0BEC5\",\"#B0BEC5\",\"#B0BEC5\",\"#B0BEC5\",\"#B0BEC5\",\"#B0BEC5\",\"#B0BEC5\",\"#B0BEC5\",\"#B0BEC5\",\"#B0BEC5\",\"#B0BEC5\",\"#B0BEC5\",\"#B0BEC5\",\"#B0BEC5\",\"#B0BEC5\",\"#B0BEC5\",\"#B0BEC5\",\"#B0BEC5\",\"#B0BEC5\",\"#B0BEC5\",\"red\",\"#B0BEC5\",\"#B0BEC5\",\"#B0BEC5\"]]}],\"label\":\"Topic 22\",\"method\":\"update\"},{\"args\":[{\"marker.color\":[[\"#B0BEC5\",\"#B0BEC5\",\"#B0BEC5\",\"#B0BEC5\",\"#B0BEC5\",\"#B0BEC5\",\"#B0BEC5\",\"#B0BEC5\",\"#B0BEC5\",\"#B0BEC5\",\"#B0BEC5\",\"#B0BEC5\",\"#B0BEC5\",\"#B0BEC5\",\"#B0BEC5\",\"#B0BEC5\",\"#B0BEC5\",\"#B0BEC5\",\"#B0BEC5\",\"#B0BEC5\",\"#B0BEC5\",\"#B0BEC5\",\"#B0BEC5\",\"red\",\"#B0BEC5\",\"#B0BEC5\"]]}],\"label\":\"Topic 23\",\"method\":\"update\"},{\"args\":[{\"marker.color\":[[\"#B0BEC5\",\"#B0BEC5\",\"#B0BEC5\",\"#B0BEC5\",\"#B0BEC5\",\"#B0BEC5\",\"#B0BEC5\",\"#B0BEC5\",\"#B0BEC5\",\"#B0BEC5\",\"#B0BEC5\",\"#B0BEC5\",\"#B0BEC5\",\"#B0BEC5\",\"#B0BEC5\",\"#B0BEC5\",\"#B0BEC5\",\"#B0BEC5\",\"#B0BEC5\",\"#B0BEC5\",\"#B0BEC5\",\"#B0BEC5\",\"#B0BEC5\",\"#B0BEC5\",\"red\",\"#B0BEC5\"]]}],\"label\":\"Topic 24\",\"method\":\"update\"},{\"args\":[{\"marker.color\":[[\"#B0BEC5\",\"#B0BEC5\",\"#B0BEC5\",\"#B0BEC5\",\"#B0BEC5\",\"#B0BEC5\",\"#B0BEC5\",\"#B0BEC5\",\"#B0BEC5\",\"#B0BEC5\",\"#B0BEC5\",\"#B0BEC5\",\"#B0BEC5\",\"#B0BEC5\",\"#B0BEC5\",\"#B0BEC5\",\"#B0BEC5\",\"#B0BEC5\",\"#B0BEC5\",\"#B0BEC5\",\"#B0BEC5\",\"#B0BEC5\",\"#B0BEC5\",\"#B0BEC5\",\"#B0BEC5\",\"red\"]]}],\"label\":\"Topic 25\",\"method\":\"update\"}]}],\"shapes\":[{\"line\":{\"color\":\"#CFD8DC\",\"width\":2},\"type\":\"line\",\"x0\":3.4914660930633543,\"x1\":3.4914660930633543,\"y0\":-7.499014449119568,\"y1\":23.020021820068358},{\"line\":{\"color\":\"#9E9E9E\",\"width\":2},\"type\":\"line\",\"x0\":-7.994514465332031,\"x1\":14.97744665145874,\"y0\":7.760503685474395,\"y1\":7.760503685474395}],\"annotations\":[{\"showarrow\":false,\"text\":\"D1\",\"x\":-7.994514465332031,\"y\":7.760503685474395,\"yshift\":10},{\"showarrow\":false,\"text\":\"D2\",\"x\":3.4914660930633543,\"xshift\":10,\"y\":23.020021820068358}]},                        {\"responsive\": true}                    ).then(function(){\n",
       "                            \n",
       "var gd = document.getElementById('4321e4ae-45dc-4b31-9873-83a0e0bc6f22');\n",
       "var x = new MutationObserver(function (mutations, observer) {{\n",
       "        var display = window.getComputedStyle(gd).display;\n",
       "        if (!display || display === 'none') {{\n",
       "            console.log([gd, 'removed!']);\n",
       "            Plotly.purge(gd);\n",
       "            observer.disconnect();\n",
       "        }}\n",
       "}});\n",
       "\n",
       "// Listen for the removal of the full notebook cells\n",
       "var notebookContainer = gd.closest('#notebook-container');\n",
       "if (notebookContainer) {{\n",
       "    x.observe(notebookContainer, {childList: true});\n",
       "}}\n",
       "\n",
       "// Listen for the clearing of the current output cell\n",
       "var outputEl = gd.closest('.output');\n",
       "if (outputEl) {{\n",
       "    x.observe(outputEl, {childList: true});\n",
       "}}\n",
       "\n",
       "                        })                };                });            </script>        </div>"
      ]
     },
     "metadata": {},
     "output_type": "display_data"
    }
   ],
   "execution_count": 71
  },
  {
   "metadata": {
    "ExecuteTime": {
     "end_time": "2024-11-06T22:41:38.919693Z",
     "start_time": "2024-11-06T22:41:04.568396Z"
    }
   },
   "cell_type": "code",
   "source": [
    "# Fine-tune topic representations with GPT\n",
    "client = openai.OpenAI(api_key=os.getenv(\"OPENAI_API_KEY\"))\n",
    "prompt = \"\"\"\n",
    "I have a topic that identifies a cluster of many news articles, the representative documents for this cluster are: \n",
    "[DOCUMENTS]\n",
    "---\n",
    "The topic is described by the following keywords: \n",
    "[KEYWORDS]\n",
    "---\n",
    "Based on the information above, extract a short topic label in the following format, be straight to the point, keep it between 1-5 words:\n",
    "topic: <topic label>\n",
    "\"\"\"\n",
    "\n",
    "representation_model = OpenAI(client=client, model=\"gpt-3.5-turbo\", prompt=prompt, chat=True, delay_in_seconds=0.1)\n",
    "topic_model_content.update_topics(representation_model=representation_model, docs=df_news[\"content\"])\n",
    "topic_model_content.topic_representations_\n"
   ],
   "id": "bb463d7b804bbb2c",
   "outputs": [
    {
     "data": {
      "text/plain": [
       "{-1: [('Semiconductor Industry Trends', 1)],\n",
       " 0: [('Stock Market Trends', 1)],\n",
       " 1: [('Market Volatility and Earnings', 1)],\n",
       " 2: [('Nvidia Q3 Earnings Outlook', 1)],\n",
       " 3: [('NVIDIA stock trading fluctuations', 1)],\n",
       " 4: [('Self-Driving Vehicle Technology', 1)],\n",
       " 5: [('Market Analysis Recap', 1)],\n",
       " 6: [('Stock Market Performance', 1)],\n",
       " 7: [('Earnings Growth Trends', 1)],\n",
       " 8: [('US-China trade tensions and impacts', 1)],\n",
       " 9: [('Facebook Safety Initiatives', 1)],\n",
       " 10: [('AMD Radeon GPU Performance', 1)],\n",
       " 11: [('Bitcoin Surge and Impact', 1)],\n",
       " 12: [('Video Game Industry Insights', 1)],\n",
       " 13: [('AI Technology Stocks', 1)],\n",
       " 14: [('Pure Storage Financial Performance', 1)],\n",
       " 15: [('Cadence earnings outlook', 1)],\n",
       " 16: [('Qualcomm antitrust fines', 1)],\n",
       " 17: [(\"Tesla's Autonomous Driving Future\", 1)],\n",
       " 18: [('Senior Notes Offering Analysis', 1)],\n",
       " 19: [('NetApp cloud revenues Flash', 1)],\n",
       " 20: [(\"SoftBank's Vision Fund Expansion\", 1)],\n",
       " 21: [('Coronavirus Outbreak', 1)],\n",
       " 22: [(\"Amazon's E-Commerce Expansion\", 1)],\n",
       " 23: [('Tech Industry News', 1)],\n",
       " 24: [('Dividend Growth Stocks', 1)],\n",
       " 25: [(\"Marvell's Strong Performance\", 1)]}"
      ]
     },
     "execution_count": 72,
     "metadata": {},
     "output_type": "execute_result"
    }
   ],
   "execution_count": 72
  },
  {
   "metadata": {
    "ExecuteTime": {
     "end_time": "2024-11-06T22:55:41.443950Z",
     "start_time": "2024-11-06T22:55:11.404374Z"
    }
   },
   "cell_type": "code",
   "source": [
    "# Fine-tune topic representations with GPT\n",
    "client = openai.OpenAI(api_key=os.getenv(\"OPENAI_API_KEY\"))\n",
    "prompt = \"\"\"\n",
    "I have a topic that identifies a cluster of many news articles, the representative documents for this cluster are: \n",
    "[DOCUMENTS]\n",
    "---\n",
    "The topic is described by the following keywords: \n",
    "[KEYWORDS]\n",
    "---\n",
    "Based on the information above, extract a short topic label that represents the theme of the topic. Be straight to the point, keep it between 1-5 words\n",
    "Please respond in the format:\n",
    "topic: <topic label>\n",
    "\"\"\"\n",
    "\n",
    "representation_model = OpenAI(client=client, model=\"gpt-3.5-turbo\", prompt=prompt, chat=True, delay_in_seconds=0.1)\n",
    "topic_model_content.update_topics(representation_model=representation_model, docs=df_news[\"content\"])\n",
    "topic_model_content.topic_representations_\n"
   ],
   "id": "36d82421f8582221",
   "outputs": [
    {
     "data": {
      "text/plain": [
       "{-1: [('Semiconductor Industry Trends', 1)],\n",
       " 0: [('stock analysis and recommendations', 1)],\n",
       " 1: [('Market Updates and Earnings', 1)],\n",
       " 2: [('Nvidia Earnings and Growth', 1)],\n",
       " 3: [('NVIDIA stock trading fluctuations', 1)],\n",
       " 4: [('Autonomous Vehicle Technology', 1)],\n",
       " 5: [('Market Analysis Insights', 1)],\n",
       " 6: [('Stock Market Performance Analysis', 1)],\n",
       " 7: [('Earnings Growth Trends', 1)],\n",
       " 8: [('US-China trade tensions', 1)],\n",
       " 9: [('Facebook security and growth strategies', 1)],\n",
       " 10: [('AMD Graphics Market Dominance', 1)],\n",
       " 11: [('Digital Currency Trends', 1)],\n",
       " 12: [('Video Game Industry Highlights', 1)],\n",
       " 13: [('Artificial Intelligence Stocks', 1)],\n",
       " 14: [('Pure Storage financial performance', 1)],\n",
       " 15: [('Cadence Earnings Analysis', 1)],\n",
       " 16: [('Qualcomm antitrust fines', 1)],\n",
       " 17: [(\"Tesla's Future Opportunities\", 1)],\n",
       " 18: [('Company Financial Offerings', 1)],\n",
       " 19: [('NetApp financial performance', 1)],\n",
       " 20: [(\"SoftBank's Vision Fund Expansion\", 1)],\n",
       " 21: [('Impact of Coronavirus on Global Economy', 1)],\n",
       " 22: [(\"Amazon's E-commerce Expansion\", 1)],\n",
       " 23: [('Technology Partnerships', 1)],\n",
       " 24: [('dividend growth stocks', 1)],\n",
       " 25: [('Marvell Technology Growth', 1)]}"
      ]
     },
     "execution_count": 73,
     "metadata": {},
     "output_type": "execute_result"
    }
   ],
   "execution_count": 73
  },
  {
   "metadata": {},
   "cell_type": "markdown",
   "source": "# The raw topic representation and the chatgpt created label",
   "id": "cd547952ad4cea5a"
  },
  {
   "metadata": {},
   "cell_type": "code",
   "source": [
    "raw_topics = {-1: [('stocks', 0.55848825),\n",
    "  ('stock', 0.5095921),\n",
    "  ('nyse', 0.50599945),\n",
    "  ('nasdaq', 0.45200402),\n",
    "  ('markets', 0.4259631),\n",
    "  ('investors', 0.4223332),\n",
    "  ('companies', 0.40848315),\n",
    "  ('market', 0.4021063),\n",
    "  ('industry', 0.39556152),\n",
    "  ('dow', 0.3906002)],\n",
    " 0: [('nasdaq', 0.4999689),\n",
    "  ('stock', 0.47472134),\n",
    "  ('nyse', 0.47209847),\n",
    "  ('stocks', 0.46965358),\n",
    "  ('companies', 0.4013927),\n",
    "  ('investors', 0.38310027),\n",
    "  ('market', 0.3793906),\n",
    "  ('company', 0.37780172),\n",
    "  ('shares', 0.37130255),\n",
    "  ('earnings', 0.3280148)],\n",
    " 1: [('stocks', 0.41373488),\n",
    "  ('dow', 0.3943606),\n",
    "  ('markets', 0.38781458),\n",
    "  ('stock', 0.38608357),\n",
    "  ('market', 0.34969574),\n",
    "  ('trading', 0.34157696),\n",
    "  ('nyse', 0.3380176),\n",
    "  ('investors', 0.32370168),\n",
    "  ('bullish', 0.32120413),\n",
    "  ('futures', 0.3102976)],\n",
    " 2: [('nvidia', 0.509223),\n",
    "  ('gpu', 0.41634566),\n",
    "  ('earnings', 0.40644157),\n",
    "  ('nvda', 0.3924746),\n",
    "  ('gpus', 0.3921877),\n",
    "  ('nasdaq', 0.37169093),\n",
    "  ('geforce', 0.35064977),\n",
    "  ('revenues', 0.32172057),\n",
    "  ('stock', 0.31685418),\n",
    "  ('gaming', 0.3047709)],\n",
    " 3: [('nvda', 0.46555558),\n",
    "  ('nvidia', 0.45806924),\n",
    "  ('nasdaq', 0.4539492),\n",
    "  ('stock', 0.4476538),\n",
    "  ('shares', 0.3652361),\n",
    "  ('traded', 0.347098),\n",
    "  ('investing', 0.32522497),\n",
    "  ('exchange', 0.30819994),\n",
    "  ('trade', 0.29973832),\n",
    "  ('158', 0.28027666)],\n",
    " 4: [('automakers', 0.53048813),\n",
    "  ('automotive', 0.4929515),\n",
    "  ('automaker', 0.45782125),\n",
    "  ('uber', 0.43075866),\n",
    "  ('bmw', 0.42248768),\n",
    "  ('vehicles', 0.4215353),\n",
    "  ('carmakers', 0.41373122),\n",
    "  ('autonomous', 0.3964153),\n",
    "  ('cars', 0.3934387),\n",
    "  ('vehicle', 0.39253986)],\n",
    " 5: [('week', 0.39267293),\n",
    "  ('weekly', 0.36552474),\n",
    "  ('trading', 0.33214998),\n",
    "  ('investing', 0.31684637),\n",
    "  ('traders', 0.29221874),\n",
    "  ('market', 0.28146887),\n",
    "  ('investment', 0.27446252),\n",
    "  ('read', 0.27228707),\n",
    "  ('trader', 0.26383296),\n",
    "  ('impacts', 0.26213732)],\n",
    " 6: [('nyse', 0.57721436),\n",
    "  ('dow', 0.44218147),\n",
    "  ('nasdaq', 0.43528372),\n",
    "  ('shares', 0.41171667),\n",
    "  ('index', 0.27606055),\n",
    "  ('corporation', 0.26077008),\n",
    "  ('sectors', 0.2381325),\n",
    "  ('exchange', 0.22838888),\n",
    "  ('commodities', 0.22674581),\n",
    "  ('futures', 0.21926159)],\n",
    " 7: [('earnings', 0.60835207),\n",
    "  ('stocks', 0.44551516),\n",
    "  ('revenues', 0.35835242),\n",
    "  ('securities', 0.34116042),\n",
    "  ('quarterly', 0.338189),\n",
    "  ('finance', 0.32419032),\n",
    "  ('revenue', 0.30623496),\n",
    "  ('disclosure', 0.299124),\n",
    "  ('investment', 0.28612673),\n",
    "  ('estimates', 0.281638)],\n",
    " 8: [('tariffs', 0.47345352),\n",
    "  ('tariff', 0.4256894),\n",
    "  ('huawei', 0.3536409),\n",
    "  ('beijing', 0.33592469),\n",
    "  ('china', 0.30428502),\n",
    "  ('chinese', 0.30076107),\n",
    "  ('commerce', 0.28304917),\n",
    "  ('blacklisting', 0.263585),\n",
    "  ('exports', 0.25802734),\n",
    "  ('xinjiang', 0.24102557)],\n",
    " 9: [('facebook', 0.55269957),\n",
    "  ('advertisements', 0.47334597),\n",
    "  ('ads', 0.45745578),\n",
    "  ('advertisers', 0.43905807),\n",
    "  ('fb', 0.4376014),\n",
    "  ('advertising', 0.42201874),\n",
    "  ('zuckerberg', 0.36312944),\n",
    "  ('instagram', 0.3589608),\n",
    "  ('ad', 0.33840078),\n",
    "  ('messenger', 0.30702835)],\n",
    " 10: [('amd', 0.59279865),\n",
    "  ('radeon', 0.5669824),\n",
    "  ('gpu', 0.5570969),\n",
    "  ('gpus', 0.50818884),\n",
    "  ('ryzen', 0.42880517),\n",
    "  ('pcie', 0.3832687),\n",
    "  ('processors', 0.3671316),\n",
    "  ('intel', 0.35899323),\n",
    "  ('gaming', 0.35729957),\n",
    "  ('supercomputer', 0.34898046)],\n",
    " 11: [('cryptocurrencies', 0.5448111),\n",
    "  ('bitcoin', 0.5202105),\n",
    "  ('cryptocurrency', 0.51842666),\n",
    "  ('ethereum', 0.47726774),\n",
    "  ('bitcoins', 0.4633595),\n",
    "  ('crypto', 0.4214539),\n",
    "  ('investors', 0.41482592),\n",
    "  ('currencies', 0.4087555),\n",
    "  ('btc', 0.40615773),\n",
    "  ('traders', 0.39697444)],\n",
    " 12: [('esports', 0.5260961),\n",
    "  ('activision', 0.4285577),\n",
    "  ('ea', 0.42458498),\n",
    "  ('gaming', 0.42188874),\n",
    "  ('crowdfunding', 0.40855008),\n",
    "  ('entertainment', 0.38768774),\n",
    "  ('franchises', 0.38694865),\n",
    "  ('industry', 0.3844415),\n",
    "  ('sports', 0.3758859),\n",
    "  ('gamers', 0.36253947)],\n",
    " 13: [('ai', 0.43695784),\n",
    "  ('robots', 0.40577185),\n",
    "  ('industry', 0.40295455),\n",
    "  ('robotic', 0.39713854),\n",
    "  ('industrial', 0.39435345),\n",
    "  ('advancements', 0.38399392),\n",
    "  ('robot', 0.38277197),\n",
    "  ('technologies', 0.37568647),\n",
    "  ('robotics', 0.37059158),\n",
    "  ('cobots', 0.35982388)],\n",
    " 14: [('storage', 0.4030338),\n",
    "  ('gaap', 0.36545682),\n",
    "  ('ssds', 0.36341906),\n",
    "  ('revenues', 0.34606838),\n",
    "  ('ssd', 0.34595582),\n",
    "  ('enterprise', 0.3277868),\n",
    "  ('seagate', 0.32067657),\n",
    "  ('sandisk', 0.31886667),\n",
    "  ('multimillion', 0.29881224),\n",
    "  ('hdd', 0.29105297)],\n",
    " 15: [('cadence', 0.35651937),\n",
    "  ('outperforming', 0.33720466),\n",
    "  ('revenues', 0.3163938),\n",
    "  ('flagship', 0.29281867),\n",
    "  ('gaap', 0.2636726),\n",
    "  ('capabilities', 0.2571215),\n",
    "  ('company', 0.25132188),\n",
    "  ('suite', 0.20695576),\n",
    "  ('management', 0.2033242),\n",
    "  ('design', 0.19856286)],\n",
    " 16: [('antitrust', 0.48444462),\n",
    "  ('qualcomm', 0.48256516),\n",
    "  ('lawsuits', 0.39256096),\n",
    "  ('patents', 0.37003922),\n",
    "  ('infringement', 0.3610466),\n",
    "  ('lawsuit', 0.35314983),\n",
    "  ('qcom', 0.3216607),\n",
    "  ('chipmaker', 0.30889994),\n",
    "  ('apple', 0.30800104),\n",
    "  ('chipsets', 0.30529803)],\n",
    " 17: [('tesla', 0.6208721),\n",
    "  ('automakers', 0.38886204),\n",
    "  ('carmaker', 0.3416903),\n",
    "  ('car', 0.27581012),\n",
    "  ('vehicle', 0.2703705),\n",
    "  ('cars', 0.2680253),\n",
    "  ('musk', 0.24717927),\n",
    "  ('vehicles', 0.24489474),\n",
    "  ('investors', 0.24346828),\n",
    "  ('panasonic', 0.24310225)],\n",
    " 18: [('securities', 0.45585057),\n",
    "  ('dividend', 0.38612628),\n",
    "  ('txn', 0.36184102),\n",
    "  ('dividends', 0.34869802),\n",
    "  ('debt', 0.3421846),\n",
    "  ('repurchases', 0.34085634),\n",
    "  ('cash', 0.33983415),\n",
    "  ('acquisitions', 0.3304639),\n",
    "  ('repurchase', 0.32735646),\n",
    "  ('notes', 0.31057507)],\n",
    " 19: [('netapp', 0.49664277),\n",
    "  ('revenues', 0.3807511),\n",
    "  ('ntap', 0.3458646),\n",
    "  ('enterprises', 0.33069193),\n",
    "  ('net', 0.3074882),\n",
    "  ('gaap', 0.2999036),\n",
    "  ('azure', 0.25207105),\n",
    "  ('strategic', 0.24669918),\n",
    "  ('capabilities', 0.24579477),\n",
    "  ('company', 0.2415807)],\n",
    " 20: [('softbank', 0.46160808),\n",
    "  ('fund', 0.4139318),\n",
    "  ('investors', 0.38919657),\n",
    "  ('investments', 0.38724172),\n",
    "  ('investment', 0.37389827),\n",
    "  ('firms', 0.34480596),\n",
    "  ('conglomerate', 0.34000552),\n",
    "  ('ventures', 0.33912563),\n",
    "  ('firm', 0.32321995),\n",
    "  ('corp', 0.29626578)],\n",
    " 21: [('coronavirus', 0.63062525),\n",
    "  ('coronaviruses', 0.6296896),\n",
    "  ('outbreak', 0.45581317),\n",
    "  ('pandemic', 0.45285583),\n",
    "  ('epidemics', 0.44311628),\n",
    "  ('pandemics', 0.43358427),\n",
    "  ('epidemic', 0.4226092),\n",
    "  ('influenza', 0.41354465),\n",
    "  ('viruses', 0.36688846),\n",
    "  ('virus', 0.35402253)],\n",
    " 22: [('ecommerce', 0.5019246),\n",
    "  ('amazon', 0.4641474),\n",
    "  ('retailer', 0.4602273),\n",
    "  ('retailers', 0.44920552),\n",
    "  ('aws', 0.42855468),\n",
    "  ('sales', 0.3896802),\n",
    "  ('retail', 0.38200414),\n",
    "  ('commerce', 0.37958252),\n",
    "  ('mart', 0.347213),\n",
    "  ('logistics', 0.32774362)],\n",
    " 23: [('infringement', 0.42361826),\n",
    "  ('lawsuit', 0.35620776),\n",
    "  ('google', 0.35398224),\n",
    "  ('copyright', 0.33110386),\n",
    "  ('revenue', 0.32026368),\n",
    "  ('companies', 0.3194831),\n",
    "  ('amazon', 0.29421532),\n",
    "  ('microsoft', 0.2935543),\n",
    "  ('ads', 0.28606212),\n",
    "  ('youtube', 0.28587258)],\n",
    " 24: [('dividends', 0.5871569),\n",
    "  ('dividend', 0.53400564),\n",
    "  ('stocks', 0.53280216),\n",
    "  ('investment', 0.38128406),\n",
    "  ('securities', 0.37101877),\n",
    "  ('shareholders', 0.34788272),\n",
    "  ('shareholder', 0.32781377),\n",
    "  ('portfolio', 0.3139305),\n",
    "  ('financial', 0.30107284),\n",
    "  ('strategies', 0.2731012)],\n",
    " 25: [('marvell', 0.40927303),\n",
    "  ('ssd', 0.35781324),\n",
    "  ('ethernet', 0.30629975),\n",
    "  ('networking', 0.29598257),\n",
    "  ('sse', 0.29335493),\n",
    "  ('drives', 0.29112983),\n",
    "  ('enterprise', 0.28614363),\n",
    "  ('acquire', 0.2835034),\n",
    "  ('vpx', 0.28117794),\n",
    "  ('5g', 0.27675766)]}\n",
    "\n",
    "chatgpt_represenation_1 = {-1: [('Semiconductor Industry Earnings Trends Analysis', 1)],\n",
    " 0: [('Tech Stocks Analysis and Market Trends', 1)],\n",
    " 1: [('Market News and Earnings Highlights', 1)],\n",
    " 2: [(\"NVIDIA's Growth Prospects and Financial Performance\", 1)],\n",
    " 3: [('NVIDIA stock trading performance on NASDAQ exchange', 1)],\n",
    " 4: [('Emerging Trends in Self-Driving Vehicle Technology', 1)],\n",
    " 5: [('Economic Analysis and Market Trends Summary', 1)],\n",
    " 6: [('U.S. stock market performance and trends analysis', 1)],\n",
    " 7: [('Earnings Growth Trends and Estimates Analysis by Zacks', 1)],\n",
    " 8: [('U.S.-China Trade Tensions, Huawei Blacklisting, Semiconductor Companies, Tariffs, Market Impact',\n",
    "   1)],\n",
    " 9: [(\"Facebook's initiatives for user safety and growth, developments in the social media landscape\",\n",
    "   1)],\n",
    " 10: [(\"AMD's Radeon GPUs Revolutionizing the Gaming and Datacenter Markets\",\n",
    "   1)],\n",
    " 11: [('Bitcoin and Ethereum in the Digital Currency Market', 1)],\n",
    " 12: [('Technology Earnings Highlights and Emerging Trends in Gaming Industry',\n",
    "   1)],\n",
    " 13: [('The Growing Influence of Artificial Intelligence in Robotics and Technology',\n",
    "   1)],\n",
    " 14: [('Pure Storage Inc - Recent Earnings and Growth Outlook', 1)],\n",
    " 15: [('Cadence Design Systems Quarterly Financial Performance and Outlook',\n",
    "   1)],\n",
    " 16: [('Qualcomm fined by European Commission for antitrust practices and abuse of market power',\n",
    "   1)],\n",
    " 17: [(\"Tesla's Innovation and Future Prospects\", 1)],\n",
    " 18: [('Financial Offerings and Cash Positions of Pure Storage Inc and Texas Instruments Incorporated',\n",
    "   1)],\n",
    " 19: [('NetApp Inc fiscal quarter performance and cloud solutions', 1)],\n",
    " 20: [(\"SoftBank's Vision Fund and Investment Strategies\", 1)],\n",
    " 21: [('Impact of Coronavirus Outbreak on Global Companies and Economy', 1)],\n",
    " 22: [(\"Amazon's Expansion and Technology Influence\", 1)],\n",
    " 23: [(\"Google vs Oracle fair use case and Alphabet's efforts to combat piracy, Microsoft Worldwide Partner Conference highlights, Facebook's potential partnership with ESPN and others, Intel's strategic board addition, Seagate's preliminary results and job cuts.\",\n",
    "   1)],\n",
    " 24: [('Dividend Growth Stocks for Secure Retirement', 1)],\n",
    " 25: [(\"Marvell Technology Group's Strong Performance in SSD and Ethernet Markets\",\n",
    "       )]}\n",
    "chatgpt_represenation_2 = {-1: [('Semiconductor Industry Trends', 1)],\n",
    " 0: [('Stock Market Trends', 1)],\n",
    " 1: [('Market Volatility and Earnings', 1)],\n",
    " 2: [('Nvidia Q3 Earnings Outlook', 1)],\n",
    " 3: [('NVIDIA stock trading fluctuations', 1)],\n",
    " 4: [('Self-Driving Vehicle Technology', 1)],\n",
    " 5: [('Market Analysis Recap', 1)],\n",
    " 6: [('Stock Market Performance', 1)],\n",
    " 7: [('Earnings Growth Trends', 1)],\n",
    " 8: [('US-China trade tensions and impacts', 1)],\n",
    " 9: [('Facebook Safety Initiatives', 1)],\n",
    " 10: [('AMD Radeon GPU Performance', 1)],\n",
    " 11: [('Bitcoin Surge and Impact', 1)],\n",
    " 12: [('Video Game Industry Insights', 1)],\n",
    " 13: [('AI Technology Stocks', 1)],\n",
    " 14: [('Pure Storage Financial Performance', 1)],\n",
    " 15: [('Cadence earnings outlook', 1)],\n",
    " 16: [('Qualcomm antitrust fines', 1)],\n",
    " 17: [(\"Tesla's Autonomous Driving Future\", 1)],\n",
    " 18: [('Senior Notes Offering Analysis', 1)],\n",
    " 19: [('NetApp cloud revenues Flash', 1)],\n",
    " 20: [(\"SoftBank's Vision Fund Expansion\", 1)],\n",
    " 21: [('Coronavirus Outbreak', 1)],\n",
    " 22: [(\"Amazon's E-Commerce Expansion\", 1)],\n",
    " 23: [('Tech Industry News', 1)],\n",
    " 24: [('Dividend Growth Stocks', 1)],\n",
    " 25: [(\"Marvell's Strong Performance\", 1)]}\n",
    "chatgpt_represenation_3 = {-1: [('Semiconductor Industry Trends', 1)],\n",
    " 0: [('stock analysis and recommendations', 1)],\n",
    " 1: [('Market Updates and Earnings', 1)],\n",
    " 2: [('Nvidia Earnings and Growth', 1)],\n",
    " 3: [('NVIDIA stock trading fluctuations', 1)],\n",
    " 4: [('Autonomous Vehicle Technology', 1)],\n",
    " 5: [('Market Analysis Insights', 1)],\n",
    " 6: [('Stock Market Performance Analysis', 1)],\n",
    " 7: [('Earnings Growth Trends', 1)],\n",
    " 8: [('US-China trade tensions', 1)],\n",
    " 9: [('Facebook security and growth strategies', 1)],\n",
    " 10: [('AMD Graphics Market Dominance', 1)],\n",
    " 11: [('Digital Currency Trends', 1)],\n",
    " 12: [('Video Game Industry Highlights', 1)],\n",
    " 13: [('Artificial Intelligence Stocks', 1)],\n",
    " 14: [('Pure Storage financial performance', 1)],\n",
    " 15: [('Cadence Earnings Analysis', 1)],\n",
    " 16: [('Qualcomm antitrust fines', 1)],\n",
    " 17: [(\"Tesla's Future Opportunities\", 1)],\n",
    " 18: [('Company Financial Offerings', 1)],\n",
    " 19: [('NetApp financial performance', 1)],\n",
    " 20: [(\"SoftBank's Vision Fund Expansion\", 1)],\n",
    " 21: [('Impact of Coronavirus on Global Economy', 1)],\n",
    " 22: [(\"Amazon's E-commerce Expansion\", 1)],\n",
    " 23: [('Technology Partnerships', 1)],\n",
    " 24: [('dividend growth stocks', 1)],\n",
    " 25: [('Marvell Technology Growth', 1)]}\n",
    "\n",
    "data = {\n",
    "    \"type\": [\"raw_topics\", \"chatgpt_representation_1\", \"chatgpt_representation_2\", \"chatgpt_representation_3\"],\n",
    "    \"prompt\": [\"N/A\", \"Custom Prompt 1\", \"Custom Prompt 2\", \"Custom Prompt 3\"],\n",
    "    \"topic_representation\": [\n",
    "        # Extracting just the list of words from the raw topics\n",
    "        [[word for word, _ in topic] for topic in raw_topics.values()],\n",
    "        [entry[0] for topic in chatgpt_represenation_1.values() for entry in topic],\n",
    "        [entry[0] for topic in chatgpt_represenation_2.values() for entry in topic],\n",
    "        [entry[0] for topic in chatgpt_represenation_3.values() for entry in topic],\n",
    "    ]\n",
    "}\n",
    "\n",
    "# Create a DataFrame\n",
    "df = pd.DataFrame(data)\n",
    "#df.to_csv(\"topic_representation_chatgpt_bertopic.csv\")"
   ],
   "id": "aa50e1f156a1ff75",
   "outputs": [],
   "execution_count": null
  },
  {
   "metadata": {},
   "cell_type": "markdown",
   "source": "# Topics over time",
   "id": "aada14fbfd902b12"
  },
  {
   "metadata": {
    "ExecuteTime": {
     "end_time": "2024-11-06T23:37:07.691997Z",
     "start_time": "2024-11-06T23:03:45.396103Z"
    }
   },
   "cell_type": "code",
   "source": [
    "topics_over_time = topic_model_content.topics_over_time(df_news[\"content\"], df_news[\"release_date\"])\n",
    "#topic_model_content.visualize_topics_over_time(topics_over_time).write_image(\"topics_over_time_final.jpg\")"
   ],
   "id": "94bb1deb98c83bfb",
   "outputs": [
    {
     "name": "stderr",
     "output_type": "stream",
     "text": [
      "2024-11-07 00:03:45,439 - BERTopic - WARNING: There are more than 100 unique timestamps (i.e., 1003) which significantly slows down the application. Consider setting `nr_bins` to a value lower than 100 to speed up calculation. \n"
     ]
    },
    {
     "ename": "BadRequestError",
     "evalue": "Error code: 400 - {'error': {'message': \"This model's maximum context length is 16385 tokens. However, your messages resulted in 20919 tokens. Please reduce the length of the messages.\", 'type': 'invalid_request_error', 'param': 'messages', 'code': 'context_length_exceeded'}}",
     "output_type": "error",
     "traceback": [
      "\u001B[0;31m---------------------------------------------------------------------------\u001B[0m",
      "\u001B[0;31mBadRequestError\u001B[0m                           Traceback (most recent call last)",
      "Cell \u001B[0;32mIn[74], line 1\u001B[0m\n\u001B[0;32m----> 1\u001B[0m topics_over_time \u001B[38;5;241m=\u001B[39m \u001B[43mtopic_model_content\u001B[49m\u001B[38;5;241;43m.\u001B[39;49m\u001B[43mtopics_over_time\u001B[49m\u001B[43m(\u001B[49m\u001B[43mdf_news\u001B[49m\u001B[43m[\u001B[49m\u001B[38;5;124;43m\"\u001B[39;49m\u001B[38;5;124;43mcontent\u001B[39;49m\u001B[38;5;124;43m\"\u001B[39;49m\u001B[43m]\u001B[49m\u001B[43m,\u001B[49m\u001B[43m \u001B[49m\u001B[43mdf_news\u001B[49m\u001B[43m[\u001B[49m\u001B[38;5;124;43m\"\u001B[39;49m\u001B[38;5;124;43mrelease_date\u001B[39;49m\u001B[38;5;124;43m\"\u001B[39;49m\u001B[43m]\u001B[49m\u001B[43m)\u001B[49m\n\u001B[1;32m      2\u001B[0m topic_model_content\u001B[38;5;241m.\u001B[39mvisualize_topics_over_time(topics_over_time)\u001B[38;5;241m.\u001B[39mwrite_image(\u001B[38;5;124m\"\u001B[39m\u001B[38;5;124mtopics_over_time_final.jpg\u001B[39m\u001B[38;5;124m\"\u001B[39m)\n",
      "File \u001B[0;32m~/Desktop/NLP-JADS/venv/lib/python3.12/site-packages/bertopic/_bertopic.py:908\u001B[0m, in \u001B[0;36mBERTopic.topics_over_time\u001B[0;34m(self, docs, timestamps, topics, nr_bins, datetime_format, evolution_tuning, global_tuning)\u001B[0m\n\u001B[1;32m    905\u001B[0m     c_tf_idf \u001B[38;5;241m=\u001B[39m (global_c_tf_idf[selected_topics] \u001B[38;5;241m+\u001B[39m c_tf_idf) \u001B[38;5;241m/\u001B[39m \u001B[38;5;241m2.0\u001B[39m\n\u001B[1;32m    907\u001B[0m \u001B[38;5;66;03m# Extract the words per topic\u001B[39;00m\n\u001B[0;32m--> 908\u001B[0m words_per_topic \u001B[38;5;241m=\u001B[39m \u001B[38;5;28;43mself\u001B[39;49m\u001B[38;5;241;43m.\u001B[39;49m\u001B[43m_extract_words_per_topic\u001B[49m\u001B[43m(\u001B[49m\u001B[43mwords\u001B[49m\u001B[43m,\u001B[49m\u001B[43m \u001B[49m\u001B[43mselection\u001B[49m\u001B[43m,\u001B[49m\u001B[43m \u001B[49m\u001B[43mc_tf_idf\u001B[49m\u001B[43m,\u001B[49m\u001B[43m \u001B[49m\u001B[43mcalculate_aspects\u001B[49m\u001B[38;5;241;43m=\u001B[39;49m\u001B[38;5;28;43;01mFalse\u001B[39;49;00m\u001B[43m)\u001B[49m\n\u001B[1;32m    909\u001B[0m topic_frequency \u001B[38;5;241m=\u001B[39m pd\u001B[38;5;241m.\u001B[39mSeries(\n\u001B[1;32m    910\u001B[0m     documents_per_topic\u001B[38;5;241m.\u001B[39mTimestamps\u001B[38;5;241m.\u001B[39mvalues, index\u001B[38;5;241m=\u001B[39mdocuments_per_topic\u001B[38;5;241m.\u001B[39mTopic\n\u001B[1;32m    911\u001B[0m )\u001B[38;5;241m.\u001B[39mto_dict()\n\u001B[1;32m    913\u001B[0m \u001B[38;5;66;03m# Fill dataframe with results\u001B[39;00m\n",
      "File \u001B[0;32m~/Desktop/NLP-JADS/venv/lib/python3.12/site-packages/bertopic/_bertopic.py:4298\u001B[0m, in \u001B[0;36mBERTopic._extract_words_per_topic\u001B[0;34m(self, words, documents, c_tf_idf, calculate_aspects)\u001B[0m\n\u001B[1;32m   4296\u001B[0m         topics \u001B[38;5;241m=\u001B[39m tuner\u001B[38;5;241m.\u001B[39mextract_topics(\u001B[38;5;28mself\u001B[39m, documents, c_tf_idf, topics)\n\u001B[1;32m   4297\u001B[0m \u001B[38;5;28;01melif\u001B[39;00m \u001B[38;5;28misinstance\u001B[39m(\u001B[38;5;28mself\u001B[39m\u001B[38;5;241m.\u001B[39mrepresentation_model, BaseRepresentation):\n\u001B[0;32m-> 4298\u001B[0m     topics \u001B[38;5;241m=\u001B[39m \u001B[38;5;28;43mself\u001B[39;49m\u001B[38;5;241;43m.\u001B[39;49m\u001B[43mrepresentation_model\u001B[49m\u001B[38;5;241;43m.\u001B[39;49m\u001B[43mextract_topics\u001B[49m\u001B[43m(\u001B[49m\u001B[38;5;28;43mself\u001B[39;49m\u001B[43m,\u001B[49m\u001B[43m \u001B[49m\u001B[43mdocuments\u001B[49m\u001B[43m,\u001B[49m\u001B[43m \u001B[49m\u001B[43mc_tf_idf\u001B[49m\u001B[43m,\u001B[49m\u001B[43m \u001B[49m\u001B[43mtopics\u001B[49m\u001B[43m)\u001B[49m\n\u001B[1;32m   4299\u001B[0m \u001B[38;5;28;01melif\u001B[39;00m \u001B[38;5;28misinstance\u001B[39m(\u001B[38;5;28mself\u001B[39m\u001B[38;5;241m.\u001B[39mrepresentation_model, \u001B[38;5;28mdict\u001B[39m):\n\u001B[1;32m   4300\u001B[0m     \u001B[38;5;28;01mif\u001B[39;00m \u001B[38;5;28mself\u001B[39m\u001B[38;5;241m.\u001B[39mrepresentation_model\u001B[38;5;241m.\u001B[39mget(\u001B[38;5;124m\"\u001B[39m\u001B[38;5;124mMain\u001B[39m\u001B[38;5;124m\"\u001B[39m):\n",
      "File \u001B[0;32m~/Desktop/NLP-JADS/venv/lib/python3.12/site-packages/bertopic/representation/_openai.py:230\u001B[0m, in \u001B[0;36mOpenAI.extract_topics\u001B[0;34m(self, topic_model, documents, c_tf_idf, topics)\u001B[0m\n\u001B[1;32m    228\u001B[0m     response \u001B[38;5;241m=\u001B[39m chat_completions_with_backoff(\u001B[38;5;28mself\u001B[39m\u001B[38;5;241m.\u001B[39mclient, \u001B[38;5;241m*\u001B[39m\u001B[38;5;241m*\u001B[39mkwargs)\n\u001B[1;32m    229\u001B[0m \u001B[38;5;28;01melse\u001B[39;00m:\n\u001B[0;32m--> 230\u001B[0m     response \u001B[38;5;241m=\u001B[39m \u001B[38;5;28;43mself\u001B[39;49m\u001B[38;5;241;43m.\u001B[39;49m\u001B[43mclient\u001B[49m\u001B[38;5;241;43m.\u001B[39;49m\u001B[43mchat\u001B[49m\u001B[38;5;241;43m.\u001B[39;49m\u001B[43mcompletions\u001B[49m\u001B[38;5;241;43m.\u001B[39;49m\u001B[43mcreate\u001B[49m\u001B[43m(\u001B[49m\u001B[38;5;241;43m*\u001B[39;49m\u001B[38;5;241;43m*\u001B[39;49m\u001B[43mkwargs\u001B[49m\u001B[43m)\u001B[49m\n\u001B[1;32m    232\u001B[0m \u001B[38;5;66;03m# Check whether content was actually generated\u001B[39;00m\n\u001B[1;32m    233\u001B[0m \u001B[38;5;66;03m# Addresses #1570 for potential issues with OpenAI's content filter\u001B[39;00m\n\u001B[1;32m    234\u001B[0m \u001B[38;5;28;01mif\u001B[39;00m \u001B[38;5;28mhasattr\u001B[39m(response\u001B[38;5;241m.\u001B[39mchoices[\u001B[38;5;241m0\u001B[39m]\u001B[38;5;241m.\u001B[39mmessage, \u001B[38;5;124m\"\u001B[39m\u001B[38;5;124mcontent\u001B[39m\u001B[38;5;124m\"\u001B[39m):\n",
      "File \u001B[0;32m~/Desktop/NLP-JADS/venv/lib/python3.12/site-packages/openai/_utils/_utils.py:275\u001B[0m, in \u001B[0;36mrequired_args.<locals>.inner.<locals>.wrapper\u001B[0;34m(*args, **kwargs)\u001B[0m\n\u001B[1;32m    273\u001B[0m             msg \u001B[38;5;241m=\u001B[39m \u001B[38;5;124mf\u001B[39m\u001B[38;5;124m\"\u001B[39m\u001B[38;5;124mMissing required argument: \u001B[39m\u001B[38;5;132;01m{\u001B[39;00mquote(missing[\u001B[38;5;241m0\u001B[39m])\u001B[38;5;132;01m}\u001B[39;00m\u001B[38;5;124m\"\u001B[39m\n\u001B[1;32m    274\u001B[0m     \u001B[38;5;28;01mraise\u001B[39;00m \u001B[38;5;167;01mTypeError\u001B[39;00m(msg)\n\u001B[0;32m--> 275\u001B[0m \u001B[38;5;28;01mreturn\u001B[39;00m \u001B[43mfunc\u001B[49m\u001B[43m(\u001B[49m\u001B[38;5;241;43m*\u001B[39;49m\u001B[43margs\u001B[49m\u001B[43m,\u001B[49m\u001B[43m \u001B[49m\u001B[38;5;241;43m*\u001B[39;49m\u001B[38;5;241;43m*\u001B[39;49m\u001B[43mkwargs\u001B[49m\u001B[43m)\u001B[49m\n",
      "File \u001B[0;32m~/Desktop/NLP-JADS/venv/lib/python3.12/site-packages/openai/resources/chat/completions.py:829\u001B[0m, in \u001B[0;36mCompletions.create\u001B[0;34m(self, messages, model, audio, frequency_penalty, function_call, functions, logit_bias, logprobs, max_completion_tokens, max_tokens, metadata, modalities, n, parallel_tool_calls, prediction, presence_penalty, response_format, seed, service_tier, stop, store, stream, stream_options, temperature, tool_choice, tools, top_logprobs, top_p, user, extra_headers, extra_query, extra_body, timeout)\u001B[0m\n\u001B[1;32m    788\u001B[0m \u001B[38;5;129m@required_args\u001B[39m([\u001B[38;5;124m\"\u001B[39m\u001B[38;5;124mmessages\u001B[39m\u001B[38;5;124m\"\u001B[39m, \u001B[38;5;124m\"\u001B[39m\u001B[38;5;124mmodel\u001B[39m\u001B[38;5;124m\"\u001B[39m], [\u001B[38;5;124m\"\u001B[39m\u001B[38;5;124mmessages\u001B[39m\u001B[38;5;124m\"\u001B[39m, \u001B[38;5;124m\"\u001B[39m\u001B[38;5;124mmodel\u001B[39m\u001B[38;5;124m\"\u001B[39m, \u001B[38;5;124m\"\u001B[39m\u001B[38;5;124mstream\u001B[39m\u001B[38;5;124m\"\u001B[39m])\n\u001B[1;32m    789\u001B[0m \u001B[38;5;28;01mdef\u001B[39;00m \u001B[38;5;21mcreate\u001B[39m(\n\u001B[1;32m    790\u001B[0m     \u001B[38;5;28mself\u001B[39m,\n\u001B[0;32m   (...)\u001B[0m\n\u001B[1;32m    826\u001B[0m     timeout: \u001B[38;5;28mfloat\u001B[39m \u001B[38;5;241m|\u001B[39m httpx\u001B[38;5;241m.\u001B[39mTimeout \u001B[38;5;241m|\u001B[39m \u001B[38;5;28;01mNone\u001B[39;00m \u001B[38;5;241m|\u001B[39m NotGiven \u001B[38;5;241m=\u001B[39m NOT_GIVEN,\n\u001B[1;32m    827\u001B[0m ) \u001B[38;5;241m-\u001B[39m\u001B[38;5;241m>\u001B[39m ChatCompletion \u001B[38;5;241m|\u001B[39m Stream[ChatCompletionChunk]:\n\u001B[1;32m    828\u001B[0m     validate_response_format(response_format)\n\u001B[0;32m--> 829\u001B[0m     \u001B[38;5;28;01mreturn\u001B[39;00m \u001B[38;5;28;43mself\u001B[39;49m\u001B[38;5;241;43m.\u001B[39;49m\u001B[43m_post\u001B[49m\u001B[43m(\u001B[49m\n\u001B[1;32m    830\u001B[0m \u001B[43m        \u001B[49m\u001B[38;5;124;43m\"\u001B[39;49m\u001B[38;5;124;43m/chat/completions\u001B[39;49m\u001B[38;5;124;43m\"\u001B[39;49m\u001B[43m,\u001B[49m\n\u001B[1;32m    831\u001B[0m \u001B[43m        \u001B[49m\u001B[43mbody\u001B[49m\u001B[38;5;241;43m=\u001B[39;49m\u001B[43mmaybe_transform\u001B[49m\u001B[43m(\u001B[49m\n\u001B[1;32m    832\u001B[0m \u001B[43m            \u001B[49m\u001B[43m{\u001B[49m\n\u001B[1;32m    833\u001B[0m \u001B[43m                \u001B[49m\u001B[38;5;124;43m\"\u001B[39;49m\u001B[38;5;124;43mmessages\u001B[39;49m\u001B[38;5;124;43m\"\u001B[39;49m\u001B[43m:\u001B[49m\u001B[43m \u001B[49m\u001B[43mmessages\u001B[49m\u001B[43m,\u001B[49m\n\u001B[1;32m    834\u001B[0m \u001B[43m                \u001B[49m\u001B[38;5;124;43m\"\u001B[39;49m\u001B[38;5;124;43mmodel\u001B[39;49m\u001B[38;5;124;43m\"\u001B[39;49m\u001B[43m:\u001B[49m\u001B[43m \u001B[49m\u001B[43mmodel\u001B[49m\u001B[43m,\u001B[49m\n\u001B[1;32m    835\u001B[0m \u001B[43m                \u001B[49m\u001B[38;5;124;43m\"\u001B[39;49m\u001B[38;5;124;43maudio\u001B[39;49m\u001B[38;5;124;43m\"\u001B[39;49m\u001B[43m:\u001B[49m\u001B[43m \u001B[49m\u001B[43maudio\u001B[49m\u001B[43m,\u001B[49m\n\u001B[1;32m    836\u001B[0m \u001B[43m                \u001B[49m\u001B[38;5;124;43m\"\u001B[39;49m\u001B[38;5;124;43mfrequency_penalty\u001B[39;49m\u001B[38;5;124;43m\"\u001B[39;49m\u001B[43m:\u001B[49m\u001B[43m \u001B[49m\u001B[43mfrequency_penalty\u001B[49m\u001B[43m,\u001B[49m\n\u001B[1;32m    837\u001B[0m \u001B[43m                \u001B[49m\u001B[38;5;124;43m\"\u001B[39;49m\u001B[38;5;124;43mfunction_call\u001B[39;49m\u001B[38;5;124;43m\"\u001B[39;49m\u001B[43m:\u001B[49m\u001B[43m \u001B[49m\u001B[43mfunction_call\u001B[49m\u001B[43m,\u001B[49m\n\u001B[1;32m    838\u001B[0m \u001B[43m                \u001B[49m\u001B[38;5;124;43m\"\u001B[39;49m\u001B[38;5;124;43mfunctions\u001B[39;49m\u001B[38;5;124;43m\"\u001B[39;49m\u001B[43m:\u001B[49m\u001B[43m \u001B[49m\u001B[43mfunctions\u001B[49m\u001B[43m,\u001B[49m\n\u001B[1;32m    839\u001B[0m \u001B[43m                \u001B[49m\u001B[38;5;124;43m\"\u001B[39;49m\u001B[38;5;124;43mlogit_bias\u001B[39;49m\u001B[38;5;124;43m\"\u001B[39;49m\u001B[43m:\u001B[49m\u001B[43m \u001B[49m\u001B[43mlogit_bias\u001B[49m\u001B[43m,\u001B[49m\n\u001B[1;32m    840\u001B[0m \u001B[43m                \u001B[49m\u001B[38;5;124;43m\"\u001B[39;49m\u001B[38;5;124;43mlogprobs\u001B[39;49m\u001B[38;5;124;43m\"\u001B[39;49m\u001B[43m:\u001B[49m\u001B[43m \u001B[49m\u001B[43mlogprobs\u001B[49m\u001B[43m,\u001B[49m\n\u001B[1;32m    841\u001B[0m \u001B[43m                \u001B[49m\u001B[38;5;124;43m\"\u001B[39;49m\u001B[38;5;124;43mmax_completion_tokens\u001B[39;49m\u001B[38;5;124;43m\"\u001B[39;49m\u001B[43m:\u001B[49m\u001B[43m \u001B[49m\u001B[43mmax_completion_tokens\u001B[49m\u001B[43m,\u001B[49m\n\u001B[1;32m    842\u001B[0m \u001B[43m                \u001B[49m\u001B[38;5;124;43m\"\u001B[39;49m\u001B[38;5;124;43mmax_tokens\u001B[39;49m\u001B[38;5;124;43m\"\u001B[39;49m\u001B[43m:\u001B[49m\u001B[43m \u001B[49m\u001B[43mmax_tokens\u001B[49m\u001B[43m,\u001B[49m\n\u001B[1;32m    843\u001B[0m \u001B[43m                \u001B[49m\u001B[38;5;124;43m\"\u001B[39;49m\u001B[38;5;124;43mmetadata\u001B[39;49m\u001B[38;5;124;43m\"\u001B[39;49m\u001B[43m:\u001B[49m\u001B[43m \u001B[49m\u001B[43mmetadata\u001B[49m\u001B[43m,\u001B[49m\n\u001B[1;32m    844\u001B[0m \u001B[43m                \u001B[49m\u001B[38;5;124;43m\"\u001B[39;49m\u001B[38;5;124;43mmodalities\u001B[39;49m\u001B[38;5;124;43m\"\u001B[39;49m\u001B[43m:\u001B[49m\u001B[43m \u001B[49m\u001B[43mmodalities\u001B[49m\u001B[43m,\u001B[49m\n\u001B[1;32m    845\u001B[0m \u001B[43m                \u001B[49m\u001B[38;5;124;43m\"\u001B[39;49m\u001B[38;5;124;43mn\u001B[39;49m\u001B[38;5;124;43m\"\u001B[39;49m\u001B[43m:\u001B[49m\u001B[43m \u001B[49m\u001B[43mn\u001B[49m\u001B[43m,\u001B[49m\n\u001B[1;32m    846\u001B[0m \u001B[43m                \u001B[49m\u001B[38;5;124;43m\"\u001B[39;49m\u001B[38;5;124;43mparallel_tool_calls\u001B[39;49m\u001B[38;5;124;43m\"\u001B[39;49m\u001B[43m:\u001B[49m\u001B[43m \u001B[49m\u001B[43mparallel_tool_calls\u001B[49m\u001B[43m,\u001B[49m\n\u001B[1;32m    847\u001B[0m \u001B[43m                \u001B[49m\u001B[38;5;124;43m\"\u001B[39;49m\u001B[38;5;124;43mprediction\u001B[39;49m\u001B[38;5;124;43m\"\u001B[39;49m\u001B[43m:\u001B[49m\u001B[43m \u001B[49m\u001B[43mprediction\u001B[49m\u001B[43m,\u001B[49m\n\u001B[1;32m    848\u001B[0m \u001B[43m                \u001B[49m\u001B[38;5;124;43m\"\u001B[39;49m\u001B[38;5;124;43mpresence_penalty\u001B[39;49m\u001B[38;5;124;43m\"\u001B[39;49m\u001B[43m:\u001B[49m\u001B[43m \u001B[49m\u001B[43mpresence_penalty\u001B[49m\u001B[43m,\u001B[49m\n\u001B[1;32m    849\u001B[0m \u001B[43m                \u001B[49m\u001B[38;5;124;43m\"\u001B[39;49m\u001B[38;5;124;43mresponse_format\u001B[39;49m\u001B[38;5;124;43m\"\u001B[39;49m\u001B[43m:\u001B[49m\u001B[43m \u001B[49m\u001B[43mresponse_format\u001B[49m\u001B[43m,\u001B[49m\n\u001B[1;32m    850\u001B[0m \u001B[43m                \u001B[49m\u001B[38;5;124;43m\"\u001B[39;49m\u001B[38;5;124;43mseed\u001B[39;49m\u001B[38;5;124;43m\"\u001B[39;49m\u001B[43m:\u001B[49m\u001B[43m \u001B[49m\u001B[43mseed\u001B[49m\u001B[43m,\u001B[49m\n\u001B[1;32m    851\u001B[0m \u001B[43m                \u001B[49m\u001B[38;5;124;43m\"\u001B[39;49m\u001B[38;5;124;43mservice_tier\u001B[39;49m\u001B[38;5;124;43m\"\u001B[39;49m\u001B[43m:\u001B[49m\u001B[43m \u001B[49m\u001B[43mservice_tier\u001B[49m\u001B[43m,\u001B[49m\n\u001B[1;32m    852\u001B[0m \u001B[43m                \u001B[49m\u001B[38;5;124;43m\"\u001B[39;49m\u001B[38;5;124;43mstop\u001B[39;49m\u001B[38;5;124;43m\"\u001B[39;49m\u001B[43m:\u001B[49m\u001B[43m \u001B[49m\u001B[43mstop\u001B[49m\u001B[43m,\u001B[49m\n\u001B[1;32m    853\u001B[0m \u001B[43m                \u001B[49m\u001B[38;5;124;43m\"\u001B[39;49m\u001B[38;5;124;43mstore\u001B[39;49m\u001B[38;5;124;43m\"\u001B[39;49m\u001B[43m:\u001B[49m\u001B[43m \u001B[49m\u001B[43mstore\u001B[49m\u001B[43m,\u001B[49m\n\u001B[1;32m    854\u001B[0m \u001B[43m                \u001B[49m\u001B[38;5;124;43m\"\u001B[39;49m\u001B[38;5;124;43mstream\u001B[39;49m\u001B[38;5;124;43m\"\u001B[39;49m\u001B[43m:\u001B[49m\u001B[43m \u001B[49m\u001B[43mstream\u001B[49m\u001B[43m,\u001B[49m\n\u001B[1;32m    855\u001B[0m \u001B[43m                \u001B[49m\u001B[38;5;124;43m\"\u001B[39;49m\u001B[38;5;124;43mstream_options\u001B[39;49m\u001B[38;5;124;43m\"\u001B[39;49m\u001B[43m:\u001B[49m\u001B[43m \u001B[49m\u001B[43mstream_options\u001B[49m\u001B[43m,\u001B[49m\n\u001B[1;32m    856\u001B[0m \u001B[43m                \u001B[49m\u001B[38;5;124;43m\"\u001B[39;49m\u001B[38;5;124;43mtemperature\u001B[39;49m\u001B[38;5;124;43m\"\u001B[39;49m\u001B[43m:\u001B[49m\u001B[43m \u001B[49m\u001B[43mtemperature\u001B[49m\u001B[43m,\u001B[49m\n\u001B[1;32m    857\u001B[0m \u001B[43m                \u001B[49m\u001B[38;5;124;43m\"\u001B[39;49m\u001B[38;5;124;43mtool_choice\u001B[39;49m\u001B[38;5;124;43m\"\u001B[39;49m\u001B[43m:\u001B[49m\u001B[43m \u001B[49m\u001B[43mtool_choice\u001B[49m\u001B[43m,\u001B[49m\n\u001B[1;32m    858\u001B[0m \u001B[43m                \u001B[49m\u001B[38;5;124;43m\"\u001B[39;49m\u001B[38;5;124;43mtools\u001B[39;49m\u001B[38;5;124;43m\"\u001B[39;49m\u001B[43m:\u001B[49m\u001B[43m \u001B[49m\u001B[43mtools\u001B[49m\u001B[43m,\u001B[49m\n\u001B[1;32m    859\u001B[0m \u001B[43m                \u001B[49m\u001B[38;5;124;43m\"\u001B[39;49m\u001B[38;5;124;43mtop_logprobs\u001B[39;49m\u001B[38;5;124;43m\"\u001B[39;49m\u001B[43m:\u001B[49m\u001B[43m \u001B[49m\u001B[43mtop_logprobs\u001B[49m\u001B[43m,\u001B[49m\n\u001B[1;32m    860\u001B[0m \u001B[43m                \u001B[49m\u001B[38;5;124;43m\"\u001B[39;49m\u001B[38;5;124;43mtop_p\u001B[39;49m\u001B[38;5;124;43m\"\u001B[39;49m\u001B[43m:\u001B[49m\u001B[43m \u001B[49m\u001B[43mtop_p\u001B[49m\u001B[43m,\u001B[49m\n\u001B[1;32m    861\u001B[0m \u001B[43m                \u001B[49m\u001B[38;5;124;43m\"\u001B[39;49m\u001B[38;5;124;43muser\u001B[39;49m\u001B[38;5;124;43m\"\u001B[39;49m\u001B[43m:\u001B[49m\u001B[43m \u001B[49m\u001B[43muser\u001B[49m\u001B[43m,\u001B[49m\n\u001B[1;32m    862\u001B[0m \u001B[43m            \u001B[49m\u001B[43m}\u001B[49m\u001B[43m,\u001B[49m\n\u001B[1;32m    863\u001B[0m \u001B[43m            \u001B[49m\u001B[43mcompletion_create_params\u001B[49m\u001B[38;5;241;43m.\u001B[39;49m\u001B[43mCompletionCreateParams\u001B[49m\u001B[43m,\u001B[49m\n\u001B[1;32m    864\u001B[0m \u001B[43m        \u001B[49m\u001B[43m)\u001B[49m\u001B[43m,\u001B[49m\n\u001B[1;32m    865\u001B[0m \u001B[43m        \u001B[49m\u001B[43moptions\u001B[49m\u001B[38;5;241;43m=\u001B[39;49m\u001B[43mmake_request_options\u001B[49m\u001B[43m(\u001B[49m\n\u001B[1;32m    866\u001B[0m \u001B[43m            \u001B[49m\u001B[43mextra_headers\u001B[49m\u001B[38;5;241;43m=\u001B[39;49m\u001B[43mextra_headers\u001B[49m\u001B[43m,\u001B[49m\u001B[43m \u001B[49m\u001B[43mextra_query\u001B[49m\u001B[38;5;241;43m=\u001B[39;49m\u001B[43mextra_query\u001B[49m\u001B[43m,\u001B[49m\u001B[43m \u001B[49m\u001B[43mextra_body\u001B[49m\u001B[38;5;241;43m=\u001B[39;49m\u001B[43mextra_body\u001B[49m\u001B[43m,\u001B[49m\u001B[43m \u001B[49m\u001B[43mtimeout\u001B[49m\u001B[38;5;241;43m=\u001B[39;49m\u001B[43mtimeout\u001B[49m\n\u001B[1;32m    867\u001B[0m \u001B[43m        \u001B[49m\u001B[43m)\u001B[49m\u001B[43m,\u001B[49m\n\u001B[1;32m    868\u001B[0m \u001B[43m        \u001B[49m\u001B[43mcast_to\u001B[49m\u001B[38;5;241;43m=\u001B[39;49m\u001B[43mChatCompletion\u001B[49m\u001B[43m,\u001B[49m\n\u001B[1;32m    869\u001B[0m \u001B[43m        \u001B[49m\u001B[43mstream\u001B[49m\u001B[38;5;241;43m=\u001B[39;49m\u001B[43mstream\u001B[49m\u001B[43m \u001B[49m\u001B[38;5;129;43;01mor\u001B[39;49;00m\u001B[43m \u001B[49m\u001B[38;5;28;43;01mFalse\u001B[39;49;00m\u001B[43m,\u001B[49m\n\u001B[1;32m    870\u001B[0m \u001B[43m        \u001B[49m\u001B[43mstream_cls\u001B[49m\u001B[38;5;241;43m=\u001B[39;49m\u001B[43mStream\u001B[49m\u001B[43m[\u001B[49m\u001B[43mChatCompletionChunk\u001B[49m\u001B[43m]\u001B[49m\u001B[43m,\u001B[49m\n\u001B[1;32m    871\u001B[0m \u001B[43m    \u001B[49m\u001B[43m)\u001B[49m\n",
      "File \u001B[0;32m~/Desktop/NLP-JADS/venv/lib/python3.12/site-packages/openai/_base_client.py:1277\u001B[0m, in \u001B[0;36mSyncAPIClient.post\u001B[0;34m(self, path, cast_to, body, options, files, stream, stream_cls)\u001B[0m\n\u001B[1;32m   1263\u001B[0m \u001B[38;5;28;01mdef\u001B[39;00m \u001B[38;5;21mpost\u001B[39m(\n\u001B[1;32m   1264\u001B[0m     \u001B[38;5;28mself\u001B[39m,\n\u001B[1;32m   1265\u001B[0m     path: \u001B[38;5;28mstr\u001B[39m,\n\u001B[0;32m   (...)\u001B[0m\n\u001B[1;32m   1272\u001B[0m     stream_cls: \u001B[38;5;28mtype\u001B[39m[_StreamT] \u001B[38;5;241m|\u001B[39m \u001B[38;5;28;01mNone\u001B[39;00m \u001B[38;5;241m=\u001B[39m \u001B[38;5;28;01mNone\u001B[39;00m,\n\u001B[1;32m   1273\u001B[0m ) \u001B[38;5;241m-\u001B[39m\u001B[38;5;241m>\u001B[39m ResponseT \u001B[38;5;241m|\u001B[39m _StreamT:\n\u001B[1;32m   1274\u001B[0m     opts \u001B[38;5;241m=\u001B[39m FinalRequestOptions\u001B[38;5;241m.\u001B[39mconstruct(\n\u001B[1;32m   1275\u001B[0m         method\u001B[38;5;241m=\u001B[39m\u001B[38;5;124m\"\u001B[39m\u001B[38;5;124mpost\u001B[39m\u001B[38;5;124m\"\u001B[39m, url\u001B[38;5;241m=\u001B[39mpath, json_data\u001B[38;5;241m=\u001B[39mbody, files\u001B[38;5;241m=\u001B[39mto_httpx_files(files), \u001B[38;5;241m*\u001B[39m\u001B[38;5;241m*\u001B[39moptions\n\u001B[1;32m   1276\u001B[0m     )\n\u001B[0;32m-> 1277\u001B[0m     \u001B[38;5;28;01mreturn\u001B[39;00m cast(ResponseT, \u001B[38;5;28;43mself\u001B[39;49m\u001B[38;5;241;43m.\u001B[39;49m\u001B[43mrequest\u001B[49m\u001B[43m(\u001B[49m\u001B[43mcast_to\u001B[49m\u001B[43m,\u001B[49m\u001B[43m \u001B[49m\u001B[43mopts\u001B[49m\u001B[43m,\u001B[49m\u001B[43m \u001B[49m\u001B[43mstream\u001B[49m\u001B[38;5;241;43m=\u001B[39;49m\u001B[43mstream\u001B[49m\u001B[43m,\u001B[49m\u001B[43m \u001B[49m\u001B[43mstream_cls\u001B[49m\u001B[38;5;241;43m=\u001B[39;49m\u001B[43mstream_cls\u001B[49m\u001B[43m)\u001B[49m)\n",
      "File \u001B[0;32m~/Desktop/NLP-JADS/venv/lib/python3.12/site-packages/openai/_base_client.py:954\u001B[0m, in \u001B[0;36mSyncAPIClient.request\u001B[0;34m(self, cast_to, options, remaining_retries, stream, stream_cls)\u001B[0m\n\u001B[1;32m    951\u001B[0m \u001B[38;5;28;01melse\u001B[39;00m:\n\u001B[1;32m    952\u001B[0m     retries_taken \u001B[38;5;241m=\u001B[39m \u001B[38;5;241m0\u001B[39m\n\u001B[0;32m--> 954\u001B[0m \u001B[38;5;28;01mreturn\u001B[39;00m \u001B[38;5;28;43mself\u001B[39;49m\u001B[38;5;241;43m.\u001B[39;49m\u001B[43m_request\u001B[49m\u001B[43m(\u001B[49m\n\u001B[1;32m    955\u001B[0m \u001B[43m    \u001B[49m\u001B[43mcast_to\u001B[49m\u001B[38;5;241;43m=\u001B[39;49m\u001B[43mcast_to\u001B[49m\u001B[43m,\u001B[49m\n\u001B[1;32m    956\u001B[0m \u001B[43m    \u001B[49m\u001B[43moptions\u001B[49m\u001B[38;5;241;43m=\u001B[39;49m\u001B[43moptions\u001B[49m\u001B[43m,\u001B[49m\n\u001B[1;32m    957\u001B[0m \u001B[43m    \u001B[49m\u001B[43mstream\u001B[49m\u001B[38;5;241;43m=\u001B[39;49m\u001B[43mstream\u001B[49m\u001B[43m,\u001B[49m\n\u001B[1;32m    958\u001B[0m \u001B[43m    \u001B[49m\u001B[43mstream_cls\u001B[49m\u001B[38;5;241;43m=\u001B[39;49m\u001B[43mstream_cls\u001B[49m\u001B[43m,\u001B[49m\n\u001B[1;32m    959\u001B[0m \u001B[43m    \u001B[49m\u001B[43mretries_taken\u001B[49m\u001B[38;5;241;43m=\u001B[39;49m\u001B[43mretries_taken\u001B[49m\u001B[43m,\u001B[49m\n\u001B[1;32m    960\u001B[0m \u001B[43m\u001B[49m\u001B[43m)\u001B[49m\n",
      "File \u001B[0;32m~/Desktop/NLP-JADS/venv/lib/python3.12/site-packages/openai/_base_client.py:1058\u001B[0m, in \u001B[0;36mSyncAPIClient._request\u001B[0;34m(self, cast_to, options, retries_taken, stream, stream_cls)\u001B[0m\n\u001B[1;32m   1055\u001B[0m         err\u001B[38;5;241m.\u001B[39mresponse\u001B[38;5;241m.\u001B[39mread()\n\u001B[1;32m   1057\u001B[0m     log\u001B[38;5;241m.\u001B[39mdebug(\u001B[38;5;124m\"\u001B[39m\u001B[38;5;124mRe-raising status error\u001B[39m\u001B[38;5;124m\"\u001B[39m)\n\u001B[0;32m-> 1058\u001B[0m     \u001B[38;5;28;01mraise\u001B[39;00m \u001B[38;5;28mself\u001B[39m\u001B[38;5;241m.\u001B[39m_make_status_error_from_response(err\u001B[38;5;241m.\u001B[39mresponse) \u001B[38;5;28;01mfrom\u001B[39;00m \u001B[38;5;28;01mNone\u001B[39;00m\n\u001B[1;32m   1060\u001B[0m \u001B[38;5;28;01mreturn\u001B[39;00m \u001B[38;5;28mself\u001B[39m\u001B[38;5;241m.\u001B[39m_process_response(\n\u001B[1;32m   1061\u001B[0m     cast_to\u001B[38;5;241m=\u001B[39mcast_to,\n\u001B[1;32m   1062\u001B[0m     options\u001B[38;5;241m=\u001B[39moptions,\n\u001B[0;32m   (...)\u001B[0m\n\u001B[1;32m   1066\u001B[0m     retries_taken\u001B[38;5;241m=\u001B[39mretries_taken,\n\u001B[1;32m   1067\u001B[0m )\n",
      "\u001B[0;31mBadRequestError\u001B[0m: Error code: 400 - {'error': {'message': \"This model's maximum context length is 16385 tokens. However, your messages resulted in 20919 tokens. Please reduce the length of the messages.\", 'type': 'invalid_request_error', 'param': 'messages', 'code': 'context_length_exceeded'}}"
     ]
    }
   ],
   "execution_count": 74
  },
  {
   "metadata": {},
   "cell_type": "code",
   "outputs": [],
   "execution_count": null,
   "source": "",
   "id": "8951041f7a68d948"
  }
 ],
 "metadata": {
  "kernelspec": {
   "display_name": "Python 3",
   "language": "python",
   "name": "python3"
  },
  "language_info": {
   "codemirror_mode": {
    "name": "ipython",
    "version": 2
   },
   "file_extension": ".py",
   "mimetype": "text/x-python",
   "name": "python",
   "nbconvert_exporter": "python",
   "pygments_lexer": "ipython2",
   "version": "2.7.6"
  }
 },
 "nbformat": 4,
 "nbformat_minor": 5
}
