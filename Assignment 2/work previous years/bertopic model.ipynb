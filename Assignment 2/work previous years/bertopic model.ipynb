{
 "cells": [
  {
   "cell_type": "code",
   "execution_count": 2,
   "metadata": {
    "collapsed": true,
    "ExecuteTime": {
     "start_time": "2023-11-03T14:22:57.260839Z",
     "end_time": "2023-11-03T14:22:58.186035Z"
    }
   },
   "outputs": [],
   "source": [
    "import csv\n",
    "import pyreadr\n",
    "import os\n",
    "import pandas as pd"
   ]
  },
  {
   "cell_type": "code",
   "execution_count": 6,
   "outputs": [],
   "source": [
    "def get_pandas_frame(path):\n",
    "    return pyreadr.read_r(path)[None]\n",
    "\n",
    "def get_pandas_r_file(week_nr, file_type):\n",
    "    week_nr = str(week_nr)\n",
    "    week_folder = f\"Kickstarter/2019_week{week_nr}\"\n",
    "    pledge_name =os.path.join(week_folder, f\"{file_type}.rds\")\n",
    "    return get_pandas_frame(pledge_name)\n",
    "\n",
    "posts_week_19 = get_pandas_r_file(19, \"posts\")"
   ],
   "metadata": {
    "collapsed": false,
    "ExecuteTime": {
     "start_time": "2023-11-03T14:26:31.594970Z",
     "end_time": "2023-11-03T14:26:34.447897Z"
    }
   }
  },
  {
   "cell_type": "code",
   "execution_count": 7,
   "outputs": [
    {
     "data": {
      "text/plain": "         Project_my_id      creator_slug  \\\n0       project_000001        2146868994   \n1       project_000002        1805256969   \n2       project_000002        1805256969   \n3       project_000002        1805256969   \n4       project_000002        1805256969   \n...                ...               ...   \n446868  project_073361       rowanlakejr   \n446869  project_073361       rowanlakejr   \n446870  project_073361       rowanlakejr   \n446871  project_073361       rowanlakejr   \n446872  project_073365  babyplantdesigns   \n\n                                  project_slug    Post_Nb  \\\n0       the-because-black-life-conference-2018  Update #1   \n1         petography-illustrations-of-your-pet  Update #5   \n2         petography-illustrations-of-your-pet  Update #4   \n3         petography-illustrations-of-your-pet  Update #3   \n4         petography-illustrations-of-your-pet  Update #2   \n...                                        ...        ...   \n446868                           new-altervice  Update #4   \n446869                           new-altervice  Update #3   \n446870                           new-altervice  Update #2   \n446871                           new-altervice  Update #1   \n446872                      baby-plant-designs  Update #1   \n\n                                    Post_Title     Post_Date  \\\n0       Can you believe it!! 8 Endorsements!!!  May 18, 2018   \n1               Petography End of July Update!  Jul 24, 2018   \n2                              Digital Update!  Jul 11, 2018   \n3                           Petography Update!  Jun 13, 2018   \n4                           Name of your pets!  May 22, 2018   \n...                                        ...           ...   \n446868                           A Bit of Info  Mar 14, 2019   \n446869                Altervice Website Part 2  Mar 11, 2019   \n446870                       Altervice Website   Mar 5, 2019   \n446871                New Altervice Commercial   Mar 1, 2019   \n446872         Supporting Bee Organizations!!!   Apr 3, 2019   \n\n                                                Post_Text          Post_id  \n0       The Because Black Life Conference is a (Black)...  project_0000011  \n1       Hi everyone!  Hope your summer is going well! ...  project_0000025  \n2                                        ONLY FOR BACKERS  project_0000024  \n3                                        ONLY FOR BACKERS  project_0000023  \n4                                        ONLY FOR BACKERS  project_0000022  \n...                                                   ...              ...  \n446868  Just in case you never saw what the larger siz...  project_0733614  \n446869  The Altervice website is almost complete. I've...  project_0733613  \n446870  That's right folks! I'm currently working on a...  project_0733612  \n446871  Hey guys! Thanks so much for support! Here's a...  project_0733611  \n446872  With being a organic friendly company, with th...  project_0733651  \n\n[446873 rows x 8 columns]",
      "text/html": "<div>\n<style scoped>\n    .dataframe tbody tr th:only-of-type {\n        vertical-align: middle;\n    }\n\n    .dataframe tbody tr th {\n        vertical-align: top;\n    }\n\n    .dataframe thead th {\n        text-align: right;\n    }\n</style>\n<table border=\"1\" class=\"dataframe\">\n  <thead>\n    <tr style=\"text-align: right;\">\n      <th></th>\n      <th>Project_my_id</th>\n      <th>creator_slug</th>\n      <th>project_slug</th>\n      <th>Post_Nb</th>\n      <th>Post_Title</th>\n      <th>Post_Date</th>\n      <th>Post_Text</th>\n      <th>Post_id</th>\n    </tr>\n  </thead>\n  <tbody>\n    <tr>\n      <th>0</th>\n      <td>project_000001</td>\n      <td>2146868994</td>\n      <td>the-because-black-life-conference-2018</td>\n      <td>Update #1</td>\n      <td>Can you believe it!! 8 Endorsements!!!</td>\n      <td>May 18, 2018</td>\n      <td>The Because Black Life Conference is a (Black)...</td>\n      <td>project_0000011</td>\n    </tr>\n    <tr>\n      <th>1</th>\n      <td>project_000002</td>\n      <td>1805256969</td>\n      <td>petography-illustrations-of-your-pet</td>\n      <td>Update #5</td>\n      <td>Petography End of July Update!</td>\n      <td>Jul 24, 2018</td>\n      <td>Hi everyone!  Hope your summer is going well! ...</td>\n      <td>project_0000025</td>\n    </tr>\n    <tr>\n      <th>2</th>\n      <td>project_000002</td>\n      <td>1805256969</td>\n      <td>petography-illustrations-of-your-pet</td>\n      <td>Update #4</td>\n      <td>Digital Update!</td>\n      <td>Jul 11, 2018</td>\n      <td>ONLY FOR BACKERS</td>\n      <td>project_0000024</td>\n    </tr>\n    <tr>\n      <th>3</th>\n      <td>project_000002</td>\n      <td>1805256969</td>\n      <td>petography-illustrations-of-your-pet</td>\n      <td>Update #3</td>\n      <td>Petography Update!</td>\n      <td>Jun 13, 2018</td>\n      <td>ONLY FOR BACKERS</td>\n      <td>project_0000023</td>\n    </tr>\n    <tr>\n      <th>4</th>\n      <td>project_000002</td>\n      <td>1805256969</td>\n      <td>petography-illustrations-of-your-pet</td>\n      <td>Update #2</td>\n      <td>Name of your pets!</td>\n      <td>May 22, 2018</td>\n      <td>ONLY FOR BACKERS</td>\n      <td>project_0000022</td>\n    </tr>\n    <tr>\n      <th>...</th>\n      <td>...</td>\n      <td>...</td>\n      <td>...</td>\n      <td>...</td>\n      <td>...</td>\n      <td>...</td>\n      <td>...</td>\n      <td>...</td>\n    </tr>\n    <tr>\n      <th>446868</th>\n      <td>project_073361</td>\n      <td>rowanlakejr</td>\n      <td>new-altervice</td>\n      <td>Update #4</td>\n      <td>A Bit of Info</td>\n      <td>Mar 14, 2019</td>\n      <td>Just in case you never saw what the larger siz...</td>\n      <td>project_0733614</td>\n    </tr>\n    <tr>\n      <th>446869</th>\n      <td>project_073361</td>\n      <td>rowanlakejr</td>\n      <td>new-altervice</td>\n      <td>Update #3</td>\n      <td>Altervice Website Part 2</td>\n      <td>Mar 11, 2019</td>\n      <td>The Altervice website is almost complete. I've...</td>\n      <td>project_0733613</td>\n    </tr>\n    <tr>\n      <th>446870</th>\n      <td>project_073361</td>\n      <td>rowanlakejr</td>\n      <td>new-altervice</td>\n      <td>Update #2</td>\n      <td>Altervice Website</td>\n      <td>Mar 5, 2019</td>\n      <td>That's right folks! I'm currently working on a...</td>\n      <td>project_0733612</td>\n    </tr>\n    <tr>\n      <th>446871</th>\n      <td>project_073361</td>\n      <td>rowanlakejr</td>\n      <td>new-altervice</td>\n      <td>Update #1</td>\n      <td>New Altervice Commercial</td>\n      <td>Mar 1, 2019</td>\n      <td>Hey guys! Thanks so much for support! Here's a...</td>\n      <td>project_0733611</td>\n    </tr>\n    <tr>\n      <th>446872</th>\n      <td>project_073365</td>\n      <td>babyplantdesigns</td>\n      <td>baby-plant-designs</td>\n      <td>Update #1</td>\n      <td>Supporting Bee Organizations!!!</td>\n      <td>Apr 3, 2019</td>\n      <td>With being a organic friendly company, with th...</td>\n      <td>project_0733651</td>\n    </tr>\n  </tbody>\n</table>\n<p>446873 rows × 8 columns</p>\n</div>"
     },
     "execution_count": 7,
     "metadata": {},
     "output_type": "execute_result"
    }
   ],
   "source": [
    "posts_week_19"
   ],
   "metadata": {
    "collapsed": false,
    "ExecuteTime": {
     "start_time": "2023-11-03T14:26:38.108976Z",
     "end_time": "2023-11-03T14:26:38.122636Z"
    }
   }
  },
  {
   "cell_type": "code",
   "execution_count": 8,
   "outputs": [
    {
     "data": {
      "text/plain": "0         The Because Black Life Conference is a (Black)...\n1         Hi everyone!  Hope your summer is going well! ...\n2                                          ONLY FOR BACKERS\n3                                          ONLY FOR BACKERS\n4                                          ONLY FOR BACKERS\n                                ...                        \n446868    Just in case you never saw what the larger siz...\n446869    The Altervice website is almost complete. I've...\n446870    That's right folks! I'm currently working on a...\n446871    Hey guys! Thanks so much for support! Here's a...\n446872    With being a organic friendly company, with th...\nName: Post_Text, Length: 446873, dtype: object"
     },
     "execution_count": 8,
     "metadata": {},
     "output_type": "execute_result"
    }
   ],
   "source": [
    "posts_week_19[\"Post_Text\"]"
   ],
   "metadata": {
    "collapsed": false,
    "ExecuteTime": {
     "start_time": "2023-11-03T14:37:10.089792Z",
     "end_time": "2023-11-03T14:37:10.096286Z"
    }
   }
  },
  {
   "cell_type": "code",
   "execution_count": 9,
   "outputs": [],
   "source": [
    "from bertopic import BERTopic\n"
   ],
   "metadata": {
    "collapsed": false,
    "ExecuteTime": {
     "start_time": "2023-11-03T14:38:20.335587Z",
     "end_time": "2023-11-03T14:38:30.694152Z"
    }
   }
  },
  {
   "cell_type": "code",
   "execution_count": 10,
   "outputs": [],
   "source": [
    "topic_model = BERTopic(embedding_model=\"paraphrase-MiniLM-L6-v2\")"
   ],
   "metadata": {
    "collapsed": false,
    "ExecuteTime": {
     "start_time": "2023-11-03T14:38:34.758415Z",
     "end_time": "2023-11-03T14:38:34.764439Z"
    }
   }
  },
  {
   "cell_type": "code",
   "execution_count": null,
   "outputs": [
    {
     "name": "stdout",
     "output_type": "stream",
     "text": [
      "446873\n"
     ]
    }
   ],
   "source": [
    "print(len(posts_week_19[\"Post_Text\"]))\n",
    "topics, probs = topic_model.fit_transform(posts_week_19[\"Post_Text\"])"
   ],
   "metadata": {
    "collapsed": false,
    "ExecuteTime": {
     "start_time": "2023-11-03T15:18:10.572037Z",
     "end_time": "2023-11-03T15:18:23.999700Z"
    },
    "pycharm": {
     "is_executing": true
    }
   }
  },
  {
   "cell_type": "code",
   "execution_count": 15,
   "outputs": [
    {
     "data": {
      "text/plain": "    Topic  Count                   Name  \\\n0      -1     24   -1_only_backers_for_   \n1       0   1538        0_the_to_and_of   \n2       1    186    1_only_backers_for_   \n3       2     66                2_ko___   \n4       3     57       3_fã_och_att_det   \n5       4     33    4_only_backers_for_   \n6       5     26         5_de_que_la_el   \n7       6     22    6_you_the_new_plate   \n8       7     17  7_00_play_sound_html5   \n9       8     16    8_only_backers_for_   \n10      9     15    9_only_backers_for_   \n\n                                       Representation  \\\n0                  [only, backers, for, , , , , , , ]   \n1      [the, to, and, of, you, in, for, it, we, that]   \n2                  [only, backers, for, , , , , , , ]   \n3                              [ko, , , , , , , , , ]   \n4      [fã, och, att, det, som, en, vi, den, med, pã]   \n5                  [only, backers, for, , , , , , , ]   \n6      [de, que, la, el, en, un, por, los, con, para]   \n7   [you, the, new, plate, year, backerkit, frozen...   \n8   [00, play, sound, html5, replay, browser, capa...   \n9                  [only, backers, for, , , , , , , ]   \n10                 [only, backers, for, , , , , , , ]   \n\n                                  Representative_Docs  \n0   [ONLY FOR BACKERS, ONLY FOR BACKERS, ONLY FOR ...  \n1   [Are you all tired of me being shocked when my...  \n2   [ONLY FOR BACKERS, ONLY FOR BACKERS, ONLY FOR ...  \n3                                        [KO, KO, KO]  \n4   [Hej  HÃ¤r kommer en liten uppdatering om Kick...  \n5   [ONLY FOR BACKERS, ONLY FOR BACKERS, ONLY FOR ...  \n6   [Un dÃ­a frente a un rÃ­o me dije a mi mismo q...  \n7   [, Thank you!!Â , Â  Â Â Â Â Â Â Â Â Â Â Â Â Â...  \n8   [You'll need an HTML5 capable browser to see t...  \n9   [ONLY FOR BACKERS, ONLY FOR BACKERS, ONLY FOR ...  \n10  [ONLY FOR BACKERS, ONLY FOR BACKERS, ONLY FOR ...  ",
      "text/html": "<div>\n<style scoped>\n    .dataframe tbody tr th:only-of-type {\n        vertical-align: middle;\n    }\n\n    .dataframe tbody tr th {\n        vertical-align: top;\n    }\n\n    .dataframe thead th {\n        text-align: right;\n    }\n</style>\n<table border=\"1\" class=\"dataframe\">\n  <thead>\n    <tr style=\"text-align: right;\">\n      <th></th>\n      <th>Topic</th>\n      <th>Count</th>\n      <th>Name</th>\n      <th>Representation</th>\n      <th>Representative_Docs</th>\n    </tr>\n  </thead>\n  <tbody>\n    <tr>\n      <th>0</th>\n      <td>-1</td>\n      <td>24</td>\n      <td>-1_only_backers_for_</td>\n      <td>[only, backers, for, , , , , , , ]</td>\n      <td>[ONLY FOR BACKERS, ONLY FOR BACKERS, ONLY FOR ...</td>\n    </tr>\n    <tr>\n      <th>1</th>\n      <td>0</td>\n      <td>1538</td>\n      <td>0_the_to_and_of</td>\n      <td>[the, to, and, of, you, in, for, it, we, that]</td>\n      <td>[Are you all tired of me being shocked when my...</td>\n    </tr>\n    <tr>\n      <th>2</th>\n      <td>1</td>\n      <td>186</td>\n      <td>1_only_backers_for_</td>\n      <td>[only, backers, for, , , , , , , ]</td>\n      <td>[ONLY FOR BACKERS, ONLY FOR BACKERS, ONLY FOR ...</td>\n    </tr>\n    <tr>\n      <th>3</th>\n      <td>2</td>\n      <td>66</td>\n      <td>2_ko___</td>\n      <td>[ko, , , , , , , , , ]</td>\n      <td>[KO, KO, KO]</td>\n    </tr>\n    <tr>\n      <th>4</th>\n      <td>3</td>\n      <td>57</td>\n      <td>3_fã_och_att_det</td>\n      <td>[fã, och, att, det, som, en, vi, den, med, pã]</td>\n      <td>[Hej  HÃ¤r kommer en liten uppdatering om Kick...</td>\n    </tr>\n    <tr>\n      <th>5</th>\n      <td>4</td>\n      <td>33</td>\n      <td>4_only_backers_for_</td>\n      <td>[only, backers, for, , , , , , , ]</td>\n      <td>[ONLY FOR BACKERS, ONLY FOR BACKERS, ONLY FOR ...</td>\n    </tr>\n    <tr>\n      <th>6</th>\n      <td>5</td>\n      <td>26</td>\n      <td>5_de_que_la_el</td>\n      <td>[de, que, la, el, en, un, por, los, con, para]</td>\n      <td>[Un dÃ­a frente a un rÃ­o me dije a mi mismo q...</td>\n    </tr>\n    <tr>\n      <th>7</th>\n      <td>6</td>\n      <td>22</td>\n      <td>6_you_the_new_plate</td>\n      <td>[you, the, new, plate, year, backerkit, frozen...</td>\n      <td>[, Thank you!!Â , Â  Â Â Â Â Â Â Â Â Â Â Â Â Â...</td>\n    </tr>\n    <tr>\n      <th>8</th>\n      <td>7</td>\n      <td>17</td>\n      <td>7_00_play_sound_html5</td>\n      <td>[00, play, sound, html5, replay, browser, capa...</td>\n      <td>[You'll need an HTML5 capable browser to see t...</td>\n    </tr>\n    <tr>\n      <th>9</th>\n      <td>8</td>\n      <td>16</td>\n      <td>8_only_backers_for_</td>\n      <td>[only, backers, for, , , , , , , ]</td>\n      <td>[ONLY FOR BACKERS, ONLY FOR BACKERS, ONLY FOR ...</td>\n    </tr>\n    <tr>\n      <th>10</th>\n      <td>9</td>\n      <td>15</td>\n      <td>9_only_backers_for_</td>\n      <td>[only, backers, for, , , , , , , ]</td>\n      <td>[ONLY FOR BACKERS, ONLY FOR BACKERS, ONLY FOR ...</td>\n    </tr>\n  </tbody>\n</table>\n</div>"
     },
     "execution_count": 15,
     "metadata": {},
     "output_type": "execute_result"
    }
   ],
   "source": [
    "topic_model.get_topic_info()"
   ],
   "metadata": {
    "collapsed": false,
    "ExecuteTime": {
     "start_time": "2023-11-03T15:18:27.619320Z",
     "end_time": "2023-11-03T15:18:27.628312Z"
    }
   }
  },
  {
   "cell_type": "code",
   "execution_count": 17,
   "outputs": [
    {
     "data": {
      "text/plain": "[('only', 1.2236594145948985),\n ('backers', 1.1569315615347686),\n ('for', 0.672754118608778),\n ('', 1e-05),\n ('', 1e-05),\n ('', 1e-05),\n ('', 1e-05),\n ('', 1e-05),\n ('', 1e-05),\n ('', 1e-05)]"
     },
     "execution_count": 17,
     "metadata": {},
     "output_type": "execute_result"
    }
   ],
   "source": [
    "topic_model.get_topic(1)"
   ],
   "metadata": {
    "collapsed": false,
    "ExecuteTime": {
     "start_time": "2023-11-03T15:19:19.695385Z",
     "end_time": "2023-11-03T15:19:19.697853Z"
    }
   }
  },
  {
   "cell_type": "code",
   "execution_count": null,
   "outputs": [],
   "source": [],
   "metadata": {
    "collapsed": false
   }
  }
 ],
 "metadata": {
  "kernelspec": {
   "display_name": "Python 3",
   "language": "python",
   "name": "python3"
  },
  "language_info": {
   "codemirror_mode": {
    "name": "ipython",
    "version": 2
   },
   "file_extension": ".py",
   "mimetype": "text/x-python",
   "name": "python",
   "nbconvert_exporter": "python",
   "pygments_lexer": "ipython2",
   "version": "2.7.6"
  }
 },
 "nbformat": 4,
 "nbformat_minor": 0
}
